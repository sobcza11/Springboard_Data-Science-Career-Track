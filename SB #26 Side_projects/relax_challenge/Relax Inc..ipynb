{
 "cells": [
  {
   "cell_type": "markdown",
   "metadata": {},
   "source": [
    "# Relax Inc."
   ]
  },
  {
   "cell_type": "markdown",
   "metadata": {},
   "source": [
    "**Imports**"
   ]
  },
  {
   "cell_type": "code",
   "execution_count": 458,
   "metadata": {},
   "outputs": [],
   "source": [
    "import re\n",
    "import string\n",
    "import requests\n",
    "import os\n",
    "import sys\n",
    "import statistics\n",
    "from scipy.stats import skew\n",
    "import numpy as np\n",
    "import pandas as pd\n",
    "import seaborn as sns\n",
    "from scipy import stats\n",
    "from pandas import DataFrame\n",
    "from datetime import datetime\n",
    "import matplotlib.pyplot as plt\n",
    "import matplotlib.colors as colors\n",
    "import matplotlib.dates as mdates\n",
    "import matplotlib.ticker as ticker\n",
    "from matplotlib.pyplot import figure\n",
    "from datetime import timedelta\n",
    "%matplotlib inline\n",
    "import xgboost\n",
    "from xgboost import XGBClassifier\n",
    "from sklearn.model_selection import train_test_split\n",
    "from sklearn.metrics import accuracy_score\n",
    "from sklearn.preprocessing import LabelEncoder\n",
    "from sklearn.preprocessing import StandardScaler\n",
    "\n",
    "import datetime\n",
    "import time\n",
    "import warnings\n",
    "warnings.filterwarnings(\"ignore\")\n",
    "\n",
    "from sklearn.model_selection import train_test_split\n",
    "from sklearn.ensemble import RandomForestClassifier\n",
    "from sklearn.metrics import classification_report, confusion_matrix\n",
    "\n",
    "%reload_ext watermark\n"
   ]
  },
  {
   "cell_type": "markdown",
   "metadata": {},
   "source": [
    "**Goal** \n",
    "\n",
    "Define an `adopted user` as:\n",
    "   1. A user who has logged into the product on three separate days in at least one sevenday period\n",
    "   2. Identify which factors predict future user adoption\n",
    "\n",
    "\n",
    "**Presentation**\n",
    "\n",
    "**Please send us a brief writeup of your findings (the more concise, the better no more than one page), along with any of the below that can help us understand your approach**:    \n",
    "   * Summary Tables;\n",
    "   * Graphs;\n",
    "   * Code; or\n",
    "   * Queries\n",
    "\n",
    "**Please note any factors you considered or investigation you did, even if they did not pan out. Feel free to identify any further research or data you think would be valuable.**\n",
    "\n",
    "<i>We suggest spending 12 hours on this, but you're welcome to spend more or less.</i>\n"
   ]
  },
  {
   "cell_type": "markdown",
   "metadata": {},
   "source": [
    "**Upload Data**"
   ]
  },
  {
   "cell_type": "code",
   "execution_count": 459,
   "metadata": {},
   "outputs": [
    {
     "name": "stdout",
     "output_type": "stream",
     "text": [
      "C:\\Users\\rands\n"
     ]
    }
   ],
   "source": [
    "cd"
   ]
  },
  {
   "cell_type": "code",
   "execution_count": 460,
   "metadata": {},
   "outputs": [
    {
     "name": "stdout",
     "output_type": "stream",
     "text": [
      "User Engagement Upload | Complete\n"
     ]
    }
   ],
   "source": [
    "engagement = pd.read_csv('./SB #26 Effective Interviewing for Data Scientists/relax_challenge/takehome_user_engagement.csv')\n",
    "print('User Engagement Upload | Complete')"
   ]
  },
  {
   "cell_type": "code",
   "execution_count": 461,
   "metadata": {},
   "outputs": [
    {
     "name": "stdout",
     "output_type": "stream",
     "text": [
      "Take Home Users Upload | Complete\n"
     ]
    }
   ],
   "source": [
    "users = pd.read_csv('./SB #26 Effective Interviewing for Data Scientists/relax_challenge/takehome_users.csv')\n",
    "print('Take Home Users Upload | Complete')"
   ]
  },
  {
   "cell_type": "markdown",
   "metadata": {},
   "source": [
    "**Data Explained** | `engagement`"
   ]
  },
  {
   "attachments": {
    "image.png": {
     "image/png": "[encoded data removed]"
    }
   },
   "cell_type": "markdown",
   "metadata": {},
   "source": [
    "![image.png](attachment:image.png)"
   ]
  },
  {
   "cell_type": "code",
   "execution_count": 462,
   "metadata": {},
   "outputs": [
    {
     "data": {
      "text/html": [
       "<div>\n",
       "<style scoped>\n",
       "    .dataframe tbody tr th:only-of-type {\n",
       "        vertical-align: middle;\n",
       "    }\n",
       "\n",
       "    .dataframe tbody tr th {\n",
       "        vertical-align: top;\n",
       "    }\n",
       "\n",
       "    .dataframe thead th {\n",
       "        text-align: right;\n",
       "    }\n",
       "</style>\n",
       "<table border=\"1\" class=\"dataframe\">\n",
       "  <thead>\n",
       "    <tr style=\"text-align: right;\">\n",
       "      <th></th>\n",
       "      <th>time_stamp</th>\n",
       "      <th>user_id</th>\n",
       "      <th>visited</th>\n",
       "    </tr>\n",
       "  </thead>\n",
       "  <tbody>\n",
       "    <tr>\n",
       "      <th>0</th>\n",
       "      <td>2014-04-22 03:53:30</td>\n",
       "      <td>1</td>\n",
       "      <td>1</td>\n",
       "    </tr>\n",
       "    <tr>\n",
       "      <th>1</th>\n",
       "      <td>2013-11-15 03:45:04</td>\n",
       "      <td>2</td>\n",
       "      <td>1</td>\n",
       "    </tr>\n",
       "  </tbody>\n",
       "</table>\n",
       "</div>"
      ],
      "text/plain": [
       "            time_stamp  user_id  visited\n",
       "0  2014-04-22 03:53:30        1        1\n",
       "1  2013-11-15 03:45:04        2        1"
      ]
     },
     "execution_count": 462,
     "metadata": {},
     "output_type": "execute_result"
    }
   ],
   "source": [
    "engagement.head(2)"
   ]
  },
  {
   "cell_type": "code",
   "execution_count": 463,
   "metadata": {},
   "outputs": [
    {
     "name": "stdout",
     "output_type": "stream",
     "text": [
      "<class 'pandas.core.frame.DataFrame'>\n",
      "RangeIndex: 207917 entries, 0 to 207916\n",
      "Data columns (total 3 columns):\n",
      " #   Column      Non-Null Count   Dtype \n",
      "---  ------      --------------   ----- \n",
      " 0   time_stamp  207917 non-null  object\n",
      " 1   user_id     207917 non-null  int64 \n",
      " 2   visited     207917 non-null  int64 \n",
      "dtypes: int64(2), object(1)\n",
      "memory usage: 4.8+ MB\n"
     ]
    }
   ],
   "source": [
    "engagement.info()"
   ]
  },
  {
   "cell_type": "markdown",
   "metadata": {},
   "source": [
    "Observations below:\n",
    "   * No null values\n",
    "   * `time_stamp` should be a date time object"
   ]
  },
  {
   "cell_type": "code",
   "execution_count": 464,
   "metadata": {},
   "outputs": [],
   "source": [
    "# converting time_stamp to date time object\n",
    "engagement['time_stamp'] = pd.to_datetime(engagement['time_stamp'])"
   ]
  },
  {
   "cell_type": "code",
   "execution_count": 465,
   "metadata": {},
   "outputs": [
    {
     "name": "stdout",
     "output_type": "stream",
     "text": [
      "<class 'pandas.core.frame.DataFrame'>\n",
      "RangeIndex: 207917 entries, 0 to 207916\n",
      "Data columns (total 3 columns):\n",
      " #   Column      Non-Null Count   Dtype         \n",
      "---  ------      --------------   -----         \n",
      " 0   time_stamp  207917 non-null  datetime64[ns]\n",
      " 1   user_id     207917 non-null  int64         \n",
      " 2   visited     207917 non-null  int64         \n",
      "dtypes: datetime64[ns](1), int64(2)\n",
      "memory usage: 4.8 MB\n"
     ]
    }
   ],
   "source": [
    "engagement.info(['time_stamp']) # engagement['time_stamp']"
   ]
  },
  {
   "cell_type": "code",
   "execution_count": 466,
   "metadata": {},
   "outputs": [
    {
     "data": {
      "text/plain": [
       "array([1], dtype=int64)"
      ]
     },
     "execution_count": 466,
     "metadata": {},
     "output_type": "execute_result"
    }
   ],
   "source": [
    "# visited is a clean 1\n",
    "engagement['visited'].unique()"
   ]
  },
  {
   "cell_type": "code",
   "execution_count": 467,
   "metadata": {},
   "outputs": [
    {
     "name": "stdout",
     "output_type": "stream",
     "text": [
      "We've got 8,823 unique users with 207,917 observations\n"
     ]
    }
   ],
   "source": [
    "# let's check the otheres\n",
    "users_u = engagement['user_id'].nunique()\n",
    "\n",
    "print('We\\'ve got {} unique users with {} observations'.format(\"{:,}\".format(users_u),\n",
    "                                                              \"{:,}\".format(engagement['visited'].sum())))"
   ]
  },
  {
   "cell_type": "markdown",
   "metadata": {},
   "source": [
    "As our goal is to determine if a user logged in on three (3) separate days in at least one sevenday (7) period; **we will then call them an adopted user.**\n",
    "\n",
    "We will call this a variable | `ad_user`"
   ]
  },
  {
   "cell_type": "code",
   "execution_count": 468,
   "metadata": {},
   "outputs": [],
   "source": [
    "# setting up the infastructure\n",
    "def logins_in_days(df, days=7, logins=3):\n",
    "    df['date'] = df['time_stamp'].dt.date\n",
    "    usage = df['date'].diff(periods=logins-1)\n",
    "    return any(usage <= timedelta(days=days))"
   ]
  },
  {
   "cell_type": "code",
   "execution_count": 469,
   "metadata": {},
   "outputs": [],
   "source": [
    "# sending it a seperate dataframe\n",
    "ad_user_df = pd.DataFrame([])\n",
    "ad_user_df = pd.DataFrame(engagement.groupby('user_id').apply(logins_in_days))\n",
    "ad_user_df.columns = ['ad_user']"
   ]
  },
  {
   "cell_type": "code",
   "execution_count": 470,
   "metadata": {},
   "outputs": [
    {
     "name": "stdout",
     "output_type": "stream",
     "text": [
      "Out of the 8823 users, 18.77% were adopted representing 1656 in total\n"
     ]
    }
   ],
   "source": [
    "ad_user_t = (sum(ad_user_df['ad_user']))\n",
    "ad_user_p = '{:,.2f}%'.format(((ad_user_t / users_u)) * 100)\n",
    "print('Out of the {} users, {} were adopted representing {} in total'.format(users_u,ad_user_p,ad_user_t))"
   ]
  },
  {
   "cell_type": "markdown",
   "metadata": {},
   "source": [
    "**Complete**; we will send to Exploratory Data Analysis (EDA) but first review the `users` data frame."
   ]
  },
  {
   "cell_type": "code",
   "execution_count": null,
   "metadata": {},
   "outputs": [],
   "source": []
  },
  {
   "cell_type": "markdown",
   "metadata": {},
   "source": [
    "**Data Explained** | `users`"
   ]
  },
  {
   "attachments": {
    "image.png": {
     "image/png": "[encoded data removed]"
    }
   },
   "cell_type": "markdown",
   "metadata": {},
   "source": [
    "![image.png](attachment:image.png)"
   ]
  },
  {
   "cell_type": "code",
   "execution_count": 471,
   "metadata": {},
   "outputs": [
    {
     "data": {
      "text/html": [
       "<div>\n",
       "<style scoped>\n",
       "    .dataframe tbody tr th:only-of-type {\n",
       "        vertical-align: middle;\n",
       "    }\n",
       "\n",
       "    .dataframe tbody tr th {\n",
       "        vertical-align: top;\n",
       "    }\n",
       "\n",
       "    .dataframe thead th {\n",
       "        text-align: right;\n",
       "    }\n",
       "</style>\n",
       "<table border=\"1\" class=\"dataframe\">\n",
       "  <thead>\n",
       "    <tr style=\"text-align: right;\">\n",
       "      <th></th>\n",
       "      <th>object_id</th>\n",
       "      <th>creation_time</th>\n",
       "      <th>name</th>\n",
       "      <th>email</th>\n",
       "      <th>creation_source</th>\n",
       "      <th>creation_source_#</th>\n",
       "      <th>last_session_creation_time</th>\n",
       "      <th>opted_in_to_mailing_list</th>\n",
       "      <th>enabled_for_marketing_drip</th>\n",
       "      <th>org_id</th>\n",
       "      <th>invited_by_user_id</th>\n",
       "    </tr>\n",
       "  </thead>\n",
       "  <tbody>\n",
       "    <tr>\n",
       "      <th>0</th>\n",
       "      <td>1</td>\n",
       "      <td>4/22/2014 3:53</td>\n",
       "      <td>Clausen August</td>\n",
       "      <td>AugustCClausen@yahoo.com</td>\n",
       "      <td>GUEST_INVITE</td>\n",
       "      <td>1</td>\n",
       "      <td>1.398139e+09</td>\n",
       "      <td>1</td>\n",
       "      <td>0</td>\n",
       "      <td>11</td>\n",
       "      <td>10803.0</td>\n",
       "    </tr>\n",
       "    <tr>\n",
       "      <th>1</th>\n",
       "      <td>4</td>\n",
       "      <td>5/21/2013 8:09</td>\n",
       "      <td>Clausen Nicklas</td>\n",
       "      <td>NicklasSClausen@yahoo.com</td>\n",
       "      <td>GUEST_INVITE</td>\n",
       "      <td>1</td>\n",
       "      <td>1.369210e+09</td>\n",
       "      <td>0</td>\n",
       "      <td>0</td>\n",
       "      <td>1</td>\n",
       "      <td>5151.0</td>\n",
       "    </tr>\n",
       "  </tbody>\n",
       "</table>\n",
       "</div>"
      ],
      "text/plain": [
       "   object_id   creation_time             name                      email  \\\n",
       "0          1  4/22/2014 3:53   Clausen August   AugustCClausen@yahoo.com   \n",
       "1          4  5/21/2013 8:09  Clausen Nicklas  NicklasSClausen@yahoo.com   \n",
       "\n",
       "  creation_source  creation_source_#  last_session_creation_time  \\\n",
       "0    GUEST_INVITE                  1                1.398139e+09   \n",
       "1    GUEST_INVITE                  1                1.369210e+09   \n",
       "\n",
       "   opted_in_to_mailing_list  enabled_for_marketing_drip  org_id  \\\n",
       "0                         1                           0      11   \n",
       "1                         0                           0       1   \n",
       "\n",
       "   invited_by_user_id  \n",
       "0             10803.0  \n",
       "1              5151.0  "
      ]
     },
     "execution_count": 471,
     "metadata": {},
     "output_type": "execute_result"
    }
   ],
   "source": [
    "users.head(2)"
   ]
  },
  {
   "cell_type": "code",
   "execution_count": 472,
   "metadata": {},
   "outputs": [
    {
     "name": "stdout",
     "output_type": "stream",
     "text": [
      "<class 'pandas.core.frame.DataFrame'>\n",
      "RangeIndex: 12000 entries, 0 to 11999\n",
      "Data columns (total 11 columns):\n",
      " #   Column                      Non-Null Count  Dtype  \n",
      "---  ------                      --------------  -----  \n",
      " 0   object_id                   12000 non-null  int64  \n",
      " 1   creation_time               12000 non-null  object \n",
      " 2   name                        12000 non-null  object \n",
      " 3   email                       12000 non-null  object \n",
      " 4   creation_source             12000 non-null  object \n",
      " 5   creation_source_#           12000 non-null  int64  \n",
      " 6   last_session_creation_time  8823 non-null   float64\n",
      " 7   opted_in_to_mailing_list    12000 non-null  int64  \n",
      " 8   enabled_for_marketing_drip  12000 non-null  int64  \n",
      " 9   org_id                      12000 non-null  int64  \n",
      " 10  invited_by_user_id          6417 non-null   float64\n",
      "dtypes: float64(2), int64(5), object(4)\n",
      "memory usage: 1.0+ MB\n"
     ]
    }
   ],
   "source": [
    "users.info()"
   ]
  },
  {
   "cell_type": "markdown",
   "metadata": {},
   "source": [
    "Convert the `creation_time` & `last_session_creation_time` to date time objects; the second of which is said to be in unix format."
   ]
  },
  {
   "cell_type": "code",
   "execution_count": 473,
   "metadata": {},
   "outputs": [],
   "source": [
    "# converting creation_time to date time object\n",
    "users['creation_time'] = pd.to_datetime(users['creation_time'])"
   ]
  },
  {
   "cell_type": "markdown",
   "metadata": {},
   "source": [
    "Let's take a look at `last_session_creation_time` on a seperate dataframe to double confirm the information about it's unix format is correct."
   ]
  },
  {
   "cell_type": "code",
   "execution_count": 474,
   "metadata": {},
   "outputs": [],
   "source": [
    "# setting up a temp dataframe to mitigate disruption on the orginal\n",
    "users_temp = pd.DataFrame([])\n",
    "users_temp = users.copy()"
   ]
  },
  {
   "cell_type": "code",
   "execution_count": 475,
   "metadata": {},
   "outputs": [],
   "source": [
    "# converting the last_session_creation_time to date time\n",
    "users_temp['last_session_creation_time'] = pd.to_datetime(users_temp['last_session_creation_time'],unit='s')"
   ]
  },
  {
   "cell_type": "markdown",
   "metadata": {},
   "source": [
    "Let's now assess adopted users herein."
   ]
  },
  {
   "cell_type": "code",
   "execution_count": 476,
   "metadata": {},
   "outputs": [],
   "source": [
    "# making sure we can play with time stamps for connecting engagement with users\n",
    "engagement.time_stamp = pd.to_datetime(engagement.time_stamp)\n",
    "engagement = engagement.set_index('time_stamp', drop= True)\n",
    "\n",
    "# here we will run over the difference between the 1 to 3 days\n",
    "def adopted(x):    \n",
    "    a = 0\n",
    "    def_temp = engagement.loc[engagement['user_id'] == x]\n",
    "    def_temp = def_temp.resample('D').mean().dropna()\n",
    "\n",
    "    for i in range(len(def_temp)-2): # making sure this stays in the bounds\n",
    "        if def_temp.index[i + 2] - def_temp.index[i] <= timedelta(days=7):\n",
    "            a = 1\n",
    "            break\n",
    "        else:\n",
    "            a = 0\n",
    "    return a\n"
   ]
  },
  {
   "cell_type": "code",
   "execution_count": 477,
   "metadata": {},
   "outputs": [],
   "source": [
    "# connect engagement with users\n",
    "users_temp['u_adopted'] = users_temp['object_id'].apply(adopted)"
   ]
  },
  {
   "cell_type": "markdown",
   "metadata": {},
   "source": [
    "Let's check to see if it makes sense; we will look at the difference between:\n",
    "   * **last_session_creation_time** <i>minus</i> **creation_time**"
   ]
  },
  {
   "cell_type": "code",
   "execution_count": 478,
   "metadata": {},
   "outputs": [],
   "source": [
    "users_temp['diff'] = (users_temp['last_session_creation_time'] - users_temp['creation_time'])"
   ]
  },
  {
   "cell_type": "code",
   "execution_count": 479,
   "metadata": {},
   "outputs": [],
   "source": [
    "# pulling only the number of days\n",
    "i = 0\n",
    "dys_diff = []\n",
    "for i in range(len(users_temp)):\n",
    "    app = users_temp['diff'][i].days\n",
    "    i += 1\n",
    "    dys_diff.append(app)"
   ]
  },
  {
   "cell_type": "code",
   "execution_count": 480,
   "metadata": {},
   "outputs": [],
   "source": [
    "#sending to a pandas data frame\n",
    "dys_diff_df_col = pd.DataFrame([])\n",
    "dys_diff_df_col = pd.DataFrame([dys_diff])\n",
    "dys_diff_df_col = dys_diff_df_col.T\n",
    "dys_diff_df_col.columns = ['dys_diff']"
   ]
  },
  {
   "cell_type": "code",
   "execution_count": 481,
   "metadata": {},
   "outputs": [
    {
     "name": "stdout",
     "output_type": "stream",
     "text": [
      "<class 'pandas.core.frame.DataFrame'> 12000\n"
     ]
    }
   ],
   "source": [
    "print(type(dys_diff_df_col), len(dys_diff_df_col))"
   ]
  },
  {
   "cell_type": "code",
   "execution_count": 482,
   "metadata": {},
   "outputs": [],
   "source": [
    "# sending it the temp user's data frame\n",
    "users_temp['dys_diff'] = dys_diff_df_col['dys_diff']"
   ]
  },
  {
   "cell_type": "code",
   "execution_count": 483,
   "metadata": {},
   "outputs": [
    {
     "data": {
      "text/html": [
       "<div>\n",
       "<style scoped>\n",
       "    .dataframe tbody tr th:only-of-type {\n",
       "        vertical-align: middle;\n",
       "    }\n",
       "\n",
       "    .dataframe tbody tr th {\n",
       "        vertical-align: top;\n",
       "    }\n",
       "\n",
       "    .dataframe thead th {\n",
       "        text-align: right;\n",
       "    }\n",
       "</style>\n",
       "<table border=\"1\" class=\"dataframe\">\n",
       "  <thead>\n",
       "    <tr style=\"text-align: right;\">\n",
       "      <th></th>\n",
       "      <th>object_id</th>\n",
       "      <th>creation_time</th>\n",
       "      <th>name</th>\n",
       "      <th>email</th>\n",
       "      <th>creation_source</th>\n",
       "      <th>creation_source_#</th>\n",
       "      <th>last_session_creation_time</th>\n",
       "      <th>opted_in_to_mailing_list</th>\n",
       "      <th>enabled_for_marketing_drip</th>\n",
       "      <th>org_id</th>\n",
       "      <th>invited_by_user_id</th>\n",
       "      <th>u_adopted</th>\n",
       "      <th>diff</th>\n",
       "      <th>dys_diff</th>\n",
       "    </tr>\n",
       "  </thead>\n",
       "  <tbody>\n",
       "    <tr>\n",
       "      <th>0</th>\n",
       "      <td>1</td>\n",
       "      <td>2014-04-22 03:53:00</td>\n",
       "      <td>Clausen August</td>\n",
       "      <td>AugustCClausen@yahoo.com</td>\n",
       "      <td>GUEST_INVITE</td>\n",
       "      <td>1</td>\n",
       "      <td>2014-04-22 03:53:30</td>\n",
       "      <td>1</td>\n",
       "      <td>0</td>\n",
       "      <td>11</td>\n",
       "      <td>10803.0</td>\n",
       "      <td>0</td>\n",
       "      <td>0 days 00:00:30</td>\n",
       "      <td>0.0</td>\n",
       "    </tr>\n",
       "    <tr>\n",
       "      <th>1</th>\n",
       "      <td>4</td>\n",
       "      <td>2013-05-21 08:09:00</td>\n",
       "      <td>Clausen Nicklas</td>\n",
       "      <td>NicklasSClausen@yahoo.com</td>\n",
       "      <td>GUEST_INVITE</td>\n",
       "      <td>1</td>\n",
       "      <td>2013-05-22 08:09:28</td>\n",
       "      <td>0</td>\n",
       "      <td>0</td>\n",
       "      <td>1</td>\n",
       "      <td>5151.0</td>\n",
       "      <td>0</td>\n",
       "      <td>1 days 00:00:28</td>\n",
       "      <td>1.0</td>\n",
       "    </tr>\n",
       "    <tr>\n",
       "      <th>2</th>\n",
       "      <td>5</td>\n",
       "      <td>2013-01-17 10:14:00</td>\n",
       "      <td>Raw Grace</td>\n",
       "      <td>GraceRaw@yahoo.com</td>\n",
       "      <td>GUEST_INVITE</td>\n",
       "      <td>1</td>\n",
       "      <td>2013-01-22 10:14:20</td>\n",
       "      <td>0</td>\n",
       "      <td>0</td>\n",
       "      <td>193</td>\n",
       "      <td>5240.0</td>\n",
       "      <td>0</td>\n",
       "      <td>5 days 00:00:20</td>\n",
       "      <td>5.0</td>\n",
       "    </tr>\n",
       "  </tbody>\n",
       "</table>\n",
       "</div>"
      ],
      "text/plain": [
       "   object_id       creation_time             name                      email  \\\n",
       "0          1 2014-04-22 03:53:00   Clausen August   AugustCClausen@yahoo.com   \n",
       "1          4 2013-05-21 08:09:00  Clausen Nicklas  NicklasSClausen@yahoo.com   \n",
       "2          5 2013-01-17 10:14:00        Raw Grace         GraceRaw@yahoo.com   \n",
       "\n",
       "  creation_source  creation_source_# last_session_creation_time  \\\n",
       "0    GUEST_INVITE                  1        2014-04-22 03:53:30   \n",
       "1    GUEST_INVITE                  1        2013-05-22 08:09:28   \n",
       "2    GUEST_INVITE                  1        2013-01-22 10:14:20   \n",
       "\n",
       "   opted_in_to_mailing_list  enabled_for_marketing_drip  org_id  \\\n",
       "0                         1                           0      11   \n",
       "1                         0                           0       1   \n",
       "2                         0                           0     193   \n",
       "\n",
       "   invited_by_user_id  u_adopted            diff  dys_diff  \n",
       "0             10803.0          0 0 days 00:00:30       0.0  \n",
       "1              5151.0          0 1 days 00:00:28       1.0  \n",
       "2              5240.0          0 5 days 00:00:20       5.0  "
      ]
     },
     "execution_count": 483,
     "metadata": {},
     "output_type": "execute_result"
    }
   ],
   "source": [
    "users_temp.head(3)"
   ]
  },
  {
   "cell_type": "code",
   "execution_count": 484,
   "metadata": {},
   "outputs": [
    {
     "data": {
      "text/plain": [
       "Text(0.5, 1.0, 'Difference in Days between Account Created & the Last Login')"
      ]
     },
     "execution_count": 484,
     "metadata": {},
     "output_type": "execute_result"
    },
    {
     "data": {
      "image/png": "[encoded data removed]",
      "text/plain": [
       "<Figure size 960x640 with 1 Axes>"
      ]
     },
     "metadata": {
      "needs_background": "light"
     },
     "output_type": "display_data"
    }
   ],
   "source": [
    "figure(figsize=(12,8), dpi=80)\n",
    "sns.histplot(data=users_temp, x=\"dys_diff\", bins=10)\n",
    "plt.xlabel('Bins', fontsize=12)\n",
    "plt.ylabel('Observations', fontsize=12)\n",
    "plt.title('Difference in Days between Account Created & the Last Login', fontsize=15)"
   ]
  },
  {
   "cell_type": "markdown",
   "metadata": {},
   "source": [
    "Looks ok; we convert the `last_session_creation_time` to a **date time** object."
   ]
  },
  {
   "cell_type": "code",
   "execution_count": 488,
   "metadata": {},
   "outputs": [],
   "source": [
    "users['last_session_creation_time'] = users_temp['last_session_creation_time']"
   ]
  },
  {
   "cell_type": "markdown",
   "metadata": {},
   "source": [
    "Let's also bring in the new variables."
   ]
  },
  {
   "cell_type": "code",
   "execution_count": 491,
   "metadata": {},
   "outputs": [],
   "source": [
    "users = pd.concat([users,users_temp['diff'],users_temp['dys_diff'],users_temp['u_adopted']],axis=1,ignore_index=False)"
   ]
  },
  {
   "cell_type": "code",
   "execution_count": 493,
   "metadata": {},
   "outputs": [
    {
     "data": {
      "text/html": [
       "<div>\n",
       "<style scoped>\n",
       "    .dataframe tbody tr th:only-of-type {\n",
       "        vertical-align: middle;\n",
       "    }\n",
       "\n",
       "    .dataframe tbody tr th {\n",
       "        vertical-align: top;\n",
       "    }\n",
       "\n",
       "    .dataframe thead th {\n",
       "        text-align: right;\n",
       "    }\n",
       "</style>\n",
       "<table border=\"1\" class=\"dataframe\">\n",
       "  <thead>\n",
       "    <tr style=\"text-align: right;\">\n",
       "      <th></th>\n",
       "      <th>object_id</th>\n",
       "      <th>creation_time</th>\n",
       "      <th>name</th>\n",
       "      <th>email</th>\n",
       "      <th>creation_source</th>\n",
       "      <th>creation_source_#</th>\n",
       "      <th>last_session_creation_time</th>\n",
       "      <th>opted_in_to_mailing_list</th>\n",
       "      <th>enabled_for_marketing_drip</th>\n",
       "      <th>org_id</th>\n",
       "      <th>invited_by_user_id</th>\n",
       "      <th>diff</th>\n",
       "      <th>dys_diff</th>\n",
       "      <th>u_adopted</th>\n",
       "    </tr>\n",
       "  </thead>\n",
       "  <tbody>\n",
       "    <tr>\n",
       "      <th>0</th>\n",
       "      <td>1</td>\n",
       "      <td>2014-04-22 03:53:00</td>\n",
       "      <td>Clausen August</td>\n",
       "      <td>AugustCClausen@yahoo.com</td>\n",
       "      <td>GUEST_INVITE</td>\n",
       "      <td>1</td>\n",
       "      <td>2014-04-22 03:53:30</td>\n",
       "      <td>1</td>\n",
       "      <td>0</td>\n",
       "      <td>11</td>\n",
       "      <td>10803.0</td>\n",
       "      <td>0 days 00:00:30</td>\n",
       "      <td>0.0</td>\n",
       "      <td>0</td>\n",
       "    </tr>\n",
       "    <tr>\n",
       "      <th>1</th>\n",
       "      <td>4</td>\n",
       "      <td>2013-05-21 08:09:00</td>\n",
       "      <td>Clausen Nicklas</td>\n",
       "      <td>NicklasSClausen@yahoo.com</td>\n",
       "      <td>GUEST_INVITE</td>\n",
       "      <td>1</td>\n",
       "      <td>2013-05-22 08:09:28</td>\n",
       "      <td>0</td>\n",
       "      <td>0</td>\n",
       "      <td>1</td>\n",
       "      <td>5151.0</td>\n",
       "      <td>1 days 00:00:28</td>\n",
       "      <td>1.0</td>\n",
       "      <td>0</td>\n",
       "    </tr>\n",
       "    <tr>\n",
       "      <th>2</th>\n",
       "      <td>5</td>\n",
       "      <td>2013-01-17 10:14:00</td>\n",
       "      <td>Raw Grace</td>\n",
       "      <td>GraceRaw@yahoo.com</td>\n",
       "      <td>GUEST_INVITE</td>\n",
       "      <td>1</td>\n",
       "      <td>2013-01-22 10:14:20</td>\n",
       "      <td>0</td>\n",
       "      <td>0</td>\n",
       "      <td>193</td>\n",
       "      <td>5240.0</td>\n",
       "      <td>5 days 00:00:20</td>\n",
       "      <td>5.0</td>\n",
       "      <td>0</td>\n",
       "    </tr>\n",
       "    <tr>\n",
       "      <th>3</th>\n",
       "      <td>6</td>\n",
       "      <td>2013-12-17 03:37:00</td>\n",
       "      <td>Cunha Eduardo</td>\n",
       "      <td>EduardoPereiraCunha@yahoo.com</td>\n",
       "      <td>GUEST_INVITE</td>\n",
       "      <td>1</td>\n",
       "      <td>2013-12-19 03:37:06</td>\n",
       "      <td>0</td>\n",
       "      <td>0</td>\n",
       "      <td>197</td>\n",
       "      <td>11241.0</td>\n",
       "      <td>2 days 00:00:06</td>\n",
       "      <td>2.0</td>\n",
       "      <td>0</td>\n",
       "    </tr>\n",
       "    <tr>\n",
       "      <th>4</th>\n",
       "      <td>17</td>\n",
       "      <td>2014-04-09 14:39:00</td>\n",
       "      <td>Reynolds Anthony</td>\n",
       "      <td>AnthonyReynolds@jourrapide.com</td>\n",
       "      <td>GUEST_INVITE</td>\n",
       "      <td>1</td>\n",
       "      <td>2014-04-12 14:39:38</td>\n",
       "      <td>1</td>\n",
       "      <td>0</td>\n",
       "      <td>175</td>\n",
       "      <td>1600.0</td>\n",
       "      <td>3 days 00:00:38</td>\n",
       "      <td>3.0</td>\n",
       "      <td>0</td>\n",
       "    </tr>\n",
       "    <tr>\n",
       "      <th>5</th>\n",
       "      <td>18</td>\n",
       "      <td>2013-08-24 00:26:00</td>\n",
       "      <td>Gregersen Celina</td>\n",
       "      <td>CelinaAGregersen@jourrapide.com</td>\n",
       "      <td>GUEST_INVITE</td>\n",
       "      <td>1</td>\n",
       "      <td>NaT</td>\n",
       "      <td>0</td>\n",
       "      <td>0</td>\n",
       "      <td>2</td>\n",
       "      <td>3153.0</td>\n",
       "      <td>NaT</td>\n",
       "      <td>NaN</td>\n",
       "      <td>0</td>\n",
       "    </tr>\n",
       "  </tbody>\n",
       "</table>\n",
       "</div>"
      ],
      "text/plain": [
       "   object_id       creation_time              name  \\\n",
       "0          1 2014-04-22 03:53:00    Clausen August   \n",
       "1          4 2013-05-21 08:09:00   Clausen Nicklas   \n",
       "2          5 2013-01-17 10:14:00         Raw Grace   \n",
       "3          6 2013-12-17 03:37:00     Cunha Eduardo   \n",
       "4         17 2014-04-09 14:39:00  Reynolds Anthony   \n",
       "5         18 2013-08-24 00:26:00  Gregersen Celina   \n",
       "\n",
       "                             email creation_source  creation_source_#  \\\n",
       "0         AugustCClausen@yahoo.com    GUEST_INVITE                  1   \n",
       "1        NicklasSClausen@yahoo.com    GUEST_INVITE                  1   \n",
       "2               GraceRaw@yahoo.com    GUEST_INVITE                  1   \n",
       "3    EduardoPereiraCunha@yahoo.com    GUEST_INVITE                  1   \n",
       "4   AnthonyReynolds@jourrapide.com    GUEST_INVITE                  1   \n",
       "5  CelinaAGregersen@jourrapide.com    GUEST_INVITE                  1   \n",
       "\n",
       "  last_session_creation_time  opted_in_to_mailing_list  \\\n",
       "0        2014-04-22 03:53:30                         1   \n",
       "1        2013-05-22 08:09:28                         0   \n",
       "2        2013-01-22 10:14:20                         0   \n",
       "3        2013-12-19 03:37:06                         0   \n",
       "4        2014-04-12 14:39:38                         1   \n",
       "5                        NaT                         0   \n",
       "\n",
       "   enabled_for_marketing_drip  org_id  invited_by_user_id            diff  \\\n",
       "0                           0      11             10803.0 0 days 00:00:30   \n",
       "1                           0       1              5151.0 1 days 00:00:28   \n",
       "2                           0     193              5240.0 5 days 00:00:20   \n",
       "3                           0     197             11241.0 2 days 00:00:06   \n",
       "4                           0     175              1600.0 3 days 00:00:38   \n",
       "5                           0       2              3153.0             NaT   \n",
       "\n",
       "   dys_diff  u_adopted  \n",
       "0       0.0          0  \n",
       "1       1.0          0  \n",
       "2       5.0          0  \n",
       "3       2.0          0  \n",
       "4       3.0          0  \n",
       "5       NaN          0  "
      ]
     },
     "execution_count": 493,
     "metadata": {},
     "output_type": "execute_result"
    }
   ],
   "source": [
    "users.head(6)"
   ]
  },
  {
   "cell_type": "code",
   "execution_count": 494,
   "metadata": {},
   "outputs": [
    {
     "name": "stdout",
     "output_type": "stream",
     "text": [
      "The last_session_creation_time has 3177 null values; 26.50% of the dataframe; we will remove them before modeling.\n"
     ]
    }
   ],
   "source": [
    "lsct_null = users['last_session_creation_time'].isnull().sum()\n",
    "lsct_p = '{:,.2f}%'.format(round(((lsct_null/len(users))*100),1))\n",
    "print('The last_session_creation_time has {} null values; {} of the dataframe; we will remove them before modeling.'.format(lsct_null,lsct_p))"
   ]
  },
  {
   "cell_type": "code",
   "execution_count": 495,
   "metadata": {},
   "outputs": [],
   "source": [
    "# setting up a new dataframe for modeling \n",
    "users_mod = users.copy()\n",
    "users_mod.dropna(subset = [\"last_session_creation_time\"], inplace=True)"
   ]
  },
  {
   "cell_type": "code",
   "execution_count": 496,
   "metadata": {},
   "outputs": [
    {
     "name": "stdout",
     "output_type": "stream",
     "text": [
      "0 | We should have Zero null values\n"
     ]
    }
   ],
   "source": [
    "# checking to see if it worked\n",
    "print(users_mod['last_session_creation_time'].isnull().sum(), '| We should have Zero null values')"
   ]
  },
  {
   "cell_type": "markdown",
   "metadata": {},
   "source": [
    "**Modeling**"
   ]
  },
  {
   "cell_type": "markdown",
   "metadata": {},
   "source": [
    "We will now turn to our favorite family, the Scikit-learn family, to build out categorical features."
   ]
  },
  {
   "cell_type": "code",
   "execution_count": 498,
   "metadata": {},
   "outputs": [
    {
     "name": "stdout",
     "output_type": "stream",
     "text": [
      "<class 'pandas.core.frame.DataFrame'>\n",
      "Int64Index: 8823 entries, 0 to 11999\n",
      "Data columns (total 14 columns):\n",
      " #   Column                      Non-Null Count  Dtype          \n",
      "---  ------                      --------------  -----          \n",
      " 0   object_id                   8823 non-null   int64          \n",
      " 1   creation_time               8823 non-null   datetime64[ns] \n",
      " 2   name                        8823 non-null   object         \n",
      " 3   email                       8823 non-null   object         \n",
      " 4   creation_source             8823 non-null   object         \n",
      " 5   creation_source_#           8823 non-null   int64          \n",
      " 6   last_session_creation_time  8823 non-null   datetime64[ns] \n",
      " 7   opted_in_to_mailing_list    8823 non-null   int64          \n",
      " 8   enabled_for_marketing_drip  8823 non-null   int64          \n",
      " 9   org_id                      8823 non-null   int64          \n",
      " 10  invited_by_user_id          4776 non-null   float64        \n",
      " 11  diff                        8823 non-null   timedelta64[ns]\n",
      " 12  dys_diff                    8823 non-null   float64        \n",
      " 13  u_adopted                   8823 non-null   int64          \n",
      "dtypes: datetime64[ns](2), float64(2), int64(6), object(3), timedelta64[ns](1)\n",
      "memory usage: 1.0+ MB\n"
     ]
    }
   ],
   "source": [
    "users_mod.info()"
   ]
  },
  {
   "cell_type": "markdown",
   "metadata": {},
   "source": [
    "We will now build out a categorical dataframe."
   ]
  },
  {
   "cell_type": "code",
   "execution_count": 499,
   "metadata": {},
   "outputs": [],
   "source": [
    "users_mod_cat = pd.DataFrame([])\n",
    "users_mod_cat = users_mod[['creation_source', 'opted_in_to_mailing_list',\n",
    "                           'enabled_for_marketing_drip', 'org_id','invited_by_user_id', 'dys_diff','u_adopted']]"
   ]
  },
  {
   "cell_type": "code",
   "execution_count": 500,
   "metadata": {},
   "outputs": [],
   "source": [
    "sk_le = LabelEncoder()\n",
    "\n",
    "org_id_l = sk_le.fit_transform(users_mod['org_id'])\n",
    "users_mod_cat.org_id = org_id_l\n",
    "\n",
    "creation_l = sk_le.fit_transform(users_mod['creation_source'])\n",
    "users_mod_cat.creation_source = creation_l\n",
    "\n",
    "invited_l = sk_le.fit_transform(users_mod['invited_by_user_id'])\n",
    "users_mod_cat.org_id = invited_l"
   ]
  },
  {
   "cell_type": "code",
   "execution_count": 501,
   "metadata": {},
   "outputs": [
    {
     "data": {
      "text/html": [
       "<div>\n",
       "<style scoped>\n",
       "    .dataframe tbody tr th:only-of-type {\n",
       "        vertical-align: middle;\n",
       "    }\n",
       "\n",
       "    .dataframe tbody tr th {\n",
       "        vertical-align: top;\n",
       "    }\n",
       "\n",
       "    .dataframe thead th {\n",
       "        text-align: right;\n",
       "    }\n",
       "</style>\n",
       "<table border=\"1\" class=\"dataframe\">\n",
       "  <thead>\n",
       "    <tr style=\"text-align: right;\">\n",
       "      <th></th>\n",
       "      <th>creation_source</th>\n",
       "      <th>opted_in_to_mailing_list</th>\n",
       "      <th>enabled_for_marketing_drip</th>\n",
       "      <th>org_id</th>\n",
       "      <th>invited_by_user_id</th>\n",
       "      <th>dys_diff</th>\n",
       "      <th>u_adopted</th>\n",
       "    </tr>\n",
       "  </thead>\n",
       "  <tbody>\n",
       "    <tr>\n",
       "      <th>0</th>\n",
       "      <td>0</td>\n",
       "      <td>1</td>\n",
       "      <td>0</td>\n",
       "      <td>2023</td>\n",
       "      <td>10803.0</td>\n",
       "      <td>0.0</td>\n",
       "      <td>0</td>\n",
       "    </tr>\n",
       "    <tr>\n",
       "      <th>1</th>\n",
       "      <td>0</td>\n",
       "      <td>0</td>\n",
       "      <td>0</td>\n",
       "      <td>966</td>\n",
       "      <td>5151.0</td>\n",
       "      <td>1.0</td>\n",
       "      <td>0</td>\n",
       "    </tr>\n",
       "    <tr>\n",
       "      <th>2</th>\n",
       "      <td>0</td>\n",
       "      <td>0</td>\n",
       "      <td>0</td>\n",
       "      <td>983</td>\n",
       "      <td>5240.0</td>\n",
       "      <td>5.0</td>\n",
       "      <td>0</td>\n",
       "    </tr>\n",
       "  </tbody>\n",
       "</table>\n",
       "</div>"
      ],
      "text/plain": [
       "   creation_source  opted_in_to_mailing_list  enabled_for_marketing_drip  \\\n",
       "0                0                         1                           0   \n",
       "1                0                         0                           0   \n",
       "2                0                         0                           0   \n",
       "\n",
       "   org_id  invited_by_user_id  dys_diff  u_adopted  \n",
       "0    2023             10803.0       0.0          0  \n",
       "1     966              5151.0       1.0          0  \n",
       "2     983              5240.0       5.0          0  "
      ]
     },
     "execution_count": 501,
     "metadata": {},
     "output_type": "execute_result"
    }
   ],
   "source": [
    "users_mod_cat.head(3)"
   ]
  },
  {
   "cell_type": "markdown",
   "metadata": {},
   "source": [
    "Let's now bring in some other members of the Scikit-learn family to build out a classifier model.\n",
    "\n",
    "To begin any machine learning exercise we will need to split.\n",
    "\n",
    "Before we do that, let's check for NaN's."
   ]
  },
  {
   "cell_type": "code",
   "execution_count": 502,
   "metadata": {},
   "outputs": [
    {
     "name": "stdout",
     "output_type": "stream",
     "text": [
      "<class 'pandas.core.frame.DataFrame'>\n",
      "Int64Index: 8823 entries, 0 to 11999\n",
      "Data columns (total 7 columns):\n",
      " #   Column                      Non-Null Count  Dtype  \n",
      "---  ------                      --------------  -----  \n",
      " 0   creation_source             8823 non-null   int32  \n",
      " 1   opted_in_to_mailing_list    8823 non-null   int64  \n",
      " 2   enabled_for_marketing_drip  8823 non-null   int64  \n",
      " 3   org_id                      8823 non-null   int64  \n",
      " 4   invited_by_user_id          4776 non-null   float64\n",
      " 5   dys_diff                    8823 non-null   float64\n",
      " 6   u_adopted                   8823 non-null   int64  \n",
      "dtypes: float64(2), int32(1), int64(4)\n",
      "memory usage: 517.0 KB\n"
     ]
    }
   ],
   "source": [
    "users_mod_cat.info()"
   ]
  },
  {
   "cell_type": "markdown",
   "metadata": {},
   "source": [
    "`invited_by_user_id` has Nulls but this may be important. Let's check what **user_id** numbers we have."
   ]
  },
  {
   "cell_type": "code",
   "execution_count": 503,
   "metadata": {},
   "outputs": [
    {
     "name": "stdout",
     "output_type": "stream",
     "text": [
      "There's 2229 different user_ids & a max of 11999.0 so we'll fill Nulls w/ the value of 12000.0\n"
     ]
    }
   ],
   "source": [
    "id_uni = users_mod_cat['invited_by_user_id'].nunique()\n",
    "id_n_max = users_mod_cat['invited_by_user_id'].max()\n",
    "id_uni_new = id_n_max + 1\n",
    "print('There\\'s {} different user_ids & a max of {} so we\\'ll fill Nulls w/ the value of {}'.format(id_uni,id_n_max,id_uni_new))"
   ]
  },
  {
   "cell_type": "code",
   "execution_count": 504,
   "metadata": {},
   "outputs": [],
   "source": [
    "users_mod_cat['invited_by_user_id'] = users_mod_cat['invited_by_user_id'].fillna(id_uni_new)"
   ]
  },
  {
   "cell_type": "code",
   "execution_count": 505,
   "metadata": {},
   "outputs": [
    {
     "name": "stdout",
     "output_type": "stream",
     "text": [
      "<class 'pandas.core.frame.DataFrame'>\n",
      "Int64Index: 8823 entries, 0 to 11999\n",
      "Data columns (total 7 columns):\n",
      " #   Column                      Non-Null Count  Dtype  \n",
      "---  ------                      --------------  -----  \n",
      " 0   creation_source             8823 non-null   int32  \n",
      " 1   opted_in_to_mailing_list    8823 non-null   int64  \n",
      " 2   enabled_for_marketing_drip  8823 non-null   int64  \n",
      " 3   org_id                      8823 non-null   int64  \n",
      " 4   invited_by_user_id          8823 non-null   float64\n",
      " 5   dys_diff                    8823 non-null   float64\n",
      " 6   u_adopted                   8823 non-null   int64  \n",
      "dtypes: float64(2), int32(1), int64(4)\n",
      "memory usage: 517.0 KB\n"
     ]
    }
   ],
   "source": [
    "users_mod_cat.info()"
   ]
  },
  {
   "cell_type": "markdown",
   "metadata": {},
   "source": [
    "Complete; ready for modeling."
   ]
  },
  {
   "cell_type": "markdown",
   "metadata": {},
   "source": [
    "**Modeling**"
   ]
  },
  {
   "cell_type": "markdown",
   "metadata": {},
   "source": [
    "In any Data Science project, we will first split."
   ]
  },
  {
   "cell_type": "code",
   "execution_count": 506,
   "metadata": {},
   "outputs": [],
   "source": [
    "data = users_mod_cat.drop('u_adopted', axis=1)\n",
    "l = users_mod_cat.u_adopted\n",
    "\n",
    "X_train, y_train, X_test, y_test = train_test_split(data, l, test_size=0.3, random_state=47)"
   ]
  },
  {
   "cell_type": "code",
   "execution_count": 507,
   "metadata": {},
   "outputs": [],
   "source": [
    "rands_forest = RandomForestClassifier()\n",
    "\n",
    "rands_forest.fit(X_train, X_test)\n",
    "\n",
    "rands_f_score = rands_forest.score(y_train, y_test)"
   ]
  },
  {
   "cell_type": "code",
   "execution_count": 508,
   "metadata": {},
   "outputs": [
    {
     "name": "stdout",
     "output_type": "stream",
     "text": [
      "The Random Forest Score comes in at 96.22% on the Training Set\n"
     ]
    }
   ],
   "source": [
    "print('The Random Forest Score comes in at {} on the Training Set'.format('{:,.2f}%'.format(round((rands_f_score)*100,2))))"
   ]
  },
  {
   "cell_type": "markdown",
   "metadata": {},
   "source": [
    "Great but let's take a look at the Test set."
   ]
  },
  {
   "cell_type": "code",
   "execution_count": 509,
   "metadata": {},
   "outputs": [],
   "source": [
    "y_pred = rands_forest.predict(y_train)\n",
    "confused = confusion_matrix(y_test,y_pred)"
   ]
  },
  {
   "cell_type": "code",
   "execution_count": 510,
   "metadata": {},
   "outputs": [
    {
     "name": "stdout",
     "output_type": "stream",
     "text": [
      "Listed below \n",
      " \n",
      "               precision    recall  f1-score   support\n",
      "\n",
      "           0       0.97      0.98      0.98      2133\n",
      "           1       0.91      0.89      0.90       514\n",
      "\n",
      "    accuracy                           0.96      2647\n",
      "   macro avg       0.94      0.94      0.94      2647\n",
      "weighted avg       0.96      0.96      0.96      2647\n",
      "\n"
     ]
    }
   ],
   "source": [
    "print('Listed below','\\n','\\n',classification_report(y_test, y_pred))"
   ]
  },
  {
   "cell_type": "markdown",
   "metadata": {},
   "source": [
    "Hovering ~90%(+) on Precision & Recall suggests we did not over fit.\n",
    "\n",
    "Let's check which variables are helping the most to classify."
   ]
  },
  {
   "cell_type": "code",
   "execution_count": 518,
   "metadata": {},
   "outputs": [],
   "source": [
    "f_rank = pd.DataFrame([])\n",
    "f_rank['coefficient'] = rands_forest.feature_importances_\n",
    "f_rank = f_rank.set_index(data.columns)"
   ]
  },
  {
   "cell_type": "code",
   "execution_count": 522,
   "metadata": {},
   "outputs": [
    {
     "data": {
      "image/png": "[encoded data removed]",
      "text/plain": [
       "<Figure size 1080x576 with 1 Axes>"
      ]
     },
     "metadata": {
      "needs_background": "light"
     },
     "output_type": "display_data"
    }
   ],
   "source": [
    "plt.figure(figsize=(15,8))\n",
    "(f_rank['coefficient']).nlargest(10).plot(kind='bar', x=f_rank.index)\n",
    "plt.title('Random Forest Classifier Variable Rank of Importance')\n",
    "plt.ylabel('Coefficient Values')\n",
    "plt.xticks(rotation=45)\n",
    "plt.show()"
   ]
  },
  {
   "cell_type": "markdown",
   "metadata": {},
   "source": [
    "Confirmed that by & large the **`dys_diff` is the most notable contributor to becoming an Adopted User.**\n",
    "\n",
    "As a reminder, **identifing the factors in which a user becomes an `adopted user` is our goal & an `adopted user` is defined as**:\n",
    "   1. A user who has logged into the product on three separate days in at least one sevenday period\n",
    "   2. Identify which factors predict future user adoption\n",
    "\n",
    "`dys_diff`, meanwhile, is the total number of days (days only) between when `last_session_creation_time` & `creation_time`. To simplified what `dys_diff` means:\n",
    "   * If the last record of the user is further from when they signed up, they are active\n",
    "\n",
    "It may be prudent to assume that `dys_diff` was the reason our confusion matrix presented such positive results. Aside from `dys_diff`. `org_id` & `invited_by_user_id` have the only visually noticable help but given their relative size of uniquiness, they may not be as significant of an influence on an `adopted user`."
   ]
  },
  {
   "cell_type": "code",
   "execution_count": null,
   "metadata": {},
   "outputs": [],
   "source": []
  }
 ],
 "metadata": {
  "kernelspec": {
   "display_name": "Python 3",
   "language": "python",
   "name": "python3"
  },
  "language_info": {
   "codemirror_mode": {
    "name": "ipython",
    "version": 3
   },
   "file_extension": ".py",
   "mimetype": "text/x-python",
   "name": "python",
   "nbconvert_exporter": "python",
   "pygments_lexer": "ipython3",
   "version": "3.8.10"
  },
  "varInspector": {
   "cols": {
    "lenName": 16,
    "lenType": 16,
    "lenVar": 40
   },
   "kernels_config": {
    "python": {
     "delete_cmd_postfix": "",
     "delete_cmd_prefix": "del ",
     "library": "var_list.py",
     "varRefreshCmd": "print(var_dic_list())"
    },
    "r": {
     "delete_cmd_postfix": ") ",
     "delete_cmd_prefix": "rm(",
     "library": "var_list.r",
     "varRefreshCmd": "cat(var_dic_list()) "
    }
   },
   "types_to_exclude": [
    "module",
    "function",
    "builtin_function_or_method",
    "instance",
    "_Feature"
   ],
   "window_display": false
  }
 },
 "nbformat": 4,
 "nbformat_minor": 4
}
