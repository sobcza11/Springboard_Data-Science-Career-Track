{
 "cells": [
  {
   "cell_type": "markdown",
   "metadata": {},
   "source": [
    "This exercise will require you to pull some data from the **Qunadl API**. Qaundl is currently the most widely used aggregator of financial market data."
   ]
  },
  {
   "cell_type": "markdown",
   "metadata": {},
   "source": [
    "As a first step, you will need to register a free account on the http://www.quandl.com website."
   ]
  },
  {
   "cell_type": "markdown",
   "metadata": {},
   "source": [
    "After you register, you will be provided with **a unique API key**, that you should store:"
   ]
  },
  {
   "cell_type": "code",
   "execution_count": 204,
   "metadata": {},
   "outputs": [],
   "source": [
    "# Store the API key as a string - according to PEP8, constants are always named in all upper case\n",
    "# that is your key\n",
    "API_KEY = 'LyaCVber4td6yLkPgpUX'"
   ]
  },
  {
   "cell_type": "markdown",
   "metadata": {},
   "source": [
    "Qaundl has a large number of data sources, but, unfortunately, most of them require a Premium subscription. Still, there are also a good number of free datasets."
   ]
  },
  {
   "cell_type": "markdown",
   "metadata": {},
   "source": [
    "For this mini project, we will focus on equities data from the Frankfurt Stock Exhange (FSE), which is available for free. **We'll try and analyze the stock prices of a company called Carl Zeiss Meditec**, which manufactures tools for eye examinations, as well as medical lasers for laser eye surgery: https://www.zeiss.com/meditec/int/home.html. The company is listed under the stock **ticker AFX_X.**"
   ]
  },
  {
   "cell_type": "markdown",
   "metadata": {},
   "source": [
    "You can find the detailed Quandl API instructions here: https://docs.quandl.com/docs/time-series"
   ]
  },
  {
   "cell_type": "markdown",
   "metadata": {},
   "source": [
    "While there is a dedicated Python package for connecting to the Quandl API, we would prefer that you use the *requests* package, which can be easily downloaded using *pip* or *conda*. You can find the documentation for the package here: http://docs.python-requests.org/en/master/"
   ]
  },
  {
   "cell_type": "markdown",
   "metadata": {},
   "source": [
    "Finally, apart from the *requests* package, **you are encouraged to not use any third party Python packages, such as *pandas*, and instead focus on what's available in the Python Standard Library (the *collections* module might come in handy:** https://pymotw.com/3/collections/ ).\n",
    "Also, since you won't have access to DataFrames, you are encouraged to us Python's native data structures - preferably dictionaries, though some questions can also be answered using lists.\n",
    "You can read more on these data structures here: https://docs.python.org/3/tutorial/datastructures.html"
   ]
  },
  {
   "cell_type": "markdown",
   "metadata": {},
   "source": [
    "Keep in mind that the JSON responses you will be getting from the API map almost one-to-one to Python's dictionaries. Unfortunately, they can be very nested, so make sure you read up on indexing dictionaries in the documentation provided above."
   ]
  },
  {
   "cell_type": "code",
   "execution_count": 205,
   "metadata": {},
   "outputs": [
    {
     "name": "stdout",
     "output_type": "stream",
     "text": [
      "Requirement already satisfied: quandl in c:\\users\\rands\\anaconda3\\lib\\site-packages (3.5.3)\n",
      "Requirement already satisfied: numpy>=1.8 in c:\\users\\rands\\anaconda3\\lib\\site-packages (from quandl) (1.19.2)\n",
      "Note: you may need to restart the kernel to use updated packages.Requirement already satisfied: pandas>=0.14 in c:\\users\\rands\\anaconda3\\lib\\site-packages (from quandl) (1.1.3)\n",
      "Requirement already satisfied: six in c:\\users\\rands\\anaconda3\\lib\\site-packages (from quandl) (1.15.0)\n",
      "Requirement already satisfied: inflection>=0.3.1 in c:\\users\\rands\\anaconda3\\lib\\site-packages (from quandl) (0.5.1)\n",
      "Requirement already satisfied: more-itertools in c:\\users\\rands\\anaconda3\\lib\\site-packages (from quandl) (8.6.0)\n",
      "Requirement already satisfied: requests>=2.7.0 in c:\\users\\rands\\anaconda3\\lib\\site-packages (from quandl) (2.24.0)\n",
      "\n",
      "Requirement already satisfied: python-dateutil in c:\\users\\rands\\anaconda3\\lib\\site-packages (from quandl) (2.8.1)\n",
      "Requirement already satisfied: pytz>=2017.2 in c:\\users\\rands\\anaconda3\\lib\\site-packages (from pandas>=0.14->quandl) (2020.1)\n",
      "Requirement already satisfied: urllib3!=1.25.0,!=1.25.1,<1.26,>=1.21.1 in c:\\users\\rands\\anaconda3\\lib\\site-packages (from requests>=2.7.0->quandl) (1.25.11)\n",
      "Requirement already satisfied: chardet<4,>=3.0.2 in c:\\users\\rands\\anaconda3\\lib\\site-packages (from requests>=2.7.0->quandl) (3.0.4)\n",
      "Requirement already satisfied: certifi>=2017.4.17 in c:\\users\\rands\\anaconda3\\lib\\site-packages (from requests>=2.7.0->quandl) (2020.6.20)\n",
      "Requirement already satisfied: idna<3,>=2.5 in c:\\users\\rands\\anaconda3\\lib\\site-packages (from requests>=2.7.0->quandl) (2.10)\n"
     ]
    }
   ],
   "source": [
    "pip install quandl"
   ]
  },
  {
   "cell_type": "code",
   "execution_count": 206,
   "metadata": {},
   "outputs": [],
   "source": [
    "# First, import the relevant modules\n",
    "import quandl\n",
    "import requests\n",
    "import collections\n",
    "import json\n",
    "\n",
    "quandl.ApiConfig.api_key = \"LyaCVber4td6yLkPgpUX\"\n"
   ]
  },
  {
   "cell_type": "code",
   "execution_count": 207,
   "metadata": {},
   "outputs": [],
   "source": [
    "# Now, call the Quandl API and pull out a small sample of the data (only one day) to get a glimpse\n",
    "# into the JSON structure that will be returned\n",
    "url = \"https://www.quandl.com/api/v3/datasets/FSE/AFX_X.json?\"+ \"&start_date=2017-01-01&end_date=2017-12-31&api_key=\" + \"LyaCVber4td6yLkPgpUX\"\n",
    "\n",
    "r = requests.get(url)\n",
    "json_data = r.json()\n"
   ]
  },
  {
   "cell_type": "code",
   "execution_count": null,
   "metadata": {},
   "outputs": [],
   "source": []
  },
  {
   "cell_type": "code",
   "execution_count": 208,
   "metadata": {},
   "outputs": [],
   "source": [
    "# Inspect the JSON structure of the object you created, and take note of how nested it is,\n",
    "# as well as the overall structure\n"
   ]
  },
  {
   "cell_type": "markdown",
   "metadata": {},
   "source": [
    "These are your tasks for this mini project:\n",
    "\n",
    "1. Collect data from the Franfurt Stock Exchange, for the ticker AFX_X, for the whole year 2017 (keep in mind that the date format is YYYY-MM-DD).\n",
    "2. Convert the returned JSON object into a Python dictionary.\n",
    "3. Calculate what the highest and lowest opening prices were for the stock in this period.\n",
    "4. What was the largest change in any one day (based on High and Low price)?\n",
    "5. What was the largest change between any two days (based on Closing Price)?\n",
    "6. What was the average daily trading volume during this year?\n",
    "7. (Optional) What was the median trading volume during this year. (Note: you may need to implement your own function for calculating the median.)"
   ]
  },
  {
   "cell_type": "markdown",
   "metadata": {},
   "source": [
    "**#1. Collect data from the Franfurt Stock Exchange, for the ticker AFX_X, for the whole year 2017 (keep in mind that the date format is YYYY-MM-DD).**"
   ]
  },
  {
   "cell_type": "code",
   "execution_count": 209,
   "metadata": {},
   "outputs": [],
   "source": [
    "afx_2017 = quandl.get(\"FSE/AFX_X\", start_date=\"2017-01-02\", end_date=\"2017-12-29\")"
   ]
  },
  {
   "cell_type": "code",
   "execution_count": 210,
   "metadata": {},
   "outputs": [
    {
     "name": "stdout",
     "output_type": "stream",
     "text": [
      "             Open   High    Low  Close  Change  Traded Volume   Turnover  \\\n",
      "Date                                                                       \n",
      "2017-01-02  34.99  35.94  34.99  35.80     NaN        44700.0  1590561.0   \n",
      "2017-01-03  35.90  35.93  35.34  35.48     NaN        70618.0  2515473.0   \n",
      "2017-01-04  35.48  35.51  34.75  35.19     NaN        54408.0  1906810.0   \n",
      "2017-01-05  35.02  35.20  34.73  35.06     NaN        48412.0  1692326.0   \n",
      "2017-01-06  34.91  35.21  34.91  35.04     NaN        27507.0   964046.0   \n",
      "...           ...    ...    ...    ...     ...            ...        ...   \n",
      "2017-12-21  51.16  51.52  50.90  51.40     NaN       120649.0  6179433.0   \n",
      "2017-12-22  51.05  51.50  50.92  51.32     NaN        71165.0  3641949.0   \n",
      "2017-12-27  51.45  51.89  50.76  51.82     NaN        57452.0  2957018.0   \n",
      "2017-12-28  51.65  51.82  51.43  51.60     NaN        40660.0  2099024.0   \n",
      "2017-12-29  51.76  51.94  51.45  51.76     NaN        34640.0  1792304.0   \n",
      "\n",
      "           Last Price of the Day Daily Traded Units Daily Turnover  \n",
      "Date                                                                \n",
      "2017-01-02                  None               None           None  \n",
      "2017-01-03                  None               None           None  \n",
      "2017-01-04                  None               None           None  \n",
      "2017-01-05                  None               None           None  \n",
      "2017-01-06                  None               None           None  \n",
      "...                          ...                ...            ...  \n",
      "2017-12-21                  None               None           None  \n",
      "2017-12-22                  None               None           None  \n",
      "2017-12-27                  None               None           None  \n",
      "2017-12-28                  None               None           None  \n",
      "2017-12-29                  None               None           None  \n",
      "\n",
      "[255 rows x 10 columns]\n"
     ]
    }
   ],
   "source": [
    "print(afx_2017)"
   ]
  },
  {
   "cell_type": "code",
   "execution_count": 211,
   "metadata": {},
   "outputs": [
    {
     "name": "stdout",
     "output_type": "stream",
     "text": [
      "<class 'pandas.core.frame.DataFrame'>\n"
     ]
    }
   ],
   "source": [
    "print(type(afx_2017))"
   ]
  },
  {
   "cell_type": "markdown",
   "metadata": {},
   "source": [
    "**#2. Convert the returned JSON object into a Python dictionary.**"
   ]
  },
  {
   "cell_type": "code",
   "execution_count": 212,
   "metadata": {},
   "outputs": [],
   "source": [
    "afx_2017_python = dict(afx_2017)"
   ]
  },
  {
   "cell_type": "markdown",
   "metadata": {},
   "source": [
    "**#3. Calculate what the highest and lowest opening prices were for the stock in this period.**"
   ]
  },
  {
   "cell_type": "code",
   "execution_count": 213,
   "metadata": {},
   "outputs": [],
   "source": [
    "afx_high_2017 = afx_2017_python['Open'].max()\n",
    "afx_low_2017 = afx_2017_python['Open'].min()"
   ]
  },
  {
   "cell_type": "code",
   "execution_count": 214,
   "metadata": {},
   "outputs": [
    {
     "name": "stdout",
     "output_type": "stream",
     "text": [
      "The highest price in 2017 was | 53.11\n"
     ]
    }
   ],
   "source": [
    "print(\"The highest price in 2017 was |\", afx_high_2017)"
   ]
  },
  {
   "cell_type": "code",
   "execution_count": 215,
   "metadata": {},
   "outputs": [
    {
     "name": "stdout",
     "output_type": "stream",
     "text": [
      "The lowest price in 2017 was | 34.0\n"
     ]
    }
   ],
   "source": [
    "print(\"The lowest price in 2017 was |\", afx_low_2017)"
   ]
  },
  {
   "cell_type": "markdown",
   "metadata": {},
   "source": [
    "**#4. What was the largest change in any one day (based on High and Low price)?**"
   ]
  },
  {
   "cell_type": "code",
   "execution_count": 216,
   "metadata": {},
   "outputs": [],
   "source": [
    "afx_change_2017 = ( afx_2017_python['High'] / afx_2017_python['Low']) - 1 "
   ]
  },
  {
   "cell_type": "code",
   "execution_count": 217,
   "metadata": {},
   "outputs": [],
   "source": [
    "afx_change_2017_max = afx_change_2017.max()"
   ]
  },
  {
   "cell_type": "code",
   "execution_count": 218,
   "metadata": {},
   "outputs": [
    {
     "name": "stdout",
     "output_type": "stream",
     "text": [
      "The largest daily price swing in 2017 was (%) | 0.06497109826589598\n"
     ]
    }
   ],
   "source": [
    "print(\"The largest daily price swing in 2017 was (%) |\", afx_change_2017_max)"
   ]
  },
  {
   "cell_type": "markdown",
   "metadata": {},
   "source": [
    "**#5. What was the largest change between any two days (based on Closing Price)?**"
   ]
  },
  {
   "cell_type": "code",
   "execution_count": 219,
   "metadata": {},
   "outputs": [
    {
     "name": "stdout",
     "output_type": "stream",
     "text": [
      "The largest change between any two days is 2.56\n"
     ]
    }
   ],
   "source": [
    "index_close = json_data['dataset']['column_names'].index('Close')\n",
    "closing_price = [day[index_close] for day in json_data['dataset']['data']]\n",
    "\n",
    "# Calculate change between any two days\n",
    "\n",
    "two_day_change = [abs(prev - index) for prev, index in zip(closing_price, closing_price[1:])]\n",
    "print('The largest change between any two days is {:.2f}'.format(max(two_day_change)))\n"
   ]
  },
  {
   "cell_type": "markdown",
   "metadata": {},
   "source": [
    "**#6. What was the average daily trading volume during this year?**"
   ]
  },
  {
   "cell_type": "code",
   "execution_count": 220,
   "metadata": {},
   "outputs": [],
   "source": [
    "afx_avtv_2017 = afx_2017_python['Traded Volume'].mean()"
   ]
  },
  {
   "cell_type": "code",
   "execution_count": 221,
   "metadata": {},
   "outputs": [
    {
     "name": "stdout",
     "output_type": "stream",
     "text": [
      "The average trading volumne for 2017 was | 89124.33725490196\n"
     ]
    }
   ],
   "source": [
    "print('The average trading volumne for 2017 was |', afx_avtv_2017)"
   ]
  },
  {
   "cell_type": "markdown",
   "metadata": {},
   "source": [
    "**#7. (Optional) What was the median trading volume during this year. (Note: you may need to implement your own function for calculating the median.)**"
   ]
  },
  {
   "cell_type": "code",
   "execution_count": 222,
   "metadata": {},
   "outputs": [],
   "source": [
    "# transactions only\n",
    "\n",
    "afx_tv_2017 = afx_2017_python['Traded Volume']"
   ]
  },
  {
   "cell_type": "code",
   "execution_count": 223,
   "metadata": {},
   "outputs": [],
   "source": [
    "# bubble sort\n",
    "def afx_sort(list):\n",
    "    for i in range(len(list)-1,0,1):\n",
    "        for j in range(i):\n",
    "            if list[j] > list[j+1]:\n",
    "                temp = list[j]\n",
    "                list[j] = list[j+1]\n",
    "                list[j+1] = temp\n",
    "                "
   ]
  },
  {
   "cell_type": "code",
   "execution_count": 224,
   "metadata": {},
   "outputs": [],
   "source": [
    "afx_sort(afx_tv_2017)"
   ]
  },
  {
   "cell_type": "code",
   "execution_count": 225,
   "metadata": {},
   "outputs": [
    {
     "name": "stdout",
     "output_type": "stream",
     "text": [
      "255\n"
     ]
    }
   ],
   "source": [
    "n = len(afx_tv_2017)\n",
    "print(n)"
   ]
  },
  {
   "cell_type": "code",
   "execution_count": 226,
   "metadata": {},
   "outputs": [
    {
     "name": "stdout",
     "output_type": "stream",
     "text": [
      "The median transaction volumne for 2017 is | 134965.0\n"
     ]
    }
   ],
   "source": [
    "if n % 2 == 0:\n",
    "    median1 = afx_tv_2017[n//2]\n",
    "    median2 = afx_tv_2017[n//2 - 1]\n",
    "else:\n",
    "     median = afx_tv_2017[n//2]\n",
    "\n",
    "print(\"The median transaction volumne for 2017 is |\", median)"
   ]
  },
  {
   "cell_type": "code",
   "execution_count": null,
   "metadata": {},
   "outputs": [],
   "source": []
  }
 ],
 "metadata": {
  "kernelspec": {
   "display_name": "Python 3",
   "language": "python",
   "name": "python3"
  },
  "language_info": {
   "codemirror_mode": {
    "name": "ipython",
    "version": 3
   },
   "file_extension": ".py",
   "mimetype": "text/x-python",
   "name": "python",
   "nbconvert_exporter": "python",
   "pygments_lexer": "ipython3",
   "version": "3.8.5"
  }
 },
 "nbformat": 4,
 "nbformat_minor": 2
}
