{
 "cells": [
  {
   "cell_type": "markdown",
   "metadata": {},
   "source": [
    "# Data Scientist Net Income Life"
   ]
  },
  {
   "cell_type": "markdown",
   "metadata": {},
   "source": [
    "# Importing"
   ]
  },
  {
   "cell_type": "code",
   "execution_count": 334,
   "metadata": {},
   "outputs": [],
   "source": [
    "import pandas as pd\n",
    "import os\n",
    "import lxml\n",
    "from getpass import getpass\n",
    "import requests as r\n",
    "import json as json\n",
    "\n",
    "from bs4 import BeautifulSoup as bs\n",
    "import csv\n",
    "import urllib.request\n",
    "import numpy as np\n",
    "import googlemaps\n",
    "import geocoder\n",
    "import seaborn as sns\n",
    "import matplotlib.pyplot as plt\n"
   ]
  },
  {
   "cell_type": "code",
   "execution_count": null,
   "metadata": {},
   "outputs": [],
   "source": []
  },
  {
   "cell_type": "markdown",
   "metadata": {},
   "source": [
    "# City Information"
   ]
  },
  {
   "cell_type": "code",
   "execution_count": 335,
   "metadata": {},
   "outputs": [],
   "source": [
    "# https://worldpopulationreview.com/us-cities\n",
    "# https://alanhylands.com/how-to-web-scrape-wikipedia-python-urllib-beautiful-soup-pandas/\n",
    "wpr = pd.read_html('https://worldpopulationreview.com/us-cities')"
   ]
  },
  {
   "cell_type": "code",
   "execution_count": 336,
   "metadata": {},
   "outputs": [
    {
     "data": {
      "text/html": [
       "<div>\n",
       "<style scoped>\n",
       "    .dataframe tbody tr th:only-of-type {\n",
       "        vertical-align: middle;\n",
       "    }\n",
       "\n",
       "    .dataframe tbody tr th {\n",
       "        vertical-align: top;\n",
       "    }\n",
       "\n",
       "    .dataframe thead th {\n",
       "        text-align: right;\n",
       "    }\n",
       "</style>\n",
       "<table border=\"1\" class=\"dataframe\">\n",
       "  <thead>\n",
       "    <tr style=\"text-align: right;\">\n",
       "      <th></th>\n",
       "      <th>Rank</th>\n",
       "      <th>Name</th>\n",
       "      <th>State</th>\n",
       "      <th>2021 Pop</th>\n",
       "      <th>2010 Census</th>\n",
       "      <th>Change</th>\n",
       "      <th>Density (mi²)</th>\n",
       "      <th>Area (mi²)</th>\n",
       "    </tr>\n",
       "  </thead>\n",
       "  <tbody>\n",
       "    <tr>\n",
       "      <th>0</th>\n",
       "      <td>1</td>\n",
       "      <td>New York City</td>\n",
       "      <td>New York</td>\n",
       "      <td>8230290</td>\n",
       "      <td>8190210</td>\n",
       "      <td>NaN</td>\n",
       "      <td>4083</td>\n",
       "      <td>300</td>\n",
       "    </tr>\n",
       "    <tr>\n",
       "      <th>1</th>\n",
       "      <td>2</td>\n",
       "      <td>Los Angeles</td>\n",
       "      <td>California</td>\n",
       "      <td>3983540</td>\n",
       "      <td>3795510</td>\n",
       "      <td>NaN</td>\n",
       "      <td>1266</td>\n",
       "      <td>469</td>\n",
       "    </tr>\n",
       "    <tr>\n",
       "      <th>2</th>\n",
       "      <td>3</td>\n",
       "      <td>Chicago</td>\n",
       "      <td>Illinois</td>\n",
       "      <td>2679080</td>\n",
       "      <td>2697480</td>\n",
       "      <td>NaN</td>\n",
       "      <td>1756</td>\n",
       "      <td>227</td>\n",
       "    </tr>\n",
       "    <tr>\n",
       "      <th>3</th>\n",
       "      <td>4</td>\n",
       "      <td>Houston</td>\n",
       "      <td>Texas</td>\n",
       "      <td>2323660</td>\n",
       "      <td>2100280</td>\n",
       "      <td>NaN</td>\n",
       "      <td>541</td>\n",
       "      <td>640</td>\n",
       "    </tr>\n",
       "    <tr>\n",
       "      <th>4</th>\n",
       "      <td>5</td>\n",
       "      <td>Phoenix</td>\n",
       "      <td>Arizona</td>\n",
       "      <td>1733630</td>\n",
       "      <td>1449040</td>\n",
       "      <td>NaN</td>\n",
       "      <td>499</td>\n",
       "      <td>518</td>\n",
       "    </tr>\n",
       "    <tr>\n",
       "      <th>...</th>\n",
       "      <td>...</td>\n",
       "      <td>...</td>\n",
       "      <td>...</td>\n",
       "      <td>...</td>\n",
       "      <td>...</td>\n",
       "      <td>...</td>\n",
       "      <td>...</td>\n",
       "      <td>...</td>\n",
       "    </tr>\n",
       "    <tr>\n",
       "      <th>195</th>\n",
       "      <td>196</td>\n",
       "      <td>Miramar</td>\n",
       "      <td>Florida</td>\n",
       "      <td>142445</td>\n",
       "      <td>122300</td>\n",
       "      <td>NaN</td>\n",
       "      <td>736</td>\n",
       "      <td>29</td>\n",
       "    </tr>\n",
       "    <tr>\n",
       "      <th>196</th>\n",
       "      <td>197</td>\n",
       "      <td>Round Rock</td>\n",
       "      <td>Texas</td>\n",
       "      <td>142418</td>\n",
       "      <td>100772</td>\n",
       "      <td>NaN</td>\n",
       "      <td>586</td>\n",
       "      <td>36</td>\n",
       "    </tr>\n",
       "    <tr>\n",
       "      <th>197</th>\n",
       "      <td>198</td>\n",
       "      <td>Metairie</td>\n",
       "      <td>Louisiana</td>\n",
       "      <td>142135</td>\n",
       "      <td>138481</td>\n",
       "      <td>NaN</td>\n",
       "      <td>911</td>\n",
       "      <td>23</td>\n",
       "    </tr>\n",
       "    <tr>\n",
       "      <th>198</th>\n",
       "      <td>199</td>\n",
       "      <td>Olathe</td>\n",
       "      <td>Kansas</td>\n",
       "      <td>142119</td>\n",
       "      <td>126269</td>\n",
       "      <td>NaN</td>\n",
       "      <td>344</td>\n",
       "      <td>62</td>\n",
       "    </tr>\n",
       "    <tr>\n",
       "      <th>199</th>\n",
       "      <td>200</td>\n",
       "      <td>Waco</td>\n",
       "      <td>Texas</td>\n",
       "      <td>141936</td>\n",
       "      <td>125377</td>\n",
       "      <td>NaN</td>\n",
       "      <td>238</td>\n",
       "      <td>89</td>\n",
       "    </tr>\n",
       "  </tbody>\n",
       "</table>\n",
       "<p>200 rows × 8 columns</p>\n",
       "</div>"
      ],
      "text/plain": [
       "     Rank           Name       State  2021 Pop  2010 Census  Change  \\\n",
       "0       1  New York City    New York   8230290      8190210     NaN   \n",
       "1       2    Los Angeles  California   3983540      3795510     NaN   \n",
       "2       3        Chicago    Illinois   2679080      2697480     NaN   \n",
       "3       4        Houston       Texas   2323660      2100280     NaN   \n",
       "4       5        Phoenix     Arizona   1733630      1449040     NaN   \n",
       "..    ...            ...         ...       ...          ...     ...   \n",
       "195   196        Miramar     Florida    142445       122300     NaN   \n",
       "196   197     Round Rock       Texas    142418       100772     NaN   \n",
       "197   198       Metairie   Louisiana    142135       138481     NaN   \n",
       "198   199         Olathe      Kansas    142119       126269     NaN   \n",
       "199   200           Waco       Texas    141936       125377     NaN   \n",
       "\n",
       "     Density (mi²)  Area (mi²)  \n",
       "0             4083         300  \n",
       "1             1266         469  \n",
       "2             1756         227  \n",
       "3              541         640  \n",
       "4              499         518  \n",
       "..             ...         ...  \n",
       "195            736          29  \n",
       "196            586          36  \n",
       "197            911          23  \n",
       "198            344          62  \n",
       "199            238          89  \n",
       "\n",
       "[200 rows x 8 columns]"
      ]
     },
     "execution_count": 336,
     "metadata": {},
     "output_type": "execute_result"
    }
   ],
   "source": [
    "wpr_rev = wpr[0]\n",
    "wpr_rev = pd.DataFrame(wpr_rev)\n",
    "wpr_rev"
   ]
  },
  {
   "cell_type": "code",
   "execution_count": 337,
   "metadata": {},
   "outputs": [],
   "source": [
    "wpr_rev = wpr_rev.drop(['Change'], axis=1)"
   ]
  },
  {
   "cell_type": "code",
   "execution_count": 338,
   "metadata": {},
   "outputs": [
    {
     "data": {
      "text/html": [
       "<div>\n",
       "<style scoped>\n",
       "    .dataframe tbody tr th:only-of-type {\n",
       "        vertical-align: middle;\n",
       "    }\n",
       "\n",
       "    .dataframe tbody tr th {\n",
       "        vertical-align: top;\n",
       "    }\n",
       "\n",
       "    .dataframe thead th {\n",
       "        text-align: right;\n",
       "    }\n",
       "</style>\n",
       "<table border=\"1\" class=\"dataframe\">\n",
       "  <thead>\n",
       "    <tr style=\"text-align: right;\">\n",
       "      <th></th>\n",
       "      <th>Rank</th>\n",
       "      <th>Name</th>\n",
       "      <th>State</th>\n",
       "      <th>2021 Pop</th>\n",
       "      <th>2010 Census</th>\n",
       "      <th>Density (mi²)</th>\n",
       "      <th>Area (mi²)</th>\n",
       "    </tr>\n",
       "  </thead>\n",
       "  <tbody>\n",
       "    <tr>\n",
       "      <th>0</th>\n",
       "      <td>1</td>\n",
       "      <td>New York City</td>\n",
       "      <td>New York</td>\n",
       "      <td>8230290</td>\n",
       "      <td>8190210</td>\n",
       "      <td>4083</td>\n",
       "      <td>300</td>\n",
       "    </tr>\n",
       "    <tr>\n",
       "      <th>1</th>\n",
       "      <td>2</td>\n",
       "      <td>Los Angeles</td>\n",
       "      <td>California</td>\n",
       "      <td>3983540</td>\n",
       "      <td>3795510</td>\n",
       "      <td>1266</td>\n",
       "      <td>469</td>\n",
       "    </tr>\n",
       "    <tr>\n",
       "      <th>2</th>\n",
       "      <td>3</td>\n",
       "      <td>Chicago</td>\n",
       "      <td>Illinois</td>\n",
       "      <td>2679080</td>\n",
       "      <td>2697480</td>\n",
       "      <td>1756</td>\n",
       "      <td>227</td>\n",
       "    </tr>\n",
       "    <tr>\n",
       "      <th>3</th>\n",
       "      <td>4</td>\n",
       "      <td>Houston</td>\n",
       "      <td>Texas</td>\n",
       "      <td>2323660</td>\n",
       "      <td>2100280</td>\n",
       "      <td>541</td>\n",
       "      <td>640</td>\n",
       "    </tr>\n",
       "    <tr>\n",
       "      <th>4</th>\n",
       "      <td>5</td>\n",
       "      <td>Phoenix</td>\n",
       "      <td>Arizona</td>\n",
       "      <td>1733630</td>\n",
       "      <td>1449040</td>\n",
       "      <td>499</td>\n",
       "      <td>518</td>\n",
       "    </tr>\n",
       "    <tr>\n",
       "      <th>...</th>\n",
       "      <td>...</td>\n",
       "      <td>...</td>\n",
       "      <td>...</td>\n",
       "      <td>...</td>\n",
       "      <td>...</td>\n",
       "      <td>...</td>\n",
       "      <td>...</td>\n",
       "    </tr>\n",
       "    <tr>\n",
       "      <th>195</th>\n",
       "      <td>196</td>\n",
       "      <td>Miramar</td>\n",
       "      <td>Florida</td>\n",
       "      <td>142445</td>\n",
       "      <td>122300</td>\n",
       "      <td>736</td>\n",
       "      <td>29</td>\n",
       "    </tr>\n",
       "    <tr>\n",
       "      <th>196</th>\n",
       "      <td>197</td>\n",
       "      <td>Round Rock</td>\n",
       "      <td>Texas</td>\n",
       "      <td>142418</td>\n",
       "      <td>100772</td>\n",
       "      <td>586</td>\n",
       "      <td>36</td>\n",
       "    </tr>\n",
       "    <tr>\n",
       "      <th>197</th>\n",
       "      <td>198</td>\n",
       "      <td>Metairie</td>\n",
       "      <td>Louisiana</td>\n",
       "      <td>142135</td>\n",
       "      <td>138481</td>\n",
       "      <td>911</td>\n",
       "      <td>23</td>\n",
       "    </tr>\n",
       "    <tr>\n",
       "      <th>198</th>\n",
       "      <td>199</td>\n",
       "      <td>Olathe</td>\n",
       "      <td>Kansas</td>\n",
       "      <td>142119</td>\n",
       "      <td>126269</td>\n",
       "      <td>344</td>\n",
       "      <td>62</td>\n",
       "    </tr>\n",
       "    <tr>\n",
       "      <th>199</th>\n",
       "      <td>200</td>\n",
       "      <td>Waco</td>\n",
       "      <td>Texas</td>\n",
       "      <td>141936</td>\n",
       "      <td>125377</td>\n",
       "      <td>238</td>\n",
       "      <td>89</td>\n",
       "    </tr>\n",
       "  </tbody>\n",
       "</table>\n",
       "<p>200 rows × 7 columns</p>\n",
       "</div>"
      ],
      "text/plain": [
       "     Rank           Name       State  2021 Pop  2010 Census  Density (mi²)  \\\n",
       "0       1  New York City    New York   8230290      8190210           4083   \n",
       "1       2    Los Angeles  California   3983540      3795510           1266   \n",
       "2       3        Chicago    Illinois   2679080      2697480           1756   \n",
       "3       4        Houston       Texas   2323660      2100280            541   \n",
       "4       5        Phoenix     Arizona   1733630      1449040            499   \n",
       "..    ...            ...         ...       ...          ...            ...   \n",
       "195   196        Miramar     Florida    142445       122300            736   \n",
       "196   197     Round Rock       Texas    142418       100772            586   \n",
       "197   198       Metairie   Louisiana    142135       138481            911   \n",
       "198   199         Olathe      Kansas    142119       126269            344   \n",
       "199   200           Waco       Texas    141936       125377            238   \n",
       "\n",
       "     Area (mi²)  \n",
       "0           300  \n",
       "1           469  \n",
       "2           227  \n",
       "3           640  \n",
       "4           518  \n",
       "..          ...  \n",
       "195          29  \n",
       "196          36  \n",
       "197          23  \n",
       "198          62  \n",
       "199          89  \n",
       "\n",
       "[200 rows x 7 columns]"
      ]
     },
     "execution_count": 338,
     "metadata": {},
     "output_type": "execute_result"
    }
   ],
   "source": [
    "wpr_rev"
   ]
  },
  {
   "cell_type": "code",
   "execution_count": 339,
   "metadata": {},
   "outputs": [
    {
     "data": {
      "text/plain": [
       "Rank              int64\n",
       "Name             object\n",
       "State            object\n",
       "2021 Pop          int64\n",
       "2010 Census       int64\n",
       "Density (mi²)     int64\n",
       "Area (mi²)        int64\n",
       "dtype: object"
      ]
     },
     "execution_count": 339,
     "metadata": {},
     "output_type": "execute_result"
    }
   ],
   "source": [
    "# change = ( (df['2021 Pop'] / df['2010 Census']) - 1 )\n",
    "wpr_rev.dtypes"
   ]
  },
  {
   "cell_type": "code",
   "execution_count": 340,
   "metadata": {},
   "outputs": [
    {
     "data": {
      "text/plain": [
       "pandas.core.frame.DataFrame"
      ]
     },
     "execution_count": 340,
     "metadata": {},
     "output_type": "execute_result"
    }
   ],
   "source": [
    "type(wpr_rev)"
   ]
  },
  {
   "cell_type": "markdown",
   "metadata": {},
   "source": [
    "**Need to add the State abbreviations for later use**"
   ]
  },
  {
   "cell_type": "code",
   "execution_count": 341,
   "metadata": {},
   "outputs": [],
   "source": [
    "abbrev = pd.read_html('https://www.ssa.gov/international/coc-docs/states.html')\n",
    "abbrev = abbrev[0]\n",
    "\n",
    "abbrev = pd.DataFrame(abbrev)\n",
    "abbrev = abbrev.rename(columns={0: \"State\", 1: \"Abbrev\"})\n",
    "abbrev['State'] = abbrev['State'].str.title()"
   ]
  },
  {
   "cell_type": "code",
   "execution_count": 342,
   "metadata": {},
   "outputs": [
    {
     "data": {
      "text/html": [
       "<div>\n",
       "<style scoped>\n",
       "    .dataframe tbody tr th:only-of-type {\n",
       "        vertical-align: middle;\n",
       "    }\n",
       "\n",
       "    .dataframe tbody tr th {\n",
       "        vertical-align: top;\n",
       "    }\n",
       "\n",
       "    .dataframe thead th {\n",
       "        text-align: right;\n",
       "    }\n",
       "</style>\n",
       "<table border=\"1\" class=\"dataframe\">\n",
       "  <thead>\n",
       "    <tr style=\"text-align: right;\">\n",
       "      <th></th>\n",
       "      <th>Rank</th>\n",
       "      <th>Name</th>\n",
       "      <th>State</th>\n",
       "      <th>2021 Pop</th>\n",
       "      <th>2010 Census</th>\n",
       "      <th>Density (mi²)</th>\n",
       "      <th>Area (mi²)</th>\n",
       "      <th>State.Ab</th>\n",
       "    </tr>\n",
       "  </thead>\n",
       "  <tbody>\n",
       "    <tr>\n",
       "      <th>0</th>\n",
       "      <td>1</td>\n",
       "      <td>New York City</td>\n",
       "      <td>New York</td>\n",
       "      <td>8230290</td>\n",
       "      <td>8190210</td>\n",
       "      <td>4083</td>\n",
       "      <td>300</td>\n",
       "      <td>NY</td>\n",
       "    </tr>\n",
       "    <tr>\n",
       "      <th>1</th>\n",
       "      <td>2</td>\n",
       "      <td>Los Angeles</td>\n",
       "      <td>California</td>\n",
       "      <td>3983540</td>\n",
       "      <td>3795510</td>\n",
       "      <td>1266</td>\n",
       "      <td>469</td>\n",
       "      <td>CA</td>\n",
       "    </tr>\n",
       "    <tr>\n",
       "      <th>2</th>\n",
       "      <td>3</td>\n",
       "      <td>Chicago</td>\n",
       "      <td>Illinois</td>\n",
       "      <td>2679080</td>\n",
       "      <td>2697480</td>\n",
       "      <td>1756</td>\n",
       "      <td>227</td>\n",
       "      <td>IL</td>\n",
       "    </tr>\n",
       "    <tr>\n",
       "      <th>3</th>\n",
       "      <td>4</td>\n",
       "      <td>Houston</td>\n",
       "      <td>Texas</td>\n",
       "      <td>2323660</td>\n",
       "      <td>2100280</td>\n",
       "      <td>541</td>\n",
       "      <td>640</td>\n",
       "      <td>TX</td>\n",
       "    </tr>\n",
       "    <tr>\n",
       "      <th>4</th>\n",
       "      <td>5</td>\n",
       "      <td>Phoenix</td>\n",
       "      <td>Arizona</td>\n",
       "      <td>1733630</td>\n",
       "      <td>1449040</td>\n",
       "      <td>499</td>\n",
       "      <td>518</td>\n",
       "      <td>AZ</td>\n",
       "    </tr>\n",
       "  </tbody>\n",
       "</table>\n",
       "</div>"
      ],
      "text/plain": [
       "   Rank           Name       State  2021 Pop  2010 Census  Density (mi²)  \\\n",
       "0     1  New York City    New York   8230290      8190210           4083   \n",
       "1     2    Los Angeles  California   3983540      3795510           1266   \n",
       "2     3        Chicago    Illinois   2679080      2697480           1756   \n",
       "3     4        Houston       Texas   2323660      2100280            541   \n",
       "4     5        Phoenix     Arizona   1733630      1449040            499   \n",
       "\n",
       "   Area (mi²) State.Ab  \n",
       "0         300       NY  \n",
       "1         469       CA  \n",
       "2         227       IL  \n",
       "3         640       TX  \n",
       "4         518       AZ  "
      ]
     },
     "execution_count": 342,
     "metadata": {},
     "output_type": "execute_result"
    }
   ],
   "source": [
    "wpr_rev = pd.merge(wpr_rev, abbrev, how=\"left\", on='State')\n",
    "wpr_rev.columns = [ 'Rank', 'Name', 'State', '2021 Pop', '2010 Census','Density (mi²)', 'Area (mi²)', 'State.Ab' ]\n",
    "wpr_rev.head()\n"
   ]
  },
  {
   "cell_type": "code",
   "execution_count": 343,
   "metadata": {},
   "outputs": [
    {
     "name": "stderr",
     "output_type": "stream",
     "text": [
      "<ipython-input-343-fd17b7bcc86a>:1: SettingWithCopyWarning: \n",
      "A value is trying to be set on a copy of a slice from a DataFrame\n",
      "\n",
      "See the caveats in the documentation: https://pandas.pydata.org/pandas-docs/stable/user_guide/indexing.html#returning-a-view-versus-a-copy\n",
      "  wpr_rev['Name'][0] = 'New York'\n"
     ]
    }
   ],
   "source": [
    "wpr_rev['Name'][0] = 'New York'"
   ]
  },
  {
   "cell_type": "code",
   "execution_count": 344,
   "metadata": {},
   "outputs": [
    {
     "data": {
      "text/html": [
       "<div>\n",
       "<style scoped>\n",
       "    .dataframe tbody tr th:only-of-type {\n",
       "        vertical-align: middle;\n",
       "    }\n",
       "\n",
       "    .dataframe tbody tr th {\n",
       "        vertical-align: top;\n",
       "    }\n",
       "\n",
       "    .dataframe thead th {\n",
       "        text-align: right;\n",
       "    }\n",
       "</style>\n",
       "<table border=\"1\" class=\"dataframe\">\n",
       "  <thead>\n",
       "    <tr style=\"text-align: right;\">\n",
       "      <th></th>\n",
       "      <th>Rank</th>\n",
       "      <th>Name</th>\n",
       "      <th>State</th>\n",
       "      <th>2021 Pop</th>\n",
       "      <th>2010 Census</th>\n",
       "      <th>Density (mi²)</th>\n",
       "      <th>Area (mi²)</th>\n",
       "      <th>State.Ab</th>\n",
       "    </tr>\n",
       "  </thead>\n",
       "  <tbody>\n",
       "    <tr>\n",
       "      <th>0</th>\n",
       "      <td>1</td>\n",
       "      <td>New York</td>\n",
       "      <td>New York</td>\n",
       "      <td>8230290</td>\n",
       "      <td>8190210</td>\n",
       "      <td>4083</td>\n",
       "      <td>300</td>\n",
       "      <td>NY</td>\n",
       "    </tr>\n",
       "    <tr>\n",
       "      <th>1</th>\n",
       "      <td>2</td>\n",
       "      <td>Los Angeles</td>\n",
       "      <td>California</td>\n",
       "      <td>3983540</td>\n",
       "      <td>3795510</td>\n",
       "      <td>1266</td>\n",
       "      <td>469</td>\n",
       "      <td>CA</td>\n",
       "    </tr>\n",
       "    <tr>\n",
       "      <th>2</th>\n",
       "      <td>3</td>\n",
       "      <td>Chicago</td>\n",
       "      <td>Illinois</td>\n",
       "      <td>2679080</td>\n",
       "      <td>2697480</td>\n",
       "      <td>1756</td>\n",
       "      <td>227</td>\n",
       "      <td>IL</td>\n",
       "    </tr>\n",
       "    <tr>\n",
       "      <th>3</th>\n",
       "      <td>4</td>\n",
       "      <td>Houston</td>\n",
       "      <td>Texas</td>\n",
       "      <td>2323660</td>\n",
       "      <td>2100280</td>\n",
       "      <td>541</td>\n",
       "      <td>640</td>\n",
       "      <td>TX</td>\n",
       "    </tr>\n",
       "    <tr>\n",
       "      <th>4</th>\n",
       "      <td>5</td>\n",
       "      <td>Phoenix</td>\n",
       "      <td>Arizona</td>\n",
       "      <td>1733630</td>\n",
       "      <td>1449040</td>\n",
       "      <td>499</td>\n",
       "      <td>518</td>\n",
       "      <td>AZ</td>\n",
       "    </tr>\n",
       "    <tr>\n",
       "      <th>...</th>\n",
       "      <td>...</td>\n",
       "      <td>...</td>\n",
       "      <td>...</td>\n",
       "      <td>...</td>\n",
       "      <td>...</td>\n",
       "      <td>...</td>\n",
       "      <td>...</td>\n",
       "      <td>...</td>\n",
       "    </tr>\n",
       "    <tr>\n",
       "      <th>195</th>\n",
       "      <td>196</td>\n",
       "      <td>Miramar</td>\n",
       "      <td>Florida</td>\n",
       "      <td>142445</td>\n",
       "      <td>122300</td>\n",
       "      <td>736</td>\n",
       "      <td>29</td>\n",
       "      <td>FL</td>\n",
       "    </tr>\n",
       "    <tr>\n",
       "      <th>196</th>\n",
       "      <td>197</td>\n",
       "      <td>Round Rock</td>\n",
       "      <td>Texas</td>\n",
       "      <td>142418</td>\n",
       "      <td>100772</td>\n",
       "      <td>586</td>\n",
       "      <td>36</td>\n",
       "      <td>TX</td>\n",
       "    </tr>\n",
       "    <tr>\n",
       "      <th>197</th>\n",
       "      <td>198</td>\n",
       "      <td>Metairie</td>\n",
       "      <td>Louisiana</td>\n",
       "      <td>142135</td>\n",
       "      <td>138481</td>\n",
       "      <td>911</td>\n",
       "      <td>23</td>\n",
       "      <td>LA</td>\n",
       "    </tr>\n",
       "    <tr>\n",
       "      <th>198</th>\n",
       "      <td>199</td>\n",
       "      <td>Olathe</td>\n",
       "      <td>Kansas</td>\n",
       "      <td>142119</td>\n",
       "      <td>126269</td>\n",
       "      <td>344</td>\n",
       "      <td>62</td>\n",
       "      <td>KS</td>\n",
       "    </tr>\n",
       "    <tr>\n",
       "      <th>199</th>\n",
       "      <td>200</td>\n",
       "      <td>Waco</td>\n",
       "      <td>Texas</td>\n",
       "      <td>141936</td>\n",
       "      <td>125377</td>\n",
       "      <td>238</td>\n",
       "      <td>89</td>\n",
       "      <td>TX</td>\n",
       "    </tr>\n",
       "  </tbody>\n",
       "</table>\n",
       "<p>200 rows × 8 columns</p>\n",
       "</div>"
      ],
      "text/plain": [
       "     Rank         Name       State  2021 Pop  2010 Census  Density (mi²)  \\\n",
       "0       1     New York    New York   8230290      8190210           4083   \n",
       "1       2  Los Angeles  California   3983540      3795510           1266   \n",
       "2       3      Chicago    Illinois   2679080      2697480           1756   \n",
       "3       4      Houston       Texas   2323660      2100280            541   \n",
       "4       5      Phoenix     Arizona   1733630      1449040            499   \n",
       "..    ...          ...         ...       ...          ...            ...   \n",
       "195   196      Miramar     Florida    142445       122300            736   \n",
       "196   197   Round Rock       Texas    142418       100772            586   \n",
       "197   198     Metairie   Louisiana    142135       138481            911   \n",
       "198   199       Olathe      Kansas    142119       126269            344   \n",
       "199   200         Waco       Texas    141936       125377            238   \n",
       "\n",
       "     Area (mi²) State.Ab  \n",
       "0           300       NY  \n",
       "1           469       CA  \n",
       "2           227       IL  \n",
       "3           640       TX  \n",
       "4           518       AZ  \n",
       "..          ...      ...  \n",
       "195          29       FL  \n",
       "196          36       TX  \n",
       "197          23       LA  \n",
       "198          62       KS  \n",
       "199          89       TX  \n",
       "\n",
       "[200 rows x 8 columns]"
      ]
     },
     "execution_count": 344,
     "metadata": {},
     "output_type": "execute_result"
    }
   ],
   "source": [
    "wpr_rev"
   ]
  },
  {
   "cell_type": "code",
   "execution_count": 345,
   "metadata": {},
   "outputs": [
    {
     "data": {
      "text/plain": [
       "'New York'"
      ]
     },
     "execution_count": 345,
     "metadata": {},
     "output_type": "execute_result"
    }
   ],
   "source": [
    "wpr_rev['Name'][0]"
   ]
  },
  {
   "cell_type": "code",
   "execution_count": 346,
   "metadata": {},
   "outputs": [
    {
     "name": "stdout",
     "output_type": "stream",
     "text": [
      "<class 'pandas.core.frame.DataFrame'>\n",
      "Int64Index: 200 entries, 0 to 199\n",
      "Data columns (total 8 columns):\n",
      " #   Column         Non-Null Count  Dtype \n",
      "---  ------         --------------  ----- \n",
      " 0   Rank           200 non-null    int64 \n",
      " 1   Name           200 non-null    object\n",
      " 2   State          200 non-null    object\n",
      " 3   2021 Pop       200 non-null    int64 \n",
      " 4   2010 Census    200 non-null    int64 \n",
      " 5   Density (mi²)  200 non-null    int64 \n",
      " 6   Area (mi²)     200 non-null    int64 \n",
      " 7   State.Ab       199 non-null    object\n",
      "dtypes: int64(5), object(3)\n",
      "memory usage: 24.1+ KB\n"
     ]
    }
   ],
   "source": [
    "wpr_rev.info()"
   ]
  },
  {
   "cell_type": "code",
   "execution_count": 347,
   "metadata": {},
   "outputs": [
    {
     "data": {
      "text/plain": [
       "[19]"
      ]
     },
     "execution_count": 347,
     "metadata": {},
     "output_type": "execute_result"
    }
   ],
   "source": [
    "# https://stackoverflow.com/questions/44869327/find-index-of-all-rows-with-null-values-in-a-particular-column-in-pandas-datafra\n",
    "\n",
    "wpr_rev[wpr_rev['State.Ab'].isnull()].index.tolist()"
   ]
  },
  {
   "cell_type": "code",
   "execution_count": 348,
   "metadata": {},
   "outputs": [
    {
     "data": {
      "text/plain": [
       "'District of Columbia'"
      ]
     },
     "execution_count": 348,
     "metadata": {},
     "output_type": "execute_result"
    }
   ],
   "source": [
    "wpr_rev['State'][19]"
   ]
  },
  {
   "cell_type": "code",
   "execution_count": 349,
   "metadata": {},
   "outputs": [
    {
     "name": "stderr",
     "output_type": "stream",
     "text": [
      "<ipython-input-349-425f5ddeb2dc>:1: SettingWithCopyWarning: \n",
      "A value is trying to be set on a copy of a slice from a DataFrame\n",
      "\n",
      "See the caveats in the documentation: https://pandas.pydata.org/pandas-docs/stable/user_guide/indexing.html#returning-a-view-versus-a-copy\n",
      "  wpr_rev['State.Ab'][19] = 'DC'\n"
     ]
    }
   ],
   "source": [
    "wpr_rev['State.Ab'][19] = 'DC'"
   ]
  },
  {
   "cell_type": "code",
   "execution_count": 350,
   "metadata": {
    "scrolled": false
   },
   "outputs": [
    {
     "name": "stdout",
     "output_type": "stream",
     "text": [
      "<class 'pandas.core.frame.DataFrame'>\n",
      "Int64Index: 200 entries, 0 to 199\n",
      "Data columns (total 8 columns):\n",
      " #   Column         Non-Null Count  Dtype \n",
      "---  ------         --------------  ----- \n",
      " 0   Rank           200 non-null    int64 \n",
      " 1   Name           200 non-null    object\n",
      " 2   State          200 non-null    object\n",
      " 3   2021 Pop       200 non-null    int64 \n",
      " 4   2010 Census    200 non-null    int64 \n",
      " 5   Density (mi²)  200 non-null    int64 \n",
      " 6   Area (mi²)     200 non-null    int64 \n",
      " 7   State.Ab       200 non-null    object\n",
      "dtypes: int64(5), object(3)\n",
      "memory usage: 24.1+ KB\n"
     ]
    }
   ],
   "source": [
    "wpr_rev.info()"
   ]
  },
  {
   "cell_type": "markdown",
   "metadata": {},
   "source": [
    "**Adding Lat / Long's here**"
   ]
  },
  {
   "cell_type": "code",
   "execution_count": 351,
   "metadata": {},
   "outputs": [],
   "source": [
    "# https://www.youtube.com/watch?v=tKy-IHAxt4s"
   ]
  },
  {
   "cell_type": "markdown",
   "metadata": {},
   "source": [
    "**Pulling the Latitude**"
   ]
  },
  {
   "cell_type": "code",
   "execution_count": 352,
   "metadata": {},
   "outputs": [],
   "source": [
    "# key1 = tbFrT08QqAH9H5JOJVgopluGj6GRNygV\n",
    "# key2 = tkXeQ5Z2NNclVMxVR4aQKlApEHNlVLMw"
   ]
  },
  {
   "cell_type": "code",
   "execution_count": 353,
   "metadata": {},
   "outputs": [],
   "source": [
    "latitude = []\n",
    "i = 0\n",
    "y = 0\n",
    "for i in range(len(wpr_rev)):\n",
    "    name = wpr_rev['Name'][i]\n",
    "    state = wpr_rev['State.Ab'][y]\n",
    "    address = ( name + ' ' + state )\n",
    "    i += 1\n",
    "    y += 1\n",
    "    \n",
    "    parameters = {\n",
    "    \"key\" : \"tkXeQ5Z2NNclVMxVR4aQKlApEHNlVLMw\",\n",
    "    \"location\" : address }\n",
    "    \n",
    "    response = r.get(\"http://www.mapquestapi.com/geocoding/v1/address\", params = parameters)\n",
    "    data = json.loads(response.text)['results']\n",
    "    \n",
    "    lat = data[0]['locations'][0]['latLng']['lat']\n",
    "    lng = data[0]['locations'][0]['latLng']['lng']\n",
    "\n",
    "    latitude.append(lat)\n",
    "\n",
    "latitude = pd.DataFrame(latitude)"
   ]
  },
  {
   "cell_type": "code",
   "execution_count": 354,
   "metadata": {},
   "outputs": [
    {
     "data": {
      "text/plain": [
       "pandas.core.frame.DataFrame"
      ]
     },
     "execution_count": 354,
     "metadata": {},
     "output_type": "execute_result"
    }
   ],
   "source": [
    "type(latitude)"
   ]
  },
  {
   "cell_type": "markdown",
   "metadata": {},
   "source": [
    "**Pulling the Longitude**"
   ]
  },
  {
   "cell_type": "code",
   "execution_count": 355,
   "metadata": {},
   "outputs": [],
   "source": [
    "longitude = []\n",
    "a = 0\n",
    "b = 0\n",
    "for i in range(len(wpr_rev)):\n",
    "    name = wpr_rev['Name'][a]\n",
    "    state = wpr_rev['State.Ab'][b]\n",
    "    address = ( name + ' ' + state )\n",
    "    a += 1\n",
    "    b += 1\n",
    "    \n",
    "    parameters = {\n",
    "    \"key\" : \"tkXeQ5Z2NNclVMxVR4aQKlApEHNlVLMw\",\n",
    "    \"location\" : address }\n",
    "    \n",
    "    response = r.get(\"http://www.mapquestapi.com/geocoding/v1/address\", params = parameters)\n",
    "    data = json.loads(response.text)['results']\n",
    "    \n",
    "    lat = data[0]['locations'][0]['latLng']['lat']\n",
    "    lng = data[0]['locations'][0]['latLng']['lng']\n",
    "\n",
    "    longitude.append(lng)\n",
    "\n",
    "longitude = pd.DataFrame(longitude)"
   ]
  },
  {
   "cell_type": "markdown",
   "metadata": {},
   "source": [
    "**Pushing them into `wpr_rev`**"
   ]
  },
  {
   "cell_type": "code",
   "execution_count": 356,
   "metadata": {
    "scrolled": true
   },
   "outputs": [
    {
     "data": {
      "text/html": [
       "<div>\n",
       "<style scoped>\n",
       "    .dataframe tbody tr th:only-of-type {\n",
       "        vertical-align: middle;\n",
       "    }\n",
       "\n",
       "    .dataframe tbody tr th {\n",
       "        vertical-align: top;\n",
       "    }\n",
       "\n",
       "    .dataframe thead th {\n",
       "        text-align: right;\n",
       "    }\n",
       "</style>\n",
       "<table border=\"1\" class=\"dataframe\">\n",
       "  <thead>\n",
       "    <tr style=\"text-align: right;\">\n",
       "      <th></th>\n",
       "      <th>Rank</th>\n",
       "      <th>Name</th>\n",
       "      <th>State</th>\n",
       "      <th>2021 Pop</th>\n",
       "      <th>2010 Census</th>\n",
       "      <th>Density (mi²)</th>\n",
       "      <th>Area (mi²)</th>\n",
       "      <th>State.Ab</th>\n",
       "      <th>lat</th>\n",
       "      <th>lng</th>\n",
       "    </tr>\n",
       "  </thead>\n",
       "  <tbody>\n",
       "    <tr>\n",
       "      <th>0</th>\n",
       "      <td>1</td>\n",
       "      <td>New York</td>\n",
       "      <td>New York</td>\n",
       "      <td>8230290</td>\n",
       "      <td>8190210</td>\n",
       "      <td>4083</td>\n",
       "      <td>300</td>\n",
       "      <td>NY</td>\n",
       "      <td>40.713054</td>\n",
       "      <td>-74.007228</td>\n",
       "    </tr>\n",
       "    <tr>\n",
       "      <th>1</th>\n",
       "      <td>2</td>\n",
       "      <td>Los Angeles</td>\n",
       "      <td>California</td>\n",
       "      <td>3983540</td>\n",
       "      <td>3795510</td>\n",
       "      <td>1266</td>\n",
       "      <td>469</td>\n",
       "      <td>CA</td>\n",
       "      <td>34.052238</td>\n",
       "      <td>-118.243344</td>\n",
       "    </tr>\n",
       "    <tr>\n",
       "      <th>2</th>\n",
       "      <td>3</td>\n",
       "      <td>Chicago</td>\n",
       "      <td>Illinois</td>\n",
       "      <td>2679080</td>\n",
       "      <td>2697480</td>\n",
       "      <td>1756</td>\n",
       "      <td>227</td>\n",
       "      <td>IL</td>\n",
       "      <td>41.883229</td>\n",
       "      <td>-87.632398</td>\n",
       "    </tr>\n",
       "    <tr>\n",
       "      <th>3</th>\n",
       "      <td>4</td>\n",
       "      <td>Houston</td>\n",
       "      <td>Texas</td>\n",
       "      <td>2323660</td>\n",
       "      <td>2100280</td>\n",
       "      <td>541</td>\n",
       "      <td>640</td>\n",
       "      <td>TX</td>\n",
       "      <td>29.760803</td>\n",
       "      <td>-95.369506</td>\n",
       "    </tr>\n",
       "    <tr>\n",
       "      <th>4</th>\n",
       "      <td>5</td>\n",
       "      <td>Phoenix</td>\n",
       "      <td>Arizona</td>\n",
       "      <td>1733630</td>\n",
       "      <td>1449040</td>\n",
       "      <td>499</td>\n",
       "      <td>518</td>\n",
       "      <td>AZ</td>\n",
       "      <td>33.448204</td>\n",
       "      <td>-112.072585</td>\n",
       "    </tr>\n",
       "  </tbody>\n",
       "</table>\n",
       "</div>"
      ],
      "text/plain": [
       "   Rank         Name       State  2021 Pop  2010 Census  Density (mi²)  \\\n",
       "0     1     New York    New York   8230290      8190210           4083   \n",
       "1     2  Los Angeles  California   3983540      3795510           1266   \n",
       "2     3      Chicago    Illinois   2679080      2697480           1756   \n",
       "3     4      Houston       Texas   2323660      2100280            541   \n",
       "4     5      Phoenix     Arizona   1733630      1449040            499   \n",
       "\n",
       "   Area (mi²) State.Ab        lat         lng  \n",
       "0         300       NY  40.713054  -74.007228  \n",
       "1         469       CA  34.052238 -118.243344  \n",
       "2         227       IL  41.883229  -87.632398  \n",
       "3         640       TX  29.760803  -95.369506  \n",
       "4         518       AZ  33.448204 -112.072585  "
      ]
     },
     "execution_count": 356,
     "metadata": {},
     "output_type": "execute_result"
    }
   ],
   "source": [
    "main = pd.concat([wpr_rev, latitude, longitude],\n",
    "                    axis = 1, ignore_index=False)\n",
    "main.columns = [ 'Rank', 'Name', 'State', '2021 Pop', '2010 Census','Density (mi²)', 'Area (mi²)', 'State.Ab', 'lat','lng' ]\n",
    "main.head()"
   ]
  },
  {
   "cell_type": "code",
   "execution_count": 357,
   "metadata": {
    "scrolled": false
   },
   "outputs": [],
   "source": [
    "# we will remove cities as they cause issues later; these are small cities near larger onesd\n",
    "main = main[main.Name != 'Mesa']\n",
    "main = main[main.Name != 'Virginia Beach']\n",
    "main = main[main.lat != 32.735594 ] # We are removing Arlington Texas NOT Arlington Virginia...\n",
    "main = main[main.Name != 'Aurora']\n",
    "main = main.reset_index(drop=True)"
   ]
  },
  {
   "cell_type": "code",
   "execution_count": 358,
   "metadata": {},
   "outputs": [
    {
     "name": "stdout",
     "output_type": "stream",
     "text": [
      "C:\\Users\\rands\n"
     ]
    }
   ],
   "source": [
    "cd"
   ]
  },
  {
   "cell_type": "code",
   "execution_count": 359,
   "metadata": {},
   "outputs": [
    {
     "name": "stdout",
     "output_type": "stream",
     "text": [
      "Finished\n"
     ]
    }
   ],
   "source": [
    "main = pd.DataFrame(main)\n",
    "\n",
    "main.to_excel('./Scraping/Tableau/Graduation_Statistics/wpr.xlsx')\n",
    "print('Finished')"
   ]
  },
  {
   "cell_type": "code",
   "execution_count": null,
   "metadata": {},
   "outputs": [],
   "source": []
  },
  {
   "cell_type": "markdown",
   "metadata": {},
   "source": [
    "# City Economic Information"
   ]
  },
  {
   "cell_type": "code",
   "execution_count": null,
   "metadata": {},
   "outputs": [],
   "source": []
  },
  {
   "cell_type": "code",
   "execution_count": null,
   "metadata": {},
   "outputs": [],
   "source": []
  },
  {
   "cell_type": "code",
   "execution_count": null,
   "metadata": {},
   "outputs": [],
   "source": []
  },
  {
   "cell_type": "code",
   "execution_count": null,
   "metadata": {},
   "outputs": [],
   "source": []
  },
  {
   "cell_type": "markdown",
   "metadata": {},
   "source": [
    "# Income Tax Brackets"
   ]
  },
  {
   "cell_type": "markdown",
   "metadata": {},
   "source": [
    "# Federal Income Tax"
   ]
  },
  {
   "cell_type": "code",
   "execution_count": 360,
   "metadata": {},
   "outputs": [],
   "source": [
    "# https://www.bankrate.com/finance/taxes/tax-brackets.aspx\n",
    "fedtax = pd.read_html('https://www.bankrate.com/finance/taxes/tax-brackets.aspx')"
   ]
  },
  {
   "cell_type": "code",
   "execution_count": 361,
   "metadata": {},
   "outputs": [],
   "source": [
    "fedtax = pd.DataFrame(fedtax[0])"
   ]
  },
  {
   "cell_type": "code",
   "execution_count": 362,
   "metadata": {},
   "outputs": [
    {
     "data": {
      "text/html": [
       "<div>\n",
       "<style scoped>\n",
       "    .dataframe tbody tr th:only-of-type {\n",
       "        vertical-align: middle;\n",
       "    }\n",
       "\n",
       "    .dataframe tbody tr th {\n",
       "        vertical-align: top;\n",
       "    }\n",
       "\n",
       "    .dataframe thead th {\n",
       "        text-align: right;\n",
       "    }\n",
       "</style>\n",
       "<table border=\"1\" class=\"dataframe\">\n",
       "  <thead>\n",
       "    <tr style=\"text-align: right;\">\n",
       "      <th></th>\n",
       "      <th>Tax rate</th>\n",
       "      <th>Single</th>\n",
       "      <th>Head of household</th>\n",
       "      <th>Married filing jointly or qualifying widow</th>\n",
       "      <th>Married filing separately</th>\n",
       "    </tr>\n",
       "  </thead>\n",
       "  <tbody>\n",
       "    <tr>\n",
       "      <th>0</th>\n",
       "      <td>10%</td>\n",
       "      <td>$0 to $9,875</td>\n",
       "      <td>$0 to $14,100</td>\n",
       "      <td>$0 to $19,750</td>\n",
       "      <td>$0 to $9,875</td>\n",
       "    </tr>\n",
       "    <tr>\n",
       "      <th>1</th>\n",
       "      <td>12%</td>\n",
       "      <td>$9,876 to $40,125</td>\n",
       "      <td>$14,101 to $53,700</td>\n",
       "      <td>$19,751 to $80,250</td>\n",
       "      <td>$9,876 to $40,125</td>\n",
       "    </tr>\n",
       "    <tr>\n",
       "      <th>2</th>\n",
       "      <td>22%</td>\n",
       "      <td>$40,126 to $85,525</td>\n",
       "      <td>$53,701 to $85,500</td>\n",
       "      <td>$80,251 to $171,050</td>\n",
       "      <td>$40,126 to $85,525</td>\n",
       "    </tr>\n",
       "    <tr>\n",
       "      <th>3</th>\n",
       "      <td>24%</td>\n",
       "      <td>$85,526 to $163,300</td>\n",
       "      <td>$85,501 to $163,300</td>\n",
       "      <td>$171,051 to $326,600</td>\n",
       "      <td>$85,526 to $163,300</td>\n",
       "    </tr>\n",
       "    <tr>\n",
       "      <th>4</th>\n",
       "      <td>32%</td>\n",
       "      <td>$163,301 to $207,350</td>\n",
       "      <td>$163,301 to $207,350</td>\n",
       "      <td>$326,601 to $414,700</td>\n",
       "      <td>$163,301 to $207,350</td>\n",
       "    </tr>\n",
       "    <tr>\n",
       "      <th>5</th>\n",
       "      <td>35%</td>\n",
       "      <td>$207,351 to $518,400</td>\n",
       "      <td>$207,351 to $518,400</td>\n",
       "      <td>$414,701 to $622,050</td>\n",
       "      <td>$207,351 to $311,025</td>\n",
       "    </tr>\n",
       "    <tr>\n",
       "      <th>6</th>\n",
       "      <td>37%</td>\n",
       "      <td>$518,401 or more</td>\n",
       "      <td>$518,401 or more</td>\n",
       "      <td>$622,051 or more</td>\n",
       "      <td>$311,026 or more</td>\n",
       "    </tr>\n",
       "    <tr>\n",
       "      <th>7</th>\n",
       "      <td>Source: IRS</td>\n",
       "      <td>Source: IRS</td>\n",
       "      <td>Source: IRS</td>\n",
       "      <td>Source: IRS</td>\n",
       "      <td>Source: IRS</td>\n",
       "    </tr>\n",
       "  </tbody>\n",
       "</table>\n",
       "</div>"
      ],
      "text/plain": [
       "      Tax rate                Single     Head of household  \\\n",
       "0          10%          $0 to $9,875         $0 to $14,100   \n",
       "1          12%     $9,876 to $40,125    $14,101 to $53,700   \n",
       "2          22%    $40,126 to $85,525    $53,701 to $85,500   \n",
       "3          24%   $85,526 to $163,300   $85,501 to $163,300   \n",
       "4          32%  $163,301 to $207,350  $163,301 to $207,350   \n",
       "5          35%  $207,351 to $518,400  $207,351 to $518,400   \n",
       "6          37%      $518,401 or more      $518,401 or more   \n",
       "7  Source: IRS           Source: IRS           Source: IRS   \n",
       "\n",
       "  Married filing jointly or qualifying widow Married filing separately  \n",
       "0                              $0 to $19,750              $0 to $9,875  \n",
       "1                         $19,751 to $80,250         $9,876 to $40,125  \n",
       "2                        $80,251 to $171,050        $40,126 to $85,525  \n",
       "3                       $171,051 to $326,600       $85,526 to $163,300  \n",
       "4                       $326,601 to $414,700      $163,301 to $207,350  \n",
       "5                       $414,701 to $622,050      $207,351 to $311,025  \n",
       "6                           $622,051 or more          $311,026 or more  \n",
       "7                                Source: IRS               Source: IRS  "
      ]
     },
     "execution_count": 362,
     "metadata": {},
     "output_type": "execute_result"
    }
   ],
   "source": [
    "fedtax"
   ]
  },
  {
   "cell_type": "code",
   "execution_count": 363,
   "metadata": {},
   "outputs": [],
   "source": [
    "# let's start by dealing with the columns we don't need\n",
    "fedtax = fedtax.drop([ 'Head of household','Married filing jointly or qualifying widow', 'Married filing separately' ], axis=1)\n",
    "fedtax = fedtax[:7]"
   ]
  },
  {
   "cell_type": "code",
   "execution_count": 364,
   "metadata": {},
   "outputs": [
    {
     "data": {
      "text/html": [
       "<div>\n",
       "<style scoped>\n",
       "    .dataframe tbody tr th:only-of-type {\n",
       "        vertical-align: middle;\n",
       "    }\n",
       "\n",
       "    .dataframe tbody tr th {\n",
       "        vertical-align: top;\n",
       "    }\n",
       "\n",
       "    .dataframe thead th {\n",
       "        text-align: right;\n",
       "    }\n",
       "</style>\n",
       "<table border=\"1\" class=\"dataframe\">\n",
       "  <thead>\n",
       "    <tr style=\"text-align: right;\">\n",
       "      <th></th>\n",
       "      <th>Tax rate</th>\n",
       "      <th>Single</th>\n",
       "    </tr>\n",
       "  </thead>\n",
       "  <tbody>\n",
       "    <tr>\n",
       "      <th>0</th>\n",
       "      <td>10%</td>\n",
       "      <td>$0 to $9,875</td>\n",
       "    </tr>\n",
       "    <tr>\n",
       "      <th>1</th>\n",
       "      <td>12%</td>\n",
       "      <td>$9,876 to $40,125</td>\n",
       "    </tr>\n",
       "    <tr>\n",
       "      <th>2</th>\n",
       "      <td>22%</td>\n",
       "      <td>$40,126 to $85,525</td>\n",
       "    </tr>\n",
       "    <tr>\n",
       "      <th>3</th>\n",
       "      <td>24%</td>\n",
       "      <td>$85,526 to $163,300</td>\n",
       "    </tr>\n",
       "    <tr>\n",
       "      <th>4</th>\n",
       "      <td>32%</td>\n",
       "      <td>$163,301 to $207,350</td>\n",
       "    </tr>\n",
       "    <tr>\n",
       "      <th>5</th>\n",
       "      <td>35%</td>\n",
       "      <td>$207,351 to $518,400</td>\n",
       "    </tr>\n",
       "    <tr>\n",
       "      <th>6</th>\n",
       "      <td>37%</td>\n",
       "      <td>$518,401 or more</td>\n",
       "    </tr>\n",
       "  </tbody>\n",
       "</table>\n",
       "</div>"
      ],
      "text/plain": [
       "  Tax rate                Single\n",
       "0      10%          $0 to $9,875\n",
       "1      12%     $9,876 to $40,125\n",
       "2      22%    $40,126 to $85,525\n",
       "3      24%   $85,526 to $163,300\n",
       "4      32%  $163,301 to $207,350\n",
       "5      35%  $207,351 to $518,400\n",
       "6      37%      $518,401 or more"
      ]
     },
     "execution_count": 364,
     "metadata": {},
     "output_type": "execute_result"
    }
   ],
   "source": [
    "fedtax"
   ]
  },
  {
   "cell_type": "code",
   "execution_count": 365,
   "metadata": {},
   "outputs": [],
   "source": [
    "# let's clean this up starting from left to right\n",
    "# Tax Rate needs to be a decimal & that's all\n",
    "fedtax[['Tax','%']] = fedtax['Tax rate'].str.split('%',expand=True)\n",
    "fedtax = fedtax.drop(['%'], axis=1)\n",
    "fedtax = fedtax.drop(['Tax rate'], axis=1)\n",
    "fedtax['Tax'] = fedtax.Tax.astype(float)\n",
    "tax_rate = fedtax['Tax'] / 100\n",
    "fedtax['Fed_Rate'] = tax_rate\n",
    "fedtax = fedtax.drop(['Tax'],axis=1)\n"
   ]
  },
  {
   "cell_type": "code",
   "execution_count": 366,
   "metadata": {},
   "outputs": [],
   "source": [
    "# let's deal with the bottom which we dont need to work with in Tableau; we can work on the previous high\n",
    "fedtax = fedtax[:6]"
   ]
  },
  {
   "cell_type": "code",
   "execution_count": 367,
   "metadata": {},
   "outputs": [
    {
     "data": {
      "text/plain": [
       "Fed_Rate    float64\n",
       "Fed_Low     float64\n",
       "Fed_High    float64\n",
       "dtype: object"
      ]
     },
     "execution_count": 367,
     "metadata": {},
     "output_type": "execute_result"
    }
   ],
   "source": [
    "# let's split the single filer tax brackets into a low & mid range which we can work with in Tableau\n",
    "fedtax[['Low', 'High']] = fedtax['Single'].str.split('to',expand=True)\n",
    "fedtax[['Fed_Low']] = fedtax['Low'].str.replace('$','')\n",
    "fedtax[['Fed_High']] = fedtax['High'].str.replace('$','')\n",
    "fedtax = fedtax.drop(['Single','High','Low'],axis=1)\n",
    "fedtax.replace(',','', regex=True, inplace=True)\n",
    "fedtax['Fed_Low'] = fedtax.Fed_Low.astype(float)\n",
    "fedtax['Fed_High'] = fedtax.Fed_High.astype(float)\n",
    "fedtax.dtypes\n"
   ]
  },
  {
   "cell_type": "code",
   "execution_count": 368,
   "metadata": {},
   "outputs": [
    {
     "data": {
      "text/html": [
       "<div>\n",
       "<style scoped>\n",
       "    .dataframe tbody tr th:only-of-type {\n",
       "        vertical-align: middle;\n",
       "    }\n",
       "\n",
       "    .dataframe tbody tr th {\n",
       "        vertical-align: top;\n",
       "    }\n",
       "\n",
       "    .dataframe thead th {\n",
       "        text-align: right;\n",
       "    }\n",
       "</style>\n",
       "<table border=\"1\" class=\"dataframe\">\n",
       "  <thead>\n",
       "    <tr style=\"text-align: right;\">\n",
       "      <th></th>\n",
       "      <th>Fed_Rate</th>\n",
       "      <th>Fed_Low</th>\n",
       "      <th>Fed_High</th>\n",
       "    </tr>\n",
       "  </thead>\n",
       "  <tbody>\n",
       "    <tr>\n",
       "      <th>0</th>\n",
       "      <td>0.10</td>\n",
       "      <td>0.0</td>\n",
       "      <td>9875.0</td>\n",
       "    </tr>\n",
       "    <tr>\n",
       "      <th>1</th>\n",
       "      <td>0.12</td>\n",
       "      <td>9876.0</td>\n",
       "      <td>40125.0</td>\n",
       "    </tr>\n",
       "    <tr>\n",
       "      <th>2</th>\n",
       "      <td>0.22</td>\n",
       "      <td>40126.0</td>\n",
       "      <td>85525.0</td>\n",
       "    </tr>\n",
       "    <tr>\n",
       "      <th>3</th>\n",
       "      <td>0.24</td>\n",
       "      <td>85526.0</td>\n",
       "      <td>163300.0</td>\n",
       "    </tr>\n",
       "    <tr>\n",
       "      <th>4</th>\n",
       "      <td>0.32</td>\n",
       "      <td>163301.0</td>\n",
       "      <td>207350.0</td>\n",
       "    </tr>\n",
       "    <tr>\n",
       "      <th>5</th>\n",
       "      <td>0.35</td>\n",
       "      <td>207351.0</td>\n",
       "      <td>518400.0</td>\n",
       "    </tr>\n",
       "  </tbody>\n",
       "</table>\n",
       "</div>"
      ],
      "text/plain": [
       "   Fed_Rate   Fed_Low  Fed_High\n",
       "0      0.10       0.0    9875.0\n",
       "1      0.12    9876.0   40125.0\n",
       "2      0.22   40126.0   85525.0\n",
       "3      0.24   85526.0  163300.0\n",
       "4      0.32  163301.0  207350.0\n",
       "5      0.35  207351.0  518400.0"
      ]
     },
     "execution_count": 368,
     "metadata": {},
     "output_type": "execute_result"
    }
   ],
   "source": [
    "fedtax"
   ]
  },
  {
   "cell_type": "code",
   "execution_count": 369,
   "metadata": {},
   "outputs": [],
   "source": [
    "mx = ( fedtax['Fed_High'] - fedtax['Fed_Low'] ) * fedtax['Fed_Rate']\n",
    "fedtax['Tranche_Max'] = mx"
   ]
  },
  {
   "cell_type": "code",
   "execution_count": 370,
   "metadata": {},
   "outputs": [
    {
     "data": {
      "text/html": [
       "<div>\n",
       "<style scoped>\n",
       "    .dataframe tbody tr th:only-of-type {\n",
       "        vertical-align: middle;\n",
       "    }\n",
       "\n",
       "    .dataframe tbody tr th {\n",
       "        vertical-align: top;\n",
       "    }\n",
       "\n",
       "    .dataframe thead th {\n",
       "        text-align: right;\n",
       "    }\n",
       "</style>\n",
       "<table border=\"1\" class=\"dataframe\">\n",
       "  <thead>\n",
       "    <tr style=\"text-align: right;\">\n",
       "      <th></th>\n",
       "      <th>Fed_Rate</th>\n",
       "      <th>Fed_Low</th>\n",
       "      <th>Fed_High</th>\n",
       "      <th>Tranche_Max</th>\n",
       "    </tr>\n",
       "  </thead>\n",
       "  <tbody>\n",
       "    <tr>\n",
       "      <th>0</th>\n",
       "      <td>0.10</td>\n",
       "      <td>0.0</td>\n",
       "      <td>9875.0</td>\n",
       "      <td>987.50</td>\n",
       "    </tr>\n",
       "    <tr>\n",
       "      <th>1</th>\n",
       "      <td>0.12</td>\n",
       "      <td>9876.0</td>\n",
       "      <td>40125.0</td>\n",
       "      <td>3629.88</td>\n",
       "    </tr>\n",
       "    <tr>\n",
       "      <th>2</th>\n",
       "      <td>0.22</td>\n",
       "      <td>40126.0</td>\n",
       "      <td>85525.0</td>\n",
       "      <td>9987.78</td>\n",
       "    </tr>\n",
       "    <tr>\n",
       "      <th>3</th>\n",
       "      <td>0.24</td>\n",
       "      <td>85526.0</td>\n",
       "      <td>163300.0</td>\n",
       "      <td>18665.76</td>\n",
       "    </tr>\n",
       "    <tr>\n",
       "      <th>4</th>\n",
       "      <td>0.32</td>\n",
       "      <td>163301.0</td>\n",
       "      <td>207350.0</td>\n",
       "      <td>14095.68</td>\n",
       "    </tr>\n",
       "    <tr>\n",
       "      <th>5</th>\n",
       "      <td>0.35</td>\n",
       "      <td>207351.0</td>\n",
       "      <td>518400.0</td>\n",
       "      <td>108867.15</td>\n",
       "    </tr>\n",
       "  </tbody>\n",
       "</table>\n",
       "</div>"
      ],
      "text/plain": [
       "   Fed_Rate   Fed_Low  Fed_High  Tranche_Max\n",
       "0      0.10       0.0    9875.0       987.50\n",
       "1      0.12    9876.0   40125.0      3629.88\n",
       "2      0.22   40126.0   85525.0      9987.78\n",
       "3      0.24   85526.0  163300.0     18665.76\n",
       "4      0.32  163301.0  207350.0     14095.68\n",
       "5      0.35  207351.0  518400.0    108867.15"
      ]
     },
     "execution_count": 370,
     "metadata": {},
     "output_type": "execute_result"
    }
   ],
   "source": [
    "fedtax"
   ]
  },
  {
   "cell_type": "code",
   "execution_count": 371,
   "metadata": {},
   "outputs": [
    {
     "name": "stdout",
     "output_type": "stream",
     "text": [
      "C:\\Users\\rands\n"
     ]
    }
   ],
   "source": [
    "cd"
   ]
  },
  {
   "cell_type": "code",
   "execution_count": 372,
   "metadata": {},
   "outputs": [
    {
     "name": "stdout",
     "output_type": "stream",
     "text": [
      "Finished\n"
     ]
    }
   ],
   "source": [
    "fed_tax = pd.DataFrame(fedtax)\n",
    "\n",
    "fed_tax.to_excel('./Scraping/Tableau/Graduation_Statistics/fed_tax.xlsx')\n",
    "print('Finished')"
   ]
  },
  {
   "cell_type": "code",
   "execution_count": null,
   "metadata": {},
   "outputs": [],
   "source": []
  },
  {
   "cell_type": "markdown",
   "metadata": {},
   "source": [
    "#  State Income Tax"
   ]
  },
  {
   "cell_type": "code",
   "execution_count": 373,
   "metadata": {},
   "outputs": [
    {
     "data": {
      "text/plain": [
       "array(['New York', 'California', 'Illinois', 'Texas', 'Arizona',\n",
       "       'Pennsylvania', 'Florida', 'Ohio', 'North Carolina', 'Indiana',\n",
       "       'Washington', 'Colorado', 'District of Columbia', 'Massachusetts',\n",
       "       'Tennessee', 'Oklahoma', 'Nevada', 'Michigan', 'Oregon',\n",
       "       'Kentucky', 'Wisconsin', 'Maryland', 'New Mexico', 'Georgia',\n",
       "       'Missouri', 'Nebraska', 'Virginia', 'Minnesota', 'Kansas',\n",
       "       'Louisiana', 'Hawaii', 'Puerto Rico', 'Alaska', 'New Jersey',\n",
       "       'Idaho', 'Iowa', 'Alabama', 'Utah', 'Arkansas', 'South Dakota',\n",
       "       'Rhode Island', 'Mississippi', 'Connecticut'], dtype=object)"
      ]
     },
     "execution_count": 373,
     "metadata": {},
     "output_type": "execute_result"
    }
   ],
   "source": [
    "# printing out the list of states required\n",
    "states_list = wpr_rev.State.unique()\n",
    "states_list"
   ]
  },
  {
   "cell_type": "code",
   "execution_count": 374,
   "metadata": {},
   "outputs": [
    {
     "data": {
      "text/plain": [
       "['Alaska', 'Tennessee', 'Flordia', 'Texas', 'Washington', 'Nevada']"
      ]
     },
     "execution_count": 374,
     "metadata": {},
     "output_type": "execute_result"
    }
   ],
   "source": [
    "# configure initial dataframe with those at zero & build on that\n",
    "states_tax_free = ['Alaska', 'Tennessee', 'Flordia', 'Texas', 'Washington','Nevada' ]\n",
    "states_tax_free"
   ]
  },
  {
   "cell_type": "code",
   "execution_count": null,
   "metadata": {},
   "outputs": [],
   "source": []
  },
  {
   "cell_type": "code",
   "execution_count": null,
   "metadata": {},
   "outputs": [],
   "source": []
  },
  {
   "cell_type": "code",
   "execution_count": null,
   "metadata": {},
   "outputs": [],
   "source": []
  },
  {
   "cell_type": "code",
   "execution_count": null,
   "metadata": {},
   "outputs": [],
   "source": []
  },
  {
   "cell_type": "code",
   "execution_count": null,
   "metadata": {},
   "outputs": [],
   "source": []
  },
  {
   "cell_type": "code",
   "execution_count": null,
   "metadata": {},
   "outputs": [],
   "source": []
  },
  {
   "cell_type": "code",
   "execution_count": null,
   "metadata": {},
   "outputs": [],
   "source": []
  },
  {
   "cell_type": "code",
   "execution_count": null,
   "metadata": {},
   "outputs": [],
   "source": []
  },
  {
   "cell_type": "markdown",
   "metadata": {},
   "source": [
    "# Cost of Living"
   ]
  },
  {
   "cell_type": "markdown",
   "metadata": {},
   "source": [
    "**Est. Monthly Costs without Rent**"
   ]
  },
  {
   "cell_type": "code",
   "execution_count": 375,
   "metadata": {},
   "outputs": [],
   "source": [
    "# NEED TO RE-CONFIGURE TO THE 100 LARGEST CITIES IN THE COUNTRY or IF ERROR CLAUSE\n",
    "cof2_list = []\n",
    "def cost_living(cit):\n",
    "    cit = str(cit)\n",
    "    cit = cit.replace('Aurora','Aurora-CO')\n",
    "    cit = cit.replace('Arlington','Arlington-TX')\n",
    "    cit = cit.replace('St. Petersburg','Saint-Petersburg-FL')\n",
    "    cit = cit.replace('Hialeah','Hialeah-FL-United-States')\n",
    "    cit = cit.replace('Chula Vista','Chula-Vista-CA-United-States')\n",
    "    cit = cit.replace('Gilbert','Gilbert-AZ-United-States')\n",
    "    cit = cit.replace('Glendale','Glendale-AZ-United-States')\n",
    "    cit = cit.replace('Garland','Garland-TX-United-States')\n",
    "    cit = cit.replace('Paradise','Paradise-CA-United-States')\n",
    "    cit = cit.replace('Hialeah','Hialeah-FL-United-States')\n",
    "\n",
    "    cit = cit.replace('St.','Saint')\n",
    "    cit = cit.replace(' ','-')\n",
    "\n",
    "    # The if error statement should probably go here\n",
    "    url = r.get(f'https://www.numbeo.com/cost-of-living/in/{cit}')\n",
    "    # to here.\n",
    "    \n",
    "    soup = bs(url.content)\n",
    "    cof = soup.find_all('span', attrs= {'class': 'emp_number'} )\n",
    "    cof_rev = cof[1]\n",
    "    cof_rev = str(cof_rev)\n",
    "    cof_rev = cof_rev.replace('$','')\n",
    "    cof_rev = cof_rev.replace(',','')\n",
    "    \n",
    "    cof_rev = cof_rev.replace('<span class=\"emp_number\">','')\n",
    "    cof_rev = cof_rev.replace('</span>','')\n",
    "    cof_rev = float(cof_rev)\n",
    "\n",
    "    cof2_list.append(cof_rev)\n"
   ]
  },
  {
   "cell_type": "code",
   "execution_count": 376,
   "metadata": {},
   "outputs": [],
   "source": [
    "city = 0\n",
    "for city in range(0,50):\n",
    "\n",
    "    # The if error statement should probably go here\n",
    "    cost_living(main['Name'][city])\n",
    "    # to here.\n",
    "\n",
    "    city = city + 1"
   ]
  },
  {
   "cell_type": "code",
   "execution_count": 377,
   "metadata": {},
   "outputs": [],
   "source": [
    "cof2_list = pd.DataFrame(cof2_list)"
   ]
  },
  {
   "cell_type": "markdown",
   "metadata": {},
   "source": [
    "**Same for Rent**"
   ]
  },
  {
   "cell_type": "markdown",
   "metadata": {},
   "source": [
    "This is for one bedroom in the city centre"
   ]
  },
  {
   "cell_type": "code",
   "execution_count": 378,
   "metadata": {},
   "outputs": [],
   "source": [
    "aprt_cc_list = []\n",
    "def aprt_cost_cc(a_cit):\n",
    "    a_cit = str(a_cit)\n",
    "    a_cit = a_cit.replace('St. Petersburg','Saint-Petersburg-FL')\n",
    "    a_cit = a_cit.replace('St.','Saint')\n",
    "    a_cit = a_cit.replace('Hialeah','Hialeah-FL-United-States')\n",
    "    a_cit = a_cit.replace('Chula Vista','Chula-Vista-CA-United-States')\n",
    "    a_cit = a_cit.replace('Aurora','Aurora-CO')\n",
    "    a_cit = a_cit.replace('Arlington','Arlington-TX')\n",
    "    a_cit = a_cit.replace('Gilbert','Gilbert-AZ-United-States')\n",
    "    a_cit = a_cit.replace('Glendale','Glendale-AZ-United-States')\n",
    "    a_cit = a_cit.replace('Garland','Garland-TX-United-States')\n",
    "    a_cit = a_cit.replace('Paradise','Paradise-CA-United-States')\n",
    "    a_cit = a_cit.replace('Hialeah','Hialeah-FL-United-States')\n",
    "\n",
    "    a_cit = a_cit.replace(' ','-')\n",
    "    \n",
    "    url = r.get(f'https://www.numbeo.com/cost-of-living/in/{a_cit}')\n",
    "    soup_aprt = bs(url.content)\n",
    "    cof_cc = soup_aprt.find_all('span', attrs= {'class': 'first_currency'} )\n",
    "    cof_rev_cc = cof_cc[47]\n",
    "    cof_rev_cc = str(cof_rev_cc)\n",
    "    cof_rev_cc = cof_rev_cc.replace('$','')\n",
    "    cof_rev_cc = cof_rev_cc.replace(',','')\n",
    "    \n",
    "    cof_rev_cc = cof_rev_cc.replace('<span class=\"first_currency\">','')\n",
    "    cof_rev_cc = cof_rev_cc.replace('</span>','')\n",
    "    cof_rev_cc = float(cof_rev_cc)\n",
    "\n",
    "    aprt_cc_list.append(cof_rev_cc)"
   ]
  },
  {
   "cell_type": "code",
   "execution_count": 379,
   "metadata": {},
   "outputs": [],
   "source": [
    "h = 0\n",
    "for h in range(0,50):\n",
    "    aprt_cost_cc(main['Name'][h])\n",
    "    \n",
    "    h = h + 1"
   ]
  },
  {
   "cell_type": "code",
   "execution_count": 380,
   "metadata": {},
   "outputs": [],
   "source": [
    "aprt_cc_list = pd.DataFrame(aprt_cc_list)"
   ]
  },
  {
   "cell_type": "markdown",
   "metadata": {},
   "source": [
    "This is for one bedroom outside the city centre"
   ]
  },
  {
   "cell_type": "code",
   "execution_count": 381,
   "metadata": {},
   "outputs": [],
   "source": [
    "aprt_oc_list = []\n",
    "def aprt_cost_oc(b_cit):\n",
    "    b_cit = str(b_cit)\n",
    "    b_cit = b_cit.replace('St. Petersburg','Saint-Petersburg-FL')\n",
    "    b_cit = b_cit.replace('St.','Saint')\n",
    "    b_cit = b_cit.replace('Hialeah','Hialeah-FL-United-States')\n",
    "    b_cit = b_cit.replace('Chula Vista','Chula-Vista-CA-United-States')\n",
    "    b_cit = b_cit.replace('Aurora','Aurora-CO')\n",
    "    b_cit = b_cit.replace('Arlington','Arlington-TX')\n",
    "    b_cit = b_cit.replace('Gilbert','Gilbert-AZ-United-States')\n",
    "    b_cit = b_cit.replace('Glendale','Glendale-AZ-United-States')\n",
    "    b_cit = b_cit.replace('Garland','Garland-TX-United-States')\n",
    "    b_cit = b_cit.replace('Paradise','Paradise-CA-United-States')\n",
    "    b_cit = b_cit.replace('Hialeah','Hialeah-FL-United-States')\n",
    "    b_cit = b_cit.replace(' ','-')\n",
    "    \n",
    "    url = r.get(f'https://www.numbeo.com/cost-of-living/in/{b_cit}')\n",
    "    soup_oc_aprt = bs(url.content)\n",
    "    cof_oc = soup_oc_aprt.find_all('span', attrs= {'class': 'first_currency'} )\n",
    "    cof_rev_oc = cof_oc[48]\n",
    "    cof_rev_oc = str(cof_rev_oc)\n",
    "    cof_rev_oc = cof_rev_oc.replace('$','')\n",
    "    cof_rev_oc = cof_rev_oc.replace(',','')\n",
    "    \n",
    "    cof_rev_oc = cof_rev_oc.replace('<span class=\"first_currency\">','')\n",
    "    cof_rev_oc = cof_rev_oc.replace('</span>','')\n",
    "    cof_rev_oc = float(cof_rev_oc)\n",
    "\n",
    "    aprt_oc_list.append(cof_rev_oc)"
   ]
  },
  {
   "cell_type": "code",
   "execution_count": 382,
   "metadata": {},
   "outputs": [],
   "source": [
    "oc = 0\n",
    "for oc in range(0,50):\n",
    "    aprt_cost_oc(main['Name'][oc])\n",
    "    \n",
    "    oc = oc + 1"
   ]
  },
  {
   "cell_type": "code",
   "execution_count": 383,
   "metadata": {},
   "outputs": [],
   "source": [
    "aprt_oc_list = pd.DataFrame(aprt_oc_list)"
   ]
  },
  {
   "cell_type": "markdown",
   "metadata": {},
   "source": [
    "**Utilities**"
   ]
  },
  {
   "cell_type": "code",
   "execution_count": 384,
   "metadata": {},
   "outputs": [],
   "source": [
    "# they say it's included in the cost of living #'s but I don't believe so; add it"
   ]
  },
  {
   "cell_type": "code",
   "execution_count": 385,
   "metadata": {},
   "outputs": [],
   "source": [
    "util_list = []\n",
    "def util_oc(u_cit):\n",
    "    u_cit = str(u_cit)\n",
    "    u_cit = u_cit.replace(' ','-')\n",
    "    u_cit = u_cit.replace('St. Petersburg','Saint-Petersburg-FL')\n",
    "    u_cit = u_cit.replace('St.','Saint')\n",
    "    u_cit = u_cit.replace('Chula Vista','Chula-Vista-CA-United-States')\n",
    "    u_cit = u_cit.replace('Aurora','Aurora-CO')\n",
    "    u_cit = u_cit.replace('Arlington','Arlington-TX')\n",
    "    u_cit = u_cit.replace('Gilbert','Gilbert-AZ-United-States')\n",
    "    u_cit = u_cit.replace('Glendale','Glendale-AZ-United-States')\n",
    "    u_cit = u_cit.replace('Garland','Garland-TX-United-States')\n",
    "    u_cit = u_cit.replace('Paradise','Paradise-CA-United-States')\n",
    "    u_cit = u_cit.replace('Hialeah','Hialeah-FL-United-States')\n",
    "    u_cit = u_cit.replace('Hialeah','Hialeah-FL-United-States')\n",
    "    \n",
    "    url = r.get(f'https://www.numbeo.com/cost-of-living/in/{u_cit}')\n",
    "    soup_util = bs(url.content)\n",
    "    util_oc = soup_util.find_all('span', attrs= {'class': 'first_currency'} )\n",
    "    cof_rev_util = util_oc[35]\n",
    "    cof_rev_util = str(cof_rev_util)\n",
    "    cof_rev_util = cof_rev_util.replace('$','')\n",
    "    cof_rev_util = cof_rev_util.replace(',','')\n",
    "    \n",
    "    cof_rev_util = cof_rev_util.replace('<span class=\"first_currency\">','')\n",
    "    cof_rev_util = cof_rev_util.replace('</span>','')\n",
    "    cof_rev_util = float(cof_rev_util)\n",
    "\n",
    "    util_list.append(cof_rev_util)"
   ]
  },
  {
   "cell_type": "code",
   "execution_count": 386,
   "metadata": {},
   "outputs": [],
   "source": [
    "util = 0\n",
    "for util in range(0,50):\n",
    "    util_oc(main['Name'][util])\n",
    "    \n",
    "    util = util + 1\n",
    "\n",
    "# util_list"
   ]
  },
  {
   "cell_type": "code",
   "execution_count": 387,
   "metadata": {},
   "outputs": [],
   "source": [
    "util_list = pd.DataFrame(util_list)"
   ]
  },
  {
   "cell_type": "markdown",
   "metadata": {},
   "source": [
    "**Broadband Internet**"
   ]
  },
  {
   "cell_type": "code",
   "execution_count": 388,
   "metadata": {},
   "outputs": [],
   "source": [
    "# they say it's included in the cost of living #'s but I don't believe so; add it"
   ]
  },
  {
   "cell_type": "code",
   "execution_count": 389,
   "metadata": {},
   "outputs": [],
   "source": [
    "int_list = []\n",
    "def broadband_c(int_c):\n",
    "    int_c = str(int_c)\n",
    "    int_c = int_c.replace(' ','-')\n",
    "    int_c = int_c.replace('St. Petersburg','Saint-Petersburg-FL')\n",
    "    int_c = int_c.replace('St.','Saint')\n",
    "    int_c = int_c.replace('Chula Vista','Chula-Vista-CA-United-States')\n",
    "    int_c = int_c.replace('Aurora','Aurora-CO')\n",
    "    int_c = int_c.replace('Arlington','Arlington-TX')\n",
    "    int_c = int_c.replace('Gilbert','Gilbert-AZ-United-States')\n",
    "    int_c = int_c.replace('Glendale','Glendale-AZ-United-States')\n",
    "    int_c = int_c.replace('Garland','Garland-TX-United-States')\n",
    "    int_c = int_c.replace('Paradise','Paradise-CA-United-States')\n",
    "    int_c = int_c.replace('Hialeah','Hialeah-FL-United-States')\n",
    "    int_c = int_c.replace('Hialeah','Hialeah-FL-United-States')\n",
    "    \n",
    "    url = r.get(f'https://www.numbeo.com/cost-of-living/in/{int_c}')\n",
    "    soup_int = bs(url.content)\n",
    "    internet_c = soup_int.find_all('span', attrs= {'class': 'first_currency'} )\n",
    "    internet_c_rev = internet_c[37]\n",
    "    internet_c_rev = str(internet_c_rev)\n",
    "    internet_c_rev = internet_c_rev.replace('$','')\n",
    "    internet_c_rev = internet_c_rev.replace(',','')\n",
    "    \n",
    "    internet_c_rev = internet_c_rev.replace('<span class=\"first_currency\">','')\n",
    "    internet_c_rev = internet_c_rev.replace('</span>','')\n",
    "    internet_c_rev = float(internet_c_rev)\n",
    "\n",
    "    int_list.append(internet_c_rev)"
   ]
  },
  {
   "cell_type": "code",
   "execution_count": 390,
   "metadata": {},
   "outputs": [],
   "source": [
    "interweb = 0\n",
    "for interweb in range(0,50):\n",
    "    broadband_c(main['Name'][interweb])\n",
    "    \n",
    "    interweb = interweb + 1\n",
    "\n",
    "# int_list"
   ]
  },
  {
   "cell_type": "code",
   "execution_count": 391,
   "metadata": {},
   "outputs": [],
   "source": [
    "int_list = pd.DataFrame(int_list)"
   ]
  },
  {
   "cell_type": "markdown",
   "metadata": {},
   "source": [
    "**Cities need a car?**"
   ]
  },
  {
   "cell_type": "markdown",
   "metadata": {},
   "source": [
    "All information required here will be \"temporarily\" handled by hand; will make the adjustments later."
   ]
  },
  {
   "cell_type": "code",
   "execution_count": 392,
   "metadata": {},
   "outputs": [],
   "source": [
    "# car_url = r.get('https://www.habitat.org/stories/top-10-cities-where-you-can-live-without-car-and-help-save-earth')\n",
    "\n",
    "# car_soup = bs(car_url.content)\n",
    "# print(car_soup.prettify())\n",
    "\n",
    "# car_header = car_soup.find_all('div', attrs= {'class': 'story l-offset-2 l-padded l-padded--top'})\n",
    "# car_check = car_header[1]\n",
    "# car_check = str(car_check)\n",
    "# car_check = check.replace('$','')\n",
    "# car_check = check.replace('<span class=\"emp_number\">','')\n",
    "# car_check = check.replace('</span>','')\n",
    "# car_check"
   ]
  },
  {
   "cell_type": "code",
   "execution_count": 393,
   "metadata": {},
   "outputs": [],
   "source": [
    "# i = 0\n",
    "# for i in range(0,200):\n",
    "    # x = entry_income(main_ei['Name'][i],main_ei['State.Ab'][i])\n",
    "\n",
    "    # wpr_rev_ei['Entry Salary'] = ent_income\n",
    "    # i = i + 1"
   ]
  },
  {
   "cell_type": "code",
   "execution_count": null,
   "metadata": {},
   "outputs": [],
   "source": []
  },
  {
   "cell_type": "markdown",
   "metadata": {},
   "source": [
    "**Car Costs**"
   ]
  },
  {
   "cell_type": "markdown",
   "metadata": {},
   "source": [
    "All information required here will be \"temporarily\" handled by hand; will make the adjustments later."
   ]
  },
  {
   "cell_type": "code",
   "execution_count": null,
   "metadata": {},
   "outputs": [],
   "source": []
  },
  {
   "cell_type": "markdown",
   "metadata": {},
   "source": [
    "# Entry Level Income"
   ]
  },
  {
   "cell_type": "code",
   "execution_count": 394,
   "metadata": {},
   "outputs": [],
   "source": [
    "# complete\n",
    "ent_income = []\n",
    "def entry_income(city,state):\n",
    "    ent_sal = pd.read_html(f'https://www.indeed.com/career/data-scientist/salaries/{city}--{state}?from=top_sb')\n",
    "    city = city.replace(' ','-')\n",
    "    addition = ent_sal[0]['Per year'][0]\n",
    "    addition = addition.replace('$','')\n",
    "    addition = addition.replace(',','')\n",
    "    addition = int(addition)\n",
    "    \n",
    "    ent_income.append(addition)\n",
    "       "
   ]
  },
  {
   "cell_type": "code",
   "execution_count": 395,
   "metadata": {},
   "outputs": [],
   "source": [
    "main_ei = main.copy()"
   ]
  },
  {
   "cell_type": "code",
   "execution_count": 396,
   "metadata": {},
   "outputs": [],
   "source": [
    "main_ei['Name'] = main_ei['Name'].replace('-','~', regex=True)\n",
    "main_ei['Name'] = main_ei['Name'].replace('St.','Saint', regex=True)\n",
    "main_ei['Name'] = main_ei['Name'].replace(' ','-', regex=True)"
   ]
  },
  {
   "cell_type": "code",
   "execution_count": 397,
   "metadata": {},
   "outputs": [],
   "source": [
    "i = 0\n",
    "for i in range(0,50):\n",
    "    x = entry_income(main_ei['Name'][i],main_ei['State.Ab'][i])\n",
    "\n",
    "    # wpr_rev_ei['Entry Salary'] = ent_income\n",
    "    i = i + 1\n"
   ]
  },
  {
   "cell_type": "code",
   "execution_count": 398,
   "metadata": {},
   "outputs": [],
   "source": [
    "# ent_income"
   ]
  },
  {
   "cell_type": "code",
   "execution_count": 399,
   "metadata": {},
   "outputs": [],
   "source": [
    "ent_income_rev = pd.Series(ent_income)"
   ]
  },
  {
   "cell_type": "code",
   "execution_count": 400,
   "metadata": {
    "scrolled": true
   },
   "outputs": [
    {
     "data": {
      "text/html": [
       "<div>\n",
       "<style scoped>\n",
       "    .dataframe tbody tr th:only-of-type {\n",
       "        vertical-align: middle;\n",
       "    }\n",
       "\n",
       "    .dataframe tbody tr th {\n",
       "        vertical-align: top;\n",
       "    }\n",
       "\n",
       "    .dataframe thead th {\n",
       "        text-align: right;\n",
       "    }\n",
       "</style>\n",
       "<table border=\"1\" class=\"dataframe\">\n",
       "  <thead>\n",
       "    <tr style=\"text-align: right;\">\n",
       "      <th></th>\n",
       "      <th>Rank</th>\n",
       "      <th>Name</th>\n",
       "      <th>State</th>\n",
       "      <th>2021 Pop</th>\n",
       "      <th>2010 Census</th>\n",
       "      <th>Density (mi²)</th>\n",
       "      <th>Area (mi²)</th>\n",
       "      <th>State.Ab</th>\n",
       "      <th>lat</th>\n",
       "      <th>lng</th>\n",
       "    </tr>\n",
       "  </thead>\n",
       "  <tbody>\n",
       "    <tr>\n",
       "      <th>0</th>\n",
       "      <td>1</td>\n",
       "      <td>New-York</td>\n",
       "      <td>New York</td>\n",
       "      <td>8230290</td>\n",
       "      <td>8190210</td>\n",
       "      <td>4083</td>\n",
       "      <td>300</td>\n",
       "      <td>NY</td>\n",
       "      <td>40.713054</td>\n",
       "      <td>-74.007228</td>\n",
       "    </tr>\n",
       "    <tr>\n",
       "      <th>1</th>\n",
       "      <td>2</td>\n",
       "      <td>Los-Angeles</td>\n",
       "      <td>California</td>\n",
       "      <td>3983540</td>\n",
       "      <td>3795510</td>\n",
       "      <td>1266</td>\n",
       "      <td>469</td>\n",
       "      <td>CA</td>\n",
       "      <td>34.052238</td>\n",
       "      <td>-118.243344</td>\n",
       "    </tr>\n",
       "    <tr>\n",
       "      <th>2</th>\n",
       "      <td>3</td>\n",
       "      <td>Chicago</td>\n",
       "      <td>Illinois</td>\n",
       "      <td>2679080</td>\n",
       "      <td>2697480</td>\n",
       "      <td>1756</td>\n",
       "      <td>227</td>\n",
       "      <td>IL</td>\n",
       "      <td>41.883229</td>\n",
       "      <td>-87.632398</td>\n",
       "    </tr>\n",
       "    <tr>\n",
       "      <th>3</th>\n",
       "      <td>4</td>\n",
       "      <td>Houston</td>\n",
       "      <td>Texas</td>\n",
       "      <td>2323660</td>\n",
       "      <td>2100280</td>\n",
       "      <td>541</td>\n",
       "      <td>640</td>\n",
       "      <td>TX</td>\n",
       "      <td>29.760803</td>\n",
       "      <td>-95.369506</td>\n",
       "    </tr>\n",
       "    <tr>\n",
       "      <th>4</th>\n",
       "      <td>5</td>\n",
       "      <td>Phoenix</td>\n",
       "      <td>Arizona</td>\n",
       "      <td>1733630</td>\n",
       "      <td>1449040</td>\n",
       "      <td>499</td>\n",
       "      <td>518</td>\n",
       "      <td>AZ</td>\n",
       "      <td>33.448204</td>\n",
       "      <td>-112.072585</td>\n",
       "    </tr>\n",
       "  </tbody>\n",
       "</table>\n",
       "</div>"
      ],
      "text/plain": [
       "   Rank         Name       State  2021 Pop  2010 Census  Density (mi²)  \\\n",
       "0     1     New-York    New York   8230290      8190210           4083   \n",
       "1     2  Los-Angeles  California   3983540      3795510           1266   \n",
       "2     3      Chicago    Illinois   2679080      2697480           1756   \n",
       "3     4      Houston       Texas   2323660      2100280            541   \n",
       "4     5      Phoenix     Arizona   1733630      1449040            499   \n",
       "\n",
       "   Area (mi²) State.Ab        lat         lng  \n",
       "0         300       NY  40.713054  -74.007228  \n",
       "1         469       CA  34.052238 -118.243344  \n",
       "2         227       IL  41.883229  -87.632398  \n",
       "3         640       TX  29.760803  -95.369506  \n",
       "4         518       AZ  33.448204 -112.072585  "
      ]
     },
     "execution_count": 400,
     "metadata": {},
     "output_type": "execute_result"
    }
   ],
   "source": [
    "main_ei.head()"
   ]
  },
  {
   "cell_type": "code",
   "execution_count": 401,
   "metadata": {},
   "outputs": [],
   "source": [
    "main_ei = pd.concat([main_ei,ent_income_rev, cof2_list, aprt_cc_list,aprt_oc_list,util_list,int_list], axis = 1, ignore_index=False)\n",
    "\n",
    "main_ei.columns = [ 'Rank', 'Name', 'State', '2021 Pop', '2010 Census', 'Density (mi²)',\n",
    "       'Area (mi²)', 'State.Ab', 'lat', 'lng', 'Entry Income', 'Mnth Living_c', 'Aprt_CityCenter',\n",
    "                  'Aprt_Suburb','Utilities', 'Internet' ]\n",
    "\n",
    "main_ei.index.names = [\"#\"]\n"
   ]
  },
  {
   "cell_type": "code",
   "execution_count": 402,
   "metadata": {},
   "outputs": [],
   "source": [
    "main_ei['Name'] = main_ei['Name'].replace('~','-', regex=True)\n",
    "main_ei['Name'] = main_ei['Name'].replace('Saint','St.', regex=True)\n",
    "main_ei['Name'] = main_ei['Name'].replace('-',' ', regex=True)"
   ]
  },
  {
   "cell_type": "code",
   "execution_count": 403,
   "metadata": {},
   "outputs": [
    {
     "data": {
      "text/html": [
       "<div>\n",
       "<style scoped>\n",
       "    .dataframe tbody tr th:only-of-type {\n",
       "        vertical-align: middle;\n",
       "    }\n",
       "\n",
       "    .dataframe tbody tr th {\n",
       "        vertical-align: top;\n",
       "    }\n",
       "\n",
       "    .dataframe thead th {\n",
       "        text-align: right;\n",
       "    }\n",
       "</style>\n",
       "<table border=\"1\" class=\"dataframe\">\n",
       "  <thead>\n",
       "    <tr style=\"text-align: right;\">\n",
       "      <th></th>\n",
       "      <th>Rank</th>\n",
       "      <th>Name</th>\n",
       "      <th>State</th>\n",
       "      <th>2021 Pop</th>\n",
       "      <th>2010 Census</th>\n",
       "      <th>Density (mi²)</th>\n",
       "      <th>Area (mi²)</th>\n",
       "      <th>State.Ab</th>\n",
       "      <th>lat</th>\n",
       "      <th>lng</th>\n",
       "      <th>Entry Income</th>\n",
       "      <th>Mnth Living_c</th>\n",
       "      <th>Aprt_CityCenter</th>\n",
       "      <th>Aprt_Suburb</th>\n",
       "      <th>Utilities</th>\n",
       "      <th>Internet</th>\n",
       "    </tr>\n",
       "    <tr>\n",
       "      <th>#</th>\n",
       "      <th></th>\n",
       "      <th></th>\n",
       "      <th></th>\n",
       "      <th></th>\n",
       "      <th></th>\n",
       "      <th></th>\n",
       "      <th></th>\n",
       "      <th></th>\n",
       "      <th></th>\n",
       "      <th></th>\n",
       "      <th></th>\n",
       "      <th></th>\n",
       "      <th></th>\n",
       "      <th></th>\n",
       "      <th></th>\n",
       "      <th></th>\n",
       "    </tr>\n",
       "  </thead>\n",
       "  <tbody>\n",
       "    <tr>\n",
       "      <th>0</th>\n",
       "      <td>1</td>\n",
       "      <td>New York</td>\n",
       "      <td>New York</td>\n",
       "      <td>8230290</td>\n",
       "      <td>8190210</td>\n",
       "      <td>4083</td>\n",
       "      <td>300</td>\n",
       "      <td>NY</td>\n",
       "      <td>40.713054</td>\n",
       "      <td>-74.007228</td>\n",
       "      <td>117836.0</td>\n",
       "      <td>1347.59</td>\n",
       "      <td>3089.22</td>\n",
       "      <td>2007.93</td>\n",
       "      <td>160.75</td>\n",
       "      <td>64.89</td>\n",
       "    </tr>\n",
       "    <tr>\n",
       "      <th>1</th>\n",
       "      <td>2</td>\n",
       "      <td>Los Angeles</td>\n",
       "      <td>California</td>\n",
       "      <td>3983540</td>\n",
       "      <td>3795510</td>\n",
       "      <td>1266</td>\n",
       "      <td>469</td>\n",
       "      <td>CA</td>\n",
       "      <td>34.052238</td>\n",
       "      <td>-118.243344</td>\n",
       "      <td>107015.0</td>\n",
       "      <td>1065.45</td>\n",
       "      <td>2220.29</td>\n",
       "      <td>1718.83</td>\n",
       "      <td>162.18</td>\n",
       "      <td>69.41</td>\n",
       "    </tr>\n",
       "    <tr>\n",
       "      <th>2</th>\n",
       "      <td>3</td>\n",
       "      <td>Chicago</td>\n",
       "      <td>Illinois</td>\n",
       "      <td>2679080</td>\n",
       "      <td>2697480</td>\n",
       "      <td>1756</td>\n",
       "      <td>227</td>\n",
       "      <td>IL</td>\n",
       "      <td>41.883229</td>\n",
       "      <td>-87.632398</td>\n",
       "      <td>105522.0</td>\n",
       "      <td>1015.93</td>\n",
       "      <td>1888.96</td>\n",
       "      <td>1205.85</td>\n",
       "      <td>150.09</td>\n",
       "      <td>60.67</td>\n",
       "    </tr>\n",
       "    <tr>\n",
       "      <th>3</th>\n",
       "      <td>4</td>\n",
       "      <td>Houston</td>\n",
       "      <td>Texas</td>\n",
       "      <td>2323660</td>\n",
       "      <td>2100280</td>\n",
       "      <td>541</td>\n",
       "      <td>640</td>\n",
       "      <td>TX</td>\n",
       "      <td>29.760803</td>\n",
       "      <td>-95.369506</td>\n",
       "      <td>95344.0</td>\n",
       "      <td>820.53</td>\n",
       "      <td>1415.49</td>\n",
       "      <td>994.59</td>\n",
       "      <td>147.48</td>\n",
       "      <td>62.95</td>\n",
       "    </tr>\n",
       "    <tr>\n",
       "      <th>4</th>\n",
       "      <td>5</td>\n",
       "      <td>Phoenix</td>\n",
       "      <td>Arizona</td>\n",
       "      <td>1733630</td>\n",
       "      <td>1449040</td>\n",
       "      <td>499</td>\n",
       "      <td>518</td>\n",
       "      <td>AZ</td>\n",
       "      <td>33.448204</td>\n",
       "      <td>-112.072585</td>\n",
       "      <td>110327.0</td>\n",
       "      <td>878.27</td>\n",
       "      <td>1290.14</td>\n",
       "      <td>1008.57</td>\n",
       "      <td>171.88</td>\n",
       "      <td>78.10</td>\n",
       "    </tr>\n",
       "  </tbody>\n",
       "</table>\n",
       "</div>"
      ],
      "text/plain": [
       "   Rank         Name       State  2021 Pop  2010 Census  Density (mi²)  \\\n",
       "#                                                                        \n",
       "0     1     New York    New York   8230290      8190210           4083   \n",
       "1     2  Los Angeles  California   3983540      3795510           1266   \n",
       "2     3      Chicago    Illinois   2679080      2697480           1756   \n",
       "3     4      Houston       Texas   2323660      2100280            541   \n",
       "4     5      Phoenix     Arizona   1733630      1449040            499   \n",
       "\n",
       "   Area (mi²) State.Ab        lat         lng  Entry Income  Mnth Living_c  \\\n",
       "#                                                                            \n",
       "0         300       NY  40.713054  -74.007228      117836.0        1347.59   \n",
       "1         469       CA  34.052238 -118.243344      107015.0        1065.45   \n",
       "2         227       IL  41.883229  -87.632398      105522.0        1015.93   \n",
       "3         640       TX  29.760803  -95.369506       95344.0         820.53   \n",
       "4         518       AZ  33.448204 -112.072585      110327.0         878.27   \n",
       "\n",
       "   Aprt_CityCenter  Aprt_Suburb  Utilities  Internet  \n",
       "#                                                     \n",
       "0          3089.22      2007.93     160.75     64.89  \n",
       "1          2220.29      1718.83     162.18     69.41  \n",
       "2          1888.96      1205.85     150.09     60.67  \n",
       "3          1415.49       994.59     147.48     62.95  \n",
       "4          1290.14      1008.57     171.88     78.10  "
      ]
     },
     "execution_count": 403,
     "metadata": {},
     "output_type": "execute_result"
    }
   ],
   "source": [
    "main_ei.head()"
   ]
  },
  {
   "cell_type": "markdown",
   "metadata": {},
   "source": [
    "**Until you figure out how to better manage the for loops on costs; we will need to cut the data into what you can pull. ( Top 50 )**"
   ]
  },
  {
   "cell_type": "code",
   "execution_count": 404,
   "metadata": {},
   "outputs": [],
   "source": [
    "main_ei = main_ei.loc[0:49]"
   ]
  },
  {
   "cell_type": "code",
   "execution_count": 406,
   "metadata": {},
   "outputs": [
    {
     "name": "stdout",
     "output_type": "stream",
     "text": [
      "Finished\n"
     ]
    }
   ],
   "source": [
    "main_ei = pd.DataFrame(main_ei)\n",
    "\n",
    "main_ei.to_excel('./Scraping/Tableau/Graduation_Statistics/wpr_inc.xlsx')\n",
    "print('Finished')"
   ]
  },
  {
   "cell_type": "markdown",
   "metadata": {},
   "source": [
    "**Brining back Fed Tax**"
   ]
  },
  {
   "cell_type": "code",
   "execution_count": 407,
   "metadata": {},
   "outputs": [
    {
     "data": {
      "text/html": [
       "<div>\n",
       "<style scoped>\n",
       "    .dataframe tbody tr th:only-of-type {\n",
       "        vertical-align: middle;\n",
       "    }\n",
       "\n",
       "    .dataframe tbody tr th {\n",
       "        vertical-align: top;\n",
       "    }\n",
       "\n",
       "    .dataframe thead th {\n",
       "        text-align: right;\n",
       "    }\n",
       "</style>\n",
       "<table border=\"1\" class=\"dataframe\">\n",
       "  <thead>\n",
       "    <tr style=\"text-align: right;\">\n",
       "      <th></th>\n",
       "      <th>Fed_Rate</th>\n",
       "      <th>Fed_Low</th>\n",
       "      <th>Fed_High</th>\n",
       "      <th>Tranche_Max</th>\n",
       "    </tr>\n",
       "  </thead>\n",
       "  <tbody>\n",
       "    <tr>\n",
       "      <th>0</th>\n",
       "      <td>0.10</td>\n",
       "      <td>0.0</td>\n",
       "      <td>9875.0</td>\n",
       "      <td>987.50</td>\n",
       "    </tr>\n",
       "    <tr>\n",
       "      <th>1</th>\n",
       "      <td>0.12</td>\n",
       "      <td>9876.0</td>\n",
       "      <td>40125.0</td>\n",
       "      <td>3629.88</td>\n",
       "    </tr>\n",
       "    <tr>\n",
       "      <th>2</th>\n",
       "      <td>0.22</td>\n",
       "      <td>40126.0</td>\n",
       "      <td>85525.0</td>\n",
       "      <td>9987.78</td>\n",
       "    </tr>\n",
       "    <tr>\n",
       "      <th>3</th>\n",
       "      <td>0.24</td>\n",
       "      <td>85526.0</td>\n",
       "      <td>163300.0</td>\n",
       "      <td>18665.76</td>\n",
       "    </tr>\n",
       "    <tr>\n",
       "      <th>4</th>\n",
       "      <td>0.32</td>\n",
       "      <td>163301.0</td>\n",
       "      <td>207350.0</td>\n",
       "      <td>14095.68</td>\n",
       "    </tr>\n",
       "    <tr>\n",
       "      <th>5</th>\n",
       "      <td>0.35</td>\n",
       "      <td>207351.0</td>\n",
       "      <td>518400.0</td>\n",
       "      <td>108867.15</td>\n",
       "    </tr>\n",
       "  </tbody>\n",
       "</table>\n",
       "</div>"
      ],
      "text/plain": [
       "   Fed_Rate   Fed_Low  Fed_High  Tranche_Max\n",
       "0      0.10       0.0    9875.0       987.50\n",
       "1      0.12    9876.0   40125.0      3629.88\n",
       "2      0.22   40126.0   85525.0      9987.78\n",
       "3      0.24   85526.0  163300.0     18665.76\n",
       "4      0.32  163301.0  207350.0     14095.68\n",
       "5      0.35  207351.0  518400.0    108867.15"
      ]
     },
     "execution_count": 407,
     "metadata": {},
     "output_type": "execute_result"
    }
   ],
   "source": [
    "fedtax"
   ]
  },
  {
   "cell_type": "code",
   "execution_count": 408,
   "metadata": {},
   "outputs": [],
   "source": [
    "fed_tax = []\n",
    "\n",
    "for row in main_ei['Entry Income']:\n",
    "    if row < fedtax['Fed_High'][2] : fed_tax.append(((main_ei['Entry Income']-fedtax['Fed_Low'][2])*fedtax['Fed_Rate'][2])\n",
    "                                                   +(fedtax['Tranche_Max'][0]+fedtax['Tranche_Max'][1]) )\n",
    "    elif fedtax['Fed_High'][2] < row < fedtax['Fed_High'][3] : fed_tax.append(((main_ei['Entry Income']-fedtax['Fed_Low'][3])*fedtax['Fed_Rate'][3])\n",
    "                                                   +(fedtax['Tranche_Max'][0]+fedtax['Tranche_Max'][1]+fedtax['Tranche_Max'][2]))\n",
    "    else:\n",
    "        end \n",
    "\n"
   ]
  },
  {
   "cell_type": "code",
   "execution_count": 409,
   "metadata": {},
   "outputs": [],
   "source": [
    "fed_tax = pd.DataFrame(fed_tax)"
   ]
  },
  {
   "cell_type": "code",
   "execution_count": 410,
   "metadata": {},
   "outputs": [],
   "source": [
    "fed_tax = fed_tax.T"
   ]
  },
  {
   "cell_type": "code",
   "execution_count": 411,
   "metadata": {},
   "outputs": [],
   "source": [
    "fed_cols = fed_tax.columns"
   ]
  },
  {
   "cell_type": "code",
   "execution_count": 412,
   "metadata": {},
   "outputs": [],
   "source": [
    "fed_tax.columns = ['Fed_tax', 'Entry Income', 'Entry Income', 'Entry Income',\n",
    "       'Entry Income', 'Entry Income', 'Entry Income', 'Entry Income',\n",
    "       'Entry Income', 'Entry Income', 'Entry Income', 'Entry Income',\n",
    "       'Entry Income', 'Entry Income', 'Entry Income', 'Entry Income',\n",
    "       'Entry Income', 'Entry Income', 'Entry Income', 'Entry Income',\n",
    "       'Entry Income', 'Entry Income', 'Entry Income', 'Entry Income',\n",
    "       'Entry Income', 'Entry Income', 'Entry Income', 'Entry Income',\n",
    "       'Entry Income', 'Entry Income', 'Entry Income', 'Entry Income',\n",
    "       'Entry Income', 'Entry Income', 'Entry Income', 'Entry Income',\n",
    "       'Entry Income', 'Entry Income', 'Entry Income', 'Entry Income',\n",
    "       'Entry Income', 'Entry Income', 'Entry Income', 'Entry Income',\n",
    "       'Entry Income', 'Entry Income', 'Entry Income', 'Entry Income',\n",
    "       'Entry Income', 'Entry Income']"
   ]
  },
  {
   "cell_type": "code",
   "execution_count": 413,
   "metadata": {},
   "outputs": [],
   "source": [
    "fed_tax = fed_tax.drop(['Entry Income'],axis=1)"
   ]
  },
  {
   "cell_type": "code",
   "execution_count": 414,
   "metadata": {},
   "outputs": [
    {
     "data": {
      "text/html": [
       "<div>\n",
       "<style scoped>\n",
       "    .dataframe tbody tr th:only-of-type {\n",
       "        vertical-align: middle;\n",
       "    }\n",
       "\n",
       "    .dataframe tbody tr th {\n",
       "        vertical-align: top;\n",
       "    }\n",
       "\n",
       "    .dataframe thead th {\n",
       "        text-align: right;\n",
       "    }\n",
       "</style>\n",
       "<table border=\"1\" class=\"dataframe\">\n",
       "  <thead>\n",
       "    <tr style=\"text-align: right;\">\n",
       "      <th></th>\n",
       "      <th>Fed_tax</th>\n",
       "    </tr>\n",
       "    <tr>\n",
       "      <th>#</th>\n",
       "      <th></th>\n",
       "    </tr>\n",
       "  </thead>\n",
       "  <tbody>\n",
       "    <tr>\n",
       "      <th>45</th>\n",
       "      <td>21031.64</td>\n",
       "    </tr>\n",
       "    <tr>\n",
       "      <th>46</th>\n",
       "      <td>13250.60</td>\n",
       "    </tr>\n",
       "    <tr>\n",
       "      <th>47</th>\n",
       "      <td>14781.32</td>\n",
       "    </tr>\n",
       "    <tr>\n",
       "      <th>48</th>\n",
       "      <td>16178.12</td>\n",
       "    </tr>\n",
       "    <tr>\n",
       "      <th>49</th>\n",
       "      <td>15619.88</td>\n",
       "    </tr>\n",
       "  </tbody>\n",
       "</table>\n",
       "</div>"
      ],
      "text/plain": [
       "     Fed_tax\n",
       "#           \n",
       "45  21031.64\n",
       "46  13250.60\n",
       "47  14781.32\n",
       "48  16178.12\n",
       "49  15619.88"
      ]
     },
     "execution_count": 414,
     "metadata": {},
     "output_type": "execute_result"
    }
   ],
   "source": [
    "fed_tax.tail()"
   ]
  },
  {
   "cell_type": "code",
   "execution_count": 415,
   "metadata": {},
   "outputs": [],
   "source": [
    "main_ei = pd.concat([main_ei, fed_tax], axis = 1, ignore_index=False)\n",
    "\n",
    "main_ei.columns = [ 'Rank', 'Name', 'State', '2021 Pop', '2010 Census', 'Density (mi²)',\n",
    "                   'Area (mi²)', 'State.Ab', 'lat', 'lng', 'Entry Income', 'Mnth Living_c',\n",
    "                   'Aprt_CityCenter','Aprt_Suburb','Utilities', 'Internet','Fed Tax' ]\n",
    "\n",
    "main_ei.index.names = [\"#\"]\n"
   ]
  },
  {
   "cell_type": "code",
   "execution_count": 416,
   "metadata": {},
   "outputs": [
    {
     "data": {
      "text/html": [
       "<div>\n",
       "<style scoped>\n",
       "    .dataframe tbody tr th:only-of-type {\n",
       "        vertical-align: middle;\n",
       "    }\n",
       "\n",
       "    .dataframe tbody tr th {\n",
       "        vertical-align: top;\n",
       "    }\n",
       "\n",
       "    .dataframe thead th {\n",
       "        text-align: right;\n",
       "    }\n",
       "</style>\n",
       "<table border=\"1\" class=\"dataframe\">\n",
       "  <thead>\n",
       "    <tr style=\"text-align: right;\">\n",
       "      <th></th>\n",
       "      <th>Rank</th>\n",
       "      <th>Name</th>\n",
       "      <th>State</th>\n",
       "      <th>2021 Pop</th>\n",
       "      <th>2010 Census</th>\n",
       "      <th>Density (mi²)</th>\n",
       "      <th>Area (mi²)</th>\n",
       "      <th>State.Ab</th>\n",
       "      <th>lat</th>\n",
       "      <th>lng</th>\n",
       "      <th>Entry Income</th>\n",
       "      <th>Mnth Living_c</th>\n",
       "      <th>Aprt_CityCenter</th>\n",
       "      <th>Aprt_Suburb</th>\n",
       "      <th>Utilities</th>\n",
       "      <th>Internet</th>\n",
       "      <th>Fed Tax</th>\n",
       "    </tr>\n",
       "    <tr>\n",
       "      <th>#</th>\n",
       "      <th></th>\n",
       "      <th></th>\n",
       "      <th></th>\n",
       "      <th></th>\n",
       "      <th></th>\n",
       "      <th></th>\n",
       "      <th></th>\n",
       "      <th></th>\n",
       "      <th></th>\n",
       "      <th></th>\n",
       "      <th></th>\n",
       "      <th></th>\n",
       "      <th></th>\n",
       "      <th></th>\n",
       "      <th></th>\n",
       "      <th></th>\n",
       "      <th></th>\n",
       "    </tr>\n",
       "  </thead>\n",
       "  <tbody>\n",
       "    <tr>\n",
       "      <th>47</th>\n",
       "      <td>51</td>\n",
       "      <td>Bakersfield</td>\n",
       "      <td>California</td>\n",
       "      <td>389007</td>\n",
       "      <td>348987</td>\n",
       "      <td>387</td>\n",
       "      <td>150</td>\n",
       "      <td>CA</td>\n",
       "      <td>35.373405</td>\n",
       "      <td>-119.018911</td>\n",
       "      <td>86260.0</td>\n",
       "      <td>997.92</td>\n",
       "      <td>896.67</td>\n",
       "      <td>828.57</td>\n",
       "      <td>222.26</td>\n",
       "      <td>85.00</td>\n",
       "      <td>14781.32</td>\n",
       "    </tr>\n",
       "    <tr>\n",
       "      <th>48</th>\n",
       "      <td>53</td>\n",
       "      <td>New Orleans</td>\n",
       "      <td>Louisiana</td>\n",
       "      <td>388424</td>\n",
       "      <td>347772</td>\n",
       "      <td>342</td>\n",
       "      <td>169</td>\n",
       "      <td>LA</td>\n",
       "      <td>29.950621</td>\n",
       "      <td>-90.074948</td>\n",
       "      <td>92080.0</td>\n",
       "      <td>997.49</td>\n",
       "      <td>1455.51</td>\n",
       "      <td>1051.57</td>\n",
       "      <td>186.61</td>\n",
       "      <td>72.42</td>\n",
       "      <td>16178.12</td>\n",
       "    </tr>\n",
       "    <tr>\n",
       "      <th>49</th>\n",
       "      <td>54</td>\n",
       "      <td>Cleveland</td>\n",
       "      <td>Ohio</td>\n",
       "      <td>376599</td>\n",
       "      <td>395926</td>\n",
       "      <td>722</td>\n",
       "      <td>78</td>\n",
       "      <td>OH</td>\n",
       "      <td>41.505546</td>\n",
       "      <td>-81.691500</td>\n",
       "      <td>89754.0</td>\n",
       "      <td>1034.27</td>\n",
       "      <td>1341.35</td>\n",
       "      <td>966.18</td>\n",
       "      <td>203.83</td>\n",
       "      <td>58.51</td>\n",
       "      <td>15619.88</td>\n",
       "    </tr>\n",
       "  </tbody>\n",
       "</table>\n",
       "</div>"
      ],
      "text/plain": [
       "    Rank         Name       State  2021 Pop  2010 Census  Density (mi²)  \\\n",
       "#                                                                         \n",
       "47    51  Bakersfield  California    389007       348987            387   \n",
       "48    53  New Orleans   Louisiana    388424       347772            342   \n",
       "49    54    Cleveland        Ohio    376599       395926            722   \n",
       "\n",
       "    Area (mi²) State.Ab        lat         lng  Entry Income  Mnth Living_c  \\\n",
       "#                                                                             \n",
       "47         150       CA  35.373405 -119.018911       86260.0         997.92   \n",
       "48         169       LA  29.950621  -90.074948       92080.0         997.49   \n",
       "49          78       OH  41.505546  -81.691500       89754.0        1034.27   \n",
       "\n",
       "    Aprt_CityCenter  Aprt_Suburb  Utilities  Internet   Fed Tax  \n",
       "#                                                                \n",
       "47           896.67       828.57     222.26     85.00  14781.32  \n",
       "48          1455.51      1051.57     186.61     72.42  16178.12  \n",
       "49          1341.35       966.18     203.83     58.51  15619.88  "
      ]
     },
     "execution_count": 416,
     "metadata": {},
     "output_type": "execute_result"
    }
   ],
   "source": [
    "main_ei.tail(3)"
   ]
  },
  {
   "cell_type": "markdown",
   "metadata": {},
   "source": [
    "**Brining in State Tax**"
   ]
  },
  {
   "cell_type": "markdown",
   "metadata": {},
   "source": [
    "Let's count how many these will be."
   ]
  },
  {
   "cell_type": "code",
   "execution_count": 417,
   "metadata": {},
   "outputs": [
    {
     "data": {
      "text/plain": [
       "29"
      ]
     },
     "execution_count": 417,
     "metadata": {},
     "output_type": "execute_result"
    }
   ],
   "source": [
    "main_ei['State'].nunique()"
   ]
  },
  {
   "cell_type": "markdown",
   "metadata": {},
   "source": [
    "Alright that's a lot; let's see how many are Zero."
   ]
  },
  {
   "cell_type": "code",
   "execution_count": 418,
   "metadata": {},
   "outputs": [],
   "source": [
    "states_tax_free = pd.DataFrame(states_tax_free)"
   ]
  },
  {
   "cell_type": "code",
   "execution_count": 419,
   "metadata": {},
   "outputs": [
    {
     "data": {
      "text/plain": [
       "6"
      ]
     },
     "execution_count": 419,
     "metadata": {},
     "output_type": "execute_result"
    }
   ],
   "source": [
    "len(states_tax_free)"
   ]
  },
  {
   "cell_type": "code",
   "execution_count": 420,
   "metadata": {},
   "outputs": [],
   "source": [
    "states_tax_free = states_tax_free.rename(columns={0:'Tax Free States'})"
   ]
  },
  {
   "cell_type": "code",
   "execution_count": 421,
   "metadata": {},
   "outputs": [
    {
     "data": {
      "text/html": [
       "<div>\n",
       "<style scoped>\n",
       "    .dataframe tbody tr th:only-of-type {\n",
       "        vertical-align: middle;\n",
       "    }\n",
       "\n",
       "    .dataframe tbody tr th {\n",
       "        vertical-align: top;\n",
       "    }\n",
       "\n",
       "    .dataframe thead th {\n",
       "        text-align: right;\n",
       "    }\n",
       "</style>\n",
       "<table border=\"1\" class=\"dataframe\">\n",
       "  <thead>\n",
       "    <tr style=\"text-align: right;\">\n",
       "      <th></th>\n",
       "      <th>Tax Free States</th>\n",
       "    </tr>\n",
       "  </thead>\n",
       "  <tbody>\n",
       "    <tr>\n",
       "      <th>0</th>\n",
       "      <td>Alaska</td>\n",
       "    </tr>\n",
       "    <tr>\n",
       "      <th>1</th>\n",
       "      <td>Tennessee</td>\n",
       "    </tr>\n",
       "    <tr>\n",
       "      <th>2</th>\n",
       "      <td>Flordia</td>\n",
       "    </tr>\n",
       "    <tr>\n",
       "      <th>3</th>\n",
       "      <td>Texas</td>\n",
       "    </tr>\n",
       "    <tr>\n",
       "      <th>4</th>\n",
       "      <td>Washington</td>\n",
       "    </tr>\n",
       "    <tr>\n",
       "      <th>5</th>\n",
       "      <td>Nevada</td>\n",
       "    </tr>\n",
       "  </tbody>\n",
       "</table>\n",
       "</div>"
      ],
      "text/plain": [
       "  Tax Free States\n",
       "0          Alaska\n",
       "1       Tennessee\n",
       "2         Flordia\n",
       "3           Texas\n",
       "4      Washington\n",
       "5          Nevada"
      ]
     },
     "execution_count": 421,
     "metadata": {},
     "output_type": "execute_result"
    }
   ],
   "source": [
    "states_tax_free"
   ]
  },
  {
   "cell_type": "code",
   "execution_count": 422,
   "metadata": {},
   "outputs": [],
   "source": [
    "# figure out a way to do this\n",
    "# main_ei.columns.nunique([main_ei['State'] != state_tax[0]])"
   ]
  },
  {
   "cell_type": "code",
   "execution_count": 423,
   "metadata": {},
   "outputs": [],
   "source": [
    "# one day I would like to build strcuture ( probably an SQL ) to determine this\n",
    "# state_tax = []"
   ]
  },
  {
   "cell_type": "code",
   "execution_count": 424,
   "metadata": {},
   "outputs": [],
   "source": [
    "# state_tax"
   ]
  },
  {
   "cell_type": "code",
   "execution_count": 425,
   "metadata": {},
   "outputs": [],
   "source": [
    "# I unfortunately did this by hand\n",
    "stat_tax = pd.read_excel('./SB #20 Data Storytelling/12.3.2 Craft a story/Grad Stats/state_tax.xlsx')"
   ]
  },
  {
   "cell_type": "code",
   "execution_count": 426,
   "metadata": {},
   "outputs": [
    {
     "data": {
      "text/html": [
       "<div>\n",
       "<style scoped>\n",
       "    .dataframe tbody tr th:only-of-type {\n",
       "        vertical-align: middle;\n",
       "    }\n",
       "\n",
       "    .dataframe tbody tr th {\n",
       "        vertical-align: top;\n",
       "    }\n",
       "\n",
       "    .dataframe thead th {\n",
       "        text-align: right;\n",
       "    }\n",
       "</style>\n",
       "<table border=\"1\" class=\"dataframe\">\n",
       "  <thead>\n",
       "    <tr style=\"text-align: right;\">\n",
       "      <th></th>\n",
       "      <th>#</th>\n",
       "      <th>Rank</th>\n",
       "      <th>Name</th>\n",
       "      <th>State</th>\n",
       "      <th>Entry Income</th>\n",
       "      <th>State_Tax</th>\n",
       "    </tr>\n",
       "  </thead>\n",
       "  <tbody>\n",
       "    <tr>\n",
       "      <th>0</th>\n",
       "      <td>0</td>\n",
       "      <td>1</td>\n",
       "      <td>New York</td>\n",
       "      <td>New York</td>\n",
       "      <td>117836</td>\n",
       "      <td>7034.000</td>\n",
       "    </tr>\n",
       "    <tr>\n",
       "      <th>1</th>\n",
       "      <td>1</td>\n",
       "      <td>2</td>\n",
       "      <td>Los Angeles</td>\n",
       "      <td>California</td>\n",
       "      <td>107015</td>\n",
       "      <td>4354.000</td>\n",
       "    </tr>\n",
       "    <tr>\n",
       "      <th>2</th>\n",
       "      <td>2</td>\n",
       "      <td>3</td>\n",
       "      <td>Chicago</td>\n",
       "      <td>Illinois</td>\n",
       "      <td>105522</td>\n",
       "      <td>5223.339</td>\n",
       "    </tr>\n",
       "    <tr>\n",
       "      <th>3</th>\n",
       "      <td>3</td>\n",
       "      <td>4</td>\n",
       "      <td>Houston</td>\n",
       "      <td>Texas</td>\n",
       "      <td>95344</td>\n",
       "      <td>0.000</td>\n",
       "    </tr>\n",
       "    <tr>\n",
       "      <th>4</th>\n",
       "      <td>4</td>\n",
       "      <td>5</td>\n",
       "      <td>Phoenix</td>\n",
       "      <td>Arizona</td>\n",
       "      <td>110327</td>\n",
       "      <td>3962.000</td>\n",
       "    </tr>\n",
       "  </tbody>\n",
       "</table>\n",
       "</div>"
      ],
      "text/plain": [
       "   #  Rank         Name       State  Entry Income  State_Tax\n",
       "0  0     1     New York    New York        117836   7034.000\n",
       "1  1     2  Los Angeles  California        107015   4354.000\n",
       "2  2     3      Chicago    Illinois        105522   5223.339\n",
       "3  3     4      Houston       Texas         95344      0.000\n",
       "4  4     5      Phoenix     Arizona        110327   3962.000"
      ]
     },
     "execution_count": 426,
     "metadata": {},
     "output_type": "execute_result"
    }
   ],
   "source": [
    "stat_tax.head()"
   ]
  },
  {
   "cell_type": "code",
   "execution_count": 427,
   "metadata": {},
   "outputs": [],
   "source": [
    "main_ei = pd.concat([main_ei, stat_tax['State_Tax']], axis = 1, ignore_index=False)\n",
    "\n",
    "main_ei.columns = [ 'Rank', 'Name', 'State', '2021 Pop', '2010 Census', 'Density (mi²)',\n",
    "                   'Area (mi²)', 'State.Ab', 'lat', 'lng', 'Entry Income', 'Mnth Living_c',\n",
    "                   'Aprt_CityCenter','Aprt_Suburb','Utilities', 'Internet','Fed Tax','State Tax' ]\n",
    "\n",
    "main_ei.index.names = [\"#\"]\n"
   ]
  },
  {
   "cell_type": "markdown",
   "metadata": {},
   "source": [
    "Done. I hate that name so we will rename it."
   ]
  },
  {
   "cell_type": "code",
   "execution_count": 428,
   "metadata": {},
   "outputs": [],
   "source": [
    "df = main_ei"
   ]
  },
  {
   "cell_type": "code",
   "execution_count": 429,
   "metadata": {},
   "outputs": [],
   "source": [
    "df = df.rename(columns={'Name': 'City'})"
   ]
  },
  {
   "cell_type": "code",
   "execution_count": 430,
   "metadata": {},
   "outputs": [
    {
     "data": {
      "text/html": [
       "<div>\n",
       "<style scoped>\n",
       "    .dataframe tbody tr th:only-of-type {\n",
       "        vertical-align: middle;\n",
       "    }\n",
       "\n",
       "    .dataframe tbody tr th {\n",
       "        vertical-align: top;\n",
       "    }\n",
       "\n",
       "    .dataframe thead th {\n",
       "        text-align: right;\n",
       "    }\n",
       "</style>\n",
       "<table border=\"1\" class=\"dataframe\">\n",
       "  <thead>\n",
       "    <tr style=\"text-align: right;\">\n",
       "      <th></th>\n",
       "      <th>Rank</th>\n",
       "      <th>City</th>\n",
       "      <th>State</th>\n",
       "      <th>2021 Pop</th>\n",
       "      <th>2010 Census</th>\n",
       "      <th>Density (mi²)</th>\n",
       "      <th>Area (mi²)</th>\n",
       "      <th>State.Ab</th>\n",
       "      <th>lat</th>\n",
       "      <th>lng</th>\n",
       "      <th>Entry Income</th>\n",
       "      <th>Mnth Living_c</th>\n",
       "      <th>Aprt_CityCenter</th>\n",
       "      <th>Aprt_Suburb</th>\n",
       "      <th>Utilities</th>\n",
       "      <th>Internet</th>\n",
       "      <th>Fed Tax</th>\n",
       "      <th>State Tax</th>\n",
       "    </tr>\n",
       "    <tr>\n",
       "      <th>#</th>\n",
       "      <th></th>\n",
       "      <th></th>\n",
       "      <th></th>\n",
       "      <th></th>\n",
       "      <th></th>\n",
       "      <th></th>\n",
       "      <th></th>\n",
       "      <th></th>\n",
       "      <th></th>\n",
       "      <th></th>\n",
       "      <th></th>\n",
       "      <th></th>\n",
       "      <th></th>\n",
       "      <th></th>\n",
       "      <th></th>\n",
       "      <th></th>\n",
       "      <th></th>\n",
       "      <th></th>\n",
       "    </tr>\n",
       "  </thead>\n",
       "  <tbody>\n",
       "    <tr>\n",
       "      <th>0</th>\n",
       "      <td>1</td>\n",
       "      <td>New York</td>\n",
       "      <td>New York</td>\n",
       "      <td>8230290</td>\n",
       "      <td>8190210</td>\n",
       "      <td>4083</td>\n",
       "      <td>300</td>\n",
       "      <td>NY</td>\n",
       "      <td>40.713054</td>\n",
       "      <td>-74.007228</td>\n",
       "      <td>117836.0</td>\n",
       "      <td>1347.59</td>\n",
       "      <td>3089.22</td>\n",
       "      <td>2007.93</td>\n",
       "      <td>160.75</td>\n",
       "      <td>64.89</td>\n",
       "      <td>22359.56</td>\n",
       "      <td>7034.0000</td>\n",
       "    </tr>\n",
       "    <tr>\n",
       "      <th>1</th>\n",
       "      <td>2</td>\n",
       "      <td>Los Angeles</td>\n",
       "      <td>California</td>\n",
       "      <td>3983540</td>\n",
       "      <td>3795510</td>\n",
       "      <td>1266</td>\n",
       "      <td>469</td>\n",
       "      <td>CA</td>\n",
       "      <td>34.052238</td>\n",
       "      <td>-118.243344</td>\n",
       "      <td>107015.0</td>\n",
       "      <td>1065.45</td>\n",
       "      <td>2220.29</td>\n",
       "      <td>1718.83</td>\n",
       "      <td>162.18</td>\n",
       "      <td>69.41</td>\n",
       "      <td>19762.52</td>\n",
       "      <td>4354.0000</td>\n",
       "    </tr>\n",
       "    <tr>\n",
       "      <th>2</th>\n",
       "      <td>3</td>\n",
       "      <td>Chicago</td>\n",
       "      <td>Illinois</td>\n",
       "      <td>2679080</td>\n",
       "      <td>2697480</td>\n",
       "      <td>1756</td>\n",
       "      <td>227</td>\n",
       "      <td>IL</td>\n",
       "      <td>41.883229</td>\n",
       "      <td>-87.632398</td>\n",
       "      <td>105522.0</td>\n",
       "      <td>1015.93</td>\n",
       "      <td>1888.96</td>\n",
       "      <td>1205.85</td>\n",
       "      <td>150.09</td>\n",
       "      <td>60.67</td>\n",
       "      <td>19404.20</td>\n",
       "      <td>5223.3390</td>\n",
       "    </tr>\n",
       "    <tr>\n",
       "      <th>3</th>\n",
       "      <td>4</td>\n",
       "      <td>Houston</td>\n",
       "      <td>Texas</td>\n",
       "      <td>2323660</td>\n",
       "      <td>2100280</td>\n",
       "      <td>541</td>\n",
       "      <td>640</td>\n",
       "      <td>TX</td>\n",
       "      <td>29.760803</td>\n",
       "      <td>-95.369506</td>\n",
       "      <td>95344.0</td>\n",
       "      <td>820.53</td>\n",
       "      <td>1415.49</td>\n",
       "      <td>994.59</td>\n",
       "      <td>147.48</td>\n",
       "      <td>62.95</td>\n",
       "      <td>16961.48</td>\n",
       "      <td>0.0000</td>\n",
       "    </tr>\n",
       "    <tr>\n",
       "      <th>4</th>\n",
       "      <td>5</td>\n",
       "      <td>Phoenix</td>\n",
       "      <td>Arizona</td>\n",
       "      <td>1733630</td>\n",
       "      <td>1449040</td>\n",
       "      <td>499</td>\n",
       "      <td>518</td>\n",
       "      <td>AZ</td>\n",
       "      <td>33.448204</td>\n",
       "      <td>-112.072585</td>\n",
       "      <td>110327.0</td>\n",
       "      <td>878.27</td>\n",
       "      <td>1290.14</td>\n",
       "      <td>1008.57</td>\n",
       "      <td>171.88</td>\n",
       "      <td>78.10</td>\n",
       "      <td>20557.40</td>\n",
       "      <td>3962.0000</td>\n",
       "    </tr>\n",
       "    <tr>\n",
       "      <th>5</th>\n",
       "      <td>6</td>\n",
       "      <td>Philadelphia</td>\n",
       "      <td>Pennsylvania</td>\n",
       "      <td>1585010</td>\n",
       "      <td>1528280</td>\n",
       "      <td>1759</td>\n",
       "      <td>134</td>\n",
       "      <td>PA</td>\n",
       "      <td>39.951061</td>\n",
       "      <td>-75.165620</td>\n",
       "      <td>86003.0</td>\n",
       "      <td>1011.11</td>\n",
       "      <td>1676.35</td>\n",
       "      <td>1112.05</td>\n",
       "      <td>150.32</td>\n",
       "      <td>61.48</td>\n",
       "      <td>14719.64</td>\n",
       "      <td>2640.2921</td>\n",
       "    </tr>\n",
       "    <tr>\n",
       "      <th>6</th>\n",
       "      <td>7</td>\n",
       "      <td>San Antonio</td>\n",
       "      <td>Texas</td>\n",
       "      <td>1581730</td>\n",
       "      <td>1332300</td>\n",
       "      <td>486</td>\n",
       "      <td>485</td>\n",
       "      <td>TX</td>\n",
       "      <td>29.425173</td>\n",
       "      <td>-98.494599</td>\n",
       "      <td>111152.0</td>\n",
       "      <td>830.01</td>\n",
       "      <td>1322.20</td>\n",
       "      <td>912.53</td>\n",
       "      <td>164.04</td>\n",
       "      <td>68.54</td>\n",
       "      <td>20755.40</td>\n",
       "      <td>0.0000</td>\n",
       "    </tr>\n",
       "    <tr>\n",
       "      <th>7</th>\n",
       "      <td>8</td>\n",
       "      <td>San Diego</td>\n",
       "      <td>California</td>\n",
       "      <td>1427720</td>\n",
       "      <td>1305910</td>\n",
       "      <td>653</td>\n",
       "      <td>326</td>\n",
       "      <td>CA</td>\n",
       "      <td>32.715760</td>\n",
       "      <td>-117.163817</td>\n",
       "      <td>109273.0</td>\n",
       "      <td>993.84</td>\n",
       "      <td>2217.94</td>\n",
       "      <td>1732.79</td>\n",
       "      <td>137.41</td>\n",
       "      <td>62.12</td>\n",
       "      <td>20304.44</td>\n",
       "      <td>7139.0000</td>\n",
       "    </tr>\n",
       "    <tr>\n",
       "      <th>8</th>\n",
       "      <td>9</td>\n",
       "      <td>Dallas</td>\n",
       "      <td>Texas</td>\n",
       "      <td>1347120</td>\n",
       "      <td>1200350</td>\n",
       "      <td>591</td>\n",
       "      <td>340</td>\n",
       "      <td>TX</td>\n",
       "      <td>32.777977</td>\n",
       "      <td>-96.796215</td>\n",
       "      <td>81389.0</td>\n",
       "      <td>899.85</td>\n",
       "      <td>1496.90</td>\n",
       "      <td>1082.13</td>\n",
       "      <td>165.04</td>\n",
       "      <td>60.62</td>\n",
       "      <td>13612.28</td>\n",
       "      <td>0.0000</td>\n",
       "    </tr>\n",
       "    <tr>\n",
       "      <th>9</th>\n",
       "      <td>10</td>\n",
       "      <td>Austin</td>\n",
       "      <td>Texas</td>\n",
       "      <td>1011790</td>\n",
       "      <td>806164</td>\n",
       "      <td>471</td>\n",
       "      <td>320</td>\n",
       "      <td>TX</td>\n",
       "      <td>30.264979</td>\n",
       "      <td>-97.746598</td>\n",
       "      <td>113521.0</td>\n",
       "      <td>833.35</td>\n",
       "      <td>1766.99</td>\n",
       "      <td>1124.42</td>\n",
       "      <td>141.67</td>\n",
       "      <td>61.73</td>\n",
       "      <td>21323.96</td>\n",
       "      <td>0.0000</td>\n",
       "    </tr>\n",
       "  </tbody>\n",
       "</table>\n",
       "</div>"
      ],
      "text/plain": [
       "   Rank          City         State  2021 Pop  2010 Census  Density (mi²)  \\\n",
       "#                                                                           \n",
       "0     1      New York      New York   8230290      8190210           4083   \n",
       "1     2   Los Angeles    California   3983540      3795510           1266   \n",
       "2     3       Chicago      Illinois   2679080      2697480           1756   \n",
       "3     4       Houston         Texas   2323660      2100280            541   \n",
       "4     5       Phoenix       Arizona   1733630      1449040            499   \n",
       "5     6  Philadelphia  Pennsylvania   1585010      1528280           1759   \n",
       "6     7   San Antonio         Texas   1581730      1332300            486   \n",
       "7     8     San Diego    California   1427720      1305910            653   \n",
       "8     9        Dallas         Texas   1347120      1200350            591   \n",
       "9    10        Austin         Texas   1011790       806164            471   \n",
       "\n",
       "   Area (mi²) State.Ab        lat         lng  Entry Income  Mnth Living_c  \\\n",
       "#                                                                            \n",
       "0         300       NY  40.713054  -74.007228      117836.0        1347.59   \n",
       "1         469       CA  34.052238 -118.243344      107015.0        1065.45   \n",
       "2         227       IL  41.883229  -87.632398      105522.0        1015.93   \n",
       "3         640       TX  29.760803  -95.369506       95344.0         820.53   \n",
       "4         518       AZ  33.448204 -112.072585      110327.0         878.27   \n",
       "5         134       PA  39.951061  -75.165620       86003.0        1011.11   \n",
       "6         485       TX  29.425173  -98.494599      111152.0         830.01   \n",
       "7         326       CA  32.715760 -117.163817      109273.0         993.84   \n",
       "8         340       TX  32.777977  -96.796215       81389.0         899.85   \n",
       "9         320       TX  30.264979  -97.746598      113521.0         833.35   \n",
       "\n",
       "   Aprt_CityCenter  Aprt_Suburb  Utilities  Internet   Fed Tax  State Tax  \n",
       "#                                                                          \n",
       "0          3089.22      2007.93     160.75     64.89  22359.56  7034.0000  \n",
       "1          2220.29      1718.83     162.18     69.41  19762.52  4354.0000  \n",
       "2          1888.96      1205.85     150.09     60.67  19404.20  5223.3390  \n",
       "3          1415.49       994.59     147.48     62.95  16961.48     0.0000  \n",
       "4          1290.14      1008.57     171.88     78.10  20557.40  3962.0000  \n",
       "5          1676.35      1112.05     150.32     61.48  14719.64  2640.2921  \n",
       "6          1322.20       912.53     164.04     68.54  20755.40     0.0000  \n",
       "7          2217.94      1732.79     137.41     62.12  20304.44  7139.0000  \n",
       "8          1496.90      1082.13     165.04     60.62  13612.28     0.0000  \n",
       "9          1766.99      1124.42     141.67     61.73  21323.96     0.0000  "
      ]
     },
     "execution_count": 430,
     "metadata": {},
     "output_type": "execute_result"
    }
   ],
   "source": [
    "df.head(10)"
   ]
  },
  {
   "cell_type": "code",
   "execution_count": 431,
   "metadata": {},
   "outputs": [],
   "source": [
    "region_list = []\n",
    "\n",
    "for r in main_ei['State']:\n",
    "    if r == 'Washington' : region_list.append('West')\n",
    "    elif r == 'California' : region_list.append('West')\n",
    "    elif r == 'Nevada' : region_list.append('West')\n",
    "    elif r == 'Arizona' : region_list.append('West')\n",
    "    elif r == 'New Mexico' : region_list.append('West')\n",
    "    elif r == 'Colorado' : region_list.append('West')\n",
    "    elif r == 'Oregon' : region_list.append('West')\n",
    "        \n",
    "    elif r == 'Minnesota'  :  region_list.append('Midwest')\n",
    "    elif r == 'Iowa' : region_list.append('Midwest')\n",
    "    elif r == 'Kansas' : region_list.append('Midwest')\n",
    "    elif r == 'Missouri' : region_list.append('Midwest')\n",
    "    elif r == 'Michigan' : region_list.append('Midwest')\n",
    "    elif r == 'Ohio' : region_list.append('Midwest')\n",
    "    elif r == 'Indiana' : region_list.append('Midwest')\n",
    "    elif r == 'Wisconsin' : region_list.append('Midwest')\n",
    "    elif r == 'Kentucky' : region_list.append('Midwest')\n",
    "    elif r == 'Illinois' : region_list.append('Midwest')\n",
    "    elif r == 'Oklahoma' : region_list.append('Midwest')\n",
    "    elif r == 'Nebraska' : region_list.append('Midwest')\n",
    "   \n",
    "    \n",
    "    elif r == 'Texas' : region_list.append('South')\n",
    "    elif r == 'Arkansas'  :  region_list.append('South')\n",
    "    elif r == 'Tennessee'  :  region_list.append('South')\n",
    "    elif r == 'Louisiana'  :  region_list.append('South')\n",
    "    elif r == 'Georgia'  :  region_list.append('South')\n",
    "    elif r == 'North Carolina'  :  region_list.append('South')\n",
    "    elif r == 'Florida'  :  region_list.append('South')\n",
    "\n",
    "    else:\n",
    "        region_list.append('North')\n"
   ]
  },
  {
   "cell_type": "code",
   "execution_count": 433,
   "metadata": {},
   "outputs": [],
   "source": [
    "region_list = pd.DataFrame(region_list)"
   ]
  },
  {
   "cell_type": "code",
   "execution_count": 434,
   "metadata": {},
   "outputs": [
    {
     "data": {
      "text/html": [
       "<div>\n",
       "<style scoped>\n",
       "    .dataframe tbody tr th:only-of-type {\n",
       "        vertical-align: middle;\n",
       "    }\n",
       "\n",
       "    .dataframe tbody tr th {\n",
       "        vertical-align: top;\n",
       "    }\n",
       "\n",
       "    .dataframe thead th {\n",
       "        text-align: right;\n",
       "    }\n",
       "</style>\n",
       "<table border=\"1\" class=\"dataframe\">\n",
       "  <thead>\n",
       "    <tr style=\"text-align: right;\">\n",
       "      <th></th>\n",
       "      <th>0</th>\n",
       "    </tr>\n",
       "  </thead>\n",
       "  <tbody>\n",
       "    <tr>\n",
       "      <th>0</th>\n",
       "      <td>North</td>\n",
       "    </tr>\n",
       "    <tr>\n",
       "      <th>1</th>\n",
       "      <td>West</td>\n",
       "    </tr>\n",
       "    <tr>\n",
       "      <th>2</th>\n",
       "      <td>Midwest</td>\n",
       "    </tr>\n",
       "    <tr>\n",
       "      <th>3</th>\n",
       "      <td>South</td>\n",
       "    </tr>\n",
       "    <tr>\n",
       "      <th>4</th>\n",
       "      <td>West</td>\n",
       "    </tr>\n",
       "  </tbody>\n",
       "</table>\n",
       "</div>"
      ],
      "text/plain": [
       "         0\n",
       "0    North\n",
       "1     West\n",
       "2  Midwest\n",
       "3    South\n",
       "4     West"
      ]
     },
     "execution_count": 434,
     "metadata": {},
     "output_type": "execute_result"
    }
   ],
   "source": [
    "region_list.head()"
   ]
  },
  {
   "cell_type": "code",
   "execution_count": 439,
   "metadata": {},
   "outputs": [],
   "source": [
    "df = df.rename(columns={0: 'Region'})"
   ]
  },
  {
   "cell_type": "code",
   "execution_count": 440,
   "metadata": {},
   "outputs": [
    {
     "data": {
      "text/html": [
       "<div>\n",
       "<style scoped>\n",
       "    .dataframe tbody tr th:only-of-type {\n",
       "        vertical-align: middle;\n",
       "    }\n",
       "\n",
       "    .dataframe tbody tr th {\n",
       "        vertical-align: top;\n",
       "    }\n",
       "\n",
       "    .dataframe thead th {\n",
       "        text-align: right;\n",
       "    }\n",
       "</style>\n",
       "<table border=\"1\" class=\"dataframe\">\n",
       "  <thead>\n",
       "    <tr style=\"text-align: right;\">\n",
       "      <th></th>\n",
       "      <th>Rank</th>\n",
       "      <th>City</th>\n",
       "      <th>State</th>\n",
       "      <th>2021 Pop</th>\n",
       "      <th>2010 Census</th>\n",
       "      <th>Density (mi²)</th>\n",
       "      <th>Area (mi²)</th>\n",
       "      <th>State.Ab</th>\n",
       "      <th>lat</th>\n",
       "      <th>lng</th>\n",
       "      <th>Entry Income</th>\n",
       "      <th>Mnth Living_c</th>\n",
       "      <th>Aprt_CityCenter</th>\n",
       "      <th>Aprt_Suburb</th>\n",
       "      <th>Utilities</th>\n",
       "      <th>Internet</th>\n",
       "      <th>Fed Tax</th>\n",
       "      <th>State Tax</th>\n",
       "      <th>Region</th>\n",
       "    </tr>\n",
       "  </thead>\n",
       "  <tbody>\n",
       "    <tr>\n",
       "      <th>0</th>\n",
       "      <td>1</td>\n",
       "      <td>New York</td>\n",
       "      <td>New York</td>\n",
       "      <td>8230290</td>\n",
       "      <td>8190210</td>\n",
       "      <td>4083</td>\n",
       "      <td>300</td>\n",
       "      <td>NY</td>\n",
       "      <td>40.713054</td>\n",
       "      <td>-74.007228</td>\n",
       "      <td>117836.0</td>\n",
       "      <td>1347.59</td>\n",
       "      <td>3089.22</td>\n",
       "      <td>2007.93</td>\n",
       "      <td>160.75</td>\n",
       "      <td>64.89</td>\n",
       "      <td>22359.56</td>\n",
       "      <td>7034.000</td>\n",
       "      <td>North</td>\n",
       "    </tr>\n",
       "    <tr>\n",
       "      <th>1</th>\n",
       "      <td>2</td>\n",
       "      <td>Los Angeles</td>\n",
       "      <td>California</td>\n",
       "      <td>3983540</td>\n",
       "      <td>3795510</td>\n",
       "      <td>1266</td>\n",
       "      <td>469</td>\n",
       "      <td>CA</td>\n",
       "      <td>34.052238</td>\n",
       "      <td>-118.243344</td>\n",
       "      <td>107015.0</td>\n",
       "      <td>1065.45</td>\n",
       "      <td>2220.29</td>\n",
       "      <td>1718.83</td>\n",
       "      <td>162.18</td>\n",
       "      <td>69.41</td>\n",
       "      <td>19762.52</td>\n",
       "      <td>4354.000</td>\n",
       "      <td>West</td>\n",
       "    </tr>\n",
       "    <tr>\n",
       "      <th>2</th>\n",
       "      <td>3</td>\n",
       "      <td>Chicago</td>\n",
       "      <td>Illinois</td>\n",
       "      <td>2679080</td>\n",
       "      <td>2697480</td>\n",
       "      <td>1756</td>\n",
       "      <td>227</td>\n",
       "      <td>IL</td>\n",
       "      <td>41.883229</td>\n",
       "      <td>-87.632398</td>\n",
       "      <td>105522.0</td>\n",
       "      <td>1015.93</td>\n",
       "      <td>1888.96</td>\n",
       "      <td>1205.85</td>\n",
       "      <td>150.09</td>\n",
       "      <td>60.67</td>\n",
       "      <td>19404.20</td>\n",
       "      <td>5223.339</td>\n",
       "      <td>Midwest</td>\n",
       "    </tr>\n",
       "  </tbody>\n",
       "</table>\n",
       "</div>"
      ],
      "text/plain": [
       "   Rank         City       State  2021 Pop  2010 Census  Density (mi²)  \\\n",
       "0     1     New York    New York   8230290      8190210           4083   \n",
       "1     2  Los Angeles  California   3983540      3795510           1266   \n",
       "2     3      Chicago    Illinois   2679080      2697480           1756   \n",
       "\n",
       "   Area (mi²) State.Ab        lat         lng  Entry Income  Mnth Living_c  \\\n",
       "0         300       NY  40.713054  -74.007228      117836.0        1347.59   \n",
       "1         469       CA  34.052238 -118.243344      107015.0        1065.45   \n",
       "2         227       IL  41.883229  -87.632398      105522.0        1015.93   \n",
       "\n",
       "   Aprt_CityCenter  Aprt_Suburb  Utilities  Internet   Fed Tax  State Tax  \\\n",
       "0          3089.22      2007.93     160.75     64.89  22359.56   7034.000   \n",
       "1          2220.29      1718.83     162.18     69.41  19762.52   4354.000   \n",
       "2          1888.96      1205.85     150.09     60.67  19404.20   5223.339   \n",
       "\n",
       "    Region  \n",
       "0    North  \n",
       "1     West  \n",
       "2  Midwest  "
      ]
     },
     "execution_count": 440,
     "metadata": {},
     "output_type": "execute_result"
    }
   ],
   "source": [
    "df.head(3)"
   ]
  },
  {
   "cell_type": "code",
   "execution_count": 444,
   "metadata": {},
   "outputs": [],
   "source": [
    "df['Net Income CC'] = ( df['Entry Income'] - ( ( df['Mnth Living_c'] + df['Aprt_CityCenter'] + df['Utilities'] + df['Internet'])*12) - df['Fed Tax'] - df['State Tax'] )\n",
    "\n",
    "df['Net Income Sub'] = ( df['Entry Income'] - ( ( df['Mnth Living_c'] + df['Aprt_Suburb'] + df['Utilities'] + df['Internet'])*12) - df['Fed Tax'] - df['State Tax'] )\n"
   ]
  },
  {
   "cell_type": "code",
   "execution_count": 446,
   "metadata": {},
   "outputs": [
    {
     "name": "stdout",
     "output_type": "stream",
     "text": [
      "Finished\n"
     ]
    }
   ],
   "source": [
    "df = pd.DataFrame(df)\n",
    "\n",
    "df.to_excel('./SB #20 Data Storytelling/12.3.2 Craft a story/Grad Stats/main.xlsx')\n",
    "print('Finished')"
   ]
  },
  {
   "cell_type": "markdown",
   "metadata": {},
   "source": [
    "# Let's draw some pictures"
   ]
  },
  {
   "cell_type": "markdown",
   "metadata": {},
   "source": [
    "Before we do that we will create some new columns; let's start with `Net Income` based on living both in & out of the city center."
   ]
  },
  {
   "cell_type": "code",
   "execution_count": 447,
   "metadata": {},
   "outputs": [
    {
     "data": {
      "text/html": [
       "<div>\n",
       "<style scoped>\n",
       "    .dataframe tbody tr th:only-of-type {\n",
       "        vertical-align: middle;\n",
       "    }\n",
       "\n",
       "    .dataframe tbody tr th {\n",
       "        vertical-align: top;\n",
       "    }\n",
       "\n",
       "    .dataframe thead th {\n",
       "        text-align: right;\n",
       "    }\n",
       "</style>\n",
       "<table border=\"1\" class=\"dataframe\">\n",
       "  <thead>\n",
       "    <tr style=\"text-align: right;\">\n",
       "      <th></th>\n",
       "      <th>Rank</th>\n",
       "      <th>City</th>\n",
       "      <th>State</th>\n",
       "      <th>2021 Pop</th>\n",
       "      <th>2010 Census</th>\n",
       "      <th>Density (mi²)</th>\n",
       "      <th>Area (mi²)</th>\n",
       "      <th>State.Ab</th>\n",
       "      <th>lat</th>\n",
       "      <th>lng</th>\n",
       "      <th>...</th>\n",
       "      <th>Mnth Living_c</th>\n",
       "      <th>Aprt_CityCenter</th>\n",
       "      <th>Aprt_Suburb</th>\n",
       "      <th>Utilities</th>\n",
       "      <th>Internet</th>\n",
       "      <th>Fed Tax</th>\n",
       "      <th>State Tax</th>\n",
       "      <th>Region</th>\n",
       "      <th>Net Income CC</th>\n",
       "      <th>Net Income Sub</th>\n",
       "    </tr>\n",
       "  </thead>\n",
       "  <tbody>\n",
       "    <tr>\n",
       "      <th>0</th>\n",
       "      <td>1</td>\n",
       "      <td>New York</td>\n",
       "      <td>New York</td>\n",
       "      <td>8230290</td>\n",
       "      <td>8190210</td>\n",
       "      <td>4083</td>\n",
       "      <td>300</td>\n",
       "      <td>NY</td>\n",
       "      <td>40.713054</td>\n",
       "      <td>-74.007228</td>\n",
       "      <td>...</td>\n",
       "      <td>1347.59</td>\n",
       "      <td>3089.22</td>\n",
       "      <td>2007.93</td>\n",
       "      <td>160.75</td>\n",
       "      <td>64.89</td>\n",
       "      <td>22359.56</td>\n",
       "      <td>7034.000</td>\n",
       "      <td>North</td>\n",
       "      <td>32493.040</td>\n",
       "      <td>45468.520</td>\n",
       "    </tr>\n",
       "    <tr>\n",
       "      <th>1</th>\n",
       "      <td>2</td>\n",
       "      <td>Los Angeles</td>\n",
       "      <td>California</td>\n",
       "      <td>3983540</td>\n",
       "      <td>3795510</td>\n",
       "      <td>1266</td>\n",
       "      <td>469</td>\n",
       "      <td>CA</td>\n",
       "      <td>34.052238</td>\n",
       "      <td>-118.243344</td>\n",
       "      <td>...</td>\n",
       "      <td>1065.45</td>\n",
       "      <td>2220.29</td>\n",
       "      <td>1718.83</td>\n",
       "      <td>162.18</td>\n",
       "      <td>69.41</td>\n",
       "      <td>19762.52</td>\n",
       "      <td>4354.000</td>\n",
       "      <td>West</td>\n",
       "      <td>40690.520</td>\n",
       "      <td>46708.040</td>\n",
       "    </tr>\n",
       "    <tr>\n",
       "      <th>2</th>\n",
       "      <td>3</td>\n",
       "      <td>Chicago</td>\n",
       "      <td>Illinois</td>\n",
       "      <td>2679080</td>\n",
       "      <td>2697480</td>\n",
       "      <td>1756</td>\n",
       "      <td>227</td>\n",
       "      <td>IL</td>\n",
       "      <td>41.883229</td>\n",
       "      <td>-87.632398</td>\n",
       "      <td>...</td>\n",
       "      <td>1015.93</td>\n",
       "      <td>1888.96</td>\n",
       "      <td>1205.85</td>\n",
       "      <td>150.09</td>\n",
       "      <td>60.67</td>\n",
       "      <td>19404.20</td>\n",
       "      <td>5223.339</td>\n",
       "      <td>Midwest</td>\n",
       "      <td>43506.661</td>\n",
       "      <td>51703.981</td>\n",
       "    </tr>\n",
       "  </tbody>\n",
       "</table>\n",
       "<p>3 rows × 21 columns</p>\n",
       "</div>"
      ],
      "text/plain": [
       "   Rank         City       State  2021 Pop  2010 Census  Density (mi²)  \\\n",
       "0     1     New York    New York   8230290      8190210           4083   \n",
       "1     2  Los Angeles  California   3983540      3795510           1266   \n",
       "2     3      Chicago    Illinois   2679080      2697480           1756   \n",
       "\n",
       "   Area (mi²) State.Ab        lat         lng  ...  Mnth Living_c  \\\n",
       "0         300       NY  40.713054  -74.007228  ...        1347.59   \n",
       "1         469       CA  34.052238 -118.243344  ...        1065.45   \n",
       "2         227       IL  41.883229  -87.632398  ...        1015.93   \n",
       "\n",
       "   Aprt_CityCenter  Aprt_Suburb  Utilities  Internet   Fed Tax  State Tax  \\\n",
       "0          3089.22      2007.93     160.75     64.89  22359.56   7034.000   \n",
       "1          2220.29      1718.83     162.18     69.41  19762.52   4354.000   \n",
       "2          1888.96      1205.85     150.09     60.67  19404.20   5223.339   \n",
       "\n",
       "    Region Net Income CC  Net Income Sub  \n",
       "0    North     32493.040       45468.520  \n",
       "1     West     40690.520       46708.040  \n",
       "2  Midwest     43506.661       51703.981  \n",
       "\n",
       "[3 rows x 21 columns]"
      ]
     },
     "execution_count": 447,
     "metadata": {},
     "output_type": "execute_result"
    }
   ],
   "source": [
    "df.head(3)"
   ]
  },
  {
   "cell_type": "code",
   "execution_count": null,
   "metadata": {},
   "outputs": [],
   "source": []
  },
  {
   "cell_type": "markdown",
   "metadata": {},
   "source": [
    "Let's take a look at where the highest paying jobs are located."
   ]
  },
  {
   "cell_type": "code",
   "execution_count": 475,
   "metadata": {},
   "outputs": [
    {
     "data": {
      "image/png": "[encoded data removed]",
      "text/plain": [
       "<Figure size 1080x1080 with 1 Axes>"
      ]
     },
     "metadata": {},
     "output_type": "display_data"
    }
   ],
   "source": [
    "df.sort_values('Entry Income',inplace=True)\n",
    "\n",
    "plt.figure(figsize=(15,15))\n",
    "plt.barh(df['City'],df['Entry Income'])\n",
    "plt.title('Cities by Entry Level Income', size=30)\n",
    "plt.ylabel('Cities', size=20)\n",
    "plt.xlabel('Entry Level Income', size=20)\n",
    "plt.show()"
   ]
  },
  {
   "cell_type": "code",
   "execution_count": 474,
   "metadata": {},
   "outputs": [
    {
     "data": {
      "image/png": "[encoded data removed]",
      "text/plain": [
       "<Figure size 1080x1080 with 1 Axes>"
      ]
     },
     "metadata": {},
     "output_type": "display_data"
    }
   ],
   "source": [
    "df.sort_values('Net Income CC',inplace=True)\n",
    "\n",
    "plt.figure(figsize=(15,15))\n",
    "plt.barh(df['City'],df['Net Income CC'])\n",
    "plt.title('Cities by Net Income (City Centre Living)', size=30)\n",
    "plt.ylabel('Cities', size=20)\n",
    "plt.xlabel('Net Income (City Centre Living)', size=20)\n",
    "plt.show()"
   ]
  },
  {
   "cell_type": "code",
   "execution_count": 505,
   "metadata": {},
   "outputs": [
    {
     "data": {
      "image/png": "[encoded data removed]",
      "text/plain": [
       "<Figure size 1080x1080 with 1 Axes>"
      ]
     },
     "metadata": {},
     "output_type": "display_data"
    }
   ],
   "source": [
    "df.sort_values('Net Income CC',inplace=True)\n",
    "\n",
    "plt.figure(figsize=(15,15))\n",
    "plt.bar(df['Region'],df['Net Income CC'])\n",
    "plt.title('Regions by Net Income (City Center Living)', size=30)\n",
    "plt.ylabel('Net Income (City Centre Living)', size=20)\n",
    "plt.xlabel('Regions', size=20)\n",
    "plt.show()"
   ]
  },
  {
   "cell_type": "code",
   "execution_count": 495,
   "metadata": {},
   "outputs": [
    {
     "data": {
      "image/png": "[encoded data removed]",
      "text/plain": [
       "<Figure size 864x576 with 2 Axes>"
      ]
     },
     "metadata": {},
     "output_type": "display_data"
    }
   ],
   "source": [
    "#Code task 13#\n",
    "#Create two subplots on 1 row and 2 columns with a figsize of (12, 8)\n",
    "fig, ax = plt.subplots(1, 2, figsize=(12,8))\n",
    "#Specify a horizontal barplot ('barh') as kind of plot (kind=)\n",
    "df.Region.value_counts().plot(kind='bar', ax=ax[0])\n",
    "#Give the plot a helpful title of 'Region'\n",
    "ax[0].set_title('Region')\n",
    "#Label the xaxis 'Count'\n",
    "ax[0].set_xlabel('Count')\n",
    "#Specify a horizontal barplot ('barh') as kind of plot (kind=)\n",
    "df.State.value_counts().plot(kind='bar', ax=ax[1])\n",
    "#Give the plot a helpful title of 'state'\n",
    "ax[1].set_title('state')\n",
    "#Label the xaxis 'Count'\n",
    "ax[1].set_xlabel('Count')\n",
    "#Give the subplots a little \"breathing room\" with a wspace of 0.5\n",
    "plt.subplots_adjust(wspace=0.5);\n",
    "#You're encouraged to explore a few different figure sizes, orientations, and spacing here\n",
    "# as the importance of easy-to-read and informative figures is frequently understated\n",
    "# and you will find the ability to tweak figures invaluable later on"
   ]
  },
  {
   "cell_type": "code",
   "execution_count": 503,
   "metadata": {},
   "outputs": [
    {
     "data": {
      "text/plain": [
       "<AxesSubplot:title={'center':'Average Avocado Prices'}>"
      ]
     },
     "execution_count": 503,
     "metadata": {},
     "output_type": "execute_result"
    },
    {
     "data": {
      "image/png": "[encoded data removed]",
      "text/plain": [
       "<Figure size 432x288 with 1 Axes>"
      ]
     },
     "metadata": {},
     "output_type": "display_data"
    }
   ],
   "source": [
    "df['Net Income CC'].plot(kind = \"bar\", y = \"mean\", x='City', legend = False, title = \"Average Avocado Prices\")\n"
   ]
  },
  {
   "cell_type": "code",
   "execution_count": null,
   "metadata": {},
   "outputs": [],
   "source": []
  },
  {
   "cell_type": "code",
   "execution_count": null,
   "metadata": {},
   "outputs": [],
   "source": []
  },
  {
   "cell_type": "code",
   "execution_count": null,
   "metadata": {},
   "outputs": [],
   "source": []
  },
  {
   "cell_type": "code",
   "execution_count": null,
   "metadata": {},
   "outputs": [],
   "source": []
  },
  {
   "cell_type": "code",
   "execution_count": null,
   "metadata": {},
   "outputs": [],
   "source": []
  },
  {
   "cell_type": "code",
   "execution_count": null,
   "metadata": {},
   "outputs": [],
   "source": []
  },
  {
   "cell_type": "code",
   "execution_count": null,
   "metadata": {},
   "outputs": [],
   "source": []
  },
  {
   "cell_type": "code",
   "execution_count": null,
   "metadata": {},
   "outputs": [],
   "source": []
  },
  {
   "cell_type": "code",
   "execution_count": null,
   "metadata": {},
   "outputs": [],
   "source": []
  },
  {
   "cell_type": "code",
   "execution_count": null,
   "metadata": {},
   "outputs": [],
   "source": []
  },
  {
   "cell_type": "code",
   "execution_count": null,
   "metadata": {},
   "outputs": [],
   "source": []
  },
  {
   "cell_type": "code",
   "execution_count": null,
   "metadata": {},
   "outputs": [],
   "source": []
  },
  {
   "cell_type": "code",
   "execution_count": null,
   "metadata": {},
   "outputs": [],
   "source": []
  },
  {
   "cell_type": "code",
   "execution_count": null,
   "metadata": {},
   "outputs": [],
   "source": []
  },
  {
   "cell_type": "code",
   "execution_count": null,
   "metadata": {},
   "outputs": [],
   "source": []
  },
  {
   "cell_type": "code",
   "execution_count": null,
   "metadata": {},
   "outputs": [],
   "source": []
  },
  {
   "cell_type": "code",
   "execution_count": null,
   "metadata": {},
   "outputs": [],
   "source": []
  },
  {
   "cell_type": "code",
   "execution_count": null,
   "metadata": {},
   "outputs": [],
   "source": []
  },
  {
   "cell_type": "code",
   "execution_count": null,
   "metadata": {},
   "outputs": [],
   "source": []
  },
  {
   "cell_type": "code",
   "execution_count": null,
   "metadata": {},
   "outputs": [],
   "source": []
  },
  {
   "cell_type": "code",
   "execution_count": null,
   "metadata": {},
   "outputs": [],
   "source": []
  }
 ],
 "metadata": {
  "kernelspec": {
   "display_name": "Python 3",
   "language": "python",
   "name": "python3"
  },
  "language_info": {
   "codemirror_mode": {
    "name": "ipython",
    "version": 3
   },
   "file_extension": ".py",
   "mimetype": "text/x-python",
   "name": "python",
   "nbconvert_exporter": "python",
   "pygments_lexer": "ipython3",
   "version": "3.8.5"
  }
 },
 "nbformat": 4,
 "nbformat_minor": 4
}
