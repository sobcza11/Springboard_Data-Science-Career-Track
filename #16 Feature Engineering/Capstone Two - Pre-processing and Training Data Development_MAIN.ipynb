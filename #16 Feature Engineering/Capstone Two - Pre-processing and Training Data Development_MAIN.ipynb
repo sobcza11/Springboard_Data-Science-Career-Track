{
 "cells": [
  {
   "cell_type": "markdown",
   "metadata": {},
   "source": [
    "# Capstone Two - Pre-processing and Training Data Development"
   ]
  },
  {
   "cell_type": "markdown",
   "metadata": {},
   "source": [
    "The enclosed represents Chapter 16.3 of the Springboard Data Scientist Career Track. The structure is as follows:\n",
    "   * Creating Dummy Variables\n",
    "   * Splitting the Data into Training & Testing subsets for Machine Learning\n",
    "   * Standardized Scaling\n",
    "\n",
    "I hope this submission shows that I understand when to apply the proper steps.\n",
    "\n",
    "This code is built in Jupyter Notebook & uploaded on Github.\n"
   ]
  },
  {
   "cell_type": "markdown",
   "metadata": {},
   "source": [
    "# Pre work"
   ]
  },
  {
   "cell_type": "markdown",
   "metadata": {},
   "source": [
    "**Importing the relevant libraries to start**"
   ]
  },
  {
   "cell_type": "code",
   "execution_count": 1,
   "metadata": {},
   "outputs": [],
   "source": [
    "#Import the necessary tools required in the correct lines below\n",
    "import pandas as pd\n",
    "import matplotlib.pyplot as plt\n",
    "import matplotlib.colors as colors\n",
    "import seaborn as sns\n",
    "import os\n",
    "import lxml\n",
    "import datetime\n",
    "import requests\n",
    "import json\n",
    "import collections\n",
    "import seaborn as sns\n",
    "from scipy import stats\n",
    "import numpy as np\n"
   ]
  },
  {
   "cell_type": "markdown",
   "metadata": {},
   "source": [
    "# 1.0 Reassessing the input"
   ]
  },
  {
   "cell_type": "markdown",
   "metadata": {},
   "source": [
    "We will import the dataframe from the previous Exploratory Data Analysis ( EDA ) section."
   ]
  },
  {
   "cell_type": "code",
   "execution_count": 2,
   "metadata": {},
   "outputs": [
    {
     "name": "stdout",
     "output_type": "stream",
     "text": [
      "C:\\Users\\rands\n"
     ]
    }
   ],
   "source": [
    "cd"
   ]
  },
  {
   "cell_type": "code",
   "execution_count": 3,
   "metadata": {},
   "outputs": [],
   "source": [
    "df = pd.read_csv('./_Capstone_One_Inflation/data/1.0_MAIN/QonQ_main_roll.csv')"
   ]
  },
  {
   "cell_type": "markdown",
   "metadata": {},
   "source": [
    "As a reminder, the dataframe is composed of a quarterly change ( back ) on both `Inflation` & the Variables. The variables, however, are taking a rolling average. The rational is based on the idea that one of the variables may have had a bad day / week at the end of their respective term. If so, they may not properly display the impact they may have had on `Inflation`.\n",
    "\n",
    "`Inflation` on the other hand, was moderately scraped in one Z-score round."
   ]
  },
  {
   "cell_type": "code",
   "execution_count": 4,
   "metadata": {},
   "outputs": [
    {
     "data": {
      "text/html": [
       "<div>\n",
       "<style scoped>\n",
       "    .dataframe tbody tr th:only-of-type {\n",
       "        vertical-align: middle;\n",
       "    }\n",
       "\n",
       "    .dataframe tbody tr th {\n",
       "        vertical-align: top;\n",
       "    }\n",
       "\n",
       "    .dataframe thead th {\n",
       "        text-align: right;\n",
       "    }\n",
       "</style>\n",
       "<table border=\"1\" class=\"dataframe\">\n",
       "  <thead>\n",
       "    <tr style=\"text-align: right;\">\n",
       "      <th></th>\n",
       "      <th>Date</th>\n",
       "      <th>Inflation</th>\n",
       "      <th>Wages CPI</th>\n",
       "      <th>WTI</th>\n",
       "      <th>Copper</th>\n",
       "      <th>Soybeans</th>\n",
       "      <th>Natural Gas</th>\n",
       "      <th>Heating Oil</th>\n",
       "      <th>Corn</th>\n",
       "      <th>Wheat</th>\n",
       "      <th>...</th>\n",
       "      <th>Lean Hogs</th>\n",
       "      <th>Sugar</th>\n",
       "      <th>Lumber</th>\n",
       "      <th>Capacity Utilization</th>\n",
       "      <th>GDP</th>\n",
       "      <th>M2 Velocity</th>\n",
       "      <th>PMI</th>\n",
       "      <th>USD Index</th>\n",
       "      <th>Initial Jobless Claims</th>\n",
       "      <th>Unemployment Rate</th>\n",
       "    </tr>\n",
       "  </thead>\n",
       "  <tbody>\n",
       "    <tr>\n",
       "      <th>0</th>\n",
       "      <td>2021-02-28 00:00:00</td>\n",
       "      <td>0.501</td>\n",
       "      <td>0.007630</td>\n",
       "      <td>0.294725</td>\n",
       "      <td>0.182753</td>\n",
       "      <td>0.235484</td>\n",
       "      <td>0.039364</td>\n",
       "      <td>0.362725</td>\n",
       "      <td>0.267969</td>\n",
       "      <td>0.081492</td>\n",
       "      <td>...</td>\n",
       "      <td>0.071797</td>\n",
       "      <td>0.153711</td>\n",
       "      <td>0.364326</td>\n",
       "      <td>0.019749</td>\n",
       "      <td>0.015004</td>\n",
       "      <td>-0.012195</td>\n",
       "      <td>2.600000</td>\n",
       "      <td>-0.028476</td>\n",
       "      <td>32916.66667</td>\n",
       "      <td>-0.733333</td>\n",
       "    </tr>\n",
       "    <tr>\n",
       "      <th>1</th>\n",
       "      <td>2021-01-31 00:00:00</td>\n",
       "      <td>0.218</td>\n",
       "      <td>0.006251</td>\n",
       "      <td>0.133619</td>\n",
       "      <td>0.149469</td>\n",
       "      <td>0.247356</td>\n",
       "      <td>0.133913</td>\n",
       "      <td>0.212935</td>\n",
       "      <td>0.244380</td>\n",
       "      <td>0.075828</td>\n",
       "      <td>...</td>\n",
       "      <td>0.083947</td>\n",
       "      <td>0.167539</td>\n",
       "      <td>0.119677</td>\n",
       "      <td>0.026555</td>\n",
       "      <td>0.015004</td>\n",
       "      <td>-0.012195</td>\n",
       "      <td>2.266667</td>\n",
       "      <td>-0.021939</td>\n",
       "      <td>-17083.33333</td>\n",
       "      <td>-1.133333</td>\n",
       "    </tr>\n",
       "    <tr>\n",
       "      <th>2</th>\n",
       "      <td>2020-12-31 00:00:00</td>\n",
       "      <td>-0.009</td>\n",
       "      <td>0.006591</td>\n",
       "      <td>0.045217</td>\n",
       "      <td>0.110950</td>\n",
       "      <td>0.212504</td>\n",
       "      <td>0.331085</td>\n",
       "      <td>0.075287</td>\n",
       "      <td>0.227807</td>\n",
       "      <td>0.121747</td>\n",
       "      <td>...</td>\n",
       "      <td>0.251831</td>\n",
       "      <td>0.183723</td>\n",
       "      <td>0.017824</td>\n",
       "      <td>0.022883</td>\n",
       "      <td>0.015004</td>\n",
       "      <td>-0.012195</td>\n",
       "      <td>4.000000</td>\n",
       "      <td>-0.020209</td>\n",
       "      <td>-234000.00000</td>\n",
       "      <td>-2.033333</td>\n",
       "    </tr>\n",
       "    <tr>\n",
       "      <th>3</th>\n",
       "      <td>2020-11-30 00:00:00</td>\n",
       "      <td>-0.135</td>\n",
       "      <td>0.009198</td>\n",
       "      <td>0.012381</td>\n",
       "      <td>0.111624</td>\n",
       "      <td>0.189713</td>\n",
       "      <td>0.400814</td>\n",
       "      <td>-0.024694</td>\n",
       "      <td>0.194635</td>\n",
       "      <td>0.137836</td>\n",
       "      <td>...</td>\n",
       "      <td>0.340989</td>\n",
       "      <td>0.145086</td>\n",
       "      <td>0.352576</td>\n",
       "      <td>0.030228</td>\n",
       "      <td>0.015004</td>\n",
       "      <td>-0.012195</td>\n",
       "      <td>3.566667</td>\n",
       "      <td>-0.022875</td>\n",
       "      <td>-412333.33330</td>\n",
       "      <td>-2.766667</td>\n",
       "    </tr>\n",
       "    <tr>\n",
       "      <th>4</th>\n",
       "      <td>2020-10-31 00:00:00</td>\n",
       "      <td>0.196</td>\n",
       "      <td>0.012842</td>\n",
       "      <td>0.268018</td>\n",
       "      <td>0.150999</td>\n",
       "      <td>0.135852</td>\n",
       "      <td>0.421347</td>\n",
       "      <td>0.081213</td>\n",
       "      <td>0.128424</td>\n",
       "      <td>0.112240</td>\n",
       "      <td>...</td>\n",
       "      <td>0.221210</td>\n",
       "      <td>0.164845</td>\n",
       "      <td>0.733392</td>\n",
       "      <td>0.063448</td>\n",
       "      <td>0.015004</td>\n",
       "      <td>-0.012195</td>\n",
       "      <td>7.033333</td>\n",
       "      <td>-0.042067</td>\n",
       "      <td>-604333.33330</td>\n",
       "      <td>-3.833333</td>\n",
       "    </tr>\n",
       "  </tbody>\n",
       "</table>\n",
       "<p>5 rows × 21 columns</p>\n",
       "</div>"
      ],
      "text/plain": [
       "                  Date  Inflation  Wages CPI       WTI    Copper  Soybeans  \\\n",
       "0  2021-02-28 00:00:00      0.501   0.007630  0.294725  0.182753  0.235484   \n",
       "1  2021-01-31 00:00:00      0.218   0.006251  0.133619  0.149469  0.247356   \n",
       "2  2020-12-31 00:00:00     -0.009   0.006591  0.045217  0.110950  0.212504   \n",
       "3  2020-11-30 00:00:00     -0.135   0.009198  0.012381  0.111624  0.189713   \n",
       "4  2020-10-31 00:00:00      0.196   0.012842  0.268018  0.150999  0.135852   \n",
       "\n",
       "   Natural Gas  Heating Oil      Corn     Wheat  ...  Lean Hogs     Sugar  \\\n",
       "0     0.039364     0.362725  0.267969  0.081492  ...   0.071797  0.153711   \n",
       "1     0.133913     0.212935  0.244380  0.075828  ...   0.083947  0.167539   \n",
       "2     0.331085     0.075287  0.227807  0.121747  ...   0.251831  0.183723   \n",
       "3     0.400814    -0.024694  0.194635  0.137836  ...   0.340989  0.145086   \n",
       "4     0.421347     0.081213  0.128424  0.112240  ...   0.221210  0.164845   \n",
       "\n",
       "     Lumber  Capacity Utilization       GDP  M2 Velocity       PMI  USD Index  \\\n",
       "0  0.364326              0.019749  0.015004    -0.012195  2.600000  -0.028476   \n",
       "1  0.119677              0.026555  0.015004    -0.012195  2.266667  -0.021939   \n",
       "2  0.017824              0.022883  0.015004    -0.012195  4.000000  -0.020209   \n",
       "3  0.352576              0.030228  0.015004    -0.012195  3.566667  -0.022875   \n",
       "4  0.733392              0.063448  0.015004    -0.012195  7.033333  -0.042067   \n",
       "\n",
       "   Initial Jobless Claims  Unemployment Rate  \n",
       "0             32916.66667          -0.733333  \n",
       "1            -17083.33333          -1.133333  \n",
       "2           -234000.00000          -2.033333  \n",
       "3           -412333.33330          -2.766667  \n",
       "4           -604333.33330          -3.833333  \n",
       "\n",
       "[5 rows x 21 columns]"
      ]
     },
     "execution_count": 4,
     "metadata": {},
     "output_type": "execute_result"
    }
   ],
   "source": [
    "df.head()"
   ]
  },
  {
   "cell_type": "markdown",
   "metadata": {},
   "source": [
    "Per below, they have been scraped ( i.e. no null values ) & they all came in from the the API as floats ( which we want ). The `Date` is the only non-float variable."
   ]
  },
  {
   "cell_type": "code",
   "execution_count": 5,
   "metadata": {},
   "outputs": [
    {
     "name": "stdout",
     "output_type": "stream",
     "text": [
      "<class 'pandas.core.frame.DataFrame'>\n",
      "RangeIndex: 312 entries, 0 to 311\n",
      "Data columns (total 21 columns):\n",
      " #   Column                  Non-Null Count  Dtype  \n",
      "---  ------                  --------------  -----  \n",
      " 0   Date                    312 non-null    object \n",
      " 1   Inflation               312 non-null    float64\n",
      " 2   Wages CPI               312 non-null    float64\n",
      " 3   WTI                     312 non-null    float64\n",
      " 4   Copper                  312 non-null    float64\n",
      " 5   Soybeans                312 non-null    float64\n",
      " 6   Natural Gas             312 non-null    float64\n",
      " 7   Heating Oil             312 non-null    float64\n",
      " 8   Corn                    312 non-null    float64\n",
      " 9   Wheat                   312 non-null    float64\n",
      " 10  Cattle                  312 non-null    float64\n",
      " 11  Lean Hogs               312 non-null    float64\n",
      " 12  Sugar                   312 non-null    float64\n",
      " 13  Lumber                  312 non-null    float64\n",
      " 14  Capacity Utilization    312 non-null    float64\n",
      " 15  GDP                     312 non-null    float64\n",
      " 16  M2 Velocity             312 non-null    float64\n",
      " 17  PMI                     312 non-null    float64\n",
      " 18  USD Index               312 non-null    float64\n",
      " 19  Initial Jobless Claims  312 non-null    float64\n",
      " 20  Unemployment Rate       312 non-null    float64\n",
      "dtypes: float64(20), object(1)\n",
      "memory usage: 51.3+ KB\n"
     ]
    }
   ],
   "source": [
    "df.info()"
   ]
  },
  {
   "cell_type": "code",
   "execution_count": 6,
   "metadata": {},
   "outputs": [
    {
     "data": {
      "text/plain": [
       "(312, 21)"
      ]
     },
     "execution_count": 6,
     "metadata": {},
     "output_type": "execute_result"
    }
   ],
   "source": [
    "df.shape"
   ]
  },
  {
   "cell_type": "code",
   "execution_count": 7,
   "metadata": {},
   "outputs": [
    {
     "data": {
      "text/html": [
       "<div>\n",
       "<style scoped>\n",
       "    .dataframe tbody tr th:only-of-type {\n",
       "        vertical-align: middle;\n",
       "    }\n",
       "\n",
       "    .dataframe tbody tr th {\n",
       "        vertical-align: top;\n",
       "    }\n",
       "\n",
       "    .dataframe thead th {\n",
       "        text-align: right;\n",
       "    }\n",
       "</style>\n",
       "<table border=\"1\" class=\"dataframe\">\n",
       "  <thead>\n",
       "    <tr style=\"text-align: right;\">\n",
       "      <th></th>\n",
       "      <th>Inflation</th>\n",
       "      <th>Wages CPI</th>\n",
       "      <th>WTI</th>\n",
       "      <th>Copper</th>\n",
       "      <th>Soybeans</th>\n",
       "      <th>Natural Gas</th>\n",
       "      <th>Heating Oil</th>\n",
       "      <th>Corn</th>\n",
       "      <th>Wheat</th>\n",
       "      <th>Cattle</th>\n",
       "      <th>Lean Hogs</th>\n",
       "      <th>Sugar</th>\n",
       "      <th>Lumber</th>\n",
       "      <th>Capacity Utilization</th>\n",
       "      <th>GDP</th>\n",
       "      <th>M2 Velocity</th>\n",
       "      <th>PMI</th>\n",
       "      <th>USD Index</th>\n",
       "      <th>Initial Jobless Claims</th>\n",
       "      <th>Unemployment Rate</th>\n",
       "    </tr>\n",
       "  </thead>\n",
       "  <tbody>\n",
       "    <tr>\n",
       "      <th>count</th>\n",
       "      <td>312.000000</td>\n",
       "      <td>312.000000</td>\n",
       "      <td>312.000000</td>\n",
       "      <td>312.000000</td>\n",
       "      <td>312.000000</td>\n",
       "      <td>312.000000</td>\n",
       "      <td>312.000000</td>\n",
       "      <td>312.000000</td>\n",
       "      <td>312.000000</td>\n",
       "      <td>312.000000</td>\n",
       "      <td>312.000000</td>\n",
       "      <td>312.000000</td>\n",
       "      <td>312.000000</td>\n",
       "      <td>312.000000</td>\n",
       "      <td>312.000000</td>\n",
       "      <td>312.000000</td>\n",
       "      <td>312.000000</td>\n",
       "      <td>312.000000</td>\n",
       "      <td>3.120000e+02</td>\n",
       "      <td>312.000000</td>\n",
       "    </tr>\n",
       "    <tr>\n",
       "      <th>mean</th>\n",
       "      <td>-0.030804</td>\n",
       "      <td>0.005489</td>\n",
       "      <td>0.020214</td>\n",
       "      <td>0.019810</td>\n",
       "      <td>0.012885</td>\n",
       "      <td>0.035417</td>\n",
       "      <td>0.019414</td>\n",
       "      <td>0.014929</td>\n",
       "      <td>0.016604</td>\n",
       "      <td>0.006404</td>\n",
       "      <td>0.018066</td>\n",
       "      <td>0.019915</td>\n",
       "      <td>0.028027</td>\n",
       "      <td>-0.000384</td>\n",
       "      <td>0.010657</td>\n",
       "      <td>-0.004439</td>\n",
       "      <td>0.073184</td>\n",
       "      <td>0.000752</td>\n",
       "      <td>3.685096e+03</td>\n",
       "      <td>0.006090</td>\n",
       "    </tr>\n",
       "    <tr>\n",
       "      <th>std</th>\n",
       "      <td>0.827474</td>\n",
       "      <td>0.005800</td>\n",
       "      <td>0.150741</td>\n",
       "      <td>0.120212</td>\n",
       "      <td>0.098168</td>\n",
       "      <td>0.197019</td>\n",
       "      <td>0.137546</td>\n",
       "      <td>0.122589</td>\n",
       "      <td>0.109806</td>\n",
       "      <td>0.066072</td>\n",
       "      <td>0.140843</td>\n",
       "      <td>0.147224</td>\n",
       "      <td>0.157614</td>\n",
       "      <td>0.017885</td>\n",
       "      <td>0.014045</td>\n",
       "      <td>0.022552</td>\n",
       "      <td>2.960773</td>\n",
       "      <td>0.034428</td>\n",
       "      <td>3.034924e+05</td>\n",
       "      <td>0.880617</td>\n",
       "    </tr>\n",
       "    <tr>\n",
       "      <th>min</th>\n",
       "      <td>-4.846000</td>\n",
       "      <td>-0.034864</td>\n",
       "      <td>-0.528002</td>\n",
       "      <td>-0.490200</td>\n",
       "      <td>-0.327256</td>\n",
       "      <td>-0.378821</td>\n",
       "      <td>-0.456848</td>\n",
       "      <td>-0.340215</td>\n",
       "      <td>-0.299369</td>\n",
       "      <td>-0.209991</td>\n",
       "      <td>-0.322853</td>\n",
       "      <td>-0.362170</td>\n",
       "      <td>-0.318534</td>\n",
       "      <td>-0.128528</td>\n",
       "      <td>-0.094662</td>\n",
       "      <td>-0.200725</td>\n",
       "      <td>-11.833333</td>\n",
       "      <td>-0.072180</td>\n",
       "      <td>-2.430333e+06</td>\n",
       "      <td>-4.266667</td>\n",
       "    </tr>\n",
       "    <tr>\n",
       "      <th>25%</th>\n",
       "      <td>-0.387750</td>\n",
       "      <td>0.003967</td>\n",
       "      <td>-0.057181</td>\n",
       "      <td>-0.050026</td>\n",
       "      <td>-0.041698</td>\n",
       "      <td>-0.088850</td>\n",
       "      <td>-0.050995</td>\n",
       "      <td>-0.056145</td>\n",
       "      <td>-0.055938</td>\n",
       "      <td>-0.039485</td>\n",
       "      <td>-0.075435</td>\n",
       "      <td>-0.080698</td>\n",
       "      <td>-0.073570</td>\n",
       "      <td>-0.004309</td>\n",
       "      <td>0.008557</td>\n",
       "      <td>-0.007373</td>\n",
       "      <td>-1.700000</td>\n",
       "      <td>-0.024314</td>\n",
       "      <td>-9.958333e+03</td>\n",
       "      <td>-0.200000</td>\n",
       "    </tr>\n",
       "    <tr>\n",
       "      <th>50%</th>\n",
       "      <td>-0.025500</td>\n",
       "      <td>0.006300</td>\n",
       "      <td>0.025297</td>\n",
       "      <td>0.009065</td>\n",
       "      <td>0.006706</td>\n",
       "      <td>0.007933</td>\n",
       "      <td>0.020651</td>\n",
       "      <td>0.005665</td>\n",
       "      <td>0.006844</td>\n",
       "      <td>0.011647</td>\n",
       "      <td>0.007895</td>\n",
       "      <td>-0.010051</td>\n",
       "      <td>0.016908</td>\n",
       "      <td>0.001742</td>\n",
       "      <td>0.011626</td>\n",
       "      <td>-0.002556</td>\n",
       "      <td>-0.100000</td>\n",
       "      <td>0.000669</td>\n",
       "      <td>-2.625000e+03</td>\n",
       "      <td>-0.066667</td>\n",
       "    </tr>\n",
       "    <tr>\n",
       "      <th>75%</th>\n",
       "      <td>0.333250</td>\n",
       "      <td>0.008169</td>\n",
       "      <td>0.115388</td>\n",
       "      <td>0.086206</td>\n",
       "      <td>0.061490</td>\n",
       "      <td>0.157548</td>\n",
       "      <td>0.104415</td>\n",
       "      <td>0.076297</td>\n",
       "      <td>0.078351</td>\n",
       "      <td>0.055361</td>\n",
       "      <td>0.113479</td>\n",
       "      <td>0.100615</td>\n",
       "      <td>0.112200</td>\n",
       "      <td>0.006261</td>\n",
       "      <td>0.014817</td>\n",
       "      <td>0.003964</td>\n",
       "      <td>1.675000</td>\n",
       "      <td>0.021954</td>\n",
       "      <td>5.166667e+03</td>\n",
       "      <td>0.066667</td>\n",
       "    </tr>\n",
       "    <tr>\n",
       "      <th>max</th>\n",
       "      <td>4.007000</td>\n",
       "      <td>0.023370</td>\n",
       "      <td>0.586463</td>\n",
       "      <td>0.496467</td>\n",
       "      <td>0.288663</td>\n",
       "      <td>0.629854</td>\n",
       "      <td>0.362725</td>\n",
       "      <td>0.475869</td>\n",
       "      <td>0.443412</td>\n",
       "      <td>0.165321</td>\n",
       "      <td>0.376706</td>\n",
       "      <td>0.604139</td>\n",
       "      <td>0.931183</td>\n",
       "      <td>0.096035</td>\n",
       "      <td>0.084535</td>\n",
       "      <td>0.040798</td>\n",
       "      <td>10.666667</td>\n",
       "      <td>0.118429</td>\n",
       "      <td>3.365750e+06</td>\n",
       "      <td>9.266667</td>\n",
       "    </tr>\n",
       "  </tbody>\n",
       "</table>\n",
       "</div>"
      ],
      "text/plain": [
       "        Inflation   Wages CPI         WTI      Copper    Soybeans  \\\n",
       "count  312.000000  312.000000  312.000000  312.000000  312.000000   \n",
       "mean    -0.030804    0.005489    0.020214    0.019810    0.012885   \n",
       "std      0.827474    0.005800    0.150741    0.120212    0.098168   \n",
       "min     -4.846000   -0.034864   -0.528002   -0.490200   -0.327256   \n",
       "25%     -0.387750    0.003967   -0.057181   -0.050026   -0.041698   \n",
       "50%     -0.025500    0.006300    0.025297    0.009065    0.006706   \n",
       "75%      0.333250    0.008169    0.115388    0.086206    0.061490   \n",
       "max      4.007000    0.023370    0.586463    0.496467    0.288663   \n",
       "\n",
       "       Natural Gas  Heating Oil        Corn       Wheat      Cattle  \\\n",
       "count   312.000000   312.000000  312.000000  312.000000  312.000000   \n",
       "mean      0.035417     0.019414    0.014929    0.016604    0.006404   \n",
       "std       0.197019     0.137546    0.122589    0.109806    0.066072   \n",
       "min      -0.378821    -0.456848   -0.340215   -0.299369   -0.209991   \n",
       "25%      -0.088850    -0.050995   -0.056145   -0.055938   -0.039485   \n",
       "50%       0.007933     0.020651    0.005665    0.006844    0.011647   \n",
       "75%       0.157548     0.104415    0.076297    0.078351    0.055361   \n",
       "max       0.629854     0.362725    0.475869    0.443412    0.165321   \n",
       "\n",
       "        Lean Hogs       Sugar      Lumber  Capacity Utilization         GDP  \\\n",
       "count  312.000000  312.000000  312.000000            312.000000  312.000000   \n",
       "mean     0.018066    0.019915    0.028027             -0.000384    0.010657   \n",
       "std      0.140843    0.147224    0.157614              0.017885    0.014045   \n",
       "min     -0.322853   -0.362170   -0.318534             -0.128528   -0.094662   \n",
       "25%     -0.075435   -0.080698   -0.073570             -0.004309    0.008557   \n",
       "50%      0.007895   -0.010051    0.016908              0.001742    0.011626   \n",
       "75%      0.113479    0.100615    0.112200              0.006261    0.014817   \n",
       "max      0.376706    0.604139    0.931183              0.096035    0.084535   \n",
       "\n",
       "       M2 Velocity         PMI   USD Index  Initial Jobless Claims  \\\n",
       "count   312.000000  312.000000  312.000000            3.120000e+02   \n",
       "mean     -0.004439    0.073184    0.000752            3.685096e+03   \n",
       "std       0.022552    2.960773    0.034428            3.034924e+05   \n",
       "min      -0.200725  -11.833333   -0.072180           -2.430333e+06   \n",
       "25%      -0.007373   -1.700000   -0.024314           -9.958333e+03   \n",
       "50%      -0.002556   -0.100000    0.000669           -2.625000e+03   \n",
       "75%       0.003964    1.675000    0.021954            5.166667e+03   \n",
       "max       0.040798   10.666667    0.118429            3.365750e+06   \n",
       "\n",
       "       Unemployment Rate  \n",
       "count         312.000000  \n",
       "mean            0.006090  \n",
       "std             0.880617  \n",
       "min            -4.266667  \n",
       "25%            -0.200000  \n",
       "50%            -0.066667  \n",
       "75%             0.066667  \n",
       "max             9.266667  "
      ]
     },
     "execution_count": 7,
     "metadata": {},
     "output_type": "execute_result"
    }
   ],
   "source": [
    "df.describe()"
   ]
  },
  {
   "cell_type": "markdown",
   "metadata": {},
   "source": [
    "# 2.0 Creating Dummy Variables"
   ]
  },
  {
   "cell_type": "code",
   "execution_count": 8,
   "metadata": {},
   "outputs": [],
   "source": [
    "df_dummies = pd.get_dummies( df, columns=['Inflation'], prefix='D' )"
   ]
  },
  {
   "cell_type": "code",
   "execution_count": 9,
   "metadata": {},
   "outputs": [
    {
     "data": {
      "text/html": [
       "<div>\n",
       "<style scoped>\n",
       "    .dataframe tbody tr th:only-of-type {\n",
       "        vertical-align: middle;\n",
       "    }\n",
       "\n",
       "    .dataframe tbody tr th {\n",
       "        vertical-align: top;\n",
       "    }\n",
       "\n",
       "    .dataframe thead th {\n",
       "        text-align: right;\n",
       "    }\n",
       "</style>\n",
       "<table border=\"1\" class=\"dataframe\">\n",
       "  <thead>\n",
       "    <tr style=\"text-align: right;\">\n",
       "      <th></th>\n",
       "      <th>Date</th>\n",
       "      <th>Wages CPI</th>\n",
       "      <th>WTI</th>\n",
       "      <th>Copper</th>\n",
       "      <th>Soybeans</th>\n",
       "      <th>Natural Gas</th>\n",
       "      <th>Heating Oil</th>\n",
       "      <th>Corn</th>\n",
       "      <th>Wheat</th>\n",
       "      <th>Cattle</th>\n",
       "      <th>...</th>\n",
       "      <th>D_1.4609999999999999</th>\n",
       "      <th>D_1.5290000000000001</th>\n",
       "      <th>D_1.5319999999999998</th>\n",
       "      <th>D_1.663</th>\n",
       "      <th>D_1.9140000000000001</th>\n",
       "      <th>D_2.157</th>\n",
       "      <th>D_2.336</th>\n",
       "      <th>D_2.8089999999999997</th>\n",
       "      <th>D_3.322</th>\n",
       "      <th>D_4.007</th>\n",
       "    </tr>\n",
       "  </thead>\n",
       "  <tbody>\n",
       "    <tr>\n",
       "      <th>0</th>\n",
       "      <td>2021-02-28 00:00:00</td>\n",
       "      <td>0.007630</td>\n",
       "      <td>0.294725</td>\n",
       "      <td>0.182753</td>\n",
       "      <td>0.235484</td>\n",
       "      <td>0.039364</td>\n",
       "      <td>0.362725</td>\n",
       "      <td>0.267969</td>\n",
       "      <td>0.081492</td>\n",
       "      <td>0.056126</td>\n",
       "      <td>...</td>\n",
       "      <td>0</td>\n",
       "      <td>0</td>\n",
       "      <td>0</td>\n",
       "      <td>0</td>\n",
       "      <td>0</td>\n",
       "      <td>0</td>\n",
       "      <td>0</td>\n",
       "      <td>0</td>\n",
       "      <td>0</td>\n",
       "      <td>0</td>\n",
       "    </tr>\n",
       "    <tr>\n",
       "      <th>1</th>\n",
       "      <td>2021-01-31 00:00:00</td>\n",
       "      <td>0.006251</td>\n",
       "      <td>0.133619</td>\n",
       "      <td>0.149469</td>\n",
       "      <td>0.247356</td>\n",
       "      <td>0.133913</td>\n",
       "      <td>0.212935</td>\n",
       "      <td>0.244380</td>\n",
       "      <td>0.075828</td>\n",
       "      <td>0.052881</td>\n",
       "      <td>...</td>\n",
       "      <td>0</td>\n",
       "      <td>0</td>\n",
       "      <td>0</td>\n",
       "      <td>0</td>\n",
       "      <td>0</td>\n",
       "      <td>0</td>\n",
       "      <td>0</td>\n",
       "      <td>0</td>\n",
       "      <td>0</td>\n",
       "      <td>0</td>\n",
       "    </tr>\n",
       "  </tbody>\n",
       "</table>\n",
       "<p>2 rows × 307 columns</p>\n",
       "</div>"
      ],
      "text/plain": [
       "                  Date  Wages CPI       WTI    Copper  Soybeans  Natural Gas  \\\n",
       "0  2021-02-28 00:00:00   0.007630  0.294725  0.182753  0.235484     0.039364   \n",
       "1  2021-01-31 00:00:00   0.006251  0.133619  0.149469  0.247356     0.133913   \n",
       "\n",
       "   Heating Oil      Corn     Wheat    Cattle  ...  D_1.4609999999999999  \\\n",
       "0     0.362725  0.267969  0.081492  0.056126  ...                     0   \n",
       "1     0.212935  0.244380  0.075828  0.052881  ...                     0   \n",
       "\n",
       "   D_1.5290000000000001  D_1.5319999999999998  D_1.663  D_1.9140000000000001  \\\n",
       "0                     0                     0        0                     0   \n",
       "1                     0                     0        0                     0   \n",
       "\n",
       "   D_2.157  D_2.336  D_2.8089999999999997  D_3.322  D_4.007  \n",
       "0        0        0                     0        0        0  \n",
       "1        0        0                     0        0        0  \n",
       "\n",
       "[2 rows x 307 columns]"
      ]
     },
     "execution_count": 9,
     "metadata": {},
     "output_type": "execute_result"
    }
   ],
   "source": [
    "df_dummies.head(2)"
   ]
  },
  {
   "cell_type": "code",
   "execution_count": 10,
   "metadata": {
    "scrolled": true
   },
   "outputs": [
    {
     "data": {
      "text/html": [
       "<div>\n",
       "<style scoped>\n",
       "    .dataframe tbody tr th:only-of-type {\n",
       "        vertical-align: middle;\n",
       "    }\n",
       "\n",
       "    .dataframe tbody tr th {\n",
       "        vertical-align: top;\n",
       "    }\n",
       "\n",
       "    .dataframe thead th {\n",
       "        text-align: right;\n",
       "    }\n",
       "</style>\n",
       "<table border=\"1\" class=\"dataframe\">\n",
       "  <thead>\n",
       "    <tr style=\"text-align: right;\">\n",
       "      <th></th>\n",
       "      <th>Date</th>\n",
       "      <th>Inflation</th>\n",
       "      <th>Wages CPI</th>\n",
       "      <th>WTI</th>\n",
       "      <th>Copper</th>\n",
       "      <th>Soybeans</th>\n",
       "      <th>Natural Gas</th>\n",
       "      <th>Heating Oil</th>\n",
       "      <th>Corn</th>\n",
       "      <th>Wheat</th>\n",
       "      <th>...</th>\n",
       "      <th>Lean Hogs</th>\n",
       "      <th>Sugar</th>\n",
       "      <th>Lumber</th>\n",
       "      <th>Capacity Utilization</th>\n",
       "      <th>GDP</th>\n",
       "      <th>M2 Velocity</th>\n",
       "      <th>PMI</th>\n",
       "      <th>USD Index</th>\n",
       "      <th>Initial Jobless Claims</th>\n",
       "      <th>Unemployment Rate</th>\n",
       "    </tr>\n",
       "  </thead>\n",
       "  <tbody>\n",
       "    <tr>\n",
       "      <th>0</th>\n",
       "      <td>2021-02-28 00:00:00</td>\n",
       "      <td>0.501</td>\n",
       "      <td>0.007630</td>\n",
       "      <td>0.294725</td>\n",
       "      <td>0.182753</td>\n",
       "      <td>0.235484</td>\n",
       "      <td>0.039364</td>\n",
       "      <td>0.362725</td>\n",
       "      <td>0.267969</td>\n",
       "      <td>0.081492</td>\n",
       "      <td>...</td>\n",
       "      <td>0.071797</td>\n",
       "      <td>0.153711</td>\n",
       "      <td>0.364326</td>\n",
       "      <td>0.019749</td>\n",
       "      <td>0.015004</td>\n",
       "      <td>-0.012195</td>\n",
       "      <td>2.600000</td>\n",
       "      <td>-0.028476</td>\n",
       "      <td>32916.66667</td>\n",
       "      <td>-0.733333</td>\n",
       "    </tr>\n",
       "    <tr>\n",
       "      <th>1</th>\n",
       "      <td>2021-01-31 00:00:00</td>\n",
       "      <td>0.218</td>\n",
       "      <td>0.006251</td>\n",
       "      <td>0.133619</td>\n",
       "      <td>0.149469</td>\n",
       "      <td>0.247356</td>\n",
       "      <td>0.133913</td>\n",
       "      <td>0.212935</td>\n",
       "      <td>0.244380</td>\n",
       "      <td>0.075828</td>\n",
       "      <td>...</td>\n",
       "      <td>0.083947</td>\n",
       "      <td>0.167539</td>\n",
       "      <td>0.119677</td>\n",
       "      <td>0.026555</td>\n",
       "      <td>0.015004</td>\n",
       "      <td>-0.012195</td>\n",
       "      <td>2.266667</td>\n",
       "      <td>-0.021939</td>\n",
       "      <td>-17083.33333</td>\n",
       "      <td>-1.133333</td>\n",
       "    </tr>\n",
       "    <tr>\n",
       "      <th>2</th>\n",
       "      <td>2020-12-31 00:00:00</td>\n",
       "      <td>-0.009</td>\n",
       "      <td>0.006591</td>\n",
       "      <td>0.045217</td>\n",
       "      <td>0.110950</td>\n",
       "      <td>0.212504</td>\n",
       "      <td>0.331085</td>\n",
       "      <td>0.075287</td>\n",
       "      <td>0.227807</td>\n",
       "      <td>0.121747</td>\n",
       "      <td>...</td>\n",
       "      <td>0.251831</td>\n",
       "      <td>0.183723</td>\n",
       "      <td>0.017824</td>\n",
       "      <td>0.022883</td>\n",
       "      <td>0.015004</td>\n",
       "      <td>-0.012195</td>\n",
       "      <td>4.000000</td>\n",
       "      <td>-0.020209</td>\n",
       "      <td>-234000.00000</td>\n",
       "      <td>-2.033333</td>\n",
       "    </tr>\n",
       "    <tr>\n",
       "      <th>3</th>\n",
       "      <td>2020-11-30 00:00:00</td>\n",
       "      <td>-0.135</td>\n",
       "      <td>0.009198</td>\n",
       "      <td>0.012381</td>\n",
       "      <td>0.111624</td>\n",
       "      <td>0.189713</td>\n",
       "      <td>0.400814</td>\n",
       "      <td>-0.024694</td>\n",
       "      <td>0.194635</td>\n",
       "      <td>0.137836</td>\n",
       "      <td>...</td>\n",
       "      <td>0.340989</td>\n",
       "      <td>0.145086</td>\n",
       "      <td>0.352576</td>\n",
       "      <td>0.030228</td>\n",
       "      <td>0.015004</td>\n",
       "      <td>-0.012195</td>\n",
       "      <td>3.566667</td>\n",
       "      <td>-0.022875</td>\n",
       "      <td>-412333.33330</td>\n",
       "      <td>-2.766667</td>\n",
       "    </tr>\n",
       "    <tr>\n",
       "      <th>4</th>\n",
       "      <td>2020-10-31 00:00:00</td>\n",
       "      <td>0.196</td>\n",
       "      <td>0.012842</td>\n",
       "      <td>0.268018</td>\n",
       "      <td>0.150999</td>\n",
       "      <td>0.135852</td>\n",
       "      <td>0.421347</td>\n",
       "      <td>0.081213</td>\n",
       "      <td>0.128424</td>\n",
       "      <td>0.112240</td>\n",
       "      <td>...</td>\n",
       "      <td>0.221210</td>\n",
       "      <td>0.164845</td>\n",
       "      <td>0.733392</td>\n",
       "      <td>0.063448</td>\n",
       "      <td>0.015004</td>\n",
       "      <td>-0.012195</td>\n",
       "      <td>7.033333</td>\n",
       "      <td>-0.042067</td>\n",
       "      <td>-604333.33330</td>\n",
       "      <td>-3.833333</td>\n",
       "    </tr>\n",
       "  </tbody>\n",
       "</table>\n",
       "<p>5 rows × 21 columns</p>\n",
       "</div>"
      ],
      "text/plain": [
       "                  Date  Inflation  Wages CPI       WTI    Copper  Soybeans  \\\n",
       "0  2021-02-28 00:00:00      0.501   0.007630  0.294725  0.182753  0.235484   \n",
       "1  2021-01-31 00:00:00      0.218   0.006251  0.133619  0.149469  0.247356   \n",
       "2  2020-12-31 00:00:00     -0.009   0.006591  0.045217  0.110950  0.212504   \n",
       "3  2020-11-30 00:00:00     -0.135   0.009198  0.012381  0.111624  0.189713   \n",
       "4  2020-10-31 00:00:00      0.196   0.012842  0.268018  0.150999  0.135852   \n",
       "\n",
       "   Natural Gas  Heating Oil      Corn     Wheat  ...  Lean Hogs     Sugar  \\\n",
       "0     0.039364     0.362725  0.267969  0.081492  ...   0.071797  0.153711   \n",
       "1     0.133913     0.212935  0.244380  0.075828  ...   0.083947  0.167539   \n",
       "2     0.331085     0.075287  0.227807  0.121747  ...   0.251831  0.183723   \n",
       "3     0.400814    -0.024694  0.194635  0.137836  ...   0.340989  0.145086   \n",
       "4     0.421347     0.081213  0.128424  0.112240  ...   0.221210  0.164845   \n",
       "\n",
       "     Lumber  Capacity Utilization       GDP  M2 Velocity       PMI  USD Index  \\\n",
       "0  0.364326              0.019749  0.015004    -0.012195  2.600000  -0.028476   \n",
       "1  0.119677              0.026555  0.015004    -0.012195  2.266667  -0.021939   \n",
       "2  0.017824              0.022883  0.015004    -0.012195  4.000000  -0.020209   \n",
       "3  0.352576              0.030228  0.015004    -0.012195  3.566667  -0.022875   \n",
       "4  0.733392              0.063448  0.015004    -0.012195  7.033333  -0.042067   \n",
       "\n",
       "   Initial Jobless Claims  Unemployment Rate  \n",
       "0             32916.66667          -0.733333  \n",
       "1            -17083.33333          -1.133333  \n",
       "2           -234000.00000          -2.033333  \n",
       "3           -412333.33330          -2.766667  \n",
       "4           -604333.33330          -3.833333  \n",
       "\n",
       "[5 rows x 21 columns]"
      ]
     },
     "execution_count": 10,
     "metadata": {},
     "output_type": "execute_result"
    }
   ],
   "source": [
    "df.head()"
   ]
  },
  {
   "cell_type": "markdown",
   "metadata": {},
   "source": [
    "While we knew going into the process that the entire data set is composed of \"non categorical\" data, notably floats, we undertook dummy variable creation process to double confirm.\n",
    "\n",
    "**We will proceed forward without the dummy variables.**"
   ]
  },
  {
   "cell_type": "markdown",
   "metadata": {},
   "source": [
    "# 3.0 Split data into training and testing subsets"
   ]
  },
  {
   "cell_type": "markdown",
   "metadata": {},
   "source": [
    "We will now undertake the train / test split. Please note, there are three ( 3 ) scaling approaches ( next section ). Therefore, we will do one ( 1 ) main split but assign the `Train` & `Test` splits to each of the scaling approaches individually; in other words, each one will have its own data frame.\n",
    "\n",
    "Listed below is a summary of the scaling names, the approach & the name of the respective data frames which we will formalize in the next section. Each will have a train test split formalized here:\n",
    "\n",
    "   * **Standardization**\n",
    "      * This approach finds the mean of the data, assigns that as Zero & the values presented are standard deviated moves\n",
    "      * Data Frame Name  |  `_SS`   \n",
    "   * **MinMaxScaler** ( often called Normalization )\n",
    "      * This approach reassigns the values from 0 -> 1\n",
    "      * Data Frame Name  |  `_MM`\n",
    "   * **Log Transformation**\n",
    "      * This approach usually is used with data that has long tails\n",
    "      * Data Frame Name  |  `_LG`\n",
    "\n",
    "The creation of these train / test splits will start here but before we proceed we will need to import the necessary libraries."
   ]
  },
  {
   "cell_type": "code",
   "execution_count": 11,
   "metadata": {},
   "outputs": [],
   "source": [
    "# from library.sb_utils import save_file\n",
    "from sklearn import __version__ as sklearn_version\n",
    "from sklearn.decomposition import PCA\n",
    "from sklearn.preprocessing import scale\n",
    "from sklearn.model_selection import train_test_split, cross_validate, GridSearchCV, learning_curve\n",
    "from sklearn.dummy import DummyRegressor\n",
    "from sklearn.linear_model import LinearRegression\n",
    "from sklearn.linear_model import LogisticRegression\n",
    "from sklearn.ensemble import RandomForestRegressor\n",
    "from sklearn.metrics import r2_score, mean_squared_error, mean_absolute_error\n",
    "from sklearn.pipeline import make_pipeline\n",
    "from sklearn.impute import SimpleImputer\n",
    "from sklearn.feature_selection import SelectKBest, f_regression\n"
   ]
  },
  {
   "cell_type": "markdown",
   "metadata": {},
   "source": [
    "**2.1 Train test split**"
   ]
  },
  {
   "cell_type": "markdown",
   "metadata": {},
   "source": [
    "To begin, let's see what a `70% / 30% Train/Test Split` looks like."
   ]
  },
  {
   "cell_type": "code",
   "execution_count": 12,
   "metadata": {},
   "outputs": [
    {
     "name": "stdout",
     "output_type": "stream",
     "text": [
      " Train | 218.4 \n",
      " Test  | 93.6\n"
     ]
    }
   ],
   "source": [
    "print(' Train |', round(len(df)* 0.7,2), '\\n','Test  |', len(df) * 0.3)"
   ]
  },
  {
   "cell_type": "markdown",
   "metadata": {},
   "source": [
    "Now we have a reference to what the output should look like above. We will now split the data removing `Inflation` as that's the dependant variable."
   ]
  },
  {
   "cell_type": "code",
   "execution_count": 13,
   "metadata": {},
   "outputs": [],
   "source": [
    "X_train, X_test, y_train, y_test = train_test_split(df.drop(columns='Inflation'),\n",
    "                                                    df.Inflation, test_size=0.3,\n",
    "                                                    random_state=42\n",
    "                                                   )"
   ]
  },
  {
   "cell_type": "code",
   "execution_count": 14,
   "metadata": {},
   "outputs": [
    {
     "data": {
      "text/plain": [
       "((218, 20), (94, 20))"
      ]
     },
     "execution_count": 14,
     "metadata": {},
     "output_type": "execute_result"
    }
   ],
   "source": [
    "X_train.shape, X_test.shape"
   ]
  },
  {
   "cell_type": "code",
   "execution_count": 15,
   "metadata": {},
   "outputs": [
    {
     "data": {
      "text/plain": [
       "((218,), (94,))"
      ]
     },
     "execution_count": 15,
     "metadata": {},
     "output_type": "execute_result"
    }
   ],
   "source": [
    "y_train.shape, y_test.shape"
   ]
  },
  {
   "cell_type": "markdown",
   "metadata": {},
   "source": [
    "The above align with the previous review so we will proceed. We will need to remove `Date` as that's not something we will use in our model."
   ]
  },
  {
   "cell_type": "code",
   "execution_count": 16,
   "metadata": {},
   "outputs": [
    {
     "data": {
      "text/plain": [
       "((218, 19), (94, 19))"
      ]
     },
     "execution_count": 16,
     "metadata": {},
     "output_type": "execute_result"
    }
   ],
   "source": [
    "date_list = ['Date']\n",
    "date_train = X_train[['Date']]\n",
    "date_test = X_train[['Date']]\n",
    "\n",
    "X_train.drop(columns=date_list, inplace=True)\n",
    "X_test.drop(columns=date_list, inplace=True)\n",
    "X_train.shape, X_test.shape"
   ]
  },
  {
   "cell_type": "code",
   "execution_count": 17,
   "metadata": {},
   "outputs": [],
   "source": [
    "reg_all = LinearRegression()"
   ]
  },
  {
   "cell_type": "code",
   "execution_count": 18,
   "metadata": {},
   "outputs": [
    {
     "data": {
      "text/plain": [
       "LinearRegression()"
      ]
     },
     "execution_count": 18,
     "metadata": {},
     "output_type": "execute_result"
    }
   ],
   "source": [
    "reg_all.fit(X_train,y_train)"
   ]
  },
  {
   "cell_type": "code",
   "execution_count": 19,
   "metadata": {},
   "outputs": [],
   "source": [
    "y_pred = reg_all.predict(X_test)"
   ]
  },
  {
   "cell_type": "code",
   "execution_count": 20,
   "metadata": {},
   "outputs": [
    {
     "name": "stdout",
     "output_type": "stream",
     "text": [
      "R^2: 0.2540058046120104\n",
      "Mean Absolute Error: 0.5629835145954647\n",
      "Root Mean Squared Error: 0.7556127599870052\n"
     ]
    }
   ],
   "source": [
    "print(\"R^2: {}\".format(reg_all.score(X_test, y_test)))\n",
    "mae = mean_absolute_error(y_test, y_pred)\n",
    "print(\"Mean Absolute Error: {}\".format(mae))\n",
    "rmse = np.sqrt(mean_squared_error(y_test,y_pred))\n",
    "print(\"Root Mean Squared Error: {}\".format(rmse))\n"
   ]
  },
  {
   "cell_type": "markdown",
   "metadata": {},
   "source": [
    "The scores are less than promising. We hope these improve as the data frame scaled.\n",
    "\n",
    "As previously mentioned, we are assigning the `Train` & `Test` splits to each of the three ( 3 ) scaling approaches below."
   ]
  },
  {
   "cell_type": "markdown",
   "metadata": {},
   "source": [
    "**Standardization** | *Assignment to its respective data frames.*"
   ]
  },
  {
   "cell_type": "code",
   "execution_count": 21,
   "metadata": {},
   "outputs": [],
   "source": [
    "X_train_SS = pd.DataFrame(X_train)\n",
    "X_test_SS = pd.DataFrame(X_test)\n",
    "y_train_SS = pd.DataFrame(y_train)\n",
    "y_test_SS = pd.DataFrame(y_test)\n",
    "y_tr_pred_SS = pd.DataFrame(y_pred)"
   ]
  },
  {
   "cell_type": "markdown",
   "metadata": {},
   "source": [
    "**MinMaxScaler** | *Assignment to its respective data frames.*"
   ]
  },
  {
   "cell_type": "code",
   "execution_count": 22,
   "metadata": {},
   "outputs": [],
   "source": [
    "X_train_MM = pd.DataFrame(X_train)\n",
    "X_test_MM = pd.DataFrame(X_test)\n",
    "y_train_MM = pd.DataFrame(y_train)\n",
    "y_test_MM = pd.DataFrame(y_test)\n",
    "y_tr_pred_MM = pd.DataFrame(y_pred)"
   ]
  },
  {
   "cell_type": "markdown",
   "metadata": {},
   "source": [
    "**Log Transformation** | *Assignment to its respective data frames.*"
   ]
  },
  {
   "cell_type": "code",
   "execution_count": 23,
   "metadata": {},
   "outputs": [],
   "source": [
    "X_train_LG = pd.DataFrame(X_train)\n",
    "X_test_LG = pd.DataFrame(X_test)\n",
    "y_train_LG = pd.DataFrame(y_train)\n",
    "y_test_LG = pd.DataFrame(y_test)\n",
    "y_tr_pred_LG = pd.DataFrame(y_pred)"
   ]
  },
  {
   "cell_type": "markdown",
   "metadata": {},
   "source": [
    "# 4.0 Scale standardization"
   ]
  },
  {
   "cell_type": "markdown",
   "metadata": {},
   "source": [
    "Now that the train / test splits have been completed, we will implement three ( 3 ) scaling approaches listed below. The basic summary of each approach is listed below & their underscore of the data frame names from the end of the previous section as well:\n",
    "\n",
    "   * **Standardization ( `_SS` )**\n",
    "      * This approach finds the mean of the data, assigns that as Zero & the values presented are standard deviated moves\n",
    "   * **MinMaxScaler ( `_MM` )** ( often called Normalization )\n",
    "      * This approach reassigns the values from 0 -> 1\n",
    "   * **Log Transformation ( `_Log` )**\n",
    "      * This approach usually is used with data that has long tails\n",
    "\n",
    "Before we proceed we will need to import the necessary libraries for all."
   ]
  },
  {
   "cell_type": "code",
   "execution_count": 24,
   "metadata": {},
   "outputs": [],
   "source": [
    "from sklearn.preprocessing import StandardScaler\n",
    "from sklearn.preprocessing import MinMaxScaler\n",
    "from sklearn.preprocessing import PowerTransformer"
   ]
  },
  {
   "cell_type": "markdown",
   "metadata": {},
   "source": [
    "# 3.1 Standardization"
   ]
  },
  {
   "cell_type": "markdown",
   "metadata": {},
   "source": [
    "The scalings approach & it's estimated results we will use in this section are as follows:\n",
    "   * **Standardization ( `_SS` )**\n",
    "      * This approach finds the mean of the data, assigns that as Zero & the values presented are standard deviated moves\n"
   ]
  },
  {
   "cell_type": "code",
   "execution_count": 25,
   "metadata": {},
   "outputs": [],
   "source": [
    "SS_scaler = StandardScaler()"
   ]
  },
  {
   "cell_type": "markdown",
   "metadata": {},
   "source": [
    "First `X_train_SS`"
   ]
  },
  {
   "cell_type": "code",
   "execution_count": 26,
   "metadata": {},
   "outputs": [
    {
     "data": {
      "text/plain": [
       "StandardScaler()"
      ]
     },
     "execution_count": 26,
     "metadata": {},
     "output_type": "execute_result"
    }
   ],
   "source": [
    "SS_scaler.fit(X_train_SS[['Wages CPI', 'WTI', 'Copper', 'Soybeans', 'Natural Gas', 'Heating Oil',\n",
    "       'Corn', 'Wheat', 'Cattle', 'Lean Hogs', 'Sugar', 'Lumber',\n",
    "       'Capacity Utilization', 'GDP', 'M2 Velocity', 'PMI', 'USD Index',\n",
    "       'Initial Jobless Claims', 'Unemployment Rate']])"
   ]
  },
  {
   "cell_type": "code",
   "execution_count": 27,
   "metadata": {},
   "outputs": [],
   "source": [
    "X_train_SS[['Wages CPI_SS', 'WTI_SS', 'Copper_SS', 'Soybeans_SS', 'Natural Gas_SS', 'Heating Oil_SS',\n",
    "       'Corn_SS', 'Wheat_SS', 'Cattle_SS', 'Lean Hogs_SS', 'Sugar_SS', 'Lumber_SS',\n",
    "       'Capacity Utilization_SS', 'GDP_SS', 'M2 Velocity_SS', 'PMI_SS', 'USD Index_SS',\n",
    "       'Initial Jobless Claims_SS', 'Unemployment Rate_SS']] = SS_scaler.transform(X_train_SS[['Wages CPI', 'WTI', 'Copper', 'Soybeans', 'Natural Gas', 'Heating Oil',\n",
    "       'Corn', 'Wheat', 'Cattle', 'Lean Hogs', 'Sugar', 'Lumber',\n",
    "       'Capacity Utilization', 'GDP', 'M2 Velocity', 'PMI', 'USD Index',\n",
    "       'Initial Jobless Claims', 'Unemployment Rate']])"
   ]
  },
  {
   "cell_type": "code",
   "execution_count": 28,
   "metadata": {},
   "outputs": [],
   "source": [
    "prev_cols = ['Wages CPI', 'WTI', 'Copper', 'Soybeans', 'Natural Gas', 'Heating Oil',\n",
    "       'Corn', 'Wheat', 'Cattle', 'Lean Hogs', 'Sugar', 'Lumber',\n",
    "       'Capacity Utilization', 'GDP', 'M2 Velocity', 'PMI', 'USD Index',\n",
    "       'Initial Jobless Claims', 'Unemployment Rate']"
   ]
  },
  {
   "cell_type": "code",
   "execution_count": 29,
   "metadata": {},
   "outputs": [],
   "source": [
    "X_train_SS.drop(columns=prev_cols, inplace=True)"
   ]
  },
  {
   "cell_type": "code",
   "execution_count": 30,
   "metadata": {},
   "outputs": [
    {
     "data": {
      "text/html": [
       "<div>\n",
       "<style scoped>\n",
       "    .dataframe tbody tr th:only-of-type {\n",
       "        vertical-align: middle;\n",
       "    }\n",
       "\n",
       "    .dataframe tbody tr th {\n",
       "        vertical-align: top;\n",
       "    }\n",
       "\n",
       "    .dataframe thead th {\n",
       "        text-align: right;\n",
       "    }\n",
       "</style>\n",
       "<table border=\"1\" class=\"dataframe\">\n",
       "  <thead>\n",
       "    <tr style=\"text-align: right;\">\n",
       "      <th></th>\n",
       "      <th>Wages CPI_SS</th>\n",
       "      <th>WTI_SS</th>\n",
       "      <th>Copper_SS</th>\n",
       "      <th>Soybeans_SS</th>\n",
       "      <th>Natural Gas_SS</th>\n",
       "      <th>Heating Oil_SS</th>\n",
       "      <th>Corn_SS</th>\n",
       "      <th>Wheat_SS</th>\n",
       "      <th>Cattle_SS</th>\n",
       "      <th>Lean Hogs_SS</th>\n",
       "      <th>Sugar_SS</th>\n",
       "      <th>Lumber_SS</th>\n",
       "      <th>Capacity Utilization_SS</th>\n",
       "      <th>GDP_SS</th>\n",
       "      <th>M2 Velocity_SS</th>\n",
       "      <th>PMI_SS</th>\n",
       "      <th>USD Index_SS</th>\n",
       "      <th>Initial Jobless Claims_SS</th>\n",
       "      <th>Unemployment Rate_SS</th>\n",
       "    </tr>\n",
       "  </thead>\n",
       "  <tbody>\n",
       "    <tr>\n",
       "      <th>count</th>\n",
       "      <td>2.180000e+02</td>\n",
       "      <td>2.180000e+02</td>\n",
       "      <td>2.180000e+02</td>\n",
       "      <td>2.180000e+02</td>\n",
       "      <td>2.180000e+02</td>\n",
       "      <td>2.180000e+02</td>\n",
       "      <td>2.180000e+02</td>\n",
       "      <td>2.180000e+02</td>\n",
       "      <td>2.180000e+02</td>\n",
       "      <td>2.180000e+02</td>\n",
       "      <td>2.180000e+02</td>\n",
       "      <td>2.180000e+02</td>\n",
       "      <td>2.180000e+02</td>\n",
       "      <td>2.180000e+02</td>\n",
       "      <td>2.180000e+02</td>\n",
       "      <td>2.180000e+02</td>\n",
       "      <td>218.000000</td>\n",
       "      <td>2.180000e+02</td>\n",
       "      <td>2.180000e+02</td>\n",
       "    </tr>\n",
       "    <tr>\n",
       "      <th>mean</th>\n",
       "      <td>-4.838128e-18</td>\n",
       "      <td>2.750094e-17</td>\n",
       "      <td>1.680613e-17</td>\n",
       "      <td>-2.750094e-17</td>\n",
       "      <td>1.018553e-18</td>\n",
       "      <td>2.113498e-17</td>\n",
       "      <td>5.754826e-17</td>\n",
       "      <td>-3.004732e-17</td>\n",
       "      <td>-2.801021e-18</td>\n",
       "      <td>-7.639149e-18</td>\n",
       "      <td>-4.838128e-17</td>\n",
       "      <td>-2.049838e-17</td>\n",
       "      <td>-2.088034e-17</td>\n",
       "      <td>5.627507e-17</td>\n",
       "      <td>2.215353e-17</td>\n",
       "      <td>4.869958e-18</td>\n",
       "      <td>0.000000</td>\n",
       "      <td>-6.875234e-18</td>\n",
       "      <td>1.222264e-17</td>\n",
       "    </tr>\n",
       "    <tr>\n",
       "      <th>std</th>\n",
       "      <td>1.002301e+00</td>\n",
       "      <td>1.002301e+00</td>\n",
       "      <td>1.002301e+00</td>\n",
       "      <td>1.002301e+00</td>\n",
       "      <td>1.002301e+00</td>\n",
       "      <td>1.002301e+00</td>\n",
       "      <td>1.002301e+00</td>\n",
       "      <td>1.002301e+00</td>\n",
       "      <td>1.002301e+00</td>\n",
       "      <td>1.002301e+00</td>\n",
       "      <td>1.002301e+00</td>\n",
       "      <td>1.002301e+00</td>\n",
       "      <td>1.002301e+00</td>\n",
       "      <td>1.002301e+00</td>\n",
       "      <td>1.002301e+00</td>\n",
       "      <td>1.002301e+00</td>\n",
       "      <td>1.002301</td>\n",
       "      <td>1.002301e+00</td>\n",
       "      <td>1.002301e+00</td>\n",
       "    </tr>\n",
       "    <tr>\n",
       "      <th>min</th>\n",
       "      <td>-6.977019e+00</td>\n",
       "      <td>-3.783391e+00</td>\n",
       "      <td>-4.194080e+00</td>\n",
       "      <td>-3.280162e+00</td>\n",
       "      <td>-1.969069e+00</td>\n",
       "      <td>-3.380414e+00</td>\n",
       "      <td>-2.641519e+00</td>\n",
       "      <td>-2.034743e+00</td>\n",
       "      <td>-2.966145e+00</td>\n",
       "      <td>-2.453932e+00</td>\n",
       "      <td>-2.521716e+00</td>\n",
       "      <td>-2.522608e+00</td>\n",
       "      <td>-7.680682e+00</td>\n",
       "      <td>-8.837955e+00</td>\n",
       "      <td>-8.988479e+00</td>\n",
       "      <td>-3.333833e+00</td>\n",
       "      <td>-2.094012</td>\n",
       "      <td>-3.190713e+00</td>\n",
       "      <td>-4.802520e+00</td>\n",
       "    </tr>\n",
       "    <tr>\n",
       "      <th>25%</th>\n",
       "      <td>-2.671202e-01</td>\n",
       "      <td>-5.665365e-01</td>\n",
       "      <td>-5.924217e-01</td>\n",
       "      <td>-5.064631e-01</td>\n",
       "      <td>-6.724566e-01</td>\n",
       "      <td>-5.422759e-01</td>\n",
       "      <td>-6.269477e-01</td>\n",
       "      <td>-6.723267e-01</td>\n",
       "      <td>-6.458132e-01</td>\n",
       "      <td>-6.201385e-01</td>\n",
       "      <td>-6.977306e-01</td>\n",
       "      <td>-6.930695e-01</td>\n",
       "      <td>-2.313524e-01</td>\n",
       "      <td>-1.414367e-01</td>\n",
       "      <td>-9.686651e-02</td>\n",
       "      <td>-5.828489e-01</td>\n",
       "      <td>-0.794405</td>\n",
       "      <td>-1.277904e-01</td>\n",
       "      <td>-2.348593e-01</td>\n",
       "    </tr>\n",
       "    <tr>\n",
       "      <th>50%</th>\n",
       "      <td>1.153214e-01</td>\n",
       "      <td>-3.959852e-02</td>\n",
       "      <td>-9.739427e-02</td>\n",
       "      <td>-5.652283e-02</td>\n",
       "      <td>-1.579051e-01</td>\n",
       "      <td>-4.040096e-02</td>\n",
       "      <td>-5.827166e-02</td>\n",
       "      <td>-4.863862e-02</td>\n",
       "      <td>7.426409e-02</td>\n",
       "      <td>-4.506087e-02</td>\n",
       "      <td>-2.081390e-01</td>\n",
       "      <td>-3.689083e-02</td>\n",
       "      <td>1.477523e-01</td>\n",
       "      <td>1.250461e-01</td>\n",
       "      <td>8.804844e-02</td>\n",
       "      <td>-1.545851e-02</td>\n",
       "      <td>0.035274</td>\n",
       "      <td>-8.785599e-02</td>\n",
       "      <td>-1.102867e-01</td>\n",
       "    </tr>\n",
       "    <tr>\n",
       "      <th>75%</th>\n",
       "      <td>4.280369e-01</td>\n",
       "      <td>6.677299e-01</td>\n",
       "      <td>5.366898e-01</td>\n",
       "      <td>5.316750e-01</td>\n",
       "      <td>5.625160e-01</td>\n",
       "      <td>6.352366e-01</td>\n",
       "      <td>5.203411e-01</td>\n",
       "      <td>5.954279e-01</td>\n",
       "      <td>7.339765e-01</td>\n",
       "      <td>7.269682e-01</td>\n",
       "      <td>5.484182e-01</td>\n",
       "      <td>6.135977e-01</td>\n",
       "      <td>4.357818e-01</td>\n",
       "      <td>4.008007e-01</td>\n",
       "      <td>3.751039e-01</td>\n",
       "      <td>5.576631e-01</td>\n",
       "      <td>0.628237</td>\n",
       "      <td>-4.770693e-02</td>\n",
       "      <td>5.581003e-02</td>\n",
       "    </tr>\n",
       "    <tr>\n",
       "      <th>max</th>\n",
       "      <td>3.074376e+00</td>\n",
       "      <td>2.742497e+00</td>\n",
       "      <td>3.913407e+00</td>\n",
       "      <td>2.811401e+00</td>\n",
       "      <td>2.994870e+00</td>\n",
       "      <td>2.428936e+00</td>\n",
       "      <td>3.277006e+00</td>\n",
       "      <td>4.032564e+00</td>\n",
       "      <td>2.428476e+00</td>\n",
       "      <td>2.661448e+00</td>\n",
       "      <td>3.888003e+00</td>\n",
       "      <td>5.231216e+00</td>\n",
       "      <td>3.864717e+00</td>\n",
       "      <td>1.198672e+00</td>\n",
       "      <td>9.832153e-01</td>\n",
       "      <td>3.589476e+00</td>\n",
       "      <td>2.666820</td>\n",
       "      <td>1.241375e+01</td>\n",
       "      <td>1.151649e+01</td>\n",
       "    </tr>\n",
       "  </tbody>\n",
       "</table>\n",
       "</div>"
      ],
      "text/plain": [
       "       Wages CPI_SS        WTI_SS     Copper_SS   Soybeans_SS  Natural Gas_SS  \\\n",
       "count  2.180000e+02  2.180000e+02  2.180000e+02  2.180000e+02    2.180000e+02   \n",
       "mean  -4.838128e-18  2.750094e-17  1.680613e-17 -2.750094e-17    1.018553e-18   \n",
       "std    1.002301e+00  1.002301e+00  1.002301e+00  1.002301e+00    1.002301e+00   \n",
       "min   -6.977019e+00 -3.783391e+00 -4.194080e+00 -3.280162e+00   -1.969069e+00   \n",
       "25%   -2.671202e-01 -5.665365e-01 -5.924217e-01 -5.064631e-01   -6.724566e-01   \n",
       "50%    1.153214e-01 -3.959852e-02 -9.739427e-02 -5.652283e-02   -1.579051e-01   \n",
       "75%    4.280369e-01  6.677299e-01  5.366898e-01  5.316750e-01    5.625160e-01   \n",
       "max    3.074376e+00  2.742497e+00  3.913407e+00  2.811401e+00    2.994870e+00   \n",
       "\n",
       "       Heating Oil_SS       Corn_SS      Wheat_SS     Cattle_SS  Lean Hogs_SS  \\\n",
       "count    2.180000e+02  2.180000e+02  2.180000e+02  2.180000e+02  2.180000e+02   \n",
       "mean     2.113498e-17  5.754826e-17 -3.004732e-17 -2.801021e-18 -7.639149e-18   \n",
       "std      1.002301e+00  1.002301e+00  1.002301e+00  1.002301e+00  1.002301e+00   \n",
       "min     -3.380414e+00 -2.641519e+00 -2.034743e+00 -2.966145e+00 -2.453932e+00   \n",
       "25%     -5.422759e-01 -6.269477e-01 -6.723267e-01 -6.458132e-01 -6.201385e-01   \n",
       "50%     -4.040096e-02 -5.827166e-02 -4.863862e-02  7.426409e-02 -4.506087e-02   \n",
       "75%      6.352366e-01  5.203411e-01  5.954279e-01  7.339765e-01  7.269682e-01   \n",
       "max      2.428936e+00  3.277006e+00  4.032564e+00  2.428476e+00  2.661448e+00   \n",
       "\n",
       "           Sugar_SS     Lumber_SS  Capacity Utilization_SS        GDP_SS  \\\n",
       "count  2.180000e+02  2.180000e+02             2.180000e+02  2.180000e+02   \n",
       "mean  -4.838128e-17 -2.049838e-17            -2.088034e-17  5.627507e-17   \n",
       "std    1.002301e+00  1.002301e+00             1.002301e+00  1.002301e+00   \n",
       "min   -2.521716e+00 -2.522608e+00            -7.680682e+00 -8.837955e+00   \n",
       "25%   -6.977306e-01 -6.930695e-01            -2.313524e-01 -1.414367e-01   \n",
       "50%   -2.081390e-01 -3.689083e-02             1.477523e-01  1.250461e-01   \n",
       "75%    5.484182e-01  6.135977e-01             4.357818e-01  4.008007e-01   \n",
       "max    3.888003e+00  5.231216e+00             3.864717e+00  1.198672e+00   \n",
       "\n",
       "       M2 Velocity_SS        PMI_SS  USD Index_SS  Initial Jobless Claims_SS  \\\n",
       "count    2.180000e+02  2.180000e+02    218.000000               2.180000e+02   \n",
       "mean     2.215353e-17  4.869958e-18      0.000000              -6.875234e-18   \n",
       "std      1.002301e+00  1.002301e+00      1.002301               1.002301e+00   \n",
       "min     -8.988479e+00 -3.333833e+00     -2.094012              -3.190713e+00   \n",
       "25%     -9.686651e-02 -5.828489e-01     -0.794405              -1.277904e-01   \n",
       "50%      8.804844e-02 -1.545851e-02      0.035274              -8.785599e-02   \n",
       "75%      3.751039e-01  5.576631e-01      0.628237              -4.770693e-02   \n",
       "max      9.832153e-01  3.589476e+00      2.666820               1.241375e+01   \n",
       "\n",
       "       Unemployment Rate_SS  \n",
       "count          2.180000e+02  \n",
       "mean           1.222264e-17  \n",
       "std            1.002301e+00  \n",
       "min           -4.802520e+00  \n",
       "25%           -2.348593e-01  \n",
       "50%           -1.102867e-01  \n",
       "75%            5.581003e-02  \n",
       "max            1.151649e+01  "
      ]
     },
     "execution_count": 30,
     "metadata": {},
     "output_type": "execute_result"
    }
   ],
   "source": [
    "X_train_SS.describe()"
   ]
  },
  {
   "cell_type": "markdown",
   "metadata": {},
   "source": [
    "The **Mean** & **Standard Deviation** look close enough to 0 & 1 respectively; thus, it was scaled correctly. We will now scale the others."
   ]
  },
  {
   "cell_type": "markdown",
   "metadata": {},
   "source": [
    "Next `X_test_SS`"
   ]
  },
  {
   "cell_type": "code",
   "execution_count": 31,
   "metadata": {},
   "outputs": [
    {
     "data": {
      "text/plain": [
       "StandardScaler()"
      ]
     },
     "execution_count": 31,
     "metadata": {},
     "output_type": "execute_result"
    }
   ],
   "source": [
    "SS_scaler.fit(X_test_SS[['Wages CPI', 'WTI', 'Copper', 'Soybeans', 'Natural Gas', 'Heating Oil',\n",
    "       'Corn', 'Wheat', 'Cattle', 'Lean Hogs', 'Sugar', 'Lumber',\n",
    "       'Capacity Utilization', 'GDP', 'M2 Velocity', 'PMI', 'USD Index',\n",
    "       'Initial Jobless Claims', 'Unemployment Rate']])"
   ]
  },
  {
   "cell_type": "code",
   "execution_count": 32,
   "metadata": {},
   "outputs": [],
   "source": [
    "X_test_SS[['Wages CPI_SS', 'WTI_SS', 'Copper_SS', 'Soybeans_SS', 'Natural Gas_SS', 'Heating Oil_SS',\n",
    "       'Corn_SS', 'Wheat_SS', 'Cattle_SS', 'Lean Hogs_SS', 'Sugar_SS', 'Lumber_SS',\n",
    "       'Capacity Utilization_SS', 'GDP_SS', 'M2 Velocity_SS', 'PMI_SS', 'USD Index_SS',\n",
    "       'Initial Jobless Claims_SS', 'Unemployment Rate_SS']] = SS_scaler.transform(X_test_SS[['Wages CPI', 'WTI', 'Copper', 'Soybeans', 'Natural Gas', 'Heating Oil',\n",
    "       'Corn', 'Wheat', 'Cattle', 'Lean Hogs', 'Sugar', 'Lumber',\n",
    "       'Capacity Utilization', 'GDP', 'M2 Velocity', 'PMI', 'USD Index',\n",
    "       'Initial Jobless Claims', 'Unemployment Rate']])"
   ]
  },
  {
   "cell_type": "code",
   "execution_count": 33,
   "metadata": {},
   "outputs": [],
   "source": [
    "X_test_SS.drop(columns=prev_cols, inplace=True)"
   ]
  },
  {
   "cell_type": "code",
   "execution_count": 34,
   "metadata": {},
   "outputs": [
    {
     "data": {
      "text/html": [
       "<div>\n",
       "<style scoped>\n",
       "    .dataframe tbody tr th:only-of-type {\n",
       "        vertical-align: middle;\n",
       "    }\n",
       "\n",
       "    .dataframe tbody tr th {\n",
       "        vertical-align: top;\n",
       "    }\n",
       "\n",
       "    .dataframe thead th {\n",
       "        text-align: right;\n",
       "    }\n",
       "</style>\n",
       "<table border=\"1\" class=\"dataframe\">\n",
       "  <thead>\n",
       "    <tr style=\"text-align: right;\">\n",
       "      <th></th>\n",
       "      <th>Wages CPI_SS</th>\n",
       "      <th>WTI_SS</th>\n",
       "      <th>Copper_SS</th>\n",
       "      <th>Soybeans_SS</th>\n",
       "      <th>Natural Gas_SS</th>\n",
       "      <th>Heating Oil_SS</th>\n",
       "      <th>Corn_SS</th>\n",
       "      <th>Wheat_SS</th>\n",
       "      <th>Cattle_SS</th>\n",
       "      <th>Lean Hogs_SS</th>\n",
       "      <th>Sugar_SS</th>\n",
       "      <th>Lumber_SS</th>\n",
       "      <th>Capacity Utilization_SS</th>\n",
       "      <th>GDP_SS</th>\n",
       "      <th>M2 Velocity_SS</th>\n",
       "      <th>PMI_SS</th>\n",
       "      <th>USD Index_SS</th>\n",
       "      <th>Initial Jobless Claims_SS</th>\n",
       "      <th>Unemployment Rate_SS</th>\n",
       "    </tr>\n",
       "  </thead>\n",
       "  <tbody>\n",
       "    <tr>\n",
       "      <th>count</th>\n",
       "      <td>9.400000e+01</td>\n",
       "      <td>9.400000e+01</td>\n",
       "      <td>9.400000e+01</td>\n",
       "      <td>9.400000e+01</td>\n",
       "      <td>9.400000e+01</td>\n",
       "      <td>9.400000e+01</td>\n",
       "      <td>9.400000e+01</td>\n",
       "      <td>9.400000e+01</td>\n",
       "      <td>9.400000e+01</td>\n",
       "      <td>9.400000e+01</td>\n",
       "      <td>9.400000e+01</td>\n",
       "      <td>9.400000e+01</td>\n",
       "      <td>9.400000e+01</td>\n",
       "      <td>9.400000e+01</td>\n",
       "      <td>9.400000e+01</td>\n",
       "      <td>9.400000e+01</td>\n",
       "      <td>9.400000e+01</td>\n",
       "      <td>9.400000e+01</td>\n",
       "      <td>9.400000e+01</td>\n",
       "    </tr>\n",
       "    <tr>\n",
       "      <th>mean</th>\n",
       "      <td>-9.611106e-17</td>\n",
       "      <td>5.905442e-18</td>\n",
       "      <td>-2.834612e-17</td>\n",
       "      <td>-3.720428e-17</td>\n",
       "      <td>2.362177e-17</td>\n",
       "      <td>-1.683051e-17</td>\n",
       "      <td>-3.661374e-17</td>\n",
       "      <td>1.535415e-17</td>\n",
       "      <td>-3.543265e-18</td>\n",
       "      <td>-7.086530e-17</td>\n",
       "      <td>2.480285e-17</td>\n",
       "      <td>2.598394e-17</td>\n",
       "      <td>-1.225379e-17</td>\n",
       "      <td>1.169277e-16</td>\n",
       "      <td>1.535415e-17</td>\n",
       "      <td>-1.062979e-17</td>\n",
       "      <td>-3.395629e-18</td>\n",
       "      <td>-4.776026e-17</td>\n",
       "      <td>-3.543265e-18</td>\n",
       "    </tr>\n",
       "    <tr>\n",
       "      <th>std</th>\n",
       "      <td>1.005362e+00</td>\n",
       "      <td>1.005362e+00</td>\n",
       "      <td>1.005362e+00</td>\n",
       "      <td>1.005362e+00</td>\n",
       "      <td>1.005362e+00</td>\n",
       "      <td>1.005362e+00</td>\n",
       "      <td>1.005362e+00</td>\n",
       "      <td>1.005362e+00</td>\n",
       "      <td>1.005362e+00</td>\n",
       "      <td>1.005362e+00</td>\n",
       "      <td>1.005362e+00</td>\n",
       "      <td>1.005362e+00</td>\n",
       "      <td>1.005362e+00</td>\n",
       "      <td>1.005362e+00</td>\n",
       "      <td>1.005362e+00</td>\n",
       "      <td>1.005362e+00</td>\n",
       "      <td>1.005362e+00</td>\n",
       "      <td>1.005362e+00</td>\n",
       "      <td>1.005362e+00</td>\n",
       "    </tr>\n",
       "    <tr>\n",
       "      <th>min</th>\n",
       "      <td>-5.981949e+00</td>\n",
       "      <td>-3.339578e+00</td>\n",
       "      <td>-4.207974e+00</td>\n",
       "      <td>-3.294056e+00</td>\n",
       "      <td>-2.150025e+00</td>\n",
       "      <td>-3.472264e+00</td>\n",
       "      <td>-2.941620e+00</td>\n",
       "      <td>-2.840165e+00</td>\n",
       "      <td>-3.190705e+00</td>\n",
       "      <td>-1.993480e+00</td>\n",
       "      <td>-2.079409e+00</td>\n",
       "      <td>-1.686351e+00</td>\n",
       "      <td>-6.058520e+00</td>\n",
       "      <td>-5.898678e+00</td>\n",
       "      <td>-8.172232e+00</td>\n",
       "      <td>-3.805768e+00</td>\n",
       "      <td>-2.104842e+00</td>\n",
       "      <td>-5.176160e+00</td>\n",
       "      <td>-4.096543e+00</td>\n",
       "    </tr>\n",
       "    <tr>\n",
       "      <th>25%</th>\n",
       "      <td>-3.446179e-01</td>\n",
       "      <td>-4.350725e-01</td>\n",
       "      <td>-5.510621e-01</td>\n",
       "      <td>-6.113824e-01</td>\n",
       "      <td>-6.018705e-01</td>\n",
       "      <td>-4.440948e-01</td>\n",
       "      <td>-5.482339e-01</td>\n",
       "      <td>-6.563139e-01</td>\n",
       "      <td>-7.157681e-01</td>\n",
       "      <td>-7.831235e-01</td>\n",
       "      <td>-6.125555e-01</td>\n",
       "      <td>-6.048104e-01</td>\n",
       "      <td>-2.111562e-01</td>\n",
       "      <td>-2.219051e-01</td>\n",
       "      <td>-2.044489e-01</td>\n",
       "      <td>-6.608844e-01</td>\n",
       "      <td>-6.092185e-01</td>\n",
       "      <td>2.578097e-02</td>\n",
       "      <td>-1.639166e-01</td>\n",
       "    </tr>\n",
       "    <tr>\n",
       "      <th>50%</th>\n",
       "      <td>2.098640e-01</td>\n",
       "      <td>1.160682e-01</td>\n",
       "      <td>-1.495605e-01</td>\n",
       "      <td>-1.154280e-01</td>\n",
       "      <td>-7.962579e-02</td>\n",
       "      <td>1.254066e-01</td>\n",
       "      <td>-1.046305e-01</td>\n",
       "      <td>-1.758938e-01</td>\n",
       "      <td>9.074896e-02</td>\n",
       "      <td>-1.053545e-01</td>\n",
       "      <td>-1.868311e-01</td>\n",
       "      <td>-1.920241e-01</td>\n",
       "      <td>6.755721e-02</td>\n",
       "      <td>-3.069458e-02</td>\n",
       "      <td>5.007479e-02</td>\n",
       "      <td>-1.362793e-01</td>\n",
       "      <td>-6.691157e-02</td>\n",
       "      <td>3.921550e-02</td>\n",
       "      <td>-6.721266e-02</td>\n",
       "    </tr>\n",
       "    <tr>\n",
       "      <th>75%</th>\n",
       "      <td>4.927091e-01</td>\n",
       "      <td>5.057672e-01</td>\n",
       "      <td>5.750248e-01</td>\n",
       "      <td>5.619489e-01</td>\n",
       "      <td>7.109722e-01</td>\n",
       "      <td>6.881492e-01</td>\n",
       "      <td>5.320199e-01</td>\n",
       "      <td>4.923393e-01</td>\n",
       "      <td>8.041634e-01</td>\n",
       "      <td>6.830971e-01</td>\n",
       "      <td>5.321097e-01</td>\n",
       "      <td>4.225702e-01</td>\n",
       "      <td>2.736684e-01</td>\n",
       "      <td>1.105831e-01</td>\n",
       "      <td>3.772376e-01</td>\n",
       "      <td>4.981908e-01</td>\n",
       "      <td>5.733537e-01</td>\n",
       "      <td>5.703865e-02</td>\n",
       "      <td>6.172591e-02</td>\n",
       "    </tr>\n",
       "    <tr>\n",
       "      <th>max</th>\n",
       "      <td>1.845279e+00</td>\n",
       "      <td>3.534964e+00</td>\n",
       "      <td>2.966541e+00</td>\n",
       "      <td>2.493752e+00</td>\n",
       "      <td>2.642380e+00</td>\n",
       "      <td>1.985076e+00</td>\n",
       "      <td>3.415520e+00</td>\n",
       "      <td>3.611428e+00</td>\n",
       "      <td>1.792771e+00</td>\n",
       "      <td>2.311493e+00</td>\n",
       "      <td>3.426700e+00</td>\n",
       "      <td>4.501582e+00</td>\n",
       "      <td>4.680440e+00</td>\n",
       "      <td>4.047762e+00</td>\n",
       "      <td>1.892650e+00</td>\n",
       "      <td>3.170656e+00</td>\n",
       "      <td>3.382748e+00</td>\n",
       "      <td>7.282669e+00</td>\n",
       "      <td>7.088878e+00</td>\n",
       "    </tr>\n",
       "  </tbody>\n",
       "</table>\n",
       "</div>"
      ],
      "text/plain": [
       "       Wages CPI_SS        WTI_SS     Copper_SS   Soybeans_SS  Natural Gas_SS  \\\n",
       "count  9.400000e+01  9.400000e+01  9.400000e+01  9.400000e+01    9.400000e+01   \n",
       "mean  -9.611106e-17  5.905442e-18 -2.834612e-17 -3.720428e-17    2.362177e-17   \n",
       "std    1.005362e+00  1.005362e+00  1.005362e+00  1.005362e+00    1.005362e+00   \n",
       "min   -5.981949e+00 -3.339578e+00 -4.207974e+00 -3.294056e+00   -2.150025e+00   \n",
       "25%   -3.446179e-01 -4.350725e-01 -5.510621e-01 -6.113824e-01   -6.018705e-01   \n",
       "50%    2.098640e-01  1.160682e-01 -1.495605e-01 -1.154280e-01   -7.962579e-02   \n",
       "75%    4.927091e-01  5.057672e-01  5.750248e-01  5.619489e-01    7.109722e-01   \n",
       "max    1.845279e+00  3.534964e+00  2.966541e+00  2.493752e+00    2.642380e+00   \n",
       "\n",
       "       Heating Oil_SS       Corn_SS      Wheat_SS     Cattle_SS  Lean Hogs_SS  \\\n",
       "count    9.400000e+01  9.400000e+01  9.400000e+01  9.400000e+01  9.400000e+01   \n",
       "mean    -1.683051e-17 -3.661374e-17  1.535415e-17 -3.543265e-18 -7.086530e-17   \n",
       "std      1.005362e+00  1.005362e+00  1.005362e+00  1.005362e+00  1.005362e+00   \n",
       "min     -3.472264e+00 -2.941620e+00 -2.840165e+00 -3.190705e+00 -1.993480e+00   \n",
       "25%     -4.440948e-01 -5.482339e-01 -6.563139e-01 -7.157681e-01 -7.831235e-01   \n",
       "50%      1.254066e-01 -1.046305e-01 -1.758938e-01  9.074896e-02 -1.053545e-01   \n",
       "75%      6.881492e-01  5.320199e-01  4.923393e-01  8.041634e-01  6.830971e-01   \n",
       "max      1.985076e+00  3.415520e+00  3.611428e+00  1.792771e+00  2.311493e+00   \n",
       "\n",
       "           Sugar_SS     Lumber_SS  Capacity Utilization_SS        GDP_SS  \\\n",
       "count  9.400000e+01  9.400000e+01             9.400000e+01  9.400000e+01   \n",
       "mean   2.480285e-17  2.598394e-17            -1.225379e-17  1.169277e-16   \n",
       "std    1.005362e+00  1.005362e+00             1.005362e+00  1.005362e+00   \n",
       "min   -2.079409e+00 -1.686351e+00            -6.058520e+00 -5.898678e+00   \n",
       "25%   -6.125555e-01 -6.048104e-01            -2.111562e-01 -2.219051e-01   \n",
       "50%   -1.868311e-01 -1.920241e-01             6.755721e-02 -3.069458e-02   \n",
       "75%    5.321097e-01  4.225702e-01             2.736684e-01  1.105831e-01   \n",
       "max    3.426700e+00  4.501582e+00             4.680440e+00  4.047762e+00   \n",
       "\n",
       "       M2 Velocity_SS        PMI_SS  USD Index_SS  Initial Jobless Claims_SS  \\\n",
       "count    9.400000e+01  9.400000e+01  9.400000e+01               9.400000e+01   \n",
       "mean     1.535415e-17 -1.062979e-17 -3.395629e-18              -4.776026e-17   \n",
       "std      1.005362e+00  1.005362e+00  1.005362e+00               1.005362e+00   \n",
       "min     -8.172232e+00 -3.805768e+00 -2.104842e+00              -5.176160e+00   \n",
       "25%     -2.044489e-01 -6.608844e-01 -6.092185e-01               2.578097e-02   \n",
       "50%      5.007479e-02 -1.362793e-01 -6.691157e-02               3.921550e-02   \n",
       "75%      3.772376e-01  4.981908e-01  5.733537e-01               5.703865e-02   \n",
       "max      1.892650e+00  3.170656e+00  3.382748e+00               7.282669e+00   \n",
       "\n",
       "       Unemployment Rate_SS  \n",
       "count          9.400000e+01  \n",
       "mean          -3.543265e-18  \n",
       "std            1.005362e+00  \n",
       "min           -4.096543e+00  \n",
       "25%           -1.639166e-01  \n",
       "50%           -6.721266e-02  \n",
       "75%            6.172591e-02  \n",
       "max            7.088878e+00  "
      ]
     },
     "execution_count": 34,
     "metadata": {},
     "output_type": "execute_result"
    }
   ],
   "source": [
    "X_test_SS.describe()"
   ]
  },
  {
   "cell_type": "markdown",
   "metadata": {},
   "source": [
    "Next `y_train_SS`"
   ]
  },
  {
   "cell_type": "code",
   "execution_count": 35,
   "metadata": {},
   "outputs": [
    {
     "data": {
      "text/plain": [
       "StandardScaler()"
      ]
     },
     "execution_count": 35,
     "metadata": {},
     "output_type": "execute_result"
    }
   ],
   "source": [
    "SS_scaler.fit(y_train_SS[['Inflation']])"
   ]
  },
  {
   "cell_type": "code",
   "execution_count": 36,
   "metadata": {},
   "outputs": [],
   "source": [
    "y_train_SS['Inflation_SS'] = SS_scaler.transform(y_train_SS[['Inflation']])\n",
    "y_train_SS.drop(columns='Inflation', inplace=True)"
   ]
  },
  {
   "cell_type": "code",
   "execution_count": 37,
   "metadata": {},
   "outputs": [
    {
     "data": {
      "text/html": [
       "<div>\n",
       "<style scoped>\n",
       "    .dataframe tbody tr th:only-of-type {\n",
       "        vertical-align: middle;\n",
       "    }\n",
       "\n",
       "    .dataframe tbody tr th {\n",
       "        vertical-align: top;\n",
       "    }\n",
       "\n",
       "    .dataframe thead th {\n",
       "        text-align: right;\n",
       "    }\n",
       "</style>\n",
       "<table border=\"1\" class=\"dataframe\">\n",
       "  <thead>\n",
       "    <tr style=\"text-align: right;\">\n",
       "      <th></th>\n",
       "      <th>Inflation_SS</th>\n",
       "    </tr>\n",
       "  </thead>\n",
       "  <tbody>\n",
       "    <tr>\n",
       "      <th>count</th>\n",
       "      <td>2.180000e+02</td>\n",
       "    </tr>\n",
       "    <tr>\n",
       "      <th>mean</th>\n",
       "      <td>1.222264e-17</td>\n",
       "    </tr>\n",
       "    <tr>\n",
       "      <th>std</th>\n",
       "      <td>1.002301e+00</td>\n",
       "    </tr>\n",
       "    <tr>\n",
       "      <th>min</th>\n",
       "      <td>-4.436994e+00</td>\n",
       "    </tr>\n",
       "    <tr>\n",
       "      <th>25%</th>\n",
       "      <td>-4.187935e-01</td>\n",
       "    </tr>\n",
       "    <tr>\n",
       "      <th>50%</th>\n",
       "      <td>-1.285149e-02</td>\n",
       "    </tr>\n",
       "    <tr>\n",
       "      <th>75%</th>\n",
       "      <td>4.430526e-01</td>\n",
       "    </tr>\n",
       "    <tr>\n",
       "      <th>max</th>\n",
       "      <td>5.095772e+00</td>\n",
       "    </tr>\n",
       "  </tbody>\n",
       "</table>\n",
       "</div>"
      ],
      "text/plain": [
       "       Inflation_SS\n",
       "count  2.180000e+02\n",
       "mean   1.222264e-17\n",
       "std    1.002301e+00\n",
       "min   -4.436994e+00\n",
       "25%   -4.187935e-01\n",
       "50%   -1.285149e-02\n",
       "75%    4.430526e-01\n",
       "max    5.095772e+00"
      ]
     },
     "execution_count": 37,
     "metadata": {},
     "output_type": "execute_result"
    }
   ],
   "source": [
    "y_train_SS.describe()"
   ]
  },
  {
   "cell_type": "markdown",
   "metadata": {},
   "source": [
    "Next `y_test_SS`"
   ]
  },
  {
   "cell_type": "code",
   "execution_count": 38,
   "metadata": {},
   "outputs": [],
   "source": [
    "SS_scaler.fit(y_test_SS[['Inflation']])\n",
    "y_test_SS['Inflation_SS'] = SS_scaler.transform(y_test_SS[['Inflation']])\n",
    "y_test_SS.drop(columns='Inflation', inplace=True)"
   ]
  },
  {
   "cell_type": "code",
   "execution_count": 39,
   "metadata": {},
   "outputs": [
    {
     "data": {
      "text/html": [
       "<div>\n",
       "<style scoped>\n",
       "    .dataframe tbody tr th:only-of-type {\n",
       "        vertical-align: middle;\n",
       "    }\n",
       "\n",
       "    .dataframe tbody tr th {\n",
       "        vertical-align: top;\n",
       "    }\n",
       "\n",
       "    .dataframe thead th {\n",
       "        text-align: right;\n",
       "    }\n",
       "</style>\n",
       "<table border=\"1\" class=\"dataframe\">\n",
       "  <thead>\n",
       "    <tr style=\"text-align: right;\">\n",
       "      <th></th>\n",
       "      <th>Inflation_SS</th>\n",
       "    </tr>\n",
       "  </thead>\n",
       "  <tbody>\n",
       "    <tr>\n",
       "      <th>count</th>\n",
       "      <td>9.400000e+01</td>\n",
       "    </tr>\n",
       "    <tr>\n",
       "      <th>mean</th>\n",
       "      <td>-8.267618e-18</td>\n",
       "    </tr>\n",
       "    <tr>\n",
       "      <th>std</th>\n",
       "      <td>1.005362e+00</td>\n",
       "    </tr>\n",
       "    <tr>\n",
       "      <th>min</th>\n",
       "      <td>-5.615141e+00</td>\n",
       "    </tr>\n",
       "    <tr>\n",
       "      <th>25%</th>\n",
       "      <td>-4.970967e-01</td>\n",
       "    </tr>\n",
       "    <tr>\n",
       "      <th>50%</th>\n",
       "      <td>1.556505e-02</td>\n",
       "    </tr>\n",
       "    <tr>\n",
       "      <th>75%</th>\n",
       "      <td>5.007934e-01</td>\n",
       "    </tr>\n",
       "    <tr>\n",
       "      <th>max</th>\n",
       "      <td>3.134972e+00</td>\n",
       "    </tr>\n",
       "  </tbody>\n",
       "</table>\n",
       "</div>"
      ],
      "text/plain": [
       "       Inflation_SS\n",
       "count  9.400000e+01\n",
       "mean  -8.267618e-18\n",
       "std    1.005362e+00\n",
       "min   -5.615141e+00\n",
       "25%   -4.970967e-01\n",
       "50%    1.556505e-02\n",
       "75%    5.007934e-01\n",
       "max    3.134972e+00"
      ]
     },
     "execution_count": 39,
     "metadata": {},
     "output_type": "execute_result"
    }
   ],
   "source": [
    "y_test_SS.describe()"
   ]
  },
  {
   "cell_type": "markdown",
   "metadata": {},
   "source": [
    "Finally `y_tr_pred_SS`"
   ]
  },
  {
   "cell_type": "markdown",
   "metadata": {},
   "source": [
    "Now to review the results."
   ]
  },
  {
   "cell_type": "code",
   "execution_count": 40,
   "metadata": {},
   "outputs": [
    {
     "name": "stderr",
     "output_type": "stream",
     "text": [
      "C:\\Users\\rands\\anaconda3\\lib\\site-packages\\sklearn\\utils\\validation.py:67: FutureWarning: Pass fit_intercept=     Wages CPI_SS    WTI_SS  Copper_SS  Soybeans_SS  Natural Gas_SS  \\\n",
      "101     -0.272503  0.770139  -0.036749    -0.345722       -1.319337   \n",
      "193      0.081334 -0.036542   0.451293     0.090576        1.639295   \n",
      "72      -0.668041 -0.496463  -0.027826    -2.795000       -0.849965   \n",
      "298      0.427689  0.697303   0.255910     0.133888        1.354380   \n",
      "15       0.073309 -0.130975  -0.288996     0.162870        0.314771   \n",
      "..            ...       ...        ...          ...             ...   \n",
      "188     -1.469548 -1.079604  -0.300948     0.831251       -0.220838   \n",
      "71      -0.956924 -0.948540  -0.343656    -2.840279       -0.743877   \n",
      "106      0.171832 -1.022849  -0.397019    -0.081824       -0.524624   \n",
      "270      0.323446  0.420422  -0.398186     0.216809        0.137346   \n",
      "102     -0.263450  0.806356  -0.696430    -1.099487       -1.042590   \n",
      "\n",
      "     Heating Oil_SS   Corn_SS  Wheat_SS  Cattle_SS  Lean Hogs_SS  Sugar_SS  \\\n",
      "101       -0.037380 -0.285358 -0.204055   0.312957     -0.252625 -0.668891   \n",
      "193        0.380561 -0.663352 -0.617169   1.900844      1.529011  1.137352   \n",
      "72        -0.474246 -2.149208 -1.865332   1.183761     -0.549095 -0.621201   \n",
      "298        0.616009 -0.538420 -1.155926  -1.041654      0.884238  0.927774   \n",
      "15         0.046900 -0.808623  0.012178   0.252933     -1.249591 -0.089238   \n",
      "..              ...       ...       ...        ...           ...       ...   \n",
      "188       -1.698084  0.138383 -0.438905  -0.507119      1.105400 -0.928637   \n",
      "71        -0.727652 -1.715245 -1.385015   1.317749     -1.282144 -0.736669   \n",
      "106       -0.331768 -0.205891 -0.379560   0.462889     -0.113398  1.070779   \n",
      "270       -0.142536  0.748635 -0.648503  -1.275445      0.668654 -0.816981   \n",
      "102       -0.043422 -0.703350 -0.879333   0.421833     -0.497088 -0.987923   \n",
      "\n",
      "     Lumber_SS  Capacity Utilization_SS    GDP_SS  M2 Velocity_SS    PMI_SS  \\\n",
      "101   0.439447                 0.444293  0.327651        0.088048  0.104897   \n",
      "193  -0.317918                 0.248713 -0.010664       -0.085279  0.104897   \n",
      "72    0.115848                 0.171740  0.532148        0.348245  0.379995   \n",
      "298  -0.556024                 0.514892  0.385034        0.824372  0.299758   \n",
      "15    0.442115                -0.198803 -0.053374       -0.276863 -0.869410   \n",
      "..         ...                      ...       ...             ...       ...   \n",
      "188   0.199642                -0.330832  0.111295       -0.158735 -0.342138   \n",
      "71    0.147867                 0.017663 -0.253529       -0.037395  0.425845   \n",
      "106  -0.187627                 0.527156 -0.343165       -1.538314 -1.282057   \n",
      "270  -1.352514                -0.469032 -0.205734        0.114661 -2.176127   \n",
      "102  -0.062556                 0.291608  0.327651        0.088048 -0.032652   \n",
      "\n",
      "     USD Index_SS  Initial Jobless Claims_SS  Unemployment Rate_SS  \n",
      "101      0.915147                  -0.214959             -0.567053  \n",
      "193     -1.046777                  -0.107179              0.221907  \n",
      "72       0.729546                  -0.163431             -0.193335  \n",
      "298     -1.225237                  -0.096444              0.346479  \n",
      "15       0.266966                  -0.081844             -0.110287  \n",
      "..            ...                        ...                   ...  \n",
      "188     -1.308796                  -0.021728              0.304955  \n",
      "71       1.340790                  -0.139814             -0.400956  \n",
      "106      0.176567                  -0.127790             -0.110287  \n",
      "270     -1.849494                   0.037959              0.097334  \n",
      "102      1.184256                  -0.221829             -0.608577  \n",
      "\n",
      "[218 rows x 19 columns], normalize=101   -0.523\n",
      "193    0.571\n",
      "72    -0.414\n",
      "298   -0.023\n",
      "15     0.301\n",
      "       ...  \n",
      "188   -0.908\n",
      "71    -0.328\n",
      "106    0.309\n",
      "270    0.323\n",
      "102   -0.600\n",
      "Name: Inflation, Length: 218, dtype: float64 as keyword args. From version 0.25 passing these as positional arguments will result in an error\n",
      "  warnings.warn(\"Pass {} as keyword args. From version 0.25 \"\n"
     ]
    }
   ],
   "source": [
    "reg_all_SS = LinearRegression(X_train_SS,y_train)"
   ]
  },
  {
   "cell_type": "code",
   "execution_count": 41,
   "metadata": {},
   "outputs": [],
   "source": [
    "lm = LinearRegression().fit(X_train_SS, y_train)"
   ]
  },
  {
   "cell_type": "code",
   "execution_count": 42,
   "metadata": {},
   "outputs": [],
   "source": [
    "#Code task 11#\n",
    "#Call the `predict()` method of the model (`lm`) on both the (scaled) train and test data\n",
    "#Assign the predictions to `y_tr_pred` and `y_te_pred`, respectively\n",
    "y_tr_pred_SS = lm.predict(X_train_SS)\n",
    "y_te_pred_SS = lm.predict(X_test_SS)"
   ]
  },
  {
   "cell_type": "code",
   "execution_count": 43,
   "metadata": {},
   "outputs": [
    {
     "data": {
      "text/plain": [
       "(0.41854924961510787, 0.32345385108737135)"
      ]
     },
     "execution_count": 43,
     "metadata": {},
     "output_type": "execute_result"
    }
   ],
   "source": [
    "# r^2 - train, test\n",
    "median_r2 = r2_score(y_train, y_tr_pred_SS), r2_score(y_test, y_te_pred_SS)\n",
    "median_r2"
   ]
  },
  {
   "cell_type": "code",
   "execution_count": 44,
   "metadata": {},
   "outputs": [
    {
     "data": {
      "text/plain": [
       "(0.4311624920931224, 0.5327076990641564)"
      ]
     },
     "execution_count": 44,
     "metadata": {},
     "output_type": "execute_result"
    }
   ],
   "source": [
    "median_mae_SS = mean_absolute_error( y_train, y_tr_pred_SS), mean_absolute_error( y_test, y_te_pred_SS )\n",
    "median_mae_SS"
   ]
  },
  {
   "cell_type": "code",
   "execution_count": 45,
   "metadata": {},
   "outputs": [
    {
     "data": {
      "text/plain": [
       "(0.37269344445032876, 0.5177982096459479)"
      ]
     },
     "execution_count": 45,
     "metadata": {},
     "output_type": "execute_result"
    }
   ],
   "source": [
    "median_mse_SS = mean_squared_error( y_train, y_tr_pred_SS ), mean_squared_error( y_test, y_te_pred_SS )\n",
    "median_mse_SS"
   ]
  },
  {
   "cell_type": "markdown",
   "metadata": {},
   "source": [
    "The R^2 results are less than impressive ( i.e. less than a simple coin flip ) but we will proceed."
   ]
  },
  {
   "cell_type": "markdown",
   "metadata": {},
   "source": [
    "In this case, I have no missing values so no need to impute."
   ]
  },
  {
   "cell_type": "markdown",
   "metadata": {},
   "source": [
    "# 3.2 MinMaxScaler"
   ]
  },
  {
   "cell_type": "markdown",
   "metadata": {},
   "source": [
    "The scalings approach & it's estimated results we will use in this section are as follows:\n",
    "   * **MinMaxScaler ( `_MM` )** ( often called Normalization )\n",
    "      * This approach reassigns the values from 0 -> 1\n"
   ]
  },
  {
   "cell_type": "code",
   "execution_count": 46,
   "metadata": {},
   "outputs": [],
   "source": [
    "MM_scaler = MinMaxScaler()"
   ]
  },
  {
   "cell_type": "markdown",
   "metadata": {},
   "source": [
    "First `X_train_MM`"
   ]
  },
  {
   "cell_type": "code",
   "execution_count": 47,
   "metadata": {},
   "outputs": [
    {
     "data": {
      "text/plain": [
       "MinMaxScaler()"
      ]
     },
     "execution_count": 47,
     "metadata": {},
     "output_type": "execute_result"
    }
   ],
   "source": [
    "MM_scaler.fit(X_train_MM[['Wages CPI', 'WTI', 'Copper', 'Soybeans', 'Natural Gas', 'Heating Oil',\n",
    "       'Corn', 'Wheat', 'Cattle', 'Lean Hogs', 'Sugar', 'Lumber',\n",
    "       'Capacity Utilization', 'GDP', 'M2 Velocity', 'PMI', 'USD Index',\n",
    "       'Initial Jobless Claims', 'Unemployment Rate']])"
   ]
  },
  {
   "cell_type": "code",
   "execution_count": 48,
   "metadata": {},
   "outputs": [],
   "source": [
    "X_train_MM[['Wages CPI_SS', 'WTI_SS', 'Copper_SS', 'Soybeans_SS', 'Natural Gas_SS', 'Heating Oil_SS',\n",
    "       'Corn_SS', 'Wheat_SS', 'Cattle_SS', 'Lean Hogs_SS', 'Sugar_SS', 'Lumber_SS',\n",
    "       'Capacity Utilization_SS', 'GDP_SS', 'M2 Velocity_SS', 'PMI_SS', 'USD Index_SS',\n",
    "       'Initial Jobless Claims_SS', 'Unemployment Rate_SS']] = MM_scaler.transform(X_train_MM[['Wages CPI', 'WTI', 'Copper', 'Soybeans', 'Natural Gas', 'Heating Oil',\n",
    "       'Corn', 'Wheat', 'Cattle', 'Lean Hogs', 'Sugar', 'Lumber',\n",
    "       'Capacity Utilization', 'GDP', 'M2 Velocity', 'PMI', 'USD Index',\n",
    "       'Initial Jobless Claims', 'Unemployment Rate']])"
   ]
  },
  {
   "cell_type": "code",
   "execution_count": 49,
   "metadata": {},
   "outputs": [],
   "source": [
    "X_train_MM.drop(columns=prev_cols, inplace=True)"
   ]
  },
  {
   "cell_type": "code",
   "execution_count": 50,
   "metadata": {},
   "outputs": [
    {
     "data": {
      "text/html": [
       "<div>\n",
       "<style scoped>\n",
       "    .dataframe tbody tr th:only-of-type {\n",
       "        vertical-align: middle;\n",
       "    }\n",
       "\n",
       "    .dataframe tbody tr th {\n",
       "        vertical-align: top;\n",
       "    }\n",
       "\n",
       "    .dataframe thead th {\n",
       "        text-align: right;\n",
       "    }\n",
       "</style>\n",
       "<table border=\"1\" class=\"dataframe\">\n",
       "  <thead>\n",
       "    <tr style=\"text-align: right;\">\n",
       "      <th></th>\n",
       "      <th>Wages CPI_SS</th>\n",
       "      <th>WTI_SS</th>\n",
       "      <th>Copper_SS</th>\n",
       "      <th>Soybeans_SS</th>\n",
       "      <th>Natural Gas_SS</th>\n",
       "      <th>Heating Oil_SS</th>\n",
       "      <th>Corn_SS</th>\n",
       "      <th>Wheat_SS</th>\n",
       "      <th>Cattle_SS</th>\n",
       "      <th>Lean Hogs_SS</th>\n",
       "      <th>Sugar_SS</th>\n",
       "      <th>Lumber_SS</th>\n",
       "      <th>Capacity Utilization_SS</th>\n",
       "      <th>GDP_SS</th>\n",
       "      <th>M2 Velocity_SS</th>\n",
       "      <th>PMI_SS</th>\n",
       "      <th>USD Index_SS</th>\n",
       "      <th>Initial Jobless Claims_SS</th>\n",
       "      <th>Unemployment Rate_SS</th>\n",
       "    </tr>\n",
       "  </thead>\n",
       "  <tbody>\n",
       "    <tr>\n",
       "      <th>count</th>\n",
       "      <td>218.000000</td>\n",
       "      <td>218.000000</td>\n",
       "      <td>218.000000</td>\n",
       "      <td>218.000000</td>\n",
       "      <td>218.000000</td>\n",
       "      <td>218.000000</td>\n",
       "      <td>218.000000</td>\n",
       "      <td>218.000000</td>\n",
       "      <td>218.000000</td>\n",
       "      <td>218.000000</td>\n",
       "      <td>218.000000</td>\n",
       "      <td>218.000000</td>\n",
       "      <td>218.000000</td>\n",
       "      <td>218.000000</td>\n",
       "      <td>218.000000</td>\n",
       "      <td>218.000000</td>\n",
       "      <td>218.000000</td>\n",
       "      <td>218.000000</td>\n",
       "      <td>218.000000</td>\n",
       "    </tr>\n",
       "    <tr>\n",
       "      <th>mean</th>\n",
       "      <td>0.694134</td>\n",
       "      <td>0.579751</td>\n",
       "      <td>0.517310</td>\n",
       "      <td>0.538476</td>\n",
       "      <td>0.396675</td>\n",
       "      <td>0.581892</td>\n",
       "      <td>0.446314</td>\n",
       "      <td>0.335362</td>\n",
       "      <td>0.549834</td>\n",
       "      <td>0.479716</td>\n",
       "      <td>0.393421</td>\n",
       "      <td>0.325337</td>\n",
       "      <td>0.665259</td>\n",
       "      <td>0.880570</td>\n",
       "      <td>0.901399</td>\n",
       "      <td>0.481537</td>\n",
       "      <td>0.439842</td>\n",
       "      <td>0.204474</td>\n",
       "      <td>0.294290</td>\n",
       "    </tr>\n",
       "    <tr>\n",
       "      <th>std</th>\n",
       "      <td>0.099718</td>\n",
       "      <td>0.153589</td>\n",
       "      <td>0.123627</td>\n",
       "      <td>0.164539</td>\n",
       "      <td>0.201917</td>\n",
       "      <td>0.172532</td>\n",
       "      <td>0.169350</td>\n",
       "      <td>0.165197</td>\n",
       "      <td>0.185796</td>\n",
       "      <td>0.195939</td>\n",
       "      <td>0.156372</td>\n",
       "      <td>0.129265</td>\n",
       "      <td>0.086814</td>\n",
       "      <td>0.099864</td>\n",
       "      <td>0.100515</td>\n",
       "      <td>0.144772</td>\n",
       "      <td>0.210531</td>\n",
       "      <td>0.064232</td>\n",
       "      <td>0.061419</td>\n",
       "    </tr>\n",
       "    <tr>\n",
       "      <th>min</th>\n",
       "      <td>0.000000</td>\n",
       "      <td>0.000000</td>\n",
       "      <td>0.000000</td>\n",
       "      <td>0.000000</td>\n",
       "      <td>0.000000</td>\n",
       "      <td>0.000000</td>\n",
       "      <td>0.000000</td>\n",
       "      <td>0.000000</td>\n",
       "      <td>0.000000</td>\n",
       "      <td>0.000000</td>\n",
       "      <td>0.000000</td>\n",
       "      <td>0.000000</td>\n",
       "      <td>0.000000</td>\n",
       "      <td>0.000000</td>\n",
       "      <td>0.000000</td>\n",
       "      <td>0.000000</td>\n",
       "      <td>0.000000</td>\n",
       "      <td>0.000000</td>\n",
       "      <td>0.000000</td>\n",
       "    </tr>\n",
       "    <tr>\n",
       "      <th>25%</th>\n",
       "      <td>0.667559</td>\n",
       "      <td>0.492937</td>\n",
       "      <td>0.444239</td>\n",
       "      <td>0.455334</td>\n",
       "      <td>0.261206</td>\n",
       "      <td>0.488547</td>\n",
       "      <td>0.340384</td>\n",
       "      <td>0.224550</td>\n",
       "      <td>0.430120</td>\n",
       "      <td>0.358486</td>\n",
       "      <td>0.284566</td>\n",
       "      <td>0.235953</td>\n",
       "      <td>0.645221</td>\n",
       "      <td>0.866478</td>\n",
       "      <td>0.891685</td>\n",
       "      <td>0.397351</td>\n",
       "      <td>0.272979</td>\n",
       "      <td>0.196285</td>\n",
       "      <td>0.279898</td>\n",
       "    </tr>\n",
       "    <tr>\n",
       "      <th>50%</th>\n",
       "      <td>0.705608</td>\n",
       "      <td>0.573683</td>\n",
       "      <td>0.505297</td>\n",
       "      <td>0.529197</td>\n",
       "      <td>0.364864</td>\n",
       "      <td>0.574937</td>\n",
       "      <td>0.436468</td>\n",
       "      <td>0.327345</td>\n",
       "      <td>0.563600</td>\n",
       "      <td>0.470908</td>\n",
       "      <td>0.360948</td>\n",
       "      <td>0.320580</td>\n",
       "      <td>0.678057</td>\n",
       "      <td>0.893029</td>\n",
       "      <td>0.910229</td>\n",
       "      <td>0.479305</td>\n",
       "      <td>0.447251</td>\n",
       "      <td>0.198844</td>\n",
       "      <td>0.287532</td>\n",
       "    </tr>\n",
       "    <tr>\n",
       "      <th>75%</th>\n",
       "      <td>0.736719</td>\n",
       "      <td>0.682071</td>\n",
       "      <td>0.583506</td>\n",
       "      <td>0.625757</td>\n",
       "      <td>0.509995</td>\n",
       "      <td>0.691239</td>\n",
       "      <td>0.534231</td>\n",
       "      <td>0.433499</td>\n",
       "      <td>0.685891</td>\n",
       "      <td>0.621831</td>\n",
       "      <td>0.478981</td>\n",
       "      <td>0.404472</td>\n",
       "      <td>0.703004</td>\n",
       "      <td>0.920504</td>\n",
       "      <td>0.939016</td>\n",
       "      <td>0.562086</td>\n",
       "      <td>0.571801</td>\n",
       "      <td>0.201417</td>\n",
       "      <td>0.297710</td>\n",
       "    </tr>\n",
       "    <tr>\n",
       "      <th>max</th>\n",
       "      <td>1.000000</td>\n",
       "      <td>1.000000</td>\n",
       "      <td>1.000000</td>\n",
       "      <td>1.000000</td>\n",
       "      <td>1.000000</td>\n",
       "      <td>1.000000</td>\n",
       "      <td>1.000000</td>\n",
       "      <td>1.000000</td>\n",
       "      <td>1.000000</td>\n",
       "      <td>1.000000</td>\n",
       "      <td>1.000000</td>\n",
       "      <td>1.000000</td>\n",
       "      <td>1.000000</td>\n",
       "      <td>1.000000</td>\n",
       "      <td>1.000000</td>\n",
       "      <td>1.000000</td>\n",
       "      <td>1.000000</td>\n",
       "      <td>1.000000</td>\n",
       "      <td>1.000000</td>\n",
       "    </tr>\n",
       "  </tbody>\n",
       "</table>\n",
       "</div>"
      ],
      "text/plain": [
       "       Wages CPI_SS      WTI_SS   Copper_SS  Soybeans_SS  Natural Gas_SS  \\\n",
       "count    218.000000  218.000000  218.000000   218.000000      218.000000   \n",
       "mean       0.694134    0.579751    0.517310     0.538476        0.396675   \n",
       "std        0.099718    0.153589    0.123627     0.164539        0.201917   \n",
       "min        0.000000    0.000000    0.000000     0.000000        0.000000   \n",
       "25%        0.667559    0.492937    0.444239     0.455334        0.261206   \n",
       "50%        0.705608    0.573683    0.505297     0.529197        0.364864   \n",
       "75%        0.736719    0.682071    0.583506     0.625757        0.509995   \n",
       "max        1.000000    1.000000    1.000000     1.000000        1.000000   \n",
       "\n",
       "       Heating Oil_SS     Corn_SS    Wheat_SS   Cattle_SS  Lean Hogs_SS  \\\n",
       "count      218.000000  218.000000  218.000000  218.000000    218.000000   \n",
       "mean         0.581892    0.446314    0.335362    0.549834      0.479716   \n",
       "std          0.172532    0.169350    0.165197    0.185796      0.195939   \n",
       "min          0.000000    0.000000    0.000000    0.000000      0.000000   \n",
       "25%          0.488547    0.340384    0.224550    0.430120      0.358486   \n",
       "50%          0.574937    0.436468    0.327345    0.563600      0.470908   \n",
       "75%          0.691239    0.534231    0.433499    0.685891      0.621831   \n",
       "max          1.000000    1.000000    1.000000    1.000000      1.000000   \n",
       "\n",
       "         Sugar_SS   Lumber_SS  Capacity Utilization_SS      GDP_SS  \\\n",
       "count  218.000000  218.000000               218.000000  218.000000   \n",
       "mean     0.393421    0.325337                 0.665259    0.880570   \n",
       "std      0.156372    0.129265                 0.086814    0.099864   \n",
       "min      0.000000    0.000000                 0.000000    0.000000   \n",
       "25%      0.284566    0.235953                 0.645221    0.866478   \n",
       "50%      0.360948    0.320580                 0.678057    0.893029   \n",
       "75%      0.478981    0.404472                 0.703004    0.920504   \n",
       "max      1.000000    1.000000                 1.000000    1.000000   \n",
       "\n",
       "       M2 Velocity_SS      PMI_SS  USD Index_SS  Initial Jobless Claims_SS  \\\n",
       "count      218.000000  218.000000    218.000000                 218.000000   \n",
       "mean         0.901399    0.481537      0.439842                   0.204474   \n",
       "std          0.100515    0.144772      0.210531                   0.064232   \n",
       "min          0.000000    0.000000      0.000000                   0.000000   \n",
       "25%          0.891685    0.397351      0.272979                   0.196285   \n",
       "50%          0.910229    0.479305      0.447251                   0.198844   \n",
       "75%          0.939016    0.562086      0.571801                   0.201417   \n",
       "max          1.000000    1.000000      1.000000                   1.000000   \n",
       "\n",
       "       Unemployment Rate_SS  \n",
       "count            218.000000  \n",
       "mean               0.294290  \n",
       "std                0.061419  \n",
       "min                0.000000  \n",
       "25%                0.279898  \n",
       "50%                0.287532  \n",
       "75%                0.297710  \n",
       "max                1.000000  "
      ]
     },
     "execution_count": 50,
     "metadata": {},
     "output_type": "execute_result"
    }
   ],
   "source": [
    "X_train_MM.describe()"
   ]
  },
  {
   "cell_type": "markdown",
   "metadata": {},
   "source": [
    "The `Maximum` & `Minimum` are **1 & 0 respectively; it appears to be realigning according to the MinMaxScaler appropriately**"
   ]
  },
  {
   "cell_type": "markdown",
   "metadata": {},
   "source": [
    "Next `X_test_MM`"
   ]
  },
  {
   "cell_type": "code",
   "execution_count": 51,
   "metadata": {},
   "outputs": [
    {
     "data": {
      "text/plain": [
       "MinMaxScaler()"
      ]
     },
     "execution_count": 51,
     "metadata": {},
     "output_type": "execute_result"
    }
   ],
   "source": [
    "MM_scaler.fit(X_test_MM[['Wages CPI', 'WTI', 'Copper', 'Soybeans', 'Natural Gas', 'Heating Oil',\n",
    "       'Corn', 'Wheat', 'Cattle', 'Lean Hogs', 'Sugar', 'Lumber',\n",
    "       'Capacity Utilization', 'GDP', 'M2 Velocity', 'PMI', 'USD Index',\n",
    "       'Initial Jobless Claims', 'Unemployment Rate']])"
   ]
  },
  {
   "cell_type": "code",
   "execution_count": 52,
   "metadata": {},
   "outputs": [],
   "source": [
    "X_test_MM[['Wages CPI_SS', 'WTI_SS', 'Copper_SS', 'Soybeans_SS', 'Natural Gas_SS', 'Heating Oil_SS',\n",
    "       'Corn_SS', 'Wheat_SS', 'Cattle_SS', 'Lean Hogs_SS', 'Sugar_SS', 'Lumber_SS',\n",
    "       'Capacity Utilization_SS', 'GDP_SS', 'M2 Velocity_SS', 'PMI_SS', 'USD Index_SS',\n",
    "       'Initial Jobless Claims_SS', 'Unemployment Rate_SS']] = MM_scaler.transform(X_test_MM[['Wages CPI', 'WTI', 'Copper', 'Soybeans', 'Natural Gas', 'Heating Oil',\n",
    "       'Corn', 'Wheat', 'Cattle', 'Lean Hogs', 'Sugar', 'Lumber',\n",
    "       'Capacity Utilization', 'GDP', 'M2 Velocity', 'PMI', 'USD Index',\n",
    "       'Initial Jobless Claims', 'Unemployment Rate']])"
   ]
  },
  {
   "cell_type": "code",
   "execution_count": 53,
   "metadata": {},
   "outputs": [],
   "source": [
    "X_test_MM.drop(columns=prev_cols, inplace=True)"
   ]
  },
  {
   "cell_type": "code",
   "execution_count": 54,
   "metadata": {},
   "outputs": [
    {
     "data": {
      "text/html": [
       "<div>\n",
       "<style scoped>\n",
       "    .dataframe tbody tr th:only-of-type {\n",
       "        vertical-align: middle;\n",
       "    }\n",
       "\n",
       "    .dataframe tbody tr th {\n",
       "        vertical-align: top;\n",
       "    }\n",
       "\n",
       "    .dataframe thead th {\n",
       "        text-align: right;\n",
       "    }\n",
       "</style>\n",
       "<table border=\"1\" class=\"dataframe\">\n",
       "  <thead>\n",
       "    <tr style=\"text-align: right;\">\n",
       "      <th></th>\n",
       "      <th>Wages CPI_SS</th>\n",
       "      <th>WTI_SS</th>\n",
       "      <th>Copper_SS</th>\n",
       "      <th>Soybeans_SS</th>\n",
       "      <th>Natural Gas_SS</th>\n",
       "      <th>Heating Oil_SS</th>\n",
       "      <th>Corn_SS</th>\n",
       "      <th>Wheat_SS</th>\n",
       "      <th>Cattle_SS</th>\n",
       "      <th>Lean Hogs_SS</th>\n",
       "      <th>Sugar_SS</th>\n",
       "      <th>Lumber_SS</th>\n",
       "      <th>Capacity Utilization_SS</th>\n",
       "      <th>GDP_SS</th>\n",
       "      <th>M2 Velocity_SS</th>\n",
       "      <th>PMI_SS</th>\n",
       "      <th>USD Index_SS</th>\n",
       "      <th>Initial Jobless Claims_SS</th>\n",
       "      <th>Unemployment Rate_SS</th>\n",
       "    </tr>\n",
       "  </thead>\n",
       "  <tbody>\n",
       "    <tr>\n",
       "      <th>count</th>\n",
       "      <td>94.000000</td>\n",
       "      <td>94.000000</td>\n",
       "      <td>94.000000</td>\n",
       "      <td>94.000000</td>\n",
       "      <td>94.000000</td>\n",
       "      <td>94.000000</td>\n",
       "      <td>94.000000</td>\n",
       "      <td>94.000000</td>\n",
       "      <td>94.000000</td>\n",
       "      <td>94.000000</td>\n",
       "      <td>94.000000</td>\n",
       "      <td>94.000000</td>\n",
       "      <td>94.000000</td>\n",
       "      <td>94.000000</td>\n",
       "      <td>94.000000</td>\n",
       "      <td>94.000000</td>\n",
       "      <td>94.000000</td>\n",
       "      <td>94.000000</td>\n",
       "      <td>94.000000</td>\n",
       "    </tr>\n",
       "    <tr>\n",
       "      <th>mean</th>\n",
       "      <td>0.764249</td>\n",
       "      <td>0.485789</td>\n",
       "      <td>0.586517</td>\n",
       "      <td>0.569137</td>\n",
       "      <td>0.448632</td>\n",
       "      <td>0.636256</td>\n",
       "      <td>0.462727</td>\n",
       "      <td>0.440227</td>\n",
       "      <td>0.640257</td>\n",
       "      <td>0.463065</td>\n",
       "      <td>0.377655</td>\n",
       "      <td>0.272522</td>\n",
       "      <td>0.564163</td>\n",
       "      <td>0.593044</td>\n",
       "      <td>0.811955</td>\n",
       "      <td>0.545519</td>\n",
       "      <td>0.383564</td>\n",
       "      <td>0.415461</td>\n",
       "      <td>0.366239</td>\n",
       "    </tr>\n",
       "    <tr>\n",
       "      <th>std</th>\n",
       "      <td>0.128444</td>\n",
       "      <td>0.146244</td>\n",
       "      <td>0.140130</td>\n",
       "      <td>0.173703</td>\n",
       "      <td>0.209782</td>\n",
       "      <td>0.184222</td>\n",
       "      <td>0.158147</td>\n",
       "      <td>0.155832</td>\n",
       "      <td>0.201739</td>\n",
       "      <td>0.233535</td>\n",
       "      <td>0.182590</td>\n",
       "      <td>0.162471</td>\n",
       "      <td>0.093618</td>\n",
       "      <td>0.101078</td>\n",
       "      <td>0.099888</td>\n",
       "      <td>0.144108</td>\n",
       "      <td>0.183206</td>\n",
       "      <td>0.080695</td>\n",
       "      <td>0.089881</td>\n",
       "    </tr>\n",
       "    <tr>\n",
       "      <th>min</th>\n",
       "      <td>0.000000</td>\n",
       "      <td>0.000000</td>\n",
       "      <td>0.000000</td>\n",
       "      <td>0.000000</td>\n",
       "      <td>0.000000</td>\n",
       "      <td>0.000000</td>\n",
       "      <td>0.000000</td>\n",
       "      <td>0.000000</td>\n",
       "      <td>0.000000</td>\n",
       "      <td>0.000000</td>\n",
       "      <td>0.000000</td>\n",
       "      <td>0.000000</td>\n",
       "      <td>0.000000</td>\n",
       "      <td>0.000000</td>\n",
       "      <td>0.000000</td>\n",
       "      <td>0.000000</td>\n",
       "      <td>0.000000</td>\n",
       "      <td>0.000000</td>\n",
       "      <td>0.000000</td>\n",
       "    </tr>\n",
       "    <tr>\n",
       "      <th>25%</th>\n",
       "      <td>0.720221</td>\n",
       "      <td>0.422502</td>\n",
       "      <td>0.509709</td>\n",
       "      <td>0.463504</td>\n",
       "      <td>0.323043</td>\n",
       "      <td>0.554880</td>\n",
       "      <td>0.376488</td>\n",
       "      <td>0.338498</td>\n",
       "      <td>0.496629</td>\n",
       "      <td>0.281153</td>\n",
       "      <td>0.266405</td>\n",
       "      <td>0.174782</td>\n",
       "      <td>0.544500</td>\n",
       "      <td>0.570734</td>\n",
       "      <td>0.791642</td>\n",
       "      <td>0.450787</td>\n",
       "      <td>0.272547</td>\n",
       "      <td>0.417531</td>\n",
       "      <td>0.351585</td>\n",
       "    </tr>\n",
       "    <tr>\n",
       "      <th>50%</th>\n",
       "      <td>0.791061</td>\n",
       "      <td>0.502673</td>\n",
       "      <td>0.565671</td>\n",
       "      <td>0.549194</td>\n",
       "      <td>0.432017</td>\n",
       "      <td>0.659235</td>\n",
       "      <td>0.446268</td>\n",
       "      <td>0.412963</td>\n",
       "      <td>0.658467</td>\n",
       "      <td>0.438592</td>\n",
       "      <td>0.343723</td>\n",
       "      <td>0.241490</td>\n",
       "      <td>0.570453</td>\n",
       "      <td>0.589958</td>\n",
       "      <td>0.816930</td>\n",
       "      <td>0.525984</td>\n",
       "      <td>0.371371</td>\n",
       "      <td>0.418609</td>\n",
       "      <td>0.360231</td>\n",
       "    </tr>\n",
       "    <tr>\n",
       "      <th>75%</th>\n",
       "      <td>0.827197</td>\n",
       "      <td>0.559360</td>\n",
       "      <td>0.666665</td>\n",
       "      <td>0.666229</td>\n",
       "      <td>0.596986</td>\n",
       "      <td>0.762352</td>\n",
       "      <td>0.546416</td>\n",
       "      <td>0.516540</td>\n",
       "      <td>0.801623</td>\n",
       "      <td>0.621741</td>\n",
       "      <td>0.474295</td>\n",
       "      <td>0.340812</td>\n",
       "      <td>0.589646</td>\n",
       "      <td>0.604162</td>\n",
       "      <td>0.849436</td>\n",
       "      <td>0.616929</td>\n",
       "      <td>0.488046</td>\n",
       "      <td>0.420039</td>\n",
       "      <td>0.371758</td>\n",
       "    </tr>\n",
       "    <tr>\n",
       "      <th>max</th>\n",
       "      <td>1.000000</td>\n",
       "      <td>1.000000</td>\n",
       "      <td>1.000000</td>\n",
       "      <td>1.000000</td>\n",
       "      <td>1.000000</td>\n",
       "      <td>1.000000</td>\n",
       "      <td>1.000000</td>\n",
       "      <td>1.000000</td>\n",
       "      <td>1.000000</td>\n",
       "      <td>1.000000</td>\n",
       "      <td>1.000000</td>\n",
       "      <td>1.000000</td>\n",
       "      <td>1.000000</td>\n",
       "      <td>1.000000</td>\n",
       "      <td>1.000000</td>\n",
       "      <td>1.000000</td>\n",
       "      <td>1.000000</td>\n",
       "      <td>1.000000</td>\n",
       "      <td>1.000000</td>\n",
       "    </tr>\n",
       "  </tbody>\n",
       "</table>\n",
       "</div>"
      ],
      "text/plain": [
       "       Wages CPI_SS     WTI_SS  Copper_SS  Soybeans_SS  Natural Gas_SS  \\\n",
       "count     94.000000  94.000000  94.000000    94.000000       94.000000   \n",
       "mean       0.764249   0.485789   0.586517     0.569137        0.448632   \n",
       "std        0.128444   0.146244   0.140130     0.173703        0.209782   \n",
       "min        0.000000   0.000000   0.000000     0.000000        0.000000   \n",
       "25%        0.720221   0.422502   0.509709     0.463504        0.323043   \n",
       "50%        0.791061   0.502673   0.565671     0.549194        0.432017   \n",
       "75%        0.827197   0.559360   0.666665     0.666229        0.596986   \n",
       "max        1.000000   1.000000   1.000000     1.000000        1.000000   \n",
       "\n",
       "       Heating Oil_SS    Corn_SS   Wheat_SS  Cattle_SS  Lean Hogs_SS  \\\n",
       "count       94.000000  94.000000  94.000000  94.000000     94.000000   \n",
       "mean         0.636256   0.462727   0.440227   0.640257      0.463065   \n",
       "std          0.184222   0.158147   0.155832   0.201739      0.233535   \n",
       "min          0.000000   0.000000   0.000000   0.000000      0.000000   \n",
       "25%          0.554880   0.376488   0.338498   0.496629      0.281153   \n",
       "50%          0.659235   0.446268   0.412963   0.658467      0.438592   \n",
       "75%          0.762352   0.546416   0.516540   0.801623      0.621741   \n",
       "max          1.000000   1.000000   1.000000   1.000000      1.000000   \n",
       "\n",
       "        Sugar_SS  Lumber_SS  Capacity Utilization_SS     GDP_SS  \\\n",
       "count  94.000000  94.000000                94.000000  94.000000   \n",
       "mean    0.377655   0.272522                 0.564163   0.593044   \n",
       "std     0.182590   0.162471                 0.093618   0.101078   \n",
       "min     0.000000   0.000000                 0.000000   0.000000   \n",
       "25%     0.266405   0.174782                 0.544500   0.570734   \n",
       "50%     0.343723   0.241490                 0.570453   0.589958   \n",
       "75%     0.474295   0.340812                 0.589646   0.604162   \n",
       "max     1.000000   1.000000                 1.000000   1.000000   \n",
       "\n",
       "       M2 Velocity_SS     PMI_SS  USD Index_SS  Initial Jobless Claims_SS  \\\n",
       "count       94.000000  94.000000     94.000000                  94.000000   \n",
       "mean         0.811955   0.545519      0.383564                   0.415461   \n",
       "std          0.099888   0.144108      0.183206                   0.080695   \n",
       "min          0.000000   0.000000      0.000000                   0.000000   \n",
       "25%          0.791642   0.450787      0.272547                   0.417531   \n",
       "50%          0.816930   0.525984      0.371371                   0.418609   \n",
       "75%          0.849436   0.616929      0.488046                   0.420039   \n",
       "max          1.000000   1.000000      1.000000                   1.000000   \n",
       "\n",
       "       Unemployment Rate_SS  \n",
       "count             94.000000  \n",
       "mean               0.366239  \n",
       "std                0.089881  \n",
       "min                0.000000  \n",
       "25%                0.351585  \n",
       "50%                0.360231  \n",
       "75%                0.371758  \n",
       "max                1.000000  "
      ]
     },
     "execution_count": 54,
     "metadata": {},
     "output_type": "execute_result"
    }
   ],
   "source": [
    "X_test_MM.describe()"
   ]
  },
  {
   "cell_type": "markdown",
   "metadata": {},
   "source": [
    "Next `y_train_MM`"
   ]
  },
  {
   "cell_type": "code",
   "execution_count": 55,
   "metadata": {},
   "outputs": [
    {
     "data": {
      "text/plain": [
       "MinMaxScaler()"
      ]
     },
     "execution_count": 55,
     "metadata": {},
     "output_type": "execute_result"
    }
   ],
   "source": [
    "MM_scaler.fit(y_train_MM[['Inflation']])"
   ]
  },
  {
   "cell_type": "code",
   "execution_count": 56,
   "metadata": {},
   "outputs": [],
   "source": [
    "y_train_MM['Inflation_MM'] = MM_scaler.transform(y_train_MM[['Inflation']])\n",
    "y_train_MM.drop(columns='Inflation', inplace=True)"
   ]
  },
  {
   "cell_type": "code",
   "execution_count": 57,
   "metadata": {},
   "outputs": [
    {
     "data": {
      "text/html": [
       "<div>\n",
       "<style scoped>\n",
       "    .dataframe tbody tr th:only-of-type {\n",
       "        vertical-align: middle;\n",
       "    }\n",
       "\n",
       "    .dataframe tbody tr th {\n",
       "        vertical-align: top;\n",
       "    }\n",
       "\n",
       "    .dataframe thead th {\n",
       "        text-align: right;\n",
       "    }\n",
       "</style>\n",
       "<table border=\"1\" class=\"dataframe\">\n",
       "  <thead>\n",
       "    <tr style=\"text-align: right;\">\n",
       "      <th></th>\n",
       "      <th>Inflation_MM</th>\n",
       "    </tr>\n",
       "  </thead>\n",
       "  <tbody>\n",
       "    <tr>\n",
       "      <th>count</th>\n",
       "      <td>218.000000</td>\n",
       "    </tr>\n",
       "    <tr>\n",
       "      <th>mean</th>\n",
       "      <td>0.465447</td>\n",
       "    </tr>\n",
       "    <tr>\n",
       "      <th>std</th>\n",
       "      <td>0.105143</td>\n",
       "    </tr>\n",
       "    <tr>\n",
       "      <th>min</th>\n",
       "      <td>0.000000</td>\n",
       "    </tr>\n",
       "    <tr>\n",
       "      <th>25%</th>\n",
       "      <td>0.421515</td>\n",
       "    </tr>\n",
       "    <tr>\n",
       "      <th>50%</th>\n",
       "      <td>0.464099</td>\n",
       "    </tr>\n",
       "    <tr>\n",
       "      <th>75%</th>\n",
       "      <td>0.511923</td>\n",
       "    </tr>\n",
       "    <tr>\n",
       "      <th>max</th>\n",
       "      <td>1.000000</td>\n",
       "    </tr>\n",
       "  </tbody>\n",
       "</table>\n",
       "</div>"
      ],
      "text/plain": [
       "       Inflation_MM\n",
       "count    218.000000\n",
       "mean       0.465447\n",
       "std        0.105143\n",
       "min        0.000000\n",
       "25%        0.421515\n",
       "50%        0.464099\n",
       "75%        0.511923\n",
       "max        1.000000"
      ]
     },
     "execution_count": 57,
     "metadata": {},
     "output_type": "execute_result"
    }
   ],
   "source": [
    "y_train_MM.describe()"
   ]
  },
  {
   "cell_type": "markdown",
   "metadata": {},
   "source": [
    "Next `y_test_MM`"
   ]
  },
  {
   "cell_type": "code",
   "execution_count": 58,
   "metadata": {},
   "outputs": [],
   "source": [
    "MM_scaler.fit(y_test_MM[['Inflation']])\n",
    "y_test_MM['Inflation_MM'] = MM_scaler.transform(y_test_MM[['Inflation']])\n",
    "y_test_MM.drop(columns='Inflation', inplace=True)"
   ]
  },
  {
   "cell_type": "code",
   "execution_count": 59,
   "metadata": {},
   "outputs": [
    {
     "data": {
      "text/html": [
       "<div>\n",
       "<style scoped>\n",
       "    .dataframe tbody tr th:only-of-type {\n",
       "        vertical-align: middle;\n",
       "    }\n",
       "\n",
       "    .dataframe tbody tr th {\n",
       "        vertical-align: top;\n",
       "    }\n",
       "\n",
       "    .dataframe thead th {\n",
       "        text-align: right;\n",
       "    }\n",
       "</style>\n",
       "<table border=\"1\" class=\"dataframe\">\n",
       "  <thead>\n",
       "    <tr style=\"text-align: right;\">\n",
       "      <th></th>\n",
       "      <th>Inflation_MM</th>\n",
       "    </tr>\n",
       "  </thead>\n",
       "  <tbody>\n",
       "    <tr>\n",
       "      <th>count</th>\n",
       "      <td>94.000000</td>\n",
       "    </tr>\n",
       "    <tr>\n",
       "      <th>mean</th>\n",
       "      <td>0.641722</td>\n",
       "    </tr>\n",
       "    <tr>\n",
       "      <th>std</th>\n",
       "      <td>0.114897</td>\n",
       "    </tr>\n",
       "    <tr>\n",
       "      <th>min</th>\n",
       "      <td>0.000000</td>\n",
       "    </tr>\n",
       "    <tr>\n",
       "      <th>25%</th>\n",
       "      <td>0.584912</td>\n",
       "    </tr>\n",
       "    <tr>\n",
       "      <th>50%</th>\n",
       "      <td>0.643501</td>\n",
       "    </tr>\n",
       "    <tr>\n",
       "      <th>75%</th>\n",
       "      <td>0.698955</td>\n",
       "    </tr>\n",
       "    <tr>\n",
       "      <th>max</th>\n",
       "      <td>1.000000</td>\n",
       "    </tr>\n",
       "  </tbody>\n",
       "</table>\n",
       "</div>"
      ],
      "text/plain": [
       "       Inflation_MM\n",
       "count     94.000000\n",
       "mean       0.641722\n",
       "std        0.114897\n",
       "min        0.000000\n",
       "25%        0.584912\n",
       "50%        0.643501\n",
       "75%        0.698955\n",
       "max        1.000000"
      ]
     },
     "execution_count": 59,
     "metadata": {},
     "output_type": "execute_result"
    }
   ],
   "source": [
    "y_test_MM.describe()"
   ]
  },
  {
   "cell_type": "code",
   "execution_count": 60,
   "metadata": {},
   "outputs": [
    {
     "name": "stderr",
     "output_type": "stream",
     "text": [
      "C:\\Users\\rands\\anaconda3\\lib\\site-packages\\sklearn\\utils\\validation.py:67: FutureWarning: Pass fit_intercept=     Wages CPI_SS    WTI_SS  Copper_SS  Soybeans_SS  Natural Gas_SS  \\\n",
      "101      0.667023  0.697764   0.512777     0.481722        0.130890   \n",
      "193      0.702226  0.574152   0.572973     0.553345        0.726915   \n",
      "72       0.627672  0.503675   0.513877     0.079645        0.225447   \n",
      "298      0.736685  0.686603   0.548874     0.560455        0.669518   \n",
      "15       0.701428  0.559681   0.481664     0.565213        0.460086   \n",
      "..            ...       ...        ...          ...             ...   \n",
      "188      0.547931  0.414317   0.480190     0.674936        0.352186   \n",
      "71       0.598931  0.434401   0.474922     0.072212        0.246818   \n",
      "106      0.711230  0.423014   0.468340     0.525044        0.290988   \n",
      "270      0.726314  0.644175   0.468196     0.574068        0.424343   \n",
      "102      0.667924  0.703314   0.431410     0.357983        0.186642   \n",
      "\n",
      "     Heating Oil_SS   Corn_SS  Wheat_SS  Cattle_SS  Lean Hogs_SS  Sugar_SS  \\\n",
      "101        0.575457  0.398099  0.301730   0.607847      0.430331  0.289065   \n",
      "193        0.647400  0.334233  0.233641   0.902193      0.778621  0.570863   \n",
      "72         0.500257  0.083181  0.027922   0.769267      0.372374  0.296505   \n",
      "298        0.687929  0.355342  0.144845   0.356743      0.652575  0.538166   \n",
      "15         0.589965  0.309688  0.337369   0.596720      0.235435  0.379498   \n",
      "..              ...       ...       ...        ...           ...       ...   \n",
      "188        0.289590  0.469695  0.263023   0.455829      0.695810  0.248541   \n",
      "71         0.456637  0.156504  0.107087   0.794105      0.229072  0.278491   \n",
      "106        0.524783  0.411526  0.272804   0.635639      0.457548  0.560476   \n",
      "270        0.557356  0.572804  0.228477   0.313405      0.610431  0.265961   \n",
      "102        0.574418  0.327475  0.190432   0.628029      0.382541  0.239292   \n",
      "\n",
      "     Lumber_SS  Capacity Utilization_SS    GDP_SS  M2 Velocity_SS    PMI_SS  \\\n",
      "101   0.382012                 0.703741  0.913216        0.910229  0.496689   \n",
      "193   0.284336                 0.686801  0.879508        0.892847  0.496689   \n",
      "72    0.340278                 0.680134  0.933591        0.936323  0.536424   \n",
      "298   0.253628                 0.709856  0.918933        0.984071  0.524834   \n",
      "15    0.382356                 0.648040  0.875252        0.873635  0.355960   \n",
      "..         ...                      ...       ...             ...       ...   \n",
      "188   0.351085                 0.636604  0.891659        0.885481  0.432119   \n",
      "71    0.344408                 0.666789  0.855310        0.897649  0.543046   \n",
      "106   0.301139                 0.710919  0.846379        0.747131  0.296358   \n",
      "270   0.150905                 0.624634  0.860072        0.912898  0.167219   \n",
      "102   0.317269                 0.690517  0.913216        0.910229  0.476821   \n",
      "\n",
      "     USD Index_SS  Initial Jobless Claims_SS  Unemployment Rate_SS  \n",
      "101      0.632066                   0.190699              0.259542  \n",
      "193      0.219969                   0.197606              0.307888  \n",
      "72       0.593081                   0.194001              0.282443  \n",
      "298      0.182484                   0.198294              0.315522  \n",
      "15       0.495917                   0.199229              0.287532  \n",
      "..            ...                        ...                   ...  \n",
      "188      0.164933                   0.203082              0.312977  \n",
      "71       0.721471                   0.195515              0.269720  \n",
      "106      0.476929                   0.196285              0.287532  \n",
      "270      0.051360                   0.206907              0.300254  \n",
      "102      0.688591                   0.190259              0.256997  \n",
      "\n",
      "[218 rows x 19 columns], normalize=101   -0.523\n",
      "193    0.571\n",
      "72    -0.414\n",
      "298   -0.023\n",
      "15     0.301\n",
      "       ...  \n",
      "188   -0.908\n",
      "71    -0.328\n",
      "106    0.309\n",
      "270    0.323\n",
      "102   -0.600\n",
      "Name: Inflation, Length: 218, dtype: float64 as keyword args. From version 0.25 passing these as positional arguments will result in an error\n",
      "  warnings.warn(\"Pass {} as keyword args. From version 0.25 \"\n"
     ]
    }
   ],
   "source": [
    "reg_all_MM = LinearRegression(X_train_MM,y_train)"
   ]
  },
  {
   "cell_type": "code",
   "execution_count": 61,
   "metadata": {},
   "outputs": [],
   "source": [
    "lm_MM = LinearRegression().fit(X_train_MM, y_train)"
   ]
  },
  {
   "cell_type": "code",
   "execution_count": 62,
   "metadata": {},
   "outputs": [],
   "source": [
    "y_tr_pred_MM = lm.predict(X_train_MM)\n",
    "y_te_pred_MM = lm.predict(X_test_MM)"
   ]
  },
  {
   "cell_type": "code",
   "execution_count": 63,
   "metadata": {},
   "outputs": [
    {
     "data": {
      "text/plain": [
       "(-0.2443881036729123, 0.002358370506340801)"
      ]
     },
     "execution_count": 63,
     "metadata": {},
     "output_type": "execute_result"
    }
   ],
   "source": [
    "median_r2_MM = r2_score(y_train, y_tr_pred_MM), r2_score(y_test, y_te_pred_MM)\n",
    "median_r2_MM"
   ]
  },
  {
   "cell_type": "code",
   "execution_count": 64,
   "metadata": {},
   "outputs": [
    {
     "data": {
      "text/plain": [
       "(0.6711449575224696, 0.5870063084687418)"
      ]
     },
     "execution_count": 64,
     "metadata": {},
     "output_type": "execute_result"
    }
   ],
   "source": [
    "median_mae_MM = mean_absolute_error( y_train, y_tr_pred_MM), mean_absolute_error( y_test, y_te_pred_MM )\n",
    "median_mae_MM"
   ]
  },
  {
   "cell_type": "code",
   "execution_count": 65,
   "metadata": {},
   "outputs": [
    {
     "data": {
      "text/plain": [
       "(0.7976174908775572, 0.7635503512219317)"
      ]
     },
     "execution_count": 65,
     "metadata": {},
     "output_type": "execute_result"
    }
   ],
   "source": [
    "median_mse_MM = mean_squared_error( y_train, y_tr_pred_MM ), mean_squared_error( y_test, y_te_pred_MM )\n",
    "median_mse_MM"
   ]
  },
  {
   "cell_type": "markdown",
   "metadata": {},
   "source": [
    "This scaling approach conveys that it is not appropriate for this data set."
   ]
  },
  {
   "cell_type": "markdown",
   "metadata": {},
   "source": [
    "# 3.3 Log Transform"
   ]
  },
  {
   "cell_type": "markdown",
   "metadata": {},
   "source": [
    "The scalings approach & it's estimated results we will use in this section are as follows:\n",
    "   * **Log Transformation ( `_Log` )**\n",
    "      * This approach usually is used with data that has long tails"
   ]
  },
  {
   "cell_type": "code",
   "execution_count": 66,
   "metadata": {},
   "outputs": [],
   "source": [
    "LG_scaler = PowerTransformer()"
   ]
  },
  {
   "cell_type": "markdown",
   "metadata": {},
   "source": [
    "First `X_train_LG`"
   ]
  },
  {
   "cell_type": "code",
   "execution_count": 67,
   "metadata": {},
   "outputs": [
    {
     "data": {
      "text/plain": [
       "PowerTransformer()"
      ]
     },
     "execution_count": 67,
     "metadata": {},
     "output_type": "execute_result"
    }
   ],
   "source": [
    "LG_scaler.fit(X_train_LG[['Wages CPI', 'WTI', 'Copper', 'Soybeans', 'Natural Gas', 'Heating Oil',\n",
    "       'Corn', 'Wheat', 'Cattle', 'Lean Hogs', 'Sugar', 'Lumber',\n",
    "       'Capacity Utilization', 'GDP', 'M2 Velocity', 'PMI', 'PMI',\n",
    "       'Initial Jobless Claims', 'Unemployment Rate']])"
   ]
  },
  {
   "cell_type": "code",
   "execution_count": 68,
   "metadata": {},
   "outputs": [],
   "source": [
    "X_train_LG[['Wages CPI_LG', 'WTI_LG', 'Copper_LG', 'Soybeans_LG', 'Natural Gas_LG', 'Heating Oil_LG',\n",
    "       'Corn_LG', 'Wheat_LG', 'Cattle_LG', 'Lean Hogs_LG', 'Sugar_LG', 'Lumber_LG',\n",
    "       'Capacity Utilization_LG', 'GDP_LG', 'M2 Velocity_LG', 'PMI_LG', 'USD Index_LG',\n",
    "       'Initial Jobless Claims_LG', 'Unemployment Rate_LG']] = LG_scaler.transform(X_train_LG[['Wages CPI', 'WTI', 'Copper', 'Soybeans', 'Natural Gas', 'Heating Oil',\n",
    "       'Corn', 'Wheat', 'Cattle', 'Lean Hogs', 'Sugar', 'Lumber',\n",
    "       'Capacity Utilization', 'GDP', 'M2 Velocity', 'PMI', 'USD Index',\n",
    "       'Initial Jobless Claims', 'Unemployment Rate']])"
   ]
  },
  {
   "cell_type": "markdown",
   "metadata": {},
   "source": [
    "Unlike the previous scaling approaches, we will investigate visually if they were scaled first."
   ]
  },
  {
   "cell_type": "code",
   "execution_count": 69,
   "metadata": {},
   "outputs": [
    {
     "data": {
      "image/png": "[encoded data removed]",
      "text/plain": [
       "<Figure size 1080x360 with 2 Axes>"
      ]
     },
     "metadata": {
      "needs_background": "light"
     },
     "output_type": "display_data"
    },
    {
     "data": {
      "image/png": "[encoded data removed]",
      "text/plain": [
       "<Figure size 1080x360 with 2 Axes>"
      ]
     },
     "metadata": {
      "needs_background": "light"
     },
     "output_type": "display_data"
    },
    {
     "data": {
      "image/png": "[encoded data removed]",
      "text/plain": [
       "<Figure size 1080x360 with 2 Axes>"
      ]
     },
     "metadata": {
      "needs_background": "light"
     },
     "output_type": "display_data"
    },
    {
     "data": {
      "image/png": "[encoded data removed]",
      "text/plain": [
       "<Figure size 1080x360 with 2 Axes>"
      ]
     },
     "metadata": {
      "needs_background": "light"
     },
     "output_type": "display_data"
    },
    {
     "data": {
      "image/png": "[encoded data removed]",
      "text/plain": [
       "<Figure size 1080x360 with 2 Axes>"
      ]
     },
     "metadata": {
      "needs_background": "light"
     },
     "output_type": "display_data"
    },
    {
     "data": {
      "image/png": "[encoded data removed]",
      "text/plain": [
       "<Figure size 1080x360 with 2 Axes>"
      ]
     },
     "metadata": {
      "needs_background": "light"
     },
     "output_type": "display_data"
    },
    {
     "data": {
      "image/png": "[encoded data removed]",
      "text/plain": [
       "<Figure size 1080x360 with 2 Axes>"
      ]
     },
     "metadata": {
      "needs_background": "light"
     },
     "output_type": "display_data"
    },
    {
     "data": {
      "image/png": "[encoded data removed]",
      "text/plain": [
       "<Figure size 1080x360 with 2 Axes>"
      ]
     },
     "metadata": {
      "needs_background": "light"
     },
     "output_type": "display_data"
    },
    {
     "data": {
      "image/png": "[encoded data removed]",
      "text/plain": [
       "<Figure size 1080x360 with 2 Axes>"
      ]
     },
     "metadata": {
      "needs_background": "light"
     },
     "output_type": "display_data"
    },
    {
     "data": {
      "image/png": "[encoded data removed]",
      "text/plain": [
       "<Figure size 1080x360 with 2 Axes>"
      ]
     },
     "metadata": {
      "needs_background": "light"
     },
     "output_type": "display_data"
    },
    {
     "data": {
      "image/png": "[encoded data removed]",
      "text/plain": [
       "<Figure size 1080x360 with 2 Axes>"
      ]
     },
     "metadata": {
      "needs_background": "light"
     },
     "output_type": "display_data"
    },
    {
     "data": {
      "image/png": "[encoded data removed]",
      "text/plain": [
       "<Figure size 1080x360 with 2 Axes>"
      ]
     },
     "metadata": {
      "needs_background": "light"
     },
     "output_type": "display_data"
    },
    {
     "data": {
      "image/png": "[encoded data removed]",
      "text/plain": [
       "<Figure size 1080x360 with 2 Axes>"
      ]
     },
     "metadata": {
      "needs_background": "light"
     },
     "output_type": "display_data"
    },
    {
     "data": {
      "image/png": "[encoded data removed]",
      "text/plain": [
       "<Figure size 1080x360 with 2 Axes>"
      ]
     },
     "metadata": {
      "needs_background": "light"
     },
     "output_type": "display_data"
    },
    {
     "data": {
      "image/png": "[encoded data removed]",
      "text/plain": [
       "<Figure size 1080x360 with 2 Axes>"
      ]
     },
     "metadata": {
      "needs_background": "light"
     },
     "output_type": "display_data"
    },
    {
     "data": {
      "image/png": "[encoded data removed]",
      "text/plain": [
       "<Figure size 1080x360 with 2 Axes>"
      ]
     },
     "metadata": {
      "needs_background": "light"
     },
     "output_type": "display_data"
    },
    {
     "data": {
      "image/png": "[encoded data removed]",
      "text/plain": [
       "<Figure size 1080x360 with 2 Axes>"
      ]
     },
     "metadata": {
      "needs_background": "light"
     },
     "output_type": "display_data"
    },
    {
     "data": {
      "image/png": "[encoded data removed]",
      "text/plain": [
       "<Figure size 1080x360 with 2 Axes>"
      ]
     },
     "metadata": {
      "needs_background": "light"
     },
     "output_type": "display_data"
    }
   ],
   "source": [
    "# to visually confirm one of the variables\n",
    "X_train_LG[['Wages CPI','Wages CPI_LG']].hist(figsize=(15,5))\n",
    "X_train_LG[['WTI','WTI_LG']].hist(figsize=(15,5))\n",
    "X_train_LG[['Copper','Copper_LG']].hist(figsize=(15,5))\n",
    "X_train_LG[['Soybeans','Soybeans_LG']].hist(figsize=(15,5))\n",
    "X_train_LG[['Natural Gas','Natural Gas_LG']].hist(figsize=(15,5))\n",
    "X_train_LG[['Heating Oil','Heating Oil_LG']].hist(figsize=(15,5))\n",
    "X_train_LG[['Corn','Corn_LG']].hist(figsize=(15,5))\n",
    "X_train_LG[['Wheat','Wheat_LG']].hist(figsize=(15,5))\n",
    "X_train_LG[['Cattle','Cattle_LG']].hist(figsize=(15,5))\n",
    "X_train_LG[['Lean Hogs','Lean Hogs_LG']].hist(figsize=(15,5))\n",
    "X_train_LG[['Sugar','Sugar_LG']].hist(figsize=(15,5))\n",
    "X_train_LG[['Lumber','Lumber_LG']].hist(figsize=(15,5))\n",
    "X_train_LG[['Capacity Utilization','Capacity Utilization_LG']].hist(figsize=(15,5))\n",
    "X_train_LG[['GDP','GDP_LG']].hist(figsize=(15,5))\n",
    "X_train_LG[['M2 Velocity','M2 Velocity_LG']].hist(figsize=(15,5))\n",
    "X_train_LG[['PMI','PMI_LG']].hist(figsize=(15,5))\n",
    "X_train_LG[['Initial Jobless Claims','Initial Jobless Claims_LG']].hist(figsize=(15,5))\n",
    "X_train_LG[['Unemployment Rate','Unemployment Rate_LG']].hist(figsize=(15,5))\n",
    "plt.show()"
   ]
  },
  {
   "cell_type": "markdown",
   "metadata": {},
   "source": [
    "While they all seem to work, the following appear to either have an outlier issue or `Log Transform` works very well:\n",
    "   * `Wages CPI`\n",
    "   * `Capacity Utilization`\n",
    "   * `GDP`\n",
    "   * `M2 Velocity`\n",
    "   * `Initial Jobless Claims`\n",
    "   * `Unemployment Rate`\n",
    "\n",
    "We will continue with all."
   ]
  },
  {
   "cell_type": "code",
   "execution_count": 70,
   "metadata": {},
   "outputs": [],
   "source": [
    "X_train_LG.drop(columns=prev_cols, inplace=True)"
   ]
  },
  {
   "cell_type": "code",
   "execution_count": 71,
   "metadata": {},
   "outputs": [
    {
     "data": {
      "text/html": [
       "<div>\n",
       "<style scoped>\n",
       "    .dataframe tbody tr th:only-of-type {\n",
       "        vertical-align: middle;\n",
       "    }\n",
       "\n",
       "    .dataframe tbody tr th {\n",
       "        vertical-align: top;\n",
       "    }\n",
       "\n",
       "    .dataframe thead th {\n",
       "        text-align: right;\n",
       "    }\n",
       "</style>\n",
       "<table border=\"1\" class=\"dataframe\">\n",
       "  <thead>\n",
       "    <tr style=\"text-align: right;\">\n",
       "      <th></th>\n",
       "      <th>Wages CPI_SS</th>\n",
       "      <th>WTI_SS</th>\n",
       "      <th>Copper_SS</th>\n",
       "      <th>Soybeans_SS</th>\n",
       "      <th>Natural Gas_SS</th>\n",
       "      <th>Heating Oil_SS</th>\n",
       "      <th>Corn_SS</th>\n",
       "      <th>Wheat_SS</th>\n",
       "      <th>Cattle_SS</th>\n",
       "      <th>Lean Hogs_SS</th>\n",
       "      <th>...</th>\n",
       "      <th>Lean Hogs_LG</th>\n",
       "      <th>Sugar_LG</th>\n",
       "      <th>Lumber_LG</th>\n",
       "      <th>Capacity Utilization_LG</th>\n",
       "      <th>GDP_LG</th>\n",
       "      <th>M2 Velocity_LG</th>\n",
       "      <th>PMI_LG</th>\n",
       "      <th>USD Index_LG</th>\n",
       "      <th>Initial Jobless Claims_LG</th>\n",
       "      <th>Unemployment Rate_LG</th>\n",
       "    </tr>\n",
       "  </thead>\n",
       "  <tbody>\n",
       "    <tr>\n",
       "      <th>count</th>\n",
       "      <td>218.000000</td>\n",
       "      <td>218.000000</td>\n",
       "      <td>218.000000</td>\n",
       "      <td>218.000000</td>\n",
       "      <td>218.000000</td>\n",
       "      <td>218.000000</td>\n",
       "      <td>218.000000</td>\n",
       "      <td>218.000000</td>\n",
       "      <td>218.000000</td>\n",
       "      <td>218.000000</td>\n",
       "      <td>...</td>\n",
       "      <td>2.180000e+02</td>\n",
       "      <td>2.180000e+02</td>\n",
       "      <td>2.180000e+02</td>\n",
       "      <td>2.180000e+02</td>\n",
       "      <td>2.180000e+02</td>\n",
       "      <td>2.180000e+02</td>\n",
       "      <td>2.180000e+02</td>\n",
       "      <td>218.000000</td>\n",
       "      <td>2.180000e+02</td>\n",
       "      <td>2.180000e+02</td>\n",
       "    </tr>\n",
       "    <tr>\n",
       "      <th>mean</th>\n",
       "      <td>0.694134</td>\n",
       "      <td>0.579751</td>\n",
       "      <td>0.517310</td>\n",
       "      <td>0.538476</td>\n",
       "      <td>0.396675</td>\n",
       "      <td>0.581892</td>\n",
       "      <td>0.446314</td>\n",
       "      <td>0.335362</td>\n",
       "      <td>0.549834</td>\n",
       "      <td>0.479716</td>\n",
       "      <td>...</td>\n",
       "      <td>-3.182979e-17</td>\n",
       "      <td>-1.120409e-17</td>\n",
       "      <td>1.121204e-17</td>\n",
       "      <td>-1.527830e-17</td>\n",
       "      <td>-2.663517e-16</td>\n",
       "      <td>7.766468e-18</td>\n",
       "      <td>4.933617e-18</td>\n",
       "      <td>-0.012799</td>\n",
       "      <td>2.419064e-17</td>\n",
       "      <td>2.495455e-17</td>\n",
       "    </tr>\n",
       "    <tr>\n",
       "      <th>std</th>\n",
       "      <td>0.099718</td>\n",
       "      <td>0.153589</td>\n",
       "      <td>0.123627</td>\n",
       "      <td>0.164539</td>\n",
       "      <td>0.201917</td>\n",
       "      <td>0.172532</td>\n",
       "      <td>0.169350</td>\n",
       "      <td>0.165197</td>\n",
       "      <td>0.185796</td>\n",
       "      <td>0.195939</td>\n",
       "      <td>...</td>\n",
       "      <td>1.002301e+00</td>\n",
       "      <td>1.002301e+00</td>\n",
       "      <td>1.002301e+00</td>\n",
       "      <td>1.002301e+00</td>\n",
       "      <td>1.002301e+00</td>\n",
       "      <td>1.002301e+00</td>\n",
       "      <td>1.002301e+00</td>\n",
       "      <td>0.012007</td>\n",
       "      <td>1.002301e+00</td>\n",
       "      <td>1.002301e+00</td>\n",
       "    </tr>\n",
       "    <tr>\n",
       "      <th>min</th>\n",
       "      <td>0.000000</td>\n",
       "      <td>0.000000</td>\n",
       "      <td>0.000000</td>\n",
       "      <td>0.000000</td>\n",
       "      <td>0.000000</td>\n",
       "      <td>0.000000</td>\n",
       "      <td>0.000000</td>\n",
       "      <td>0.000000</td>\n",
       "      <td>0.000000</td>\n",
       "      <td>0.000000</td>\n",
       "      <td>...</td>\n",
       "      <td>-2.438256e+00</td>\n",
       "      <td>-3.468529e+00</td>\n",
       "      <td>-3.038505e+00</td>\n",
       "      <td>-4.520455e+00</td>\n",
       "      <td>-3.102066e+00</td>\n",
       "      <td>-3.155028e+00</td>\n",
       "      <td>-3.893245e+00</td>\n",
       "      <td>-0.037961</td>\n",
       "      <td>-1.037009e+01</td>\n",
       "      <td>-9.181910e+00</td>\n",
       "    </tr>\n",
       "    <tr>\n",
       "      <th>25%</th>\n",
       "      <td>0.667559</td>\n",
       "      <td>0.492937</td>\n",
       "      <td>0.444239</td>\n",
       "      <td>0.455334</td>\n",
       "      <td>0.261206</td>\n",
       "      <td>0.488547</td>\n",
       "      <td>0.340384</td>\n",
       "      <td>0.224550</td>\n",
       "      <td>0.430120</td>\n",
       "      <td>0.358486</td>\n",
       "      <td>...</td>\n",
       "      <td>-6.221477e-01</td>\n",
       "      <td>-6.725542e-01</td>\n",
       "      <td>-6.727191e-01</td>\n",
       "      <td>-3.616021e-01</td>\n",
       "      <td>-5.612664e-01</td>\n",
       "      <td>-4.877854e-01</td>\n",
       "      <td>-5.535478e-01</td>\n",
       "      <td>-0.022312</td>\n",
       "      <td>-5.411911e-02</td>\n",
       "      <td>-2.153957e-01</td>\n",
       "    </tr>\n",
       "    <tr>\n",
       "      <th>50%</th>\n",
       "      <td>0.705608</td>\n",
       "      <td>0.573683</td>\n",
       "      <td>0.505297</td>\n",
       "      <td>0.529197</td>\n",
       "      <td>0.364864</td>\n",
       "      <td>0.574937</td>\n",
       "      <td>0.436468</td>\n",
       "      <td>0.327345</td>\n",
       "      <td>0.563600</td>\n",
       "      <td>0.470908</td>\n",
       "      <td>...</td>\n",
       "      <td>-4.833773e-02</td>\n",
       "      <td>-1.004732e-01</td>\n",
       "      <td>3.617663e-02</td>\n",
       "      <td>6.764572e-02</td>\n",
       "      <td>-5.308771e-02</td>\n",
       "      <td>-1.275063e-01</td>\n",
       "      <td>5.063059e-02</td>\n",
       "      <td>-0.012357</td>\n",
       "      <td>5.152233e-02</td>\n",
       "      <td>-5.318401e-02</td>\n",
       "    </tr>\n",
       "    <tr>\n",
       "      <th>75%</th>\n",
       "      <td>0.736719</td>\n",
       "      <td>0.682071</td>\n",
       "      <td>0.583506</td>\n",
       "      <td>0.625757</td>\n",
       "      <td>0.509995</td>\n",
       "      <td>0.691239</td>\n",
       "      <td>0.534231</td>\n",
       "      <td>0.433499</td>\n",
       "      <td>0.685891</td>\n",
       "      <td>0.621831</td>\n",
       "      <td>...</td>\n",
       "      <td>7.255195e-01</td>\n",
       "      <td>6.539755e-01</td>\n",
       "      <td>6.712153e-01</td>\n",
       "      <td>4.176488e-01</td>\n",
       "      <td>5.796108e-01</td>\n",
       "      <td>5.338289e-01</td>\n",
       "      <td>5.976906e-01</td>\n",
       "      <td>-0.005258</td>\n",
       "      <td>1.047383e-01</td>\n",
       "      <td>1.530685e-01</td>\n",
       "    </tr>\n",
       "    <tr>\n",
       "      <th>max</th>\n",
       "      <td>1.000000</td>\n",
       "      <td>1.000000</td>\n",
       "      <td>1.000000</td>\n",
       "      <td>1.000000</td>\n",
       "      <td>1.000000</td>\n",
       "      <td>1.000000</td>\n",
       "      <td>1.000000</td>\n",
       "      <td>1.000000</td>\n",
       "      <td>1.000000</td>\n",
       "      <td>1.000000</td>\n",
       "      <td>...</td>\n",
       "      <td>2.680506e+00</td>\n",
       "      <td>2.825044e+00</td>\n",
       "      <td>3.940244e+00</td>\n",
       "      <td>6.673082e+00</td>\n",
       "      <td>3.243365e+00</td>\n",
       "      <td>2.464245e+00</td>\n",
       "      <td>3.163166e+00</td>\n",
       "      <td>0.019044</td>\n",
       "      <td>7.995727e+00</td>\n",
       "      <td>7.548036e+00</td>\n",
       "    </tr>\n",
       "  </tbody>\n",
       "</table>\n",
       "<p>8 rows × 38 columns</p>\n",
       "</div>"
      ],
      "text/plain": [
       "       Wages CPI_SS      WTI_SS   Copper_SS  Soybeans_SS  Natural Gas_SS  \\\n",
       "count    218.000000  218.000000  218.000000   218.000000      218.000000   \n",
       "mean       0.694134    0.579751    0.517310     0.538476        0.396675   \n",
       "std        0.099718    0.153589    0.123627     0.164539        0.201917   \n",
       "min        0.000000    0.000000    0.000000     0.000000        0.000000   \n",
       "25%        0.667559    0.492937    0.444239     0.455334        0.261206   \n",
       "50%        0.705608    0.573683    0.505297     0.529197        0.364864   \n",
       "75%        0.736719    0.682071    0.583506     0.625757        0.509995   \n",
       "max        1.000000    1.000000    1.000000     1.000000        1.000000   \n",
       "\n",
       "       Heating Oil_SS     Corn_SS    Wheat_SS   Cattle_SS  Lean Hogs_SS  ...  \\\n",
       "count      218.000000  218.000000  218.000000  218.000000    218.000000  ...   \n",
       "mean         0.581892    0.446314    0.335362    0.549834      0.479716  ...   \n",
       "std          0.172532    0.169350    0.165197    0.185796      0.195939  ...   \n",
       "min          0.000000    0.000000    0.000000    0.000000      0.000000  ...   \n",
       "25%          0.488547    0.340384    0.224550    0.430120      0.358486  ...   \n",
       "50%          0.574937    0.436468    0.327345    0.563600      0.470908  ...   \n",
       "75%          0.691239    0.534231    0.433499    0.685891      0.621831  ...   \n",
       "max          1.000000    1.000000    1.000000    1.000000      1.000000  ...   \n",
       "\n",
       "       Lean Hogs_LG      Sugar_LG     Lumber_LG  Capacity Utilization_LG  \\\n",
       "count  2.180000e+02  2.180000e+02  2.180000e+02             2.180000e+02   \n",
       "mean  -3.182979e-17 -1.120409e-17  1.121204e-17            -1.527830e-17   \n",
       "std    1.002301e+00  1.002301e+00  1.002301e+00             1.002301e+00   \n",
       "min   -2.438256e+00 -3.468529e+00 -3.038505e+00            -4.520455e+00   \n",
       "25%   -6.221477e-01 -6.725542e-01 -6.727191e-01            -3.616021e-01   \n",
       "50%   -4.833773e-02 -1.004732e-01  3.617663e-02             6.764572e-02   \n",
       "75%    7.255195e-01  6.539755e-01  6.712153e-01             4.176488e-01   \n",
       "max    2.680506e+00  2.825044e+00  3.940244e+00             6.673082e+00   \n",
       "\n",
       "             GDP_LG  M2 Velocity_LG        PMI_LG  USD Index_LG  \\\n",
       "count  2.180000e+02    2.180000e+02  2.180000e+02    218.000000   \n",
       "mean  -2.663517e-16    7.766468e-18  4.933617e-18     -0.012799   \n",
       "std    1.002301e+00    1.002301e+00  1.002301e+00      0.012007   \n",
       "min   -3.102066e+00   -3.155028e+00 -3.893245e+00     -0.037961   \n",
       "25%   -5.612664e-01   -4.877854e-01 -5.535478e-01     -0.022312   \n",
       "50%   -5.308771e-02   -1.275063e-01  5.063059e-02     -0.012357   \n",
       "75%    5.796108e-01    5.338289e-01  5.976906e-01     -0.005258   \n",
       "max    3.243365e+00    2.464245e+00  3.163166e+00      0.019044   \n",
       "\n",
       "       Initial Jobless Claims_LG  Unemployment Rate_LG  \n",
       "count               2.180000e+02          2.180000e+02  \n",
       "mean                2.419064e-17          2.495455e-17  \n",
       "std                 1.002301e+00          1.002301e+00  \n",
       "min                -1.037009e+01         -9.181910e+00  \n",
       "25%                -5.411911e-02         -2.153957e-01  \n",
       "50%                 5.152233e-02         -5.318401e-02  \n",
       "75%                 1.047383e-01          1.530685e-01  \n",
       "max                 7.995727e+00          7.548036e+00  \n",
       "\n",
       "[8 rows x 38 columns]"
      ]
     },
     "execution_count": 71,
     "metadata": {},
     "output_type": "execute_result"
    }
   ],
   "source": [
    "X_train_LG.describe()"
   ]
  },
  {
   "cell_type": "markdown",
   "metadata": {},
   "source": [
    "All have a **Standard Deviation** `std` of 1 so we will continue to the next."
   ]
  },
  {
   "cell_type": "markdown",
   "metadata": {},
   "source": [
    "Next `X_test_LG`"
   ]
  },
  {
   "cell_type": "code",
   "execution_count": 72,
   "metadata": {},
   "outputs": [
    {
     "data": {
      "text/plain": [
       "PowerTransformer()"
      ]
     },
     "execution_count": 72,
     "metadata": {},
     "output_type": "execute_result"
    }
   ],
   "source": [
    "LG_scaler.fit(X_test_LG[['Wages CPI', 'WTI', 'Copper', 'Soybeans', 'Natural Gas', 'Heating Oil',\n",
    "       'Corn', 'Wheat', 'Cattle', 'Lean Hogs', 'Sugar', 'Lumber',\n",
    "       'Capacity Utilization', 'GDP', 'M2 Velocity', 'PMI', 'PMI',\n",
    "       'Initial Jobless Claims', 'Unemployment Rate']])"
   ]
  },
  {
   "cell_type": "code",
   "execution_count": 73,
   "metadata": {},
   "outputs": [],
   "source": [
    "X_test_LG[['Wages CPI_LG', 'WTI_LG', 'Copper_LG', 'Soybeans_LG', 'Natural Gas_LG', 'Heating Oil_LG',\n",
    "       'Corn_LG', 'Wheat_LG', 'Cattle_LG', 'Lean Hogs_LG', 'Sugar_LG', 'Lumber_LG',\n",
    "       'Capacity Utilization_LG', 'GDP_LG', 'M2 Velocity_LG', 'PMI_LG', 'USD Index_LG',\n",
    "       'Initial Jobless Claims_LG', 'Unemployment Rate_LG']] = LG_scaler.transform(X_test_LG[['Wages CPI', 'WTI', 'Copper', 'Soybeans', 'Natural Gas', 'Heating Oil',\n",
    "       'Corn', 'Wheat', 'Cattle', 'Lean Hogs', 'Sugar', 'Lumber',\n",
    "       'Capacity Utilization', 'GDP', 'M2 Velocity', 'PMI', 'USD Index',\n",
    "       'Initial Jobless Claims', 'Unemployment Rate']])"
   ]
  },
  {
   "cell_type": "code",
   "execution_count": 74,
   "metadata": {},
   "outputs": [],
   "source": [
    "X_test_LG.drop(columns=prev_cols, inplace=True)"
   ]
  },
  {
   "cell_type": "code",
   "execution_count": 75,
   "metadata": {},
   "outputs": [
    {
     "data": {
      "text/html": [
       "<div>\n",
       "<style scoped>\n",
       "    .dataframe tbody tr th:only-of-type {\n",
       "        vertical-align: middle;\n",
       "    }\n",
       "\n",
       "    .dataframe tbody tr th {\n",
       "        vertical-align: top;\n",
       "    }\n",
       "\n",
       "    .dataframe thead th {\n",
       "        text-align: right;\n",
       "    }\n",
       "</style>\n",
       "<table border=\"1\" class=\"dataframe\">\n",
       "  <thead>\n",
       "    <tr style=\"text-align: right;\">\n",
       "      <th></th>\n",
       "      <th>Wages CPI_SS</th>\n",
       "      <th>WTI_SS</th>\n",
       "      <th>Copper_SS</th>\n",
       "      <th>Soybeans_SS</th>\n",
       "      <th>Natural Gas_SS</th>\n",
       "      <th>Heating Oil_SS</th>\n",
       "      <th>Corn_SS</th>\n",
       "      <th>Wheat_SS</th>\n",
       "      <th>Cattle_SS</th>\n",
       "      <th>Lean Hogs_SS</th>\n",
       "      <th>...</th>\n",
       "      <th>Lean Hogs_LG</th>\n",
       "      <th>Sugar_LG</th>\n",
       "      <th>Lumber_LG</th>\n",
       "      <th>Capacity Utilization_LG</th>\n",
       "      <th>GDP_LG</th>\n",
       "      <th>M2 Velocity_LG</th>\n",
       "      <th>PMI_LG</th>\n",
       "      <th>USD Index_LG</th>\n",
       "      <th>Initial Jobless Claims_LG</th>\n",
       "      <th>Unemployment Rate_LG</th>\n",
       "    </tr>\n",
       "  </thead>\n",
       "  <tbody>\n",
       "    <tr>\n",
       "      <th>count</th>\n",
       "      <td>94.000000</td>\n",
       "      <td>94.000000</td>\n",
       "      <td>94.000000</td>\n",
       "      <td>94.000000</td>\n",
       "      <td>94.000000</td>\n",
       "      <td>94.000000</td>\n",
       "      <td>94.000000</td>\n",
       "      <td>94.000000</td>\n",
       "      <td>94.000000</td>\n",
       "      <td>94.000000</td>\n",
       "      <td>...</td>\n",
       "      <td>9.400000e+01</td>\n",
       "      <td>9.400000e+01</td>\n",
       "      <td>9.400000e+01</td>\n",
       "      <td>9.400000e+01</td>\n",
       "      <td>9.400000e+01</td>\n",
       "      <td>9.400000e+01</td>\n",
       "      <td>9.400000e+01</td>\n",
       "      <td>94.000000</td>\n",
       "      <td>9.400000e+01</td>\n",
       "      <td>9.400000e+01</td>\n",
       "    </tr>\n",
       "    <tr>\n",
       "      <th>mean</th>\n",
       "      <td>0.764249</td>\n",
       "      <td>0.485789</td>\n",
       "      <td>0.586517</td>\n",
       "      <td>0.569137</td>\n",
       "      <td>0.448632</td>\n",
       "      <td>0.636256</td>\n",
       "      <td>0.462727</td>\n",
       "      <td>0.440227</td>\n",
       "      <td>0.640257</td>\n",
       "      <td>0.463065</td>\n",
       "      <td>...</td>\n",
       "      <td>-3.307047e-17</td>\n",
       "      <td>-1.181088e-18</td>\n",
       "      <td>-1.181088e-17</td>\n",
       "      <td>7.381802e-18</td>\n",
       "      <td>-3.070830e-16</td>\n",
       "      <td>-5.314897e-17</td>\n",
       "      <td>-1.712578e-17</td>\n",
       "      <td>0.145860</td>\n",
       "      <td>4.473372e-17</td>\n",
       "      <td>-5.905442e-19</td>\n",
       "    </tr>\n",
       "    <tr>\n",
       "      <th>std</th>\n",
       "      <td>0.128444</td>\n",
       "      <td>0.146244</td>\n",
       "      <td>0.140130</td>\n",
       "      <td>0.173703</td>\n",
       "      <td>0.209782</td>\n",
       "      <td>0.184222</td>\n",
       "      <td>0.158147</td>\n",
       "      <td>0.155832</td>\n",
       "      <td>0.201739</td>\n",
       "      <td>0.233535</td>\n",
       "      <td>...</td>\n",
       "      <td>1.005362e+00</td>\n",
       "      <td>1.005362e+00</td>\n",
       "      <td>1.005362e+00</td>\n",
       "      <td>1.005362e+00</td>\n",
       "      <td>1.005362e+00</td>\n",
       "      <td>1.005362e+00</td>\n",
       "      <td>1.005362e+00</td>\n",
       "      <td>0.011457</td>\n",
       "      <td>1.005362e+00</td>\n",
       "      <td>1.005362e+00</td>\n",
       "    </tr>\n",
       "    <tr>\n",
       "      <th>min</th>\n",
       "      <td>0.000000</td>\n",
       "      <td>0.000000</td>\n",
       "      <td>0.000000</td>\n",
       "      <td>0.000000</td>\n",
       "      <td>0.000000</td>\n",
       "      <td>0.000000</td>\n",
       "      <td>0.000000</td>\n",
       "      <td>0.000000</td>\n",
       "      <td>0.000000</td>\n",
       "      <td>0.000000</td>\n",
       "      <td>...</td>\n",
       "      <td>-2.283623e+00</td>\n",
       "      <td>-2.829581e+00</td>\n",
       "      <td>-2.755155e+00</td>\n",
       "      <td>-5.261928e+00</td>\n",
       "      <td>-5.797385e+00</td>\n",
       "      <td>-4.303363e+00</td>\n",
       "      <td>-4.282937e+00</td>\n",
       "      <td>0.121811</td>\n",
       "      <td>-5.979241e+00</td>\n",
       "      <td>-6.023089e+00</td>\n",
       "    </tr>\n",
       "    <tr>\n",
       "      <th>25%</th>\n",
       "      <td>0.720221</td>\n",
       "      <td>0.422502</td>\n",
       "      <td>0.509709</td>\n",
       "      <td>0.463504</td>\n",
       "      <td>0.323043</td>\n",
       "      <td>0.554880</td>\n",
       "      <td>0.376488</td>\n",
       "      <td>0.338498</td>\n",
       "      <td>0.496629</td>\n",
       "      <td>0.281153</td>\n",
       "      <td>...</td>\n",
       "      <td>-7.644602e-01</td>\n",
       "      <td>-5.711489e-01</td>\n",
       "      <td>-5.876953e-01</td>\n",
       "      <td>-2.412716e-01</td>\n",
       "      <td>-2.248710e-01</td>\n",
       "      <td>-4.571075e-01</td>\n",
       "      <td>-6.473741e-01</td>\n",
       "      <td>0.138922</td>\n",
       "      <td>5.552998e-02</td>\n",
       "      <td>-1.138032e-01</td>\n",
       "    </tr>\n",
       "    <tr>\n",
       "      <th>50%</th>\n",
       "      <td>0.791061</td>\n",
       "      <td>0.502673</td>\n",
       "      <td>0.565671</td>\n",
       "      <td>0.549194</td>\n",
       "      <td>0.432017</td>\n",
       "      <td>0.659235</td>\n",
       "      <td>0.446268</td>\n",
       "      <td>0.412963</td>\n",
       "      <td>0.658467</td>\n",
       "      <td>0.438592</td>\n",
       "      <td>...</td>\n",
       "      <td>-2.848480e-02</td>\n",
       "      <td>-6.568799e-02</td>\n",
       "      <td>-4.818858e-03</td>\n",
       "      <td>4.087652e-02</td>\n",
       "      <td>-3.376597e-02</td>\n",
       "      <td>-9.016489e-02</td>\n",
       "      <td>-8.917637e-02</td>\n",
       "      <td>0.145111</td>\n",
       "      <td>7.031153e-02</td>\n",
       "      <td>-3.995771e-03</td>\n",
       "    </tr>\n",
       "    <tr>\n",
       "      <th>75%</th>\n",
       "      <td>0.827197</td>\n",
       "      <td>0.559360</td>\n",
       "      <td>0.666665</td>\n",
       "      <td>0.666229</td>\n",
       "      <td>0.596986</td>\n",
       "      <td>0.762352</td>\n",
       "      <td>0.546416</td>\n",
       "      <td>0.516540</td>\n",
       "      <td>0.801623</td>\n",
       "      <td>0.621741</td>\n",
       "      <td>...</td>\n",
       "      <td>7.314580e-01</td>\n",
       "      <td>6.583968e-01</td>\n",
       "      <td>6.680842e-01</td>\n",
       "      <td>2.524406e-01</td>\n",
       "      <td>1.075821e-01</td>\n",
       "      <td>4.323252e-01</td>\n",
       "      <td>5.346166e-01</td>\n",
       "      <td>0.152407</td>\n",
       "      <td>8.814947e-02</td>\n",
       "      <td>1.380030e-01</td>\n",
       "    </tr>\n",
       "    <tr>\n",
       "      <th>max</th>\n",
       "      <td>1.000000</td>\n",
       "      <td>1.000000</td>\n",
       "      <td>1.000000</td>\n",
       "      <td>1.000000</td>\n",
       "      <td>1.000000</td>\n",
       "      <td>1.000000</td>\n",
       "      <td>1.000000</td>\n",
       "      <td>1.000000</td>\n",
       "      <td>1.000000</td>\n",
       "      <td>1.000000</td>\n",
       "      <td>...</td>\n",
       "      <td>2.051306e+00</td>\n",
       "      <td>2.544649e+00</td>\n",
       "      <td>2.601462e+00</td>\n",
       "      <td>5.405416e+00</td>\n",
       "      <td>4.096071e+00</td>\n",
       "      <td>3.800724e+00</td>\n",
       "      <td>2.875160e+00</td>\n",
       "      <td>0.184285</td>\n",
       "      <td>6.294503e+00</td>\n",
       "      <td>5.325166e+00</td>\n",
       "    </tr>\n",
       "  </tbody>\n",
       "</table>\n",
       "<p>8 rows × 38 columns</p>\n",
       "</div>"
      ],
      "text/plain": [
       "       Wages CPI_SS     WTI_SS  Copper_SS  Soybeans_SS  Natural Gas_SS  \\\n",
       "count     94.000000  94.000000  94.000000    94.000000       94.000000   \n",
       "mean       0.764249   0.485789   0.586517     0.569137        0.448632   \n",
       "std        0.128444   0.146244   0.140130     0.173703        0.209782   \n",
       "min        0.000000   0.000000   0.000000     0.000000        0.000000   \n",
       "25%        0.720221   0.422502   0.509709     0.463504        0.323043   \n",
       "50%        0.791061   0.502673   0.565671     0.549194        0.432017   \n",
       "75%        0.827197   0.559360   0.666665     0.666229        0.596986   \n",
       "max        1.000000   1.000000   1.000000     1.000000        1.000000   \n",
       "\n",
       "       Heating Oil_SS    Corn_SS   Wheat_SS  Cattle_SS  Lean Hogs_SS  ...  \\\n",
       "count       94.000000  94.000000  94.000000  94.000000     94.000000  ...   \n",
       "mean         0.636256   0.462727   0.440227   0.640257      0.463065  ...   \n",
       "std          0.184222   0.158147   0.155832   0.201739      0.233535  ...   \n",
       "min          0.000000   0.000000   0.000000   0.000000      0.000000  ...   \n",
       "25%          0.554880   0.376488   0.338498   0.496629      0.281153  ...   \n",
       "50%          0.659235   0.446268   0.412963   0.658467      0.438592  ...   \n",
       "75%          0.762352   0.546416   0.516540   0.801623      0.621741  ...   \n",
       "max          1.000000   1.000000   1.000000   1.000000      1.000000  ...   \n",
       "\n",
       "       Lean Hogs_LG      Sugar_LG     Lumber_LG  Capacity Utilization_LG  \\\n",
       "count  9.400000e+01  9.400000e+01  9.400000e+01             9.400000e+01   \n",
       "mean  -3.307047e-17 -1.181088e-18 -1.181088e-17             7.381802e-18   \n",
       "std    1.005362e+00  1.005362e+00  1.005362e+00             1.005362e+00   \n",
       "min   -2.283623e+00 -2.829581e+00 -2.755155e+00            -5.261928e+00   \n",
       "25%   -7.644602e-01 -5.711489e-01 -5.876953e-01            -2.412716e-01   \n",
       "50%   -2.848480e-02 -6.568799e-02 -4.818858e-03             4.087652e-02   \n",
       "75%    7.314580e-01  6.583968e-01  6.680842e-01             2.524406e-01   \n",
       "max    2.051306e+00  2.544649e+00  2.601462e+00             5.405416e+00   \n",
       "\n",
       "             GDP_LG  M2 Velocity_LG        PMI_LG  USD Index_LG  \\\n",
       "count  9.400000e+01    9.400000e+01  9.400000e+01     94.000000   \n",
       "mean  -3.070830e-16   -5.314897e-17 -1.712578e-17      0.145860   \n",
       "std    1.005362e+00    1.005362e+00  1.005362e+00      0.011457   \n",
       "min   -5.797385e+00   -4.303363e+00 -4.282937e+00      0.121811   \n",
       "25%   -2.248710e-01   -4.571075e-01 -6.473741e-01      0.138922   \n",
       "50%   -3.376597e-02   -9.016489e-02 -8.917637e-02      0.145111   \n",
       "75%    1.075821e-01    4.323252e-01  5.346166e-01      0.152407   \n",
       "max    4.096071e+00    3.800724e+00  2.875160e+00      0.184285   \n",
       "\n",
       "       Initial Jobless Claims_LG  Unemployment Rate_LG  \n",
       "count               9.400000e+01          9.400000e+01  \n",
       "mean                4.473372e-17         -5.905442e-19  \n",
       "std                 1.005362e+00          1.005362e+00  \n",
       "min                -5.979241e+00         -6.023089e+00  \n",
       "25%                 5.552998e-02         -1.138032e-01  \n",
       "50%                 7.031153e-02         -3.995771e-03  \n",
       "75%                 8.814947e-02          1.380030e-01  \n",
       "max                 6.294503e+00          5.325166e+00  \n",
       "\n",
       "[8 rows x 38 columns]"
      ]
     },
     "execution_count": 75,
     "metadata": {},
     "output_type": "execute_result"
    }
   ],
   "source": [
    "X_test_LG.describe()"
   ]
  },
  {
   "cell_type": "markdown",
   "metadata": {},
   "source": [
    "Next `y_train_LG`"
   ]
  },
  {
   "cell_type": "code",
   "execution_count": 76,
   "metadata": {},
   "outputs": [
    {
     "data": {
      "text/plain": [
       "PowerTransformer()"
      ]
     },
     "execution_count": 76,
     "metadata": {},
     "output_type": "execute_result"
    }
   ],
   "source": [
    "LG_scaler.fit(y_train_LG[['Inflation']])"
   ]
  },
  {
   "cell_type": "code",
   "execution_count": 77,
   "metadata": {},
   "outputs": [],
   "source": [
    "y_train_LG['Inflation_LG'] = LG_scaler.transform(y_train_LG[['Inflation']])\n",
    "y_train_LG.drop(columns='Inflation', inplace=True)"
   ]
  },
  {
   "cell_type": "code",
   "execution_count": 78,
   "metadata": {},
   "outputs": [
    {
     "data": {
      "text/html": [
       "<div>\n",
       "<style scoped>\n",
       "    .dataframe tbody tr th:only-of-type {\n",
       "        vertical-align: middle;\n",
       "    }\n",
       "\n",
       "    .dataframe tbody tr th {\n",
       "        vertical-align: top;\n",
       "    }\n",
       "\n",
       "    .dataframe thead th {\n",
       "        text-align: right;\n",
       "    }\n",
       "</style>\n",
       "<table border=\"1\" class=\"dataframe\">\n",
       "  <thead>\n",
       "    <tr style=\"text-align: right;\">\n",
       "      <th></th>\n",
       "      <th>Inflation_LG</th>\n",
       "    </tr>\n",
       "  </thead>\n",
       "  <tbody>\n",
       "    <tr>\n",
       "      <th>count</th>\n",
       "      <td>2.180000e+02</td>\n",
       "    </tr>\n",
       "    <tr>\n",
       "      <th>mean</th>\n",
       "      <td>-1.476902e-17</td>\n",
       "    </tr>\n",
       "    <tr>\n",
       "      <th>std</th>\n",
       "      <td>1.002301e+00</td>\n",
       "    </tr>\n",
       "    <tr>\n",
       "      <th>min</th>\n",
       "      <td>-4.657212e+00</td>\n",
       "    </tr>\n",
       "    <tr>\n",
       "      <th>25%</th>\n",
       "      <td>-4.084960e-01</td>\n",
       "    </tr>\n",
       "    <tr>\n",
       "      <th>50%</th>\n",
       "      <td>1.670749e-03</td>\n",
       "    </tr>\n",
       "    <tr>\n",
       "      <th>75%</th>\n",
       "      <td>4.547053e-01</td>\n",
       "    </tr>\n",
       "    <tr>\n",
       "      <th>max</th>\n",
       "      <td>4.837648e+00</td>\n",
       "    </tr>\n",
       "  </tbody>\n",
       "</table>\n",
       "</div>"
      ],
      "text/plain": [
       "       Inflation_LG\n",
       "count  2.180000e+02\n",
       "mean  -1.476902e-17\n",
       "std    1.002301e+00\n",
       "min   -4.657212e+00\n",
       "25%   -4.084960e-01\n",
       "50%    1.670749e-03\n",
       "75%    4.547053e-01\n",
       "max    4.837648e+00"
      ]
     },
     "execution_count": 78,
     "metadata": {},
     "output_type": "execute_result"
    }
   ],
   "source": [
    "y_train_LG.describe()"
   ]
  },
  {
   "cell_type": "markdown",
   "metadata": {},
   "source": [
    "Next `y_test_LG`"
   ]
  },
  {
   "cell_type": "code",
   "execution_count": 79,
   "metadata": {},
   "outputs": [
    {
     "data": {
      "text/html": [
       "<div>\n",
       "<style scoped>\n",
       "    .dataframe tbody tr th:only-of-type {\n",
       "        vertical-align: middle;\n",
       "    }\n",
       "\n",
       "    .dataframe tbody tr th {\n",
       "        vertical-align: top;\n",
       "    }\n",
       "\n",
       "    .dataframe thead th {\n",
       "        text-align: right;\n",
       "    }\n",
       "</style>\n",
       "<table border=\"1\" class=\"dataframe\">\n",
       "  <thead>\n",
       "    <tr style=\"text-align: right;\">\n",
       "      <th></th>\n",
       "      <th>Inflation</th>\n",
       "    </tr>\n",
       "  </thead>\n",
       "  <tbody>\n",
       "    <tr>\n",
       "      <th>228</th>\n",
       "      <td>0.176</td>\n",
       "    </tr>\n",
       "    <tr>\n",
       "      <th>9</th>\n",
       "      <td>-2.217</td>\n",
       "    </tr>\n",
       "    <tr>\n",
       "      <th>57</th>\n",
       "      <td>0.516</td>\n",
       "    </tr>\n",
       "    <tr>\n",
       "      <th>60</th>\n",
       "      <td>0.001</td>\n",
       "    </tr>\n",
       "    <tr>\n",
       "      <th>25</th>\n",
       "      <td>-0.971</td>\n",
       "    </tr>\n",
       "    <tr>\n",
       "      <th>...</th>\n",
       "      <td>...</td>\n",
       "    </tr>\n",
       "    <tr>\n",
       "      <th>304</th>\n",
       "      <td>-0.327</td>\n",
       "    </tr>\n",
       "    <tr>\n",
       "      <th>19</th>\n",
       "      <td>-0.185</td>\n",
       "    </tr>\n",
       "    <tr>\n",
       "      <th>147</th>\n",
       "      <td>1.326</td>\n",
       "    </tr>\n",
       "    <tr>\n",
       "      <th>92</th>\n",
       "      <td>0.072</td>\n",
       "    </tr>\n",
       "    <tr>\n",
       "      <th>79</th>\n",
       "      <td>0.615</td>\n",
       "    </tr>\n",
       "  </tbody>\n",
       "</table>\n",
       "<p>94 rows × 1 columns</p>\n",
       "</div>"
      ],
      "text/plain": [
       "     Inflation\n",
       "228      0.176\n",
       "9       -2.217\n",
       "57       0.516\n",
       "60       0.001\n",
       "25      -0.971\n",
       "..         ...\n",
       "304     -0.327\n",
       "19      -0.185\n",
       "147      1.326\n",
       "92       0.072\n",
       "79       0.615\n",
       "\n",
       "[94 rows x 1 columns]"
      ]
     },
     "execution_count": 79,
     "metadata": {},
     "output_type": "execute_result"
    }
   ],
   "source": [
    "y_test_LG"
   ]
  },
  {
   "cell_type": "code",
   "execution_count": 80,
   "metadata": {},
   "outputs": [
    {
     "data": {
      "text/plain": [
       "PowerTransformer()"
      ]
     },
     "execution_count": 80,
     "metadata": {},
     "output_type": "execute_result"
    }
   ],
   "source": [
    "LG_scaler.fit(y_test_LG[['Inflation']])"
   ]
  },
  {
   "cell_type": "code",
   "execution_count": 81,
   "metadata": {},
   "outputs": [],
   "source": [
    "y_test_LG['Inflation_LG'] = LG_scaler.transform(y_test_LG[['Inflation']])\n",
    "y_test_LG.drop(columns='Inflation', inplace=True)"
   ]
  },
  {
   "cell_type": "code",
   "execution_count": 82,
   "metadata": {},
   "outputs": [
    {
     "data": {
      "text/html": [
       "<div>\n",
       "<style scoped>\n",
       "    .dataframe tbody tr th:only-of-type {\n",
       "        vertical-align: middle;\n",
       "    }\n",
       "\n",
       "    .dataframe tbody tr th {\n",
       "        vertical-align: top;\n",
       "    }\n",
       "\n",
       "    .dataframe thead th {\n",
       "        text-align: right;\n",
       "    }\n",
       "</style>\n",
       "<table border=\"1\" class=\"dataframe\">\n",
       "  <thead>\n",
       "    <tr style=\"text-align: right;\">\n",
       "      <th></th>\n",
       "      <th>Inflation_LG</th>\n",
       "    </tr>\n",
       "  </thead>\n",
       "  <tbody>\n",
       "    <tr>\n",
       "      <th>count</th>\n",
       "      <td>9.400000e+01</td>\n",
       "    </tr>\n",
       "    <tr>\n",
       "      <th>mean</th>\n",
       "      <td>-2.244068e-17</td>\n",
       "    </tr>\n",
       "    <tr>\n",
       "      <th>std</th>\n",
       "      <td>1.005362e+00</td>\n",
       "    </tr>\n",
       "    <tr>\n",
       "      <th>min</th>\n",
       "      <td>-4.365095e+00</td>\n",
       "    </tr>\n",
       "    <tr>\n",
       "      <th>25%</th>\n",
       "      <td>-5.681602e-01</td>\n",
       "    </tr>\n",
       "    <tr>\n",
       "      <th>50%</th>\n",
       "      <td>-6.055839e-02</td>\n",
       "    </tr>\n",
       "    <tr>\n",
       "      <th>75%</th>\n",
       "      <td>4.722805e-01</td>\n",
       "    </tr>\n",
       "    <tr>\n",
       "      <th>max</th>\n",
       "      <td>3.971748e+00</td>\n",
       "    </tr>\n",
       "  </tbody>\n",
       "</table>\n",
       "</div>"
      ],
      "text/plain": [
       "       Inflation_LG\n",
       "count  9.400000e+01\n",
       "mean  -2.244068e-17\n",
       "std    1.005362e+00\n",
       "min   -4.365095e+00\n",
       "25%   -5.681602e-01\n",
       "50%   -6.055839e-02\n",
       "75%    4.722805e-01\n",
       "max    3.971748e+00"
      ]
     },
     "execution_count": 82,
     "metadata": {},
     "output_type": "execute_result"
    }
   ],
   "source": [
    "y_test_LG.describe()"
   ]
  },
  {
   "cell_type": "markdown",
   "metadata": {},
   "source": [
    "Finally `y_tr_pred_LG`"
   ]
  },
  {
   "cell_type": "code",
   "execution_count": 83,
   "metadata": {},
   "outputs": [],
   "source": [
    "reg_new_LG = LinearRegression()"
   ]
  },
  {
   "cell_type": "code",
   "execution_count": 84,
   "metadata": {},
   "outputs": [
    {
     "name": "stderr",
     "output_type": "stream",
     "text": [
      "C:\\Users\\rands\\anaconda3\\lib\\site-packages\\sklearn\\utils\\validation.py:67: FutureWarning: Pass dual=     Inflation_LG\n",
      "101     -0.554933\n",
      "193      0.808334\n",
      "72      -0.416118\n",
      "298      0.076718\n",
      "15       0.478078\n",
      "..            ...\n",
      "188     -1.049346\n",
      "71      -0.307001\n",
      "106      0.487913\n",
      "270      0.505117\n",
      "102     -0.653323\n",
      "\n",
      "[218 rows x 1 columns] as keyword args. From version 0.25 passing these as positional arguments will result in an error\n",
      "  warnings.warn(\"Pass {} as keyword args. From version 0.25 \"\n"
     ]
    }
   ],
   "source": [
    "reg_new_LG = LogisticRegression(X_train_LG,y_train_LG)"
   ]
  },
  {
   "cell_type": "code",
   "execution_count": 85,
   "metadata": {},
   "outputs": [],
   "source": [
    "lm_LG = LinearRegression().fit(X_train_LG, y_train_LG)"
   ]
  },
  {
   "cell_type": "code",
   "execution_count": 86,
   "metadata": {},
   "outputs": [],
   "source": [
    "y_tr_pred_LG = lm_LG.predict(X_train_LG)\n",
    "y_te_pred_LG = lm_LG.predict(X_test_LG)"
   ]
  },
  {
   "cell_type": "code",
   "execution_count": 87,
   "metadata": {},
   "outputs": [
    {
     "data": {
      "text/plain": [
       "(0.46640375119172583, -290759.06394961884)"
      ]
     },
     "execution_count": 87,
     "metadata": {},
     "output_type": "execute_result"
    }
   ],
   "source": [
    "median_r2_LG = r2_score(y_train, y_tr_pred_LG), r2_score(y_test, y_te_pred_LG)\n",
    "median_r2_LG"
   ]
  },
  {
   "cell_type": "code",
   "execution_count": 88,
   "metadata": {},
   "outputs": [
    {
     "data": {
      "text/plain": [
       "(0.4304361877744126, 471.72355111503026)"
      ]
     },
     "execution_count": 88,
     "metadata": {},
     "output_type": "execute_result"
    }
   ],
   "source": [
    "median_mae_LG = mean_absolute_error( y_train, y_tr_pred_LG), mean_absolute_error( y_test, y_te_pred_LG )\n",
    "median_mae_LG"
   ]
  },
  {
   "cell_type": "code",
   "execution_count": 89,
   "metadata": {},
   "outputs": [
    {
     "data": {
      "text/plain": [
       "(0.34202006581381056, 222534.768384436)"
      ]
     },
     "execution_count": 89,
     "metadata": {},
     "output_type": "execute_result"
    }
   ],
   "source": [
    "median_mse_LG = mean_squared_error( y_train, y_tr_pred_LG ), mean_squared_error( y_test, y_te_pred_LG )\n",
    "median_mse_LG"
   ]
  },
  {
   "cell_type": "markdown",
   "metadata": {},
   "source": [
    "# 4.0 Conclusion"
   ]
  },
  {
   "cell_type": "markdown",
   "metadata": {},
   "source": [
    "A noteable amount of information was 're-arranged' so we will quickly show the r2-values for each of the three scaling approaches side by side:"
   ]
  },
  {
   "cell_type": "code",
   "execution_count": 90,
   "metadata": {},
   "outputs": [
    {
     "name": "stdout",
     "output_type": "stream",
     "text": [
      " SS (0.41854924961510787, 0.32345385108737135) \n",
      " MM (-0.2443881036729123, 0.002358370506340801) \n",
      " LG (0.46640375119172583, -290759.06394961884)\n"
     ]
    }
   ],
   "source": [
    "print(' SS',median_r2, '\\n','MM',median_r2_MM,'\\n','LG',median_r2_LG)"
   ]
  },
  {
   "cell_type": "markdown",
   "metadata": {},
   "source": [
    "The `Log Transformation` approach ended the best on the `Training` set but negative on the `Testing` set. Meanwhile the `Standard Scaler` had a healthy balance for both the `Training` & `Testing` sets. \n",
    "\n",
    "There may be an error with the `Log Transformation` testing set & `MinMax` as a whole; to be reviewed later.\n",
    "\n",
    "**Although I believe further review needs to be conduced on the Data Wrangling from the previous section, a possible hybrid between `Standard Scaler` & `Log Transformation` may yield better results for this data frame without categorical data.**"
   ]
  }
 ],
 "metadata": {
  "kernelspec": {
   "display_name": "Python 3",
   "language": "python",
   "name": "python3"
  },
  "language_info": {
   "codemirror_mode": {
    "name": "ipython",
    "version": 3
   },
   "file_extension": ".py",
   "mimetype": "text/x-python",
   "name": "python",
   "nbconvert_exporter": "python",
   "pygments_lexer": "ipython3",
   "version": "3.8.5"
  }
 },
 "nbformat": 4,
 "nbformat_minor": 4
}
