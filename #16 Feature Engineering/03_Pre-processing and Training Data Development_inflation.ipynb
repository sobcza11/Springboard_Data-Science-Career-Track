{
 "cells": [
  {
   "cell_type": "markdown",
   "metadata": {},
   "source": [
    "# 3.Pre-processing and Training Data Development"
   ]
  },
  {
   "cell_type": "markdown",
   "metadata": {},
   "source": [
    "The enclosed represents Chapter 16.3 of the Springboard Data Scientist Career Track. The structure is as follows:\n",
    "   * Creating Dummy Variables\n",
    "   * Splitting the Data into Training & Testing subsets for Machine Learning\n",
    "   * Standardized Scaling\n",
    "\n",
    "I hope this submission shows that I understand when to apply the proper steps.\n",
    "\n",
    "This code is built in Jupyter Notebook & uploaded on Github.\n"
   ]
  },
  {
   "cell_type": "markdown",
   "metadata": {},
   "source": [
    "# Pre work"
   ]
  },
  {
   "cell_type": "markdown",
   "metadata": {},
   "source": [
    "**Importing the relevant libraries to start**"
   ]
  },
  {
   "cell_type": "code",
   "execution_count": 1,
   "metadata": {},
   "outputs": [],
   "source": [
    "#Import the necessary tools required in the correct lines below\n",
    "import pandas as pd\n",
    "import matplotlib.pyplot as plt\n",
    "import matplotlib.colors as colors\n",
    "import seaborn as sns\n",
    "import os\n",
    "import lxml\n",
    "import datetime\n",
    "import requests\n",
    "import json\n",
    "import collections\n",
    "import seaborn as sns\n",
    "from scipy import stats\n",
    "import numpy as np\n"
   ]
  },
  {
   "cell_type": "markdown",
   "metadata": {},
   "source": [
    "# 3.1 Reassessing the input"
   ]
  },
  {
   "cell_type": "markdown",
   "metadata": {},
   "source": [
    "We will import the dataframe from the previous Exploratory Data Analysis ( EDA ) section."
   ]
  },
  {
   "cell_type": "code",
   "execution_count": 2,
   "metadata": {},
   "outputs": [
    {
     "name": "stdout",
     "output_type": "stream",
     "text": [
      "C:\\Users\\rands\n"
     ]
    }
   ],
   "source": [
    "cd"
   ]
  },
  {
   "cell_type": "code",
   "execution_count": 3,
   "metadata": {},
   "outputs": [],
   "source": [
    "df = pd.read_csv('./_Capstone_One_Inflation/data/1.0_MAIN/QonQ_main_roll.csv')"
   ]
  },
  {
   "cell_type": "markdown",
   "metadata": {},
   "source": [
    "As a reminder, the dataframe is composed of a quarterly change ( back ) on both `Inflation` & the Variables. The variables, however, are taking a rolling average. The rational is based on the idea that one of the variables may have had a bad day / week at the end of their respective term. If so, they may not properly display the impact they may have had on `Inflation`.\n",
    "\n",
    "`Inflation` on the other hand, was moderately scraped in one Z-score round."
   ]
  },
  {
   "cell_type": "code",
   "execution_count": 4,
   "metadata": {},
   "outputs": [
    {
     "data": {
      "text/html": [
       "<div>\n",
       "<style scoped>\n",
       "    .dataframe tbody tr th:only-of-type {\n",
       "        vertical-align: middle;\n",
       "    }\n",
       "\n",
       "    .dataframe tbody tr th {\n",
       "        vertical-align: top;\n",
       "    }\n",
       "\n",
       "    .dataframe thead th {\n",
       "        text-align: right;\n",
       "    }\n",
       "</style>\n",
       "<table border=\"1\" class=\"dataframe\">\n",
       "  <thead>\n",
       "    <tr style=\"text-align: right;\">\n",
       "      <th></th>\n",
       "      <th>Date</th>\n",
       "      <th>Inflation</th>\n",
       "      <th>Wages CPI</th>\n",
       "      <th>WTI</th>\n",
       "      <th>Copper</th>\n",
       "      <th>Soybeans</th>\n",
       "      <th>Natural Gas</th>\n",
       "      <th>Heating Oil</th>\n",
       "      <th>Corn</th>\n",
       "      <th>Wheat</th>\n",
       "      <th>...</th>\n",
       "      <th>Lean Hogs</th>\n",
       "      <th>Sugar</th>\n",
       "      <th>Lumber</th>\n",
       "      <th>Capacity Utilization</th>\n",
       "      <th>GDP</th>\n",
       "      <th>M2 Velocity</th>\n",
       "      <th>PMI</th>\n",
       "      <th>USD Index</th>\n",
       "      <th>Initial Jobless Claims</th>\n",
       "      <th>Unemployment Rate</th>\n",
       "    </tr>\n",
       "  </thead>\n",
       "  <tbody>\n",
       "    <tr>\n",
       "      <th>0</th>\n",
       "      <td>2021-02-28 00:00:00</td>\n",
       "      <td>0.501</td>\n",
       "      <td>0.007630</td>\n",
       "      <td>0.294725</td>\n",
       "      <td>0.182753</td>\n",
       "      <td>0.235484</td>\n",
       "      <td>0.039364</td>\n",
       "      <td>0.362725</td>\n",
       "      <td>0.267969</td>\n",
       "      <td>0.081492</td>\n",
       "      <td>...</td>\n",
       "      <td>0.071797</td>\n",
       "      <td>0.153711</td>\n",
       "      <td>0.364326</td>\n",
       "      <td>0.019749</td>\n",
       "      <td>0.015004</td>\n",
       "      <td>-0.012195</td>\n",
       "      <td>2.600000</td>\n",
       "      <td>-0.028476</td>\n",
       "      <td>32916.66667</td>\n",
       "      <td>-0.733333</td>\n",
       "    </tr>\n",
       "    <tr>\n",
       "      <th>1</th>\n",
       "      <td>2021-01-31 00:00:00</td>\n",
       "      <td>0.218</td>\n",
       "      <td>0.006251</td>\n",
       "      <td>0.133619</td>\n",
       "      <td>0.149469</td>\n",
       "      <td>0.247356</td>\n",
       "      <td>0.133913</td>\n",
       "      <td>0.212935</td>\n",
       "      <td>0.244380</td>\n",
       "      <td>0.075828</td>\n",
       "      <td>...</td>\n",
       "      <td>0.083947</td>\n",
       "      <td>0.167539</td>\n",
       "      <td>0.119677</td>\n",
       "      <td>0.026555</td>\n",
       "      <td>0.015004</td>\n",
       "      <td>-0.012195</td>\n",
       "      <td>2.266667</td>\n",
       "      <td>-0.021939</td>\n",
       "      <td>-17083.33333</td>\n",
       "      <td>-1.133333</td>\n",
       "    </tr>\n",
       "    <tr>\n",
       "      <th>2</th>\n",
       "      <td>2020-12-31 00:00:00</td>\n",
       "      <td>-0.009</td>\n",
       "      <td>0.006591</td>\n",
       "      <td>0.045217</td>\n",
       "      <td>0.110950</td>\n",
       "      <td>0.212504</td>\n",
       "      <td>0.331085</td>\n",
       "      <td>0.075287</td>\n",
       "      <td>0.227807</td>\n",
       "      <td>0.121747</td>\n",
       "      <td>...</td>\n",
       "      <td>0.251831</td>\n",
       "      <td>0.183723</td>\n",
       "      <td>0.017824</td>\n",
       "      <td>0.022883</td>\n",
       "      <td>0.015004</td>\n",
       "      <td>-0.012195</td>\n",
       "      <td>4.000000</td>\n",
       "      <td>-0.020209</td>\n",
       "      <td>-234000.00000</td>\n",
       "      <td>-2.033333</td>\n",
       "    </tr>\n",
       "    <tr>\n",
       "      <th>3</th>\n",
       "      <td>2020-11-30 00:00:00</td>\n",
       "      <td>-0.135</td>\n",
       "      <td>0.009198</td>\n",
       "      <td>0.012381</td>\n",
       "      <td>0.111624</td>\n",
       "      <td>0.189713</td>\n",
       "      <td>0.400814</td>\n",
       "      <td>-0.024694</td>\n",
       "      <td>0.194635</td>\n",
       "      <td>0.137836</td>\n",
       "      <td>...</td>\n",
       "      <td>0.340989</td>\n",
       "      <td>0.145086</td>\n",
       "      <td>0.352576</td>\n",
       "      <td>0.030228</td>\n",
       "      <td>0.015004</td>\n",
       "      <td>-0.012195</td>\n",
       "      <td>3.566667</td>\n",
       "      <td>-0.022875</td>\n",
       "      <td>-412333.33330</td>\n",
       "      <td>-2.766667</td>\n",
       "    </tr>\n",
       "    <tr>\n",
       "      <th>4</th>\n",
       "      <td>2020-10-31 00:00:00</td>\n",
       "      <td>0.196</td>\n",
       "      <td>0.012842</td>\n",
       "      <td>0.268018</td>\n",
       "      <td>0.150999</td>\n",
       "      <td>0.135852</td>\n",
       "      <td>0.421347</td>\n",
       "      <td>0.081213</td>\n",
       "      <td>0.128424</td>\n",
       "      <td>0.112240</td>\n",
       "      <td>...</td>\n",
       "      <td>0.221210</td>\n",
       "      <td>0.164845</td>\n",
       "      <td>0.733392</td>\n",
       "      <td>0.063448</td>\n",
       "      <td>0.015004</td>\n",
       "      <td>-0.012195</td>\n",
       "      <td>7.033333</td>\n",
       "      <td>-0.042067</td>\n",
       "      <td>-604333.33330</td>\n",
       "      <td>-3.833333</td>\n",
       "    </tr>\n",
       "  </tbody>\n",
       "</table>\n",
       "<p>5 rows × 21 columns</p>\n",
       "</div>"
      ],
      "text/plain": [
       "                  Date  Inflation  Wages CPI       WTI    Copper  Soybeans  \\\n",
       "0  2021-02-28 00:00:00      0.501   0.007630  0.294725  0.182753  0.235484   \n",
       "1  2021-01-31 00:00:00      0.218   0.006251  0.133619  0.149469  0.247356   \n",
       "2  2020-12-31 00:00:00     -0.009   0.006591  0.045217  0.110950  0.212504   \n",
       "3  2020-11-30 00:00:00     -0.135   0.009198  0.012381  0.111624  0.189713   \n",
       "4  2020-10-31 00:00:00      0.196   0.012842  0.268018  0.150999  0.135852   \n",
       "\n",
       "   Natural Gas  Heating Oil      Corn     Wheat  ...  Lean Hogs     Sugar  \\\n",
       "0     0.039364     0.362725  0.267969  0.081492  ...   0.071797  0.153711   \n",
       "1     0.133913     0.212935  0.244380  0.075828  ...   0.083947  0.167539   \n",
       "2     0.331085     0.075287  0.227807  0.121747  ...   0.251831  0.183723   \n",
       "3     0.400814    -0.024694  0.194635  0.137836  ...   0.340989  0.145086   \n",
       "4     0.421347     0.081213  0.128424  0.112240  ...   0.221210  0.164845   \n",
       "\n",
       "     Lumber  Capacity Utilization       GDP  M2 Velocity       PMI  USD Index  \\\n",
       "0  0.364326              0.019749  0.015004    -0.012195  2.600000  -0.028476   \n",
       "1  0.119677              0.026555  0.015004    -0.012195  2.266667  -0.021939   \n",
       "2  0.017824              0.022883  0.015004    -0.012195  4.000000  -0.020209   \n",
       "3  0.352576              0.030228  0.015004    -0.012195  3.566667  -0.022875   \n",
       "4  0.733392              0.063448  0.015004    -0.012195  7.033333  -0.042067   \n",
       "\n",
       "   Initial Jobless Claims  Unemployment Rate  \n",
       "0             32916.66667          -0.733333  \n",
       "1            -17083.33333          -1.133333  \n",
       "2           -234000.00000          -2.033333  \n",
       "3           -412333.33330          -2.766667  \n",
       "4           -604333.33330          -3.833333  \n",
       "\n",
       "[5 rows x 21 columns]"
      ]
     },
     "execution_count": 4,
     "metadata": {},
     "output_type": "execute_result"
    }
   ],
   "source": [
    "df.head()"
   ]
  },
  {
   "cell_type": "markdown",
   "metadata": {},
   "source": [
    "Per below, they have been scraped ( i.e. no null values ) & they all came in from the the API as floats ( which we want ). The `Date` is the only non-float variable."
   ]
  },
  {
   "cell_type": "code",
   "execution_count": 5,
   "metadata": {},
   "outputs": [
    {
     "name": "stdout",
     "output_type": "stream",
     "text": [
      "<class 'pandas.core.frame.DataFrame'>\n",
      "RangeIndex: 312 entries, 0 to 311\n",
      "Data columns (total 21 columns):\n",
      " #   Column                  Non-Null Count  Dtype  \n",
      "---  ------                  --------------  -----  \n",
      " 0   Date                    312 non-null    object \n",
      " 1   Inflation               312 non-null    float64\n",
      " 2   Wages CPI               312 non-null    float64\n",
      " 3   WTI                     312 non-null    float64\n",
      " 4   Copper                  312 non-null    float64\n",
      " 5   Soybeans                312 non-null    float64\n",
      " 6   Natural Gas             312 non-null    float64\n",
      " 7   Heating Oil             312 non-null    float64\n",
      " 8   Corn                    312 non-null    float64\n",
      " 9   Wheat                   312 non-null    float64\n",
      " 10  Cattle                  312 non-null    float64\n",
      " 11  Lean Hogs               312 non-null    float64\n",
      " 12  Sugar                   312 non-null    float64\n",
      " 13  Lumber                  312 non-null    float64\n",
      " 14  Capacity Utilization    312 non-null    float64\n",
      " 15  GDP                     312 non-null    float64\n",
      " 16  M2 Velocity             312 non-null    float64\n",
      " 17  PMI                     312 non-null    float64\n",
      " 18  USD Index               312 non-null    float64\n",
      " 19  Initial Jobless Claims  312 non-null    float64\n",
      " 20  Unemployment Rate       312 non-null    float64\n",
      "dtypes: float64(20), object(1)\n",
      "memory usage: 51.3+ KB\n"
     ]
    }
   ],
   "source": [
    "df.info()"
   ]
  },
  {
   "cell_type": "code",
   "execution_count": 6,
   "metadata": {},
   "outputs": [
    {
     "data": {
      "text/plain": [
       "(312, 21)"
      ]
     },
     "execution_count": 6,
     "metadata": {},
     "output_type": "execute_result"
    }
   ],
   "source": [
    "df.shape"
   ]
  },
  {
   "cell_type": "code",
   "execution_count": 7,
   "metadata": {},
   "outputs": [
    {
     "data": {
      "text/html": [
       "<div>\n",
       "<style scoped>\n",
       "    .dataframe tbody tr th:only-of-type {\n",
       "        vertical-align: middle;\n",
       "    }\n",
       "\n",
       "    .dataframe tbody tr th {\n",
       "        vertical-align: top;\n",
       "    }\n",
       "\n",
       "    .dataframe thead th {\n",
       "        text-align: right;\n",
       "    }\n",
       "</style>\n",
       "<table border=\"1\" class=\"dataframe\">\n",
       "  <thead>\n",
       "    <tr style=\"text-align: right;\">\n",
       "      <th></th>\n",
       "      <th>Inflation</th>\n",
       "      <th>Wages CPI</th>\n",
       "      <th>WTI</th>\n",
       "      <th>Copper</th>\n",
       "      <th>Soybeans</th>\n",
       "      <th>Natural Gas</th>\n",
       "      <th>Heating Oil</th>\n",
       "      <th>Corn</th>\n",
       "      <th>Wheat</th>\n",
       "      <th>Cattle</th>\n",
       "      <th>Lean Hogs</th>\n",
       "      <th>Sugar</th>\n",
       "      <th>Lumber</th>\n",
       "      <th>Capacity Utilization</th>\n",
       "      <th>GDP</th>\n",
       "      <th>M2 Velocity</th>\n",
       "      <th>PMI</th>\n",
       "      <th>USD Index</th>\n",
       "      <th>Initial Jobless Claims</th>\n",
       "      <th>Unemployment Rate</th>\n",
       "    </tr>\n",
       "  </thead>\n",
       "  <tbody>\n",
       "    <tr>\n",
       "      <th>count</th>\n",
       "      <td>312.000000</td>\n",
       "      <td>312.000000</td>\n",
       "      <td>312.000000</td>\n",
       "      <td>312.000000</td>\n",
       "      <td>312.000000</td>\n",
       "      <td>312.000000</td>\n",
       "      <td>312.000000</td>\n",
       "      <td>312.000000</td>\n",
       "      <td>312.000000</td>\n",
       "      <td>312.000000</td>\n",
       "      <td>312.000000</td>\n",
       "      <td>312.000000</td>\n",
       "      <td>312.000000</td>\n",
       "      <td>312.000000</td>\n",
       "      <td>312.000000</td>\n",
       "      <td>312.000000</td>\n",
       "      <td>312.000000</td>\n",
       "      <td>312.000000</td>\n",
       "      <td>3.120000e+02</td>\n",
       "      <td>312.000000</td>\n",
       "    </tr>\n",
       "    <tr>\n",
       "      <th>mean</th>\n",
       "      <td>-0.030804</td>\n",
       "      <td>0.005489</td>\n",
       "      <td>0.020214</td>\n",
       "      <td>0.019810</td>\n",
       "      <td>0.012885</td>\n",
       "      <td>0.035417</td>\n",
       "      <td>0.019414</td>\n",
       "      <td>0.014929</td>\n",
       "      <td>0.016604</td>\n",
       "      <td>0.006404</td>\n",
       "      <td>0.018066</td>\n",
       "      <td>0.019915</td>\n",
       "      <td>0.028027</td>\n",
       "      <td>-0.000384</td>\n",
       "      <td>0.010657</td>\n",
       "      <td>-0.004439</td>\n",
       "      <td>0.073184</td>\n",
       "      <td>0.000752</td>\n",
       "      <td>3.685096e+03</td>\n",
       "      <td>0.006090</td>\n",
       "    </tr>\n",
       "    <tr>\n",
       "      <th>std</th>\n",
       "      <td>0.827474</td>\n",
       "      <td>0.005800</td>\n",
       "      <td>0.150741</td>\n",
       "      <td>0.120212</td>\n",
       "      <td>0.098168</td>\n",
       "      <td>0.197019</td>\n",
       "      <td>0.137546</td>\n",
       "      <td>0.122589</td>\n",
       "      <td>0.109806</td>\n",
       "      <td>0.066072</td>\n",
       "      <td>0.140843</td>\n",
       "      <td>0.147224</td>\n",
       "      <td>0.157614</td>\n",
       "      <td>0.017885</td>\n",
       "      <td>0.014045</td>\n",
       "      <td>0.022552</td>\n",
       "      <td>2.960773</td>\n",
       "      <td>0.034428</td>\n",
       "      <td>3.034924e+05</td>\n",
       "      <td>0.880617</td>\n",
       "    </tr>\n",
       "    <tr>\n",
       "      <th>min</th>\n",
       "      <td>-4.846000</td>\n",
       "      <td>-0.034864</td>\n",
       "      <td>-0.528002</td>\n",
       "      <td>-0.490200</td>\n",
       "      <td>-0.327256</td>\n",
       "      <td>-0.378821</td>\n",
       "      <td>-0.456848</td>\n",
       "      <td>-0.340215</td>\n",
       "      <td>-0.299369</td>\n",
       "      <td>-0.209991</td>\n",
       "      <td>-0.322853</td>\n",
       "      <td>-0.362170</td>\n",
       "      <td>-0.318534</td>\n",
       "      <td>-0.128528</td>\n",
       "      <td>-0.094662</td>\n",
       "      <td>-0.200725</td>\n",
       "      <td>-11.833333</td>\n",
       "      <td>-0.072180</td>\n",
       "      <td>-2.430333e+06</td>\n",
       "      <td>-4.266667</td>\n",
       "    </tr>\n",
       "    <tr>\n",
       "      <th>25%</th>\n",
       "      <td>-0.387750</td>\n",
       "      <td>0.003967</td>\n",
       "      <td>-0.057181</td>\n",
       "      <td>-0.050026</td>\n",
       "      <td>-0.041698</td>\n",
       "      <td>-0.088850</td>\n",
       "      <td>-0.050995</td>\n",
       "      <td>-0.056145</td>\n",
       "      <td>-0.055938</td>\n",
       "      <td>-0.039485</td>\n",
       "      <td>-0.075435</td>\n",
       "      <td>-0.080698</td>\n",
       "      <td>-0.073570</td>\n",
       "      <td>-0.004309</td>\n",
       "      <td>0.008557</td>\n",
       "      <td>-0.007373</td>\n",
       "      <td>-1.700000</td>\n",
       "      <td>-0.024314</td>\n",
       "      <td>-9.958333e+03</td>\n",
       "      <td>-0.200000</td>\n",
       "    </tr>\n",
       "    <tr>\n",
       "      <th>50%</th>\n",
       "      <td>-0.025500</td>\n",
       "      <td>0.006300</td>\n",
       "      <td>0.025297</td>\n",
       "      <td>0.009065</td>\n",
       "      <td>0.006706</td>\n",
       "      <td>0.007933</td>\n",
       "      <td>0.020651</td>\n",
       "      <td>0.005665</td>\n",
       "      <td>0.006844</td>\n",
       "      <td>0.011647</td>\n",
       "      <td>0.007895</td>\n",
       "      <td>-0.010051</td>\n",
       "      <td>0.016908</td>\n",
       "      <td>0.001742</td>\n",
       "      <td>0.011626</td>\n",
       "      <td>-0.002556</td>\n",
       "      <td>-0.100000</td>\n",
       "      <td>0.000669</td>\n",
       "      <td>-2.625000e+03</td>\n",
       "      <td>-0.066667</td>\n",
       "    </tr>\n",
       "    <tr>\n",
       "      <th>75%</th>\n",
       "      <td>0.333250</td>\n",
       "      <td>0.008169</td>\n",
       "      <td>0.115388</td>\n",
       "      <td>0.086206</td>\n",
       "      <td>0.061490</td>\n",
       "      <td>0.157548</td>\n",
       "      <td>0.104415</td>\n",
       "      <td>0.076297</td>\n",
       "      <td>0.078351</td>\n",
       "      <td>0.055361</td>\n",
       "      <td>0.113479</td>\n",
       "      <td>0.100615</td>\n",
       "      <td>0.112200</td>\n",
       "      <td>0.006261</td>\n",
       "      <td>0.014817</td>\n",
       "      <td>0.003964</td>\n",
       "      <td>1.675000</td>\n",
       "      <td>0.021954</td>\n",
       "      <td>5.166667e+03</td>\n",
       "      <td>0.066667</td>\n",
       "    </tr>\n",
       "    <tr>\n",
       "      <th>max</th>\n",
       "      <td>4.007000</td>\n",
       "      <td>0.023370</td>\n",
       "      <td>0.586463</td>\n",
       "      <td>0.496467</td>\n",
       "      <td>0.288663</td>\n",
       "      <td>0.629854</td>\n",
       "      <td>0.362725</td>\n",
       "      <td>0.475869</td>\n",
       "      <td>0.443412</td>\n",
       "      <td>0.165321</td>\n",
       "      <td>0.376706</td>\n",
       "      <td>0.604139</td>\n",
       "      <td>0.931183</td>\n",
       "      <td>0.096035</td>\n",
       "      <td>0.084535</td>\n",
       "      <td>0.040798</td>\n",
       "      <td>10.666667</td>\n",
       "      <td>0.118429</td>\n",
       "      <td>3.365750e+06</td>\n",
       "      <td>9.266667</td>\n",
       "    </tr>\n",
       "  </tbody>\n",
       "</table>\n",
       "</div>"
      ],
      "text/plain": [
       "        Inflation   Wages CPI         WTI      Copper    Soybeans  \\\n",
       "count  312.000000  312.000000  312.000000  312.000000  312.000000   \n",
       "mean    -0.030804    0.005489    0.020214    0.019810    0.012885   \n",
       "std      0.827474    0.005800    0.150741    0.120212    0.098168   \n",
       "min     -4.846000   -0.034864   -0.528002   -0.490200   -0.327256   \n",
       "25%     -0.387750    0.003967   -0.057181   -0.050026   -0.041698   \n",
       "50%     -0.025500    0.006300    0.025297    0.009065    0.006706   \n",
       "75%      0.333250    0.008169    0.115388    0.086206    0.061490   \n",
       "max      4.007000    0.023370    0.586463    0.496467    0.288663   \n",
       "\n",
       "       Natural Gas  Heating Oil        Corn       Wheat      Cattle  \\\n",
       "count   312.000000   312.000000  312.000000  312.000000  312.000000   \n",
       "mean      0.035417     0.019414    0.014929    0.016604    0.006404   \n",
       "std       0.197019     0.137546    0.122589    0.109806    0.066072   \n",
       "min      -0.378821    -0.456848   -0.340215   -0.299369   -0.209991   \n",
       "25%      -0.088850    -0.050995   -0.056145   -0.055938   -0.039485   \n",
       "50%       0.007933     0.020651    0.005665    0.006844    0.011647   \n",
       "75%       0.157548     0.104415    0.076297    0.078351    0.055361   \n",
       "max       0.629854     0.362725    0.475869    0.443412    0.165321   \n",
       "\n",
       "        Lean Hogs       Sugar      Lumber  Capacity Utilization         GDP  \\\n",
       "count  312.000000  312.000000  312.000000            312.000000  312.000000   \n",
       "mean     0.018066    0.019915    0.028027             -0.000384    0.010657   \n",
       "std      0.140843    0.147224    0.157614              0.017885    0.014045   \n",
       "min     -0.322853   -0.362170   -0.318534             -0.128528   -0.094662   \n",
       "25%     -0.075435   -0.080698   -0.073570             -0.004309    0.008557   \n",
       "50%      0.007895   -0.010051    0.016908              0.001742    0.011626   \n",
       "75%      0.113479    0.100615    0.112200              0.006261    0.014817   \n",
       "max      0.376706    0.604139    0.931183              0.096035    0.084535   \n",
       "\n",
       "       M2 Velocity         PMI   USD Index  Initial Jobless Claims  \\\n",
       "count   312.000000  312.000000  312.000000            3.120000e+02   \n",
       "mean     -0.004439    0.073184    0.000752            3.685096e+03   \n",
       "std       0.022552    2.960773    0.034428            3.034924e+05   \n",
       "min      -0.200725  -11.833333   -0.072180           -2.430333e+06   \n",
       "25%      -0.007373   -1.700000   -0.024314           -9.958333e+03   \n",
       "50%      -0.002556   -0.100000    0.000669           -2.625000e+03   \n",
       "75%       0.003964    1.675000    0.021954            5.166667e+03   \n",
       "max       0.040798   10.666667    0.118429            3.365750e+06   \n",
       "\n",
       "       Unemployment Rate  \n",
       "count         312.000000  \n",
       "mean            0.006090  \n",
       "std             0.880617  \n",
       "min            -4.266667  \n",
       "25%            -0.200000  \n",
       "50%            -0.066667  \n",
       "75%             0.066667  \n",
       "max             9.266667  "
      ]
     },
     "execution_count": 7,
     "metadata": {},
     "output_type": "execute_result"
    }
   ],
   "source": [
    "df.describe()"
   ]
  },
  {
   "cell_type": "markdown",
   "metadata": {},
   "source": [
    "# 3.2 Creating Dummy Variables"
   ]
  },
  {
   "cell_type": "code",
   "execution_count": 8,
   "metadata": {},
   "outputs": [],
   "source": [
    "df_dummies = pd.get_dummies( df, columns=['Inflation'], prefix='D' )"
   ]
  },
  {
   "cell_type": "code",
   "execution_count": 9,
   "metadata": {},
   "outputs": [
    {
     "data": {
      "text/html": [
       "<div>\n",
       "<style scoped>\n",
       "    .dataframe tbody tr th:only-of-type {\n",
       "        vertical-align: middle;\n",
       "    }\n",
       "\n",
       "    .dataframe tbody tr th {\n",
       "        vertical-align: top;\n",
       "    }\n",
       "\n",
       "    .dataframe thead th {\n",
       "        text-align: right;\n",
       "    }\n",
       "</style>\n",
       "<table border=\"1\" class=\"dataframe\">\n",
       "  <thead>\n",
       "    <tr style=\"text-align: right;\">\n",
       "      <th></th>\n",
       "      <th>Date</th>\n",
       "      <th>Wages CPI</th>\n",
       "      <th>WTI</th>\n",
       "      <th>Copper</th>\n",
       "      <th>Soybeans</th>\n",
       "      <th>Natural Gas</th>\n",
       "      <th>Heating Oil</th>\n",
       "      <th>Corn</th>\n",
       "      <th>Wheat</th>\n",
       "      <th>Cattle</th>\n",
       "      <th>...</th>\n",
       "      <th>D_1.4609999999999999</th>\n",
       "      <th>D_1.5290000000000001</th>\n",
       "      <th>D_1.5319999999999998</th>\n",
       "      <th>D_1.663</th>\n",
       "      <th>D_1.9140000000000001</th>\n",
       "      <th>D_2.157</th>\n",
       "      <th>D_2.336</th>\n",
       "      <th>D_2.8089999999999997</th>\n",
       "      <th>D_3.322</th>\n",
       "      <th>D_4.007</th>\n",
       "    </tr>\n",
       "  </thead>\n",
       "  <tbody>\n",
       "    <tr>\n",
       "      <th>0</th>\n",
       "      <td>2021-02-28 00:00:00</td>\n",
       "      <td>0.007630</td>\n",
       "      <td>0.294725</td>\n",
       "      <td>0.182753</td>\n",
       "      <td>0.235484</td>\n",
       "      <td>0.039364</td>\n",
       "      <td>0.362725</td>\n",
       "      <td>0.267969</td>\n",
       "      <td>0.081492</td>\n",
       "      <td>0.056126</td>\n",
       "      <td>...</td>\n",
       "      <td>0</td>\n",
       "      <td>0</td>\n",
       "      <td>0</td>\n",
       "      <td>0</td>\n",
       "      <td>0</td>\n",
       "      <td>0</td>\n",
       "      <td>0</td>\n",
       "      <td>0</td>\n",
       "      <td>0</td>\n",
       "      <td>0</td>\n",
       "    </tr>\n",
       "    <tr>\n",
       "      <th>1</th>\n",
       "      <td>2021-01-31 00:00:00</td>\n",
       "      <td>0.006251</td>\n",
       "      <td>0.133619</td>\n",
       "      <td>0.149469</td>\n",
       "      <td>0.247356</td>\n",
       "      <td>0.133913</td>\n",
       "      <td>0.212935</td>\n",
       "      <td>0.244380</td>\n",
       "      <td>0.075828</td>\n",
       "      <td>0.052881</td>\n",
       "      <td>...</td>\n",
       "      <td>0</td>\n",
       "      <td>0</td>\n",
       "      <td>0</td>\n",
       "      <td>0</td>\n",
       "      <td>0</td>\n",
       "      <td>0</td>\n",
       "      <td>0</td>\n",
       "      <td>0</td>\n",
       "      <td>0</td>\n",
       "      <td>0</td>\n",
       "    </tr>\n",
       "  </tbody>\n",
       "</table>\n",
       "<p>2 rows × 307 columns</p>\n",
       "</div>"
      ],
      "text/plain": [
       "                  Date  Wages CPI       WTI    Copper  Soybeans  Natural Gas  \\\n",
       "0  2021-02-28 00:00:00   0.007630  0.294725  0.182753  0.235484     0.039364   \n",
       "1  2021-01-31 00:00:00   0.006251  0.133619  0.149469  0.247356     0.133913   \n",
       "\n",
       "   Heating Oil      Corn     Wheat    Cattle  ...  D_1.4609999999999999  \\\n",
       "0     0.362725  0.267969  0.081492  0.056126  ...                     0   \n",
       "1     0.212935  0.244380  0.075828  0.052881  ...                     0   \n",
       "\n",
       "   D_1.5290000000000001  D_1.5319999999999998  D_1.663  D_1.9140000000000001  \\\n",
       "0                     0                     0        0                     0   \n",
       "1                     0                     0        0                     0   \n",
       "\n",
       "   D_2.157  D_2.336  D_2.8089999999999997  D_3.322  D_4.007  \n",
       "0        0        0                     0        0        0  \n",
       "1        0        0                     0        0        0  \n",
       "\n",
       "[2 rows x 307 columns]"
      ]
     },
     "execution_count": 9,
     "metadata": {},
     "output_type": "execute_result"
    }
   ],
   "source": [
    "df_dummies.head(2)"
   ]
  },
  {
   "cell_type": "code",
   "execution_count": 10,
   "metadata": {
    "scrolled": true
   },
   "outputs": [
    {
     "data": {
      "text/html": [
       "<div>\n",
       "<style scoped>\n",
       "    .dataframe tbody tr th:only-of-type {\n",
       "        vertical-align: middle;\n",
       "    }\n",
       "\n",
       "    .dataframe tbody tr th {\n",
       "        vertical-align: top;\n",
       "    }\n",
       "\n",
       "    .dataframe thead th {\n",
       "        text-align: right;\n",
       "    }\n",
       "</style>\n",
       "<table border=\"1\" class=\"dataframe\">\n",
       "  <thead>\n",
       "    <tr style=\"text-align: right;\">\n",
       "      <th></th>\n",
       "      <th>Date</th>\n",
       "      <th>Inflation</th>\n",
       "      <th>Wages CPI</th>\n",
       "      <th>WTI</th>\n",
       "      <th>Copper</th>\n",
       "      <th>Soybeans</th>\n",
       "      <th>Natural Gas</th>\n",
       "      <th>Heating Oil</th>\n",
       "      <th>Corn</th>\n",
       "      <th>Wheat</th>\n",
       "      <th>...</th>\n",
       "      <th>Lean Hogs</th>\n",
       "      <th>Sugar</th>\n",
       "      <th>Lumber</th>\n",
       "      <th>Capacity Utilization</th>\n",
       "      <th>GDP</th>\n",
       "      <th>M2 Velocity</th>\n",
       "      <th>PMI</th>\n",
       "      <th>USD Index</th>\n",
       "      <th>Initial Jobless Claims</th>\n",
       "      <th>Unemployment Rate</th>\n",
       "    </tr>\n",
       "  </thead>\n",
       "  <tbody>\n",
       "    <tr>\n",
       "      <th>0</th>\n",
       "      <td>2021-02-28 00:00:00</td>\n",
       "      <td>0.501</td>\n",
       "      <td>0.007630</td>\n",
       "      <td>0.294725</td>\n",
       "      <td>0.182753</td>\n",
       "      <td>0.235484</td>\n",
       "      <td>0.039364</td>\n",
       "      <td>0.362725</td>\n",
       "      <td>0.267969</td>\n",
       "      <td>0.081492</td>\n",
       "      <td>...</td>\n",
       "      <td>0.071797</td>\n",
       "      <td>0.153711</td>\n",
       "      <td>0.364326</td>\n",
       "      <td>0.019749</td>\n",
       "      <td>0.015004</td>\n",
       "      <td>-0.012195</td>\n",
       "      <td>2.600000</td>\n",
       "      <td>-0.028476</td>\n",
       "      <td>32916.66667</td>\n",
       "      <td>-0.733333</td>\n",
       "    </tr>\n",
       "    <tr>\n",
       "      <th>1</th>\n",
       "      <td>2021-01-31 00:00:00</td>\n",
       "      <td>0.218</td>\n",
       "      <td>0.006251</td>\n",
       "      <td>0.133619</td>\n",
       "      <td>0.149469</td>\n",
       "      <td>0.247356</td>\n",
       "      <td>0.133913</td>\n",
       "      <td>0.212935</td>\n",
       "      <td>0.244380</td>\n",
       "      <td>0.075828</td>\n",
       "      <td>...</td>\n",
       "      <td>0.083947</td>\n",
       "      <td>0.167539</td>\n",
       "      <td>0.119677</td>\n",
       "      <td>0.026555</td>\n",
       "      <td>0.015004</td>\n",
       "      <td>-0.012195</td>\n",
       "      <td>2.266667</td>\n",
       "      <td>-0.021939</td>\n",
       "      <td>-17083.33333</td>\n",
       "      <td>-1.133333</td>\n",
       "    </tr>\n",
       "    <tr>\n",
       "      <th>2</th>\n",
       "      <td>2020-12-31 00:00:00</td>\n",
       "      <td>-0.009</td>\n",
       "      <td>0.006591</td>\n",
       "      <td>0.045217</td>\n",
       "      <td>0.110950</td>\n",
       "      <td>0.212504</td>\n",
       "      <td>0.331085</td>\n",
       "      <td>0.075287</td>\n",
       "      <td>0.227807</td>\n",
       "      <td>0.121747</td>\n",
       "      <td>...</td>\n",
       "      <td>0.251831</td>\n",
       "      <td>0.183723</td>\n",
       "      <td>0.017824</td>\n",
       "      <td>0.022883</td>\n",
       "      <td>0.015004</td>\n",
       "      <td>-0.012195</td>\n",
       "      <td>4.000000</td>\n",
       "      <td>-0.020209</td>\n",
       "      <td>-234000.00000</td>\n",
       "      <td>-2.033333</td>\n",
       "    </tr>\n",
       "    <tr>\n",
       "      <th>3</th>\n",
       "      <td>2020-11-30 00:00:00</td>\n",
       "      <td>-0.135</td>\n",
       "      <td>0.009198</td>\n",
       "      <td>0.012381</td>\n",
       "      <td>0.111624</td>\n",
       "      <td>0.189713</td>\n",
       "      <td>0.400814</td>\n",
       "      <td>-0.024694</td>\n",
       "      <td>0.194635</td>\n",
       "      <td>0.137836</td>\n",
       "      <td>...</td>\n",
       "      <td>0.340989</td>\n",
       "      <td>0.145086</td>\n",
       "      <td>0.352576</td>\n",
       "      <td>0.030228</td>\n",
       "      <td>0.015004</td>\n",
       "      <td>-0.012195</td>\n",
       "      <td>3.566667</td>\n",
       "      <td>-0.022875</td>\n",
       "      <td>-412333.33330</td>\n",
       "      <td>-2.766667</td>\n",
       "    </tr>\n",
       "    <tr>\n",
       "      <th>4</th>\n",
       "      <td>2020-10-31 00:00:00</td>\n",
       "      <td>0.196</td>\n",
       "      <td>0.012842</td>\n",
       "      <td>0.268018</td>\n",
       "      <td>0.150999</td>\n",
       "      <td>0.135852</td>\n",
       "      <td>0.421347</td>\n",
       "      <td>0.081213</td>\n",
       "      <td>0.128424</td>\n",
       "      <td>0.112240</td>\n",
       "      <td>...</td>\n",
       "      <td>0.221210</td>\n",
       "      <td>0.164845</td>\n",
       "      <td>0.733392</td>\n",
       "      <td>0.063448</td>\n",
       "      <td>0.015004</td>\n",
       "      <td>-0.012195</td>\n",
       "      <td>7.033333</td>\n",
       "      <td>-0.042067</td>\n",
       "      <td>-604333.33330</td>\n",
       "      <td>-3.833333</td>\n",
       "    </tr>\n",
       "  </tbody>\n",
       "</table>\n",
       "<p>5 rows × 21 columns</p>\n",
       "</div>"
      ],
      "text/plain": [
       "                  Date  Inflation  Wages CPI       WTI    Copper  Soybeans  \\\n",
       "0  2021-02-28 00:00:00      0.501   0.007630  0.294725  0.182753  0.235484   \n",
       "1  2021-01-31 00:00:00      0.218   0.006251  0.133619  0.149469  0.247356   \n",
       "2  2020-12-31 00:00:00     -0.009   0.006591  0.045217  0.110950  0.212504   \n",
       "3  2020-11-30 00:00:00     -0.135   0.009198  0.012381  0.111624  0.189713   \n",
       "4  2020-10-31 00:00:00      0.196   0.012842  0.268018  0.150999  0.135852   \n",
       "\n",
       "   Natural Gas  Heating Oil      Corn     Wheat  ...  Lean Hogs     Sugar  \\\n",
       "0     0.039364     0.362725  0.267969  0.081492  ...   0.071797  0.153711   \n",
       "1     0.133913     0.212935  0.244380  0.075828  ...   0.083947  0.167539   \n",
       "2     0.331085     0.075287  0.227807  0.121747  ...   0.251831  0.183723   \n",
       "3     0.400814    -0.024694  0.194635  0.137836  ...   0.340989  0.145086   \n",
       "4     0.421347     0.081213  0.128424  0.112240  ...   0.221210  0.164845   \n",
       "\n",
       "     Lumber  Capacity Utilization       GDP  M2 Velocity       PMI  USD Index  \\\n",
       "0  0.364326              0.019749  0.015004    -0.012195  2.600000  -0.028476   \n",
       "1  0.119677              0.026555  0.015004    -0.012195  2.266667  -0.021939   \n",
       "2  0.017824              0.022883  0.015004    -0.012195  4.000000  -0.020209   \n",
       "3  0.352576              0.030228  0.015004    -0.012195  3.566667  -0.022875   \n",
       "4  0.733392              0.063448  0.015004    -0.012195  7.033333  -0.042067   \n",
       "\n",
       "   Initial Jobless Claims  Unemployment Rate  \n",
       "0             32916.66667          -0.733333  \n",
       "1            -17083.33333          -1.133333  \n",
       "2           -234000.00000          -2.033333  \n",
       "3           -412333.33330          -2.766667  \n",
       "4           -604333.33330          -3.833333  \n",
       "\n",
       "[5 rows x 21 columns]"
      ]
     },
     "execution_count": 10,
     "metadata": {},
     "output_type": "execute_result"
    }
   ],
   "source": [
    "df.head()"
   ]
  },
  {
   "cell_type": "markdown",
   "metadata": {},
   "source": [
    "While we knew going into the process that the entire data set is composed of \"non categorical\" data, notably floats, we undertook dummy variable creation process to double confirm.\n",
    "\n",
    "**We will proceed forward without the dummy variables.**"
   ]
  },
  {
   "cell_type": "markdown",
   "metadata": {},
   "source": [
    "# 3.3 Split data into training and testing subsets"
   ]
  },
  {
   "cell_type": "markdown",
   "metadata": {},
   "source": [
    "We will now undertake the train / test split. Please note, there are three ( 3 ) scaling approaches ( next section ). Therefore, we will do one ( 1 ) main split but assign the `Train` & `Test` splits to each of the scaling approaches individually; in other words, each one will have its own data frame.\n",
    "\n",
    "Listed below is a summary of the scaling names, the approach & the name of the respective data frames which we will formalize in the next section. Each will have a train test split formalized here:\n",
    "\n",
    "   * **Standardization**\n",
    "      * This approach finds the mean of the data, assigns that as Zero & the values presented are standard deviated moves\n",
    "      * Data Frame Name  |  `_SS`   \n",
    "   * **MinMaxScaler** ( often called Normalization )\n",
    "      * This approach reassigns the values from 0 -> 1\n",
    "      * Data Frame Name  |  `_MM`\n",
    "   * **Log Transformation**\n",
    "      * This approach usually is used with data that has long tails\n",
    "      * Data Frame Name  |  `_LG`\n",
    "\n",
    "The creation of these train / test splits will start here but before we proceed we will need to import the necessary libraries."
   ]
  },
  {
   "cell_type": "code",
   "execution_count": 11,
   "metadata": {},
   "outputs": [],
   "source": [
    "# from library.sb_utils import save_file\n",
    "from sklearn import __version__ as sklearn_version\n",
    "from sklearn.decomposition import PCA\n",
    "from sklearn.preprocessing import scale\n",
    "from sklearn.model_selection import train_test_split, cross_validate, GridSearchCV, learning_curve\n",
    "from sklearn.dummy import DummyRegressor\n",
    "from sklearn.linear_model import LinearRegression\n",
    "from sklearn.linear_model import LogisticRegression\n",
    "from sklearn.ensemble import RandomForestRegressor\n",
    "from sklearn.metrics import r2_score, mean_squared_error, mean_absolute_error\n",
    "from sklearn.pipeline import make_pipeline\n",
    "from sklearn.impute import SimpleImputer\n",
    "from sklearn.feature_selection import SelectKBest, f_regression\n"
   ]
  },
  {
   "cell_type": "markdown",
   "metadata": {},
   "source": [
    "**Train test split**"
   ]
  },
  {
   "cell_type": "markdown",
   "metadata": {},
   "source": [
    "To begin, let's see what a `70% / 30% Train/Test Split` looks like."
   ]
  },
  {
   "cell_type": "code",
   "execution_count": 12,
   "metadata": {},
   "outputs": [
    {
     "name": "stdout",
     "output_type": "stream",
     "text": [
      " Train | 218.4 \n",
      " Test  | 93.6\n"
     ]
    }
   ],
   "source": [
    "print(' Train |', round(len(df)* 0.7,2), '\\n','Test  |', len(df) * 0.3)"
   ]
  },
  {
   "cell_type": "markdown",
   "metadata": {},
   "source": [
    "Now we have a reference to what the output should look like above. We will now split the data removing `Inflation` as that's the dependant variable."
   ]
  },
  {
   "cell_type": "code",
   "execution_count": 13,
   "metadata": {},
   "outputs": [],
   "source": [
    "X_train, X_test, y_train, y_test = train_test_split(df.drop(columns='Inflation'),\n",
    "                                                    df.Inflation, test_size=0.3,\n",
    "                                                    random_state=42\n",
    "                                                   )"
   ]
  },
  {
   "cell_type": "code",
   "execution_count": 14,
   "metadata": {},
   "outputs": [
    {
     "data": {
      "text/plain": [
       "((218, 20), (94, 20))"
      ]
     },
     "execution_count": 14,
     "metadata": {},
     "output_type": "execute_result"
    }
   ],
   "source": [
    "X_train.shape, X_test.shape"
   ]
  },
  {
   "cell_type": "code",
   "execution_count": 15,
   "metadata": {},
   "outputs": [
    {
     "data": {
      "text/plain": [
       "((218,), (94,))"
      ]
     },
     "execution_count": 15,
     "metadata": {},
     "output_type": "execute_result"
    }
   ],
   "source": [
    "y_train.shape, y_test.shape"
   ]
  },
  {
   "cell_type": "markdown",
   "metadata": {},
   "source": [
    "The above align with the previous review so we will proceed. We will need to remove `Date` as that's not something we will use in our model."
   ]
  },
  {
   "cell_type": "code",
   "execution_count": 16,
   "metadata": {},
   "outputs": [
    {
     "data": {
      "text/plain": [
       "((218, 19), (94, 19))"
      ]
     },
     "execution_count": 16,
     "metadata": {},
     "output_type": "execute_result"
    }
   ],
   "source": [
    "date_list = ['Date']\n",
    "date_train = X_train[['Date']]\n",
    "date_test = X_train[['Date']]\n",
    "\n",
    "X_train.drop(columns=date_list, inplace=True)\n",
    "X_test.drop(columns=date_list, inplace=True)\n",
    "X_train.shape, X_test.shape"
   ]
  },
  {
   "cell_type": "code",
   "execution_count": 17,
   "metadata": {},
   "outputs": [],
   "source": [
    "reg_all = LinearRegression()"
   ]
  },
  {
   "cell_type": "code",
   "execution_count": 18,
   "metadata": {},
   "outputs": [
    {
     "data": {
      "text/plain": [
       "LinearRegression()"
      ]
     },
     "execution_count": 18,
     "metadata": {},
     "output_type": "execute_result"
    }
   ],
   "source": [
    "reg_all.fit(X_train,y_train)"
   ]
  },
  {
   "cell_type": "code",
   "execution_count": 19,
   "metadata": {},
   "outputs": [],
   "source": [
    "y_pred = reg_all.predict(X_test)"
   ]
  },
  {
   "cell_type": "code",
   "execution_count": 20,
   "metadata": {},
   "outputs": [
    {
     "name": "stdout",
     "output_type": "stream",
     "text": [
      "R^2: 0.2540058046120104\n",
      "Mean Absolute Error: 0.5629835145954647\n",
      "Root Mean Squared Error: 0.7556127599870052\n"
     ]
    }
   ],
   "source": [
    "print(\"R^2: {}\".format(reg_all.score(X_test, y_test)))\n",
    "mae = mean_absolute_error(y_test, y_pred)\n",
    "print(\"Mean Absolute Error: {}\".format(mae))\n",
    "rmse = np.sqrt(mean_squared_error(y_test,y_pred))\n",
    "print(\"Root Mean Squared Error: {}\".format(rmse))\n"
   ]
  },
  {
   "cell_type": "markdown",
   "metadata": {},
   "source": [
    "The scores are less than promising. We hope these improve as the data frame is scaled.\n",
    "\n",
    "As previously mentioned, we are assigning the `Train` & `Test` splits to each of the three ( 3 ) scaling approaches below."
   ]
  },
  {
   "cell_type": "markdown",
   "metadata": {},
   "source": [
    "# 3.4 Scale standardization"
   ]
  },
  {
   "cell_type": "markdown",
   "metadata": {},
   "source": [
    "Now that the train / test splits have been completed, we will implement three ( 3 ) scaling approaches listed below. The basic summary of each approach is listed below & their underscore of the data frame names from the end of the previous section as well:\n",
    "\n",
    "   * **Standardization ( `_SS` )**\n",
    "      * <i>This approach finds the mean of the data, assigns that as Zero & the values presented are standard deviated moves</i>\n",
    "   * **MinMaxScaler ( `_MM` )** ( often called Normalization )\n",
    "      * <i>This approach reassigns the values from 0 -> 1</i>\n",
    "   * **Log Transformation ( `_Log` )**\n",
    "      * <i>This approach usually is used with data that has long tails</i>\n",
    "\n",
    "These will be scaled on both the `X` & `y` variables with the `_` listed above. Further to this, we will also scale the variables ( `X` ) & assess them to an unscaled `y`. Their underscores are listed below:\n",
    "\n",
    "   * **Standardization ( `_SS_y_uns` )**\n",
    "   * **MinMaxScaler ( `_MM_y_uns` )** \n",
    "   * **Log Transformation ( `_Log_y_uns` )**\n",
    "\n",
    "To simplify the final comparisons, **there will be six ( 6 ) outcomes in total.**"
   ]
  },
  {
   "cell_type": "markdown",
   "metadata": {},
   "source": [
    "The following three ( 3 ) will be **used for scaling on both `X` & `y`.**"
   ]
  },
  {
   "cell_type": "markdown",
   "metadata": {},
   "source": [
    "**Standardization ( X & y )** | *Assignment to its respective data frames.*"
   ]
  },
  {
   "cell_type": "code",
   "execution_count": 21,
   "metadata": {},
   "outputs": [],
   "source": [
    "X_train_SS = pd.DataFrame(X_train.copy())\n",
    "X_test_SS = pd.DataFrame(X_test.copy())\n",
    "y_train_SS = pd.DataFrame(y_train.copy())\n",
    "y_test_SS = pd.DataFrame(y_test.copy())\n",
    "y_tr_pred_SS = pd.DataFrame(y_pred.copy())"
   ]
  },
  {
   "cell_type": "markdown",
   "metadata": {},
   "source": [
    "**MinMaxScaler ( X & y )** | *Assignment to its respective data frames.*"
   ]
  },
  {
   "cell_type": "code",
   "execution_count": 22,
   "metadata": {},
   "outputs": [],
   "source": [
    "X_train_MM = pd.DataFrame(X_train.copy())\n",
    "X_test_MM = pd.DataFrame(X_test.copy())\n",
    "y_train_MM = pd.DataFrame(y_train.copy())\n",
    "y_test_MM = pd.DataFrame(y_test.copy())\n",
    "y_tr_pred_MM = pd.DataFrame(y_pred.copy())"
   ]
  },
  {
   "cell_type": "markdown",
   "metadata": {},
   "source": [
    "**Log Transformation ( X & y )** | *Assignment to its respective data frames.*"
   ]
  },
  {
   "cell_type": "code",
   "execution_count": 23,
   "metadata": {},
   "outputs": [],
   "source": [
    "X_train_LG = pd.DataFrame(X_train.copy())\n",
    "X_test_LG = pd.DataFrame(X_test.copy())\n",
    "y_train_LG = pd.DataFrame(y_train.copy())\n",
    "y_test_LG = pd.DataFrame(y_test.copy())\n",
    "y_tr_pred_LG = pd.DataFrame(y_pred.copy())"
   ]
  },
  {
   "cell_type": "markdown",
   "metadata": {},
   "source": [
    "The following three ( 3 ) will be **used for scaling on `X` only.**"
   ]
  },
  {
   "cell_type": "markdown",
   "metadata": {},
   "source": [
    "**Standardization ( X only )** | *Assignment to its respective data frames.*"
   ]
  },
  {
   "cell_type": "code",
   "execution_count": 24,
   "metadata": {},
   "outputs": [],
   "source": [
    "X_train_SS_y_uns = pd.DataFrame(X_train.copy())\n",
    "X_test_SS_y_uns = pd.DataFrame(X_test.copy())\n",
    "y_train_SS_y_uns = pd.DataFrame(y_train.copy())\n",
    "y_test_SS_y_uns = pd.DataFrame(y_test.copy())\n",
    "y_tr_pred_SS_y_uns = pd.DataFrame(y_pred.copy())"
   ]
  },
  {
   "cell_type": "markdown",
   "metadata": {},
   "source": [
    "**MinMaxScaler ( X only )** | *Assignment to its respective data frames.*"
   ]
  },
  {
   "cell_type": "code",
   "execution_count": 25,
   "metadata": {},
   "outputs": [],
   "source": [
    "X_train_MM_y_uns = pd.DataFrame(X_train.copy())\n",
    "X_test_MM_y_uns = pd.DataFrame(X_test.copy())\n",
    "y_train_MM_y_uns = pd.DataFrame(y_train.copy())\n",
    "y_test_MM_y_uns = pd.DataFrame(y_test.copy())\n",
    "y_tr_pred_MM_y_uns = pd.DataFrame(y_pred.copy())"
   ]
  },
  {
   "cell_type": "markdown",
   "metadata": {},
   "source": [
    "**Log Transformation ( X only )** | *Assignment to its respective data frames.*"
   ]
  },
  {
   "cell_type": "code",
   "execution_count": 26,
   "metadata": {},
   "outputs": [],
   "source": [
    "X_train_LG_y_uns = pd.DataFrame(X_train.copy())\n",
    "X_test_LG_y_uns = pd.DataFrame(X_test.copy())\n",
    "y_train_LG_y_uns = pd.DataFrame(y_train.copy())\n",
    "y_test_LG_y_uns = pd.DataFrame(y_test.copy())\n",
    "y_tr_pred_LG_y_uns = pd.DataFrame(y_pred.copy())"
   ]
  },
  {
   "cell_type": "markdown",
   "metadata": {},
   "source": [
    "Before we proceed we will need to import the necessary libraries for all."
   ]
  },
  {
   "cell_type": "code",
   "execution_count": 27,
   "metadata": {},
   "outputs": [],
   "source": [
    "from sklearn.preprocessing import StandardScaler\n",
    "from sklearn.preprocessing import MinMaxScaler\n",
    "from sklearn.preprocessing import PowerTransformer"
   ]
  },
  {
   "cell_type": "markdown",
   "metadata": {},
   "source": [
    "Further to this, we are setting up a list of the unscaled variables as they will need to be removed from each as we go; I trust this will make greater sense as we proceed. "
   ]
  },
  {
   "cell_type": "code",
   "execution_count": 28,
   "metadata": {},
   "outputs": [],
   "source": [
    "prev_cols = ['Wages CPI', 'WTI', 'Copper', 'Soybeans', 'Natural Gas', 'Heating Oil', 'Corn', 'Wheat', 'Cattle', 'Lean Hogs', 'Sugar', 'Lumber', 'Capacity Utilization', 'GDP', 'M2 Velocity', 'PMI', 'USD Index','Initial Jobless Claims', 'Unemployment Rate']"
   ]
  },
  {
   "cell_type": "markdown",
   "metadata": {},
   "source": [
    "# 3.4.1 Standardization ( X & y scaled )"
   ]
  },
  {
   "cell_type": "markdown",
   "metadata": {},
   "source": [
    "The scalings approach & it's estimated results we will use in this section are as follows:\n",
    "   * **Standardization ( `_SS` )**\n",
    "      * This approach finds the mean of the data, assigns that as Zero & the values presented are standard deviated moves\n"
   ]
  },
  {
   "cell_type": "code",
   "execution_count": 29,
   "metadata": {},
   "outputs": [],
   "source": [
    "SS_scaler = StandardScaler()"
   ]
  },
  {
   "cell_type": "markdown",
   "metadata": {},
   "source": [
    "First `X_train_SS`"
   ]
  },
  {
   "cell_type": "code",
   "execution_count": 30,
   "metadata": {},
   "outputs": [
    {
     "data": {
      "text/plain": [
       "StandardScaler()"
      ]
     },
     "execution_count": 30,
     "metadata": {},
     "output_type": "execute_result"
    }
   ],
   "source": [
    "SS_scaler.fit(X_train_SS[['Wages CPI', 'WTI', 'Copper', 'Soybeans', 'Natural Gas', 'Heating Oil',\n",
    "       'Corn', 'Wheat', 'Cattle', 'Lean Hogs', 'Sugar', 'Lumber',\n",
    "       'Capacity Utilization', 'GDP', 'M2 Velocity', 'PMI', 'USD Index',\n",
    "       'Initial Jobless Claims', 'Unemployment Rate']])"
   ]
  },
  {
   "cell_type": "code",
   "execution_count": 31,
   "metadata": {},
   "outputs": [],
   "source": [
    "X_train_SS[['Wages CPI_SS', 'WTI_SS', 'Copper_SS', 'Soybeans_SS', 'Natural Gas_SS', 'Heating Oil_SS',\n",
    "       'Corn_SS', 'Wheat_SS', 'Cattle_SS', 'Lean Hogs_SS', 'Sugar_SS', 'Lumber_SS',\n",
    "       'Capacity Utilization_SS', 'GDP_SS', 'M2 Velocity_SS', 'PMI_SS', 'USD Index_SS',\n",
    "       'Initial Jobless Claims_SS', 'Unemployment Rate_SS']] = SS_scaler.transform(X_train_SS[['Wages CPI', 'WTI', 'Copper', 'Soybeans', 'Natural Gas', 'Heating Oil',\n",
    "       'Corn', 'Wheat', 'Cattle', 'Lean Hogs', 'Sugar', 'Lumber',\n",
    "       'Capacity Utilization', 'GDP', 'M2 Velocity', 'PMI', 'USD Index',\n",
    "       'Initial Jobless Claims', 'Unemployment Rate']])"
   ]
  },
  {
   "cell_type": "code",
   "execution_count": 32,
   "metadata": {},
   "outputs": [
    {
     "data": {
      "text/plain": [
       "Index(['Wages CPI', 'WTI', 'Copper', 'Soybeans', 'Natural Gas', 'Heating Oil',\n",
       "       'Corn', 'Wheat', 'Cattle', 'Lean Hogs', 'Sugar', 'Lumber',\n",
       "       'Capacity Utilization', 'GDP', 'M2 Velocity', 'PMI', 'USD Index',\n",
       "       'Initial Jobless Claims', 'Unemployment Rate', 'Wages CPI_SS', 'WTI_SS',\n",
       "       'Copper_SS', 'Soybeans_SS', 'Natural Gas_SS', 'Heating Oil_SS',\n",
       "       'Corn_SS', 'Wheat_SS', 'Cattle_SS', 'Lean Hogs_SS', 'Sugar_SS',\n",
       "       'Lumber_SS', 'Capacity Utilization_SS', 'GDP_SS', 'M2 Velocity_SS',\n",
       "       'PMI_SS', 'USD Index_SS', 'Initial Jobless Claims_SS',\n",
       "       'Unemployment Rate_SS'],\n",
       "      dtype='object')"
      ]
     },
     "execution_count": 32,
     "metadata": {},
     "output_type": "execute_result"
    }
   ],
   "source": [
    "X_train_SS.columns"
   ]
  },
  {
   "cell_type": "code",
   "execution_count": 33,
   "metadata": {},
   "outputs": [],
   "source": [
    "X_train_SS.drop(columns=prev_cols, inplace=True)"
   ]
  },
  {
   "cell_type": "code",
   "execution_count": 34,
   "metadata": {},
   "outputs": [
    {
     "data": {
      "text/html": [
       "<div>\n",
       "<style scoped>\n",
       "    .dataframe tbody tr th:only-of-type {\n",
       "        vertical-align: middle;\n",
       "    }\n",
       "\n",
       "    .dataframe tbody tr th {\n",
       "        vertical-align: top;\n",
       "    }\n",
       "\n",
       "    .dataframe thead th {\n",
       "        text-align: right;\n",
       "    }\n",
       "</style>\n",
       "<table border=\"1\" class=\"dataframe\">\n",
       "  <thead>\n",
       "    <tr style=\"text-align: right;\">\n",
       "      <th></th>\n",
       "      <th>Wages CPI_SS</th>\n",
       "      <th>WTI_SS</th>\n",
       "      <th>Copper_SS</th>\n",
       "      <th>Soybeans_SS</th>\n",
       "      <th>Natural Gas_SS</th>\n",
       "      <th>Heating Oil_SS</th>\n",
       "      <th>Corn_SS</th>\n",
       "      <th>Wheat_SS</th>\n",
       "      <th>Cattle_SS</th>\n",
       "      <th>Lean Hogs_SS</th>\n",
       "      <th>Sugar_SS</th>\n",
       "      <th>Lumber_SS</th>\n",
       "      <th>Capacity Utilization_SS</th>\n",
       "      <th>GDP_SS</th>\n",
       "      <th>M2 Velocity_SS</th>\n",
       "      <th>PMI_SS</th>\n",
       "      <th>USD Index_SS</th>\n",
       "      <th>Initial Jobless Claims_SS</th>\n",
       "      <th>Unemployment Rate_SS</th>\n",
       "    </tr>\n",
       "  </thead>\n",
       "  <tbody>\n",
       "    <tr>\n",
       "      <th>count</th>\n",
       "      <td>2.180000e+02</td>\n",
       "      <td>2.180000e+02</td>\n",
       "      <td>2.180000e+02</td>\n",
       "      <td>2.180000e+02</td>\n",
       "      <td>2.180000e+02</td>\n",
       "      <td>2.180000e+02</td>\n",
       "      <td>2.180000e+02</td>\n",
       "      <td>2.180000e+02</td>\n",
       "      <td>2.180000e+02</td>\n",
       "      <td>2.180000e+02</td>\n",
       "      <td>2.180000e+02</td>\n",
       "      <td>2.180000e+02</td>\n",
       "      <td>2.180000e+02</td>\n",
       "      <td>2.180000e+02</td>\n",
       "      <td>2.180000e+02</td>\n",
       "      <td>2.180000e+02</td>\n",
       "      <td>218.000000</td>\n",
       "      <td>2.180000e+02</td>\n",
       "      <td>2.180000e+02</td>\n",
       "    </tr>\n",
       "    <tr>\n",
       "      <th>mean</th>\n",
       "      <td>-4.838128e-18</td>\n",
       "      <td>2.750094e-17</td>\n",
       "      <td>1.680613e-17</td>\n",
       "      <td>-2.750094e-17</td>\n",
       "      <td>1.018553e-18</td>\n",
       "      <td>2.113498e-17</td>\n",
       "      <td>5.754826e-17</td>\n",
       "      <td>-3.004732e-17</td>\n",
       "      <td>-2.801021e-18</td>\n",
       "      <td>-7.639149e-18</td>\n",
       "      <td>-4.838128e-17</td>\n",
       "      <td>-2.049838e-17</td>\n",
       "      <td>-2.088034e-17</td>\n",
       "      <td>5.627507e-17</td>\n",
       "      <td>2.215353e-17</td>\n",
       "      <td>4.869958e-18</td>\n",
       "      <td>0.000000</td>\n",
       "      <td>-6.875234e-18</td>\n",
       "      <td>1.222264e-17</td>\n",
       "    </tr>\n",
       "    <tr>\n",
       "      <th>std</th>\n",
       "      <td>1.002301e+00</td>\n",
       "      <td>1.002301e+00</td>\n",
       "      <td>1.002301e+00</td>\n",
       "      <td>1.002301e+00</td>\n",
       "      <td>1.002301e+00</td>\n",
       "      <td>1.002301e+00</td>\n",
       "      <td>1.002301e+00</td>\n",
       "      <td>1.002301e+00</td>\n",
       "      <td>1.002301e+00</td>\n",
       "      <td>1.002301e+00</td>\n",
       "      <td>1.002301e+00</td>\n",
       "      <td>1.002301e+00</td>\n",
       "      <td>1.002301e+00</td>\n",
       "      <td>1.002301e+00</td>\n",
       "      <td>1.002301e+00</td>\n",
       "      <td>1.002301e+00</td>\n",
       "      <td>1.002301</td>\n",
       "      <td>1.002301e+00</td>\n",
       "      <td>1.002301e+00</td>\n",
       "    </tr>\n",
       "    <tr>\n",
       "      <th>min</th>\n",
       "      <td>-6.977019e+00</td>\n",
       "      <td>-3.783391e+00</td>\n",
       "      <td>-4.194080e+00</td>\n",
       "      <td>-3.280162e+00</td>\n",
       "      <td>-1.969069e+00</td>\n",
       "      <td>-3.380414e+00</td>\n",
       "      <td>-2.641519e+00</td>\n",
       "      <td>-2.034743e+00</td>\n",
       "      <td>-2.966145e+00</td>\n",
       "      <td>-2.453932e+00</td>\n",
       "      <td>-2.521716e+00</td>\n",
       "      <td>-2.522608e+00</td>\n",
       "      <td>-7.680682e+00</td>\n",
       "      <td>-8.837955e+00</td>\n",
       "      <td>-8.988479e+00</td>\n",
       "      <td>-3.333833e+00</td>\n",
       "      <td>-2.094012</td>\n",
       "      <td>-3.190713e+00</td>\n",
       "      <td>-4.802520e+00</td>\n",
       "    </tr>\n",
       "    <tr>\n",
       "      <th>25%</th>\n",
       "      <td>-2.671202e-01</td>\n",
       "      <td>-5.665365e-01</td>\n",
       "      <td>-5.924217e-01</td>\n",
       "      <td>-5.064631e-01</td>\n",
       "      <td>-6.724566e-01</td>\n",
       "      <td>-5.422759e-01</td>\n",
       "      <td>-6.269477e-01</td>\n",
       "      <td>-6.723267e-01</td>\n",
       "      <td>-6.458132e-01</td>\n",
       "      <td>-6.201385e-01</td>\n",
       "      <td>-6.977306e-01</td>\n",
       "      <td>-6.930695e-01</td>\n",
       "      <td>-2.313524e-01</td>\n",
       "      <td>-1.414367e-01</td>\n",
       "      <td>-9.686651e-02</td>\n",
       "      <td>-5.828489e-01</td>\n",
       "      <td>-0.794405</td>\n",
       "      <td>-1.277904e-01</td>\n",
       "      <td>-2.348593e-01</td>\n",
       "    </tr>\n",
       "    <tr>\n",
       "      <th>50%</th>\n",
       "      <td>1.153214e-01</td>\n",
       "      <td>-3.959852e-02</td>\n",
       "      <td>-9.739427e-02</td>\n",
       "      <td>-5.652283e-02</td>\n",
       "      <td>-1.579051e-01</td>\n",
       "      <td>-4.040096e-02</td>\n",
       "      <td>-5.827166e-02</td>\n",
       "      <td>-4.863862e-02</td>\n",
       "      <td>7.426409e-02</td>\n",
       "      <td>-4.506087e-02</td>\n",
       "      <td>-2.081390e-01</td>\n",
       "      <td>-3.689083e-02</td>\n",
       "      <td>1.477523e-01</td>\n",
       "      <td>1.250461e-01</td>\n",
       "      <td>8.804844e-02</td>\n",
       "      <td>-1.545851e-02</td>\n",
       "      <td>0.035274</td>\n",
       "      <td>-8.785599e-02</td>\n",
       "      <td>-1.102867e-01</td>\n",
       "    </tr>\n",
       "    <tr>\n",
       "      <th>75%</th>\n",
       "      <td>4.280369e-01</td>\n",
       "      <td>6.677299e-01</td>\n",
       "      <td>5.366898e-01</td>\n",
       "      <td>5.316750e-01</td>\n",
       "      <td>5.625160e-01</td>\n",
       "      <td>6.352366e-01</td>\n",
       "      <td>5.203411e-01</td>\n",
       "      <td>5.954279e-01</td>\n",
       "      <td>7.339765e-01</td>\n",
       "      <td>7.269682e-01</td>\n",
       "      <td>5.484182e-01</td>\n",
       "      <td>6.135977e-01</td>\n",
       "      <td>4.357818e-01</td>\n",
       "      <td>4.008007e-01</td>\n",
       "      <td>3.751039e-01</td>\n",
       "      <td>5.576631e-01</td>\n",
       "      <td>0.628237</td>\n",
       "      <td>-4.770693e-02</td>\n",
       "      <td>5.581003e-02</td>\n",
       "    </tr>\n",
       "    <tr>\n",
       "      <th>max</th>\n",
       "      <td>3.074376e+00</td>\n",
       "      <td>2.742497e+00</td>\n",
       "      <td>3.913407e+00</td>\n",
       "      <td>2.811401e+00</td>\n",
       "      <td>2.994870e+00</td>\n",
       "      <td>2.428936e+00</td>\n",
       "      <td>3.277006e+00</td>\n",
       "      <td>4.032564e+00</td>\n",
       "      <td>2.428476e+00</td>\n",
       "      <td>2.661448e+00</td>\n",
       "      <td>3.888003e+00</td>\n",
       "      <td>5.231216e+00</td>\n",
       "      <td>3.864717e+00</td>\n",
       "      <td>1.198672e+00</td>\n",
       "      <td>9.832153e-01</td>\n",
       "      <td>3.589476e+00</td>\n",
       "      <td>2.666820</td>\n",
       "      <td>1.241375e+01</td>\n",
       "      <td>1.151649e+01</td>\n",
       "    </tr>\n",
       "  </tbody>\n",
       "</table>\n",
       "</div>"
      ],
      "text/plain": [
       "       Wages CPI_SS        WTI_SS     Copper_SS   Soybeans_SS  Natural Gas_SS  \\\n",
       "count  2.180000e+02  2.180000e+02  2.180000e+02  2.180000e+02    2.180000e+02   \n",
       "mean  -4.838128e-18  2.750094e-17  1.680613e-17 -2.750094e-17    1.018553e-18   \n",
       "std    1.002301e+00  1.002301e+00  1.002301e+00  1.002301e+00    1.002301e+00   \n",
       "min   -6.977019e+00 -3.783391e+00 -4.194080e+00 -3.280162e+00   -1.969069e+00   \n",
       "25%   -2.671202e-01 -5.665365e-01 -5.924217e-01 -5.064631e-01   -6.724566e-01   \n",
       "50%    1.153214e-01 -3.959852e-02 -9.739427e-02 -5.652283e-02   -1.579051e-01   \n",
       "75%    4.280369e-01  6.677299e-01  5.366898e-01  5.316750e-01    5.625160e-01   \n",
       "max    3.074376e+00  2.742497e+00  3.913407e+00  2.811401e+00    2.994870e+00   \n",
       "\n",
       "       Heating Oil_SS       Corn_SS      Wheat_SS     Cattle_SS  Lean Hogs_SS  \\\n",
       "count    2.180000e+02  2.180000e+02  2.180000e+02  2.180000e+02  2.180000e+02   \n",
       "mean     2.113498e-17  5.754826e-17 -3.004732e-17 -2.801021e-18 -7.639149e-18   \n",
       "std      1.002301e+00  1.002301e+00  1.002301e+00  1.002301e+00  1.002301e+00   \n",
       "min     -3.380414e+00 -2.641519e+00 -2.034743e+00 -2.966145e+00 -2.453932e+00   \n",
       "25%     -5.422759e-01 -6.269477e-01 -6.723267e-01 -6.458132e-01 -6.201385e-01   \n",
       "50%     -4.040096e-02 -5.827166e-02 -4.863862e-02  7.426409e-02 -4.506087e-02   \n",
       "75%      6.352366e-01  5.203411e-01  5.954279e-01  7.339765e-01  7.269682e-01   \n",
       "max      2.428936e+00  3.277006e+00  4.032564e+00  2.428476e+00  2.661448e+00   \n",
       "\n",
       "           Sugar_SS     Lumber_SS  Capacity Utilization_SS        GDP_SS  \\\n",
       "count  2.180000e+02  2.180000e+02             2.180000e+02  2.180000e+02   \n",
       "mean  -4.838128e-17 -2.049838e-17            -2.088034e-17  5.627507e-17   \n",
       "std    1.002301e+00  1.002301e+00             1.002301e+00  1.002301e+00   \n",
       "min   -2.521716e+00 -2.522608e+00            -7.680682e+00 -8.837955e+00   \n",
       "25%   -6.977306e-01 -6.930695e-01            -2.313524e-01 -1.414367e-01   \n",
       "50%   -2.081390e-01 -3.689083e-02             1.477523e-01  1.250461e-01   \n",
       "75%    5.484182e-01  6.135977e-01             4.357818e-01  4.008007e-01   \n",
       "max    3.888003e+00  5.231216e+00             3.864717e+00  1.198672e+00   \n",
       "\n",
       "       M2 Velocity_SS        PMI_SS  USD Index_SS  Initial Jobless Claims_SS  \\\n",
       "count    2.180000e+02  2.180000e+02    218.000000               2.180000e+02   \n",
       "mean     2.215353e-17  4.869958e-18      0.000000              -6.875234e-18   \n",
       "std      1.002301e+00  1.002301e+00      1.002301               1.002301e+00   \n",
       "min     -8.988479e+00 -3.333833e+00     -2.094012              -3.190713e+00   \n",
       "25%     -9.686651e-02 -5.828489e-01     -0.794405              -1.277904e-01   \n",
       "50%      8.804844e-02 -1.545851e-02      0.035274              -8.785599e-02   \n",
       "75%      3.751039e-01  5.576631e-01      0.628237              -4.770693e-02   \n",
       "max      9.832153e-01  3.589476e+00      2.666820               1.241375e+01   \n",
       "\n",
       "       Unemployment Rate_SS  \n",
       "count          2.180000e+02  \n",
       "mean           1.222264e-17  \n",
       "std            1.002301e+00  \n",
       "min           -4.802520e+00  \n",
       "25%           -2.348593e-01  \n",
       "50%           -1.102867e-01  \n",
       "75%            5.581003e-02  \n",
       "max            1.151649e+01  "
      ]
     },
     "execution_count": 34,
     "metadata": {},
     "output_type": "execute_result"
    }
   ],
   "source": [
    "X_train_SS.describe()"
   ]
  },
  {
   "cell_type": "markdown",
   "metadata": {},
   "source": [
    "The **Mean** & **Standard Deviation** look close enough to 0 & 1 respectively; thus, it was scaled correctly. We will now scale the others."
   ]
  },
  {
   "cell_type": "code",
   "execution_count": 35,
   "metadata": {},
   "outputs": [],
   "source": [
    "df_X_train_SS = pd.DataFrame(data = X_train_SS, columns = ['Wages CPI_SS', 'WTI_SS', 'Copper_SS', 'Soybeans_SS', 'Natural Gas_SS', 'Heating Oil_SS',\n",
    "       'Corn_SS', 'Wheat_SS', 'Cattle_SS', 'Lean Hogs_SS', 'Sugar_SS', 'Lumber_SS',\n",
    "       'Capacity Utilization_SS', 'GDP_SS', 'M2 Velocity_SS', 'PMI_SS', 'USD Index_SS',\n",
    "       'Initial Jobless Claims_SS', 'Unemployment Rate_SS'])"
   ]
  },
  {
   "cell_type": "code",
   "execution_count": 36,
   "metadata": {},
   "outputs": [
    {
     "data": {
      "image/png": "[encoded data removed]",
      "text/plain": [
       "<Figure size 1152x864 with 1 Axes>"
      ]
     },
     "metadata": {
      "needs_background": "light"
     },
     "output_type": "display_data"
    }
   ],
   "source": [
    "plt.figure(figsize=(16, 12))\n",
    "chart = sns.boxplot(x='variable', y='value', data=pd.melt(df_X_train_SS))\n",
    "chart.set_xticklabels(chart.get_xticklabels(), rotation=90)\n",
    "plt.show()"
   ]
  },
  {
   "cell_type": "markdown",
   "metadata": {},
   "source": [
    "`X_test_SS` will not be scaled."
   ]
  },
  {
   "cell_type": "code",
   "execution_count": 37,
   "metadata": {},
   "outputs": [],
   "source": [
    "X_test_SS[['Wages CPI_SS', 'WTI_SS', 'Copper_SS', 'Soybeans_SS', 'Natural Gas_SS', 'Heating Oil_SS',\n",
    "       'Corn_SS', 'Wheat_SS', 'Cattle_SS', 'Lean Hogs_SS', 'Sugar_SS', 'Lumber_SS',\n",
    "       'Capacity Utilization_SS', 'GDP_SS', 'M2 Velocity_SS', 'PMI_SS', 'USD Index_SS',\n",
    "       'Initial Jobless Claims_SS', 'Unemployment Rate_SS']] = SS_scaler.transform(X_test_SS[['Wages CPI', 'WTI', 'Copper', 'Soybeans', 'Natural Gas', 'Heating Oil',\n",
    "       'Corn', 'Wheat', 'Cattle', 'Lean Hogs', 'Sugar', 'Lumber',\n",
    "       'Capacity Utilization', 'GDP', 'M2 Velocity', 'PMI', 'USD Index',\n",
    "       'Initial Jobless Claims', 'Unemployment Rate']])"
   ]
  },
  {
   "cell_type": "code",
   "execution_count": 38,
   "metadata": {},
   "outputs": [
    {
     "data": {
      "text/plain": [
       "Index(['Wages CPI', 'WTI', 'Copper', 'Soybeans', 'Natural Gas', 'Heating Oil',\n",
       "       'Corn', 'Wheat', 'Cattle', 'Lean Hogs', 'Sugar', 'Lumber',\n",
       "       'Capacity Utilization', 'GDP', 'M2 Velocity', 'PMI', 'USD Index',\n",
       "       'Initial Jobless Claims', 'Unemployment Rate', 'Wages CPI_SS', 'WTI_SS',\n",
       "       'Copper_SS', 'Soybeans_SS', 'Natural Gas_SS', 'Heating Oil_SS',\n",
       "       'Corn_SS', 'Wheat_SS', 'Cattle_SS', 'Lean Hogs_SS', 'Sugar_SS',\n",
       "       'Lumber_SS', 'Capacity Utilization_SS', 'GDP_SS', 'M2 Velocity_SS',\n",
       "       'PMI_SS', 'USD Index_SS', 'Initial Jobless Claims_SS',\n",
       "       'Unemployment Rate_SS'],\n",
       "      dtype='object')"
      ]
     },
     "execution_count": 38,
     "metadata": {},
     "output_type": "execute_result"
    }
   ],
   "source": [
    "X_test_SS.columns"
   ]
  },
  {
   "cell_type": "code",
   "execution_count": 39,
   "metadata": {},
   "outputs": [],
   "source": [
    "X_test_SS.drop(columns=prev_cols, inplace=True)"
   ]
  },
  {
   "cell_type": "code",
   "execution_count": 40,
   "metadata": {},
   "outputs": [
    {
     "data": {
      "text/html": [
       "<div>\n",
       "<style scoped>\n",
       "    .dataframe tbody tr th:only-of-type {\n",
       "        vertical-align: middle;\n",
       "    }\n",
       "\n",
       "    .dataframe tbody tr th {\n",
       "        vertical-align: top;\n",
       "    }\n",
       "\n",
       "    .dataframe thead th {\n",
       "        text-align: right;\n",
       "    }\n",
       "</style>\n",
       "<table border=\"1\" class=\"dataframe\">\n",
       "  <thead>\n",
       "    <tr style=\"text-align: right;\">\n",
       "      <th></th>\n",
       "      <th>Wages CPI_SS</th>\n",
       "      <th>WTI_SS</th>\n",
       "      <th>Copper_SS</th>\n",
       "      <th>Soybeans_SS</th>\n",
       "      <th>Natural Gas_SS</th>\n",
       "      <th>Heating Oil_SS</th>\n",
       "      <th>Corn_SS</th>\n",
       "      <th>Wheat_SS</th>\n",
       "      <th>Cattle_SS</th>\n",
       "      <th>Lean Hogs_SS</th>\n",
       "      <th>Sugar_SS</th>\n",
       "      <th>Lumber_SS</th>\n",
       "      <th>Capacity Utilization_SS</th>\n",
       "      <th>GDP_SS</th>\n",
       "      <th>M2 Velocity_SS</th>\n",
       "      <th>PMI_SS</th>\n",
       "      <th>USD Index_SS</th>\n",
       "      <th>Initial Jobless Claims_SS</th>\n",
       "      <th>Unemployment Rate_SS</th>\n",
       "    </tr>\n",
       "  </thead>\n",
       "  <tbody>\n",
       "    <tr>\n",
       "      <th>count</th>\n",
       "      <td>94.000000</td>\n",
       "      <td>94.000000</td>\n",
       "      <td>94.000000</td>\n",
       "      <td>94.000000</td>\n",
       "      <td>94.000000</td>\n",
       "      <td>94.000000</td>\n",
       "      <td>94.000000</td>\n",
       "      <td>94.000000</td>\n",
       "      <td>94.000000</td>\n",
       "      <td>94.000000</td>\n",
       "      <td>94.000000</td>\n",
       "      <td>94.000000</td>\n",
       "      <td>94.000000</td>\n",
       "      <td>94.000000</td>\n",
       "      <td>94.000000</td>\n",
       "      <td>94.000000</td>\n",
       "      <td>94.000000</td>\n",
       "      <td>94.000000</td>\n",
       "      <td>94.000000</td>\n",
       "    </tr>\n",
       "    <tr>\n",
       "      <th>mean</th>\n",
       "      <td>-0.039446</td>\n",
       "      <td>-0.046560</td>\n",
       "      <td>-0.151935</td>\n",
       "      <td>0.158702</td>\n",
       "      <td>-0.001416</td>\n",
       "      <td>-0.153214</td>\n",
       "      <td>0.271715</td>\n",
       "      <td>0.147639</td>\n",
       "      <td>-0.020189</td>\n",
       "      <td>0.150634</td>\n",
       "      <td>0.042247</td>\n",
       "      <td>0.105954</td>\n",
       "      <td>0.085988</td>\n",
       "      <td>0.114837</td>\n",
       "      <td>-0.011819</td>\n",
       "      <td>-0.177030</td>\n",
       "      <td>0.007469</td>\n",
       "      <td>-0.191525</td>\n",
       "      <td>-0.065229</td>\n",
       "    </tr>\n",
       "    <tr>\n",
       "      <th>std</th>\n",
       "      <td>1.003180</td>\n",
       "      <td>1.116542</td>\n",
       "      <td>0.986746</td>\n",
       "      <td>1.140603</td>\n",
       "      <td>0.975567</td>\n",
       "      <td>0.963172</td>\n",
       "      <td>1.089934</td>\n",
       "      <td>1.083590</td>\n",
       "      <td>1.040120</td>\n",
       "      <td>1.097781</td>\n",
       "      <td>0.918600</td>\n",
       "      <td>1.470259</td>\n",
       "      <td>1.232635</td>\n",
       "      <td>1.525901</td>\n",
       "      <td>1.104324</td>\n",
       "      <td>1.048915</td>\n",
       "      <td>1.020621</td>\n",
       "      <td>2.410044</td>\n",
       "      <td>1.295092</td>\n",
       "    </tr>\n",
       "    <tr>\n",
       "      <th>min</th>\n",
       "      <td>-6.008413</td>\n",
       "      <td>-3.755452</td>\n",
       "      <td>-4.281991</td>\n",
       "      <td>-3.578469</td>\n",
       "      <td>-2.087724</td>\n",
       "      <td>-3.479765</td>\n",
       "      <td>-2.917356</td>\n",
       "      <td>-2.913521</td>\n",
       "      <td>-3.321206</td>\n",
       "      <td>-2.026099</td>\n",
       "      <td>-1.857711</td>\n",
       "      <td>-2.360196</td>\n",
       "      <td>-7.342127</td>\n",
       "      <td>-8.837955</td>\n",
       "      <td>-8.988479</td>\n",
       "      <td>-4.147665</td>\n",
       "      <td>-2.129319</td>\n",
       "      <td>-12.599764</td>\n",
       "      <td>-5.342334</td>\n",
       "    </tr>\n",
       "    <tr>\n",
       "      <th>25%</th>\n",
       "      <td>-0.383316</td>\n",
       "      <td>-0.529745</td>\n",
       "      <td>-0.692793</td>\n",
       "      <td>-0.534923</td>\n",
       "      <td>-0.585450</td>\n",
       "      <td>-0.578672</td>\n",
       "      <td>-0.322636</td>\n",
       "      <td>-0.559743</td>\n",
       "      <td>-0.760703</td>\n",
       "      <td>-0.704479</td>\n",
       "      <td>-0.517446</td>\n",
       "      <td>-0.778532</td>\n",
       "      <td>-0.172902</td>\n",
       "      <td>-0.221962</td>\n",
       "      <td>-0.236393</td>\n",
       "      <td>-0.866544</td>\n",
       "      <td>-0.610996</td>\n",
       "      <td>-0.129723</td>\n",
       "      <td>-0.276383</td>\n",
       "    </tr>\n",
       "    <tr>\n",
       "      <th>50%</th>\n",
       "      <td>0.169963</td>\n",
       "      <td>0.082344</td>\n",
       "      <td>-0.298726</td>\n",
       "      <td>0.027747</td>\n",
       "      <td>-0.078682</td>\n",
       "      <td>-0.033070</td>\n",
       "      <td>0.158283</td>\n",
       "      <td>-0.041941</td>\n",
       "      <td>0.073698</td>\n",
       "      <td>0.035594</td>\n",
       "      <td>-0.128461</td>\n",
       "      <td>-0.174865</td>\n",
       "      <td>0.168818</td>\n",
       "      <td>0.068250</td>\n",
       "      <td>0.043185</td>\n",
       "      <td>-0.319213</td>\n",
       "      <td>-0.060458</td>\n",
       "      <td>-0.097518</td>\n",
       "      <td>-0.151811</td>\n",
       "    </tr>\n",
       "    <tr>\n",
       "      <th>75%</th>\n",
       "      <td>0.452194</td>\n",
       "      <td>0.515139</td>\n",
       "      <td>0.412443</td>\n",
       "      <td>0.796244</td>\n",
       "      <td>0.688486</td>\n",
       "      <td>0.506057</td>\n",
       "      <td>0.848489</td>\n",
       "      <td>0.678288</td>\n",
       "      <td>0.811777</td>\n",
       "      <td>0.896525</td>\n",
       "      <td>0.528436</td>\n",
       "      <td>0.723928</td>\n",
       "      <td>0.421522</td>\n",
       "      <td>0.282676</td>\n",
       "      <td>0.402552</td>\n",
       "      <td>0.342742</td>\n",
       "      <td>0.589525</td>\n",
       "      <td>-0.054792</td>\n",
       "      <td>0.014286</td>\n",
       "    </tr>\n",
       "    <tr>\n",
       "      <th>max</th>\n",
       "      <td>1.801829</td>\n",
       "      <td>3.879327</td>\n",
       "      <td>2.759676</td>\n",
       "      <td>2.987912</td>\n",
       "      <td>2.562655</td>\n",
       "      <td>1.748558</td>\n",
       "      <td>3.974551</td>\n",
       "      <td>4.040076</td>\n",
       "      <td>1.834564</td>\n",
       "      <td>2.674612</td>\n",
       "      <td>3.173226</td>\n",
       "      <td>6.689149</td>\n",
       "      <td>5.824493</td>\n",
       "      <td>6.258379</td>\n",
       "      <td>2.067133</td>\n",
       "      <td>3.130979</td>\n",
       "      <td>3.441559</td>\n",
       "      <td>17.266415</td>\n",
       "      <td>9.066558</td>\n",
       "    </tr>\n",
       "  </tbody>\n",
       "</table>\n",
       "</div>"
      ],
      "text/plain": [
       "       Wages CPI_SS     WTI_SS  Copper_SS  Soybeans_SS  Natural Gas_SS  \\\n",
       "count     94.000000  94.000000  94.000000    94.000000       94.000000   \n",
       "mean      -0.039446  -0.046560  -0.151935     0.158702       -0.001416   \n",
       "std        1.003180   1.116542   0.986746     1.140603        0.975567   \n",
       "min       -6.008413  -3.755452  -4.281991    -3.578469       -2.087724   \n",
       "25%       -0.383316  -0.529745  -0.692793    -0.534923       -0.585450   \n",
       "50%        0.169963   0.082344  -0.298726     0.027747       -0.078682   \n",
       "75%        0.452194   0.515139   0.412443     0.796244        0.688486   \n",
       "max        1.801829   3.879327   2.759676     2.987912        2.562655   \n",
       "\n",
       "       Heating Oil_SS    Corn_SS   Wheat_SS  Cattle_SS  Lean Hogs_SS  \\\n",
       "count       94.000000  94.000000  94.000000  94.000000     94.000000   \n",
       "mean        -0.153214   0.271715   0.147639  -0.020189      0.150634   \n",
       "std          0.963172   1.089934   1.083590   1.040120      1.097781   \n",
       "min         -3.479765  -2.917356  -2.913521  -3.321206     -2.026099   \n",
       "25%         -0.578672  -0.322636  -0.559743  -0.760703     -0.704479   \n",
       "50%         -0.033070   0.158283  -0.041941   0.073698      0.035594   \n",
       "75%          0.506057   0.848489   0.678288   0.811777      0.896525   \n",
       "max          1.748558   3.974551   4.040076   1.834564      2.674612   \n",
       "\n",
       "        Sugar_SS  Lumber_SS  Capacity Utilization_SS     GDP_SS  \\\n",
       "count  94.000000  94.000000                94.000000  94.000000   \n",
       "mean    0.042247   0.105954                 0.085988   0.114837   \n",
       "std     0.918600   1.470259                 1.232635   1.525901   \n",
       "min    -1.857711  -2.360196                -7.342127  -8.837955   \n",
       "25%    -0.517446  -0.778532                -0.172902  -0.221962   \n",
       "50%    -0.128461  -0.174865                 0.168818   0.068250   \n",
       "75%     0.528436   0.723928                 0.421522   0.282676   \n",
       "max     3.173226   6.689149                 5.824493   6.258379   \n",
       "\n",
       "       M2 Velocity_SS     PMI_SS  USD Index_SS  Initial Jobless Claims_SS  \\\n",
       "count       94.000000  94.000000     94.000000                  94.000000   \n",
       "mean        -0.011819  -0.177030      0.007469                  -0.191525   \n",
       "std          1.104324   1.048915      1.020621                   2.410044   \n",
       "min         -8.988479  -4.147665     -2.129319                 -12.599764   \n",
       "25%         -0.236393  -0.866544     -0.610996                  -0.129723   \n",
       "50%          0.043185  -0.319213     -0.060458                  -0.097518   \n",
       "75%          0.402552   0.342742      0.589525                  -0.054792   \n",
       "max          2.067133   3.130979      3.441559                  17.266415   \n",
       "\n",
       "       Unemployment Rate_SS  \n",
       "count             94.000000  \n",
       "mean              -0.065229  \n",
       "std                1.295092  \n",
       "min               -5.342334  \n",
       "25%               -0.276383  \n",
       "50%               -0.151811  \n",
       "75%                0.014286  \n",
       "max                9.066558  "
      ]
     },
     "execution_count": 40,
     "metadata": {},
     "output_type": "execute_result"
    }
   ],
   "source": [
    "X_test_SS.describe()"
   ]
  },
  {
   "cell_type": "markdown",
   "metadata": {},
   "source": [
    "Next `y_train_SS`"
   ]
  },
  {
   "cell_type": "code",
   "execution_count": 41,
   "metadata": {},
   "outputs": [
    {
     "data": {
      "text/plain": [
       "StandardScaler()"
      ]
     },
     "execution_count": 41,
     "metadata": {},
     "output_type": "execute_result"
    }
   ],
   "source": [
    "SS_scaler.fit(y_train_SS[['Inflation']])"
   ]
  },
  {
   "cell_type": "code",
   "execution_count": 42,
   "metadata": {},
   "outputs": [],
   "source": [
    "y_train_SS['Inflation_SS'] = SS_scaler.transform(y_train_SS[['Inflation']])\n",
    "y_train_SS.drop(columns='Inflation', inplace=True)"
   ]
  },
  {
   "cell_type": "code",
   "execution_count": 43,
   "metadata": {},
   "outputs": [
    {
     "data": {
      "text/html": [
       "<div>\n",
       "<style scoped>\n",
       "    .dataframe tbody tr th:only-of-type {\n",
       "        vertical-align: middle;\n",
       "    }\n",
       "\n",
       "    .dataframe tbody tr th {\n",
       "        vertical-align: top;\n",
       "    }\n",
       "\n",
       "    .dataframe thead th {\n",
       "        text-align: right;\n",
       "    }\n",
       "</style>\n",
       "<table border=\"1\" class=\"dataframe\">\n",
       "  <thead>\n",
       "    <tr style=\"text-align: right;\">\n",
       "      <th></th>\n",
       "      <th>Inflation_SS</th>\n",
       "    </tr>\n",
       "  </thead>\n",
       "  <tbody>\n",
       "    <tr>\n",
       "      <th>count</th>\n",
       "      <td>2.180000e+02</td>\n",
       "    </tr>\n",
       "    <tr>\n",
       "      <th>mean</th>\n",
       "      <td>1.222264e-17</td>\n",
       "    </tr>\n",
       "    <tr>\n",
       "      <th>std</th>\n",
       "      <td>1.002301e+00</td>\n",
       "    </tr>\n",
       "    <tr>\n",
       "      <th>min</th>\n",
       "      <td>-4.436994e+00</td>\n",
       "    </tr>\n",
       "    <tr>\n",
       "      <th>25%</th>\n",
       "      <td>-4.187935e-01</td>\n",
       "    </tr>\n",
       "    <tr>\n",
       "      <th>50%</th>\n",
       "      <td>-1.285149e-02</td>\n",
       "    </tr>\n",
       "    <tr>\n",
       "      <th>75%</th>\n",
       "      <td>4.430526e-01</td>\n",
       "    </tr>\n",
       "    <tr>\n",
       "      <th>max</th>\n",
       "      <td>5.095772e+00</td>\n",
       "    </tr>\n",
       "  </tbody>\n",
       "</table>\n",
       "</div>"
      ],
      "text/plain": [
       "       Inflation_SS\n",
       "count  2.180000e+02\n",
       "mean   1.222264e-17\n",
       "std    1.002301e+00\n",
       "min   -4.436994e+00\n",
       "25%   -4.187935e-01\n",
       "50%   -1.285149e-02\n",
       "75%    4.430526e-01\n",
       "max    5.095772e+00"
      ]
     },
     "execution_count": 43,
     "metadata": {},
     "output_type": "execute_result"
    }
   ],
   "source": [
    "y_train_SS.describe()"
   ]
  },
  {
   "cell_type": "markdown",
   "metadata": {},
   "source": [
    "Next `y_test_SS` but it will not be 'fitted'."
   ]
  },
  {
   "cell_type": "code",
   "execution_count": 44,
   "metadata": {},
   "outputs": [],
   "source": [
    "y_test_SS['Inflation_SS'] = SS_scaler.transform(y_test_SS[['Inflation']])\n",
    "y_test_SS.drop(columns='Inflation', inplace=True)"
   ]
  },
  {
   "cell_type": "code",
   "execution_count": 45,
   "metadata": {},
   "outputs": [
    {
     "data": {
      "text/html": [
       "<div>\n",
       "<style scoped>\n",
       "    .dataframe tbody tr th:only-of-type {\n",
       "        vertical-align: middle;\n",
       "    }\n",
       "\n",
       "    .dataframe tbody tr th {\n",
       "        vertical-align: top;\n",
       "    }\n",
       "\n",
       "    .dataframe thead th {\n",
       "        text-align: right;\n",
       "    }\n",
       "</style>\n",
       "<table border=\"1\" class=\"dataframe\">\n",
       "  <thead>\n",
       "    <tr style=\"text-align: right;\">\n",
       "      <th></th>\n",
       "      <th>Inflation_SS</th>\n",
       "    </tr>\n",
       "  </thead>\n",
       "  <tbody>\n",
       "    <tr>\n",
       "      <th>count</th>\n",
       "      <td>94.000000</td>\n",
       "    </tr>\n",
       "    <tr>\n",
       "      <th>mean</th>\n",
       "      <td>0.173736</td>\n",
       "    </tr>\n",
       "    <tr>\n",
       "      <th>std</th>\n",
       "      <td>1.098587</td>\n",
       "    </tr>\n",
       "    <tr>\n",
       "      <th>min</th>\n",
       "      <td>-5.962087</td>\n",
       "    </tr>\n",
       "    <tr>\n",
       "      <th>25%</th>\n",
       "      <td>-0.369456</td>\n",
       "    </tr>\n",
       "    <tr>\n",
       "      <th>50%</th>\n",
       "      <td>0.190744</td>\n",
       "    </tr>\n",
       "    <tr>\n",
       "      <th>75%</th>\n",
       "      <td>0.720967</td>\n",
       "    </tr>\n",
       "    <tr>\n",
       "      <th>max</th>\n",
       "      <td>3.599407</td>\n",
       "    </tr>\n",
       "  </tbody>\n",
       "</table>\n",
       "</div>"
      ],
      "text/plain": [
       "       Inflation_SS\n",
       "count     94.000000\n",
       "mean       0.173736\n",
       "std        1.098587\n",
       "min       -5.962087\n",
       "25%       -0.369456\n",
       "50%        0.190744\n",
       "75%        0.720967\n",
       "max        3.599407"
      ]
     },
     "execution_count": 45,
     "metadata": {},
     "output_type": "execute_result"
    }
   ],
   "source": [
    "y_test_SS.describe()"
   ]
  },
  {
   "cell_type": "markdown",
   "metadata": {},
   "source": [
    "Finally `y_tr_pred_SS`"
   ]
  },
  {
   "cell_type": "markdown",
   "metadata": {},
   "source": [
    "Now to review the results."
   ]
  },
  {
   "cell_type": "code",
   "execution_count": 46,
   "metadata": {},
   "outputs": [
    {
     "name": "stderr",
     "output_type": "stream",
     "text": [
      "C:\\Users\\rands\\anaconda3\\lib\\site-packages\\sklearn\\utils\\validation.py:67: FutureWarning: Pass fit_intercept=     Wages CPI_SS    WTI_SS  Copper_SS  Soybeans_SS  Natural Gas_SS  \\\n",
      "101     -0.272503  0.770139  -0.036749    -0.345722       -1.319337   \n",
      "193      0.081334 -0.036542   0.451293     0.090576        1.639295   \n",
      "72      -0.668041 -0.496463  -0.027826    -2.795000       -0.849965   \n",
      "298      0.427689  0.697303   0.255910     0.133888        1.354380   \n",
      "15       0.073309 -0.130975  -0.288996     0.162870        0.314771   \n",
      "..            ...       ...        ...          ...             ...   \n",
      "188     -1.469548 -1.079604  -0.300948     0.831251       -0.220838   \n",
      "71      -0.956924 -0.948540  -0.343656    -2.840279       -0.743877   \n",
      "106      0.171832 -1.022849  -0.397019    -0.081824       -0.524624   \n",
      "270      0.323446  0.420422  -0.398186     0.216809        0.137346   \n",
      "102     -0.263450  0.806356  -0.696430    -1.099487       -1.042590   \n",
      "\n",
      "     Heating Oil_SS   Corn_SS  Wheat_SS  Cattle_SS  Lean Hogs_SS  Sugar_SS  \\\n",
      "101       -0.037380 -0.285358 -0.204055   0.312957     -0.252625 -0.668891   \n",
      "193        0.380561 -0.663352 -0.617169   1.900844      1.529011  1.137352   \n",
      "72        -0.474246 -2.149208 -1.865332   1.183761     -0.549095 -0.621201   \n",
      "298        0.616009 -0.538420 -1.155926  -1.041654      0.884238  0.927774   \n",
      "15         0.046900 -0.808623  0.012178   0.252933     -1.249591 -0.089238   \n",
      "..              ...       ...       ...        ...           ...       ...   \n",
      "188       -1.698084  0.138383 -0.438905  -0.507119      1.105400 -0.928637   \n",
      "71        -0.727652 -1.715245 -1.385015   1.317749     -1.282144 -0.736669   \n",
      "106       -0.331768 -0.205891 -0.379560   0.462889     -0.113398  1.070779   \n",
      "270       -0.142536  0.748635 -0.648503  -1.275445      0.668654 -0.816981   \n",
      "102       -0.043422 -0.703350 -0.879333   0.421833     -0.497088 -0.987923   \n",
      "\n",
      "     Lumber_SS  Capacity Utilization_SS    GDP_SS  M2 Velocity_SS    PMI_SS  \\\n",
      "101   0.439447                 0.444293  0.327651        0.088048  0.104897   \n",
      "193  -0.317918                 0.248713 -0.010664       -0.085279  0.104897   \n",
      "72    0.115848                 0.171740  0.532148        0.348245  0.379995   \n",
      "298  -0.556024                 0.514892  0.385034        0.824372  0.299758   \n",
      "15    0.442115                -0.198803 -0.053374       -0.276863 -0.869410   \n",
      "..         ...                      ...       ...             ...       ...   \n",
      "188   0.199642                -0.330832  0.111295       -0.158735 -0.342138   \n",
      "71    0.147867                 0.017663 -0.253529       -0.037395  0.425845   \n",
      "106  -0.187627                 0.527156 -0.343165       -1.538314 -1.282057   \n",
      "270  -1.352514                -0.469032 -0.205734        0.114661 -2.176127   \n",
      "102  -0.062556                 0.291608  0.327651        0.088048 -0.032652   \n",
      "\n",
      "     USD Index_SS  Initial Jobless Claims_SS  Unemployment Rate_SS  \n",
      "101      0.915147                  -0.214959             -0.567053  \n",
      "193     -1.046777                  -0.107179              0.221907  \n",
      "72       0.729546                  -0.163431             -0.193335  \n",
      "298     -1.225237                  -0.096444              0.346479  \n",
      "15       0.266966                  -0.081844             -0.110287  \n",
      "..            ...                        ...                   ...  \n",
      "188     -1.308796                  -0.021728              0.304955  \n",
      "71       1.340790                  -0.139814             -0.400956  \n",
      "106      0.176567                  -0.127790             -0.110287  \n",
      "270     -1.849494                   0.037959              0.097334  \n",
      "102      1.184256                  -0.221829             -0.608577  \n",
      "\n",
      "[218 rows x 19 columns], normalize=101   -0.523\n",
      "193    0.571\n",
      "72    -0.414\n",
      "298   -0.023\n",
      "15     0.301\n",
      "       ...  \n",
      "188   -0.908\n",
      "71    -0.328\n",
      "106    0.309\n",
      "270    0.323\n",
      "102   -0.600\n",
      "Name: Inflation, Length: 218, dtype: float64 as keyword args. From version 0.25 passing these as positional arguments will result in an error\n",
      "  warnings.warn(\"Pass {} as keyword args. From version 0.25 \"\n"
     ]
    }
   ],
   "source": [
    "reg_all_SS = LinearRegression(X_train_SS,y_train)"
   ]
  },
  {
   "cell_type": "code",
   "execution_count": 47,
   "metadata": {},
   "outputs": [],
   "source": [
    "lm = LinearRegression().fit(X_train_SS, y_train)"
   ]
  },
  {
   "cell_type": "code",
   "execution_count": 48,
   "metadata": {},
   "outputs": [],
   "source": [
    "#Code task 11#\n",
    "#Call the `predict()` method of the model (`lm`) on both the (scaled) train and test data\n",
    "#Assign the predictions to `y_tr_pred` and `y_te_pred`, respectively\n",
    "y_tr_pred_SS = lm.predict(X_train_SS)\n",
    "y_te_pred_SS = lm.predict(X_test_SS)"
   ]
  },
  {
   "cell_type": "code",
   "execution_count": 49,
   "metadata": {},
   "outputs": [
    {
     "data": {
      "text/plain": [
       "(0.3966218663866161, 0.27963587900831854)"
      ]
     },
     "execution_count": 49,
     "metadata": {},
     "output_type": "execute_result"
    }
   ],
   "source": [
    "# r^2 - train, test\n",
    "median_r2_SS = r2_score(y_train_SS, y_tr_pred_SS), r2_score(y_test_SS, y_te_pred_SS)\n",
    "median_r2_SS"
   ]
  },
  {
   "cell_type": "code",
   "execution_count": 50,
   "metadata": {},
   "outputs": [
    {
     "data": {
      "text/plain": [
       "(0.5376148557240371, 0.684026744163606)"
      ]
     },
     "execution_count": 50,
     "metadata": {},
     "output_type": "execute_result"
    }
   ],
   "source": [
    "median_mae_SS = mean_absolute_error( y_train_SS, y_tr_pred_SS), mean_absolute_error( y_test_SS, y_te_pred_SS )\n",
    "median_mae_SS"
   ]
  },
  {
   "cell_type": "code",
   "execution_count": 51,
   "metadata": {},
   "outputs": [
    {
     "data": {
      "text/plain": [
       "(0.6033781336133839, 0.860154317681419)"
      ]
     },
     "execution_count": 51,
     "metadata": {},
     "output_type": "execute_result"
    }
   ],
   "source": [
    "median_mse_SS = mean_squared_error( y_train_SS, y_tr_pred_SS ), mean_squared_error( y_test_SS, y_te_pred_SS )\n",
    "median_mse_SS"
   ]
  },
  {
   "cell_type": "markdown",
   "metadata": {},
   "source": [
    "The R^2 results are less than impressive ( i.e. less than a simple coin flip ) but we will proceed."
   ]
  },
  {
   "cell_type": "markdown",
   "metadata": {},
   "source": [
    "In this case, I have no missing values so no need to impute."
   ]
  },
  {
   "cell_type": "markdown",
   "metadata": {},
   "source": [
    "# 3.4.2 MinMaxScaler ( X & y scaled )"
   ]
  },
  {
   "cell_type": "markdown",
   "metadata": {},
   "source": [
    "The scalings approach & it's estimated results we will use in this section are as follows:\n",
    "   * **MinMaxScaler ( `_MM` )** ( often called Normalization )\n",
    "      * This approach reassigns the values from 0 -> 1\n"
   ]
  },
  {
   "cell_type": "code",
   "execution_count": 52,
   "metadata": {},
   "outputs": [],
   "source": [
    "MM_scaler = MinMaxScaler()"
   ]
  },
  {
   "cell_type": "markdown",
   "metadata": {},
   "source": [
    "First `X_train_MM`"
   ]
  },
  {
   "cell_type": "code",
   "execution_count": 53,
   "metadata": {},
   "outputs": [
    {
     "data": {
      "text/plain": [
       "MinMaxScaler()"
      ]
     },
     "execution_count": 53,
     "metadata": {},
     "output_type": "execute_result"
    }
   ],
   "source": [
    "MM_scaler.fit(X_train_MM[['Wages CPI', 'WTI', 'Copper', 'Soybeans', 'Natural Gas', 'Heating Oil',\n",
    "       'Corn', 'Wheat', 'Cattle', 'Lean Hogs', 'Sugar', 'Lumber',\n",
    "       'Capacity Utilization', 'GDP', 'M2 Velocity', 'PMI', 'USD Index',\n",
    "       'Initial Jobless Claims', 'Unemployment Rate']])"
   ]
  },
  {
   "cell_type": "code",
   "execution_count": 54,
   "metadata": {},
   "outputs": [],
   "source": [
    "X_train_MM[['Wages CPI_MM', 'WTI_MM', 'Copper_MM', 'Soybeans_MM', 'Natural Gas_MM', 'Heating Oil_MM',\n",
    "       'Corn_MM', 'Wheat_MM', 'Cattle_MM', 'Lean Hogs_MM', 'Sugar_MM', 'Lumber_MM',\n",
    "       'Capacity Utilization_MM', 'GDP_MM', 'M2 Velocity_MM', 'PMI_MM', 'USD Index_MM',\n",
    "       'Initial Jobless Claims_MM', 'Unemployment Rate_MM']] = MM_scaler.transform(X_train_MM[['Wages CPI', 'WTI', 'Copper', 'Soybeans', 'Natural Gas', 'Heating Oil',\n",
    "       'Corn', 'Wheat', 'Cattle', 'Lean Hogs', 'Sugar', 'Lumber',\n",
    "       'Capacity Utilization', 'GDP', 'M2 Velocity', 'PMI', 'USD Index',\n",
    "       'Initial Jobless Claims', 'Unemployment Rate']])"
   ]
  },
  {
   "cell_type": "code",
   "execution_count": 55,
   "metadata": {},
   "outputs": [
    {
     "data": {
      "text/plain": [
       "Index(['Wages CPI', 'WTI', 'Copper', 'Soybeans', 'Natural Gas', 'Heating Oil',\n",
       "       'Corn', 'Wheat', 'Cattle', 'Lean Hogs', 'Sugar', 'Lumber',\n",
       "       'Capacity Utilization', 'GDP', 'M2 Velocity', 'PMI', 'USD Index',\n",
       "       'Initial Jobless Claims', 'Unemployment Rate', 'Wages CPI_MM', 'WTI_MM',\n",
       "       'Copper_MM', 'Soybeans_MM', 'Natural Gas_MM', 'Heating Oil_MM',\n",
       "       'Corn_MM', 'Wheat_MM', 'Cattle_MM', 'Lean Hogs_MM', 'Sugar_MM',\n",
       "       'Lumber_MM', 'Capacity Utilization_MM', 'GDP_MM', 'M2 Velocity_MM',\n",
       "       'PMI_MM', 'USD Index_MM', 'Initial Jobless Claims_MM',\n",
       "       'Unemployment Rate_MM'],\n",
       "      dtype='object')"
      ]
     },
     "execution_count": 55,
     "metadata": {},
     "output_type": "execute_result"
    }
   ],
   "source": [
    "X_train_MM.columns"
   ]
  },
  {
   "cell_type": "code",
   "execution_count": 56,
   "metadata": {},
   "outputs": [],
   "source": [
    "X_train_MM.drop(columns=prev_cols, inplace=True)"
   ]
  },
  {
   "cell_type": "code",
   "execution_count": 57,
   "metadata": {},
   "outputs": [
    {
     "data": {
      "text/html": [
       "<div>\n",
       "<style scoped>\n",
       "    .dataframe tbody tr th:only-of-type {\n",
       "        vertical-align: middle;\n",
       "    }\n",
       "\n",
       "    .dataframe tbody tr th {\n",
       "        vertical-align: top;\n",
       "    }\n",
       "\n",
       "    .dataframe thead th {\n",
       "        text-align: right;\n",
       "    }\n",
       "</style>\n",
       "<table border=\"1\" class=\"dataframe\">\n",
       "  <thead>\n",
       "    <tr style=\"text-align: right;\">\n",
       "      <th></th>\n",
       "      <th>Wages CPI_MM</th>\n",
       "      <th>WTI_MM</th>\n",
       "      <th>Copper_MM</th>\n",
       "      <th>Soybeans_MM</th>\n",
       "      <th>Natural Gas_MM</th>\n",
       "      <th>Heating Oil_MM</th>\n",
       "      <th>Corn_MM</th>\n",
       "      <th>Wheat_MM</th>\n",
       "      <th>Cattle_MM</th>\n",
       "      <th>Lean Hogs_MM</th>\n",
       "      <th>Sugar_MM</th>\n",
       "      <th>Lumber_MM</th>\n",
       "      <th>Capacity Utilization_MM</th>\n",
       "      <th>GDP_MM</th>\n",
       "      <th>M2 Velocity_MM</th>\n",
       "      <th>PMI_MM</th>\n",
       "      <th>USD Index_MM</th>\n",
       "      <th>Initial Jobless Claims_MM</th>\n",
       "      <th>Unemployment Rate_MM</th>\n",
       "    </tr>\n",
       "  </thead>\n",
       "  <tbody>\n",
       "    <tr>\n",
       "      <th>count</th>\n",
       "      <td>218.000000</td>\n",
       "      <td>218.000000</td>\n",
       "      <td>218.000000</td>\n",
       "      <td>218.000000</td>\n",
       "      <td>218.000000</td>\n",
       "      <td>218.000000</td>\n",
       "      <td>218.000000</td>\n",
       "      <td>218.000000</td>\n",
       "      <td>218.000000</td>\n",
       "      <td>218.000000</td>\n",
       "      <td>218.000000</td>\n",
       "      <td>218.000000</td>\n",
       "      <td>218.000000</td>\n",
       "      <td>218.000000</td>\n",
       "      <td>218.000000</td>\n",
       "      <td>218.000000</td>\n",
       "      <td>218.000000</td>\n",
       "      <td>218.000000</td>\n",
       "      <td>218.000000</td>\n",
       "    </tr>\n",
       "    <tr>\n",
       "      <th>mean</th>\n",
       "      <td>0.694134</td>\n",
       "      <td>0.579751</td>\n",
       "      <td>0.517310</td>\n",
       "      <td>0.538476</td>\n",
       "      <td>0.396675</td>\n",
       "      <td>0.581892</td>\n",
       "      <td>0.446314</td>\n",
       "      <td>0.335362</td>\n",
       "      <td>0.549834</td>\n",
       "      <td>0.479716</td>\n",
       "      <td>0.393421</td>\n",
       "      <td>0.325337</td>\n",
       "      <td>0.665259</td>\n",
       "      <td>0.880570</td>\n",
       "      <td>0.901399</td>\n",
       "      <td>0.481537</td>\n",
       "      <td>0.439842</td>\n",
       "      <td>0.204474</td>\n",
       "      <td>0.294290</td>\n",
       "    </tr>\n",
       "    <tr>\n",
       "      <th>std</th>\n",
       "      <td>0.099718</td>\n",
       "      <td>0.153589</td>\n",
       "      <td>0.123627</td>\n",
       "      <td>0.164539</td>\n",
       "      <td>0.201917</td>\n",
       "      <td>0.172532</td>\n",
       "      <td>0.169350</td>\n",
       "      <td>0.165197</td>\n",
       "      <td>0.185796</td>\n",
       "      <td>0.195939</td>\n",
       "      <td>0.156372</td>\n",
       "      <td>0.129265</td>\n",
       "      <td>0.086814</td>\n",
       "      <td>0.099864</td>\n",
       "      <td>0.100515</td>\n",
       "      <td>0.144772</td>\n",
       "      <td>0.210531</td>\n",
       "      <td>0.064232</td>\n",
       "      <td>0.061419</td>\n",
       "    </tr>\n",
       "    <tr>\n",
       "      <th>min</th>\n",
       "      <td>0.000000</td>\n",
       "      <td>0.000000</td>\n",
       "      <td>0.000000</td>\n",
       "      <td>0.000000</td>\n",
       "      <td>0.000000</td>\n",
       "      <td>0.000000</td>\n",
       "      <td>0.000000</td>\n",
       "      <td>0.000000</td>\n",
       "      <td>0.000000</td>\n",
       "      <td>0.000000</td>\n",
       "      <td>0.000000</td>\n",
       "      <td>0.000000</td>\n",
       "      <td>0.000000</td>\n",
       "      <td>0.000000</td>\n",
       "      <td>0.000000</td>\n",
       "      <td>0.000000</td>\n",
       "      <td>0.000000</td>\n",
       "      <td>0.000000</td>\n",
       "      <td>0.000000</td>\n",
       "    </tr>\n",
       "    <tr>\n",
       "      <th>25%</th>\n",
       "      <td>0.667559</td>\n",
       "      <td>0.492937</td>\n",
       "      <td>0.444239</td>\n",
       "      <td>0.455334</td>\n",
       "      <td>0.261206</td>\n",
       "      <td>0.488547</td>\n",
       "      <td>0.340384</td>\n",
       "      <td>0.224550</td>\n",
       "      <td>0.430120</td>\n",
       "      <td>0.358486</td>\n",
       "      <td>0.284566</td>\n",
       "      <td>0.235953</td>\n",
       "      <td>0.645221</td>\n",
       "      <td>0.866478</td>\n",
       "      <td>0.891685</td>\n",
       "      <td>0.397351</td>\n",
       "      <td>0.272979</td>\n",
       "      <td>0.196285</td>\n",
       "      <td>0.279898</td>\n",
       "    </tr>\n",
       "    <tr>\n",
       "      <th>50%</th>\n",
       "      <td>0.705608</td>\n",
       "      <td>0.573683</td>\n",
       "      <td>0.505297</td>\n",
       "      <td>0.529197</td>\n",
       "      <td>0.364864</td>\n",
       "      <td>0.574937</td>\n",
       "      <td>0.436468</td>\n",
       "      <td>0.327345</td>\n",
       "      <td>0.563600</td>\n",
       "      <td>0.470908</td>\n",
       "      <td>0.360948</td>\n",
       "      <td>0.320580</td>\n",
       "      <td>0.678057</td>\n",
       "      <td>0.893029</td>\n",
       "      <td>0.910229</td>\n",
       "      <td>0.479305</td>\n",
       "      <td>0.447251</td>\n",
       "      <td>0.198844</td>\n",
       "      <td>0.287532</td>\n",
       "    </tr>\n",
       "    <tr>\n",
       "      <th>75%</th>\n",
       "      <td>0.736719</td>\n",
       "      <td>0.682071</td>\n",
       "      <td>0.583506</td>\n",
       "      <td>0.625757</td>\n",
       "      <td>0.509995</td>\n",
       "      <td>0.691239</td>\n",
       "      <td>0.534231</td>\n",
       "      <td>0.433499</td>\n",
       "      <td>0.685891</td>\n",
       "      <td>0.621831</td>\n",
       "      <td>0.478981</td>\n",
       "      <td>0.404472</td>\n",
       "      <td>0.703004</td>\n",
       "      <td>0.920504</td>\n",
       "      <td>0.939016</td>\n",
       "      <td>0.562086</td>\n",
       "      <td>0.571801</td>\n",
       "      <td>0.201417</td>\n",
       "      <td>0.297710</td>\n",
       "    </tr>\n",
       "    <tr>\n",
       "      <th>max</th>\n",
       "      <td>1.000000</td>\n",
       "      <td>1.000000</td>\n",
       "      <td>1.000000</td>\n",
       "      <td>1.000000</td>\n",
       "      <td>1.000000</td>\n",
       "      <td>1.000000</td>\n",
       "      <td>1.000000</td>\n",
       "      <td>1.000000</td>\n",
       "      <td>1.000000</td>\n",
       "      <td>1.000000</td>\n",
       "      <td>1.000000</td>\n",
       "      <td>1.000000</td>\n",
       "      <td>1.000000</td>\n",
       "      <td>1.000000</td>\n",
       "      <td>1.000000</td>\n",
       "      <td>1.000000</td>\n",
       "      <td>1.000000</td>\n",
       "      <td>1.000000</td>\n",
       "      <td>1.000000</td>\n",
       "    </tr>\n",
       "  </tbody>\n",
       "</table>\n",
       "</div>"
      ],
      "text/plain": [
       "       Wages CPI_MM      WTI_MM   Copper_MM  Soybeans_MM  Natural Gas_MM  \\\n",
       "count    218.000000  218.000000  218.000000   218.000000      218.000000   \n",
       "mean       0.694134    0.579751    0.517310     0.538476        0.396675   \n",
       "std        0.099718    0.153589    0.123627     0.164539        0.201917   \n",
       "min        0.000000    0.000000    0.000000     0.000000        0.000000   \n",
       "25%        0.667559    0.492937    0.444239     0.455334        0.261206   \n",
       "50%        0.705608    0.573683    0.505297     0.529197        0.364864   \n",
       "75%        0.736719    0.682071    0.583506     0.625757        0.509995   \n",
       "max        1.000000    1.000000    1.000000     1.000000        1.000000   \n",
       "\n",
       "       Heating Oil_MM     Corn_MM    Wheat_MM   Cattle_MM  Lean Hogs_MM  \\\n",
       "count      218.000000  218.000000  218.000000  218.000000    218.000000   \n",
       "mean         0.581892    0.446314    0.335362    0.549834      0.479716   \n",
       "std          0.172532    0.169350    0.165197    0.185796      0.195939   \n",
       "min          0.000000    0.000000    0.000000    0.000000      0.000000   \n",
       "25%          0.488547    0.340384    0.224550    0.430120      0.358486   \n",
       "50%          0.574937    0.436468    0.327345    0.563600      0.470908   \n",
       "75%          0.691239    0.534231    0.433499    0.685891      0.621831   \n",
       "max          1.000000    1.000000    1.000000    1.000000      1.000000   \n",
       "\n",
       "         Sugar_MM   Lumber_MM  Capacity Utilization_MM      GDP_MM  \\\n",
       "count  218.000000  218.000000               218.000000  218.000000   \n",
       "mean     0.393421    0.325337                 0.665259    0.880570   \n",
       "std      0.156372    0.129265                 0.086814    0.099864   \n",
       "min      0.000000    0.000000                 0.000000    0.000000   \n",
       "25%      0.284566    0.235953                 0.645221    0.866478   \n",
       "50%      0.360948    0.320580                 0.678057    0.893029   \n",
       "75%      0.478981    0.404472                 0.703004    0.920504   \n",
       "max      1.000000    1.000000                 1.000000    1.000000   \n",
       "\n",
       "       M2 Velocity_MM      PMI_MM  USD Index_MM  Initial Jobless Claims_MM  \\\n",
       "count      218.000000  218.000000    218.000000                 218.000000   \n",
       "mean         0.901399    0.481537      0.439842                   0.204474   \n",
       "std          0.100515    0.144772      0.210531                   0.064232   \n",
       "min          0.000000    0.000000      0.000000                   0.000000   \n",
       "25%          0.891685    0.397351      0.272979                   0.196285   \n",
       "50%          0.910229    0.479305      0.447251                   0.198844   \n",
       "75%          0.939016    0.562086      0.571801                   0.201417   \n",
       "max          1.000000    1.000000      1.000000                   1.000000   \n",
       "\n",
       "       Unemployment Rate_MM  \n",
       "count            218.000000  \n",
       "mean               0.294290  \n",
       "std                0.061419  \n",
       "min                0.000000  \n",
       "25%                0.279898  \n",
       "50%                0.287532  \n",
       "75%                0.297710  \n",
       "max                1.000000  "
      ]
     },
     "execution_count": 57,
     "metadata": {},
     "output_type": "execute_result"
    }
   ],
   "source": [
    "X_train_MM.describe()"
   ]
  },
  {
   "cell_type": "markdown",
   "metadata": {},
   "source": [
    "The `Maximum` & `Minimum` are **1 & 0 respectively; it appears to be realigning according to the MinMaxScaler appropriately**"
   ]
  },
  {
   "cell_type": "code",
   "execution_count": 58,
   "metadata": {},
   "outputs": [],
   "source": [
    "df_X_train_MM = pd.DataFrame(data = X_train_MM, columns = ['Wages CPI_MM', 'WTI_MM', 'Copper_MM', 'Soybeans_MM', 'Natural Gas_MM', 'Heating Oil_MM',\n",
    "       'Corn_MM', 'Wheat_MM', 'Cattle_MM', 'Lean Hogs_MM', 'Sugar_MM', 'Lumber_MM',\n",
    "       'Capacity Utilization_MM', 'GDP_MM', 'M2 Velocity_MM', 'PMI_MM', 'USD Index_MM',\n",
    "       'Initial Jobless Claims_MM', 'Unemployment Rate_MM'])"
   ]
  },
  {
   "cell_type": "code",
   "execution_count": 59,
   "metadata": {},
   "outputs": [
    {
     "data": {
      "image/png": "[encoded data removed]",
      "text/plain": [
       "<Figure size 1152x864 with 1 Axes>"
      ]
     },
     "metadata": {
      "needs_background": "light"
     },
     "output_type": "display_data"
    }
   ],
   "source": [
    "plt.figure(figsize=(16, 12))\n",
    "chart = sns.boxplot(x='variable', y='value', data=pd.melt(df_X_train_MM))\n",
    "chart.set_xticklabels(chart.get_xticklabels(), rotation=90)\n",
    "plt.show()"
   ]
  },
  {
   "cell_type": "markdown",
   "metadata": {},
   "source": [
    "`X_test_MM` will not be 'fitted'."
   ]
  },
  {
   "cell_type": "code",
   "execution_count": 60,
   "metadata": {},
   "outputs": [],
   "source": [
    "X_test_MM[['Wages CPI_MM', 'WTI_MM', 'Copper_MM', 'Soybeans_MM', 'Natural Gas_MM', 'Heating Oil_MM',\n",
    "       'Corn_MM', 'Wheat_MM', 'Cattle_MM', 'Lean Hogs_MM', 'Sugar_MM', 'Lumber_MM',\n",
    "       'Capacity Utilization_MM', 'GDP_MM', 'M2 Velocity_MM', 'PMI_MM', 'USD Index_MM',\n",
    "       'Initial Jobless Claims_MM', 'Unemployment Rate_MM']] = MM_scaler.transform(X_test_MM[['Wages CPI', 'WTI', 'Copper', 'Soybeans', 'Natural Gas', 'Heating Oil',\n",
    "       'Corn', 'Wheat', 'Cattle', 'Lean Hogs', 'Sugar', 'Lumber',\n",
    "       'Capacity Utilization', 'GDP', 'M2 Velocity', 'PMI', 'USD Index',\n",
    "       'Initial Jobless Claims', 'Unemployment Rate']])"
   ]
  },
  {
   "cell_type": "code",
   "execution_count": 61,
   "metadata": {},
   "outputs": [
    {
     "data": {
      "text/plain": [
       "Index(['Wages CPI', 'WTI', 'Copper', 'Soybeans', 'Natural Gas', 'Heating Oil',\n",
       "       'Corn', 'Wheat', 'Cattle', 'Lean Hogs', 'Sugar', 'Lumber',\n",
       "       'Capacity Utilization', 'GDP', 'M2 Velocity', 'PMI', 'USD Index',\n",
       "       'Initial Jobless Claims', 'Unemployment Rate', 'Wages CPI_MM', 'WTI_MM',\n",
       "       'Copper_MM', 'Soybeans_MM', 'Natural Gas_MM', 'Heating Oil_MM',\n",
       "       'Corn_MM', 'Wheat_MM', 'Cattle_MM', 'Lean Hogs_MM', 'Sugar_MM',\n",
       "       'Lumber_MM', 'Capacity Utilization_MM', 'GDP_MM', 'M2 Velocity_MM',\n",
       "       'PMI_MM', 'USD Index_MM', 'Initial Jobless Claims_MM',\n",
       "       'Unemployment Rate_MM'],\n",
       "      dtype='object')"
      ]
     },
     "execution_count": 61,
     "metadata": {},
     "output_type": "execute_result"
    }
   ],
   "source": [
    "X_test_MM.columns"
   ]
  },
  {
   "cell_type": "code",
   "execution_count": 62,
   "metadata": {},
   "outputs": [],
   "source": [
    "X_test_MM.drop(columns=prev_cols, inplace=True)"
   ]
  },
  {
   "cell_type": "code",
   "execution_count": 63,
   "metadata": {},
   "outputs": [
    {
     "data": {
      "text/html": [
       "<div>\n",
       "<style scoped>\n",
       "    .dataframe tbody tr th:only-of-type {\n",
       "        vertical-align: middle;\n",
       "    }\n",
       "\n",
       "    .dataframe tbody tr th {\n",
       "        vertical-align: top;\n",
       "    }\n",
       "\n",
       "    .dataframe thead th {\n",
       "        text-align: right;\n",
       "    }\n",
       "</style>\n",
       "<table border=\"1\" class=\"dataframe\">\n",
       "  <thead>\n",
       "    <tr style=\"text-align: right;\">\n",
       "      <th></th>\n",
       "      <th>Wages CPI_MM</th>\n",
       "      <th>WTI_MM</th>\n",
       "      <th>Copper_MM</th>\n",
       "      <th>Soybeans_MM</th>\n",
       "      <th>Natural Gas_MM</th>\n",
       "      <th>Heating Oil_MM</th>\n",
       "      <th>Corn_MM</th>\n",
       "      <th>Wheat_MM</th>\n",
       "      <th>Cattle_MM</th>\n",
       "      <th>Lean Hogs_MM</th>\n",
       "      <th>Sugar_MM</th>\n",
       "      <th>Lumber_MM</th>\n",
       "      <th>Capacity Utilization_MM</th>\n",
       "      <th>GDP_MM</th>\n",
       "      <th>M2 Velocity_MM</th>\n",
       "      <th>PMI_MM</th>\n",
       "      <th>USD Index_MM</th>\n",
       "      <th>Initial Jobless Claims_MM</th>\n",
       "      <th>Unemployment Rate_MM</th>\n",
       "    </tr>\n",
       "  </thead>\n",
       "  <tbody>\n",
       "    <tr>\n",
       "      <th>count</th>\n",
       "      <td>94.000000</td>\n",
       "      <td>94.000000</td>\n",
       "      <td>94.000000</td>\n",
       "      <td>94.000000</td>\n",
       "      <td>94.000000</td>\n",
       "      <td>94.000000</td>\n",
       "      <td>94.000000</td>\n",
       "      <td>94.000000</td>\n",
       "      <td>94.000000</td>\n",
       "      <td>94.000000</td>\n",
       "      <td>94.000000</td>\n",
       "      <td>94.000000</td>\n",
       "      <td>94.000000</td>\n",
       "      <td>94.000000</td>\n",
       "      <td>94.000000</td>\n",
       "      <td>94.000000</td>\n",
       "      <td>94.000000</td>\n",
       "      <td>94.000000</td>\n",
       "      <td>94.000000</td>\n",
       "    </tr>\n",
       "    <tr>\n",
       "      <th>mean</th>\n",
       "      <td>0.690210</td>\n",
       "      <td>0.572617</td>\n",
       "      <td>0.498569</td>\n",
       "      <td>0.564529</td>\n",
       "      <td>0.396389</td>\n",
       "      <td>0.555518</td>\n",
       "      <td>0.492223</td>\n",
       "      <td>0.359695</td>\n",
       "      <td>0.546091</td>\n",
       "      <td>0.509164</td>\n",
       "      <td>0.400012</td>\n",
       "      <td>0.339002</td>\n",
       "      <td>0.672707</td>\n",
       "      <td>0.892012</td>\n",
       "      <td>0.900214</td>\n",
       "      <td>0.455967</td>\n",
       "      <td>0.441410</td>\n",
       "      <td>0.192201</td>\n",
       "      <td>0.290293</td>\n",
       "    </tr>\n",
       "    <tr>\n",
       "      <th>std</th>\n",
       "      <td>0.099805</td>\n",
       "      <td>0.171094</td>\n",
       "      <td>0.121708</td>\n",
       "      <td>0.187243</td>\n",
       "      <td>0.196531</td>\n",
       "      <td>0.165797</td>\n",
       "      <td>0.184156</td>\n",
       "      <td>0.178595</td>\n",
       "      <td>0.192807</td>\n",
       "      <td>0.214604</td>\n",
       "      <td>0.143314</td>\n",
       "      <td>0.189617</td>\n",
       "      <td>0.106764</td>\n",
       "      <td>0.152033</td>\n",
       "      <td>0.110746</td>\n",
       "      <td>0.151505</td>\n",
       "      <td>0.214379</td>\n",
       "      <td>0.154446</td>\n",
       "      <td>0.079361</td>\n",
       "    </tr>\n",
       "    <tr>\n",
       "      <th>min</th>\n",
       "      <td>0.096365</td>\n",
       "      <td>0.004281</td>\n",
       "      <td>-0.010843</td>\n",
       "      <td>-0.048971</td>\n",
       "      <td>-0.023903</td>\n",
       "      <td>-0.017102</td>\n",
       "      <td>-0.046606</td>\n",
       "      <td>-0.144838</td>\n",
       "      <td>-0.065818</td>\n",
       "      <td>0.083637</td>\n",
       "      <td>0.103593</td>\n",
       "      <td>0.020946</td>\n",
       "      <td>0.029324</td>\n",
       "      <td>0.000000</td>\n",
       "      <td>0.000000</td>\n",
       "      <td>-0.117550</td>\n",
       "      <td>-0.007416</td>\n",
       "      <td>-0.602972</td>\n",
       "      <td>-0.033079</td>\n",
       "    </tr>\n",
       "    <tr>\n",
       "      <th>25%</th>\n",
       "      <td>0.655999</td>\n",
       "      <td>0.498575</td>\n",
       "      <td>0.431858</td>\n",
       "      <td>0.450662</td>\n",
       "      <td>0.278734</td>\n",
       "      <td>0.482281</td>\n",
       "      <td>0.391801</td>\n",
       "      <td>0.243106</td>\n",
       "      <td>0.408822</td>\n",
       "      <td>0.341999</td>\n",
       "      <td>0.312692</td>\n",
       "      <td>0.224931</td>\n",
       "      <td>0.650283</td>\n",
       "      <td>0.858455</td>\n",
       "      <td>0.877693</td>\n",
       "      <td>0.356374</td>\n",
       "      <td>0.311504</td>\n",
       "      <td>0.196161</td>\n",
       "      <td>0.277354</td>\n",
       "    </tr>\n",
       "    <tr>\n",
       "      <th>50%</th>\n",
       "      <td>0.711044</td>\n",
       "      <td>0.592369</td>\n",
       "      <td>0.480464</td>\n",
       "      <td>0.543031</td>\n",
       "      <td>0.380824</td>\n",
       "      <td>0.576199</td>\n",
       "      <td>0.473057</td>\n",
       "      <td>0.328449</td>\n",
       "      <td>0.563495</td>\n",
       "      <td>0.486675</td>\n",
       "      <td>0.373379</td>\n",
       "      <td>0.302785</td>\n",
       "      <td>0.679881</td>\n",
       "      <td>0.887370</td>\n",
       "      <td>0.905730</td>\n",
       "      <td>0.435430</td>\n",
       "      <td>0.427143</td>\n",
       "      <td>0.198225</td>\n",
       "      <td>0.284987</td>\n",
       "    </tr>\n",
       "    <tr>\n",
       "      <th>75%</th>\n",
       "      <td>0.739123</td>\n",
       "      <td>0.658689</td>\n",
       "      <td>0.568181</td>\n",
       "      <td>0.669189</td>\n",
       "      <td>0.535372</td>\n",
       "      <td>0.669003</td>\n",
       "      <td>0.589675</td>\n",
       "      <td>0.447156</td>\n",
       "      <td>0.700313</td>\n",
       "      <td>0.654977</td>\n",
       "      <td>0.475864</td>\n",
       "      <td>0.418701</td>\n",
       "      <td>0.701769</td>\n",
       "      <td>0.908735</td>\n",
       "      <td>0.941769</td>\n",
       "      <td>0.531043</td>\n",
       "      <td>0.563670</td>\n",
       "      <td>0.200963</td>\n",
       "      <td>0.295165</td>\n",
       "    </tr>\n",
       "    <tr>\n",
       "      <th>max</th>\n",
       "      <td>0.873396</td>\n",
       "      <td>1.174203</td>\n",
       "      <td>0.857696</td>\n",
       "      <td>1.028976</td>\n",
       "      <td>0.912929</td>\n",
       "      <td>0.882882</td>\n",
       "      <td>1.117858</td>\n",
       "      <td>1.001238</td>\n",
       "      <td>0.889907</td>\n",
       "      <td>1.002573</td>\n",
       "      <td>0.888486</td>\n",
       "      <td>1.188028</td>\n",
       "      <td>1.169745</td>\n",
       "      <td>1.504124</td>\n",
       "      <td>1.108699</td>\n",
       "      <td>0.933775</td>\n",
       "      <td>1.162732</td>\n",
       "      <td>1.310980</td>\n",
       "      <td>0.849873</td>\n",
       "    </tr>\n",
       "  </tbody>\n",
       "</table>\n",
       "</div>"
      ],
      "text/plain": [
       "       Wages CPI_MM     WTI_MM  Copper_MM  Soybeans_MM  Natural Gas_MM  \\\n",
       "count     94.000000  94.000000  94.000000    94.000000       94.000000   \n",
       "mean       0.690210   0.572617   0.498569     0.564529        0.396389   \n",
       "std        0.099805   0.171094   0.121708     0.187243        0.196531   \n",
       "min        0.096365   0.004281  -0.010843    -0.048971       -0.023903   \n",
       "25%        0.655999   0.498575   0.431858     0.450662        0.278734   \n",
       "50%        0.711044   0.592369   0.480464     0.543031        0.380824   \n",
       "75%        0.739123   0.658689   0.568181     0.669189        0.535372   \n",
       "max        0.873396   1.174203   0.857696     1.028976        0.912929   \n",
       "\n",
       "       Heating Oil_MM    Corn_MM   Wheat_MM  Cattle_MM  Lean Hogs_MM  \\\n",
       "count       94.000000  94.000000  94.000000  94.000000     94.000000   \n",
       "mean         0.555518   0.492223   0.359695   0.546091      0.509164   \n",
       "std          0.165797   0.184156   0.178595   0.192807      0.214604   \n",
       "min         -0.017102  -0.046606  -0.144838  -0.065818      0.083637   \n",
       "25%          0.482281   0.391801   0.243106   0.408822      0.341999   \n",
       "50%          0.576199   0.473057   0.328449   0.563495      0.486675   \n",
       "75%          0.669003   0.589675   0.447156   0.700313      0.654977   \n",
       "max          0.882882   1.117858   1.001238   0.889907      1.002573   \n",
       "\n",
       "        Sugar_MM  Lumber_MM  Capacity Utilization_MM     GDP_MM  \\\n",
       "count  94.000000  94.000000                94.000000  94.000000   \n",
       "mean    0.400012   0.339002                 0.672707   0.892012   \n",
       "std     0.143314   0.189617                 0.106764   0.152033   \n",
       "min     0.103593   0.020946                 0.029324   0.000000   \n",
       "25%     0.312692   0.224931                 0.650283   0.858455   \n",
       "50%     0.373379   0.302785                 0.679881   0.887370   \n",
       "75%     0.475864   0.418701                 0.701769   0.908735   \n",
       "max     0.888486   1.188028                 1.169745   1.504124   \n",
       "\n",
       "       M2 Velocity_MM     PMI_MM  USD Index_MM  Initial Jobless Claims_MM  \\\n",
       "count       94.000000  94.000000     94.000000                  94.000000   \n",
       "mean         0.900214   0.455967      0.441410                   0.192201   \n",
       "std          0.110746   0.151505      0.214379                   0.154446   \n",
       "min          0.000000  -0.117550     -0.007416                  -0.602972   \n",
       "25%          0.877693   0.356374      0.311504                   0.196161   \n",
       "50%          0.905730   0.435430      0.427143                   0.198225   \n",
       "75%          0.941769   0.531043      0.563670                   0.200963   \n",
       "max          1.108699   0.933775      1.162732                   1.310980   \n",
       "\n",
       "       Unemployment Rate_MM  \n",
       "count             94.000000  \n",
       "mean               0.290293  \n",
       "std                0.079361  \n",
       "min               -0.033079  \n",
       "25%                0.277354  \n",
       "50%                0.284987  \n",
       "75%                0.295165  \n",
       "max                0.849873  "
      ]
     },
     "execution_count": 63,
     "metadata": {},
     "output_type": "execute_result"
    }
   ],
   "source": [
    "X_test_MM.describe()"
   ]
  },
  {
   "cell_type": "markdown",
   "metadata": {},
   "source": [
    "Next `y_train_MM`"
   ]
  },
  {
   "cell_type": "code",
   "execution_count": 64,
   "metadata": {},
   "outputs": [
    {
     "data": {
      "text/plain": [
       "MinMaxScaler()"
      ]
     },
     "execution_count": 64,
     "metadata": {},
     "output_type": "execute_result"
    }
   ],
   "source": [
    "MM_scaler.fit(y_train_MM[['Inflation']])"
   ]
  },
  {
   "cell_type": "code",
   "execution_count": 65,
   "metadata": {},
   "outputs": [],
   "source": [
    "y_train_MM['Inflation_MM'] = MM_scaler.transform(y_train_MM[['Inflation']])\n",
    "y_train_MM.drop(columns='Inflation', inplace=True)"
   ]
  },
  {
   "cell_type": "code",
   "execution_count": 66,
   "metadata": {},
   "outputs": [
    {
     "data": {
      "text/html": [
       "<div>\n",
       "<style scoped>\n",
       "    .dataframe tbody tr th:only-of-type {\n",
       "        vertical-align: middle;\n",
       "    }\n",
       "\n",
       "    .dataframe tbody tr th {\n",
       "        vertical-align: top;\n",
       "    }\n",
       "\n",
       "    .dataframe thead th {\n",
       "        text-align: right;\n",
       "    }\n",
       "</style>\n",
       "<table border=\"1\" class=\"dataframe\">\n",
       "  <thead>\n",
       "    <tr style=\"text-align: right;\">\n",
       "      <th></th>\n",
       "      <th>Inflation_MM</th>\n",
       "    </tr>\n",
       "  </thead>\n",
       "  <tbody>\n",
       "    <tr>\n",
       "      <th>count</th>\n",
       "      <td>218.000000</td>\n",
       "    </tr>\n",
       "    <tr>\n",
       "      <th>mean</th>\n",
       "      <td>0.465447</td>\n",
       "    </tr>\n",
       "    <tr>\n",
       "      <th>std</th>\n",
       "      <td>0.105143</td>\n",
       "    </tr>\n",
       "    <tr>\n",
       "      <th>min</th>\n",
       "      <td>0.000000</td>\n",
       "    </tr>\n",
       "    <tr>\n",
       "      <th>25%</th>\n",
       "      <td>0.421515</td>\n",
       "    </tr>\n",
       "    <tr>\n",
       "      <th>50%</th>\n",
       "      <td>0.464099</td>\n",
       "    </tr>\n",
       "    <tr>\n",
       "      <th>75%</th>\n",
       "      <td>0.511923</td>\n",
       "    </tr>\n",
       "    <tr>\n",
       "      <th>max</th>\n",
       "      <td>1.000000</td>\n",
       "    </tr>\n",
       "  </tbody>\n",
       "</table>\n",
       "</div>"
      ],
      "text/plain": [
       "       Inflation_MM\n",
       "count    218.000000\n",
       "mean       0.465447\n",
       "std        0.105143\n",
       "min        0.000000\n",
       "25%        0.421515\n",
       "50%        0.464099\n",
       "75%        0.511923\n",
       "max        1.000000"
      ]
     },
     "execution_count": 66,
     "metadata": {},
     "output_type": "execute_result"
    }
   ],
   "source": [
    "y_train_MM.describe()"
   ]
  },
  {
   "cell_type": "markdown",
   "metadata": {},
   "source": [
    "`y_test_MM` will not be 'fitted'."
   ]
  },
  {
   "cell_type": "code",
   "execution_count": 67,
   "metadata": {},
   "outputs": [],
   "source": [
    "y_test_MM['Inflation_MM'] = MM_scaler.transform(y_test_MM[['Inflation']])\n",
    "y_test_MM.drop(columns='Inflation', inplace=True)"
   ]
  },
  {
   "cell_type": "code",
   "execution_count": 68,
   "metadata": {},
   "outputs": [
    {
     "data": {
      "text/html": [
       "<div>\n",
       "<style scoped>\n",
       "    .dataframe tbody tr th:only-of-type {\n",
       "        vertical-align: middle;\n",
       "    }\n",
       "\n",
       "    .dataframe tbody tr th {\n",
       "        vertical-align: top;\n",
       "    }\n",
       "\n",
       "    .dataframe thead th {\n",
       "        text-align: right;\n",
       "    }\n",
       "</style>\n",
       "<table border=\"1\" class=\"dataframe\">\n",
       "  <thead>\n",
       "    <tr style=\"text-align: right;\">\n",
       "      <th></th>\n",
       "      <th>Inflation_MM</th>\n",
       "    </tr>\n",
       "  </thead>\n",
       "  <tbody>\n",
       "    <tr>\n",
       "      <th>count</th>\n",
       "      <td>94.000000</td>\n",
       "    </tr>\n",
       "    <tr>\n",
       "      <th>mean</th>\n",
       "      <td>0.483672</td>\n",
       "    </tr>\n",
       "    <tr>\n",
       "      <th>std</th>\n",
       "      <td>0.115243</td>\n",
       "    </tr>\n",
       "    <tr>\n",
       "      <th>min</th>\n",
       "      <td>-0.159984</td>\n",
       "    </tr>\n",
       "    <tr>\n",
       "      <th>25%</th>\n",
       "      <td>0.426690</td>\n",
       "    </tr>\n",
       "    <tr>\n",
       "      <th>50%</th>\n",
       "      <td>0.485456</td>\n",
       "    </tr>\n",
       "    <tr>\n",
       "      <th>75%</th>\n",
       "      <td>0.541077</td>\n",
       "    </tr>\n",
       "    <tr>\n",
       "      <th>max</th>\n",
       "      <td>0.843029</td>\n",
       "    </tr>\n",
       "  </tbody>\n",
       "</table>\n",
       "</div>"
      ],
      "text/plain": [
       "       Inflation_MM\n",
       "count     94.000000\n",
       "mean       0.483672\n",
       "std        0.115243\n",
       "min       -0.159984\n",
       "25%        0.426690\n",
       "50%        0.485456\n",
       "75%        0.541077\n",
       "max        0.843029"
      ]
     },
     "execution_count": 68,
     "metadata": {},
     "output_type": "execute_result"
    }
   ],
   "source": [
    "y_test_MM.describe()"
   ]
  },
  {
   "cell_type": "code",
   "execution_count": 69,
   "metadata": {},
   "outputs": [
    {
     "name": "stderr",
     "output_type": "stream",
     "text": [
      "C:\\Users\\rands\\anaconda3\\lib\\site-packages\\sklearn\\utils\\validation.py:67: FutureWarning: Pass fit_intercept=     Wages CPI_MM    WTI_MM  Copper_MM  Soybeans_MM  Natural Gas_MM  \\\n",
      "101      0.667023  0.697764   0.512777     0.481722        0.130890   \n",
      "193      0.702226  0.574152   0.572973     0.553345        0.726915   \n",
      "72       0.627672  0.503675   0.513877     0.079645        0.225447   \n",
      "298      0.736685  0.686603   0.548874     0.560455        0.669518   \n",
      "15       0.701428  0.559681   0.481664     0.565213        0.460086   \n",
      "..            ...       ...        ...          ...             ...   \n",
      "188      0.547931  0.414317   0.480190     0.674936        0.352186   \n",
      "71       0.598931  0.434401   0.474922     0.072212        0.246818   \n",
      "106      0.711230  0.423014   0.468340     0.525044        0.290988   \n",
      "270      0.726314  0.644175   0.468196     0.574068        0.424343   \n",
      "102      0.667924  0.703314   0.431410     0.357983        0.186642   \n",
      "\n",
      "     Heating Oil_MM   Corn_MM  Wheat_MM  Cattle_MM  Lean Hogs_MM  Sugar_MM  \\\n",
      "101        0.575457  0.398099  0.301730   0.607847      0.430331  0.289065   \n",
      "193        0.647400  0.334233  0.233641   0.902193      0.778621  0.570863   \n",
      "72         0.500257  0.083181  0.027922   0.769267      0.372374  0.296505   \n",
      "298        0.687929  0.355342  0.144845   0.356743      0.652575  0.538166   \n",
      "15         0.589965  0.309688  0.337369   0.596720      0.235435  0.379498   \n",
      "..              ...       ...       ...        ...           ...       ...   \n",
      "188        0.289590  0.469695  0.263023   0.455829      0.695810  0.248541   \n",
      "71         0.456637  0.156504  0.107087   0.794105      0.229072  0.278491   \n",
      "106        0.524783  0.411526  0.272804   0.635639      0.457548  0.560476   \n",
      "270        0.557356  0.572804  0.228477   0.313405      0.610431  0.265961   \n",
      "102        0.574418  0.327475  0.190432   0.628029      0.382541  0.239292   \n",
      "\n",
      "     Lumber_MM  Capacity Utilization_MM    GDP_MM  M2 Velocity_MM    PMI_MM  \\\n",
      "101   0.382012                 0.703741  0.913216        0.910229  0.496689   \n",
      "193   0.284336                 0.686801  0.879508        0.892847  0.496689   \n",
      "72    0.340278                 0.680134  0.933591        0.936323  0.536424   \n",
      "298   0.253628                 0.709856  0.918933        0.984071  0.524834   \n",
      "15    0.382356                 0.648040  0.875252        0.873635  0.355960   \n",
      "..         ...                      ...       ...             ...       ...   \n",
      "188   0.351085                 0.636604  0.891659        0.885481  0.432119   \n",
      "71    0.344408                 0.666789  0.855310        0.897649  0.543046   \n",
      "106   0.301139                 0.710919  0.846379        0.747131  0.296358   \n",
      "270   0.150905                 0.624634  0.860072        0.912898  0.167219   \n",
      "102   0.317269                 0.690517  0.913216        0.910229  0.476821   \n",
      "\n",
      "     USD Index_MM  Initial Jobless Claims_MM  Unemployment Rate_MM  \n",
      "101      0.632066                   0.190699              0.259542  \n",
      "193      0.219969                   0.197606              0.307888  \n",
      "72       0.593081                   0.194001              0.282443  \n",
      "298      0.182484                   0.198294              0.315522  \n",
      "15       0.495917                   0.199229              0.287532  \n",
      "..            ...                        ...                   ...  \n",
      "188      0.164933                   0.203082              0.312977  \n",
      "71       0.721471                   0.195515              0.269720  \n",
      "106      0.476929                   0.196285              0.287532  \n",
      "270      0.051360                   0.206907              0.300254  \n",
      "102      0.688591                   0.190259              0.256997  \n",
      "\n",
      "[218 rows x 19 columns], normalize=101   -0.523\n",
      "193    0.571\n",
      "72    -0.414\n",
      "298   -0.023\n",
      "15     0.301\n",
      "       ...  \n",
      "188   -0.908\n",
      "71    -0.328\n",
      "106    0.309\n",
      "270    0.323\n",
      "102   -0.600\n",
      "Name: Inflation, Length: 218, dtype: float64 as keyword args. From version 0.25 passing these as positional arguments will result in an error\n",
      "  warnings.warn(\"Pass {} as keyword args. From version 0.25 \"\n"
     ]
    }
   ],
   "source": [
    "reg_all_MM = LinearRegression(X_train_MM,y_train)"
   ]
  },
  {
   "cell_type": "code",
   "execution_count": 70,
   "metadata": {},
   "outputs": [],
   "source": [
    "lm_MM = LinearRegression().fit(X_train_MM, y_train)"
   ]
  },
  {
   "cell_type": "code",
   "execution_count": 71,
   "metadata": {},
   "outputs": [],
   "source": [
    "y_tr_pred_MM = lm.predict(X_train_MM)\n",
    "y_te_pred_MM = lm.predict(X_test_MM)"
   ]
  },
  {
   "cell_type": "code",
   "execution_count": 72,
   "metadata": {},
   "outputs": [
    {
     "data": {
      "text/plain": [
       "(0.04244332823366492, -0.1084585018992883)"
      ]
     },
     "execution_count": 72,
     "metadata": {},
     "output_type": "execute_result"
    }
   ],
   "source": [
    "median_r2_MM = r2_score(y_train_MM, y_tr_pred_MM), r2_score(y_test_MM, y_te_pred_MM)\n",
    "median_r2_MM"
   ]
  },
  {
   "cell_type": "code",
   "execution_count": 73,
   "metadata": {},
   "outputs": [
    {
     "data": {
      "text/plain": [
       "(0.08105680725634007, 0.0943169295864142)"
      ]
     },
     "execution_count": 73,
     "metadata": {},
     "output_type": "execute_result"
    }
   ],
   "source": [
    "median_mae_MM = mean_absolute_error( y_train_MM, y_tr_pred_MM), mean_absolute_error( y_test_MM, y_te_pred_MM )\n",
    "median_mae_MM"
   ]
  },
  {
   "cell_type": "code",
   "execution_count": 74,
   "metadata": {},
   "outputs": [
    {
     "data": {
      "text/plain": [
       "(0.010537232957961407, 0.014564843873227162)"
      ]
     },
     "execution_count": 74,
     "metadata": {},
     "output_type": "execute_result"
    }
   ],
   "source": [
    "median_mse_MM = mean_squared_error( y_train_MM, y_tr_pred_MM ), mean_squared_error( y_test_MM, y_te_pred_MM )\n",
    "median_mse_MM"
   ]
  },
  {
   "cell_type": "markdown",
   "metadata": {},
   "source": [
    "This scaling approach conveys that it is not appropriate for this data set."
   ]
  },
  {
   "cell_type": "markdown",
   "metadata": {},
   "source": [
    "# 3.4.3 Log Transform ( X & y scaled )"
   ]
  },
  {
   "cell_type": "markdown",
   "metadata": {},
   "source": [
    "The scalings approach & it's estimated results we will use in this section are as follows:\n",
    "   * **Log Transformation ( `_Log` )**\n",
    "      * This approach usually is used with data that has long tails"
   ]
  },
  {
   "cell_type": "code",
   "execution_count": 75,
   "metadata": {},
   "outputs": [],
   "source": [
    "LG_scaler = PowerTransformer()"
   ]
  },
  {
   "cell_type": "markdown",
   "metadata": {},
   "source": [
    "First `X_train_LG`"
   ]
  },
  {
   "cell_type": "code",
   "execution_count": 76,
   "metadata": {},
   "outputs": [
    {
     "data": {
      "text/plain": [
       "PowerTransformer()"
      ]
     },
     "execution_count": 76,
     "metadata": {},
     "output_type": "execute_result"
    }
   ],
   "source": [
    "LG_scaler.fit(X_train_LG[['Wages CPI', 'WTI', 'Copper', 'Soybeans', 'Natural Gas', 'Heating Oil',\n",
    "       'Corn', 'Wheat', 'Cattle', 'Lean Hogs', 'Sugar', 'Lumber',\n",
    "       'Capacity Utilization', 'GDP', 'M2 Velocity', 'PMI', 'PMI',\n",
    "       'Initial Jobless Claims', 'Unemployment Rate']])"
   ]
  },
  {
   "cell_type": "code",
   "execution_count": 77,
   "metadata": {},
   "outputs": [],
   "source": [
    "X_train_LG[['Wages CPI_LG', 'WTI_LG', 'Copper_LG', 'Soybeans_LG', 'Natural Gas_LG', 'Heating Oil_LG',\n",
    "       'Corn_LG', 'Wheat_LG', 'Cattle_LG', 'Lean Hogs_LG', 'Sugar_LG', 'Lumber_LG',\n",
    "       'Capacity Utilization_LG', 'GDP_LG', 'M2 Velocity_LG', 'PMI_LG', 'USD Index_LG',\n",
    "       'Initial Jobless Claims_LG', 'Unemployment Rate_LG']] = LG_scaler.transform(X_train_LG[['Wages CPI', 'WTI', 'Copper', 'Soybeans', 'Natural Gas', 'Heating Oil',\n",
    "       'Corn', 'Wheat', 'Cattle', 'Lean Hogs', 'Sugar', 'Lumber',\n",
    "       'Capacity Utilization', 'GDP', 'M2 Velocity', 'PMI', 'USD Index',\n",
    "       'Initial Jobless Claims', 'Unemployment Rate']])"
   ]
  },
  {
   "cell_type": "markdown",
   "metadata": {},
   "source": [
    "Unlike the previous scaling approaches, we will first investigate visually if they were scaled."
   ]
  },
  {
   "cell_type": "code",
   "execution_count": 78,
   "metadata": {},
   "outputs": [
    {
     "data": {
      "image/png": "[encoded data removed]",
      "text/plain": [
       "<Figure size 1080x360 with 2 Axes>"
      ]
     },
     "metadata": {
      "needs_background": "light"
     },
     "output_type": "display_data"
    },
    {
     "data": {
      "image/png": "[encoded data removed]",
      "text/plain": [
       "<Figure size 1080x360 with 2 Axes>"
      ]
     },
     "metadata": {
      "needs_background": "light"
     },
     "output_type": "display_data"
    },
    {
     "data": {
      "image/png": "[encoded data removed]",
      "text/plain": [
       "<Figure size 1080x360 with 2 Axes>"
      ]
     },
     "metadata": {
      "needs_background": "light"
     },
     "output_type": "display_data"
    },
    {
     "data": {
      "image/png": "[encoded data removed]",
      "text/plain": [
       "<Figure size 1080x360 with 2 Axes>"
      ]
     },
     "metadata": {
      "needs_background": "light"
     },
     "output_type": "display_data"
    },
    {
     "data": {
      "image/png": "[encoded data removed]",
      "text/plain": [
       "<Figure size 1080x360 with 2 Axes>"
      ]
     },
     "metadata": {
      "needs_background": "light"
     },
     "output_type": "display_data"
    },
    {
     "data": {
      "image/png": "[encoded data removed]",
      "text/plain": [
       "<Figure size 1080x360 with 2 Axes>"
      ]
     },
     "metadata": {
      "needs_background": "light"
     },
     "output_type": "display_data"
    },
    {
     "data": {
      "image/png": "[encoded data removed]",
      "text/plain": [
       "<Figure size 1080x360 with 2 Axes>"
      ]
     },
     "metadata": {
      "needs_background": "light"
     },
     "output_type": "display_data"
    },
    {
     "data": {
      "image/png": "[encoded data removed]",
      "text/plain": [
       "<Figure size 1080x360 with 2 Axes>"
      ]
     },
     "metadata": {
      "needs_background": "light"
     },
     "output_type": "display_data"
    },
    {
     "data": {
      "image/png": "[encoded data removed]",
      "text/plain": [
       "<Figure size 1080x360 with 2 Axes>"
      ]
     },
     "metadata": {
      "needs_background": "light"
     },
     "output_type": "display_data"
    },
    {
     "data": {
      "image/png": "[encoded data removed]",
      "text/plain": [
       "<Figure size 1080x360 with 2 Axes>"
      ]
     },
     "metadata": {
      "needs_background": "light"
     },
     "output_type": "display_data"
    },
    {
     "data": {
      "image/png": "[encoded data removed]",
      "text/plain": [
       "<Figure size 1080x360 with 2 Axes>"
      ]
     },
     "metadata": {
      "needs_background": "light"
     },
     "output_type": "display_data"
    },
    {
     "data": {
      "image/png": "[encoded data removed]",
      "text/plain": [
       "<Figure size 1080x360 with 2 Axes>"
      ]
     },
     "metadata": {
      "needs_background": "light"
     },
     "output_type": "display_data"
    },
    {
     "data": {
      "image/png": "[encoded data removed]",
      "text/plain": [
       "<Figure size 1080x360 with 2 Axes>"
      ]
     },
     "metadata": {
      "needs_background": "light"
     },
     "output_type": "display_data"
    },
    {
     "data": {
      "image/png": "[encoded data removed]",
      "text/plain": [
       "<Figure size 1080x360 with 2 Axes>"
      ]
     },
     "metadata": {
      "needs_background": "light"
     },
     "output_type": "display_data"
    },
    {
     "data": {
      "image/png": "[encoded data removed]",
      "text/plain": [
       "<Figure size 1080x360 with 2 Axes>"
      ]
     },
     "metadata": {
      "needs_background": "light"
     },
     "output_type": "display_data"
    },
    {
     "data": {
      "image/png": "[encoded data removed]",
      "text/plain": [
       "<Figure size 1080x360 with 2 Axes>"
      ]
     },
     "metadata": {
      "needs_background": "light"
     },
     "output_type": "display_data"
    },
    {
     "data": {
      "image/png": "[encoded data removed]",
      "text/plain": [
       "<Figure size 1080x360 with 2 Axes>"
      ]
     },
     "metadata": {
      "needs_background": "light"
     },
     "output_type": "display_data"
    },
    {
     "data": {
      "image/png": "[encoded data removed]",
      "text/plain": [
       "<Figure size 1080x360 with 2 Axes>"
      ]
     },
     "metadata": {
      "needs_background": "light"
     },
     "output_type": "display_data"
    }
   ],
   "source": [
    "# to visually confirm one of the variables\n",
    "X_train_LG[['Wages CPI','Wages CPI_LG']].hist(figsize=(15,5),bins=40)\n",
    "X_train_LG[['WTI','WTI_LG']].hist(figsize=(15,5),bins=40)\n",
    "X_train_LG[['Copper','Copper_LG']].hist(figsize=(15,5),bins=40)\n",
    "X_train_LG[['Soybeans','Soybeans_LG']].hist(figsize=(15,5),bins=40)\n",
    "X_train_LG[['Natural Gas','Natural Gas_LG']].hist(figsize=(15,5),bins=40)\n",
    "X_train_LG[['Heating Oil','Heating Oil_LG']].hist(figsize=(15,5),bins=40)\n",
    "X_train_LG[['Corn','Corn_LG']].hist(figsize=(15,5),bins=40)\n",
    "X_train_LG[['Wheat','Wheat_LG']].hist(figsize=(15,5),bins=40)\n",
    "X_train_LG[['Cattle','Cattle_LG']].hist(figsize=(15,5),bins=40)\n",
    "X_train_LG[['Lean Hogs','Lean Hogs_LG']].hist(figsize=(15,5),bins=40)\n",
    "X_train_LG[['Sugar','Sugar_LG']].hist(figsize=(15,5),bins=40)\n",
    "X_train_LG[['Lumber','Lumber_LG']].hist(figsize=(15,5),bins=40)\n",
    "X_train_LG[['Capacity Utilization','Capacity Utilization_LG']].hist(figsize=(15,5),bins=40)\n",
    "X_train_LG[['GDP','GDP_LG']].hist(figsize=(15,5),bins=40)\n",
    "X_train_LG[['M2 Velocity','M2 Velocity_LG']].hist(figsize=(15,5),bins=40)\n",
    "X_train_LG[['PMI','PMI_LG']].hist(figsize=(15,5),bins=40)\n",
    "X_train_LG[['Initial Jobless Claims','Initial Jobless Claims_LG']].hist(figsize=(15,5),bins=100)\n",
    "X_train_LG[['Unemployment Rate','Unemployment Rate_LG']].hist(figsize=(15,5),bins=40)\n",
    "plt.show()"
   ]
  },
  {
   "cell_type": "markdown",
   "metadata": {},
   "source": [
    "We will also look at a box plot."
   ]
  },
  {
   "cell_type": "code",
   "execution_count": 79,
   "metadata": {},
   "outputs": [],
   "source": [
    "df_X_train_LG = pd.DataFrame(data = X_train_LG, columns = ['Wages CPI_LG', 'WTI_LG', 'Copper_LG', 'Soybeans_LG', 'Natural Gas_LG', 'Heating Oil_LG',\n",
    "       'Corn_LG', 'Wheat_LG', 'Cattle_LG', 'Lean Hogs_LG', 'Sugar_LG', 'Lumber_LG',\n",
    "       'Capacity Utilization_LG', 'GDP_LG', 'M2 Velocity_LG', 'PMI_LG', 'USD Index_LG',\n",
    "       'Initial Jobless Claims_LG', 'Unemployment Rate_LG'])"
   ]
  },
  {
   "cell_type": "code",
   "execution_count": 80,
   "metadata": {},
   "outputs": [
    {
     "data": {
      "image/png": "[encoded data removed]",
      "text/plain": [
       "<Figure size 1152x864 with 1 Axes>"
      ]
     },
     "metadata": {
      "needs_background": "light"
     },
     "output_type": "display_data"
    }
   ],
   "source": [
    "plt.figure(figsize=(16, 12))\n",
    "chart = sns.boxplot(x='variable', y='value', data=pd.melt(df_X_train_LG))\n",
    "chart.set_xticklabels(chart.get_xticklabels(), rotation=90)\n",
    "plt.show()"
   ]
  },
  {
   "cell_type": "markdown",
   "metadata": {},
   "source": [
    "While they all seem to work, the following appear to either have an outlier issue or `Log Transform` works very well:\n",
    "   * `Wages CPI` ( prob outliers -- take a look at boxplot )\n",
    "   * `Capacity Utilization` ( maybe maybe not -- take a look w/ more buckets and.or boxplot )\n",
    "   * `GDP`\n",
    "   * `M2 Velocity`\n",
    "   * `Initial Jobless Claims` ( maybe maybe not -- take a look w/ more buckets and.or boxplot )\n",
    "   * `Unemployment Rate` ( maybe maybe not -- take a look w/ more buckets and.or boxplot )\n",
    "\n",
    "We will continue with all."
   ]
  },
  {
   "cell_type": "code",
   "execution_count": 81,
   "metadata": {},
   "outputs": [
    {
     "data": {
      "text/plain": [
       "Index(['Wages CPI', 'WTI', 'Copper', 'Soybeans', 'Natural Gas', 'Heating Oil',\n",
       "       'Corn', 'Wheat', 'Cattle', 'Lean Hogs', 'Sugar', 'Lumber',\n",
       "       'Capacity Utilization', 'GDP', 'M2 Velocity', 'PMI', 'USD Index',\n",
       "       'Initial Jobless Claims', 'Unemployment Rate', 'Wages CPI_LG', 'WTI_LG',\n",
       "       'Copper_LG', 'Soybeans_LG', 'Natural Gas_LG', 'Heating Oil_LG',\n",
       "       'Corn_LG', 'Wheat_LG', 'Cattle_LG', 'Lean Hogs_LG', 'Sugar_LG',\n",
       "       'Lumber_LG', 'Capacity Utilization_LG', 'GDP_LG', 'M2 Velocity_LG',\n",
       "       'PMI_LG', 'USD Index_LG', 'Initial Jobless Claims_LG',\n",
       "       'Unemployment Rate_LG'],\n",
       "      dtype='object')"
      ]
     },
     "execution_count": 81,
     "metadata": {},
     "output_type": "execute_result"
    }
   ],
   "source": [
    "X_train_LG.columns"
   ]
  },
  {
   "cell_type": "code",
   "execution_count": 82,
   "metadata": {},
   "outputs": [],
   "source": [
    "X_train_LG.drop(columns=prev_cols, inplace=True)"
   ]
  },
  {
   "cell_type": "code",
   "execution_count": 83,
   "metadata": {},
   "outputs": [
    {
     "data": {
      "text/html": [
       "<div>\n",
       "<style scoped>\n",
       "    .dataframe tbody tr th:only-of-type {\n",
       "        vertical-align: middle;\n",
       "    }\n",
       "\n",
       "    .dataframe tbody tr th {\n",
       "        vertical-align: top;\n",
       "    }\n",
       "\n",
       "    .dataframe thead th {\n",
       "        text-align: right;\n",
       "    }\n",
       "</style>\n",
       "<table border=\"1\" class=\"dataframe\">\n",
       "  <thead>\n",
       "    <tr style=\"text-align: right;\">\n",
       "      <th></th>\n",
       "      <th>Wages CPI_LG</th>\n",
       "      <th>WTI_LG</th>\n",
       "      <th>Copper_LG</th>\n",
       "      <th>Soybeans_LG</th>\n",
       "      <th>Natural Gas_LG</th>\n",
       "      <th>Heating Oil_LG</th>\n",
       "      <th>Corn_LG</th>\n",
       "      <th>Wheat_LG</th>\n",
       "      <th>Cattle_LG</th>\n",
       "      <th>Lean Hogs_LG</th>\n",
       "      <th>Sugar_LG</th>\n",
       "      <th>Lumber_LG</th>\n",
       "      <th>Capacity Utilization_LG</th>\n",
       "      <th>GDP_LG</th>\n",
       "      <th>M2 Velocity_LG</th>\n",
       "      <th>PMI_LG</th>\n",
       "      <th>USD Index_LG</th>\n",
       "      <th>Initial Jobless Claims_LG</th>\n",
       "      <th>Unemployment Rate_LG</th>\n",
       "    </tr>\n",
       "  </thead>\n",
       "  <tbody>\n",
       "    <tr>\n",
       "      <th>count</th>\n",
       "      <td>2.180000e+02</td>\n",
       "      <td>2.180000e+02</td>\n",
       "      <td>2.180000e+02</td>\n",
       "      <td>2.180000e+02</td>\n",
       "      <td>2.180000e+02</td>\n",
       "      <td>2.180000e+02</td>\n",
       "      <td>2.180000e+02</td>\n",
       "      <td>2.180000e+02</td>\n",
       "      <td>2.180000e+02</td>\n",
       "      <td>2.180000e+02</td>\n",
       "      <td>2.180000e+02</td>\n",
       "      <td>2.180000e+02</td>\n",
       "      <td>2.180000e+02</td>\n",
       "      <td>2.180000e+02</td>\n",
       "      <td>2.180000e+02</td>\n",
       "      <td>2.180000e+02</td>\n",
       "      <td>218.000000</td>\n",
       "      <td>2.180000e+02</td>\n",
       "      <td>2.180000e+02</td>\n",
       "    </tr>\n",
       "    <tr>\n",
       "      <th>mean</th>\n",
       "      <td>-2.340126e-16</td>\n",
       "      <td>-1.018553e-17</td>\n",
       "      <td>2.953804e-17</td>\n",
       "      <td>2.648238e-17</td>\n",
       "      <td>3.463081e-17</td>\n",
       "      <td>2.711898e-17</td>\n",
       "      <td>3.921430e-17</td>\n",
       "      <td>-3.514009e-17</td>\n",
       "      <td>4.736273e-17</td>\n",
       "      <td>-3.182979e-17</td>\n",
       "      <td>-1.120409e-17</td>\n",
       "      <td>1.121204e-17</td>\n",
       "      <td>-1.527830e-17</td>\n",
       "      <td>-2.663517e-16</td>\n",
       "      <td>7.766468e-18</td>\n",
       "      <td>4.933617e-18</td>\n",
       "      <td>-0.012799</td>\n",
       "      <td>2.419064e-17</td>\n",
       "      <td>2.495455e-17</td>\n",
       "    </tr>\n",
       "    <tr>\n",
       "      <th>std</th>\n",
       "      <td>1.002301e+00</td>\n",
       "      <td>1.002301e+00</td>\n",
       "      <td>1.002301e+00</td>\n",
       "      <td>1.002301e+00</td>\n",
       "      <td>1.002301e+00</td>\n",
       "      <td>1.002301e+00</td>\n",
       "      <td>1.002301e+00</td>\n",
       "      <td>1.002301e+00</td>\n",
       "      <td>1.002301e+00</td>\n",
       "      <td>1.002301e+00</td>\n",
       "      <td>1.002301e+00</td>\n",
       "      <td>1.002301e+00</td>\n",
       "      <td>1.002301e+00</td>\n",
       "      <td>1.002301e+00</td>\n",
       "      <td>1.002301e+00</td>\n",
       "      <td>1.002301e+00</td>\n",
       "      <td>0.012007</td>\n",
       "      <td>1.002301e+00</td>\n",
       "      <td>1.002301e+00</td>\n",
       "    </tr>\n",
       "    <tr>\n",
       "      <th>min</th>\n",
       "      <td>-4.203779e+00</td>\n",
       "      <td>-3.308051e+00</td>\n",
       "      <td>-4.790893e+00</td>\n",
       "      <td>-3.256541e+00</td>\n",
       "      <td>-2.351455e+00</td>\n",
       "      <td>-2.941212e+00</td>\n",
       "      <td>-2.924180e+00</td>\n",
       "      <td>-2.556952e+00</td>\n",
       "      <td>-2.633208e+00</td>\n",
       "      <td>-2.438256e+00</td>\n",
       "      <td>-3.468529e+00</td>\n",
       "      <td>-3.038505e+00</td>\n",
       "      <td>-4.520455e+00</td>\n",
       "      <td>-3.102066e+00</td>\n",
       "      <td>-3.155028e+00</td>\n",
       "      <td>-3.893245e+00</td>\n",
       "      <td>-0.037961</td>\n",
       "      <td>-1.037009e+01</td>\n",
       "      <td>-9.181910e+00</td>\n",
       "    </tr>\n",
       "    <tr>\n",
       "      <th>25%</th>\n",
       "      <td>-3.922100e-01</td>\n",
       "      <td>-6.014282e-01</td>\n",
       "      <td>-5.750684e-01</td>\n",
       "      <td>-5.083560e-01</td>\n",
       "      <td>-6.365610e-01</td>\n",
       "      <td>-5.845875e-01</td>\n",
       "      <td>-6.062502e-01</td>\n",
       "      <td>-6.420350e-01</td>\n",
       "      <td>-6.802635e-01</td>\n",
       "      <td>-6.221477e-01</td>\n",
       "      <td>-6.725542e-01</td>\n",
       "      <td>-6.727191e-01</td>\n",
       "      <td>-3.616021e-01</td>\n",
       "      <td>-5.612664e-01</td>\n",
       "      <td>-4.877854e-01</td>\n",
       "      <td>-5.535478e-01</td>\n",
       "      <td>-0.022312</td>\n",
       "      <td>-5.411911e-02</td>\n",
       "      <td>-2.153957e-01</td>\n",
       "    </tr>\n",
       "    <tr>\n",
       "      <th>50%</th>\n",
       "      <td>2.665979e-02</td>\n",
       "      <td>-8.488108e-02</td>\n",
       "      <td>-6.524111e-02</td>\n",
       "      <td>-5.906084e-02</td>\n",
       "      <td>-6.468975e-02</td>\n",
       "      <td>-9.381907e-02</td>\n",
       "      <td>-1.671215e-02</td>\n",
       "      <td>6.137467e-02</td>\n",
       "      <td>2.357134e-02</td>\n",
       "      <td>-4.833773e-02</td>\n",
       "      <td>-1.004732e-01</td>\n",
       "      <td>3.617663e-02</td>\n",
       "      <td>6.764572e-02</td>\n",
       "      <td>-5.308771e-02</td>\n",
       "      <td>-1.275063e-01</td>\n",
       "      <td>5.063059e-02</td>\n",
       "      <td>-0.012357</td>\n",
       "      <td>5.152233e-02</td>\n",
       "      <td>-5.318401e-02</td>\n",
       "    </tr>\n",
       "    <tr>\n",
       "      <th>75%</th>\n",
       "      <td>3.947888e-01</td>\n",
       "      <td>6.501558e-01</td>\n",
       "      <td>5.626163e-01</td>\n",
       "      <td>5.299037e-01</td>\n",
       "      <td>6.392270e-01</td>\n",
       "      <td>6.113677e-01</td>\n",
       "      <td>5.536605e-01</td>\n",
       "      <td>6.883328e-01</td>\n",
       "      <td>7.166612e-01</td>\n",
       "      <td>7.255195e-01</td>\n",
       "      <td>6.539755e-01</td>\n",
       "      <td>6.712153e-01</td>\n",
       "      <td>4.176488e-01</td>\n",
       "      <td>5.796108e-01</td>\n",
       "      <td>5.338289e-01</td>\n",
       "      <td>5.976906e-01</td>\n",
       "      <td>-0.005258</td>\n",
       "      <td>1.047383e-01</td>\n",
       "      <td>1.530685e-01</td>\n",
       "    </tr>\n",
       "    <tr>\n",
       "      <th>max</th>\n",
       "      <td>4.675375e+00</td>\n",
       "      <td>3.071756e+00</td>\n",
       "      <td>3.530729e+00</td>\n",
       "      <td>2.828528e+00</td>\n",
       "      <td>2.453249e+00</td>\n",
       "      <td>2.727610e+00</td>\n",
       "      <td>2.942093e+00</td>\n",
       "      <td>2.934426e+00</td>\n",
       "      <td>2.718479e+00</td>\n",
       "      <td>2.680506e+00</td>\n",
       "      <td>2.825044e+00</td>\n",
       "      <td>3.940244e+00</td>\n",
       "      <td>6.673082e+00</td>\n",
       "      <td>3.243365e+00</td>\n",
       "      <td>2.464245e+00</td>\n",
       "      <td>3.163166e+00</td>\n",
       "      <td>0.019044</td>\n",
       "      <td>7.995727e+00</td>\n",
       "      <td>7.548036e+00</td>\n",
       "    </tr>\n",
       "  </tbody>\n",
       "</table>\n",
       "</div>"
      ],
      "text/plain": [
       "       Wages CPI_LG        WTI_LG     Copper_LG   Soybeans_LG  Natural Gas_LG  \\\n",
       "count  2.180000e+02  2.180000e+02  2.180000e+02  2.180000e+02    2.180000e+02   \n",
       "mean  -2.340126e-16 -1.018553e-17  2.953804e-17  2.648238e-17    3.463081e-17   \n",
       "std    1.002301e+00  1.002301e+00  1.002301e+00  1.002301e+00    1.002301e+00   \n",
       "min   -4.203779e+00 -3.308051e+00 -4.790893e+00 -3.256541e+00   -2.351455e+00   \n",
       "25%   -3.922100e-01 -6.014282e-01 -5.750684e-01 -5.083560e-01   -6.365610e-01   \n",
       "50%    2.665979e-02 -8.488108e-02 -6.524111e-02 -5.906084e-02   -6.468975e-02   \n",
       "75%    3.947888e-01  6.501558e-01  5.626163e-01  5.299037e-01    6.392270e-01   \n",
       "max    4.675375e+00  3.071756e+00  3.530729e+00  2.828528e+00    2.453249e+00   \n",
       "\n",
       "       Heating Oil_LG       Corn_LG      Wheat_LG     Cattle_LG  Lean Hogs_LG  \\\n",
       "count    2.180000e+02  2.180000e+02  2.180000e+02  2.180000e+02  2.180000e+02   \n",
       "mean     2.711898e-17  3.921430e-17 -3.514009e-17  4.736273e-17 -3.182979e-17   \n",
       "std      1.002301e+00  1.002301e+00  1.002301e+00  1.002301e+00  1.002301e+00   \n",
       "min     -2.941212e+00 -2.924180e+00 -2.556952e+00 -2.633208e+00 -2.438256e+00   \n",
       "25%     -5.845875e-01 -6.062502e-01 -6.420350e-01 -6.802635e-01 -6.221477e-01   \n",
       "50%     -9.381907e-02 -1.671215e-02  6.137467e-02  2.357134e-02 -4.833773e-02   \n",
       "75%      6.113677e-01  5.536605e-01  6.883328e-01  7.166612e-01  7.255195e-01   \n",
       "max      2.727610e+00  2.942093e+00  2.934426e+00  2.718479e+00  2.680506e+00   \n",
       "\n",
       "           Sugar_LG     Lumber_LG  Capacity Utilization_LG        GDP_LG  \\\n",
       "count  2.180000e+02  2.180000e+02             2.180000e+02  2.180000e+02   \n",
       "mean  -1.120409e-17  1.121204e-17            -1.527830e-17 -2.663517e-16   \n",
       "std    1.002301e+00  1.002301e+00             1.002301e+00  1.002301e+00   \n",
       "min   -3.468529e+00 -3.038505e+00            -4.520455e+00 -3.102066e+00   \n",
       "25%   -6.725542e-01 -6.727191e-01            -3.616021e-01 -5.612664e-01   \n",
       "50%   -1.004732e-01  3.617663e-02             6.764572e-02 -5.308771e-02   \n",
       "75%    6.539755e-01  6.712153e-01             4.176488e-01  5.796108e-01   \n",
       "max    2.825044e+00  3.940244e+00             6.673082e+00  3.243365e+00   \n",
       "\n",
       "       M2 Velocity_LG        PMI_LG  USD Index_LG  Initial Jobless Claims_LG  \\\n",
       "count    2.180000e+02  2.180000e+02    218.000000               2.180000e+02   \n",
       "mean     7.766468e-18  4.933617e-18     -0.012799               2.419064e-17   \n",
       "std      1.002301e+00  1.002301e+00      0.012007               1.002301e+00   \n",
       "min     -3.155028e+00 -3.893245e+00     -0.037961              -1.037009e+01   \n",
       "25%     -4.877854e-01 -5.535478e-01     -0.022312              -5.411911e-02   \n",
       "50%     -1.275063e-01  5.063059e-02     -0.012357               5.152233e-02   \n",
       "75%      5.338289e-01  5.976906e-01     -0.005258               1.047383e-01   \n",
       "max      2.464245e+00  3.163166e+00      0.019044               7.995727e+00   \n",
       "\n",
       "       Unemployment Rate_LG  \n",
       "count          2.180000e+02  \n",
       "mean           2.495455e-17  \n",
       "std            1.002301e+00  \n",
       "min           -9.181910e+00  \n",
       "25%           -2.153957e-01  \n",
       "50%           -5.318401e-02  \n",
       "75%            1.530685e-01  \n",
       "max            7.548036e+00  "
      ]
     },
     "execution_count": 83,
     "metadata": {},
     "output_type": "execute_result"
    }
   ],
   "source": [
    "X_train_LG.describe()"
   ]
  },
  {
   "cell_type": "markdown",
   "metadata": {},
   "source": [
    "All have a **Standard Deviation** `std` of 1 & A **Mean** `mean` of 0 so we will continue to the next."
   ]
  },
  {
   "cell_type": "markdown",
   "metadata": {},
   "source": [
    "`X_test_LG` will not be fitted."
   ]
  },
  {
   "cell_type": "code",
   "execution_count": 84,
   "metadata": {},
   "outputs": [],
   "source": [
    "X_test_LG[['Wages CPI_LG', 'WTI_LG', 'Copper_LG', 'Soybeans_LG', 'Natural Gas_LG', 'Heating Oil_LG',\n",
    "       'Corn_LG', 'Wheat_LG', 'Cattle_LG', 'Lean Hogs_LG', 'Sugar_LG', 'Lumber_LG',\n",
    "       'Capacity Utilization_LG', 'GDP_LG', 'M2 Velocity_LG', 'PMI_LG', 'USD Index_LG',\n",
    "       'Initial Jobless Claims_LG', 'Unemployment Rate_LG']] = LG_scaler.transform(X_test_LG[['Wages CPI', 'WTI', 'Copper', 'Soybeans', 'Natural Gas', 'Heating Oil',\n",
    "       'Corn', 'Wheat', 'Cattle', 'Lean Hogs', 'Sugar', 'Lumber',\n",
    "       'Capacity Utilization', 'GDP', 'M2 Velocity', 'PMI', 'USD Index',\n",
    "       'Initial Jobless Claims', 'Unemployment Rate']])"
   ]
  },
  {
   "cell_type": "code",
   "execution_count": 85,
   "metadata": {},
   "outputs": [
    {
     "data": {
      "text/plain": [
       "Index(['Wages CPI', 'WTI', 'Copper', 'Soybeans', 'Natural Gas', 'Heating Oil',\n",
       "       'Corn', 'Wheat', 'Cattle', 'Lean Hogs', 'Sugar', 'Lumber',\n",
       "       'Capacity Utilization', 'GDP', 'M2 Velocity', 'PMI', 'USD Index',\n",
       "       'Initial Jobless Claims', 'Unemployment Rate', 'Wages CPI_LG', 'WTI_LG',\n",
       "       'Copper_LG', 'Soybeans_LG', 'Natural Gas_LG', 'Heating Oil_LG',\n",
       "       'Corn_LG', 'Wheat_LG', 'Cattle_LG', 'Lean Hogs_LG', 'Sugar_LG',\n",
       "       'Lumber_LG', 'Capacity Utilization_LG', 'GDP_LG', 'M2 Velocity_LG',\n",
       "       'PMI_LG', 'USD Index_LG', 'Initial Jobless Claims_LG',\n",
       "       'Unemployment Rate_LG'],\n",
       "      dtype='object')"
      ]
     },
     "execution_count": 85,
     "metadata": {},
     "output_type": "execute_result"
    }
   ],
   "source": [
    "X_test_LG.columns"
   ]
  },
  {
   "cell_type": "code",
   "execution_count": 86,
   "metadata": {},
   "outputs": [],
   "source": [
    "X_test_LG.drop(columns=prev_cols, inplace=True)"
   ]
  },
  {
   "cell_type": "code",
   "execution_count": 87,
   "metadata": {},
   "outputs": [
    {
     "data": {
      "text/html": [
       "<div>\n",
       "<style scoped>\n",
       "    .dataframe tbody tr th:only-of-type {\n",
       "        vertical-align: middle;\n",
       "    }\n",
       "\n",
       "    .dataframe tbody tr th {\n",
       "        vertical-align: top;\n",
       "    }\n",
       "\n",
       "    .dataframe thead th {\n",
       "        text-align: right;\n",
       "    }\n",
       "</style>\n",
       "<table border=\"1\" class=\"dataframe\">\n",
       "  <thead>\n",
       "    <tr style=\"text-align: right;\">\n",
       "      <th></th>\n",
       "      <th>Wages CPI_LG</th>\n",
       "      <th>WTI_LG</th>\n",
       "      <th>Copper_LG</th>\n",
       "      <th>Soybeans_LG</th>\n",
       "      <th>Natural Gas_LG</th>\n",
       "      <th>Heating Oil_LG</th>\n",
       "      <th>Corn_LG</th>\n",
       "      <th>Wheat_LG</th>\n",
       "      <th>Cattle_LG</th>\n",
       "      <th>Lean Hogs_LG</th>\n",
       "      <th>Sugar_LG</th>\n",
       "      <th>Lumber_LG</th>\n",
       "      <th>Capacity Utilization_LG</th>\n",
       "      <th>GDP_LG</th>\n",
       "      <th>M2 Velocity_LG</th>\n",
       "      <th>PMI_LG</th>\n",
       "      <th>USD Index_LG</th>\n",
       "      <th>Initial Jobless Claims_LG</th>\n",
       "      <th>Unemployment Rate_LG</th>\n",
       "    </tr>\n",
       "  </thead>\n",
       "  <tbody>\n",
       "    <tr>\n",
       "      <th>count</th>\n",
       "      <td>94.000000</td>\n",
       "      <td>94.000000</td>\n",
       "      <td>94.000000</td>\n",
       "      <td>94.000000</td>\n",
       "      <td>94.000000</td>\n",
       "      <td>94.000000</td>\n",
       "      <td>94.000000</td>\n",
       "      <td>94.000000</td>\n",
       "      <td>94.000000</td>\n",
       "      <td>94.000000</td>\n",
       "      <td>94.000000</td>\n",
       "      <td>94.000000</td>\n",
       "      <td>94.000000</td>\n",
       "      <td>94.000000</td>\n",
       "      <td>94.000000</td>\n",
       "      <td>94.000000</td>\n",
       "      <td>94.000000</td>\n",
       "      <td>94.000000</td>\n",
       "      <td>94.000000</td>\n",
       "    </tr>\n",
       "    <tr>\n",
       "      <th>mean</th>\n",
       "      <td>-0.047693</td>\n",
       "      <td>-0.037448</td>\n",
       "      <td>-0.153213</td>\n",
       "      <td>0.159483</td>\n",
       "      <td>0.002810</td>\n",
       "      <td>-0.159143</td>\n",
       "      <td>0.264644</td>\n",
       "      <td>0.138916</td>\n",
       "      <td>-0.017094</td>\n",
       "      <td>0.151326</td>\n",
       "      <td>0.065967</td>\n",
       "      <td>0.042307</td>\n",
       "      <td>0.176193</td>\n",
       "      <td>5.586587</td>\n",
       "      <td>0.120131</td>\n",
       "      <td>-0.186320</td>\n",
       "      <td>-0.012710</td>\n",
       "      <td>-0.909727</td>\n",
       "      <td>-0.150826</td>\n",
       "    </tr>\n",
       "    <tr>\n",
       "      <th>std</th>\n",
       "      <td>0.936789</td>\n",
       "      <td>1.128672</td>\n",
       "      <td>1.012834</td>\n",
       "      <td>1.141851</td>\n",
       "      <td>0.997253</td>\n",
       "      <td>0.929729</td>\n",
       "      <td>1.064146</td>\n",
       "      <td>1.049302</td>\n",
       "      <td>1.028891</td>\n",
       "      <td>1.100073</td>\n",
       "      <td>0.895027</td>\n",
       "      <td>1.322624</td>\n",
       "      <td>1.686065</td>\n",
       "      <td>31.889558</td>\n",
       "      <td>1.803137</td>\n",
       "      <td>1.077949</td>\n",
       "      <td>0.012223</td>\n",
       "      <td>5.822624</td>\n",
       "      <td>1.526160</td>\n",
       "    </tr>\n",
       "    <tr>\n",
       "      <th>min</th>\n",
       "      <td>-3.920954</td>\n",
       "      <td>-3.287139</td>\n",
       "      <td>-4.904334</td>\n",
       "      <td>-3.550108</td>\n",
       "      <td>-2.528186</td>\n",
       "      <td>-3.013564</td>\n",
       "      <td>-3.268768</td>\n",
       "      <td>-4.099501</td>\n",
       "      <td>-2.896506</td>\n",
       "      <td>-2.016261</td>\n",
       "      <td>-2.322866</td>\n",
       "      <td>-2.804925</td>\n",
       "      <td>-4.434456</td>\n",
       "      <td>-3.102066</td>\n",
       "      <td>-3.155028</td>\n",
       "      <td>-4.946035</td>\n",
       "      <td>-0.038387</td>\n",
       "      <td>-45.855891</td>\n",
       "      <td>-10.531449</td>\n",
       "    </tr>\n",
       "    <tr>\n",
       "      <th>25%</th>\n",
       "      <td>-0.512638</td>\n",
       "      <td>-0.566183</td>\n",
       "      <td>-0.680598</td>\n",
       "      <td>-0.536740</td>\n",
       "      <td>-0.535525</td>\n",
       "      <td>-0.619124</td>\n",
       "      <td>-0.287157</td>\n",
       "      <td>-0.507488</td>\n",
       "      <td>-0.787777</td>\n",
       "      <td>-0.706116</td>\n",
       "      <td>-0.453744</td>\n",
       "      <td>-0.770490</td>\n",
       "      <td>-0.297658</td>\n",
       "      <td>-0.696151</td>\n",
       "      <td>-0.730212</td>\n",
       "      <td>-0.873789</td>\n",
       "      <td>-0.020109</td>\n",
       "      <td>-0.059427</td>\n",
       "      <td>-0.270843</td>\n",
       "    </tr>\n",
       "    <tr>\n",
       "      <th>50%</th>\n",
       "      <td>0.089276</td>\n",
       "      <td>0.038451</td>\n",
       "      <td>-0.270453</td>\n",
       "      <td>0.025206</td>\n",
       "      <td>0.017914</td>\n",
       "      <td>-0.086442</td>\n",
       "      <td>0.200127</td>\n",
       "      <td>0.068382</td>\n",
       "      <td>0.022997</td>\n",
       "      <td>0.032323</td>\n",
       "      <td>-0.013983</td>\n",
       "      <td>-0.106885</td>\n",
       "      <td>0.092531</td>\n",
       "      <td>-0.168892</td>\n",
       "      <td>-0.219277</td>\n",
       "      <td>-0.265238</td>\n",
       "      <td>-0.013504</td>\n",
       "      <td>0.026916</td>\n",
       "      <td>-0.106555</td>\n",
       "    </tr>\n",
       "    <tr>\n",
       "      <th>75%</th>\n",
       "      <td>0.424234</td>\n",
       "      <td>0.487573</td>\n",
       "      <td>0.441645</td>\n",
       "      <td>0.795398</td>\n",
       "      <td>0.752372</td>\n",
       "      <td>0.472593</td>\n",
       "      <td>0.864834</td>\n",
       "      <td>0.762557</td>\n",
       "      <td>0.801550</td>\n",
       "      <td>0.895996</td>\n",
       "      <td>0.635791</td>\n",
       "      <td>0.772985</td>\n",
       "      <td>0.399815</td>\n",
       "      <td>0.294391</td>\n",
       "      <td>0.604431</td>\n",
       "      <td>0.397687</td>\n",
       "      <td>-0.005721</td>\n",
       "      <td>0.098485</td>\n",
       "      <td>0.102587</td>\n",
       "    </tr>\n",
       "    <tr>\n",
       "      <th>max</th>\n",
       "      <td>2.326684</td>\n",
       "      <td>4.558602</td>\n",
       "      <td>2.577670</td>\n",
       "      <td>3.007478</td>\n",
       "      <td>2.178059</td>\n",
       "      <td>1.883646</td>\n",
       "      <td>3.477895</td>\n",
       "      <td>2.937958</td>\n",
       "      <td>1.979732</td>\n",
       "      <td>2.693881</td>\n",
       "      <td>2.469022</td>\n",
       "      <td>4.689258</td>\n",
       "      <td>12.738059</td>\n",
       "      <td>180.209518</td>\n",
       "      <td>8.746628</td>\n",
       "      <td>2.793352</td>\n",
       "      <td>0.028239</td>\n",
       "      <td>10.843220</td>\n",
       "      <td>6.385635</td>\n",
       "    </tr>\n",
       "  </tbody>\n",
       "</table>\n",
       "</div>"
      ],
      "text/plain": [
       "       Wages CPI_LG     WTI_LG  Copper_LG  Soybeans_LG  Natural Gas_LG  \\\n",
       "count     94.000000  94.000000  94.000000    94.000000       94.000000   \n",
       "mean      -0.047693  -0.037448  -0.153213     0.159483        0.002810   \n",
       "std        0.936789   1.128672   1.012834     1.141851        0.997253   \n",
       "min       -3.920954  -3.287139  -4.904334    -3.550108       -2.528186   \n",
       "25%       -0.512638  -0.566183  -0.680598    -0.536740       -0.535525   \n",
       "50%        0.089276   0.038451  -0.270453     0.025206        0.017914   \n",
       "75%        0.424234   0.487573   0.441645     0.795398        0.752372   \n",
       "max        2.326684   4.558602   2.577670     3.007478        2.178059   \n",
       "\n",
       "       Heating Oil_LG    Corn_LG   Wheat_LG  Cattle_LG  Lean Hogs_LG  \\\n",
       "count       94.000000  94.000000  94.000000  94.000000     94.000000   \n",
       "mean        -0.159143   0.264644   0.138916  -0.017094      0.151326   \n",
       "std          0.929729   1.064146   1.049302   1.028891      1.100073   \n",
       "min         -3.013564  -3.268768  -4.099501  -2.896506     -2.016261   \n",
       "25%         -0.619124  -0.287157  -0.507488  -0.787777     -0.706116   \n",
       "50%         -0.086442   0.200127   0.068382   0.022997      0.032323   \n",
       "75%          0.472593   0.864834   0.762557   0.801550      0.895996   \n",
       "max          1.883646   3.477895   2.937958   1.979732      2.693881   \n",
       "\n",
       "        Sugar_LG  Lumber_LG  Capacity Utilization_LG      GDP_LG  \\\n",
       "count  94.000000  94.000000                94.000000   94.000000   \n",
       "mean    0.065967   0.042307                 0.176193    5.586587   \n",
       "std     0.895027   1.322624                 1.686065   31.889558   \n",
       "min    -2.322866  -2.804925                -4.434456   -3.102066   \n",
       "25%    -0.453744  -0.770490                -0.297658   -0.696151   \n",
       "50%    -0.013983  -0.106885                 0.092531   -0.168892   \n",
       "75%     0.635791   0.772985                 0.399815    0.294391   \n",
       "max     2.469022   4.689258                12.738059  180.209518   \n",
       "\n",
       "       M2 Velocity_LG     PMI_LG  USD Index_LG  Initial Jobless Claims_LG  \\\n",
       "count       94.000000  94.000000     94.000000                  94.000000   \n",
       "mean         0.120131  -0.186320     -0.012710                  -0.909727   \n",
       "std          1.803137   1.077949      0.012223                   5.822624   \n",
       "min         -3.155028  -4.946035     -0.038387                 -45.855891   \n",
       "25%         -0.730212  -0.873789     -0.020109                  -0.059427   \n",
       "50%         -0.219277  -0.265238     -0.013504                   0.026916   \n",
       "75%          0.604431   0.397687     -0.005721                   0.098485   \n",
       "max          8.746628   2.793352      0.028239                  10.843220   \n",
       "\n",
       "       Unemployment Rate_LG  \n",
       "count             94.000000  \n",
       "mean              -0.150826  \n",
       "std                1.526160  \n",
       "min              -10.531449  \n",
       "25%               -0.270843  \n",
       "50%               -0.106555  \n",
       "75%                0.102587  \n",
       "max                6.385635  "
      ]
     },
     "execution_count": 87,
     "metadata": {},
     "output_type": "execute_result"
    }
   ],
   "source": [
    "X_test_LG.describe()"
   ]
  },
  {
   "cell_type": "markdown",
   "metadata": {},
   "source": [
    "Next `y_train_LG`"
   ]
  },
  {
   "cell_type": "code",
   "execution_count": 88,
   "metadata": {},
   "outputs": [
    {
     "data": {
      "text/plain": [
       "PowerTransformer()"
      ]
     },
     "execution_count": 88,
     "metadata": {},
     "output_type": "execute_result"
    }
   ],
   "source": [
    "LG_scaler.fit(y_train_LG[['Inflation']])"
   ]
  },
  {
   "cell_type": "code",
   "execution_count": 89,
   "metadata": {},
   "outputs": [],
   "source": [
    "y_train_LG['Inflation_LG'] = LG_scaler.transform(y_train_LG[['Inflation']])\n",
    "y_train_LG.drop(columns='Inflation', inplace=True)"
   ]
  },
  {
   "cell_type": "code",
   "execution_count": 90,
   "metadata": {},
   "outputs": [
    {
     "data": {
      "text/html": [
       "<div>\n",
       "<style scoped>\n",
       "    .dataframe tbody tr th:only-of-type {\n",
       "        vertical-align: middle;\n",
       "    }\n",
       "\n",
       "    .dataframe tbody tr th {\n",
       "        vertical-align: top;\n",
       "    }\n",
       "\n",
       "    .dataframe thead th {\n",
       "        text-align: right;\n",
       "    }\n",
       "</style>\n",
       "<table border=\"1\" class=\"dataframe\">\n",
       "  <thead>\n",
       "    <tr style=\"text-align: right;\">\n",
       "      <th></th>\n",
       "      <th>Inflation_LG</th>\n",
       "    </tr>\n",
       "  </thead>\n",
       "  <tbody>\n",
       "    <tr>\n",
       "      <th>count</th>\n",
       "      <td>2.180000e+02</td>\n",
       "    </tr>\n",
       "    <tr>\n",
       "      <th>mean</th>\n",
       "      <td>-1.476902e-17</td>\n",
       "    </tr>\n",
       "    <tr>\n",
       "      <th>std</th>\n",
       "      <td>1.002301e+00</td>\n",
       "    </tr>\n",
       "    <tr>\n",
       "      <th>min</th>\n",
       "      <td>-4.657212e+00</td>\n",
       "    </tr>\n",
       "    <tr>\n",
       "      <th>25%</th>\n",
       "      <td>-4.084960e-01</td>\n",
       "    </tr>\n",
       "    <tr>\n",
       "      <th>50%</th>\n",
       "      <td>1.670749e-03</td>\n",
       "    </tr>\n",
       "    <tr>\n",
       "      <th>75%</th>\n",
       "      <td>4.547053e-01</td>\n",
       "    </tr>\n",
       "    <tr>\n",
       "      <th>max</th>\n",
       "      <td>4.837648e+00</td>\n",
       "    </tr>\n",
       "  </tbody>\n",
       "</table>\n",
       "</div>"
      ],
      "text/plain": [
       "       Inflation_LG\n",
       "count  2.180000e+02\n",
       "mean  -1.476902e-17\n",
       "std    1.002301e+00\n",
       "min   -4.657212e+00\n",
       "25%   -4.084960e-01\n",
       "50%    1.670749e-03\n",
       "75%    4.547053e-01\n",
       "max    4.837648e+00"
      ]
     },
     "execution_count": 90,
     "metadata": {},
     "output_type": "execute_result"
    }
   ],
   "source": [
    "y_train_LG.describe()"
   ]
  },
  {
   "cell_type": "markdown",
   "metadata": {},
   "source": [
    "`y_test_LG` will not be 'fitted'."
   ]
  },
  {
   "cell_type": "code",
   "execution_count": 91,
   "metadata": {},
   "outputs": [],
   "source": [
    "y_test_LG['Inflation_LG'] = LG_scaler.transform(y_test_LG[['Inflation']])\n",
    "y_test_LG.drop(columns='Inflation', inplace=True)"
   ]
  },
  {
   "cell_type": "code",
   "execution_count": 92,
   "metadata": {},
   "outputs": [
    {
     "data": {
      "text/html": [
       "<div>\n",
       "<style scoped>\n",
       "    .dataframe tbody tr th:only-of-type {\n",
       "        vertical-align: middle;\n",
       "    }\n",
       "\n",
       "    .dataframe tbody tr th {\n",
       "        vertical-align: top;\n",
       "    }\n",
       "\n",
       "    .dataframe thead th {\n",
       "        text-align: right;\n",
       "    }\n",
       "</style>\n",
       "<table border=\"1\" class=\"dataframe\">\n",
       "  <thead>\n",
       "    <tr style=\"text-align: right;\">\n",
       "      <th></th>\n",
       "      <th>Inflation_LG</th>\n",
       "    </tr>\n",
       "  </thead>\n",
       "  <tbody>\n",
       "    <tr>\n",
       "      <th>count</th>\n",
       "      <td>94.000000</td>\n",
       "    </tr>\n",
       "    <tr>\n",
       "      <th>mean</th>\n",
       "      <td>0.171549</td>\n",
       "    </tr>\n",
       "    <tr>\n",
       "      <th>std</th>\n",
       "      <td>1.113639</td>\n",
       "    </tr>\n",
       "    <tr>\n",
       "      <th>min</th>\n",
       "      <td>-6.322960</td>\n",
       "    </tr>\n",
       "    <tr>\n",
       "      <th>25%</th>\n",
       "      <td>-0.358347</td>\n",
       "    </tr>\n",
       "    <tr>\n",
       "      <th>50%</th>\n",
       "      <td>0.204995</td>\n",
       "    </tr>\n",
       "    <tr>\n",
       "      <th>75%</th>\n",
       "      <td>0.727292</td>\n",
       "    </tr>\n",
       "    <tr>\n",
       "      <th>max</th>\n",
       "      <td>3.458603</td>\n",
       "    </tr>\n",
       "  </tbody>\n",
       "</table>\n",
       "</div>"
      ],
      "text/plain": [
       "       Inflation_LG\n",
       "count     94.000000\n",
       "mean       0.171549\n",
       "std        1.113639\n",
       "min       -6.322960\n",
       "25%       -0.358347\n",
       "50%        0.204995\n",
       "75%        0.727292\n",
       "max        3.458603"
      ]
     },
     "execution_count": 92,
     "metadata": {},
     "output_type": "execute_result"
    }
   ],
   "source": [
    "y_test_LG.describe()"
   ]
  },
  {
   "cell_type": "markdown",
   "metadata": {},
   "source": [
    "Finally `y_tr_pred_LG`"
   ]
  },
  {
   "cell_type": "code",
   "execution_count": 93,
   "metadata": {},
   "outputs": [],
   "source": [
    "reg_new_LG = LinearRegression()"
   ]
  },
  {
   "cell_type": "code",
   "execution_count": 94,
   "metadata": {},
   "outputs": [
    {
     "name": "stderr",
     "output_type": "stream",
     "text": [
      "C:\\Users\\rands\\anaconda3\\lib\\site-packages\\sklearn\\utils\\validation.py:67: FutureWarning: Pass dual=     Inflation_LG\n",
      "101     -0.554933\n",
      "193      0.808334\n",
      "72      -0.416118\n",
      "298      0.076718\n",
      "15       0.478078\n",
      "..            ...\n",
      "188     -1.049346\n",
      "71      -0.307001\n",
      "106      0.487913\n",
      "270      0.505117\n",
      "102     -0.653323\n",
      "\n",
      "[218 rows x 1 columns] as keyword args. From version 0.25 passing these as positional arguments will result in an error\n",
      "  warnings.warn(\"Pass {} as keyword args. From version 0.25 \"\n"
     ]
    }
   ],
   "source": [
    "reg_new_LG = LogisticRegression(X_train_LG,y_train_LG)"
   ]
  },
  {
   "cell_type": "code",
   "execution_count": 95,
   "metadata": {},
   "outputs": [],
   "source": [
    "lm_LG = LinearRegression().fit(X_train_LG, y_train_LG)"
   ]
  },
  {
   "cell_type": "code",
   "execution_count": 96,
   "metadata": {},
   "outputs": [],
   "source": [
    "y_tr_pred_LG = lm_LG.predict(X_train_LG)\n",
    "y_te_pred_LG = lm_LG.predict(X_test_LG)"
   ]
  },
  {
   "cell_type": "code",
   "execution_count": 97,
   "metadata": {},
   "outputs": [
    {
     "data": {
      "text/plain": [
       "(0.4148569866278432, -23.831871225431428)"
      ]
     },
     "execution_count": 97,
     "metadata": {},
     "output_type": "execute_result"
    }
   ],
   "source": [
    "median_r2_LG = r2_score(y_train_LG, y_tr_pred_LG), r2_score(y_test_LG, y_te_pred_LG)\n",
    "median_r2_LG"
   ]
  },
  {
   "cell_type": "code",
   "execution_count": 98,
   "metadata": {},
   "outputs": [
    {
     "data": {
      "text/plain": [
       "(0.5477840016169129, 1.6306174827253697)"
      ]
     },
     "execution_count": 98,
     "metadata": {},
     "output_type": "execute_result"
    }
   ],
   "source": [
    "median_mae_LG = mean_absolute_error( y_train_LG, y_tr_pred_LG), mean_absolute_error( y_test_LG, y_te_pred_LG )\n",
    "median_mae_LG"
   ]
  },
  {
   "cell_type": "code",
   "execution_count": 99,
   "metadata": {
    "scrolled": true
   },
   "outputs": [
    {
     "data": {
      "text/plain": [
       "(0.5851430133721568, 30.468676447186148)"
      ]
     },
     "execution_count": 99,
     "metadata": {},
     "output_type": "execute_result"
    }
   ],
   "source": [
    "median_mse_LG = mean_squared_error( y_train_LG, y_tr_pred_LG ), mean_squared_error( y_test_LG, y_te_pred_LG )\n",
    "median_mse_LG"
   ]
  },
  {
   "cell_type": "markdown",
   "metadata": {},
   "source": [
    "**Standardization ( X only )** | *Assignment to its respective data frames.*"
   ]
  },
  {
   "cell_type": "code",
   "execution_count": 100,
   "metadata": {},
   "outputs": [],
   "source": [
    "X_train_SS_y_uns = pd.DataFrame(X_train.copy())\n",
    "X_test_SS_y_uns = pd.DataFrame(X_test.copy())\n",
    "y_train_SS_y_uns = pd.DataFrame(y_train.copy())\n",
    "y_test_SS_y_uns = pd.DataFrame(y_test.copy())\n",
    "y_tr_pred_SS_y_uns = pd.DataFrame(y_pred.copy())"
   ]
  },
  {
   "cell_type": "markdown",
   "metadata": {},
   "source": [
    "**MinMaxScaler ( X only )** | *Assignment to its respective data frames.*"
   ]
  },
  {
   "cell_type": "code",
   "execution_count": 101,
   "metadata": {},
   "outputs": [],
   "source": [
    "X_train_MM_y_uns = pd.DataFrame(X_train.copy())\n",
    "X_test_MM_y_uns = pd.DataFrame(X_test.copy())\n",
    "y_train_MM_y_uns = pd.DataFrame(y_train.copy())\n",
    "y_test_MM_y_uns = pd.DataFrame(y_test.copy())\n",
    "y_tr_pred_MM_y_uns = pd.DataFrame(y_pred.copy())"
   ]
  },
  {
   "cell_type": "markdown",
   "metadata": {},
   "source": [
    "**Log Transformation ( X only )** | *Assignment to its respective data frames.*"
   ]
  },
  {
   "cell_type": "code",
   "execution_count": 102,
   "metadata": {},
   "outputs": [],
   "source": [
    "X_train_LG_y_uns = pd.DataFrame(X_train.copy())\n",
    "X_test_LG_y_uns = pd.DataFrame(X_test.copy())\n",
    "y_train_LG_y_uns = pd.DataFrame(y_train.copy())\n",
    "y_test_LG_y_uns = pd.DataFrame(y_test.copy())\n",
    "y_tr_pred_LG_y_uns = pd.DataFrame(y_pred.copy())"
   ]
  },
  {
   "cell_type": "markdown",
   "metadata": {},
   "source": [
    "# 3.4.4 Standardization ( X scaled only )"
   ]
  },
  {
   "cell_type": "markdown",
   "metadata": {},
   "source": [
    "As a reminder, **we are running through the same process albeit not scaling `y`.**"
   ]
  },
  {
   "cell_type": "code",
   "execution_count": 103,
   "metadata": {},
   "outputs": [],
   "source": [
    "SS_scaler = StandardScaler()"
   ]
  },
  {
   "cell_type": "markdown",
   "metadata": {},
   "source": [
    "First `X_train_SS_y_uns`"
   ]
  },
  {
   "cell_type": "code",
   "execution_count": 104,
   "metadata": {},
   "outputs": [
    {
     "data": {
      "text/plain": [
       "StandardScaler()"
      ]
     },
     "execution_count": 104,
     "metadata": {},
     "output_type": "execute_result"
    }
   ],
   "source": [
    "SS_scaler.fit(X_train_SS_y_uns[['Wages CPI', 'WTI', 'Copper', 'Soybeans', 'Natural Gas', 'Heating Oil',\n",
    "       'Corn', 'Wheat', 'Cattle', 'Lean Hogs', 'Sugar', 'Lumber',\n",
    "       'Capacity Utilization', 'GDP', 'M2 Velocity', 'PMI', 'USD Index',\n",
    "       'Initial Jobless Claims', 'Unemployment Rate']])"
   ]
  },
  {
   "cell_type": "code",
   "execution_count": 105,
   "metadata": {},
   "outputs": [],
   "source": [
    "X_train_SS_y_uns[['Wages CPI_SS_yun', 'WTI_SS_yun', 'Copper_SS_yun', 'Soybeans_SS_yun', 'Natural Gas_SS_yun', 'Heating Oil_SS_yun',\n",
    "       'Corn_SS_yun', 'Wheat_SS_yun', 'Cattle_SS_yun', 'Lean Hogs_SS_yun', 'Sugar_SS_yun', 'Lumber_SS_yun',\n",
    "       'Capacity Utilization_SS_yun', 'GDP_SS_yun', 'M2 Velocity_SS_yun', 'PMI_SS_yun', 'USD Index_SS_yun',\n",
    "       'Initial Jobless Claims_SS_yun', 'Unemployment Rate_SS_yun']] = SS_scaler.transform(X_train_SS_y_uns[['Wages CPI', 'WTI', 'Copper', 'Soybeans', 'Natural Gas', 'Heating Oil',\n",
    "       'Corn', 'Wheat', 'Cattle', 'Lean Hogs', 'Sugar', 'Lumber',\n",
    "       'Capacity Utilization', 'GDP', 'M2 Velocity', 'PMI', 'USD Index',\n",
    "       'Initial Jobless Claims', 'Unemployment Rate']])"
   ]
  },
  {
   "cell_type": "code",
   "execution_count": 106,
   "metadata": {},
   "outputs": [
    {
     "data": {
      "text/plain": [
       "Index(['Wages CPI', 'WTI', 'Copper', 'Soybeans', 'Natural Gas', 'Heating Oil',\n",
       "       'Corn', 'Wheat', 'Cattle', 'Lean Hogs', 'Sugar', 'Lumber',\n",
       "       'Capacity Utilization', 'GDP', 'M2 Velocity', 'PMI', 'USD Index',\n",
       "       'Initial Jobless Claims', 'Unemployment Rate', 'Wages CPI_SS_yun',\n",
       "       'WTI_SS_yun', 'Copper_SS_yun', 'Soybeans_SS_yun', 'Natural Gas_SS_yun',\n",
       "       'Heating Oil_SS_yun', 'Corn_SS_yun', 'Wheat_SS_yun', 'Cattle_SS_yun',\n",
       "       'Lean Hogs_SS_yun', 'Sugar_SS_yun', 'Lumber_SS_yun',\n",
       "       'Capacity Utilization_SS_yun', 'GDP_SS_yun', 'M2 Velocity_SS_yun',\n",
       "       'PMI_SS_yun', 'USD Index_SS_yun', 'Initial Jobless Claims_SS_yun',\n",
       "       'Unemployment Rate_SS_yun'],\n",
       "      dtype='object')"
      ]
     },
     "execution_count": 106,
     "metadata": {},
     "output_type": "execute_result"
    }
   ],
   "source": [
    "X_train_SS_y_uns.columns"
   ]
  },
  {
   "cell_type": "code",
   "execution_count": 107,
   "metadata": {},
   "outputs": [],
   "source": [
    "X_train_SS_y_uns.drop(columns=prev_cols, inplace=True)"
   ]
  },
  {
   "cell_type": "code",
   "execution_count": 108,
   "metadata": {},
   "outputs": [
    {
     "data": {
      "text/html": [
       "<div>\n",
       "<style scoped>\n",
       "    .dataframe tbody tr th:only-of-type {\n",
       "        vertical-align: middle;\n",
       "    }\n",
       "\n",
       "    .dataframe tbody tr th {\n",
       "        vertical-align: top;\n",
       "    }\n",
       "\n",
       "    .dataframe thead th {\n",
       "        text-align: right;\n",
       "    }\n",
       "</style>\n",
       "<table border=\"1\" class=\"dataframe\">\n",
       "  <thead>\n",
       "    <tr style=\"text-align: right;\">\n",
       "      <th></th>\n",
       "      <th>Wages CPI_SS_yun</th>\n",
       "      <th>WTI_SS_yun</th>\n",
       "      <th>Copper_SS_yun</th>\n",
       "      <th>Soybeans_SS_yun</th>\n",
       "      <th>Natural Gas_SS_yun</th>\n",
       "      <th>Heating Oil_SS_yun</th>\n",
       "      <th>Corn_SS_yun</th>\n",
       "      <th>Wheat_SS_yun</th>\n",
       "      <th>Cattle_SS_yun</th>\n",
       "      <th>Lean Hogs_SS_yun</th>\n",
       "      <th>Sugar_SS_yun</th>\n",
       "      <th>Lumber_SS_yun</th>\n",
       "      <th>Capacity Utilization_SS_yun</th>\n",
       "      <th>GDP_SS_yun</th>\n",
       "      <th>M2 Velocity_SS_yun</th>\n",
       "      <th>PMI_SS_yun</th>\n",
       "      <th>USD Index_SS_yun</th>\n",
       "      <th>Initial Jobless Claims_SS_yun</th>\n",
       "      <th>Unemployment Rate_SS_yun</th>\n",
       "    </tr>\n",
       "  </thead>\n",
       "  <tbody>\n",
       "    <tr>\n",
       "      <th>count</th>\n",
       "      <td>2.180000e+02</td>\n",
       "      <td>2.180000e+02</td>\n",
       "      <td>2.180000e+02</td>\n",
       "      <td>2.180000e+02</td>\n",
       "      <td>2.180000e+02</td>\n",
       "      <td>2.180000e+02</td>\n",
       "      <td>2.180000e+02</td>\n",
       "      <td>2.180000e+02</td>\n",
       "      <td>2.180000e+02</td>\n",
       "      <td>2.180000e+02</td>\n",
       "      <td>2.180000e+02</td>\n",
       "      <td>2.180000e+02</td>\n",
       "      <td>2.180000e+02</td>\n",
       "      <td>2.180000e+02</td>\n",
       "      <td>2.180000e+02</td>\n",
       "      <td>2.180000e+02</td>\n",
       "      <td>218.000000</td>\n",
       "      <td>2.180000e+02</td>\n",
       "      <td>2.180000e+02</td>\n",
       "    </tr>\n",
       "    <tr>\n",
       "      <th>mean</th>\n",
       "      <td>-4.838128e-18</td>\n",
       "      <td>2.750094e-17</td>\n",
       "      <td>1.680613e-17</td>\n",
       "      <td>-2.750094e-17</td>\n",
       "      <td>1.018553e-18</td>\n",
       "      <td>2.113498e-17</td>\n",
       "      <td>5.754826e-17</td>\n",
       "      <td>-3.004732e-17</td>\n",
       "      <td>-2.801021e-18</td>\n",
       "      <td>-7.639149e-18</td>\n",
       "      <td>-4.838128e-17</td>\n",
       "      <td>-2.049838e-17</td>\n",
       "      <td>-2.088034e-17</td>\n",
       "      <td>5.627507e-17</td>\n",
       "      <td>2.215353e-17</td>\n",
       "      <td>4.869958e-18</td>\n",
       "      <td>0.000000</td>\n",
       "      <td>-6.875234e-18</td>\n",
       "      <td>1.222264e-17</td>\n",
       "    </tr>\n",
       "    <tr>\n",
       "      <th>std</th>\n",
       "      <td>1.002301e+00</td>\n",
       "      <td>1.002301e+00</td>\n",
       "      <td>1.002301e+00</td>\n",
       "      <td>1.002301e+00</td>\n",
       "      <td>1.002301e+00</td>\n",
       "      <td>1.002301e+00</td>\n",
       "      <td>1.002301e+00</td>\n",
       "      <td>1.002301e+00</td>\n",
       "      <td>1.002301e+00</td>\n",
       "      <td>1.002301e+00</td>\n",
       "      <td>1.002301e+00</td>\n",
       "      <td>1.002301e+00</td>\n",
       "      <td>1.002301e+00</td>\n",
       "      <td>1.002301e+00</td>\n",
       "      <td>1.002301e+00</td>\n",
       "      <td>1.002301e+00</td>\n",
       "      <td>1.002301</td>\n",
       "      <td>1.002301e+00</td>\n",
       "      <td>1.002301e+00</td>\n",
       "    </tr>\n",
       "    <tr>\n",
       "      <th>min</th>\n",
       "      <td>-6.977019e+00</td>\n",
       "      <td>-3.783391e+00</td>\n",
       "      <td>-4.194080e+00</td>\n",
       "      <td>-3.280162e+00</td>\n",
       "      <td>-1.969069e+00</td>\n",
       "      <td>-3.380414e+00</td>\n",
       "      <td>-2.641519e+00</td>\n",
       "      <td>-2.034743e+00</td>\n",
       "      <td>-2.966145e+00</td>\n",
       "      <td>-2.453932e+00</td>\n",
       "      <td>-2.521716e+00</td>\n",
       "      <td>-2.522608e+00</td>\n",
       "      <td>-7.680682e+00</td>\n",
       "      <td>-8.837955e+00</td>\n",
       "      <td>-8.988479e+00</td>\n",
       "      <td>-3.333833e+00</td>\n",
       "      <td>-2.094012</td>\n",
       "      <td>-3.190713e+00</td>\n",
       "      <td>-4.802520e+00</td>\n",
       "    </tr>\n",
       "    <tr>\n",
       "      <th>25%</th>\n",
       "      <td>-2.671202e-01</td>\n",
       "      <td>-5.665365e-01</td>\n",
       "      <td>-5.924217e-01</td>\n",
       "      <td>-5.064631e-01</td>\n",
       "      <td>-6.724566e-01</td>\n",
       "      <td>-5.422759e-01</td>\n",
       "      <td>-6.269477e-01</td>\n",
       "      <td>-6.723267e-01</td>\n",
       "      <td>-6.458132e-01</td>\n",
       "      <td>-6.201385e-01</td>\n",
       "      <td>-6.977306e-01</td>\n",
       "      <td>-6.930695e-01</td>\n",
       "      <td>-2.313524e-01</td>\n",
       "      <td>-1.414367e-01</td>\n",
       "      <td>-9.686651e-02</td>\n",
       "      <td>-5.828489e-01</td>\n",
       "      <td>-0.794405</td>\n",
       "      <td>-1.277904e-01</td>\n",
       "      <td>-2.348593e-01</td>\n",
       "    </tr>\n",
       "    <tr>\n",
       "      <th>50%</th>\n",
       "      <td>1.153214e-01</td>\n",
       "      <td>-3.959852e-02</td>\n",
       "      <td>-9.739427e-02</td>\n",
       "      <td>-5.652283e-02</td>\n",
       "      <td>-1.579051e-01</td>\n",
       "      <td>-4.040096e-02</td>\n",
       "      <td>-5.827166e-02</td>\n",
       "      <td>-4.863862e-02</td>\n",
       "      <td>7.426409e-02</td>\n",
       "      <td>-4.506087e-02</td>\n",
       "      <td>-2.081390e-01</td>\n",
       "      <td>-3.689083e-02</td>\n",
       "      <td>1.477523e-01</td>\n",
       "      <td>1.250461e-01</td>\n",
       "      <td>8.804844e-02</td>\n",
       "      <td>-1.545851e-02</td>\n",
       "      <td>0.035274</td>\n",
       "      <td>-8.785599e-02</td>\n",
       "      <td>-1.102867e-01</td>\n",
       "    </tr>\n",
       "    <tr>\n",
       "      <th>75%</th>\n",
       "      <td>4.280369e-01</td>\n",
       "      <td>6.677299e-01</td>\n",
       "      <td>5.366898e-01</td>\n",
       "      <td>5.316750e-01</td>\n",
       "      <td>5.625160e-01</td>\n",
       "      <td>6.352366e-01</td>\n",
       "      <td>5.203411e-01</td>\n",
       "      <td>5.954279e-01</td>\n",
       "      <td>7.339765e-01</td>\n",
       "      <td>7.269682e-01</td>\n",
       "      <td>5.484182e-01</td>\n",
       "      <td>6.135977e-01</td>\n",
       "      <td>4.357818e-01</td>\n",
       "      <td>4.008007e-01</td>\n",
       "      <td>3.751039e-01</td>\n",
       "      <td>5.576631e-01</td>\n",
       "      <td>0.628237</td>\n",
       "      <td>-4.770693e-02</td>\n",
       "      <td>5.581003e-02</td>\n",
       "    </tr>\n",
       "    <tr>\n",
       "      <th>max</th>\n",
       "      <td>3.074376e+00</td>\n",
       "      <td>2.742497e+00</td>\n",
       "      <td>3.913407e+00</td>\n",
       "      <td>2.811401e+00</td>\n",
       "      <td>2.994870e+00</td>\n",
       "      <td>2.428936e+00</td>\n",
       "      <td>3.277006e+00</td>\n",
       "      <td>4.032564e+00</td>\n",
       "      <td>2.428476e+00</td>\n",
       "      <td>2.661448e+00</td>\n",
       "      <td>3.888003e+00</td>\n",
       "      <td>5.231216e+00</td>\n",
       "      <td>3.864717e+00</td>\n",
       "      <td>1.198672e+00</td>\n",
       "      <td>9.832153e-01</td>\n",
       "      <td>3.589476e+00</td>\n",
       "      <td>2.666820</td>\n",
       "      <td>1.241375e+01</td>\n",
       "      <td>1.151649e+01</td>\n",
       "    </tr>\n",
       "  </tbody>\n",
       "</table>\n",
       "</div>"
      ],
      "text/plain": [
       "       Wages CPI_SS_yun    WTI_SS_yun  Copper_SS_yun  Soybeans_SS_yun  \\\n",
       "count      2.180000e+02  2.180000e+02   2.180000e+02     2.180000e+02   \n",
       "mean      -4.838128e-18  2.750094e-17   1.680613e-17    -2.750094e-17   \n",
       "std        1.002301e+00  1.002301e+00   1.002301e+00     1.002301e+00   \n",
       "min       -6.977019e+00 -3.783391e+00  -4.194080e+00    -3.280162e+00   \n",
       "25%       -2.671202e-01 -5.665365e-01  -5.924217e-01    -5.064631e-01   \n",
       "50%        1.153214e-01 -3.959852e-02  -9.739427e-02    -5.652283e-02   \n",
       "75%        4.280369e-01  6.677299e-01   5.366898e-01     5.316750e-01   \n",
       "max        3.074376e+00  2.742497e+00   3.913407e+00     2.811401e+00   \n",
       "\n",
       "       Natural Gas_SS_yun  Heating Oil_SS_yun   Corn_SS_yun  Wheat_SS_yun  \\\n",
       "count        2.180000e+02        2.180000e+02  2.180000e+02  2.180000e+02   \n",
       "mean         1.018553e-18        2.113498e-17  5.754826e-17 -3.004732e-17   \n",
       "std          1.002301e+00        1.002301e+00  1.002301e+00  1.002301e+00   \n",
       "min         -1.969069e+00       -3.380414e+00 -2.641519e+00 -2.034743e+00   \n",
       "25%         -6.724566e-01       -5.422759e-01 -6.269477e-01 -6.723267e-01   \n",
       "50%         -1.579051e-01       -4.040096e-02 -5.827166e-02 -4.863862e-02   \n",
       "75%          5.625160e-01        6.352366e-01  5.203411e-01  5.954279e-01   \n",
       "max          2.994870e+00        2.428936e+00  3.277006e+00  4.032564e+00   \n",
       "\n",
       "       Cattle_SS_yun  Lean Hogs_SS_yun  Sugar_SS_yun  Lumber_SS_yun  \\\n",
       "count   2.180000e+02      2.180000e+02  2.180000e+02   2.180000e+02   \n",
       "mean   -2.801021e-18     -7.639149e-18 -4.838128e-17  -2.049838e-17   \n",
       "std     1.002301e+00      1.002301e+00  1.002301e+00   1.002301e+00   \n",
       "min    -2.966145e+00     -2.453932e+00 -2.521716e+00  -2.522608e+00   \n",
       "25%    -6.458132e-01     -6.201385e-01 -6.977306e-01  -6.930695e-01   \n",
       "50%     7.426409e-02     -4.506087e-02 -2.081390e-01  -3.689083e-02   \n",
       "75%     7.339765e-01      7.269682e-01  5.484182e-01   6.135977e-01   \n",
       "max     2.428476e+00      2.661448e+00  3.888003e+00   5.231216e+00   \n",
       "\n",
       "       Capacity Utilization_SS_yun    GDP_SS_yun  M2 Velocity_SS_yun  \\\n",
       "count                 2.180000e+02  2.180000e+02        2.180000e+02   \n",
       "mean                 -2.088034e-17  5.627507e-17        2.215353e-17   \n",
       "std                   1.002301e+00  1.002301e+00        1.002301e+00   \n",
       "min                  -7.680682e+00 -8.837955e+00       -8.988479e+00   \n",
       "25%                  -2.313524e-01 -1.414367e-01       -9.686651e-02   \n",
       "50%                   1.477523e-01  1.250461e-01        8.804844e-02   \n",
       "75%                   4.357818e-01  4.008007e-01        3.751039e-01   \n",
       "max                   3.864717e+00  1.198672e+00        9.832153e-01   \n",
       "\n",
       "         PMI_SS_yun  USD Index_SS_yun  Initial Jobless Claims_SS_yun  \\\n",
       "count  2.180000e+02        218.000000                   2.180000e+02   \n",
       "mean   4.869958e-18          0.000000                  -6.875234e-18   \n",
       "std    1.002301e+00          1.002301                   1.002301e+00   \n",
       "min   -3.333833e+00         -2.094012                  -3.190713e+00   \n",
       "25%   -5.828489e-01         -0.794405                  -1.277904e-01   \n",
       "50%   -1.545851e-02          0.035274                  -8.785599e-02   \n",
       "75%    5.576631e-01          0.628237                  -4.770693e-02   \n",
       "max    3.589476e+00          2.666820                   1.241375e+01   \n",
       "\n",
       "       Unemployment Rate_SS_yun  \n",
       "count              2.180000e+02  \n",
       "mean               1.222264e-17  \n",
       "std                1.002301e+00  \n",
       "min               -4.802520e+00  \n",
       "25%               -2.348593e-01  \n",
       "50%               -1.102867e-01  \n",
       "75%                5.581003e-02  \n",
       "max                1.151649e+01  "
      ]
     },
     "execution_count": 108,
     "metadata": {},
     "output_type": "execute_result"
    }
   ],
   "source": [
    "X_train_SS_y_uns.describe()"
   ]
  },
  {
   "cell_type": "markdown",
   "metadata": {},
   "source": [
    "The **Mean** & **Standard Deviation** look close enough to 0 & 1 respectively; thus, it was scaled correctly. We will now scale the others."
   ]
  },
  {
   "cell_type": "markdown",
   "metadata": {},
   "source": [
    "`X_test_SS_y_uns` will not be 'fitted'."
   ]
  },
  {
   "cell_type": "code",
   "execution_count": 109,
   "metadata": {},
   "outputs": [],
   "source": [
    "X_test_SS_y_uns[['Wages CPI_SS_yun', 'WTI_SS_yun', 'Copper_SS_yun', 'Soybeans_SS_yun', 'Natural Gas_SS_yun', 'Heating Oil_SS_yun',\n",
    "       'Corn_SS_yun', 'Wheat_SS_yun', 'Cattle_SS_yun', 'Lean Hogs_SS_yun', 'Sugar_SS_yun', 'Lumber_SS_yun',\n",
    "       'Capacity Utilization_SS_yun', 'GDP_SS_yun', 'M2 Velocity_SS_yun', 'PMI_SS_yun', 'USD Index_SS_yun',\n",
    "       'Initial Jobless Claims_SS_yun', 'Unemployment Rate_SS_yun']] = SS_scaler.transform(X_test_SS_y_uns[['Wages CPI', 'WTI', 'Copper', 'Soybeans', 'Natural Gas', 'Heating Oil',\n",
    "       'Corn', 'Wheat', 'Cattle', 'Lean Hogs', 'Sugar', 'Lumber',\n",
    "       'Capacity Utilization', 'GDP', 'M2 Velocity', 'PMI', 'USD Index',\n",
    "       'Initial Jobless Claims', 'Unemployment Rate']])"
   ]
  },
  {
   "cell_type": "code",
   "execution_count": 110,
   "metadata": {},
   "outputs": [
    {
     "data": {
      "text/plain": [
       "Index(['Wages CPI', 'WTI', 'Copper', 'Soybeans', 'Natural Gas', 'Heating Oil',\n",
       "       'Corn', 'Wheat', 'Cattle', 'Lean Hogs', 'Sugar', 'Lumber',\n",
       "       'Capacity Utilization', 'GDP', 'M2 Velocity', 'PMI', 'USD Index',\n",
       "       'Initial Jobless Claims', 'Unemployment Rate', 'Wages CPI_SS_yun',\n",
       "       'WTI_SS_yun', 'Copper_SS_yun', 'Soybeans_SS_yun', 'Natural Gas_SS_yun',\n",
       "       'Heating Oil_SS_yun', 'Corn_SS_yun', 'Wheat_SS_yun', 'Cattle_SS_yun',\n",
       "       'Lean Hogs_SS_yun', 'Sugar_SS_yun', 'Lumber_SS_yun',\n",
       "       'Capacity Utilization_SS_yun', 'GDP_SS_yun', 'M2 Velocity_SS_yun',\n",
       "       'PMI_SS_yun', 'USD Index_SS_yun', 'Initial Jobless Claims_SS_yun',\n",
       "       'Unemployment Rate_SS_yun'],\n",
       "      dtype='object')"
      ]
     },
     "execution_count": 110,
     "metadata": {},
     "output_type": "execute_result"
    }
   ],
   "source": [
    "X_test_SS_y_uns.columns"
   ]
  },
  {
   "cell_type": "code",
   "execution_count": 111,
   "metadata": {},
   "outputs": [],
   "source": [
    "X_test_SS_y_uns.drop(columns=prev_cols, inplace=True)"
   ]
  },
  {
   "cell_type": "code",
   "execution_count": 112,
   "metadata": {},
   "outputs": [
    {
     "data": {
      "text/html": [
       "<div>\n",
       "<style scoped>\n",
       "    .dataframe tbody tr th:only-of-type {\n",
       "        vertical-align: middle;\n",
       "    }\n",
       "\n",
       "    .dataframe tbody tr th {\n",
       "        vertical-align: top;\n",
       "    }\n",
       "\n",
       "    .dataframe thead th {\n",
       "        text-align: right;\n",
       "    }\n",
       "</style>\n",
       "<table border=\"1\" class=\"dataframe\">\n",
       "  <thead>\n",
       "    <tr style=\"text-align: right;\">\n",
       "      <th></th>\n",
       "      <th>Wages CPI_SS_yun</th>\n",
       "      <th>WTI_SS_yun</th>\n",
       "      <th>Copper_SS_yun</th>\n",
       "      <th>Soybeans_SS_yun</th>\n",
       "      <th>Natural Gas_SS_yun</th>\n",
       "      <th>Heating Oil_SS_yun</th>\n",
       "      <th>Corn_SS_yun</th>\n",
       "      <th>Wheat_SS_yun</th>\n",
       "      <th>Cattle_SS_yun</th>\n",
       "      <th>Lean Hogs_SS_yun</th>\n",
       "      <th>Sugar_SS_yun</th>\n",
       "      <th>Lumber_SS_yun</th>\n",
       "      <th>Capacity Utilization_SS_yun</th>\n",
       "      <th>GDP_SS_yun</th>\n",
       "      <th>M2 Velocity_SS_yun</th>\n",
       "      <th>PMI_SS_yun</th>\n",
       "      <th>USD Index_SS_yun</th>\n",
       "      <th>Initial Jobless Claims_SS_yun</th>\n",
       "      <th>Unemployment Rate_SS_yun</th>\n",
       "    </tr>\n",
       "  </thead>\n",
       "  <tbody>\n",
       "    <tr>\n",
       "      <th>count</th>\n",
       "      <td>94.000000</td>\n",
       "      <td>94.000000</td>\n",
       "      <td>94.000000</td>\n",
       "      <td>94.000000</td>\n",
       "      <td>94.000000</td>\n",
       "      <td>94.000000</td>\n",
       "      <td>94.000000</td>\n",
       "      <td>94.000000</td>\n",
       "      <td>94.000000</td>\n",
       "      <td>94.000000</td>\n",
       "      <td>94.000000</td>\n",
       "      <td>94.000000</td>\n",
       "      <td>94.000000</td>\n",
       "      <td>94.000000</td>\n",
       "      <td>94.000000</td>\n",
       "      <td>94.000000</td>\n",
       "      <td>94.000000</td>\n",
       "      <td>94.000000</td>\n",
       "      <td>94.000000</td>\n",
       "    </tr>\n",
       "    <tr>\n",
       "      <th>mean</th>\n",
       "      <td>-0.039446</td>\n",
       "      <td>-0.046560</td>\n",
       "      <td>-0.151935</td>\n",
       "      <td>0.158702</td>\n",
       "      <td>-0.001416</td>\n",
       "      <td>-0.153214</td>\n",
       "      <td>0.271715</td>\n",
       "      <td>0.147639</td>\n",
       "      <td>-0.020189</td>\n",
       "      <td>0.150634</td>\n",
       "      <td>0.042247</td>\n",
       "      <td>0.105954</td>\n",
       "      <td>0.085988</td>\n",
       "      <td>0.114837</td>\n",
       "      <td>-0.011819</td>\n",
       "      <td>-0.177030</td>\n",
       "      <td>0.007469</td>\n",
       "      <td>-0.191525</td>\n",
       "      <td>-0.065229</td>\n",
       "    </tr>\n",
       "    <tr>\n",
       "      <th>std</th>\n",
       "      <td>1.003180</td>\n",
       "      <td>1.116542</td>\n",
       "      <td>0.986746</td>\n",
       "      <td>1.140603</td>\n",
       "      <td>0.975567</td>\n",
       "      <td>0.963172</td>\n",
       "      <td>1.089934</td>\n",
       "      <td>1.083590</td>\n",
       "      <td>1.040120</td>\n",
       "      <td>1.097781</td>\n",
       "      <td>0.918600</td>\n",
       "      <td>1.470259</td>\n",
       "      <td>1.232635</td>\n",
       "      <td>1.525901</td>\n",
       "      <td>1.104324</td>\n",
       "      <td>1.048915</td>\n",
       "      <td>1.020621</td>\n",
       "      <td>2.410044</td>\n",
       "      <td>1.295092</td>\n",
       "    </tr>\n",
       "    <tr>\n",
       "      <th>min</th>\n",
       "      <td>-6.008413</td>\n",
       "      <td>-3.755452</td>\n",
       "      <td>-4.281991</td>\n",
       "      <td>-3.578469</td>\n",
       "      <td>-2.087724</td>\n",
       "      <td>-3.479765</td>\n",
       "      <td>-2.917356</td>\n",
       "      <td>-2.913521</td>\n",
       "      <td>-3.321206</td>\n",
       "      <td>-2.026099</td>\n",
       "      <td>-1.857711</td>\n",
       "      <td>-2.360196</td>\n",
       "      <td>-7.342127</td>\n",
       "      <td>-8.837955</td>\n",
       "      <td>-8.988479</td>\n",
       "      <td>-4.147665</td>\n",
       "      <td>-2.129319</td>\n",
       "      <td>-12.599764</td>\n",
       "      <td>-5.342334</td>\n",
       "    </tr>\n",
       "    <tr>\n",
       "      <th>25%</th>\n",
       "      <td>-0.383316</td>\n",
       "      <td>-0.529745</td>\n",
       "      <td>-0.692793</td>\n",
       "      <td>-0.534923</td>\n",
       "      <td>-0.585450</td>\n",
       "      <td>-0.578672</td>\n",
       "      <td>-0.322636</td>\n",
       "      <td>-0.559743</td>\n",
       "      <td>-0.760703</td>\n",
       "      <td>-0.704479</td>\n",
       "      <td>-0.517446</td>\n",
       "      <td>-0.778532</td>\n",
       "      <td>-0.172902</td>\n",
       "      <td>-0.221962</td>\n",
       "      <td>-0.236393</td>\n",
       "      <td>-0.866544</td>\n",
       "      <td>-0.610996</td>\n",
       "      <td>-0.129723</td>\n",
       "      <td>-0.276383</td>\n",
       "    </tr>\n",
       "    <tr>\n",
       "      <th>50%</th>\n",
       "      <td>0.169963</td>\n",
       "      <td>0.082344</td>\n",
       "      <td>-0.298726</td>\n",
       "      <td>0.027747</td>\n",
       "      <td>-0.078682</td>\n",
       "      <td>-0.033070</td>\n",
       "      <td>0.158283</td>\n",
       "      <td>-0.041941</td>\n",
       "      <td>0.073698</td>\n",
       "      <td>0.035594</td>\n",
       "      <td>-0.128461</td>\n",
       "      <td>-0.174865</td>\n",
       "      <td>0.168818</td>\n",
       "      <td>0.068250</td>\n",
       "      <td>0.043185</td>\n",
       "      <td>-0.319213</td>\n",
       "      <td>-0.060458</td>\n",
       "      <td>-0.097518</td>\n",
       "      <td>-0.151811</td>\n",
       "    </tr>\n",
       "    <tr>\n",
       "      <th>75%</th>\n",
       "      <td>0.452194</td>\n",
       "      <td>0.515139</td>\n",
       "      <td>0.412443</td>\n",
       "      <td>0.796244</td>\n",
       "      <td>0.688486</td>\n",
       "      <td>0.506057</td>\n",
       "      <td>0.848489</td>\n",
       "      <td>0.678288</td>\n",
       "      <td>0.811777</td>\n",
       "      <td>0.896525</td>\n",
       "      <td>0.528436</td>\n",
       "      <td>0.723928</td>\n",
       "      <td>0.421522</td>\n",
       "      <td>0.282676</td>\n",
       "      <td>0.402552</td>\n",
       "      <td>0.342742</td>\n",
       "      <td>0.589525</td>\n",
       "      <td>-0.054792</td>\n",
       "      <td>0.014286</td>\n",
       "    </tr>\n",
       "    <tr>\n",
       "      <th>max</th>\n",
       "      <td>1.801829</td>\n",
       "      <td>3.879327</td>\n",
       "      <td>2.759676</td>\n",
       "      <td>2.987912</td>\n",
       "      <td>2.562655</td>\n",
       "      <td>1.748558</td>\n",
       "      <td>3.974551</td>\n",
       "      <td>4.040076</td>\n",
       "      <td>1.834564</td>\n",
       "      <td>2.674612</td>\n",
       "      <td>3.173226</td>\n",
       "      <td>6.689149</td>\n",
       "      <td>5.824493</td>\n",
       "      <td>6.258379</td>\n",
       "      <td>2.067133</td>\n",
       "      <td>3.130979</td>\n",
       "      <td>3.441559</td>\n",
       "      <td>17.266415</td>\n",
       "      <td>9.066558</td>\n",
       "    </tr>\n",
       "  </tbody>\n",
       "</table>\n",
       "</div>"
      ],
      "text/plain": [
       "       Wages CPI_SS_yun  WTI_SS_yun  Copper_SS_yun  Soybeans_SS_yun  \\\n",
       "count         94.000000   94.000000      94.000000        94.000000   \n",
       "mean          -0.039446   -0.046560      -0.151935         0.158702   \n",
       "std            1.003180    1.116542       0.986746         1.140603   \n",
       "min           -6.008413   -3.755452      -4.281991        -3.578469   \n",
       "25%           -0.383316   -0.529745      -0.692793        -0.534923   \n",
       "50%            0.169963    0.082344      -0.298726         0.027747   \n",
       "75%            0.452194    0.515139       0.412443         0.796244   \n",
       "max            1.801829    3.879327       2.759676         2.987912   \n",
       "\n",
       "       Natural Gas_SS_yun  Heating Oil_SS_yun  Corn_SS_yun  Wheat_SS_yun  \\\n",
       "count           94.000000           94.000000    94.000000     94.000000   \n",
       "mean            -0.001416           -0.153214     0.271715      0.147639   \n",
       "std              0.975567            0.963172     1.089934      1.083590   \n",
       "min             -2.087724           -3.479765    -2.917356     -2.913521   \n",
       "25%             -0.585450           -0.578672    -0.322636     -0.559743   \n",
       "50%             -0.078682           -0.033070     0.158283     -0.041941   \n",
       "75%              0.688486            0.506057     0.848489      0.678288   \n",
       "max              2.562655            1.748558     3.974551      4.040076   \n",
       "\n",
       "       Cattle_SS_yun  Lean Hogs_SS_yun  Sugar_SS_yun  Lumber_SS_yun  \\\n",
       "count      94.000000         94.000000     94.000000      94.000000   \n",
       "mean       -0.020189          0.150634      0.042247       0.105954   \n",
       "std         1.040120          1.097781      0.918600       1.470259   \n",
       "min        -3.321206         -2.026099     -1.857711      -2.360196   \n",
       "25%        -0.760703         -0.704479     -0.517446      -0.778532   \n",
       "50%         0.073698          0.035594     -0.128461      -0.174865   \n",
       "75%         0.811777          0.896525      0.528436       0.723928   \n",
       "max         1.834564          2.674612      3.173226       6.689149   \n",
       "\n",
       "       Capacity Utilization_SS_yun  GDP_SS_yun  M2 Velocity_SS_yun  \\\n",
       "count                    94.000000   94.000000           94.000000   \n",
       "mean                      0.085988    0.114837           -0.011819   \n",
       "std                       1.232635    1.525901            1.104324   \n",
       "min                      -7.342127   -8.837955           -8.988479   \n",
       "25%                      -0.172902   -0.221962           -0.236393   \n",
       "50%                       0.168818    0.068250            0.043185   \n",
       "75%                       0.421522    0.282676            0.402552   \n",
       "max                       5.824493    6.258379            2.067133   \n",
       "\n",
       "       PMI_SS_yun  USD Index_SS_yun  Initial Jobless Claims_SS_yun  \\\n",
       "count   94.000000         94.000000                      94.000000   \n",
       "mean    -0.177030          0.007469                      -0.191525   \n",
       "std      1.048915          1.020621                       2.410044   \n",
       "min     -4.147665         -2.129319                     -12.599764   \n",
       "25%     -0.866544         -0.610996                      -0.129723   \n",
       "50%     -0.319213         -0.060458                      -0.097518   \n",
       "75%      0.342742          0.589525                      -0.054792   \n",
       "max      3.130979          3.441559                      17.266415   \n",
       "\n",
       "       Unemployment Rate_SS_yun  \n",
       "count                 94.000000  \n",
       "mean                  -0.065229  \n",
       "std                    1.295092  \n",
       "min                   -5.342334  \n",
       "25%                   -0.276383  \n",
       "50%                   -0.151811  \n",
       "75%                    0.014286  \n",
       "max                    9.066558  "
      ]
     },
     "execution_count": 112,
     "metadata": {},
     "output_type": "execute_result"
    }
   ],
   "source": [
    "X_test_SS_y_uns.describe()"
   ]
  },
  {
   "cell_type": "markdown",
   "metadata": {},
   "source": [
    "Although the `mean` & `std` look close to 0 & 1, they are different to those in the scaled `Training` set which was scaled."
   ]
  },
  {
   "cell_type": "markdown",
   "metadata": {},
   "source": [
    "As a reminder, `y_train_SS_y_uns` & `y_test_SS_y_uns` will not be scaled or fit in this section."
   ]
  },
  {
   "cell_type": "markdown",
   "metadata": {},
   "source": [
    "Now to review the results."
   ]
  },
  {
   "cell_type": "code",
   "execution_count": 113,
   "metadata": {},
   "outputs": [
    {
     "name": "stderr",
     "output_type": "stream",
     "text": [
      "C:\\Users\\rands\\anaconda3\\lib\\site-packages\\sklearn\\utils\\validation.py:67: FutureWarning: Pass fit_intercept=     Wages CPI_SS_yun  WTI_SS_yun  Copper_SS_yun  Soybeans_SS_yun  \\\n",
      "101         -0.272503    0.770139      -0.036749        -0.345722   \n",
      "193          0.081334   -0.036542       0.451293         0.090576   \n",
      "72          -0.668041   -0.496463      -0.027826        -2.795000   \n",
      "298          0.427689    0.697303       0.255910         0.133888   \n",
      "15           0.073309   -0.130975      -0.288996         0.162870   \n",
      "..                ...         ...            ...              ...   \n",
      "188         -1.469548   -1.079604      -0.300948         0.831251   \n",
      "71          -0.956924   -0.948540      -0.343656        -2.840279   \n",
      "106          0.171832   -1.022849      -0.397019        -0.081824   \n",
      "270          0.323446    0.420422      -0.398186         0.216809   \n",
      "102         -0.263450    0.806356      -0.696430        -1.099487   \n",
      "\n",
      "     Natural Gas_SS_yun  Heating Oil_SS_yun  Corn_SS_yun  Wheat_SS_yun  \\\n",
      "101           -1.319337           -0.037380    -0.285358     -0.204055   \n",
      "193            1.639295            0.380561    -0.663352     -0.617169   \n",
      "72            -0.849965           -0.474246    -2.149208     -1.865332   \n",
      "298            1.354380            0.616009    -0.538420     -1.155926   \n",
      "15             0.314771            0.046900    -0.808623      0.012178   \n",
      "..                  ...                 ...          ...           ...   \n",
      "188           -0.220838           -1.698084     0.138383     -0.438905   \n",
      "71            -0.743877           -0.727652    -1.715245     -1.385015   \n",
      "106           -0.524624           -0.331768    -0.205891     -0.379560   \n",
      "270            0.137346           -0.142536     0.748635     -0.648503   \n",
      "102           -1.042590           -0.043422    -0.703350     -0.879333   \n",
      "\n",
      "     Cattle_SS_yun  Lean Hogs_SS_yun  Sugar_SS_yun  Lumber_SS_yun  \\\n",
      "101       0.312957         -0.252625     -0.668891       0.439447   \n",
      "193       1.900844          1.529011      1.137352      -0.317918   \n",
      "72        1.183761         -0.549095     -0.621201       0.115848   \n",
      "298      -1.041654          0.884238      0.927774      -0.556024   \n",
      "15        0.252933         -1.249591     -0.089238       0.442115   \n",
      "..             ...               ...           ...            ...   \n",
      "188      -0.507119          1.105400     -0.928637       0.199642   \n",
      "71        1.317749         -1.282144     -0.736669       0.147867   \n",
      "106       0.462889         -0.113398      1.070779      -0.187627   \n",
      "270      -1.275445          0.668654     -0.816981      -1.352514   \n",
      "102       0.421833         -0.497088     -0.987923      -0.062556   \n",
      "\n",
      "     Capacity Utilization_SS_yun  GDP_SS_yun  M2 Velocity_SS_yun  PMI_SS_yun  \\\n",
      "101                     0.444293    0.327651            0.088048    0.104897   \n",
      "193                     0.248713   -0.010664           -0.085279    0.104897   \n",
      "72                      0.171740    0.532148            0.348245    0.379995   \n",
      "298                     0.514892    0.385034            0.824372    0.299758   \n",
      "15                     -0.198803   -0.053374           -0.276863   -0.869410   \n",
      "..                           ...         ...                 ...         ...   \n",
      "188                    -0.330832    0.111295           -0.158735   -0.342138   \n",
      "71                      0.017663   -0.253529           -0.037395    0.425845   \n",
      "106                     0.527156   -0.343165           -1.538314   -1.282057   \n",
      "270                    -0.469032   -0.205734            0.114661   -2.176127   \n",
      "102                     0.291608    0.327651            0.088048   -0.032652   \n",
      "\n",
      "     USD Index_SS_yun  Initial Jobless Claims_SS_yun  Unemployment Rate_SS_yun  \n",
      "101          0.915147                      -0.214959                 -0.567053  \n",
      "193         -1.046777                      -0.107179                  0.221907  \n",
      "72           0.729546                      -0.163431                 -0.193335  \n",
      "298         -1.225237                      -0.096444                  0.346479  \n",
      "15           0.266966                      -0.081844                 -0.110287  \n",
      "..                ...                            ...                       ...  \n",
      "188         -1.308796                      -0.021728                  0.304955  \n",
      "71           1.340790                      -0.139814                 -0.400956  \n",
      "106          0.176567                      -0.127790                 -0.110287  \n",
      "270         -1.849494                       0.037959                  0.097334  \n",
      "102          1.184256                      -0.221829                 -0.608577  \n",
      "\n",
      "[218 rows x 19 columns], normalize=     Inflation\n",
      "101     -0.523\n",
      "193      0.571\n",
      "72      -0.414\n",
      "298     -0.023\n",
      "15       0.301\n",
      "..         ...\n",
      "188     -0.908\n",
      "71      -0.328\n",
      "106      0.309\n",
      "270      0.323\n",
      "102     -0.600\n",
      "\n",
      "[218 rows x 1 columns] as keyword args. From version 0.25 passing these as positional arguments will result in an error\n",
      "  warnings.warn(\"Pass {} as keyword args. From version 0.25 \"\n"
     ]
    }
   ],
   "source": [
    "reg_all_SS = LinearRegression(X_train_SS_y_uns,y_train_SS_y_uns)"
   ]
  },
  {
   "cell_type": "code",
   "execution_count": 114,
   "metadata": {},
   "outputs": [],
   "source": [
    "lm = LinearRegression().fit(X_train_SS_y_uns, y_train_SS_y_uns)"
   ]
  },
  {
   "cell_type": "code",
   "execution_count": 115,
   "metadata": {},
   "outputs": [],
   "source": [
    "#Code task 11#\n",
    "#Call the `predict()` method of the model (`lm`) on both the (scaled) train and test data\n",
    "#Assign the predictions to `y_tr_pred` and `y_te_pred`, respectively\n",
    "y_tr_pred_SS_y_uns = lm.predict(X_train_SS_y_uns)\n",
    "y_te_pred_SS_y_uns = lm.predict(X_test_SS_y_uns)"
   ]
  },
  {
   "cell_type": "code",
   "execution_count": 116,
   "metadata": {},
   "outputs": [
    {
     "data": {
      "text/plain": [
       "(0.41854924961510787, 0.25400580457075284)"
      ]
     },
     "execution_count": 116,
     "metadata": {},
     "output_type": "execute_result"
    }
   ],
   "source": [
    "# r^2 - train, test\n",
    "median_r2_SS_y_uns = r2_score(y_train_SS_y_uns, y_tr_pred_SS_y_uns), r2_score(y_test_SS_y_uns, y_te_pred_SS_y_uns)\n",
    "median_r2_SS_y_uns"
   ]
  },
  {
   "cell_type": "code",
   "execution_count": 117,
   "metadata": {},
   "outputs": [
    {
     "data": {
      "text/plain": [
       "(0.4311624920931224, 0.5629835146122822)"
      ]
     },
     "execution_count": 117,
     "metadata": {},
     "output_type": "execute_result"
    }
   ],
   "source": [
    "median_mae_SS_y_uns = mean_absolute_error( y_train_SS_y_uns, y_tr_pred_SS_y_uns), mean_absolute_error( y_test_SS_y_uns, y_te_pred_SS_y_uns )\n",
    "median_mae_SS_y_uns"
   ]
  },
  {
   "cell_type": "code",
   "execution_count": 118,
   "metadata": {},
   "outputs": [
    {
     "data": {
      "text/plain": [
       "(0.37269344445032876, 0.5709506430867561)"
      ]
     },
     "execution_count": 118,
     "metadata": {},
     "output_type": "execute_result"
    }
   ],
   "source": [
    "median_mse_SS_y_uns = mean_squared_error( y_train_SS_y_uns, y_tr_pred_SS_y_uns ), mean_squared_error( y_test_SS_y_uns, y_te_pred_SS_y_uns )\n",
    "median_mse_SS_y_uns"
   ]
  },
  {
   "cell_type": "markdown",
   "metadata": {},
   "source": [
    "The R^2 results are less than impressive ( i.e. less than a simple coin flip ) but we will proceed."
   ]
  },
  {
   "cell_type": "markdown",
   "metadata": {},
   "source": [
    "In this case, I have no missing values so no need to impute."
   ]
  },
  {
   "cell_type": "markdown",
   "metadata": {},
   "source": [
    "# 3.4.5 MinMaxScaler ( X scaled only )"
   ]
  },
  {
   "cell_type": "code",
   "execution_count": 119,
   "metadata": {},
   "outputs": [],
   "source": [
    "MM_scaler = MinMaxScaler()"
   ]
  },
  {
   "cell_type": "markdown",
   "metadata": {},
   "source": [
    "First `X_train_MM_y_uns`"
   ]
  },
  {
   "cell_type": "code",
   "execution_count": 120,
   "metadata": {},
   "outputs": [
    {
     "data": {
      "text/plain": [
       "MinMaxScaler()"
      ]
     },
     "execution_count": 120,
     "metadata": {},
     "output_type": "execute_result"
    }
   ],
   "source": [
    "MM_scaler.fit(X_train_MM_y_uns[['Wages CPI', 'WTI', 'Copper', 'Soybeans', 'Natural Gas', 'Heating Oil',\n",
    "       'Corn', 'Wheat', 'Cattle', 'Lean Hogs', 'Sugar', 'Lumber',\n",
    "       'Capacity Utilization', 'GDP', 'M2 Velocity', 'PMI', 'USD Index',\n",
    "       'Initial Jobless Claims', 'Unemployment Rate']])"
   ]
  },
  {
   "cell_type": "code",
   "execution_count": 121,
   "metadata": {},
   "outputs": [],
   "source": [
    "X_train_MM_y_uns[['Wages CPI_MM', 'WTI_MM', 'Copper_MM', 'Soybeans_MM', 'Natural Gas_MM', 'Heating Oil_MM',\n",
    "       'Corn_MM', 'Wheat_MM', 'Cattle_MM', 'Lean Hogs_MM', 'Sugar_MM', 'Lumber_MM',\n",
    "       'Capacity Utilization_MM', 'GDP_MM', 'M2 Velocity_MM', 'PMI_MM', 'USD Index_MM',\n",
    "       'Initial Jobless Claims_MM', 'Unemployment Rate_MM']] = MM_scaler.transform(X_train_MM_y_uns[['Wages CPI', 'WTI', 'Copper', 'Soybeans', 'Natural Gas', 'Heating Oil',\n",
    "       'Corn', 'Wheat', 'Cattle', 'Lean Hogs', 'Sugar', 'Lumber',\n",
    "       'Capacity Utilization', 'GDP', 'M2 Velocity', 'PMI', 'USD Index',\n",
    "       'Initial Jobless Claims', 'Unemployment Rate']])"
   ]
  },
  {
   "cell_type": "code",
   "execution_count": 122,
   "metadata": {},
   "outputs": [
    {
     "data": {
      "text/plain": [
       "Index(['Wages CPI', 'WTI', 'Copper', 'Soybeans', 'Natural Gas', 'Heating Oil',\n",
       "       'Corn', 'Wheat', 'Cattle', 'Lean Hogs', 'Sugar', 'Lumber',\n",
       "       'Capacity Utilization', 'GDP', 'M2 Velocity', 'PMI', 'USD Index',\n",
       "       'Initial Jobless Claims', 'Unemployment Rate', 'Wages CPI_MM', 'WTI_MM',\n",
       "       'Copper_MM', 'Soybeans_MM', 'Natural Gas_MM', 'Heating Oil_MM',\n",
       "       'Corn_MM', 'Wheat_MM', 'Cattle_MM', 'Lean Hogs_MM', 'Sugar_MM',\n",
       "       'Lumber_MM', 'Capacity Utilization_MM', 'GDP_MM', 'M2 Velocity_MM',\n",
       "       'PMI_MM', 'USD Index_MM', 'Initial Jobless Claims_MM',\n",
       "       'Unemployment Rate_MM'],\n",
       "      dtype='object')"
      ]
     },
     "execution_count": 122,
     "metadata": {},
     "output_type": "execute_result"
    }
   ],
   "source": [
    "X_train_MM_y_uns.columns"
   ]
  },
  {
   "cell_type": "code",
   "execution_count": 123,
   "metadata": {},
   "outputs": [],
   "source": [
    "X_train_MM_y_uns.drop(columns=prev_cols, inplace=True)"
   ]
  },
  {
   "cell_type": "code",
   "execution_count": 124,
   "metadata": {},
   "outputs": [
    {
     "data": {
      "text/html": [
       "<div>\n",
       "<style scoped>\n",
       "    .dataframe tbody tr th:only-of-type {\n",
       "        vertical-align: middle;\n",
       "    }\n",
       "\n",
       "    .dataframe tbody tr th {\n",
       "        vertical-align: top;\n",
       "    }\n",
       "\n",
       "    .dataframe thead th {\n",
       "        text-align: right;\n",
       "    }\n",
       "</style>\n",
       "<table border=\"1\" class=\"dataframe\">\n",
       "  <thead>\n",
       "    <tr style=\"text-align: right;\">\n",
       "      <th></th>\n",
       "      <th>Wages CPI_MM</th>\n",
       "      <th>WTI_MM</th>\n",
       "      <th>Copper_MM</th>\n",
       "      <th>Soybeans_MM</th>\n",
       "      <th>Natural Gas_MM</th>\n",
       "      <th>Heating Oil_MM</th>\n",
       "      <th>Corn_MM</th>\n",
       "      <th>Wheat_MM</th>\n",
       "      <th>Cattle_MM</th>\n",
       "      <th>Lean Hogs_MM</th>\n",
       "      <th>Sugar_MM</th>\n",
       "      <th>Lumber_MM</th>\n",
       "      <th>Capacity Utilization_MM</th>\n",
       "      <th>GDP_MM</th>\n",
       "      <th>M2 Velocity_MM</th>\n",
       "      <th>PMI_MM</th>\n",
       "      <th>USD Index_MM</th>\n",
       "      <th>Initial Jobless Claims_MM</th>\n",
       "      <th>Unemployment Rate_MM</th>\n",
       "    </tr>\n",
       "  </thead>\n",
       "  <tbody>\n",
       "    <tr>\n",
       "      <th>count</th>\n",
       "      <td>218.000000</td>\n",
       "      <td>218.000000</td>\n",
       "      <td>218.000000</td>\n",
       "      <td>218.000000</td>\n",
       "      <td>218.000000</td>\n",
       "      <td>218.000000</td>\n",
       "      <td>218.000000</td>\n",
       "      <td>218.000000</td>\n",
       "      <td>218.000000</td>\n",
       "      <td>218.000000</td>\n",
       "      <td>218.000000</td>\n",
       "      <td>218.000000</td>\n",
       "      <td>218.000000</td>\n",
       "      <td>218.000000</td>\n",
       "      <td>218.000000</td>\n",
       "      <td>218.000000</td>\n",
       "      <td>218.000000</td>\n",
       "      <td>218.000000</td>\n",
       "      <td>218.000000</td>\n",
       "    </tr>\n",
       "    <tr>\n",
       "      <th>mean</th>\n",
       "      <td>0.694134</td>\n",
       "      <td>0.579751</td>\n",
       "      <td>0.517310</td>\n",
       "      <td>0.538476</td>\n",
       "      <td>0.396675</td>\n",
       "      <td>0.581892</td>\n",
       "      <td>0.446314</td>\n",
       "      <td>0.335362</td>\n",
       "      <td>0.549834</td>\n",
       "      <td>0.479716</td>\n",
       "      <td>0.393421</td>\n",
       "      <td>0.325337</td>\n",
       "      <td>0.665259</td>\n",
       "      <td>0.880570</td>\n",
       "      <td>0.901399</td>\n",
       "      <td>0.481537</td>\n",
       "      <td>0.439842</td>\n",
       "      <td>0.204474</td>\n",
       "      <td>0.294290</td>\n",
       "    </tr>\n",
       "    <tr>\n",
       "      <th>std</th>\n",
       "      <td>0.099718</td>\n",
       "      <td>0.153589</td>\n",
       "      <td>0.123627</td>\n",
       "      <td>0.164539</td>\n",
       "      <td>0.201917</td>\n",
       "      <td>0.172532</td>\n",
       "      <td>0.169350</td>\n",
       "      <td>0.165197</td>\n",
       "      <td>0.185796</td>\n",
       "      <td>0.195939</td>\n",
       "      <td>0.156372</td>\n",
       "      <td>0.129265</td>\n",
       "      <td>0.086814</td>\n",
       "      <td>0.099864</td>\n",
       "      <td>0.100515</td>\n",
       "      <td>0.144772</td>\n",
       "      <td>0.210531</td>\n",
       "      <td>0.064232</td>\n",
       "      <td>0.061419</td>\n",
       "    </tr>\n",
       "    <tr>\n",
       "      <th>min</th>\n",
       "      <td>0.000000</td>\n",
       "      <td>0.000000</td>\n",
       "      <td>0.000000</td>\n",
       "      <td>0.000000</td>\n",
       "      <td>0.000000</td>\n",
       "      <td>0.000000</td>\n",
       "      <td>0.000000</td>\n",
       "      <td>0.000000</td>\n",
       "      <td>0.000000</td>\n",
       "      <td>0.000000</td>\n",
       "      <td>0.000000</td>\n",
       "      <td>0.000000</td>\n",
       "      <td>0.000000</td>\n",
       "      <td>0.000000</td>\n",
       "      <td>0.000000</td>\n",
       "      <td>0.000000</td>\n",
       "      <td>0.000000</td>\n",
       "      <td>0.000000</td>\n",
       "      <td>0.000000</td>\n",
       "    </tr>\n",
       "    <tr>\n",
       "      <th>25%</th>\n",
       "      <td>0.667559</td>\n",
       "      <td>0.492937</td>\n",
       "      <td>0.444239</td>\n",
       "      <td>0.455334</td>\n",
       "      <td>0.261206</td>\n",
       "      <td>0.488547</td>\n",
       "      <td>0.340384</td>\n",
       "      <td>0.224550</td>\n",
       "      <td>0.430120</td>\n",
       "      <td>0.358486</td>\n",
       "      <td>0.284566</td>\n",
       "      <td>0.235953</td>\n",
       "      <td>0.645221</td>\n",
       "      <td>0.866478</td>\n",
       "      <td>0.891685</td>\n",
       "      <td>0.397351</td>\n",
       "      <td>0.272979</td>\n",
       "      <td>0.196285</td>\n",
       "      <td>0.279898</td>\n",
       "    </tr>\n",
       "    <tr>\n",
       "      <th>50%</th>\n",
       "      <td>0.705608</td>\n",
       "      <td>0.573683</td>\n",
       "      <td>0.505297</td>\n",
       "      <td>0.529197</td>\n",
       "      <td>0.364864</td>\n",
       "      <td>0.574937</td>\n",
       "      <td>0.436468</td>\n",
       "      <td>0.327345</td>\n",
       "      <td>0.563600</td>\n",
       "      <td>0.470908</td>\n",
       "      <td>0.360948</td>\n",
       "      <td>0.320580</td>\n",
       "      <td>0.678057</td>\n",
       "      <td>0.893029</td>\n",
       "      <td>0.910229</td>\n",
       "      <td>0.479305</td>\n",
       "      <td>0.447251</td>\n",
       "      <td>0.198844</td>\n",
       "      <td>0.287532</td>\n",
       "    </tr>\n",
       "    <tr>\n",
       "      <th>75%</th>\n",
       "      <td>0.736719</td>\n",
       "      <td>0.682071</td>\n",
       "      <td>0.583506</td>\n",
       "      <td>0.625757</td>\n",
       "      <td>0.509995</td>\n",
       "      <td>0.691239</td>\n",
       "      <td>0.534231</td>\n",
       "      <td>0.433499</td>\n",
       "      <td>0.685891</td>\n",
       "      <td>0.621831</td>\n",
       "      <td>0.478981</td>\n",
       "      <td>0.404472</td>\n",
       "      <td>0.703004</td>\n",
       "      <td>0.920504</td>\n",
       "      <td>0.939016</td>\n",
       "      <td>0.562086</td>\n",
       "      <td>0.571801</td>\n",
       "      <td>0.201417</td>\n",
       "      <td>0.297710</td>\n",
       "    </tr>\n",
       "    <tr>\n",
       "      <th>max</th>\n",
       "      <td>1.000000</td>\n",
       "      <td>1.000000</td>\n",
       "      <td>1.000000</td>\n",
       "      <td>1.000000</td>\n",
       "      <td>1.000000</td>\n",
       "      <td>1.000000</td>\n",
       "      <td>1.000000</td>\n",
       "      <td>1.000000</td>\n",
       "      <td>1.000000</td>\n",
       "      <td>1.000000</td>\n",
       "      <td>1.000000</td>\n",
       "      <td>1.000000</td>\n",
       "      <td>1.000000</td>\n",
       "      <td>1.000000</td>\n",
       "      <td>1.000000</td>\n",
       "      <td>1.000000</td>\n",
       "      <td>1.000000</td>\n",
       "      <td>1.000000</td>\n",
       "      <td>1.000000</td>\n",
       "    </tr>\n",
       "  </tbody>\n",
       "</table>\n",
       "</div>"
      ],
      "text/plain": [
       "       Wages CPI_MM      WTI_MM   Copper_MM  Soybeans_MM  Natural Gas_MM  \\\n",
       "count    218.000000  218.000000  218.000000   218.000000      218.000000   \n",
       "mean       0.694134    0.579751    0.517310     0.538476        0.396675   \n",
       "std        0.099718    0.153589    0.123627     0.164539        0.201917   \n",
       "min        0.000000    0.000000    0.000000     0.000000        0.000000   \n",
       "25%        0.667559    0.492937    0.444239     0.455334        0.261206   \n",
       "50%        0.705608    0.573683    0.505297     0.529197        0.364864   \n",
       "75%        0.736719    0.682071    0.583506     0.625757        0.509995   \n",
       "max        1.000000    1.000000    1.000000     1.000000        1.000000   \n",
       "\n",
       "       Heating Oil_MM     Corn_MM    Wheat_MM   Cattle_MM  Lean Hogs_MM  \\\n",
       "count      218.000000  218.000000  218.000000  218.000000    218.000000   \n",
       "mean         0.581892    0.446314    0.335362    0.549834      0.479716   \n",
       "std          0.172532    0.169350    0.165197    0.185796      0.195939   \n",
       "min          0.000000    0.000000    0.000000    0.000000      0.000000   \n",
       "25%          0.488547    0.340384    0.224550    0.430120      0.358486   \n",
       "50%          0.574937    0.436468    0.327345    0.563600      0.470908   \n",
       "75%          0.691239    0.534231    0.433499    0.685891      0.621831   \n",
       "max          1.000000    1.000000    1.000000    1.000000      1.000000   \n",
       "\n",
       "         Sugar_MM   Lumber_MM  Capacity Utilization_MM      GDP_MM  \\\n",
       "count  218.000000  218.000000               218.000000  218.000000   \n",
       "mean     0.393421    0.325337                 0.665259    0.880570   \n",
       "std      0.156372    0.129265                 0.086814    0.099864   \n",
       "min      0.000000    0.000000                 0.000000    0.000000   \n",
       "25%      0.284566    0.235953                 0.645221    0.866478   \n",
       "50%      0.360948    0.320580                 0.678057    0.893029   \n",
       "75%      0.478981    0.404472                 0.703004    0.920504   \n",
       "max      1.000000    1.000000                 1.000000    1.000000   \n",
       "\n",
       "       M2 Velocity_MM      PMI_MM  USD Index_MM  Initial Jobless Claims_MM  \\\n",
       "count      218.000000  218.000000    218.000000                 218.000000   \n",
       "mean         0.901399    0.481537      0.439842                   0.204474   \n",
       "std          0.100515    0.144772      0.210531                   0.064232   \n",
       "min          0.000000    0.000000      0.000000                   0.000000   \n",
       "25%          0.891685    0.397351      0.272979                   0.196285   \n",
       "50%          0.910229    0.479305      0.447251                   0.198844   \n",
       "75%          0.939016    0.562086      0.571801                   0.201417   \n",
       "max          1.000000    1.000000      1.000000                   1.000000   \n",
       "\n",
       "       Unemployment Rate_MM  \n",
       "count            218.000000  \n",
       "mean               0.294290  \n",
       "std                0.061419  \n",
       "min                0.000000  \n",
       "25%                0.279898  \n",
       "50%                0.287532  \n",
       "75%                0.297710  \n",
       "max                1.000000  "
      ]
     },
     "execution_count": 124,
     "metadata": {},
     "output_type": "execute_result"
    }
   ],
   "source": [
    "X_train_MM_y_uns.describe()"
   ]
  },
  {
   "cell_type": "markdown",
   "metadata": {},
   "source": [
    "The `Maximum` & `Minimum` are **1 & 0 respectively; it appears to be realigning according to the MinMaxScaler appropriately**"
   ]
  },
  {
   "cell_type": "markdown",
   "metadata": {},
   "source": [
    "`X_test_MM_y_uns` will not be 'fitted'."
   ]
  },
  {
   "cell_type": "code",
   "execution_count": 125,
   "metadata": {},
   "outputs": [],
   "source": [
    "X_test_MM_y_uns[['Wages CPI_MM', 'WTI_MM', 'Copper_MM', 'Soybeans_MM', 'Natural Gas_MM', 'Heating Oil_MM',\n",
    "       'Corn_MM', 'Wheat_MM', 'Cattle_MM', 'Lean Hogs_MM', 'Sugar_MM', 'Lumber_MM',\n",
    "       'Capacity Utilization_MM', 'GDP_MM', 'M2 Velocity_MM', 'PMI_MM', 'USD Index_MM',\n",
    "       'Initial Jobless Claims_MM', 'Unemployment Rate_MM']] = MM_scaler.transform(X_test_MM_y_uns[['Wages CPI', 'WTI', 'Copper', 'Soybeans', 'Natural Gas', 'Heating Oil',\n",
    "       'Corn', 'Wheat', 'Cattle', 'Lean Hogs', 'Sugar', 'Lumber',\n",
    "       'Capacity Utilization', 'GDP', 'M2 Velocity', 'PMI', 'USD Index',\n",
    "       'Initial Jobless Claims', 'Unemployment Rate']])"
   ]
  },
  {
   "cell_type": "code",
   "execution_count": 126,
   "metadata": {},
   "outputs": [
    {
     "data": {
      "text/plain": [
       "Index(['Wages CPI', 'WTI', 'Copper', 'Soybeans', 'Natural Gas', 'Heating Oil',\n",
       "       'Corn', 'Wheat', 'Cattle', 'Lean Hogs', 'Sugar', 'Lumber',\n",
       "       'Capacity Utilization', 'GDP', 'M2 Velocity', 'PMI', 'USD Index',\n",
       "       'Initial Jobless Claims', 'Unemployment Rate', 'Wages CPI_MM', 'WTI_MM',\n",
       "       'Copper_MM', 'Soybeans_MM', 'Natural Gas_MM', 'Heating Oil_MM',\n",
       "       'Corn_MM', 'Wheat_MM', 'Cattle_MM', 'Lean Hogs_MM', 'Sugar_MM',\n",
       "       'Lumber_MM', 'Capacity Utilization_MM', 'GDP_MM', 'M2 Velocity_MM',\n",
       "       'PMI_MM', 'USD Index_MM', 'Initial Jobless Claims_MM',\n",
       "       'Unemployment Rate_MM'],\n",
       "      dtype='object')"
      ]
     },
     "execution_count": 126,
     "metadata": {},
     "output_type": "execute_result"
    }
   ],
   "source": [
    "X_test_MM_y_uns.columns"
   ]
  },
  {
   "cell_type": "code",
   "execution_count": 127,
   "metadata": {},
   "outputs": [],
   "source": [
    "X_test_MM_y_uns.drop(columns=prev_cols, inplace=True)"
   ]
  },
  {
   "cell_type": "code",
   "execution_count": 128,
   "metadata": {},
   "outputs": [
    {
     "data": {
      "text/html": [
       "<div>\n",
       "<style scoped>\n",
       "    .dataframe tbody tr th:only-of-type {\n",
       "        vertical-align: middle;\n",
       "    }\n",
       "\n",
       "    .dataframe tbody tr th {\n",
       "        vertical-align: top;\n",
       "    }\n",
       "\n",
       "    .dataframe thead th {\n",
       "        text-align: right;\n",
       "    }\n",
       "</style>\n",
       "<table border=\"1\" class=\"dataframe\">\n",
       "  <thead>\n",
       "    <tr style=\"text-align: right;\">\n",
       "      <th></th>\n",
       "      <th>Wages CPI_MM</th>\n",
       "      <th>WTI_MM</th>\n",
       "      <th>Copper_MM</th>\n",
       "      <th>Soybeans_MM</th>\n",
       "      <th>Natural Gas_MM</th>\n",
       "      <th>Heating Oil_MM</th>\n",
       "      <th>Corn_MM</th>\n",
       "      <th>Wheat_MM</th>\n",
       "      <th>Cattle_MM</th>\n",
       "      <th>Lean Hogs_MM</th>\n",
       "      <th>Sugar_MM</th>\n",
       "      <th>Lumber_MM</th>\n",
       "      <th>Capacity Utilization_MM</th>\n",
       "      <th>GDP_MM</th>\n",
       "      <th>M2 Velocity_MM</th>\n",
       "      <th>PMI_MM</th>\n",
       "      <th>USD Index_MM</th>\n",
       "      <th>Initial Jobless Claims_MM</th>\n",
       "      <th>Unemployment Rate_MM</th>\n",
       "    </tr>\n",
       "  </thead>\n",
       "  <tbody>\n",
       "    <tr>\n",
       "      <th>count</th>\n",
       "      <td>94.000000</td>\n",
       "      <td>94.000000</td>\n",
       "      <td>94.000000</td>\n",
       "      <td>94.000000</td>\n",
       "      <td>94.000000</td>\n",
       "      <td>94.000000</td>\n",
       "      <td>94.000000</td>\n",
       "      <td>94.000000</td>\n",
       "      <td>94.000000</td>\n",
       "      <td>94.000000</td>\n",
       "      <td>94.000000</td>\n",
       "      <td>94.000000</td>\n",
       "      <td>94.000000</td>\n",
       "      <td>94.000000</td>\n",
       "      <td>94.000000</td>\n",
       "      <td>94.000000</td>\n",
       "      <td>94.000000</td>\n",
       "      <td>94.000000</td>\n",
       "      <td>94.000000</td>\n",
       "    </tr>\n",
       "    <tr>\n",
       "      <th>mean</th>\n",
       "      <td>0.690210</td>\n",
       "      <td>0.572617</td>\n",
       "      <td>0.498569</td>\n",
       "      <td>0.564529</td>\n",
       "      <td>0.396389</td>\n",
       "      <td>0.555518</td>\n",
       "      <td>0.492223</td>\n",
       "      <td>0.359695</td>\n",
       "      <td>0.546091</td>\n",
       "      <td>0.509164</td>\n",
       "      <td>0.400012</td>\n",
       "      <td>0.339002</td>\n",
       "      <td>0.672707</td>\n",
       "      <td>0.892012</td>\n",
       "      <td>0.900214</td>\n",
       "      <td>0.455967</td>\n",
       "      <td>0.441410</td>\n",
       "      <td>0.192201</td>\n",
       "      <td>0.290293</td>\n",
       "    </tr>\n",
       "    <tr>\n",
       "      <th>std</th>\n",
       "      <td>0.099805</td>\n",
       "      <td>0.171094</td>\n",
       "      <td>0.121708</td>\n",
       "      <td>0.187243</td>\n",
       "      <td>0.196531</td>\n",
       "      <td>0.165797</td>\n",
       "      <td>0.184156</td>\n",
       "      <td>0.178595</td>\n",
       "      <td>0.192807</td>\n",
       "      <td>0.214604</td>\n",
       "      <td>0.143314</td>\n",
       "      <td>0.189617</td>\n",
       "      <td>0.106764</td>\n",
       "      <td>0.152033</td>\n",
       "      <td>0.110746</td>\n",
       "      <td>0.151505</td>\n",
       "      <td>0.214379</td>\n",
       "      <td>0.154446</td>\n",
       "      <td>0.079361</td>\n",
       "    </tr>\n",
       "    <tr>\n",
       "      <th>min</th>\n",
       "      <td>0.096365</td>\n",
       "      <td>0.004281</td>\n",
       "      <td>-0.010843</td>\n",
       "      <td>-0.048971</td>\n",
       "      <td>-0.023903</td>\n",
       "      <td>-0.017102</td>\n",
       "      <td>-0.046606</td>\n",
       "      <td>-0.144838</td>\n",
       "      <td>-0.065818</td>\n",
       "      <td>0.083637</td>\n",
       "      <td>0.103593</td>\n",
       "      <td>0.020946</td>\n",
       "      <td>0.029324</td>\n",
       "      <td>0.000000</td>\n",
       "      <td>0.000000</td>\n",
       "      <td>-0.117550</td>\n",
       "      <td>-0.007416</td>\n",
       "      <td>-0.602972</td>\n",
       "      <td>-0.033079</td>\n",
       "    </tr>\n",
       "    <tr>\n",
       "      <th>25%</th>\n",
       "      <td>0.655999</td>\n",
       "      <td>0.498575</td>\n",
       "      <td>0.431858</td>\n",
       "      <td>0.450662</td>\n",
       "      <td>0.278734</td>\n",
       "      <td>0.482281</td>\n",
       "      <td>0.391801</td>\n",
       "      <td>0.243106</td>\n",
       "      <td>0.408822</td>\n",
       "      <td>0.341999</td>\n",
       "      <td>0.312692</td>\n",
       "      <td>0.224931</td>\n",
       "      <td>0.650283</td>\n",
       "      <td>0.858455</td>\n",
       "      <td>0.877693</td>\n",
       "      <td>0.356374</td>\n",
       "      <td>0.311504</td>\n",
       "      <td>0.196161</td>\n",
       "      <td>0.277354</td>\n",
       "    </tr>\n",
       "    <tr>\n",
       "      <th>50%</th>\n",
       "      <td>0.711044</td>\n",
       "      <td>0.592369</td>\n",
       "      <td>0.480464</td>\n",
       "      <td>0.543031</td>\n",
       "      <td>0.380824</td>\n",
       "      <td>0.576199</td>\n",
       "      <td>0.473057</td>\n",
       "      <td>0.328449</td>\n",
       "      <td>0.563495</td>\n",
       "      <td>0.486675</td>\n",
       "      <td>0.373379</td>\n",
       "      <td>0.302785</td>\n",
       "      <td>0.679881</td>\n",
       "      <td>0.887370</td>\n",
       "      <td>0.905730</td>\n",
       "      <td>0.435430</td>\n",
       "      <td>0.427143</td>\n",
       "      <td>0.198225</td>\n",
       "      <td>0.284987</td>\n",
       "    </tr>\n",
       "    <tr>\n",
       "      <th>75%</th>\n",
       "      <td>0.739123</td>\n",
       "      <td>0.658689</td>\n",
       "      <td>0.568181</td>\n",
       "      <td>0.669189</td>\n",
       "      <td>0.535372</td>\n",
       "      <td>0.669003</td>\n",
       "      <td>0.589675</td>\n",
       "      <td>0.447156</td>\n",
       "      <td>0.700313</td>\n",
       "      <td>0.654977</td>\n",
       "      <td>0.475864</td>\n",
       "      <td>0.418701</td>\n",
       "      <td>0.701769</td>\n",
       "      <td>0.908735</td>\n",
       "      <td>0.941769</td>\n",
       "      <td>0.531043</td>\n",
       "      <td>0.563670</td>\n",
       "      <td>0.200963</td>\n",
       "      <td>0.295165</td>\n",
       "    </tr>\n",
       "    <tr>\n",
       "      <th>max</th>\n",
       "      <td>0.873396</td>\n",
       "      <td>1.174203</td>\n",
       "      <td>0.857696</td>\n",
       "      <td>1.028976</td>\n",
       "      <td>0.912929</td>\n",
       "      <td>0.882882</td>\n",
       "      <td>1.117858</td>\n",
       "      <td>1.001238</td>\n",
       "      <td>0.889907</td>\n",
       "      <td>1.002573</td>\n",
       "      <td>0.888486</td>\n",
       "      <td>1.188028</td>\n",
       "      <td>1.169745</td>\n",
       "      <td>1.504124</td>\n",
       "      <td>1.108699</td>\n",
       "      <td>0.933775</td>\n",
       "      <td>1.162732</td>\n",
       "      <td>1.310980</td>\n",
       "      <td>0.849873</td>\n",
       "    </tr>\n",
       "  </tbody>\n",
       "</table>\n",
       "</div>"
      ],
      "text/plain": [
       "       Wages CPI_MM     WTI_MM  Copper_MM  Soybeans_MM  Natural Gas_MM  \\\n",
       "count     94.000000  94.000000  94.000000    94.000000       94.000000   \n",
       "mean       0.690210   0.572617   0.498569     0.564529        0.396389   \n",
       "std        0.099805   0.171094   0.121708     0.187243        0.196531   \n",
       "min        0.096365   0.004281  -0.010843    -0.048971       -0.023903   \n",
       "25%        0.655999   0.498575   0.431858     0.450662        0.278734   \n",
       "50%        0.711044   0.592369   0.480464     0.543031        0.380824   \n",
       "75%        0.739123   0.658689   0.568181     0.669189        0.535372   \n",
       "max        0.873396   1.174203   0.857696     1.028976        0.912929   \n",
       "\n",
       "       Heating Oil_MM    Corn_MM   Wheat_MM  Cattle_MM  Lean Hogs_MM  \\\n",
       "count       94.000000  94.000000  94.000000  94.000000     94.000000   \n",
       "mean         0.555518   0.492223   0.359695   0.546091      0.509164   \n",
       "std          0.165797   0.184156   0.178595   0.192807      0.214604   \n",
       "min         -0.017102  -0.046606  -0.144838  -0.065818      0.083637   \n",
       "25%          0.482281   0.391801   0.243106   0.408822      0.341999   \n",
       "50%          0.576199   0.473057   0.328449   0.563495      0.486675   \n",
       "75%          0.669003   0.589675   0.447156   0.700313      0.654977   \n",
       "max          0.882882   1.117858   1.001238   0.889907      1.002573   \n",
       "\n",
       "        Sugar_MM  Lumber_MM  Capacity Utilization_MM     GDP_MM  \\\n",
       "count  94.000000  94.000000                94.000000  94.000000   \n",
       "mean    0.400012   0.339002                 0.672707   0.892012   \n",
       "std     0.143314   0.189617                 0.106764   0.152033   \n",
       "min     0.103593   0.020946                 0.029324   0.000000   \n",
       "25%     0.312692   0.224931                 0.650283   0.858455   \n",
       "50%     0.373379   0.302785                 0.679881   0.887370   \n",
       "75%     0.475864   0.418701                 0.701769   0.908735   \n",
       "max     0.888486   1.188028                 1.169745   1.504124   \n",
       "\n",
       "       M2 Velocity_MM     PMI_MM  USD Index_MM  Initial Jobless Claims_MM  \\\n",
       "count       94.000000  94.000000     94.000000                  94.000000   \n",
       "mean         0.900214   0.455967      0.441410                   0.192201   \n",
       "std          0.110746   0.151505      0.214379                   0.154446   \n",
       "min          0.000000  -0.117550     -0.007416                  -0.602972   \n",
       "25%          0.877693   0.356374      0.311504                   0.196161   \n",
       "50%          0.905730   0.435430      0.427143                   0.198225   \n",
       "75%          0.941769   0.531043      0.563670                   0.200963   \n",
       "max          1.108699   0.933775      1.162732                   1.310980   \n",
       "\n",
       "       Unemployment Rate_MM  \n",
       "count             94.000000  \n",
       "mean               0.290293  \n",
       "std                0.079361  \n",
       "min               -0.033079  \n",
       "25%                0.277354  \n",
       "50%                0.284987  \n",
       "75%                0.295165  \n",
       "max                0.849873  "
      ]
     },
     "execution_count": 128,
     "metadata": {},
     "output_type": "execute_result"
    }
   ],
   "source": [
    "X_test_MM.describe()"
   ]
  },
  {
   "cell_type": "markdown",
   "metadata": {},
   "source": [
    "The `min` & `max` are 0 & 1 confirming it has been scaled properly."
   ]
  },
  {
   "cell_type": "markdown",
   "metadata": {},
   "source": [
    "As a reminder, `y_train_MM_y_uns` & `y_test_MM_y_uns` will not be scaled or fit."
   ]
  },
  {
   "cell_type": "code",
   "execution_count": 129,
   "metadata": {},
   "outputs": [
    {
     "name": "stderr",
     "output_type": "stream",
     "text": [
      "C:\\Users\\rands\\anaconda3\\lib\\site-packages\\sklearn\\utils\\validation.py:67: FutureWarning: Pass fit_intercept=     Wages CPI_MM    WTI_MM  Copper_MM  Soybeans_MM  Natural Gas_MM  \\\n",
      "101      0.667023  0.697764   0.512777     0.481722        0.130890   \n",
      "193      0.702226  0.574152   0.572973     0.553345        0.726915   \n",
      "72       0.627672  0.503675   0.513877     0.079645        0.225447   \n",
      "298      0.736685  0.686603   0.548874     0.560455        0.669518   \n",
      "15       0.701428  0.559681   0.481664     0.565213        0.460086   \n",
      "..            ...       ...        ...          ...             ...   \n",
      "188      0.547931  0.414317   0.480190     0.674936        0.352186   \n",
      "71       0.598931  0.434401   0.474922     0.072212        0.246818   \n",
      "106      0.711230  0.423014   0.468340     0.525044        0.290988   \n",
      "270      0.726314  0.644175   0.468196     0.574068        0.424343   \n",
      "102      0.667924  0.703314   0.431410     0.357983        0.186642   \n",
      "\n",
      "     Heating Oil_MM   Corn_MM  Wheat_MM  Cattle_MM  Lean Hogs_MM  Sugar_MM  \\\n",
      "101        0.575457  0.398099  0.301730   0.607847      0.430331  0.289065   \n",
      "193        0.647400  0.334233  0.233641   0.902193      0.778621  0.570863   \n",
      "72         0.500257  0.083181  0.027922   0.769267      0.372374  0.296505   \n",
      "298        0.687929  0.355342  0.144845   0.356743      0.652575  0.538166   \n",
      "15         0.589965  0.309688  0.337369   0.596720      0.235435  0.379498   \n",
      "..              ...       ...       ...        ...           ...       ...   \n",
      "188        0.289590  0.469695  0.263023   0.455829      0.695810  0.248541   \n",
      "71         0.456637  0.156504  0.107087   0.794105      0.229072  0.278491   \n",
      "106        0.524783  0.411526  0.272804   0.635639      0.457548  0.560476   \n",
      "270        0.557356  0.572804  0.228477   0.313405      0.610431  0.265961   \n",
      "102        0.574418  0.327475  0.190432   0.628029      0.382541  0.239292   \n",
      "\n",
      "     Lumber_MM  Capacity Utilization_MM    GDP_MM  M2 Velocity_MM    PMI_MM  \\\n",
      "101   0.382012                 0.703741  0.913216        0.910229  0.496689   \n",
      "193   0.284336                 0.686801  0.879508        0.892847  0.496689   \n",
      "72    0.340278                 0.680134  0.933591        0.936323  0.536424   \n",
      "298   0.253628                 0.709856  0.918933        0.984071  0.524834   \n",
      "15    0.382356                 0.648040  0.875252        0.873635  0.355960   \n",
      "..         ...                      ...       ...             ...       ...   \n",
      "188   0.351085                 0.636604  0.891659        0.885481  0.432119   \n",
      "71    0.344408                 0.666789  0.855310        0.897649  0.543046   \n",
      "106   0.301139                 0.710919  0.846379        0.747131  0.296358   \n",
      "270   0.150905                 0.624634  0.860072        0.912898  0.167219   \n",
      "102   0.317269                 0.690517  0.913216        0.910229  0.476821   \n",
      "\n",
      "     USD Index_MM  Initial Jobless Claims_MM  Unemployment Rate_MM  \n",
      "101      0.632066                   0.190699              0.259542  \n",
      "193      0.219969                   0.197606              0.307888  \n",
      "72       0.593081                   0.194001              0.282443  \n",
      "298      0.182484                   0.198294              0.315522  \n",
      "15       0.495917                   0.199229              0.287532  \n",
      "..            ...                        ...                   ...  \n",
      "188      0.164933                   0.203082              0.312977  \n",
      "71       0.721471                   0.195515              0.269720  \n",
      "106      0.476929                   0.196285              0.287532  \n",
      "270      0.051360                   0.206907              0.300254  \n",
      "102      0.688591                   0.190259              0.256997  \n",
      "\n",
      "[218 rows x 19 columns], normalize=     Inflation\n",
      "101     -0.523\n",
      "193      0.571\n",
      "72      -0.414\n",
      "298     -0.023\n",
      "15       0.301\n",
      "..         ...\n",
      "188     -0.908\n",
      "71      -0.328\n",
      "106      0.309\n",
      "270      0.323\n",
      "102     -0.600\n",
      "\n",
      "[218 rows x 1 columns] as keyword args. From version 0.25 passing these as positional arguments will result in an error\n",
      "  warnings.warn(\"Pass {} as keyword args. From version 0.25 \"\n"
     ]
    }
   ],
   "source": [
    "reg_all_MM_y_uns = LinearRegression(X_train_MM_y_uns,y_train_MM_y_uns)"
   ]
  },
  {
   "cell_type": "code",
   "execution_count": 130,
   "metadata": {},
   "outputs": [],
   "source": [
    "lm_MM_y_uns = LinearRegression().fit(X_train_MM_y_uns, y_train_MM_y_uns)"
   ]
  },
  {
   "cell_type": "code",
   "execution_count": 131,
   "metadata": {},
   "outputs": [],
   "source": [
    "y_tr_pred_MM_y_uns = lm.predict(X_train_MM_y_uns)\n",
    "y_te_pred_MM_y_uns = lm.predict(X_test_MM_y_uns)"
   ]
  },
  {
   "cell_type": "code",
   "execution_count": 132,
   "metadata": {},
   "outputs": [
    {
     "data": {
      "text/plain": [
       "(-0.2443881036729123, -0.053252034463865616)"
      ]
     },
     "execution_count": 132,
     "metadata": {},
     "output_type": "execute_result"
    }
   ],
   "source": [
    "median_r2_MM_y_uns = r2_score(y_train_MM_y_uns, y_tr_pred_MM_y_uns), r2_score(y_test_MM_y_uns, y_te_pred_MM_y_uns)\n",
    "median_r2_MM_y_uns"
   ]
  },
  {
   "cell_type": "code",
   "execution_count": 133,
   "metadata": {},
   "outputs": [
    {
     "data": {
      "text/plain": [
       "(0.6711449575224696, 0.6112408854525505)"
      ]
     },
     "execution_count": 133,
     "metadata": {},
     "output_type": "execute_result"
    }
   ],
   "source": [
    "median_mae_MM_y_uns = mean_absolute_error( y_train_MM_y_uns, y_tr_pred_MM_y_uns), mean_absolute_error( y_test_MM_y_uns, y_te_pred_MM_y_uns )\n",
    "median_mae_MM_y_uns"
   ]
  },
  {
   "cell_type": "code",
   "execution_count": 134,
   "metadata": {},
   "outputs": [
    {
     "data": {
      "text/plain": [
       "(0.7976174908775572, 0.806112071774978)"
      ]
     },
     "execution_count": 134,
     "metadata": {},
     "output_type": "execute_result"
    }
   ],
   "source": [
    "median_mse_MM_y_uns = mean_squared_error( y_train_MM_y_uns, y_tr_pred_MM_y_uns ), mean_squared_error( y_test_MM_y_uns, y_te_pred_MM_y_uns )\n",
    "median_mse_MM_y_uns"
   ]
  },
  {
   "cell_type": "markdown",
   "metadata": {},
   "source": [
    "This scaling approach conveys that it is not appropriate for this data set."
   ]
  },
  {
   "cell_type": "markdown",
   "metadata": {},
   "source": [
    "# 3.4.6 Log Transform ( X scaled only )"
   ]
  },
  {
   "cell_type": "code",
   "execution_count": 135,
   "metadata": {},
   "outputs": [],
   "source": [
    "LG_scaler = PowerTransformer()"
   ]
  },
  {
   "cell_type": "markdown",
   "metadata": {},
   "source": [
    "First `X_train_LG_y_uns`"
   ]
  },
  {
   "cell_type": "code",
   "execution_count": 136,
   "metadata": {},
   "outputs": [
    {
     "data": {
      "text/plain": [
       "PowerTransformer()"
      ]
     },
     "execution_count": 136,
     "metadata": {},
     "output_type": "execute_result"
    }
   ],
   "source": [
    "LG_scaler.fit(X_train_LG_y_uns[['Wages CPI', 'WTI', 'Copper', 'Soybeans', 'Natural Gas', 'Heating Oil',\n",
    "       'Corn', 'Wheat', 'Cattle', 'Lean Hogs', 'Sugar', 'Lumber',\n",
    "       'Capacity Utilization', 'GDP', 'M2 Velocity', 'PMI', 'PMI',\n",
    "       'Initial Jobless Claims', 'Unemployment Rate']])"
   ]
  },
  {
   "cell_type": "code",
   "execution_count": 137,
   "metadata": {},
   "outputs": [],
   "source": [
    "X_train_LG_y_uns[['Wages CPI_LG', 'WTI_LG', 'Copper_LG', 'Soybeans_LG', 'Natural Gas_LG', 'Heating Oil_LG',\n",
    "       'Corn_LG', 'Wheat_LG', 'Cattle_LG', 'Lean Hogs_LG', 'Sugar_LG', 'Lumber_LG',\n",
    "       'Capacity Utilization_LG', 'GDP_LG', 'M2 Velocity_LG', 'PMI_LG', 'USD Index_LG',\n",
    "       'Initial Jobless Claims_LG', 'Unemployment Rate_LG']] = LG_scaler.transform(X_train_LG_y_uns[['Wages CPI', 'WTI', 'Copper', 'Soybeans', 'Natural Gas', 'Heating Oil',\n",
    "       'Corn', 'Wheat', 'Cattle', 'Lean Hogs', 'Sugar', 'Lumber',\n",
    "       'Capacity Utilization', 'GDP', 'M2 Velocity', 'PMI', 'USD Index',\n",
    "       'Initial Jobless Claims', 'Unemployment Rate']])"
   ]
  },
  {
   "cell_type": "code",
   "execution_count": 138,
   "metadata": {},
   "outputs": [
    {
     "data": {
      "text/plain": [
       "Index(['Wages CPI', 'WTI', 'Copper', 'Soybeans', 'Natural Gas', 'Heating Oil',\n",
       "       'Corn', 'Wheat', 'Cattle', 'Lean Hogs', 'Sugar', 'Lumber',\n",
       "       'Capacity Utilization', 'GDP', 'M2 Velocity', 'PMI', 'USD Index',\n",
       "       'Initial Jobless Claims', 'Unemployment Rate', 'Wages CPI_LG', 'WTI_LG',\n",
       "       'Copper_LG', 'Soybeans_LG', 'Natural Gas_LG', 'Heating Oil_LG',\n",
       "       'Corn_LG', 'Wheat_LG', 'Cattle_LG', 'Lean Hogs_LG', 'Sugar_LG',\n",
       "       'Lumber_LG', 'Capacity Utilization_LG', 'GDP_LG', 'M2 Velocity_LG',\n",
       "       'PMI_LG', 'USD Index_LG', 'Initial Jobless Claims_LG',\n",
       "       'Unemployment Rate_LG'],\n",
       "      dtype='object')"
      ]
     },
     "execution_count": 138,
     "metadata": {},
     "output_type": "execute_result"
    }
   ],
   "source": [
    "X_train_LG_y_uns.columns"
   ]
  },
  {
   "cell_type": "code",
   "execution_count": 139,
   "metadata": {},
   "outputs": [],
   "source": [
    "X_train_LG_y_uns.drop(columns=prev_cols, inplace=True)"
   ]
  },
  {
   "cell_type": "code",
   "execution_count": 140,
   "metadata": {},
   "outputs": [
    {
     "data": {
      "text/html": [
       "<div>\n",
       "<style scoped>\n",
       "    .dataframe tbody tr th:only-of-type {\n",
       "        vertical-align: middle;\n",
       "    }\n",
       "\n",
       "    .dataframe tbody tr th {\n",
       "        vertical-align: top;\n",
       "    }\n",
       "\n",
       "    .dataframe thead th {\n",
       "        text-align: right;\n",
       "    }\n",
       "</style>\n",
       "<table border=\"1\" class=\"dataframe\">\n",
       "  <thead>\n",
       "    <tr style=\"text-align: right;\">\n",
       "      <th></th>\n",
       "      <th>Wages CPI_LG</th>\n",
       "      <th>WTI_LG</th>\n",
       "      <th>Copper_LG</th>\n",
       "      <th>Soybeans_LG</th>\n",
       "      <th>Natural Gas_LG</th>\n",
       "      <th>Heating Oil_LG</th>\n",
       "      <th>Corn_LG</th>\n",
       "      <th>Wheat_LG</th>\n",
       "      <th>Cattle_LG</th>\n",
       "      <th>Lean Hogs_LG</th>\n",
       "      <th>Sugar_LG</th>\n",
       "      <th>Lumber_LG</th>\n",
       "      <th>Capacity Utilization_LG</th>\n",
       "      <th>GDP_LG</th>\n",
       "      <th>M2 Velocity_LG</th>\n",
       "      <th>PMI_LG</th>\n",
       "      <th>USD Index_LG</th>\n",
       "      <th>Initial Jobless Claims_LG</th>\n",
       "      <th>Unemployment Rate_LG</th>\n",
       "    </tr>\n",
       "  </thead>\n",
       "  <tbody>\n",
       "    <tr>\n",
       "      <th>count</th>\n",
       "      <td>2.180000e+02</td>\n",
       "      <td>2.180000e+02</td>\n",
       "      <td>2.180000e+02</td>\n",
       "      <td>2.180000e+02</td>\n",
       "      <td>2.180000e+02</td>\n",
       "      <td>2.180000e+02</td>\n",
       "      <td>2.180000e+02</td>\n",
       "      <td>2.180000e+02</td>\n",
       "      <td>2.180000e+02</td>\n",
       "      <td>2.180000e+02</td>\n",
       "      <td>2.180000e+02</td>\n",
       "      <td>2.180000e+02</td>\n",
       "      <td>2.180000e+02</td>\n",
       "      <td>2.180000e+02</td>\n",
       "      <td>2.180000e+02</td>\n",
       "      <td>2.180000e+02</td>\n",
       "      <td>218.000000</td>\n",
       "      <td>2.180000e+02</td>\n",
       "      <td>2.180000e+02</td>\n",
       "    </tr>\n",
       "    <tr>\n",
       "      <th>mean</th>\n",
       "      <td>-2.340126e-16</td>\n",
       "      <td>-1.018553e-17</td>\n",
       "      <td>2.953804e-17</td>\n",
       "      <td>2.648238e-17</td>\n",
       "      <td>3.463081e-17</td>\n",
       "      <td>2.711898e-17</td>\n",
       "      <td>3.921430e-17</td>\n",
       "      <td>-3.514009e-17</td>\n",
       "      <td>4.736273e-17</td>\n",
       "      <td>-3.182979e-17</td>\n",
       "      <td>-1.120409e-17</td>\n",
       "      <td>1.121204e-17</td>\n",
       "      <td>-1.527830e-17</td>\n",
       "      <td>-2.663517e-16</td>\n",
       "      <td>7.766468e-18</td>\n",
       "      <td>4.933617e-18</td>\n",
       "      <td>-0.012799</td>\n",
       "      <td>2.419064e-17</td>\n",
       "      <td>2.495455e-17</td>\n",
       "    </tr>\n",
       "    <tr>\n",
       "      <th>std</th>\n",
       "      <td>1.002301e+00</td>\n",
       "      <td>1.002301e+00</td>\n",
       "      <td>1.002301e+00</td>\n",
       "      <td>1.002301e+00</td>\n",
       "      <td>1.002301e+00</td>\n",
       "      <td>1.002301e+00</td>\n",
       "      <td>1.002301e+00</td>\n",
       "      <td>1.002301e+00</td>\n",
       "      <td>1.002301e+00</td>\n",
       "      <td>1.002301e+00</td>\n",
       "      <td>1.002301e+00</td>\n",
       "      <td>1.002301e+00</td>\n",
       "      <td>1.002301e+00</td>\n",
       "      <td>1.002301e+00</td>\n",
       "      <td>1.002301e+00</td>\n",
       "      <td>1.002301e+00</td>\n",
       "      <td>0.012007</td>\n",
       "      <td>1.002301e+00</td>\n",
       "      <td>1.002301e+00</td>\n",
       "    </tr>\n",
       "    <tr>\n",
       "      <th>min</th>\n",
       "      <td>-4.203779e+00</td>\n",
       "      <td>-3.308051e+00</td>\n",
       "      <td>-4.790893e+00</td>\n",
       "      <td>-3.256541e+00</td>\n",
       "      <td>-2.351455e+00</td>\n",
       "      <td>-2.941212e+00</td>\n",
       "      <td>-2.924180e+00</td>\n",
       "      <td>-2.556952e+00</td>\n",
       "      <td>-2.633208e+00</td>\n",
       "      <td>-2.438256e+00</td>\n",
       "      <td>-3.468529e+00</td>\n",
       "      <td>-3.038505e+00</td>\n",
       "      <td>-4.520455e+00</td>\n",
       "      <td>-3.102066e+00</td>\n",
       "      <td>-3.155028e+00</td>\n",
       "      <td>-3.893245e+00</td>\n",
       "      <td>-0.037961</td>\n",
       "      <td>-1.037009e+01</td>\n",
       "      <td>-9.181910e+00</td>\n",
       "    </tr>\n",
       "    <tr>\n",
       "      <th>25%</th>\n",
       "      <td>-3.922100e-01</td>\n",
       "      <td>-6.014282e-01</td>\n",
       "      <td>-5.750684e-01</td>\n",
       "      <td>-5.083560e-01</td>\n",
       "      <td>-6.365610e-01</td>\n",
       "      <td>-5.845875e-01</td>\n",
       "      <td>-6.062502e-01</td>\n",
       "      <td>-6.420350e-01</td>\n",
       "      <td>-6.802635e-01</td>\n",
       "      <td>-6.221477e-01</td>\n",
       "      <td>-6.725542e-01</td>\n",
       "      <td>-6.727191e-01</td>\n",
       "      <td>-3.616021e-01</td>\n",
       "      <td>-5.612664e-01</td>\n",
       "      <td>-4.877854e-01</td>\n",
       "      <td>-5.535478e-01</td>\n",
       "      <td>-0.022312</td>\n",
       "      <td>-5.411911e-02</td>\n",
       "      <td>-2.153957e-01</td>\n",
       "    </tr>\n",
       "    <tr>\n",
       "      <th>50%</th>\n",
       "      <td>2.665979e-02</td>\n",
       "      <td>-8.488108e-02</td>\n",
       "      <td>-6.524111e-02</td>\n",
       "      <td>-5.906084e-02</td>\n",
       "      <td>-6.468975e-02</td>\n",
       "      <td>-9.381907e-02</td>\n",
       "      <td>-1.671215e-02</td>\n",
       "      <td>6.137467e-02</td>\n",
       "      <td>2.357134e-02</td>\n",
       "      <td>-4.833773e-02</td>\n",
       "      <td>-1.004732e-01</td>\n",
       "      <td>3.617663e-02</td>\n",
       "      <td>6.764572e-02</td>\n",
       "      <td>-5.308771e-02</td>\n",
       "      <td>-1.275063e-01</td>\n",
       "      <td>5.063059e-02</td>\n",
       "      <td>-0.012357</td>\n",
       "      <td>5.152233e-02</td>\n",
       "      <td>-5.318401e-02</td>\n",
       "    </tr>\n",
       "    <tr>\n",
       "      <th>75%</th>\n",
       "      <td>3.947888e-01</td>\n",
       "      <td>6.501558e-01</td>\n",
       "      <td>5.626163e-01</td>\n",
       "      <td>5.299037e-01</td>\n",
       "      <td>6.392270e-01</td>\n",
       "      <td>6.113677e-01</td>\n",
       "      <td>5.536605e-01</td>\n",
       "      <td>6.883328e-01</td>\n",
       "      <td>7.166612e-01</td>\n",
       "      <td>7.255195e-01</td>\n",
       "      <td>6.539755e-01</td>\n",
       "      <td>6.712153e-01</td>\n",
       "      <td>4.176488e-01</td>\n",
       "      <td>5.796108e-01</td>\n",
       "      <td>5.338289e-01</td>\n",
       "      <td>5.976906e-01</td>\n",
       "      <td>-0.005258</td>\n",
       "      <td>1.047383e-01</td>\n",
       "      <td>1.530685e-01</td>\n",
       "    </tr>\n",
       "    <tr>\n",
       "      <th>max</th>\n",
       "      <td>4.675375e+00</td>\n",
       "      <td>3.071756e+00</td>\n",
       "      <td>3.530729e+00</td>\n",
       "      <td>2.828528e+00</td>\n",
       "      <td>2.453249e+00</td>\n",
       "      <td>2.727610e+00</td>\n",
       "      <td>2.942093e+00</td>\n",
       "      <td>2.934426e+00</td>\n",
       "      <td>2.718479e+00</td>\n",
       "      <td>2.680506e+00</td>\n",
       "      <td>2.825044e+00</td>\n",
       "      <td>3.940244e+00</td>\n",
       "      <td>6.673082e+00</td>\n",
       "      <td>3.243365e+00</td>\n",
       "      <td>2.464245e+00</td>\n",
       "      <td>3.163166e+00</td>\n",
       "      <td>0.019044</td>\n",
       "      <td>7.995727e+00</td>\n",
       "      <td>7.548036e+00</td>\n",
       "    </tr>\n",
       "  </tbody>\n",
       "</table>\n",
       "</div>"
      ],
      "text/plain": [
       "       Wages CPI_LG        WTI_LG     Copper_LG   Soybeans_LG  Natural Gas_LG  \\\n",
       "count  2.180000e+02  2.180000e+02  2.180000e+02  2.180000e+02    2.180000e+02   \n",
       "mean  -2.340126e-16 -1.018553e-17  2.953804e-17  2.648238e-17    3.463081e-17   \n",
       "std    1.002301e+00  1.002301e+00  1.002301e+00  1.002301e+00    1.002301e+00   \n",
       "min   -4.203779e+00 -3.308051e+00 -4.790893e+00 -3.256541e+00   -2.351455e+00   \n",
       "25%   -3.922100e-01 -6.014282e-01 -5.750684e-01 -5.083560e-01   -6.365610e-01   \n",
       "50%    2.665979e-02 -8.488108e-02 -6.524111e-02 -5.906084e-02   -6.468975e-02   \n",
       "75%    3.947888e-01  6.501558e-01  5.626163e-01  5.299037e-01    6.392270e-01   \n",
       "max    4.675375e+00  3.071756e+00  3.530729e+00  2.828528e+00    2.453249e+00   \n",
       "\n",
       "       Heating Oil_LG       Corn_LG      Wheat_LG     Cattle_LG  Lean Hogs_LG  \\\n",
       "count    2.180000e+02  2.180000e+02  2.180000e+02  2.180000e+02  2.180000e+02   \n",
       "mean     2.711898e-17  3.921430e-17 -3.514009e-17  4.736273e-17 -3.182979e-17   \n",
       "std      1.002301e+00  1.002301e+00  1.002301e+00  1.002301e+00  1.002301e+00   \n",
       "min     -2.941212e+00 -2.924180e+00 -2.556952e+00 -2.633208e+00 -2.438256e+00   \n",
       "25%     -5.845875e-01 -6.062502e-01 -6.420350e-01 -6.802635e-01 -6.221477e-01   \n",
       "50%     -9.381907e-02 -1.671215e-02  6.137467e-02  2.357134e-02 -4.833773e-02   \n",
       "75%      6.113677e-01  5.536605e-01  6.883328e-01  7.166612e-01  7.255195e-01   \n",
       "max      2.727610e+00  2.942093e+00  2.934426e+00  2.718479e+00  2.680506e+00   \n",
       "\n",
       "           Sugar_LG     Lumber_LG  Capacity Utilization_LG        GDP_LG  \\\n",
       "count  2.180000e+02  2.180000e+02             2.180000e+02  2.180000e+02   \n",
       "mean  -1.120409e-17  1.121204e-17            -1.527830e-17 -2.663517e-16   \n",
       "std    1.002301e+00  1.002301e+00             1.002301e+00  1.002301e+00   \n",
       "min   -3.468529e+00 -3.038505e+00            -4.520455e+00 -3.102066e+00   \n",
       "25%   -6.725542e-01 -6.727191e-01            -3.616021e-01 -5.612664e-01   \n",
       "50%   -1.004732e-01  3.617663e-02             6.764572e-02 -5.308771e-02   \n",
       "75%    6.539755e-01  6.712153e-01             4.176488e-01  5.796108e-01   \n",
       "max    2.825044e+00  3.940244e+00             6.673082e+00  3.243365e+00   \n",
       "\n",
       "       M2 Velocity_LG        PMI_LG  USD Index_LG  Initial Jobless Claims_LG  \\\n",
       "count    2.180000e+02  2.180000e+02    218.000000               2.180000e+02   \n",
       "mean     7.766468e-18  4.933617e-18     -0.012799               2.419064e-17   \n",
       "std      1.002301e+00  1.002301e+00      0.012007               1.002301e+00   \n",
       "min     -3.155028e+00 -3.893245e+00     -0.037961              -1.037009e+01   \n",
       "25%     -4.877854e-01 -5.535478e-01     -0.022312              -5.411911e-02   \n",
       "50%     -1.275063e-01  5.063059e-02     -0.012357               5.152233e-02   \n",
       "75%      5.338289e-01  5.976906e-01     -0.005258               1.047383e-01   \n",
       "max      2.464245e+00  3.163166e+00      0.019044               7.995727e+00   \n",
       "\n",
       "       Unemployment Rate_LG  \n",
       "count          2.180000e+02  \n",
       "mean           2.495455e-17  \n",
       "std            1.002301e+00  \n",
       "min           -9.181910e+00  \n",
       "25%           -2.153957e-01  \n",
       "50%           -5.318401e-02  \n",
       "75%            1.530685e-01  \n",
       "max            7.548036e+00  "
      ]
     },
     "execution_count": 140,
     "metadata": {},
     "output_type": "execute_result"
    }
   ],
   "source": [
    "X_train_LG.describe()"
   ]
  },
  {
   "cell_type": "markdown",
   "metadata": {},
   "source": [
    "All have a **Standard Deviation** `std` of 1 so we will continue to the next."
   ]
  },
  {
   "cell_type": "markdown",
   "metadata": {},
   "source": [
    "`X_test_LG_y_uns` will not be fitted."
   ]
  },
  {
   "cell_type": "code",
   "execution_count": 141,
   "metadata": {},
   "outputs": [],
   "source": [
    "X_test_LG_y_uns[['Wages CPI_LG', 'WTI_LG', 'Copper_LG', 'Soybeans_LG', 'Natural Gas_LG', 'Heating Oil_LG',\n",
    "       'Corn_LG', 'Wheat_LG', 'Cattle_LG', 'Lean Hogs_LG', 'Sugar_LG', 'Lumber_LG',\n",
    "       'Capacity Utilization_LG', 'GDP_LG', 'M2 Velocity_LG', 'PMI_LG', 'USD Index_LG',\n",
    "       'Initial Jobless Claims_LG', 'Unemployment Rate_LG']] = LG_scaler.transform(X_test_LG_y_uns[['Wages CPI', 'WTI', 'Copper', 'Soybeans', 'Natural Gas', 'Heating Oil',\n",
    "       'Corn', 'Wheat', 'Cattle', 'Lean Hogs', 'Sugar', 'Lumber',\n",
    "       'Capacity Utilization', 'GDP', 'M2 Velocity', 'PMI', 'USD Index',\n",
    "       'Initial Jobless Claims', 'Unemployment Rate']])"
   ]
  },
  {
   "cell_type": "code",
   "execution_count": 142,
   "metadata": {},
   "outputs": [
    {
     "data": {
      "text/plain": [
       "Index(['Wages CPI', 'WTI', 'Copper', 'Soybeans', 'Natural Gas', 'Heating Oil',\n",
       "       'Corn', 'Wheat', 'Cattle', 'Lean Hogs', 'Sugar', 'Lumber',\n",
       "       'Capacity Utilization', 'GDP', 'M2 Velocity', 'PMI', 'USD Index',\n",
       "       'Initial Jobless Claims', 'Unemployment Rate', 'Wages CPI_LG', 'WTI_LG',\n",
       "       'Copper_LG', 'Soybeans_LG', 'Natural Gas_LG', 'Heating Oil_LG',\n",
       "       'Corn_LG', 'Wheat_LG', 'Cattle_LG', 'Lean Hogs_LG', 'Sugar_LG',\n",
       "       'Lumber_LG', 'Capacity Utilization_LG', 'GDP_LG', 'M2 Velocity_LG',\n",
       "       'PMI_LG', 'USD Index_LG', 'Initial Jobless Claims_LG',\n",
       "       'Unemployment Rate_LG'],\n",
       "      dtype='object')"
      ]
     },
     "execution_count": 142,
     "metadata": {},
     "output_type": "execute_result"
    }
   ],
   "source": [
    "X_test_LG_y_uns.columns"
   ]
  },
  {
   "cell_type": "code",
   "execution_count": 143,
   "metadata": {},
   "outputs": [],
   "source": [
    "X_test_LG_y_uns.drop(columns=prev_cols, inplace=True)"
   ]
  },
  {
   "cell_type": "code",
   "execution_count": 144,
   "metadata": {
    "scrolled": true
   },
   "outputs": [
    {
     "data": {
      "text/html": [
       "<div>\n",
       "<style scoped>\n",
       "    .dataframe tbody tr th:only-of-type {\n",
       "        vertical-align: middle;\n",
       "    }\n",
       "\n",
       "    .dataframe tbody tr th {\n",
       "        vertical-align: top;\n",
       "    }\n",
       "\n",
       "    .dataframe thead th {\n",
       "        text-align: right;\n",
       "    }\n",
       "</style>\n",
       "<table border=\"1\" class=\"dataframe\">\n",
       "  <thead>\n",
       "    <tr style=\"text-align: right;\">\n",
       "      <th></th>\n",
       "      <th>Wages CPI_LG</th>\n",
       "      <th>WTI_LG</th>\n",
       "      <th>Copper_LG</th>\n",
       "      <th>Soybeans_LG</th>\n",
       "      <th>Natural Gas_LG</th>\n",
       "      <th>Heating Oil_LG</th>\n",
       "      <th>Corn_LG</th>\n",
       "      <th>Wheat_LG</th>\n",
       "      <th>Cattle_LG</th>\n",
       "      <th>Lean Hogs_LG</th>\n",
       "      <th>Sugar_LG</th>\n",
       "      <th>Lumber_LG</th>\n",
       "      <th>Capacity Utilization_LG</th>\n",
       "      <th>GDP_LG</th>\n",
       "      <th>M2 Velocity_LG</th>\n",
       "      <th>PMI_LG</th>\n",
       "      <th>USD Index_LG</th>\n",
       "      <th>Initial Jobless Claims_LG</th>\n",
       "      <th>Unemployment Rate_LG</th>\n",
       "    </tr>\n",
       "  </thead>\n",
       "  <tbody>\n",
       "    <tr>\n",
       "      <th>count</th>\n",
       "      <td>94.000000</td>\n",
       "      <td>94.000000</td>\n",
       "      <td>94.000000</td>\n",
       "      <td>94.000000</td>\n",
       "      <td>94.000000</td>\n",
       "      <td>94.000000</td>\n",
       "      <td>94.000000</td>\n",
       "      <td>94.000000</td>\n",
       "      <td>94.000000</td>\n",
       "      <td>94.000000</td>\n",
       "      <td>94.000000</td>\n",
       "      <td>94.000000</td>\n",
       "      <td>94.000000</td>\n",
       "      <td>94.000000</td>\n",
       "      <td>94.000000</td>\n",
       "      <td>94.000000</td>\n",
       "      <td>94.000000</td>\n",
       "      <td>94.000000</td>\n",
       "      <td>94.000000</td>\n",
       "    </tr>\n",
       "    <tr>\n",
       "      <th>mean</th>\n",
       "      <td>-0.047693</td>\n",
       "      <td>-0.037448</td>\n",
       "      <td>-0.153213</td>\n",
       "      <td>0.159483</td>\n",
       "      <td>0.002810</td>\n",
       "      <td>-0.159143</td>\n",
       "      <td>0.264644</td>\n",
       "      <td>0.138916</td>\n",
       "      <td>-0.017094</td>\n",
       "      <td>0.151326</td>\n",
       "      <td>0.065967</td>\n",
       "      <td>0.042307</td>\n",
       "      <td>0.176193</td>\n",
       "      <td>5.586587</td>\n",
       "      <td>0.120131</td>\n",
       "      <td>-0.186320</td>\n",
       "      <td>-0.012710</td>\n",
       "      <td>-0.909727</td>\n",
       "      <td>-0.150826</td>\n",
       "    </tr>\n",
       "    <tr>\n",
       "      <th>std</th>\n",
       "      <td>0.936789</td>\n",
       "      <td>1.128672</td>\n",
       "      <td>1.012834</td>\n",
       "      <td>1.141851</td>\n",
       "      <td>0.997253</td>\n",
       "      <td>0.929729</td>\n",
       "      <td>1.064146</td>\n",
       "      <td>1.049302</td>\n",
       "      <td>1.028891</td>\n",
       "      <td>1.100073</td>\n",
       "      <td>0.895027</td>\n",
       "      <td>1.322624</td>\n",
       "      <td>1.686065</td>\n",
       "      <td>31.889558</td>\n",
       "      <td>1.803137</td>\n",
       "      <td>1.077949</td>\n",
       "      <td>0.012223</td>\n",
       "      <td>5.822624</td>\n",
       "      <td>1.526160</td>\n",
       "    </tr>\n",
       "    <tr>\n",
       "      <th>min</th>\n",
       "      <td>-3.920954</td>\n",
       "      <td>-3.287139</td>\n",
       "      <td>-4.904334</td>\n",
       "      <td>-3.550108</td>\n",
       "      <td>-2.528186</td>\n",
       "      <td>-3.013564</td>\n",
       "      <td>-3.268768</td>\n",
       "      <td>-4.099501</td>\n",
       "      <td>-2.896506</td>\n",
       "      <td>-2.016261</td>\n",
       "      <td>-2.322866</td>\n",
       "      <td>-2.804925</td>\n",
       "      <td>-4.434456</td>\n",
       "      <td>-3.102066</td>\n",
       "      <td>-3.155028</td>\n",
       "      <td>-4.946035</td>\n",
       "      <td>-0.038387</td>\n",
       "      <td>-45.855891</td>\n",
       "      <td>-10.531449</td>\n",
       "    </tr>\n",
       "    <tr>\n",
       "      <th>25%</th>\n",
       "      <td>-0.512638</td>\n",
       "      <td>-0.566183</td>\n",
       "      <td>-0.680598</td>\n",
       "      <td>-0.536740</td>\n",
       "      <td>-0.535525</td>\n",
       "      <td>-0.619124</td>\n",
       "      <td>-0.287157</td>\n",
       "      <td>-0.507488</td>\n",
       "      <td>-0.787777</td>\n",
       "      <td>-0.706116</td>\n",
       "      <td>-0.453744</td>\n",
       "      <td>-0.770490</td>\n",
       "      <td>-0.297658</td>\n",
       "      <td>-0.696151</td>\n",
       "      <td>-0.730212</td>\n",
       "      <td>-0.873789</td>\n",
       "      <td>-0.020109</td>\n",
       "      <td>-0.059427</td>\n",
       "      <td>-0.270843</td>\n",
       "    </tr>\n",
       "    <tr>\n",
       "      <th>50%</th>\n",
       "      <td>0.089276</td>\n",
       "      <td>0.038451</td>\n",
       "      <td>-0.270453</td>\n",
       "      <td>0.025206</td>\n",
       "      <td>0.017914</td>\n",
       "      <td>-0.086442</td>\n",
       "      <td>0.200127</td>\n",
       "      <td>0.068382</td>\n",
       "      <td>0.022997</td>\n",
       "      <td>0.032323</td>\n",
       "      <td>-0.013983</td>\n",
       "      <td>-0.106885</td>\n",
       "      <td>0.092531</td>\n",
       "      <td>-0.168892</td>\n",
       "      <td>-0.219277</td>\n",
       "      <td>-0.265238</td>\n",
       "      <td>-0.013504</td>\n",
       "      <td>0.026916</td>\n",
       "      <td>-0.106555</td>\n",
       "    </tr>\n",
       "    <tr>\n",
       "      <th>75%</th>\n",
       "      <td>0.424234</td>\n",
       "      <td>0.487573</td>\n",
       "      <td>0.441645</td>\n",
       "      <td>0.795398</td>\n",
       "      <td>0.752372</td>\n",
       "      <td>0.472593</td>\n",
       "      <td>0.864834</td>\n",
       "      <td>0.762557</td>\n",
       "      <td>0.801550</td>\n",
       "      <td>0.895996</td>\n",
       "      <td>0.635791</td>\n",
       "      <td>0.772985</td>\n",
       "      <td>0.399815</td>\n",
       "      <td>0.294391</td>\n",
       "      <td>0.604431</td>\n",
       "      <td>0.397687</td>\n",
       "      <td>-0.005721</td>\n",
       "      <td>0.098485</td>\n",
       "      <td>0.102587</td>\n",
       "    </tr>\n",
       "    <tr>\n",
       "      <th>max</th>\n",
       "      <td>2.326684</td>\n",
       "      <td>4.558602</td>\n",
       "      <td>2.577670</td>\n",
       "      <td>3.007478</td>\n",
       "      <td>2.178059</td>\n",
       "      <td>1.883646</td>\n",
       "      <td>3.477895</td>\n",
       "      <td>2.937958</td>\n",
       "      <td>1.979732</td>\n",
       "      <td>2.693881</td>\n",
       "      <td>2.469022</td>\n",
       "      <td>4.689258</td>\n",
       "      <td>12.738059</td>\n",
       "      <td>180.209518</td>\n",
       "      <td>8.746628</td>\n",
       "      <td>2.793352</td>\n",
       "      <td>0.028239</td>\n",
       "      <td>10.843220</td>\n",
       "      <td>6.385635</td>\n",
       "    </tr>\n",
       "  </tbody>\n",
       "</table>\n",
       "</div>"
      ],
      "text/plain": [
       "       Wages CPI_LG     WTI_LG  Copper_LG  Soybeans_LG  Natural Gas_LG  \\\n",
       "count     94.000000  94.000000  94.000000    94.000000       94.000000   \n",
       "mean      -0.047693  -0.037448  -0.153213     0.159483        0.002810   \n",
       "std        0.936789   1.128672   1.012834     1.141851        0.997253   \n",
       "min       -3.920954  -3.287139  -4.904334    -3.550108       -2.528186   \n",
       "25%       -0.512638  -0.566183  -0.680598    -0.536740       -0.535525   \n",
       "50%        0.089276   0.038451  -0.270453     0.025206        0.017914   \n",
       "75%        0.424234   0.487573   0.441645     0.795398        0.752372   \n",
       "max        2.326684   4.558602   2.577670     3.007478        2.178059   \n",
       "\n",
       "       Heating Oil_LG    Corn_LG   Wheat_LG  Cattle_LG  Lean Hogs_LG  \\\n",
       "count       94.000000  94.000000  94.000000  94.000000     94.000000   \n",
       "mean        -0.159143   0.264644   0.138916  -0.017094      0.151326   \n",
       "std          0.929729   1.064146   1.049302   1.028891      1.100073   \n",
       "min         -3.013564  -3.268768  -4.099501  -2.896506     -2.016261   \n",
       "25%         -0.619124  -0.287157  -0.507488  -0.787777     -0.706116   \n",
       "50%         -0.086442   0.200127   0.068382   0.022997      0.032323   \n",
       "75%          0.472593   0.864834   0.762557   0.801550      0.895996   \n",
       "max          1.883646   3.477895   2.937958   1.979732      2.693881   \n",
       "\n",
       "        Sugar_LG  Lumber_LG  Capacity Utilization_LG      GDP_LG  \\\n",
       "count  94.000000  94.000000                94.000000   94.000000   \n",
       "mean    0.065967   0.042307                 0.176193    5.586587   \n",
       "std     0.895027   1.322624                 1.686065   31.889558   \n",
       "min    -2.322866  -2.804925                -4.434456   -3.102066   \n",
       "25%    -0.453744  -0.770490                -0.297658   -0.696151   \n",
       "50%    -0.013983  -0.106885                 0.092531   -0.168892   \n",
       "75%     0.635791   0.772985                 0.399815    0.294391   \n",
       "max     2.469022   4.689258                12.738059  180.209518   \n",
       "\n",
       "       M2 Velocity_LG     PMI_LG  USD Index_LG  Initial Jobless Claims_LG  \\\n",
       "count       94.000000  94.000000     94.000000                  94.000000   \n",
       "mean         0.120131  -0.186320     -0.012710                  -0.909727   \n",
       "std          1.803137   1.077949      0.012223                   5.822624   \n",
       "min         -3.155028  -4.946035     -0.038387                 -45.855891   \n",
       "25%         -0.730212  -0.873789     -0.020109                  -0.059427   \n",
       "50%         -0.219277  -0.265238     -0.013504                   0.026916   \n",
       "75%          0.604431   0.397687     -0.005721                   0.098485   \n",
       "max          8.746628   2.793352      0.028239                  10.843220   \n",
       "\n",
       "       Unemployment Rate_LG  \n",
       "count             94.000000  \n",
       "mean              -0.150826  \n",
       "std                1.526160  \n",
       "min              -10.531449  \n",
       "25%               -0.270843  \n",
       "50%               -0.106555  \n",
       "75%                0.102587  \n",
       "max                6.385635  "
      ]
     },
     "execution_count": 144,
     "metadata": {},
     "output_type": "execute_result"
    }
   ],
   "source": [
    "X_test_LG_y_uns.describe()"
   ]
  },
  {
   "cell_type": "markdown",
   "metadata": {},
   "source": [
    "As a reminder, `y_train_LG_y_uns` & `y_test_LG_y_uns` will not be scaled or fit."
   ]
  },
  {
   "cell_type": "code",
   "execution_count": 145,
   "metadata": {},
   "outputs": [
    {
     "name": "stderr",
     "output_type": "stream",
     "text": [
      "C:\\Users\\rands\\anaconda3\\lib\\site-packages\\sklearn\\utils\\validation.py:67: FutureWarning: Pass dual=     Inflation\n",
      "101     -0.523\n",
      "193      0.571\n",
      "72      -0.414\n",
      "298     -0.023\n",
      "15       0.301\n",
      "..         ...\n",
      "188     -0.908\n",
      "71      -0.328\n",
      "106      0.309\n",
      "270      0.323\n",
      "102     -0.600\n",
      "\n",
      "[218 rows x 1 columns] as keyword args. From version 0.25 passing these as positional arguments will result in an error\n",
      "  warnings.warn(\"Pass {} as keyword args. From version 0.25 \"\n"
     ]
    }
   ],
   "source": [
    "reg_new_LG = LogisticRegression(X_train_LG_y_uns,y_train_LG_y_uns)"
   ]
  },
  {
   "cell_type": "code",
   "execution_count": 146,
   "metadata": {},
   "outputs": [],
   "source": [
    "lm_LG = LinearRegression().fit(X_train_LG_y_uns, y_train_LG_y_uns)"
   ]
  },
  {
   "cell_type": "code",
   "execution_count": 147,
   "metadata": {},
   "outputs": [],
   "source": [
    "y_tr_pred_LG_y_uns = lm_LG.predict(X_train_LG_y_uns)\n",
    "y_te_pred_LG_y_uns = lm_LG.predict(X_test_LG_y_uns)"
   ]
  },
  {
   "cell_type": "code",
   "execution_count": 148,
   "metadata": {},
   "outputs": [
    {
     "data": {
      "text/plain": [
       "(0.4142435764887842, -23.469326824409155)"
      ]
     },
     "execution_count": 148,
     "metadata": {},
     "output_type": "execute_result"
    }
   ],
   "source": [
    "median_r2_LG_y_uns = r2_score(y_train_LG_y_uns, y_tr_pred_LG_y_uns), r2_score(y_test_LG_y_uns, y_te_pred_LG_y_uns)\n",
    "median_r2_LG_y_uns"
   ]
  },
  {
   "cell_type": "code",
   "execution_count": 149,
   "metadata": {},
   "outputs": [
    {
     "data": {
      "text/plain": [
       "(0.43807261736558306, 1.289677620931374)"
      ]
     },
     "execution_count": 149,
     "metadata": {},
     "output_type": "execute_result"
    }
   ],
   "source": [
    "median_mae_LG_y_uns = mean_absolute_error( y_train_LG_y_uns, y_tr_pred_LG_y_uns), mean_absolute_error( y_test_LG_y_uns, y_te_pred_LG_y_uns )\n",
    "median_mae_LG_y_uns"
   ]
  },
  {
   "cell_type": "code",
   "execution_count": 150,
   "metadata": {
    "scrolled": false
   },
   "outputs": [
    {
     "data": {
      "text/plain": [
       "(0.37545325884056663, 18.727730017064804)"
      ]
     },
     "execution_count": 150,
     "metadata": {},
     "output_type": "execute_result"
    }
   ],
   "source": [
    "median_mse_LG_y_uns = mean_squared_error( y_train_LG_y_uns, y_tr_pred_LG_y_uns ), mean_squared_error( y_test_LG_y_uns, y_te_pred_LG_y_uns )\n",
    "median_mse_LG_y_uns"
   ]
  },
  {
   "cell_type": "markdown",
   "metadata": {},
   "source": [
    "# 3.4.7 Scaling Review"
   ]
  },
  {
   "cell_type": "markdown",
   "metadata": {},
   "source": [
    "A noteable amount of information was 're-arranged' so we will quickly show the r2-values for all of the scaling approaches side by side:"
   ]
  },
  {
   "cell_type": "code",
   "execution_count": 151,
   "metadata": {},
   "outputs": [
    {
     "name": "stdout",
     "output_type": "stream",
     "text": [
      " Results for X & y scaled below \n",
      " SS Train | 0.3966   Test 0.2796 \n",
      " MM Train | 0.0424   Test -0.1085 \n",
      " LG Train | 0.4149   Test -23.8319 \n",
      " \n",
      " Results for X only scaled below \n",
      " SS Train | 0.4185   Test 0.254 \n",
      " MM Train | -0.2444  Test -0.0533 \n",
      " LG Train | 0.4142   Test -23.4693\n"
     ]
    }
   ],
   "source": [
    "print(' Results for X & y scaled below',\n",
    "    '\\n','SS Train |',round(median_r2_SS[0],4),'  Test', round(median_r2_SS[1],4),\n",
    "      '\\n','MM Train |',round(median_r2_MM[0],4),'  Test', round(median_r2_MM[1],4),\n",
    "      '\\n','LG Train |',round(median_r2_LG[0],4),'  Test', round(median_r2_LG[1],4),'\\n','\\n',\n",
    "     'Results for X only scaled below',\n",
    "    '\\n','SS Train |',round(median_r2_SS_y_uns[0],4),'  Test', round(median_r2_SS_y_uns[1],4),\n",
    "      '\\n','MM Train |',round(median_r2_MM_y_uns[0],4),' Test', round(median_r2_MM_y_uns[1],4),\n",
    "      '\\n','LG Train |',round(median_r2_LG_y_uns[0],4),'  Test', round(median_r2_LG_y_uns[1],4))"
   ]
  },
  {
   "cell_type": "markdown",
   "metadata": {},
   "source": [
    "Of the three ( 3 ) scalers, `MinMax` ( `MM` ) presented poor results on both scaling & unscaling `y`. \n",
    "\n",
    "With the exception of `Log Transformation` ( `LG` ) `Test` data on a both scaled & unscaled `y`, `Standard Scaler` ( `SS` ) & `LG` present the best outcomes. **These results lead me to believe that a healthy combination between `SS` & `LG` \"may\" present even better outcomes if they are balanced correctly. This balancing act will need to be done on an unscaled `y` but I am comfortable with that as:**\n",
    "   * `SS` presented better results on the `Training` data\n",
    "     * <i>marginally worse on the `Test` data </i>\n",
    "   * `LG` presented marginally better results on the `Test` data\n",
    "     * <i>maringally worse on the `Training` data</i>\n",
    "\n",
    "We will now investigate these finds, as per the above, even further in the next section."
   ]
  },
  {
   "cell_type": "markdown",
   "metadata": {},
   "source": [
    "# 3.4.8 Balancing SS & LG to unscaled y"
   ]
  },
  {
   "cell_type": "markdown",
   "metadata": {},
   "source": [
    "We will now start from the beginning & assign the `Train` / `Test` splits to a new set of variables for both `SS` & `LG`."
   ]
  },
  {
   "cell_type": "markdown",
   "metadata": {},
   "source": [
    "**StandardScaler ( X only ) for the SS & LG Combination** | *Assignment to its respective data frames.*"
   ]
  },
  {
   "cell_type": "code",
   "execution_count": 152,
   "metadata": {},
   "outputs": [],
   "source": [
    "X_tr_SS_y_uns = pd.DataFrame(X_train.copy())\n",
    "X_te_SS_y_uns = pd.DataFrame(X_test.copy())"
   ]
  },
  {
   "cell_type": "markdown",
   "metadata": {},
   "source": [
    "**Log Transformation ( X only ) for the SS & LG Combination** | *Assignment to its respective data frames.*"
   ]
  },
  {
   "cell_type": "code",
   "execution_count": 153,
   "metadata": {},
   "outputs": [],
   "source": [
    "X_tr_LG_y_uns = pd.DataFrame(X_train.copy())\n",
    "X_te_LG_y_uns = pd.DataFrame(X_test.copy())"
   ]
  },
  {
   "cell_type": "markdown",
   "metadata": {},
   "source": [
    "**The y variables for the SS & LG Combination** | *Assignment to its respective data frames.*"
   ]
  },
  {
   "cell_type": "code",
   "execution_count": 154,
   "metadata": {},
   "outputs": [],
   "source": [
    "y_tr_y_uns = pd.DataFrame(y_train.copy())\n",
    "y_te_y_uns = pd.DataFrame(y_test.copy())\n",
    "y_train_pred_y_uns = pd.DataFrame(y_pred.copy())"
   ]
  },
  {
   "cell_type": "markdown",
   "metadata": {},
   "source": [
    "I will now look at the variables with out scaling to determine which ones should be `LG` scaled. This is an entirely visual exercise."
   ]
  },
  {
   "cell_type": "markdown",
   "metadata": {},
   "source": [
    "Further to our previous examination, the following variables may need to be `LG` scale:\n",
    "   * `Wages CPI` ( prob outliers -- take a look at boxplot )\n",
    "   * `Capacity Utilization` ( maybe maybe not -- take a look w/ more buckets and.or boxplot )\n",
    "   * `GDP`\n",
    "   * `M2 Velocity`\n",
    "   * `Initial Jobless Claims` ( maybe maybe not -- take a look w/ more buckets and.or boxplot )\n",
    "   * `Unemployment Rate` ( maybe maybe not -- take a look w/ more buckets and.or boxplot )\n",
    "\n",
    "We will first scale `LG` & remove those not in the list above."
   ]
  },
  {
   "cell_type": "markdown",
   "metadata": {},
   "source": [
    "# 3.4.8.1 LG to unscaled y"
   ]
  },
  {
   "cell_type": "code",
   "execution_count": 155,
   "metadata": {},
   "outputs": [],
   "source": [
    "LG_scaler = PowerTransformer()"
   ]
  },
  {
   "cell_type": "markdown",
   "metadata": {},
   "source": [
    "First `X_tr_LG_y_uns`"
   ]
  },
  {
   "cell_type": "code",
   "execution_count": 156,
   "metadata": {},
   "outputs": [
    {
     "data": {
      "text/plain": [
       "PowerTransformer()"
      ]
     },
     "execution_count": 156,
     "metadata": {},
     "output_type": "execute_result"
    }
   ],
   "source": [
    "LG_scaler.fit(X_tr_LG_y_uns[['Wages CPI', 'WTI', 'Copper', 'Soybeans', 'Natural Gas', 'Heating Oil',\n",
    "       'Corn', 'Wheat', 'Cattle', 'Lean Hogs', 'Sugar', 'Lumber',\n",
    "       'Capacity Utilization', 'GDP', 'M2 Velocity', 'PMI', 'PMI',\n",
    "       'Initial Jobless Claims', 'Unemployment Rate']])"
   ]
  },
  {
   "cell_type": "code",
   "execution_count": 157,
   "metadata": {},
   "outputs": [],
   "source": [
    "X_tr_LG_y_uns[['Wages CPI_LG', 'WTI_LG', 'Copper_LG', 'Soybeans_LG', 'Natural Gas_LG', 'Heating Oil_LG',\n",
    "       'Corn_LG', 'Wheat_LG', 'Cattle_LG', 'Lean Hogs_LG', 'Sugar_LG', 'Lumber_LG',\n",
    "       'Capacity Utilization_LG', 'GDP_LG', 'M2 Velocity_LG', 'PMI_LG', 'USD Index_LG',\n",
    "       'Initial Jobless Claims_LG', 'Unemployment Rate_LG']] = LG_scaler.transform(X_tr_LG_y_uns[['Wages CPI', 'WTI', 'Copper', 'Soybeans', 'Natural Gas', 'Heating Oil',\n",
    "       'Corn', 'Wheat', 'Cattle', 'Lean Hogs', 'Sugar', 'Lumber',\n",
    "       'Capacity Utilization', 'GDP', 'M2 Velocity', 'PMI', 'USD Index',\n",
    "       'Initial Jobless Claims', 'Unemployment Rate']])"
   ]
  },
  {
   "cell_type": "code",
   "execution_count": 158,
   "metadata": {},
   "outputs": [
    {
     "data": {
      "text/plain": [
       "Index(['Wages CPI', 'WTI', 'Copper', 'Soybeans', 'Natural Gas', 'Heating Oil',\n",
       "       'Corn', 'Wheat', 'Cattle', 'Lean Hogs', 'Sugar', 'Lumber',\n",
       "       'Capacity Utilization', 'GDP', 'M2 Velocity', 'PMI', 'USD Index',\n",
       "       'Initial Jobless Claims', 'Unemployment Rate', 'Wages CPI_LG', 'WTI_LG',\n",
       "       'Copper_LG', 'Soybeans_LG', 'Natural Gas_LG', 'Heating Oil_LG',\n",
       "       'Corn_LG', 'Wheat_LG', 'Cattle_LG', 'Lean Hogs_LG', 'Sugar_LG',\n",
       "       'Lumber_LG', 'Capacity Utilization_LG', 'GDP_LG', 'M2 Velocity_LG',\n",
       "       'PMI_LG', 'USD Index_LG', 'Initial Jobless Claims_LG',\n",
       "       'Unemployment Rate_LG'],\n",
       "      dtype='object')"
      ]
     },
     "execution_count": 158,
     "metadata": {},
     "output_type": "execute_result"
    }
   ],
   "source": [
    "X_tr_LG_y_uns.columns"
   ]
  },
  {
   "cell_type": "code",
   "execution_count": 159,
   "metadata": {},
   "outputs": [],
   "source": [
    "X_tr_LG_y_uns.drop(columns=prev_cols, inplace=True)"
   ]
  },
  {
   "cell_type": "code",
   "execution_count": 160,
   "metadata": {},
   "outputs": [],
   "source": [
    "non_LG = ['WTI_LG','Copper_LG', 'Soybeans_LG', 'Natural Gas_LG', 'Heating Oil_LG',\n",
    "       'Corn_LG', 'Wheat_LG', 'Cattle_LG', 'Lean Hogs_LG', 'Sugar_LG',\n",
    "       'Lumber_LG', 'PMI_LG', 'USD Index_LG']"
   ]
  },
  {
   "cell_type": "code",
   "execution_count": 161,
   "metadata": {},
   "outputs": [],
   "source": [
    "X_tr_LG_y_uns.drop(columns=non_LG, inplace=True)"
   ]
  },
  {
   "cell_type": "code",
   "execution_count": 162,
   "metadata": {},
   "outputs": [
    {
     "data": {
      "text/html": [
       "<div>\n",
       "<style scoped>\n",
       "    .dataframe tbody tr th:only-of-type {\n",
       "        vertical-align: middle;\n",
       "    }\n",
       "\n",
       "    .dataframe tbody tr th {\n",
       "        vertical-align: top;\n",
       "    }\n",
       "\n",
       "    .dataframe thead th {\n",
       "        text-align: right;\n",
       "    }\n",
       "</style>\n",
       "<table border=\"1\" class=\"dataframe\">\n",
       "  <thead>\n",
       "    <tr style=\"text-align: right;\">\n",
       "      <th></th>\n",
       "      <th>Wages CPI_LG</th>\n",
       "      <th>Capacity Utilization_LG</th>\n",
       "      <th>GDP_LG</th>\n",
       "      <th>M2 Velocity_LG</th>\n",
       "      <th>Initial Jobless Claims_LG</th>\n",
       "      <th>Unemployment Rate_LG</th>\n",
       "    </tr>\n",
       "  </thead>\n",
       "  <tbody>\n",
       "    <tr>\n",
       "      <th>count</th>\n",
       "      <td>2.180000e+02</td>\n",
       "      <td>2.180000e+02</td>\n",
       "      <td>2.180000e+02</td>\n",
       "      <td>2.180000e+02</td>\n",
       "      <td>2.180000e+02</td>\n",
       "      <td>2.180000e+02</td>\n",
       "    </tr>\n",
       "    <tr>\n",
       "      <th>mean</th>\n",
       "      <td>-2.340126e-16</td>\n",
       "      <td>-1.527830e-17</td>\n",
       "      <td>-2.663517e-16</td>\n",
       "      <td>7.766468e-18</td>\n",
       "      <td>2.419064e-17</td>\n",
       "      <td>2.495455e-17</td>\n",
       "    </tr>\n",
       "    <tr>\n",
       "      <th>std</th>\n",
       "      <td>1.002301e+00</td>\n",
       "      <td>1.002301e+00</td>\n",
       "      <td>1.002301e+00</td>\n",
       "      <td>1.002301e+00</td>\n",
       "      <td>1.002301e+00</td>\n",
       "      <td>1.002301e+00</td>\n",
       "    </tr>\n",
       "    <tr>\n",
       "      <th>min</th>\n",
       "      <td>-4.203779e+00</td>\n",
       "      <td>-4.520455e+00</td>\n",
       "      <td>-3.102066e+00</td>\n",
       "      <td>-3.155028e+00</td>\n",
       "      <td>-1.037009e+01</td>\n",
       "      <td>-9.181910e+00</td>\n",
       "    </tr>\n",
       "    <tr>\n",
       "      <th>25%</th>\n",
       "      <td>-3.922100e-01</td>\n",
       "      <td>-3.616021e-01</td>\n",
       "      <td>-5.612664e-01</td>\n",
       "      <td>-4.877854e-01</td>\n",
       "      <td>-5.411911e-02</td>\n",
       "      <td>-2.153957e-01</td>\n",
       "    </tr>\n",
       "    <tr>\n",
       "      <th>50%</th>\n",
       "      <td>2.665979e-02</td>\n",
       "      <td>6.764572e-02</td>\n",
       "      <td>-5.308771e-02</td>\n",
       "      <td>-1.275063e-01</td>\n",
       "      <td>5.152233e-02</td>\n",
       "      <td>-5.318401e-02</td>\n",
       "    </tr>\n",
       "    <tr>\n",
       "      <th>75%</th>\n",
       "      <td>3.947888e-01</td>\n",
       "      <td>4.176488e-01</td>\n",
       "      <td>5.796108e-01</td>\n",
       "      <td>5.338289e-01</td>\n",
       "      <td>1.047383e-01</td>\n",
       "      <td>1.530685e-01</td>\n",
       "    </tr>\n",
       "    <tr>\n",
       "      <th>max</th>\n",
       "      <td>4.675375e+00</td>\n",
       "      <td>6.673082e+00</td>\n",
       "      <td>3.243365e+00</td>\n",
       "      <td>2.464245e+00</td>\n",
       "      <td>7.995727e+00</td>\n",
       "      <td>7.548036e+00</td>\n",
       "    </tr>\n",
       "  </tbody>\n",
       "</table>\n",
       "</div>"
      ],
      "text/plain": [
       "       Wages CPI_LG  Capacity Utilization_LG        GDP_LG  M2 Velocity_LG  \\\n",
       "count  2.180000e+02             2.180000e+02  2.180000e+02    2.180000e+02   \n",
       "mean  -2.340126e-16            -1.527830e-17 -2.663517e-16    7.766468e-18   \n",
       "std    1.002301e+00             1.002301e+00  1.002301e+00    1.002301e+00   \n",
       "min   -4.203779e+00            -4.520455e+00 -3.102066e+00   -3.155028e+00   \n",
       "25%   -3.922100e-01            -3.616021e-01 -5.612664e-01   -4.877854e-01   \n",
       "50%    2.665979e-02             6.764572e-02 -5.308771e-02   -1.275063e-01   \n",
       "75%    3.947888e-01             4.176488e-01  5.796108e-01    5.338289e-01   \n",
       "max    4.675375e+00             6.673082e+00  3.243365e+00    2.464245e+00   \n",
       "\n",
       "       Initial Jobless Claims_LG  Unemployment Rate_LG  \n",
       "count               2.180000e+02          2.180000e+02  \n",
       "mean                2.419064e-17          2.495455e-17  \n",
       "std                 1.002301e+00          1.002301e+00  \n",
       "min                -1.037009e+01         -9.181910e+00  \n",
       "25%                -5.411911e-02         -2.153957e-01  \n",
       "50%                 5.152233e-02         -5.318401e-02  \n",
       "75%                 1.047383e-01          1.530685e-01  \n",
       "max                 7.995727e+00          7.548036e+00  "
      ]
     },
     "execution_count": 162,
     "metadata": {},
     "output_type": "execute_result"
    }
   ],
   "source": [
    "X_tr_LG_y_uns.describe()"
   ]
  },
  {
   "cell_type": "markdown",
   "metadata": {},
   "source": [
    "All have a **Standard Deviation** `std` of 1 so we will continue to the next."
   ]
  },
  {
   "cell_type": "markdown",
   "metadata": {},
   "source": [
    "`X_te_LG_y_uns` will not be fitted."
   ]
  },
  {
   "cell_type": "code",
   "execution_count": 163,
   "metadata": {},
   "outputs": [],
   "source": [
    "X_te_LG_y_uns[['Wages CPI_LG', 'WTI_LG', 'Copper_LG', 'Soybeans_LG', 'Natural Gas_LG', 'Heating Oil_LG',\n",
    "       'Corn_LG', 'Wheat_LG', 'Cattle_LG', 'Lean Hogs_LG', 'Sugar_LG', 'Lumber_LG',\n",
    "       'Capacity Utilization_LG', 'GDP_LG', 'M2 Velocity_LG', 'PMI_LG', 'USD Index_LG',\n",
    "       'Initial Jobless Claims_LG', 'Unemployment Rate_LG']] = LG_scaler.transform(X_te_LG_y_uns[['Wages CPI', 'WTI', 'Copper', 'Soybeans', 'Natural Gas', 'Heating Oil',\n",
    "       'Corn', 'Wheat', 'Cattle', 'Lean Hogs', 'Sugar', 'Lumber',\n",
    "       'Capacity Utilization', 'GDP', 'M2 Velocity', 'PMI', 'USD Index',\n",
    "       'Initial Jobless Claims', 'Unemployment Rate']])"
   ]
  },
  {
   "cell_type": "code",
   "execution_count": 164,
   "metadata": {},
   "outputs": [
    {
     "data": {
      "text/plain": [
       "Index(['Wages CPI', 'WTI', 'Copper', 'Soybeans', 'Natural Gas', 'Heating Oil',\n",
       "       'Corn', 'Wheat', 'Cattle', 'Lean Hogs', 'Sugar', 'Lumber',\n",
       "       'Capacity Utilization', 'GDP', 'M2 Velocity', 'PMI', 'USD Index',\n",
       "       'Initial Jobless Claims', 'Unemployment Rate', 'Wages CPI_LG', 'WTI_LG',\n",
       "       'Copper_LG', 'Soybeans_LG', 'Natural Gas_LG', 'Heating Oil_LG',\n",
       "       'Corn_LG', 'Wheat_LG', 'Cattle_LG', 'Lean Hogs_LG', 'Sugar_LG',\n",
       "       'Lumber_LG', 'Capacity Utilization_LG', 'GDP_LG', 'M2 Velocity_LG',\n",
       "       'PMI_LG', 'USD Index_LG', 'Initial Jobless Claims_LG',\n",
       "       'Unemployment Rate_LG'],\n",
       "      dtype='object')"
      ]
     },
     "execution_count": 164,
     "metadata": {},
     "output_type": "execute_result"
    }
   ],
   "source": [
    "X_te_LG_y_uns.columns"
   ]
  },
  {
   "cell_type": "code",
   "execution_count": 165,
   "metadata": {},
   "outputs": [],
   "source": [
    "X_te_LG_y_uns.drop(columns=prev_cols, inplace=True)"
   ]
  },
  {
   "cell_type": "code",
   "execution_count": 166,
   "metadata": {},
   "outputs": [],
   "source": [
    "X_te_LG_y_uns.drop(columns=non_LG, inplace=True)"
   ]
  },
  {
   "cell_type": "code",
   "execution_count": 167,
   "metadata": {
    "scrolled": true
   },
   "outputs": [
    {
     "data": {
      "text/html": [
       "<div>\n",
       "<style scoped>\n",
       "    .dataframe tbody tr th:only-of-type {\n",
       "        vertical-align: middle;\n",
       "    }\n",
       "\n",
       "    .dataframe tbody tr th {\n",
       "        vertical-align: top;\n",
       "    }\n",
       "\n",
       "    .dataframe thead th {\n",
       "        text-align: right;\n",
       "    }\n",
       "</style>\n",
       "<table border=\"1\" class=\"dataframe\">\n",
       "  <thead>\n",
       "    <tr style=\"text-align: right;\">\n",
       "      <th></th>\n",
       "      <th>Wages CPI_LG</th>\n",
       "      <th>Capacity Utilization_LG</th>\n",
       "      <th>GDP_LG</th>\n",
       "      <th>M2 Velocity_LG</th>\n",
       "      <th>Initial Jobless Claims_LG</th>\n",
       "      <th>Unemployment Rate_LG</th>\n",
       "    </tr>\n",
       "  </thead>\n",
       "  <tbody>\n",
       "    <tr>\n",
       "      <th>count</th>\n",
       "      <td>94.000000</td>\n",
       "      <td>94.000000</td>\n",
       "      <td>94.000000</td>\n",
       "      <td>94.000000</td>\n",
       "      <td>94.000000</td>\n",
       "      <td>94.000000</td>\n",
       "    </tr>\n",
       "    <tr>\n",
       "      <th>mean</th>\n",
       "      <td>-0.047693</td>\n",
       "      <td>0.176193</td>\n",
       "      <td>5.586587</td>\n",
       "      <td>0.120131</td>\n",
       "      <td>-0.909727</td>\n",
       "      <td>-0.150826</td>\n",
       "    </tr>\n",
       "    <tr>\n",
       "      <th>std</th>\n",
       "      <td>0.936789</td>\n",
       "      <td>1.686065</td>\n",
       "      <td>31.889558</td>\n",
       "      <td>1.803137</td>\n",
       "      <td>5.822624</td>\n",
       "      <td>1.526160</td>\n",
       "    </tr>\n",
       "    <tr>\n",
       "      <th>min</th>\n",
       "      <td>-3.920954</td>\n",
       "      <td>-4.434456</td>\n",
       "      <td>-3.102066</td>\n",
       "      <td>-3.155028</td>\n",
       "      <td>-45.855891</td>\n",
       "      <td>-10.531449</td>\n",
       "    </tr>\n",
       "    <tr>\n",
       "      <th>25%</th>\n",
       "      <td>-0.512638</td>\n",
       "      <td>-0.297658</td>\n",
       "      <td>-0.696151</td>\n",
       "      <td>-0.730212</td>\n",
       "      <td>-0.059427</td>\n",
       "      <td>-0.270843</td>\n",
       "    </tr>\n",
       "    <tr>\n",
       "      <th>50%</th>\n",
       "      <td>0.089276</td>\n",
       "      <td>0.092531</td>\n",
       "      <td>-0.168892</td>\n",
       "      <td>-0.219277</td>\n",
       "      <td>0.026916</td>\n",
       "      <td>-0.106555</td>\n",
       "    </tr>\n",
       "    <tr>\n",
       "      <th>75%</th>\n",
       "      <td>0.424234</td>\n",
       "      <td>0.399815</td>\n",
       "      <td>0.294391</td>\n",
       "      <td>0.604431</td>\n",
       "      <td>0.098485</td>\n",
       "      <td>0.102587</td>\n",
       "    </tr>\n",
       "    <tr>\n",
       "      <th>max</th>\n",
       "      <td>2.326684</td>\n",
       "      <td>12.738059</td>\n",
       "      <td>180.209518</td>\n",
       "      <td>8.746628</td>\n",
       "      <td>10.843220</td>\n",
       "      <td>6.385635</td>\n",
       "    </tr>\n",
       "  </tbody>\n",
       "</table>\n",
       "</div>"
      ],
      "text/plain": [
       "       Wages CPI_LG  Capacity Utilization_LG      GDP_LG  M2 Velocity_LG  \\\n",
       "count     94.000000                94.000000   94.000000       94.000000   \n",
       "mean      -0.047693                 0.176193    5.586587        0.120131   \n",
       "std        0.936789                 1.686065   31.889558        1.803137   \n",
       "min       -3.920954                -4.434456   -3.102066       -3.155028   \n",
       "25%       -0.512638                -0.297658   -0.696151       -0.730212   \n",
       "50%        0.089276                 0.092531   -0.168892       -0.219277   \n",
       "75%        0.424234                 0.399815    0.294391        0.604431   \n",
       "max        2.326684                12.738059  180.209518        8.746628   \n",
       "\n",
       "       Initial Jobless Claims_LG  Unemployment Rate_LG  \n",
       "count                  94.000000             94.000000  \n",
       "mean                   -0.909727             -0.150826  \n",
       "std                     5.822624              1.526160  \n",
       "min                   -45.855891            -10.531449  \n",
       "25%                    -0.059427             -0.270843  \n",
       "50%                     0.026916             -0.106555  \n",
       "75%                     0.098485              0.102587  \n",
       "max                    10.843220              6.385635  "
      ]
     },
     "execution_count": 167,
     "metadata": {},
     "output_type": "execute_result"
    }
   ],
   "source": [
    "X_te_LG_y_uns.describe()"
   ]
  },
  {
   "cell_type": "markdown",
   "metadata": {},
   "source": [
    "Looks good."
   ]
  },
  {
   "cell_type": "markdown",
   "metadata": {},
   "source": [
    "# 3.4.8.2 SS to unscaled y"
   ]
  },
  {
   "cell_type": "code",
   "execution_count": 168,
   "metadata": {},
   "outputs": [],
   "source": [
    "SS_scaler = StandardScaler()"
   ]
  },
  {
   "cell_type": "markdown",
   "metadata": {},
   "source": [
    "First `X_tr_SS_y_uns`"
   ]
  },
  {
   "cell_type": "code",
   "execution_count": 169,
   "metadata": {},
   "outputs": [
    {
     "data": {
      "text/plain": [
       "StandardScaler()"
      ]
     },
     "execution_count": 169,
     "metadata": {},
     "output_type": "execute_result"
    }
   ],
   "source": [
    "SS_scaler.fit(X_tr_SS_y_uns[['Wages CPI', 'WTI', 'Copper', 'Soybeans', 'Natural Gas', 'Heating Oil',\n",
    "       'Corn', 'Wheat', 'Cattle', 'Lean Hogs', 'Sugar', 'Lumber',\n",
    "       'Capacity Utilization', 'GDP', 'M2 Velocity', 'PMI', 'USD Index',\n",
    "       'Initial Jobless Claims', 'Unemployment Rate']])"
   ]
  },
  {
   "cell_type": "code",
   "execution_count": 170,
   "metadata": {},
   "outputs": [],
   "source": [
    "X_tr_SS_y_uns[['Wages CPI_SS_yun', 'WTI_SS_yun', 'Copper_SS_yun', 'Soybeans_SS_yun', 'Natural Gas_SS_yun', 'Heating Oil_SS_yun',\n",
    "       'Corn_SS_yun', 'Wheat_SS_yun', 'Cattle_SS_yun', 'Lean Hogs_SS_yun', 'Sugar_SS_yun', 'Lumber_SS_yun',\n",
    "       'Capacity Utilization_SS_yun', 'GDP_SS_yun', 'M2 Velocity_SS_yun', 'PMI_SS_yun', 'USD Index_SS_yun',\n",
    "       'Initial Jobless Claims_SS_yun', 'Unemployment Rate_SS_yun']] = SS_scaler.transform(X_tr_SS_y_uns[['Wages CPI', 'WTI', 'Copper', 'Soybeans', 'Natural Gas', 'Heating Oil',\n",
    "       'Corn', 'Wheat', 'Cattle', 'Lean Hogs', 'Sugar', 'Lumber',\n",
    "       'Capacity Utilization', 'GDP', 'M2 Velocity', 'PMI', 'USD Index',\n",
    "       'Initial Jobless Claims', 'Unemployment Rate']])"
   ]
  },
  {
   "cell_type": "code",
   "execution_count": 171,
   "metadata": {},
   "outputs": [
    {
     "data": {
      "text/plain": [
       "Index(['Wages CPI', 'WTI', 'Copper', 'Soybeans', 'Natural Gas', 'Heating Oil',\n",
       "       'Corn', 'Wheat', 'Cattle', 'Lean Hogs', 'Sugar', 'Lumber',\n",
       "       'Capacity Utilization', 'GDP', 'M2 Velocity', 'PMI', 'USD Index',\n",
       "       'Initial Jobless Claims', 'Unemployment Rate', 'Wages CPI_SS_yun',\n",
       "       'WTI_SS_yun', 'Copper_SS_yun', 'Soybeans_SS_yun', 'Natural Gas_SS_yun',\n",
       "       'Heating Oil_SS_yun', 'Corn_SS_yun', 'Wheat_SS_yun', 'Cattle_SS_yun',\n",
       "       'Lean Hogs_SS_yun', 'Sugar_SS_yun', 'Lumber_SS_yun',\n",
       "       'Capacity Utilization_SS_yun', 'GDP_SS_yun', 'M2 Velocity_SS_yun',\n",
       "       'PMI_SS_yun', 'USD Index_SS_yun', 'Initial Jobless Claims_SS_yun',\n",
       "       'Unemployment Rate_SS_yun'],\n",
       "      dtype='object')"
      ]
     },
     "execution_count": 171,
     "metadata": {},
     "output_type": "execute_result"
    }
   ],
   "source": [
    "X_tr_SS_y_uns.columns"
   ]
  },
  {
   "cell_type": "code",
   "execution_count": 172,
   "metadata": {},
   "outputs": [],
   "source": [
    "LG_cols = ['Wages CPI_SS_yun','Capacity Utilization_SS_yun', 'GDP_SS_yun', 'M2 Velocity_SS_yun',\n",
    "       'Initial Jobless Claims_SS_yun','Unemployment Rate_SS_yun']"
   ]
  },
  {
   "cell_type": "code",
   "execution_count": 173,
   "metadata": {},
   "outputs": [],
   "source": [
    "X_tr_SS_y_uns.drop(columns=prev_cols, inplace=True)"
   ]
  },
  {
   "cell_type": "code",
   "execution_count": 174,
   "metadata": {},
   "outputs": [],
   "source": [
    "X_tr_SS_y_uns.drop(columns=LG_cols, inplace=True)"
   ]
  },
  {
   "cell_type": "code",
   "execution_count": 175,
   "metadata": {},
   "outputs": [
    {
     "data": {
      "text/html": [
       "<div>\n",
       "<style scoped>\n",
       "    .dataframe tbody tr th:only-of-type {\n",
       "        vertical-align: middle;\n",
       "    }\n",
       "\n",
       "    .dataframe tbody tr th {\n",
       "        vertical-align: top;\n",
       "    }\n",
       "\n",
       "    .dataframe thead th {\n",
       "        text-align: right;\n",
       "    }\n",
       "</style>\n",
       "<table border=\"1\" class=\"dataframe\">\n",
       "  <thead>\n",
       "    <tr style=\"text-align: right;\">\n",
       "      <th></th>\n",
       "      <th>WTI_SS_yun</th>\n",
       "      <th>Copper_SS_yun</th>\n",
       "      <th>Soybeans_SS_yun</th>\n",
       "      <th>Natural Gas_SS_yun</th>\n",
       "      <th>Heating Oil_SS_yun</th>\n",
       "      <th>Corn_SS_yun</th>\n",
       "      <th>Wheat_SS_yun</th>\n",
       "      <th>Cattle_SS_yun</th>\n",
       "      <th>Lean Hogs_SS_yun</th>\n",
       "      <th>Sugar_SS_yun</th>\n",
       "      <th>Lumber_SS_yun</th>\n",
       "      <th>PMI_SS_yun</th>\n",
       "      <th>USD Index_SS_yun</th>\n",
       "    </tr>\n",
       "  </thead>\n",
       "  <tbody>\n",
       "    <tr>\n",
       "      <th>count</th>\n",
       "      <td>2.180000e+02</td>\n",
       "      <td>2.180000e+02</td>\n",
       "      <td>2.180000e+02</td>\n",
       "      <td>2.180000e+02</td>\n",
       "      <td>2.180000e+02</td>\n",
       "      <td>2.180000e+02</td>\n",
       "      <td>2.180000e+02</td>\n",
       "      <td>2.180000e+02</td>\n",
       "      <td>2.180000e+02</td>\n",
       "      <td>2.180000e+02</td>\n",
       "      <td>2.180000e+02</td>\n",
       "      <td>2.180000e+02</td>\n",
       "      <td>218.000000</td>\n",
       "    </tr>\n",
       "    <tr>\n",
       "      <th>mean</th>\n",
       "      <td>2.750094e-17</td>\n",
       "      <td>1.680613e-17</td>\n",
       "      <td>-2.750094e-17</td>\n",
       "      <td>1.018553e-18</td>\n",
       "      <td>2.113498e-17</td>\n",
       "      <td>5.754826e-17</td>\n",
       "      <td>-3.004732e-17</td>\n",
       "      <td>-2.801021e-18</td>\n",
       "      <td>-7.639149e-18</td>\n",
       "      <td>-4.838128e-17</td>\n",
       "      <td>-2.049838e-17</td>\n",
       "      <td>4.869958e-18</td>\n",
       "      <td>0.000000</td>\n",
       "    </tr>\n",
       "    <tr>\n",
       "      <th>std</th>\n",
       "      <td>1.002301e+00</td>\n",
       "      <td>1.002301e+00</td>\n",
       "      <td>1.002301e+00</td>\n",
       "      <td>1.002301e+00</td>\n",
       "      <td>1.002301e+00</td>\n",
       "      <td>1.002301e+00</td>\n",
       "      <td>1.002301e+00</td>\n",
       "      <td>1.002301e+00</td>\n",
       "      <td>1.002301e+00</td>\n",
       "      <td>1.002301e+00</td>\n",
       "      <td>1.002301e+00</td>\n",
       "      <td>1.002301e+00</td>\n",
       "      <td>1.002301</td>\n",
       "    </tr>\n",
       "    <tr>\n",
       "      <th>min</th>\n",
       "      <td>-3.783391e+00</td>\n",
       "      <td>-4.194080e+00</td>\n",
       "      <td>-3.280162e+00</td>\n",
       "      <td>-1.969069e+00</td>\n",
       "      <td>-3.380414e+00</td>\n",
       "      <td>-2.641519e+00</td>\n",
       "      <td>-2.034743e+00</td>\n",
       "      <td>-2.966145e+00</td>\n",
       "      <td>-2.453932e+00</td>\n",
       "      <td>-2.521716e+00</td>\n",
       "      <td>-2.522608e+00</td>\n",
       "      <td>-3.333833e+00</td>\n",
       "      <td>-2.094012</td>\n",
       "    </tr>\n",
       "    <tr>\n",
       "      <th>25%</th>\n",
       "      <td>-5.665365e-01</td>\n",
       "      <td>-5.924217e-01</td>\n",
       "      <td>-5.064631e-01</td>\n",
       "      <td>-6.724566e-01</td>\n",
       "      <td>-5.422759e-01</td>\n",
       "      <td>-6.269477e-01</td>\n",
       "      <td>-6.723267e-01</td>\n",
       "      <td>-6.458132e-01</td>\n",
       "      <td>-6.201385e-01</td>\n",
       "      <td>-6.977306e-01</td>\n",
       "      <td>-6.930695e-01</td>\n",
       "      <td>-5.828489e-01</td>\n",
       "      <td>-0.794405</td>\n",
       "    </tr>\n",
       "    <tr>\n",
       "      <th>50%</th>\n",
       "      <td>-3.959852e-02</td>\n",
       "      <td>-9.739427e-02</td>\n",
       "      <td>-5.652283e-02</td>\n",
       "      <td>-1.579051e-01</td>\n",
       "      <td>-4.040096e-02</td>\n",
       "      <td>-5.827166e-02</td>\n",
       "      <td>-4.863862e-02</td>\n",
       "      <td>7.426409e-02</td>\n",
       "      <td>-4.506087e-02</td>\n",
       "      <td>-2.081390e-01</td>\n",
       "      <td>-3.689083e-02</td>\n",
       "      <td>-1.545851e-02</td>\n",
       "      <td>0.035274</td>\n",
       "    </tr>\n",
       "    <tr>\n",
       "      <th>75%</th>\n",
       "      <td>6.677299e-01</td>\n",
       "      <td>5.366898e-01</td>\n",
       "      <td>5.316750e-01</td>\n",
       "      <td>5.625160e-01</td>\n",
       "      <td>6.352366e-01</td>\n",
       "      <td>5.203411e-01</td>\n",
       "      <td>5.954279e-01</td>\n",
       "      <td>7.339765e-01</td>\n",
       "      <td>7.269682e-01</td>\n",
       "      <td>5.484182e-01</td>\n",
       "      <td>6.135977e-01</td>\n",
       "      <td>5.576631e-01</td>\n",
       "      <td>0.628237</td>\n",
       "    </tr>\n",
       "    <tr>\n",
       "      <th>max</th>\n",
       "      <td>2.742497e+00</td>\n",
       "      <td>3.913407e+00</td>\n",
       "      <td>2.811401e+00</td>\n",
       "      <td>2.994870e+00</td>\n",
       "      <td>2.428936e+00</td>\n",
       "      <td>3.277006e+00</td>\n",
       "      <td>4.032564e+00</td>\n",
       "      <td>2.428476e+00</td>\n",
       "      <td>2.661448e+00</td>\n",
       "      <td>3.888003e+00</td>\n",
       "      <td>5.231216e+00</td>\n",
       "      <td>3.589476e+00</td>\n",
       "      <td>2.666820</td>\n",
       "    </tr>\n",
       "  </tbody>\n",
       "</table>\n",
       "</div>"
      ],
      "text/plain": [
       "         WTI_SS_yun  Copper_SS_yun  Soybeans_SS_yun  Natural Gas_SS_yun  \\\n",
       "count  2.180000e+02   2.180000e+02     2.180000e+02        2.180000e+02   \n",
       "mean   2.750094e-17   1.680613e-17    -2.750094e-17        1.018553e-18   \n",
       "std    1.002301e+00   1.002301e+00     1.002301e+00        1.002301e+00   \n",
       "min   -3.783391e+00  -4.194080e+00    -3.280162e+00       -1.969069e+00   \n",
       "25%   -5.665365e-01  -5.924217e-01    -5.064631e-01       -6.724566e-01   \n",
       "50%   -3.959852e-02  -9.739427e-02    -5.652283e-02       -1.579051e-01   \n",
       "75%    6.677299e-01   5.366898e-01     5.316750e-01        5.625160e-01   \n",
       "max    2.742497e+00   3.913407e+00     2.811401e+00        2.994870e+00   \n",
       "\n",
       "       Heating Oil_SS_yun   Corn_SS_yun  Wheat_SS_yun  Cattle_SS_yun  \\\n",
       "count        2.180000e+02  2.180000e+02  2.180000e+02   2.180000e+02   \n",
       "mean         2.113498e-17  5.754826e-17 -3.004732e-17  -2.801021e-18   \n",
       "std          1.002301e+00  1.002301e+00  1.002301e+00   1.002301e+00   \n",
       "min         -3.380414e+00 -2.641519e+00 -2.034743e+00  -2.966145e+00   \n",
       "25%         -5.422759e-01 -6.269477e-01 -6.723267e-01  -6.458132e-01   \n",
       "50%         -4.040096e-02 -5.827166e-02 -4.863862e-02   7.426409e-02   \n",
       "75%          6.352366e-01  5.203411e-01  5.954279e-01   7.339765e-01   \n",
       "max          2.428936e+00  3.277006e+00  4.032564e+00   2.428476e+00   \n",
       "\n",
       "       Lean Hogs_SS_yun  Sugar_SS_yun  Lumber_SS_yun    PMI_SS_yun  \\\n",
       "count      2.180000e+02  2.180000e+02   2.180000e+02  2.180000e+02   \n",
       "mean      -7.639149e-18 -4.838128e-17  -2.049838e-17  4.869958e-18   \n",
       "std        1.002301e+00  1.002301e+00   1.002301e+00  1.002301e+00   \n",
       "min       -2.453932e+00 -2.521716e+00  -2.522608e+00 -3.333833e+00   \n",
       "25%       -6.201385e-01 -6.977306e-01  -6.930695e-01 -5.828489e-01   \n",
       "50%       -4.506087e-02 -2.081390e-01  -3.689083e-02 -1.545851e-02   \n",
       "75%        7.269682e-01  5.484182e-01   6.135977e-01  5.576631e-01   \n",
       "max        2.661448e+00  3.888003e+00   5.231216e+00  3.589476e+00   \n",
       "\n",
       "       USD Index_SS_yun  \n",
       "count        218.000000  \n",
       "mean           0.000000  \n",
       "std            1.002301  \n",
       "min           -2.094012  \n",
       "25%           -0.794405  \n",
       "50%            0.035274  \n",
       "75%            0.628237  \n",
       "max            2.666820  "
      ]
     },
     "execution_count": 175,
     "metadata": {},
     "output_type": "execute_result"
    }
   ],
   "source": [
    "X_tr_SS_y_uns.describe()"
   ]
  },
  {
   "cell_type": "markdown",
   "metadata": {},
   "source": [
    "The **Mean** & **Standard Deviation** look close enough to 0 & 1 respectively; thus, it was scaled correctly. We will now scale the others."
   ]
  },
  {
   "cell_type": "markdown",
   "metadata": {},
   "source": [
    "`X_te_SS_y_uns` will not be 'fitted'."
   ]
  },
  {
   "cell_type": "code",
   "execution_count": 176,
   "metadata": {},
   "outputs": [],
   "source": [
    "X_te_SS_y_uns[['Wages CPI_SS_yun', 'WTI_SS_yun', 'Copper_SS_yun', 'Soybeans_SS_yun', 'Natural Gas_SS_yun', 'Heating Oil_SS_yun',\n",
    "       'Corn_SS_yun', 'Wheat_SS_yun', 'Cattle_SS_yun', 'Lean Hogs_SS_yun', 'Sugar_SS_yun', 'Lumber_SS_yun',\n",
    "       'Capacity Utilization_SS_yun', 'GDP_SS_yun', 'M2 Velocity_SS_yun', 'PMI_SS_yun', 'USD Index_SS_yun',\n",
    "       'Initial Jobless Claims_SS_yun', 'Unemployment Rate_SS_yun']] = SS_scaler.transform(X_te_SS_y_uns[['Wages CPI', 'WTI', 'Copper', 'Soybeans', 'Natural Gas', 'Heating Oil',\n",
    "       'Corn', 'Wheat', 'Cattle', 'Lean Hogs', 'Sugar', 'Lumber',\n",
    "       'Capacity Utilization', 'GDP', 'M2 Velocity', 'PMI', 'USD Index',\n",
    "       'Initial Jobless Claims', 'Unemployment Rate']])"
   ]
  },
  {
   "cell_type": "code",
   "execution_count": 177,
   "metadata": {},
   "outputs": [
    {
     "data": {
      "text/plain": [
       "Index(['Wages CPI', 'WTI', 'Copper', 'Soybeans', 'Natural Gas', 'Heating Oil',\n",
       "       'Corn', 'Wheat', 'Cattle', 'Lean Hogs', 'Sugar', 'Lumber',\n",
       "       'Capacity Utilization', 'GDP', 'M2 Velocity', 'PMI', 'USD Index',\n",
       "       'Initial Jobless Claims', 'Unemployment Rate', 'Wages CPI_SS_yun',\n",
       "       'WTI_SS_yun', 'Copper_SS_yun', 'Soybeans_SS_yun', 'Natural Gas_SS_yun',\n",
       "       'Heating Oil_SS_yun', 'Corn_SS_yun', 'Wheat_SS_yun', 'Cattle_SS_yun',\n",
       "       'Lean Hogs_SS_yun', 'Sugar_SS_yun', 'Lumber_SS_yun',\n",
       "       'Capacity Utilization_SS_yun', 'GDP_SS_yun', 'M2 Velocity_SS_yun',\n",
       "       'PMI_SS_yun', 'USD Index_SS_yun', 'Initial Jobless Claims_SS_yun',\n",
       "       'Unemployment Rate_SS_yun'],\n",
       "      dtype='object')"
      ]
     },
     "execution_count": 177,
     "metadata": {},
     "output_type": "execute_result"
    }
   ],
   "source": [
    "X_te_SS_y_uns.columns"
   ]
  },
  {
   "cell_type": "code",
   "execution_count": 178,
   "metadata": {},
   "outputs": [],
   "source": [
    "X_te_SS_y_uns.drop(columns=prev_cols, inplace=True)"
   ]
  },
  {
   "cell_type": "code",
   "execution_count": 179,
   "metadata": {},
   "outputs": [],
   "source": [
    "X_te_SS_y_uns.drop(columns=LG_cols, inplace=True)"
   ]
  },
  {
   "cell_type": "code",
   "execution_count": 180,
   "metadata": {},
   "outputs": [
    {
     "data": {
      "text/html": [
       "<div>\n",
       "<style scoped>\n",
       "    .dataframe tbody tr th:only-of-type {\n",
       "        vertical-align: middle;\n",
       "    }\n",
       "\n",
       "    .dataframe tbody tr th {\n",
       "        vertical-align: top;\n",
       "    }\n",
       "\n",
       "    .dataframe thead th {\n",
       "        text-align: right;\n",
       "    }\n",
       "</style>\n",
       "<table border=\"1\" class=\"dataframe\">\n",
       "  <thead>\n",
       "    <tr style=\"text-align: right;\">\n",
       "      <th></th>\n",
       "      <th>WTI_SS_yun</th>\n",
       "      <th>Copper_SS_yun</th>\n",
       "      <th>Soybeans_SS_yun</th>\n",
       "      <th>Natural Gas_SS_yun</th>\n",
       "      <th>Heating Oil_SS_yun</th>\n",
       "      <th>Corn_SS_yun</th>\n",
       "      <th>Wheat_SS_yun</th>\n",
       "      <th>Cattle_SS_yun</th>\n",
       "      <th>Lean Hogs_SS_yun</th>\n",
       "      <th>Sugar_SS_yun</th>\n",
       "      <th>Lumber_SS_yun</th>\n",
       "      <th>PMI_SS_yun</th>\n",
       "      <th>USD Index_SS_yun</th>\n",
       "    </tr>\n",
       "  </thead>\n",
       "  <tbody>\n",
       "    <tr>\n",
       "      <th>count</th>\n",
       "      <td>94.000000</td>\n",
       "      <td>94.000000</td>\n",
       "      <td>94.000000</td>\n",
       "      <td>94.000000</td>\n",
       "      <td>94.000000</td>\n",
       "      <td>94.000000</td>\n",
       "      <td>94.000000</td>\n",
       "      <td>94.000000</td>\n",
       "      <td>94.000000</td>\n",
       "      <td>94.000000</td>\n",
       "      <td>94.000000</td>\n",
       "      <td>94.000000</td>\n",
       "      <td>94.000000</td>\n",
       "    </tr>\n",
       "    <tr>\n",
       "      <th>mean</th>\n",
       "      <td>-0.046560</td>\n",
       "      <td>-0.151935</td>\n",
       "      <td>0.158702</td>\n",
       "      <td>-0.001416</td>\n",
       "      <td>-0.153214</td>\n",
       "      <td>0.271715</td>\n",
       "      <td>0.147639</td>\n",
       "      <td>-0.020189</td>\n",
       "      <td>0.150634</td>\n",
       "      <td>0.042247</td>\n",
       "      <td>0.105954</td>\n",
       "      <td>-0.177030</td>\n",
       "      <td>0.007469</td>\n",
       "    </tr>\n",
       "    <tr>\n",
       "      <th>std</th>\n",
       "      <td>1.116542</td>\n",
       "      <td>0.986746</td>\n",
       "      <td>1.140603</td>\n",
       "      <td>0.975567</td>\n",
       "      <td>0.963172</td>\n",
       "      <td>1.089934</td>\n",
       "      <td>1.083590</td>\n",
       "      <td>1.040120</td>\n",
       "      <td>1.097781</td>\n",
       "      <td>0.918600</td>\n",
       "      <td>1.470259</td>\n",
       "      <td>1.048915</td>\n",
       "      <td>1.020621</td>\n",
       "    </tr>\n",
       "    <tr>\n",
       "      <th>min</th>\n",
       "      <td>-3.755452</td>\n",
       "      <td>-4.281991</td>\n",
       "      <td>-3.578469</td>\n",
       "      <td>-2.087724</td>\n",
       "      <td>-3.479765</td>\n",
       "      <td>-2.917356</td>\n",
       "      <td>-2.913521</td>\n",
       "      <td>-3.321206</td>\n",
       "      <td>-2.026099</td>\n",
       "      <td>-1.857711</td>\n",
       "      <td>-2.360196</td>\n",
       "      <td>-4.147665</td>\n",
       "      <td>-2.129319</td>\n",
       "    </tr>\n",
       "    <tr>\n",
       "      <th>25%</th>\n",
       "      <td>-0.529745</td>\n",
       "      <td>-0.692793</td>\n",
       "      <td>-0.534923</td>\n",
       "      <td>-0.585450</td>\n",
       "      <td>-0.578672</td>\n",
       "      <td>-0.322636</td>\n",
       "      <td>-0.559743</td>\n",
       "      <td>-0.760703</td>\n",
       "      <td>-0.704479</td>\n",
       "      <td>-0.517446</td>\n",
       "      <td>-0.778532</td>\n",
       "      <td>-0.866544</td>\n",
       "      <td>-0.610996</td>\n",
       "    </tr>\n",
       "    <tr>\n",
       "      <th>50%</th>\n",
       "      <td>0.082344</td>\n",
       "      <td>-0.298726</td>\n",
       "      <td>0.027747</td>\n",
       "      <td>-0.078682</td>\n",
       "      <td>-0.033070</td>\n",
       "      <td>0.158283</td>\n",
       "      <td>-0.041941</td>\n",
       "      <td>0.073698</td>\n",
       "      <td>0.035594</td>\n",
       "      <td>-0.128461</td>\n",
       "      <td>-0.174865</td>\n",
       "      <td>-0.319213</td>\n",
       "      <td>-0.060458</td>\n",
       "    </tr>\n",
       "    <tr>\n",
       "      <th>75%</th>\n",
       "      <td>0.515139</td>\n",
       "      <td>0.412443</td>\n",
       "      <td>0.796244</td>\n",
       "      <td>0.688486</td>\n",
       "      <td>0.506057</td>\n",
       "      <td>0.848489</td>\n",
       "      <td>0.678288</td>\n",
       "      <td>0.811777</td>\n",
       "      <td>0.896525</td>\n",
       "      <td>0.528436</td>\n",
       "      <td>0.723928</td>\n",
       "      <td>0.342742</td>\n",
       "      <td>0.589525</td>\n",
       "    </tr>\n",
       "    <tr>\n",
       "      <th>max</th>\n",
       "      <td>3.879327</td>\n",
       "      <td>2.759676</td>\n",
       "      <td>2.987912</td>\n",
       "      <td>2.562655</td>\n",
       "      <td>1.748558</td>\n",
       "      <td>3.974551</td>\n",
       "      <td>4.040076</td>\n",
       "      <td>1.834564</td>\n",
       "      <td>2.674612</td>\n",
       "      <td>3.173226</td>\n",
       "      <td>6.689149</td>\n",
       "      <td>3.130979</td>\n",
       "      <td>3.441559</td>\n",
       "    </tr>\n",
       "  </tbody>\n",
       "</table>\n",
       "</div>"
      ],
      "text/plain": [
       "       WTI_SS_yun  Copper_SS_yun  Soybeans_SS_yun  Natural Gas_SS_yun  \\\n",
       "count   94.000000      94.000000        94.000000           94.000000   \n",
       "mean    -0.046560      -0.151935         0.158702           -0.001416   \n",
       "std      1.116542       0.986746         1.140603            0.975567   \n",
       "min     -3.755452      -4.281991        -3.578469           -2.087724   \n",
       "25%     -0.529745      -0.692793        -0.534923           -0.585450   \n",
       "50%      0.082344      -0.298726         0.027747           -0.078682   \n",
       "75%      0.515139       0.412443         0.796244            0.688486   \n",
       "max      3.879327       2.759676         2.987912            2.562655   \n",
       "\n",
       "       Heating Oil_SS_yun  Corn_SS_yun  Wheat_SS_yun  Cattle_SS_yun  \\\n",
       "count           94.000000    94.000000     94.000000      94.000000   \n",
       "mean            -0.153214     0.271715      0.147639      -0.020189   \n",
       "std              0.963172     1.089934      1.083590       1.040120   \n",
       "min             -3.479765    -2.917356     -2.913521      -3.321206   \n",
       "25%             -0.578672    -0.322636     -0.559743      -0.760703   \n",
       "50%             -0.033070     0.158283     -0.041941       0.073698   \n",
       "75%              0.506057     0.848489      0.678288       0.811777   \n",
       "max              1.748558     3.974551      4.040076       1.834564   \n",
       "\n",
       "       Lean Hogs_SS_yun  Sugar_SS_yun  Lumber_SS_yun  PMI_SS_yun  \\\n",
       "count         94.000000     94.000000      94.000000   94.000000   \n",
       "mean           0.150634      0.042247       0.105954   -0.177030   \n",
       "std            1.097781      0.918600       1.470259    1.048915   \n",
       "min           -2.026099     -1.857711      -2.360196   -4.147665   \n",
       "25%           -0.704479     -0.517446      -0.778532   -0.866544   \n",
       "50%            0.035594     -0.128461      -0.174865   -0.319213   \n",
       "75%            0.896525      0.528436       0.723928    0.342742   \n",
       "max            2.674612      3.173226       6.689149    3.130979   \n",
       "\n",
       "       USD Index_SS_yun  \n",
       "count         94.000000  \n",
       "mean           0.007469  \n",
       "std            1.020621  \n",
       "min           -2.129319  \n",
       "25%           -0.610996  \n",
       "50%           -0.060458  \n",
       "75%            0.589525  \n",
       "max            3.441559  "
      ]
     },
     "execution_count": 180,
     "metadata": {},
     "output_type": "execute_result"
    }
   ],
   "source": [
    "X_te_SS_y_uns.describe()"
   ]
  },
  {
   "cell_type": "markdown",
   "metadata": {},
   "source": [
    "Although the `mean` & `std` look close to 0 & 1, they are different to those in the scaled `Training` set which was scaled."
   ]
  },
  {
   "cell_type": "markdown",
   "metadata": {},
   "source": [
    "# 3.4.8.3 SS & LG together & metrics"
   ]
  },
  {
   "cell_type": "markdown",
   "metadata": {},
   "source": [
    "We will now pull together the `LG` & `SS` metrics together before sending out for metric review."
   ]
  },
  {
   "cell_type": "code",
   "execution_count": 181,
   "metadata": {},
   "outputs": [
    {
     "data": {
      "text/plain": [
       "Index(['WTI_SS_yun', 'Copper_SS_yun', 'Soybeans_SS_yun', 'Natural Gas_SS_yun',\n",
       "       'Heating Oil_SS_yun', 'Corn_SS_yun', 'Wheat_SS_yun', 'Cattle_SS_yun',\n",
       "       'Lean Hogs_SS_yun', 'Sugar_SS_yun', 'Lumber_SS_yun', 'PMI_SS_yun',\n",
       "       'USD Index_SS_yun'],\n",
       "      dtype='object')"
      ]
     },
     "execution_count": 181,
     "metadata": {},
     "output_type": "execute_result"
    }
   ],
   "source": [
    "X_tr_SS_y_uns.columns"
   ]
  },
  {
   "cell_type": "code",
   "execution_count": 182,
   "metadata": {},
   "outputs": [
    {
     "data": {
      "text/plain": [
       "Index(['Wages CPI_LG', 'Capacity Utilization_LG', 'GDP_LG', 'M2 Velocity_LG',\n",
       "       'Initial Jobless Claims_LG', 'Unemployment Rate_LG'],\n",
       "      dtype='object')"
      ]
     },
     "execution_count": 182,
     "metadata": {},
     "output_type": "execute_result"
    }
   ],
   "source": [
    "X_tr_LG_y_uns.columns"
   ]
  },
  {
   "cell_type": "code",
   "execution_count": 183,
   "metadata": {},
   "outputs": [],
   "source": [
    "X_tr_SS_LG = pd.concat([X_tr_SS_y_uns,X_tr_LG_y_uns],\n",
    "                    axis = 1, ignore_index=False)\n",
    "\n",
    "X_tr_SS_LG.columns = ['WTI_SS_yun', 'Copper_SS_yun', 'Soybeans_SS_yun', 'Natural Gas_SS_yun',\n",
    "       'Heating Oil_SS_yun', 'Corn_SS_yun', 'Wheat_SS_yun', 'Cattle_SS_yun',\n",
    "       'Lean Hogs_SS_yun', 'Sugar_SS_yun', 'Lumber_SS_yun', 'PMI_SS_yun',\n",
    "       'USD Index_SS_yun','Wages CPI_LG', 'Capacity Utilization_LG', 'GDP_LG', 'M2 Velocity_LG',\n",
    "       'Initial Jobless Claims_LG', 'Unemployment Rate_LG']"
   ]
  },
  {
   "cell_type": "code",
   "execution_count": 184,
   "metadata": {},
   "outputs": [],
   "source": [
    "X_te_SS_LG = pd.concat([X_te_SS_y_uns,X_te_LG_y_uns],\n",
    "                    axis = 1, ignore_index=False)\n",
    "\n",
    "X_te_SS_LG.columns = ['WTI_SS_yun', 'Copper_SS_yun', 'Soybeans_SS_yun', 'Natural Gas_SS_yun',\n",
    "       'Heating Oil_SS_yun', 'Corn_SS_yun', 'Wheat_SS_yun', 'Cattle_SS_yun',\n",
    "       'Lean Hogs_SS_yun', 'Sugar_SS_yun', 'Lumber_SS_yun', 'PMI_SS_yun',\n",
    "       'USD Index_SS_yun','Wages CPI_LG', 'Capacity Utilization_LG', 'GDP_LG', 'M2 Velocity_LG',\n",
    "       'Initial Jobless Claims_LG', 'Unemployment Rate_LG']"
   ]
  },
  {
   "cell_type": "markdown",
   "metadata": {},
   "source": [
    "As a reminder, `y_tr_y_uns` & `y_te_y_uns` will not be scaled or fit."
   ]
  },
  {
   "cell_type": "code",
   "execution_count": 185,
   "metadata": {},
   "outputs": [
    {
     "name": "stderr",
     "output_type": "stream",
     "text": [
      "C:\\Users\\rands\\anaconda3\\lib\\site-packages\\sklearn\\utils\\validation.py:67: FutureWarning: Pass dual=     Inflation\n",
      "101     -0.523\n",
      "193      0.571\n",
      "72      -0.414\n",
      "298     -0.023\n",
      "15       0.301\n",
      "..         ...\n",
      "188     -0.908\n",
      "71      -0.328\n",
      "106      0.309\n",
      "270      0.323\n",
      "102     -0.600\n",
      "\n",
      "[218 rows x 1 columns] as keyword args. From version 0.25 passing these as positional arguments will result in an error\n",
      "  warnings.warn(\"Pass {} as keyword args. From version 0.25 \"\n"
     ]
    }
   ],
   "source": [
    "reg_main = LogisticRegression(X_tr_SS_LG,y_tr_y_uns)"
   ]
  },
  {
   "cell_type": "code",
   "execution_count": 186,
   "metadata": {},
   "outputs": [],
   "source": [
    "lm_main = LinearRegression().fit(X_tr_SS_LG, y_tr_y_uns)"
   ]
  },
  {
   "cell_type": "code",
   "execution_count": 187,
   "metadata": {},
   "outputs": [],
   "source": [
    "y_tr_pred_main = lm_main.predict(X_tr_SS_LG)\n",
    "y_te_pred_main = lm_main.predict(X_te_SS_LG)"
   ]
  },
  {
   "cell_type": "code",
   "execution_count": 188,
   "metadata": {},
   "outputs": [
    {
     "data": {
      "text/plain": [
       "(0.4066716621181088, -22.81097794886719)"
      ]
     },
     "execution_count": 188,
     "metadata": {},
     "output_type": "execute_result"
    }
   ],
   "source": [
    "median_r2_SS_LG = r2_score(y_tr_y_uns, y_tr_pred_main), r2_score(y_te_y_uns, y_te_pred_main)\n",
    "median_r2_SS_LG"
   ]
  },
  {
   "cell_type": "code",
   "execution_count": 189,
   "metadata": {},
   "outputs": [
    {
     "data": {
      "text/plain": [
       "(0.4376903652399685, 1.2751197727637549)"
      ]
     },
     "execution_count": 189,
     "metadata": {},
     "output_type": "execute_result"
    }
   ],
   "source": [
    "median_mae_SS_LG = mean_absolute_error(y_tr_y_uns, y_tr_pred_main), mean_absolute_error(y_te_y_uns, y_te_pred_main)\n",
    "median_mae_SS_LG"
   ]
  },
  {
   "cell_type": "code",
   "execution_count": 190,
   "metadata": {
    "scrolled": false
   },
   "outputs": [
    {
     "data": {
      "text/plain": [
       "(0.3803066412569139, 18.223859187815464)"
      ]
     },
     "execution_count": 190,
     "metadata": {},
     "output_type": "execute_result"
    }
   ],
   "source": [
    "median_mse_SS_LG = mean_squared_error(y_tr_y_uns, y_tr_pred_main), mean_squared_error(y_te_y_uns, y_te_pred_main)\n",
    "median_mse_SS_LG"
   ]
  },
  {
   "cell_type": "markdown",
   "metadata": {},
   "source": [
    "# 3.5 Conclusion"
   ]
  },
  {
   "cell_type": "markdown",
   "metadata": {},
   "source": [
    "A noteable amount of information was 're-arranged' so we will quickly show the r2-values for all of the scaling approaches side by side:"
   ]
  },
  {
   "cell_type": "code",
   "execution_count": 191,
   "metadata": {},
   "outputs": [
    {
     "name": "stdout",
     "output_type": "stream",
     "text": [
      " Results for X & y scaled below \n",
      " SS Train | 0.3966   Test 0.2796 \n",
      " MM Train | 0.0424   Test -0.1085 \n",
      " LG Train | 0.4149   Test -23.8319 \n",
      " \n",
      " Results for X only scaled below \n",
      " SS Train | 0.4185   Test 0.254 \n",
      " MM Train | -0.2444  Test -0.0533 \n",
      " LG Train | 0.4142   Test -23.4693 \n",
      " \n",
      " \n",
      " Results for the LG & SS combination below \n",
      " SS Train | 0.4067   Test -22.811 \n",
      " \n",
      " The averages of LG & SS X only scaled below \n",
      " Av. Train | 0.4164   Test -11.6077\n"
     ]
    }
   ],
   "source": [
    "print(' Results for X & y scaled below',\n",
    "    '\\n','SS Train |',round(median_r2_SS[0],4),'  Test', round(median_r2_SS[1],4),\n",
    "      '\\n','MM Train |',round(median_r2_MM[0],4),'  Test', round(median_r2_MM[1],4),\n",
    "      '\\n','LG Train |',round(median_r2_LG[0],4),'  Test', round(median_r2_LG[1],4),'\\n','\\n',\n",
    "     'Results for X only scaled below',\n",
    "    '\\n','SS Train |',round(median_r2_SS_y_uns[0],4),'  Test', round(median_r2_SS_y_uns[1],4),\n",
    "      '\\n','MM Train |',round(median_r2_MM_y_uns[0],4),' Test', round(median_r2_MM_y_uns[1],4),\n",
    "      '\\n','LG Train |',round(median_r2_LG_y_uns[0],4),'  Test', round(median_r2_LG_y_uns[1],4),'\\n','\\n','\\n',\n",
    "      'Results for the LG & SS combination below',\n",
    "    '\\n','SS Train |',round(median_r2_SS_LG[0],4),'  Test', round(median_r2_SS_LG[1],4),'\\n','\\n',\n",
    "      'The averages of LG & SS X only scaled below',\n",
    "    '\\n','Av. Train |',round((( median_r2_SS_y_uns[0] + median_r2_LG_y_uns[0] ) / 2),4),\n",
    "      '  Test', round((( median_r2_SS_y_uns[1] + median_r2_LG_y_uns[1] ) / 2),4)\n",
    "     )"
   ]
  },
  {
   "cell_type": "markdown",
   "metadata": {},
   "source": [
    "The results on both `y` scaled & unscaled for `MM` are not worth pursuing; as such, we will drop those moving forward.\n",
    "\n",
    "The best results are presented in the `SS` & `LG` scaled & unscaled `y` as well as a combination of them both; as such, we will proceed forwards with them.\n",
    "\n",
    "To clarify, there are x5 in total; reiterated below:"
   ]
  },
  {
   "cell_type": "code",
   "execution_count": 199,
   "metadata": {},
   "outputs": [
    {
     "name": "stdout",
     "output_type": "stream",
     "text": [
      " Results for X & y scaled below \n",
      " SS Train | 0.3966   Test 0.2796 \n",
      " LG Train | 0.4149   Test -23.8319 \n",
      " \n",
      " Results for X only scaled below \n",
      " SS Train | 0.4185   Test 0.254 \n",
      " LG Train | 0.4142   Test -23.4693 \n",
      " \n",
      " Results for the LG & SS combination below \n",
      " SS Train | 0.4067   Test -22.811\n"
     ]
    }
   ],
   "source": [
    "print(' Results for X & y scaled below',\n",
    "    '\\n','SS Train |',round(median_r2_SS[0],4),'  Test', round(median_r2_SS[1],4),\n",
    "      '\\n','LG Train |',round(median_r2_LG[0],4),'  Test', round(median_r2_LG[1],4),'\\n','\\n',\n",
    "     'Results for X only scaled below',\n",
    "    '\\n','SS Train |',round(median_r2_SS_y_uns[0],4),'  Test', round(median_r2_SS_y_uns[1],4),\n",
    "      '\\n','LG Train |',round(median_r2_LG_y_uns[0],4),'  Test', round(median_r2_LG_y_uns[1],4),'\\n','\\n',\n",
    "      'Results for the LG & SS combination below',\n",
    "    '\\n','SS Train |',round(median_r2_SS_LG[0],4),'  Test', round(median_r2_SS_LG[1],4)\n",
    "     )"
   ]
  },
  {
   "cell_type": "markdown",
   "metadata": {},
   "source": [
    "We will now proceed to the modeling section & saving all relevant dataframes below:"
   ]
  },
  {
   "cell_type": "markdown",
   "metadata": {},
   "source": [
    "**`X` & `y` Standard Scaled**"
   ]
  },
  {
   "cell_type": "code",
   "execution_count": 218,
   "metadata": {},
   "outputs": [
    {
     "name": "stdout",
     "output_type": "stream",
     "text": [
      "Finished on all\n"
     ]
    }
   ],
   "source": [
    "# Training Data\n",
    "X_train_SS_csv = pd.DataFrame(X_train_SS)\n",
    "X_train_SS_csv.to_excel('./_Capstone_One_Inflation/data/4.0 Pre Processing Data/X_train_SS.xlsx')\n",
    "\n",
    "y_train_SS_csv = pd.DataFrame(y_train_SS)\n",
    "y_train_SS_csv.to_excel('./_Capstone_One_Inflation/data/4.0 Pre Processing Data/y_train_SS.xlsx')\n",
    "\n",
    "X_test_SS_csv = pd.DataFrame(X_test_SS)\n",
    "X_test_SS_csv.to_excel('./_Capstone_One_Inflation/data/4.0 Pre Processing Data/X_test_SS.xlsx')\n",
    "\n",
    "y_test_SS_csv = pd.DataFrame(y_test_SS)\n",
    "y_test_SS_csv.to_excel('./_Capstone_One_Inflation/data/4.0 Pre Processing Data/y_test_SS.xlsx')\n",
    "\n",
    "print('Finished on all')"
   ]
  },
  {
   "cell_type": "markdown",
   "metadata": {},
   "source": [
    "**`X` only Standard Scaled**"
   ]
  },
  {
   "cell_type": "code",
   "execution_count": 216,
   "metadata": {},
   "outputs": [
    {
     "name": "stdout",
     "output_type": "stream",
     "text": [
      "Finished on all\n"
     ]
    }
   ],
   "source": [
    "# Training Data\n",
    "X_train_SS_y_uns_csv = pd.DataFrame(X_train_SS_y_uns)\n",
    "X_train_SS_y_uns_csv.to_excel('./_Capstone_One_Inflation/data/4.0 Pre Processing Data/X_train_SS_y_uns.xlsx')\n",
    "\n",
    "y_train_SS_y_uns_csv = pd.DataFrame(y_train_SS_y_uns)\n",
    "y_train_SS_y_uns_csv.to_excel('./_Capstone_One_Inflation/data/4.0 Pre Processing Data/y_train_SS_y_uns.xlsx')\n",
    "\n",
    "# Test Data\n",
    "X_test_SS_y_uns_csv = pd.DataFrame(X_test_SS_y_uns)\n",
    "X_test_SS_y_uns_csv.to_excel('./_Capstone_One_Inflation/data/4.0 Pre Processing Data/X_test_SS_y_uns.xlsx')\n",
    "\n",
    "y_test_SS_y_uns_csv = pd.DataFrame(y_test_SS)\n",
    "y_test_SS_y_uns_csv.to_excel('./_Capstone_One_Inflation/data/4.0 Pre Processing Data/y_test_y_uns_SS.xlsx')\n",
    "\n",
    "print('Finished on all')"
   ]
  },
  {
   "cell_type": "markdown",
   "metadata": {},
   "source": [
    "**`X` & `y` Log Scaled**"
   ]
  },
  {
   "cell_type": "code",
   "execution_count": 217,
   "metadata": {},
   "outputs": [
    {
     "name": "stdout",
     "output_type": "stream",
     "text": [
      "Finished on all\n"
     ]
    }
   ],
   "source": [
    "# Training Data\n",
    "X_train_LG_y_uns_csv = pd.DataFrame(X_train_LG_y_uns)\n",
    "X_train_LG_y_uns_csv.to_excel('./_Capstone_One_Inflation/data/4.0 Pre Processing Data/X_train_LG_y_uns.xlsx')\n",
    "\n",
    "y_train_LG_y_uns_csv = pd.DataFrame(y_train_LG_y_uns)\n",
    "y_train_LG_y_uns_csv.to_excel('./_Capstone_One_Inflation/data/4.0 Pre Processing Data/y_train_LG_y_uns.xlsx')\n",
    "\n",
    "# Test Data\n",
    "X_test_LG_y_uns_csv = pd.DataFrame(X_test_LG_y_uns)\n",
    "X_test_LG_y_uns_csv.to_excel('./_Capstone_One_Inflation/data/4.0 Pre Processing Data/X_test_LG_y_uns.xlsx')\n",
    "\n",
    "y_test_LG_y_uns_csv = pd.DataFrame(y_test_LG)\n",
    "y_test_LG_y_uns_csv.to_excel('./_Capstone_One_Inflation/data/4.0 Pre Processing Data/y_test_LG_y_uns.xlsx')\n",
    "\n",
    "print('Finished on all')"
   ]
  },
  {
   "cell_type": "markdown",
   "metadata": {},
   "source": [
    "**`X` only Log Scaled**"
   ]
  },
  {
   "cell_type": "code",
   "execution_count": null,
   "metadata": {},
   "outputs": [],
   "source": [
    "# Training Data\n",
    "X_train_LG_csv = pd.DataFrame(X_train_LG)\n",
    "X_train_LG_csv.to_excel('./_Capstone_One_Inflation/data/4.0 Pre Processing Data/X_train_LG.xlsx')\n",
    "\n",
    "y_train_LG_csv = pd.DataFrame(y_train_LG)\n",
    "y_train_LG_csv.to_excel('./_Capstone_One_Inflation/data/4.0 Pre Processing Data/y_train_LG.xlsx')\n",
    "\n",
    "# Test Data\n",
    "X_test_LG_csv = pd.DataFrame(X_test_LG)\n",
    "X_test_LG_csv.to_excel('./_Capstone_One_Inflation/data/4.0 Pre Processing Data/X_test_LG.xlsx')\n",
    "\n",
    "y_test_LG_csv = pd.DataFrame(y_test_LG)\n",
    "y_test_LG_csv.to_excel('./_Capstone_One_Inflation/data/4.0 Pre Processing Data/y_test_LG.xlsx')\n",
    "\n",
    "print('Finished on all')"
   ]
  },
  {
   "cell_type": "markdown",
   "metadata": {},
   "source": [
    "**`X` & `y` `SS` & `LG` Combination**"
   ]
  },
  {
   "cell_type": "code",
   "execution_count": 215,
   "metadata": {},
   "outputs": [
    {
     "name": "stdout",
     "output_type": "stream",
     "text": [
      "Finished on all\n"
     ]
    }
   ],
   "source": [
    "# Training Data\n",
    "X_tr_SS_LG_csv = pd.DataFrame(X_tr_SS_LG)\n",
    "X_tr_SS_LG_csv.to_excel('./_Capstone_One_Inflation/data/4.0 Pre Processing Data/X_tr_SS_LG.xlsx')\n",
    "\n",
    "y_tr_y_uns_csv = pd.DataFrame(y_tr_y_uns)\n",
    "y_tr_y_uns_csv.to_excel('./_Capstone_One_Inflation/data/4.0 Pre Processing Data/y_tr_y_uns.xlsx')\n",
    "\n",
    "# Test Data\n",
    "X_te_SS_LG_csv = pd.DataFrame(X_te_SS_LG)\n",
    "X_te_SS_LG_csv.to_excel('./_Capstone_One_Inflation/data/4.0 Pre Processing Data/X_te_SS_LG.xlsx')\n",
    "\n",
    "y_te_y_uns_csv = pd.DataFrame(y_te_y_uns)\n",
    "y_te_y_uns_csv.to_excel('./_Capstone_One_Inflation/data/4.0 Pre Processing Data/y_te_y_uns.xlsx')\n",
    "\n",
    "print('Finished on all')"
   ]
  },
  {
   "cell_type": "code",
   "execution_count": null,
   "metadata": {},
   "outputs": [],
   "source": []
  }
 ],
 "metadata": {
  "kernelspec": {
   "display_name": "Python 3",
   "language": "python",
   "name": "python3"
  },
  "language_info": {
   "codemirror_mode": {
    "name": "ipython",
    "version": 3
   },
   "file_extension": ".py",
   "mimetype": "text/x-python",
   "name": "python",
   "nbconvert_exporter": "python",
   "pygments_lexer": "ipython3",
   "version": "3.8.5"
  }
 },
 "nbformat": 4,
 "nbformat_minor": 4
}
